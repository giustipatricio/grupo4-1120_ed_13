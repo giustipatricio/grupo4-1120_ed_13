{
 "cells": [
  {
   "cell_type": "code",
   "execution_count": 29,
   "metadata": {},
   "outputs": [],
   "source": [
    "import pandas as pd\n",
    "import numpy as np\n",
    "import plotly.express as px"
   ]
  },
  {
   "cell_type": "code",
   "execution_count": 30,
   "metadata": {},
   "outputs": [],
   "source": [
    "df = pd.read_csv(\"Data/properati.csv\", sep=\",\")"
   ]
  },
  {
   "cell_type": "code",
   "execution_count": 31,
   "metadata": {
    "scrolled": true
   },
   "outputs": [
    {
     "data": {
      "text/plain": [
       "(121220, 26)"
      ]
     },
     "execution_count": 31,
     "metadata": {},
     "output_type": "execute_result"
    }
   ],
   "source": [
    "df.shape"
   ]
  },
  {
   "cell_type": "code",
   "execution_count": 32,
   "metadata": {},
   "outputs": [
    {
     "data": {
      "text/plain": [
       "array(['Capital Federal', 'Bs.As. G.B.A. Zona Sur',\n",
       "       'Buenos Aires Costa Atlántica', 'Entre Ríos',\n",
       "       'Bs.As. G.B.A. Zona Norte', 'Santa Fe', 'Córdoba',\n",
       "       'Bs.As. G.B.A. Zona Oeste', 'Misiones', 'Buenos Aires Interior',\n",
       "       'Salta', 'Neuquén', 'Río Negro', 'San Luis', 'Mendoza',\n",
       "       'Corrientes', 'Chubut', 'Tucumán', 'La Pampa', 'Chaco', 'San Juan',\n",
       "       'Santa Cruz', 'Tierra Del Fuego', 'Catamarca',\n",
       "       'Santiago Del Estero', 'Jujuy', 'La Rioja', 'Formosa'],\n",
       "      dtype=object)"
      ]
     },
     "execution_count": 32,
     "metadata": {},
     "output_type": "execute_result"
    }
   ],
   "source": [
    "df[\"state_name\"].unique()"
   ]
  },
  {
   "cell_type": "markdown",
   "metadata": {},
   "source": [
    "# Tratamiento por provincia"
   ]
  },
  {
   "cell_type": "code",
   "execution_count": 33,
   "metadata": {},
   "outputs": [],
   "source": [
    "provincias = df.query(' state_name != \"Capital Federal\" & state_name != \"Bs.As. G.B.A. Zona Sur\" & state_name != \"Buenos Aires Costa Atlántica\" & state_name != \"Bs.As. G.B.A. Zona Norte\" & state_name != \"Bs.As. G.B.A. Zona Oeste\" & state_name != \"Buenos Aires Interior\"')"
   ]
  },
  {
   "cell_type": "code",
   "execution_count": 34,
   "metadata": {
    "scrolled": true
   },
   "outputs": [
    {
     "data": {
      "text/plain": [
       "(27773, 26)"
      ]
     },
     "execution_count": 34,
     "metadata": {},
     "output_type": "execute_result"
    }
   ],
   "source": [
    "provincias.shape"
   ]
  },
  {
   "cell_type": "code",
   "execution_count": 35,
   "metadata": {},
   "outputs": [
    {
     "data": {
      "text/plain": [
       "Index(['Unnamed: 0', 'operation', 'property_type', 'place_name',\n",
       "       'place_with_parent_names', 'country_name', 'state_name', 'geonames_id',\n",
       "       'lat-lon', 'lat', 'lon', 'price', 'currency',\n",
       "       'price_aprox_local_currency', 'price_aprox_usd', 'surface_total_in_m2',\n",
       "       'surface_covered_in_m2', 'price_usd_per_m2', 'price_per_m2', 'floor',\n",
       "       'rooms', 'expenses', 'properati_url', 'description', 'title',\n",
       "       'image_thumbnail'],\n",
       "      dtype='object')"
      ]
     },
     "execution_count": 35,
     "metadata": {},
     "output_type": "execute_result"
    }
   ],
   "source": [
    "provincias.columns"
   ]
  },
  {
   "cell_type": "markdown",
   "metadata": {},
   "source": [
    "### Descubrimos cuantos datos faltantes hay en este subset "
   ]
  },
  {
   "cell_type": "code",
   "execution_count": 36,
   "metadata": {},
   "outputs": [
    {
     "data": {
      "text/plain": [
       "14495"
      ]
     },
     "execution_count": 36,
     "metadata": {},
     "output_type": "execute_result"
    }
   ],
   "source": [
    "len(provincias) - len(provincias['price_per_m2'].dropna()) ## Este dato indica cuantos son los valores faltantes en el dataframe                                                                                                      "
   ]
  },
  {
   "cell_type": "code",
   "execution_count": 37,
   "metadata": {},
   "outputs": [
    {
     "name": "stderr",
     "output_type": "stream",
     "text": [
      "C:\\Users\\pato-\\anaconda3\\envs\\dhdsblend\\lib\\site-packages\\ipykernel_launcher.py:1: SettingWithCopyWarning:\n",
      "\n",
      "\n",
      "A value is trying to be set on a copy of a slice from a DataFrame.\n",
      "Try using .loc[row_indexer,col_indexer] = value instead\n",
      "\n",
      "See the caveats in the documentation: https://pandas.pydata.org/pandas-docs/stable/user_guide/indexing.html#returning-a-view-versus-a-copy\n",
      "\n"
     ]
    }
   ],
   "source": [
    "provincias['nulos'] = pd.isnull(provincias['price_per_m2'])\n"
   ]
  },
  {
   "cell_type": "code",
   "execution_count": 38,
   "metadata": {
    "scrolled": true
   },
   "outputs": [
    {
     "data": {
      "text/html": [
       "<div>\n",
       "<style scoped>\n",
       "    .dataframe tbody tr th:only-of-type {\n",
       "        vertical-align: middle;\n",
       "    }\n",
       "\n",
       "    .dataframe tbody tr th {\n",
       "        vertical-align: top;\n",
       "    }\n",
       "\n",
       "    .dataframe thead th {\n",
       "        text-align: right;\n",
       "    }\n",
       "</style>\n",
       "<table border=\"1\" class=\"dataframe\">\n",
       "  <thead>\n",
       "    <tr style=\"text-align: right;\">\n",
       "      <th></th>\n",
       "      <th>Unnamed: 0</th>\n",
       "      <th>operation</th>\n",
       "      <th>property_type</th>\n",
       "      <th>place_name</th>\n",
       "      <th>place_with_parent_names</th>\n",
       "      <th>country_name</th>\n",
       "      <th>state_name</th>\n",
       "      <th>geonames_id</th>\n",
       "      <th>lat-lon</th>\n",
       "      <th>lat</th>\n",
       "      <th>...</th>\n",
       "      <th>price_usd_per_m2</th>\n",
       "      <th>price_per_m2</th>\n",
       "      <th>floor</th>\n",
       "      <th>rooms</th>\n",
       "      <th>expenses</th>\n",
       "      <th>properati_url</th>\n",
       "      <th>description</th>\n",
       "      <th>title</th>\n",
       "      <th>image_thumbnail</th>\n",
       "      <th>nulos</th>\n",
       "    </tr>\n",
       "  </thead>\n",
       "  <tbody>\n",
       "    <tr>\n",
       "      <th>5</th>\n",
       "      <td>5</td>\n",
       "      <td>sell</td>\n",
       "      <td>house</td>\n",
       "      <td>Gualeguaychú</td>\n",
       "      <td>|Argentina|Entre Ríos|Gualeguaychú|</td>\n",
       "      <td>Argentina</td>\n",
       "      <td>Entre Ríos</td>\n",
       "      <td>3433657.0</td>\n",
       "      <td>-33.0140714,-58.519828</td>\n",
       "      <td>-33.014071</td>\n",
       "      <td>...</td>\n",
       "      <td>NaN</td>\n",
       "      <td>NaN</td>\n",
       "      <td>NaN</td>\n",
       "      <td>NaN</td>\n",
       "      <td>NaN</td>\n",
       "      <td>http://www.properati.com.ar/15bop_venta_depart...</td>\n",
       "      <td>Casa en el perímetro del barrio 338, ubicada e...</td>\n",
       "      <td>Casa Barrio 338. Sobre calle 3 de caballería, ...</td>\n",
       "      <td>https://thumbs4.properati.com/6/q-w68gvaUEQVXI...</td>\n",
       "      <td>True</td>\n",
       "    </tr>\n",
       "    <tr>\n",
       "      <th>9</th>\n",
       "      <td>9</td>\n",
       "      <td>sell</td>\n",
       "      <td>house</td>\n",
       "      <td>Rosario</td>\n",
       "      <td>|Argentina|Santa Fe|Rosario|</td>\n",
       "      <td>Argentina</td>\n",
       "      <td>Santa Fe</td>\n",
       "      <td>3838574.0</td>\n",
       "      <td>-32.942031,-60.7259192</td>\n",
       "      <td>-32.942031</td>\n",
       "      <td>...</td>\n",
       "      <td>NaN</td>\n",
       "      <td>NaN</td>\n",
       "      <td>NaN</td>\n",
       "      <td>NaN</td>\n",
       "      <td>NaN</td>\n",
       "      <td>http://www.properati.com.ar/15box_venta_casa_r...</td>\n",
       "      <td>MEDNOZA AL 7600A UNA CUADRA DE CALLE MENDOZAWH...</td>\n",
       "      <td>WHITE 7637 - 2 DORMITORIOS CON PATIO</td>\n",
       "      <td>https://thumbs4.properati.com/8/RCf1YEWdF4rv98...</td>\n",
       "      <td>True</td>\n",
       "    </tr>\n",
       "    <tr>\n",
       "      <th>10</th>\n",
       "      <td>10</td>\n",
       "      <td>sell</td>\n",
       "      <td>house</td>\n",
       "      <td>Córdoba</td>\n",
       "      <td>|Argentina|Córdoba|Córdoba|</td>\n",
       "      <td>Argentina</td>\n",
       "      <td>Córdoba</td>\n",
       "      <td>3860259.0</td>\n",
       "      <td>-31.4200833,-64.1887761</td>\n",
       "      <td>-31.420083</td>\n",
       "      <td>...</td>\n",
       "      <td>46.235139</td>\n",
       "      <td>NaN</td>\n",
       "      <td>NaN</td>\n",
       "      <td>NaN</td>\n",
       "      <td>NaN</td>\n",
       "      <td>http://www.properati.com.ar/15boy_venta_casa_c...</td>\n",
       "      <td>Hermosa casa sin terminar de 3 dormitorios, ba...</td>\n",
       "      <td>Casa sin terminar en Falda de Cañete.         ...</td>\n",
       "      <td>https://thumbs4.properati.com/3/mQkhIxXpTTbMSc...</td>\n",
       "      <td>True</td>\n",
       "    </tr>\n",
       "    <tr>\n",
       "      <th>20</th>\n",
       "      <td>20</td>\n",
       "      <td>sell</td>\n",
       "      <td>house</td>\n",
       "      <td>Villa Giardino</td>\n",
       "      <td>|Argentina|Córdoba|Villa Giardino|</td>\n",
       "      <td>Argentina</td>\n",
       "      <td>Córdoba</td>\n",
       "      <td>3832729.0</td>\n",
       "      <td>-31.0529852,-64.4991278</td>\n",
       "      <td>-31.052985</td>\n",
       "      <td>...</td>\n",
       "      <td>NaN</td>\n",
       "      <td>NaN</td>\n",
       "      <td>NaN</td>\n",
       "      <td>NaN</td>\n",
       "      <td>NaN</td>\n",
       "      <td>http://www.properati.com.ar/15bqb_venta_casa_v...</td>\n",
       "      <td>Consta de: Comedor-cocina, cuatro dormitorios ...</td>\n",
       "      <td>Casa con excelente ubicaciòn, calle asfaltada,...</td>\n",
       "      <td>https://thumbs4.properati.com/1/9Z3PZS2TK7olUo...</td>\n",
       "      <td>True</td>\n",
       "    </tr>\n",
       "    <tr>\n",
       "      <th>32</th>\n",
       "      <td>32</td>\n",
       "      <td>sell</td>\n",
       "      <td>apartment</td>\n",
       "      <td>Córdoba</td>\n",
       "      <td>|Argentina|Córdoba|Córdoba|</td>\n",
       "      <td>Argentina</td>\n",
       "      <td>Córdoba</td>\n",
       "      <td>3860259.0</td>\n",
       "      <td>-31.4053736,-64.1562667</td>\n",
       "      <td>-31.405374</td>\n",
       "      <td>...</td>\n",
       "      <td>616.920400</td>\n",
       "      <td>11000.0</td>\n",
       "      <td>NaN</td>\n",
       "      <td>3.0</td>\n",
       "      <td>NaN</td>\n",
       "      <td>http://www.properati.com.ar/15bry_venta_depart...</td>\n",
       "      <td>EN VENTA, departamento ubicado en barrio Pueyr...</td>\n",
       "      <td>Departamento apto crédito! Barrio Pueyrredon</td>\n",
       "      <td>https://thumbs4.properati.com/0/VUXj3pHJP7wl8p...</td>\n",
       "      <td>False</td>\n",
       "    </tr>\n",
       "    <tr>\n",
       "      <th>...</th>\n",
       "      <td>...</td>\n",
       "      <td>...</td>\n",
       "      <td>...</td>\n",
       "      <td>...</td>\n",
       "      <td>...</td>\n",
       "      <td>...</td>\n",
       "      <td>...</td>\n",
       "      <td>...</td>\n",
       "      <td>...</td>\n",
       "      <td>...</td>\n",
       "      <td>...</td>\n",
       "      <td>...</td>\n",
       "      <td>...</td>\n",
       "      <td>...</td>\n",
       "      <td>...</td>\n",
       "      <td>...</td>\n",
       "      <td>...</td>\n",
       "      <td>...</td>\n",
       "      <td>...</td>\n",
       "      <td>...</td>\n",
       "      <td>...</td>\n",
       "    </tr>\n",
       "    <tr>\n",
       "      <th>121202</th>\n",
       "      <td>121202</td>\n",
       "      <td>sell</td>\n",
       "      <td>apartment</td>\n",
       "      <td>Córdoba</td>\n",
       "      <td>|Argentina|Córdoba|</td>\n",
       "      <td>Argentina</td>\n",
       "      <td>Córdoba</td>\n",
       "      <td>3860255.0</td>\n",
       "      <td>NaN</td>\n",
       "      <td>NaN</td>\n",
       "      <td>...</td>\n",
       "      <td>1625.348077</td>\n",
       "      <td>NaN</td>\n",
       "      <td>NaN</td>\n",
       "      <td>NaN</td>\n",
       "      <td>NaN</td>\n",
       "      <td>http://www.properati.com.ar/1cj71_venta_depart...</td>\n",
       "      <td>UBICACIÓNEstratégicamente ubicado en calle Obi...</td>\n",
       "      <td>Departamento - Nueva Cordoba</td>\n",
       "      <td>NaN</td>\n",
       "      <td>True</td>\n",
       "    </tr>\n",
       "    <tr>\n",
       "      <th>121203</th>\n",
       "      <td>121203</td>\n",
       "      <td>sell</td>\n",
       "      <td>apartment</td>\n",
       "      <td>Córdoba</td>\n",
       "      <td>|Argentina|Córdoba|</td>\n",
       "      <td>Argentina</td>\n",
       "      <td>Córdoba</td>\n",
       "      <td>3860255.0</td>\n",
       "      <td>NaN</td>\n",
       "      <td>NaN</td>\n",
       "      <td>...</td>\n",
       "      <td>1684.753600</td>\n",
       "      <td>NaN</td>\n",
       "      <td>NaN</td>\n",
       "      <td>NaN</td>\n",
       "      <td>NaN</td>\n",
       "      <td>http://www.properati.com.ar/1cj72_venta_depart...</td>\n",
       "      <td>UBICACIÓNEstratégicamente ubicado en calle Obi...</td>\n",
       "      <td>Departamento - Nueva Cordoba</td>\n",
       "      <td>NaN</td>\n",
       "      <td>True</td>\n",
       "    </tr>\n",
       "    <tr>\n",
       "      <th>121204</th>\n",
       "      <td>121204</td>\n",
       "      <td>sell</td>\n",
       "      <td>apartment</td>\n",
       "      <td>Córdoba</td>\n",
       "      <td>|Argentina|Córdoba|</td>\n",
       "      <td>Argentina</td>\n",
       "      <td>Córdoba</td>\n",
       "      <td>3860255.0</td>\n",
       "      <td>NaN</td>\n",
       "      <td>NaN</td>\n",
       "      <td>...</td>\n",
       "      <td>1684.753600</td>\n",
       "      <td>NaN</td>\n",
       "      <td>NaN</td>\n",
       "      <td>NaN</td>\n",
       "      <td>NaN</td>\n",
       "      <td>http://www.properati.com.ar/1cj73_venta_depart...</td>\n",
       "      <td>UBICACIÓNEstratégicamente ubicado en calle Obi...</td>\n",
       "      <td>Departamento - Nueva Cordoba</td>\n",
       "      <td>NaN</td>\n",
       "      <td>True</td>\n",
       "    </tr>\n",
       "    <tr>\n",
       "      <th>121205</th>\n",
       "      <td>121205</td>\n",
       "      <td>sell</td>\n",
       "      <td>apartment</td>\n",
       "      <td>Córdoba</td>\n",
       "      <td>|Argentina|Córdoba|</td>\n",
       "      <td>Argentina</td>\n",
       "      <td>Córdoba</td>\n",
       "      <td>3860255.0</td>\n",
       "      <td>NaN</td>\n",
       "      <td>NaN</td>\n",
       "      <td>...</td>\n",
       "      <td>1690.362000</td>\n",
       "      <td>NaN</td>\n",
       "      <td>NaN</td>\n",
       "      <td>NaN</td>\n",
       "      <td>NaN</td>\n",
       "      <td>http://www.properati.com.ar/1cj74_venta_depart...</td>\n",
       "      <td>UBICACIÓNEstratégicamente ubicado en calle Obi...</td>\n",
       "      <td>Departamento - Nueva Cordoba</td>\n",
       "      <td>NaN</td>\n",
       "      <td>True</td>\n",
       "    </tr>\n",
       "    <tr>\n",
       "      <th>121206</th>\n",
       "      <td>121206</td>\n",
       "      <td>sell</td>\n",
       "      <td>apartment</td>\n",
       "      <td>Córdoba</td>\n",
       "      <td>|Argentina|Córdoba|</td>\n",
       "      <td>Argentina</td>\n",
       "      <td>Córdoba</td>\n",
       "      <td>3860255.0</td>\n",
       "      <td>NaN</td>\n",
       "      <td>NaN</td>\n",
       "      <td>...</td>\n",
       "      <td>1690.362000</td>\n",
       "      <td>NaN</td>\n",
       "      <td>NaN</td>\n",
       "      <td>NaN</td>\n",
       "      <td>NaN</td>\n",
       "      <td>http://www.properati.com.ar/1cj75_venta_depart...</td>\n",
       "      <td>UBICACIÓNEstratégicamente ubicado en calle Obi...</td>\n",
       "      <td>Departamento - Nueva Cordoba</td>\n",
       "      <td>NaN</td>\n",
       "      <td>True</td>\n",
       "    </tr>\n",
       "  </tbody>\n",
       "</table>\n",
       "<p>27773 rows × 27 columns</p>\n",
       "</div>"
      ],
      "text/plain": [
       "        Unnamed: 0 operation property_type      place_name  \\\n",
       "5                5      sell         house    Gualeguaychú   \n",
       "9                9      sell         house         Rosario   \n",
       "10              10      sell         house         Córdoba   \n",
       "20              20      sell         house  Villa Giardino   \n",
       "32              32      sell     apartment         Córdoba   \n",
       "...            ...       ...           ...             ...   \n",
       "121202      121202      sell     apartment         Córdoba   \n",
       "121203      121203      sell     apartment         Córdoba   \n",
       "121204      121204      sell     apartment         Córdoba   \n",
       "121205      121205      sell     apartment         Córdoba   \n",
       "121206      121206      sell     apartment         Córdoba   \n",
       "\n",
       "                    place_with_parent_names country_name  state_name  \\\n",
       "5       |Argentina|Entre Ríos|Gualeguaychú|    Argentina  Entre Ríos   \n",
       "9              |Argentina|Santa Fe|Rosario|    Argentina    Santa Fe   \n",
       "10              |Argentina|Córdoba|Córdoba|    Argentina     Córdoba   \n",
       "20       |Argentina|Córdoba|Villa Giardino|    Argentina     Córdoba   \n",
       "32              |Argentina|Córdoba|Córdoba|    Argentina     Córdoba   \n",
       "...                                     ...          ...         ...   \n",
       "121202                  |Argentina|Córdoba|    Argentina     Córdoba   \n",
       "121203                  |Argentina|Córdoba|    Argentina     Córdoba   \n",
       "121204                  |Argentina|Córdoba|    Argentina     Córdoba   \n",
       "121205                  |Argentina|Córdoba|    Argentina     Córdoba   \n",
       "121206                  |Argentina|Córdoba|    Argentina     Córdoba   \n",
       "\n",
       "        geonames_id                  lat-lon        lat  ...  \\\n",
       "5         3433657.0   -33.0140714,-58.519828 -33.014071  ...   \n",
       "9         3838574.0   -32.942031,-60.7259192 -32.942031  ...   \n",
       "10        3860259.0  -31.4200833,-64.1887761 -31.420083  ...   \n",
       "20        3832729.0  -31.0529852,-64.4991278 -31.052985  ...   \n",
       "32        3860259.0  -31.4053736,-64.1562667 -31.405374  ...   \n",
       "...             ...                      ...        ...  ...   \n",
       "121202    3860255.0                      NaN        NaN  ...   \n",
       "121203    3860255.0                      NaN        NaN  ...   \n",
       "121204    3860255.0                      NaN        NaN  ...   \n",
       "121205    3860255.0                      NaN        NaN  ...   \n",
       "121206    3860255.0                      NaN        NaN  ...   \n",
       "\n",
       "        price_usd_per_m2  price_per_m2 floor  rooms  expenses  \\\n",
       "5                    NaN           NaN   NaN    NaN       NaN   \n",
       "9                    NaN           NaN   NaN    NaN       NaN   \n",
       "10             46.235139           NaN   NaN    NaN       NaN   \n",
       "20                   NaN           NaN   NaN    NaN       NaN   \n",
       "32            616.920400       11000.0   NaN    3.0       NaN   \n",
       "...                  ...           ...   ...    ...       ...   \n",
       "121202       1625.348077           NaN   NaN    NaN       NaN   \n",
       "121203       1684.753600           NaN   NaN    NaN       NaN   \n",
       "121204       1684.753600           NaN   NaN    NaN       NaN   \n",
       "121205       1690.362000           NaN   NaN    NaN       NaN   \n",
       "121206       1690.362000           NaN   NaN    NaN       NaN   \n",
       "\n",
       "                                            properati_url  \\\n",
       "5       http://www.properati.com.ar/15bop_venta_depart...   \n",
       "9       http://www.properati.com.ar/15box_venta_casa_r...   \n",
       "10      http://www.properati.com.ar/15boy_venta_casa_c...   \n",
       "20      http://www.properati.com.ar/15bqb_venta_casa_v...   \n",
       "32      http://www.properati.com.ar/15bry_venta_depart...   \n",
       "...                                                   ...   \n",
       "121202  http://www.properati.com.ar/1cj71_venta_depart...   \n",
       "121203  http://www.properati.com.ar/1cj72_venta_depart...   \n",
       "121204  http://www.properati.com.ar/1cj73_venta_depart...   \n",
       "121205  http://www.properati.com.ar/1cj74_venta_depart...   \n",
       "121206  http://www.properati.com.ar/1cj75_venta_depart...   \n",
       "\n",
       "                                              description  \\\n",
       "5       Casa en el perímetro del barrio 338, ubicada e...   \n",
       "9       MEDNOZA AL 7600A UNA CUADRA DE CALLE MENDOZAWH...   \n",
       "10      Hermosa casa sin terminar de 3 dormitorios, ba...   \n",
       "20      Consta de: Comedor-cocina, cuatro dormitorios ...   \n",
       "32      EN VENTA, departamento ubicado en barrio Pueyr...   \n",
       "...                                                   ...   \n",
       "121202  UBICACIÓNEstratégicamente ubicado en calle Obi...   \n",
       "121203  UBICACIÓNEstratégicamente ubicado en calle Obi...   \n",
       "121204  UBICACIÓNEstratégicamente ubicado en calle Obi...   \n",
       "121205  UBICACIÓNEstratégicamente ubicado en calle Obi...   \n",
       "121206  UBICACIÓNEstratégicamente ubicado en calle Obi...   \n",
       "\n",
       "                                                    title  \\\n",
       "5       Casa Barrio 338. Sobre calle 3 de caballería, ...   \n",
       "9              WHITE 7637 - 2 DORMITORIOS CON PATIO         \n",
       "10      Casa sin terminar en Falda de Cañete.         ...   \n",
       "20      Casa con excelente ubicaciòn, calle asfaltada,...   \n",
       "32           Departamento apto crédito! Barrio Pueyrredon   \n",
       "...                                                   ...   \n",
       "121202                       Departamento - Nueva Cordoba   \n",
       "121203                       Departamento - Nueva Cordoba   \n",
       "121204                       Departamento - Nueva Cordoba   \n",
       "121205                       Departamento - Nueva Cordoba   \n",
       "121206                       Departamento - Nueva Cordoba   \n",
       "\n",
       "                                          image_thumbnail  nulos  \n",
       "5       https://thumbs4.properati.com/6/q-w68gvaUEQVXI...   True  \n",
       "9       https://thumbs4.properati.com/8/RCf1YEWdF4rv98...   True  \n",
       "10      https://thumbs4.properati.com/3/mQkhIxXpTTbMSc...   True  \n",
       "20      https://thumbs4.properati.com/1/9Z3PZS2TK7olUo...   True  \n",
       "32      https://thumbs4.properati.com/0/VUXj3pHJP7wl8p...  False  \n",
       "...                                                   ...    ...  \n",
       "121202                                                NaN   True  \n",
       "121203                                                NaN   True  \n",
       "121204                                                NaN   True  \n",
       "121205                                                NaN   True  \n",
       "121206                                                NaN   True  \n",
       "\n",
       "[27773 rows x 27 columns]"
      ]
     },
     "execution_count": 38,
     "metadata": {},
     "output_type": "execute_result"
    }
   ],
   "source": [
    "provincias"
   ]
  },
  {
   "cell_type": "code",
   "execution_count": 60,
   "metadata": {
    "scrolled": true
   },
   "outputs": [
    {
     "name": "stderr",
     "output_type": "stream",
     "text": [
      "C:\\Users\\pato-\\anaconda3\\envs\\dhdsblend\\lib\\site-packages\\ipykernel_launcher.py:1: SettingWithCopyWarning:\n",
      "\n",
      "\n",
      "A value is trying to be set on a copy of a slice from a DataFrame.\n",
      "Try using .loc[row_indexer,col_indexer] = value instead\n",
      "\n",
      "See the caveats in the documentation: https://pandas.pydata.org/pandas-docs/stable/user_guide/indexing.html#returning-a-view-versus-a-copy\n",
      "\n"
     ]
    },
    {
     "data": {
      "text/html": [
       "<div>\n",
       "<style scoped>\n",
       "    .dataframe tbody tr th:only-of-type {\n",
       "        vertical-align: middle;\n",
       "    }\n",
       "\n",
       "    .dataframe tbody tr th {\n",
       "        vertical-align: top;\n",
       "    }\n",
       "\n",
       "    .dataframe thead th {\n",
       "        text-align: right;\n",
       "    }\n",
       "</style>\n",
       "<table border=\"1\" class=\"dataframe\">\n",
       "  <thead>\n",
       "    <tr style=\"text-align: right;\">\n",
       "      <th></th>\n",
       "      <th>state_name</th>\n",
       "      <th>price_per_m2</th>\n",
       "      <th>price_usd_per_m2</th>\n",
       "      <th>nulos</th>\n",
       "    </tr>\n",
       "  </thead>\n",
       "  <tbody>\n",
       "    <tr>\n",
       "      <th>5</th>\n",
       "      <td>Entre Ríos</td>\n",
       "      <td>NaN</td>\n",
       "      <td>NaN</td>\n",
       "      <td>True</td>\n",
       "    </tr>\n",
       "    <tr>\n",
       "      <th>9</th>\n",
       "      <td>Santa Fe</td>\n",
       "      <td>NaN</td>\n",
       "      <td>NaN</td>\n",
       "      <td>True</td>\n",
       "    </tr>\n",
       "    <tr>\n",
       "      <th>10</th>\n",
       "      <td>Córdoba</td>\n",
       "      <td>NaN</td>\n",
       "      <td>46.235139</td>\n",
       "      <td>True</td>\n",
       "    </tr>\n",
       "    <tr>\n",
       "      <th>20</th>\n",
       "      <td>Córdoba</td>\n",
       "      <td>NaN</td>\n",
       "      <td>NaN</td>\n",
       "      <td>True</td>\n",
       "    </tr>\n",
       "    <tr>\n",
       "      <th>32</th>\n",
       "      <td>Córdoba</td>\n",
       "      <td>11000.0</td>\n",
       "      <td>616.920400</td>\n",
       "      <td>False</td>\n",
       "    </tr>\n",
       "    <tr>\n",
       "      <th>...</th>\n",
       "      <td>...</td>\n",
       "      <td>...</td>\n",
       "      <td>...</td>\n",
       "      <td>...</td>\n",
       "    </tr>\n",
       "    <tr>\n",
       "      <th>121202</th>\n",
       "      <td>Córdoba</td>\n",
       "      <td>NaN</td>\n",
       "      <td>1625.348077</td>\n",
       "      <td>True</td>\n",
       "    </tr>\n",
       "    <tr>\n",
       "      <th>121203</th>\n",
       "      <td>Córdoba</td>\n",
       "      <td>NaN</td>\n",
       "      <td>1684.753600</td>\n",
       "      <td>True</td>\n",
       "    </tr>\n",
       "    <tr>\n",
       "      <th>121204</th>\n",
       "      <td>Córdoba</td>\n",
       "      <td>NaN</td>\n",
       "      <td>1684.753600</td>\n",
       "      <td>True</td>\n",
       "    </tr>\n",
       "    <tr>\n",
       "      <th>121205</th>\n",
       "      <td>Córdoba</td>\n",
       "      <td>NaN</td>\n",
       "      <td>1690.362000</td>\n",
       "      <td>True</td>\n",
       "    </tr>\n",
       "    <tr>\n",
       "      <th>121206</th>\n",
       "      <td>Córdoba</td>\n",
       "      <td>NaN</td>\n",
       "      <td>1690.362000</td>\n",
       "      <td>True</td>\n",
       "    </tr>\n",
       "  </tbody>\n",
       "</table>\n",
       "<p>27773 rows × 4 columns</p>\n",
       "</div>"
      ],
      "text/plain": [
       "        state_name  price_per_m2  price_usd_per_m2  nulos\n",
       "5       Entre Ríos           NaN               NaN   True\n",
       "9         Santa Fe           NaN               NaN   True\n",
       "10         Córdoba           NaN         46.235139   True\n",
       "20         Córdoba           NaN               NaN   True\n",
       "32         Córdoba       11000.0        616.920400  False\n",
       "...            ...           ...               ...    ...\n",
       "121202     Córdoba           NaN       1625.348077   True\n",
       "121203     Córdoba           NaN       1684.753600   True\n",
       "121204     Córdoba           NaN       1684.753600   True\n",
       "121205     Córdoba           NaN       1690.362000   True\n",
       "121206     Córdoba           NaN       1690.362000   True\n",
       "\n",
       "[27773 rows x 4 columns]"
      ]
     },
     "execution_count": 60,
     "metadata": {},
     "output_type": "execute_result"
    }
   ],
   "source": [
    "provincias['counter'] = 1\n",
    "\n",
    "provincias[['state_name','price_per_m2','price_usd_per_m2','nulos']]"
   ]
  },
  {
   "cell_type": "code",
   "execution_count": 61,
   "metadata": {},
   "outputs": [
    {
     "data": {
      "text/plain": [
       "Index(['Unnamed: 0', 'operation', 'property_type', 'place_name',\n",
       "       'place_with_parent_names', 'country_name', 'state_name', 'geonames_id',\n",
       "       'lat-lon', 'lat', 'lon', 'price', 'currency',\n",
       "       'price_aprox_local_currency', 'price_aprox_usd', 'surface_total_in_m2',\n",
       "       'surface_covered_in_m2', 'price_usd_per_m2', 'price_per_m2', 'floor',\n",
       "       'rooms', 'expenses', 'properati_url', 'description', 'title',\n",
       "       'image_thumbnail', 'nulos', 'counter'],\n",
       "      dtype='object')"
      ]
     },
     "execution_count": 61,
     "metadata": {},
     "output_type": "execute_result"
    }
   ],
   "source": [
    "provincias.columns"
   ]
  },
  {
   "cell_type": "code",
   "execution_count": 62,
   "metadata": {},
   "outputs": [],
   "source": [
    "provincias_group1 = provincias.groupby(by=['state_name','nulos'],as_index=False)['counter'].sum()"
   ]
  },
  {
   "cell_type": "code",
   "execution_count": 63,
   "metadata": {},
   "outputs": [],
   "source": [
    "provincias_group1['nulos'] = provincias_group1['nulos'].astype(str)"
   ]
  },
  {
   "cell_type": "code",
   "execution_count": 64,
   "metadata": {
    "scrolled": true
   },
   "outputs": [],
   "source": [
    "provincias_group1['nulos'] = provincias_group1.nulos.str.replace('False','Hay datos')\n",
    "provincias_group1['nulos'] = provincias_group1.nulos.str.replace('True','No hay datos')"
   ]
  },
  {
   "cell_type": "markdown",
   "metadata": {},
   "source": [
    "# # Graficamente la proporción entre nulos y no nulos"
   ]
  },
  {
   "cell_type": "code",
   "execution_count": 65,
   "metadata": {},
   "outputs": [
    {
     "data": {
      "application/vnd.plotly.v1+json": {
       "config": {
        "plotlyServerURL": "https://plotly.com"
       },
       "data": [
        {
         "alignmentgroup": "True",
         "hovertemplate": "nulos=Hay datos<br>state_name=%{x}<br>counter=%{y}<extra></extra>",
         "legendgroup": "Hay datos",
         "marker": {
          "color": "#636efa"
         },
         "name": "Hay datos",
         "offsetgroup": "Hay datos",
         "orientation": "v",
         "showlegend": true,
         "textposition": "auto",
         "type": "bar",
         "x": [
          "Catamarca",
          "Chaco",
          "Chubut",
          "Corrientes",
          "Córdoba",
          "Entre Ríos",
          "Jujuy",
          "La Pampa",
          "La Rioja",
          "Mendoza",
          "Misiones",
          "Neuquén",
          "Río Negro",
          "Salta",
          "San Juan",
          "San Luis",
          "Santa Cruz",
          "Santa Fe",
          "Santiago Del Estero",
          "Tierra Del Fuego",
          "Tucumán"
         ],
         "xaxis": "x",
         "y": [
          21,
          28,
          50,
          422,
          6456,
          95,
          10,
          19,
          2,
          430,
          209,
          274,
          215,
          76,
          4,
          154,
          9,
          4677,
          3,
          26,
          98
         ],
         "yaxis": "y"
        },
        {
         "alignmentgroup": "True",
         "hovertemplate": "nulos=No hay datos<br>state_name=%{x}<br>counter=%{y}<extra></extra>",
         "legendgroup": "No hay datos",
         "marker": {
          "color": "#EF553B"
         },
         "name": "No hay datos",
         "offsetgroup": "No hay datos",
         "orientation": "v",
         "showlegend": true,
         "textposition": "auto",
         "type": "bar",
         "x": [
          "Catamarca",
          "Chaco",
          "Chubut",
          "Corrientes",
          "Córdoba",
          "Entre Ríos",
          "Formosa",
          "Jujuy",
          "La Pampa",
          "La Rioja",
          "Mendoza",
          "Misiones",
          "Neuquén",
          "Río Negro",
          "Salta",
          "San Juan",
          "San Luis",
          "Santa Cruz",
          "Santa Fe",
          "Santiago Del Estero",
          "Tierra Del Fuego",
          "Tucumán"
         ],
         "xaxis": "x",
         "y": [
          6,
          29,
          209,
          161,
          5613,
          274,
          65,
          16,
          138,
          2,
          251,
          255,
          459,
          593,
          202,
          36,
          98,
          11,
          5495,
          1,
          5,
          576
         ],
         "yaxis": "y"
        }
       ],
       "layout": {
        "autosize": true,
        "barmode": "group",
        "legend": {
         "title": {
          "text": "nulos"
         },
         "tracegroupgap": 0
        },
        "margin": {
         "t": 60
        },
        "template": {
         "data": {
          "bar": [
           {
            "error_x": {
             "color": "#2a3f5f"
            },
            "error_y": {
             "color": "#2a3f5f"
            },
            "marker": {
             "line": {
              "color": "#E5ECF6",
              "width": 0.5
             }
            },
            "type": "bar"
           }
          ],
          "barpolar": [
           {
            "marker": {
             "line": {
              "color": "#E5ECF6",
              "width": 0.5
             }
            },
            "type": "barpolar"
           }
          ],
          "carpet": [
           {
            "aaxis": {
             "endlinecolor": "#2a3f5f",
             "gridcolor": "white",
             "linecolor": "white",
             "minorgridcolor": "white",
             "startlinecolor": "#2a3f5f"
            },
            "baxis": {
             "endlinecolor": "#2a3f5f",
             "gridcolor": "white",
             "linecolor": "white",
             "minorgridcolor": "white",
             "startlinecolor": "#2a3f5f"
            },
            "type": "carpet"
           }
          ],
          "choropleth": [
           {
            "colorbar": {
             "outlinewidth": 0,
             "ticks": ""
            },
            "type": "choropleth"
           }
          ],
          "contour": [
           {
            "colorbar": {
             "outlinewidth": 0,
             "ticks": ""
            },
            "colorscale": [
             [
              0,
              "#0d0887"
             ],
             [
              0.1111111111111111,
              "#46039f"
             ],
             [
              0.2222222222222222,
              "#7201a8"
             ],
             [
              0.3333333333333333,
              "#9c179e"
             ],
             [
              0.4444444444444444,
              "#bd3786"
             ],
             [
              0.5555555555555556,
              "#d8576b"
             ],
             [
              0.6666666666666666,
              "#ed7953"
             ],
             [
              0.7777777777777778,
              "#fb9f3a"
             ],
             [
              0.8888888888888888,
              "#fdca26"
             ],
             [
              1,
              "#f0f921"
             ]
            ],
            "type": "contour"
           }
          ],
          "contourcarpet": [
           {
            "colorbar": {
             "outlinewidth": 0,
             "ticks": ""
            },
            "type": "contourcarpet"
           }
          ],
          "heatmap": [
           {
            "colorbar": {
             "outlinewidth": 0,
             "ticks": ""
            },
            "colorscale": [
             [
              0,
              "#0d0887"
             ],
             [
              0.1111111111111111,
              "#46039f"
             ],
             [
              0.2222222222222222,
              "#7201a8"
             ],
             [
              0.3333333333333333,
              "#9c179e"
             ],
             [
              0.4444444444444444,
              "#bd3786"
             ],
             [
              0.5555555555555556,
              "#d8576b"
             ],
             [
              0.6666666666666666,
              "#ed7953"
             ],
             [
              0.7777777777777778,
              "#fb9f3a"
             ],
             [
              0.8888888888888888,
              "#fdca26"
             ],
             [
              1,
              "#f0f921"
             ]
            ],
            "type": "heatmap"
           }
          ],
          "heatmapgl": [
           {
            "colorbar": {
             "outlinewidth": 0,
             "ticks": ""
            },
            "colorscale": [
             [
              0,
              "#0d0887"
             ],
             [
              0.1111111111111111,
              "#46039f"
             ],
             [
              0.2222222222222222,
              "#7201a8"
             ],
             [
              0.3333333333333333,
              "#9c179e"
             ],
             [
              0.4444444444444444,
              "#bd3786"
             ],
             [
              0.5555555555555556,
              "#d8576b"
             ],
             [
              0.6666666666666666,
              "#ed7953"
             ],
             [
              0.7777777777777778,
              "#fb9f3a"
             ],
             [
              0.8888888888888888,
              "#fdca26"
             ],
             [
              1,
              "#f0f921"
             ]
            ],
            "type": "heatmapgl"
           }
          ],
          "histogram": [
           {
            "marker": {
             "colorbar": {
              "outlinewidth": 0,
              "ticks": ""
             }
            },
            "type": "histogram"
           }
          ],
          "histogram2d": [
           {
            "colorbar": {
             "outlinewidth": 0,
             "ticks": ""
            },
            "colorscale": [
             [
              0,
              "#0d0887"
             ],
             [
              0.1111111111111111,
              "#46039f"
             ],
             [
              0.2222222222222222,
              "#7201a8"
             ],
             [
              0.3333333333333333,
              "#9c179e"
             ],
             [
              0.4444444444444444,
              "#bd3786"
             ],
             [
              0.5555555555555556,
              "#d8576b"
             ],
             [
              0.6666666666666666,
              "#ed7953"
             ],
             [
              0.7777777777777778,
              "#fb9f3a"
             ],
             [
              0.8888888888888888,
              "#fdca26"
             ],
             [
              1,
              "#f0f921"
             ]
            ],
            "type": "histogram2d"
           }
          ],
          "histogram2dcontour": [
           {
            "colorbar": {
             "outlinewidth": 0,
             "ticks": ""
            },
            "colorscale": [
             [
              0,
              "#0d0887"
             ],
             [
              0.1111111111111111,
              "#46039f"
             ],
             [
              0.2222222222222222,
              "#7201a8"
             ],
             [
              0.3333333333333333,
              "#9c179e"
             ],
             [
              0.4444444444444444,
              "#bd3786"
             ],
             [
              0.5555555555555556,
              "#d8576b"
             ],
             [
              0.6666666666666666,
              "#ed7953"
             ],
             [
              0.7777777777777778,
              "#fb9f3a"
             ],
             [
              0.8888888888888888,
              "#fdca26"
             ],
             [
              1,
              "#f0f921"
             ]
            ],
            "type": "histogram2dcontour"
           }
          ],
          "mesh3d": [
           {
            "colorbar": {
             "outlinewidth": 0,
             "ticks": ""
            },
            "type": "mesh3d"
           }
          ],
          "parcoords": [
           {
            "line": {
             "colorbar": {
              "outlinewidth": 0,
              "ticks": ""
             }
            },
            "type": "parcoords"
           }
          ],
          "pie": [
           {
            "automargin": true,
            "type": "pie"
           }
          ],
          "scatter": [
           {
            "marker": {
             "colorbar": {
              "outlinewidth": 0,
              "ticks": ""
             }
            },
            "type": "scatter"
           }
          ],
          "scatter3d": [
           {
            "line": {
             "colorbar": {
              "outlinewidth": 0,
              "ticks": ""
             }
            },
            "marker": {
             "colorbar": {
              "outlinewidth": 0,
              "ticks": ""
             }
            },
            "type": "scatter3d"
           }
          ],
          "scattercarpet": [
           {
            "marker": {
             "colorbar": {
              "outlinewidth": 0,
              "ticks": ""
             }
            },
            "type": "scattercarpet"
           }
          ],
          "scattergeo": [
           {
            "marker": {
             "colorbar": {
              "outlinewidth": 0,
              "ticks": ""
             }
            },
            "type": "scattergeo"
           }
          ],
          "scattergl": [
           {
            "marker": {
             "colorbar": {
              "outlinewidth": 0,
              "ticks": ""
             }
            },
            "type": "scattergl"
           }
          ],
          "scattermapbox": [
           {
            "marker": {
             "colorbar": {
              "outlinewidth": 0,
              "ticks": ""
             }
            },
            "type": "scattermapbox"
           }
          ],
          "scatterpolar": [
           {
            "marker": {
             "colorbar": {
              "outlinewidth": 0,
              "ticks": ""
             }
            },
            "type": "scatterpolar"
           }
          ],
          "scatterpolargl": [
           {
            "marker": {
             "colorbar": {
              "outlinewidth": 0,
              "ticks": ""
             }
            },
            "type": "scatterpolargl"
           }
          ],
          "scatterternary": [
           {
            "marker": {
             "colorbar": {
              "outlinewidth": 0,
              "ticks": ""
             }
            },
            "type": "scatterternary"
           }
          ],
          "surface": [
           {
            "colorbar": {
             "outlinewidth": 0,
             "ticks": ""
            },
            "colorscale": [
             [
              0,
              "#0d0887"
             ],
             [
              0.1111111111111111,
              "#46039f"
             ],
             [
              0.2222222222222222,
              "#7201a8"
             ],
             [
              0.3333333333333333,
              "#9c179e"
             ],
             [
              0.4444444444444444,
              "#bd3786"
             ],
             [
              0.5555555555555556,
              "#d8576b"
             ],
             [
              0.6666666666666666,
              "#ed7953"
             ],
             [
              0.7777777777777778,
              "#fb9f3a"
             ],
             [
              0.8888888888888888,
              "#fdca26"
             ],
             [
              1,
              "#f0f921"
             ]
            ],
            "type": "surface"
           }
          ],
          "table": [
           {
            "cells": {
             "fill": {
              "color": "#EBF0F8"
             },
             "line": {
              "color": "white"
             }
            },
            "header": {
             "fill": {
              "color": "#C8D4E3"
             },
             "line": {
              "color": "white"
             }
            },
            "type": "table"
           }
          ]
         },
         "layout": {
          "annotationdefaults": {
           "arrowcolor": "#2a3f5f",
           "arrowhead": 0,
           "arrowwidth": 1
          },
          "coloraxis": {
           "colorbar": {
            "outlinewidth": 0,
            "ticks": ""
           }
          },
          "colorscale": {
           "diverging": [
            [
             0,
             "#8e0152"
            ],
            [
             0.1,
             "#c51b7d"
            ],
            [
             0.2,
             "#de77ae"
            ],
            [
             0.3,
             "#f1b6da"
            ],
            [
             0.4,
             "#fde0ef"
            ],
            [
             0.5,
             "#f7f7f7"
            ],
            [
             0.6,
             "#e6f5d0"
            ],
            [
             0.7,
             "#b8e186"
            ],
            [
             0.8,
             "#7fbc41"
            ],
            [
             0.9,
             "#4d9221"
            ],
            [
             1,
             "#276419"
            ]
           ],
           "sequential": [
            [
             0,
             "#0d0887"
            ],
            [
             0.1111111111111111,
             "#46039f"
            ],
            [
             0.2222222222222222,
             "#7201a8"
            ],
            [
             0.3333333333333333,
             "#9c179e"
            ],
            [
             0.4444444444444444,
             "#bd3786"
            ],
            [
             0.5555555555555556,
             "#d8576b"
            ],
            [
             0.6666666666666666,
             "#ed7953"
            ],
            [
             0.7777777777777778,
             "#fb9f3a"
            ],
            [
             0.8888888888888888,
             "#fdca26"
            ],
            [
             1,
             "#f0f921"
            ]
           ],
           "sequentialminus": [
            [
             0,
             "#0d0887"
            ],
            [
             0.1111111111111111,
             "#46039f"
            ],
            [
             0.2222222222222222,
             "#7201a8"
            ],
            [
             0.3333333333333333,
             "#9c179e"
            ],
            [
             0.4444444444444444,
             "#bd3786"
            ],
            [
             0.5555555555555556,
             "#d8576b"
            ],
            [
             0.6666666666666666,
             "#ed7953"
            ],
            [
             0.7777777777777778,
             "#fb9f3a"
            ],
            [
             0.8888888888888888,
             "#fdca26"
            ],
            [
             1,
             "#f0f921"
            ]
           ]
          },
          "colorway": [
           "#636efa",
           "#EF553B",
           "#00cc96",
           "#ab63fa",
           "#FFA15A",
           "#19d3f3",
           "#FF6692",
           "#B6E880",
           "#FF97FF",
           "#FECB52"
          ],
          "font": {
           "color": "#2a3f5f"
          },
          "geo": {
           "bgcolor": "white",
           "lakecolor": "white",
           "landcolor": "#E5ECF6",
           "showlakes": true,
           "showland": true,
           "subunitcolor": "white"
          },
          "hoverlabel": {
           "align": "left"
          },
          "hovermode": "closest",
          "mapbox": {
           "style": "light"
          },
          "paper_bgcolor": "white",
          "plot_bgcolor": "#E5ECF6",
          "polar": {
           "angularaxis": {
            "gridcolor": "white",
            "linecolor": "white",
            "ticks": ""
           },
           "bgcolor": "#E5ECF6",
           "radialaxis": {
            "gridcolor": "white",
            "linecolor": "white",
            "ticks": ""
           }
          },
          "scene": {
           "xaxis": {
            "backgroundcolor": "#E5ECF6",
            "gridcolor": "white",
            "gridwidth": 2,
            "linecolor": "white",
            "showbackground": true,
            "ticks": "",
            "zerolinecolor": "white"
           },
           "yaxis": {
            "backgroundcolor": "#E5ECF6",
            "gridcolor": "white",
            "gridwidth": 2,
            "linecolor": "white",
            "showbackground": true,
            "ticks": "",
            "zerolinecolor": "white"
           },
           "zaxis": {
            "backgroundcolor": "#E5ECF6",
            "gridcolor": "white",
            "gridwidth": 2,
            "linecolor": "white",
            "showbackground": true,
            "ticks": "",
            "zerolinecolor": "white"
           }
          },
          "shapedefaults": {
           "line": {
            "color": "#2a3f5f"
           }
          },
          "ternary": {
           "aaxis": {
            "gridcolor": "white",
            "linecolor": "white",
            "ticks": ""
           },
           "baxis": {
            "gridcolor": "white",
            "linecolor": "white",
            "ticks": ""
           },
           "bgcolor": "#E5ECF6",
           "caxis": {
            "gridcolor": "white",
            "linecolor": "white",
            "ticks": ""
           }
          },
          "title": {
           "x": 0.05
          },
          "xaxis": {
           "automargin": true,
           "gridcolor": "white",
           "linecolor": "white",
           "ticks": "",
           "title": {
            "standoff": 15
           },
           "zerolinecolor": "white",
           "zerolinewidth": 2
          },
          "yaxis": {
           "automargin": true,
           "gridcolor": "white",
           "linecolor": "white",
           "ticks": "",
           "title": {
            "standoff": 15
           },
           "zerolinecolor": "white",
           "zerolinewidth": 2
          }
         }
        },
        "xaxis": {
         "anchor": "y",
         "autorange": true,
         "domain": [
          0,
          1
         ],
         "range": [
          -0.5,
          21.5
         ],
         "title": {
          "text": "state_name"
         },
         "type": "category"
        },
        "yaxis": {
         "anchor": "x",
         "autorange": true,
         "domain": [
          0,
          1
         ],
         "range": [
          0,
          6795.789473684211
         ],
         "title": {
          "text": "counter"
         },
         "type": "linear"
        }
       }
      },
      "image/png": "[encoded data removed]",
      "text/html": [
       "<div>\n",
       "        \n",
       "        \n",
       "            <div id=\"de8758e6-4622-49ff-be86-954d5f50c6bf\" class=\"plotly-graph-div\" style=\"height:400px; width:100%;\"></div>\n",
       "            <script type=\"text/javascript\">\n",
       "                require([\"plotly\"], function(Plotly) {\n",
       "                    window.PLOTLYENV=window.PLOTLYENV || {};\n",
       "                    \n",
       "                if (document.getElementById(\"de8758e6-4622-49ff-be86-954d5f50c6bf\")) {\n",
       "                    Plotly.newPlot(\n",
       "                        'de8758e6-4622-49ff-be86-954d5f50c6bf',\n",
       "                        [{\"alignmentgroup\": \"True\", \"hovertemplate\": \"nulos=Hay datos<br>state_name=%{x}<br>counter=%{y}<extra></extra>\", \"legendgroup\": \"Hay datos\", \"marker\": {\"color\": \"#636efa\"}, \"name\": \"Hay datos\", \"offsetgroup\": \"Hay datos\", \"orientation\": \"v\", \"showlegend\": true, \"textposition\": \"auto\", \"type\": \"bar\", \"x\": [\"Catamarca\", \"Chaco\", \"Chubut\", \"Corrientes\", \"C\\u00f3rdoba\", \"Entre R\\u00edos\", \"Jujuy\", \"La Pampa\", \"La Rioja\", \"Mendoza\", \"Misiones\", \"Neuqu\\u00e9n\", \"R\\u00edo Negro\", \"Salta\", \"San Juan\", \"San Luis\", \"Santa Cruz\", \"Santa Fe\", \"Santiago Del Estero\", \"Tierra Del Fuego\", \"Tucum\\u00e1n\"], \"xaxis\": \"x\", \"y\": [21, 28, 50, 422, 6456, 95, 10, 19, 2, 430, 209, 274, 215, 76, 4, 154, 9, 4677, 3, 26, 98], \"yaxis\": \"y\"}, {\"alignmentgroup\": \"True\", \"hovertemplate\": \"nulos=No hay datos<br>state_name=%{x}<br>counter=%{y}<extra></extra>\", \"legendgroup\": \"No hay datos\", \"marker\": {\"color\": \"#EF553B\"}, \"name\": \"No hay datos\", \"offsetgroup\": \"No hay datos\", \"orientation\": \"v\", \"showlegend\": true, \"textposition\": \"auto\", \"type\": \"bar\", \"x\": [\"Catamarca\", \"Chaco\", \"Chubut\", \"Corrientes\", \"C\\u00f3rdoba\", \"Entre R\\u00edos\", \"Formosa\", \"Jujuy\", \"La Pampa\", \"La Rioja\", \"Mendoza\", \"Misiones\", \"Neuqu\\u00e9n\", \"R\\u00edo Negro\", \"Salta\", \"San Juan\", \"San Luis\", \"Santa Cruz\", \"Santa Fe\", \"Santiago Del Estero\", \"Tierra Del Fuego\", \"Tucum\\u00e1n\"], \"xaxis\": \"x\", \"y\": [6, 29, 209, 161, 5613, 274, 65, 16, 138, 2, 251, 255, 459, 593, 202, 36, 98, 11, 5495, 1, 5, 576], \"yaxis\": \"y\"}],\n",
       "                        {\"barmode\": \"group\", \"height\": 400, \"legend\": {\"title\": {\"text\": \"nulos\"}, \"tracegroupgap\": 0}, \"margin\": {\"t\": 60}, \"template\": {\"data\": {\"bar\": [{\"error_x\": {\"color\": \"#2a3f5f\"}, \"error_y\": {\"color\": \"#2a3f5f\"}, \"marker\": {\"line\": {\"color\": \"#E5ECF6\", \"width\": 0.5}}, \"type\": \"bar\"}], \"barpolar\": [{\"marker\": {\"line\": {\"color\": \"#E5ECF6\", \"width\": 0.5}}, \"type\": \"barpolar\"}], \"carpet\": [{\"aaxis\": {\"endlinecolor\": \"#2a3f5f\", \"gridcolor\": \"white\", \"linecolor\": \"white\", \"minorgridcolor\": \"white\", \"startlinecolor\": \"#2a3f5f\"}, \"baxis\": {\"endlinecolor\": \"#2a3f5f\", \"gridcolor\": \"white\", \"linecolor\": \"white\", \"minorgridcolor\": \"white\", \"startlinecolor\": \"#2a3f5f\"}, \"type\": \"carpet\"}], \"choropleth\": [{\"colorbar\": {\"outlinewidth\": 0, \"ticks\": \"\"}, \"type\": \"choropleth\"}], \"contour\": [{\"colorbar\": {\"outlinewidth\": 0, \"ticks\": \"\"}, \"colorscale\": [[0.0, \"#0d0887\"], [0.1111111111111111, \"#46039f\"], [0.2222222222222222, \"#7201a8\"], [0.3333333333333333, \"#9c179e\"], [0.4444444444444444, \"#bd3786\"], [0.5555555555555556, \"#d8576b\"], [0.6666666666666666, \"#ed7953\"], [0.7777777777777778, \"#fb9f3a\"], [0.8888888888888888, \"#fdca26\"], [1.0, \"#f0f921\"]], \"type\": \"contour\"}], \"contourcarpet\": [{\"colorbar\": {\"outlinewidth\": 0, \"ticks\": \"\"}, \"type\": \"contourcarpet\"}], \"heatmap\": [{\"colorbar\": {\"outlinewidth\": 0, \"ticks\": \"\"}, \"colorscale\": [[0.0, \"#0d0887\"], [0.1111111111111111, \"#46039f\"], [0.2222222222222222, \"#7201a8\"], [0.3333333333333333, \"#9c179e\"], [0.4444444444444444, \"#bd3786\"], [0.5555555555555556, \"#d8576b\"], [0.6666666666666666, \"#ed7953\"], [0.7777777777777778, \"#fb9f3a\"], [0.8888888888888888, \"#fdca26\"], [1.0, \"#f0f921\"]], \"type\": \"heatmap\"}], \"heatmapgl\": [{\"colorbar\": {\"outlinewidth\": 0, \"ticks\": \"\"}, \"colorscale\": [[0.0, \"#0d0887\"], [0.1111111111111111, \"#46039f\"], [0.2222222222222222, \"#7201a8\"], [0.3333333333333333, \"#9c179e\"], [0.4444444444444444, \"#bd3786\"], [0.5555555555555556, \"#d8576b\"], [0.6666666666666666, \"#ed7953\"], [0.7777777777777778, \"#fb9f3a\"], [0.8888888888888888, \"#fdca26\"], [1.0, \"#f0f921\"]], \"type\": \"heatmapgl\"}], \"histogram\": [{\"marker\": {\"colorbar\": {\"outlinewidth\": 0, \"ticks\": \"\"}}, \"type\": \"histogram\"}], \"histogram2d\": [{\"colorbar\": {\"outlinewidth\": 0, \"ticks\": \"\"}, \"colorscale\": [[0.0, \"#0d0887\"], [0.1111111111111111, \"#46039f\"], [0.2222222222222222, \"#7201a8\"], [0.3333333333333333, \"#9c179e\"], [0.4444444444444444, \"#bd3786\"], [0.5555555555555556, \"#d8576b\"], [0.6666666666666666, \"#ed7953\"], [0.7777777777777778, \"#fb9f3a\"], [0.8888888888888888, \"#fdca26\"], [1.0, \"#f0f921\"]], \"type\": \"histogram2d\"}], \"histogram2dcontour\": [{\"colorbar\": {\"outlinewidth\": 0, \"ticks\": \"\"}, \"colorscale\": [[0.0, \"#0d0887\"], [0.1111111111111111, \"#46039f\"], [0.2222222222222222, \"#7201a8\"], [0.3333333333333333, \"#9c179e\"], [0.4444444444444444, \"#bd3786\"], [0.5555555555555556, \"#d8576b\"], [0.6666666666666666, \"#ed7953\"], [0.7777777777777778, \"#fb9f3a\"], [0.8888888888888888, \"#fdca26\"], [1.0, \"#f0f921\"]], \"type\": \"histogram2dcontour\"}], \"mesh3d\": [{\"colorbar\": {\"outlinewidth\": 0, \"ticks\": \"\"}, \"type\": \"mesh3d\"}], \"parcoords\": [{\"line\": {\"colorbar\": {\"outlinewidth\": 0, \"ticks\": \"\"}}, \"type\": \"parcoords\"}], \"pie\": [{\"automargin\": true, \"type\": \"pie\"}], \"scatter\": [{\"marker\": {\"colorbar\": {\"outlinewidth\": 0, \"ticks\": \"\"}}, \"type\": \"scatter\"}], \"scatter3d\": [{\"line\": {\"colorbar\": {\"outlinewidth\": 0, \"ticks\": \"\"}}, \"marker\": {\"colorbar\": {\"outlinewidth\": 0, \"ticks\": \"\"}}, \"type\": \"scatter3d\"}], \"scattercarpet\": [{\"marker\": {\"colorbar\": {\"outlinewidth\": 0, \"ticks\": \"\"}}, \"type\": \"scattercarpet\"}], \"scattergeo\": [{\"marker\": {\"colorbar\": {\"outlinewidth\": 0, \"ticks\": \"\"}}, \"type\": \"scattergeo\"}], \"scattergl\": [{\"marker\": {\"colorbar\": {\"outlinewidth\": 0, \"ticks\": \"\"}}, \"type\": \"scattergl\"}], \"scattermapbox\": [{\"marker\": {\"colorbar\": {\"outlinewidth\": 0, \"ticks\": \"\"}}, \"type\": \"scattermapbox\"}], \"scatterpolar\": [{\"marker\": {\"colorbar\": {\"outlinewidth\": 0, \"ticks\": \"\"}}, \"type\": \"scatterpolar\"}], \"scatterpolargl\": [{\"marker\": {\"colorbar\": {\"outlinewidth\": 0, \"ticks\": \"\"}}, \"type\": \"scatterpolargl\"}], \"scatterternary\": [{\"marker\": {\"colorbar\": {\"outlinewidth\": 0, \"ticks\": \"\"}}, \"type\": \"scatterternary\"}], \"surface\": [{\"colorbar\": {\"outlinewidth\": 0, \"ticks\": \"\"}, \"colorscale\": [[0.0, \"#0d0887\"], [0.1111111111111111, \"#46039f\"], [0.2222222222222222, \"#7201a8\"], [0.3333333333333333, \"#9c179e\"], [0.4444444444444444, \"#bd3786\"], [0.5555555555555556, \"#d8576b\"], [0.6666666666666666, \"#ed7953\"], [0.7777777777777778, \"#fb9f3a\"], [0.8888888888888888, \"#fdca26\"], [1.0, \"#f0f921\"]], \"type\": \"surface\"}], \"table\": [{\"cells\": {\"fill\": {\"color\": \"#EBF0F8\"}, \"line\": {\"color\": \"white\"}}, \"header\": {\"fill\": {\"color\": \"#C8D4E3\"}, \"line\": {\"color\": \"white\"}}, \"type\": \"table\"}]}, \"layout\": {\"annotationdefaults\": {\"arrowcolor\": \"#2a3f5f\", \"arrowhead\": 0, \"arrowwidth\": 1}, \"coloraxis\": {\"colorbar\": {\"outlinewidth\": 0, \"ticks\": \"\"}}, \"colorscale\": {\"diverging\": [[0, \"#8e0152\"], [0.1, \"#c51b7d\"], [0.2, \"#de77ae\"], [0.3, \"#f1b6da\"], [0.4, \"#fde0ef\"], [0.5, \"#f7f7f7\"], [0.6, \"#e6f5d0\"], [0.7, \"#b8e186\"], [0.8, \"#7fbc41\"], [0.9, \"#4d9221\"], [1, \"#276419\"]], \"sequential\": [[0.0, \"#0d0887\"], [0.1111111111111111, \"#46039f\"], [0.2222222222222222, \"#7201a8\"], [0.3333333333333333, \"#9c179e\"], [0.4444444444444444, \"#bd3786\"], [0.5555555555555556, \"#d8576b\"], [0.6666666666666666, \"#ed7953\"], [0.7777777777777778, \"#fb9f3a\"], [0.8888888888888888, \"#fdca26\"], [1.0, \"#f0f921\"]], \"sequentialminus\": [[0.0, \"#0d0887\"], [0.1111111111111111, \"#46039f\"], [0.2222222222222222, \"#7201a8\"], [0.3333333333333333, \"#9c179e\"], [0.4444444444444444, \"#bd3786\"], [0.5555555555555556, \"#d8576b\"], [0.6666666666666666, \"#ed7953\"], [0.7777777777777778, \"#fb9f3a\"], [0.8888888888888888, \"#fdca26\"], [1.0, \"#f0f921\"]]}, \"colorway\": [\"#636efa\", \"#EF553B\", \"#00cc96\", \"#ab63fa\", \"#FFA15A\", \"#19d3f3\", \"#FF6692\", \"#B6E880\", \"#FF97FF\", \"#FECB52\"], \"font\": {\"color\": \"#2a3f5f\"}, \"geo\": {\"bgcolor\": \"white\", \"lakecolor\": \"white\", \"landcolor\": \"#E5ECF6\", \"showlakes\": true, \"showland\": true, \"subunitcolor\": \"white\"}, \"hoverlabel\": {\"align\": \"left\"}, \"hovermode\": \"closest\", \"mapbox\": {\"style\": \"light\"}, \"paper_bgcolor\": \"white\", \"plot_bgcolor\": \"#E5ECF6\", \"polar\": {\"angularaxis\": {\"gridcolor\": \"white\", \"linecolor\": \"white\", \"ticks\": \"\"}, \"bgcolor\": \"#E5ECF6\", \"radialaxis\": {\"gridcolor\": \"white\", \"linecolor\": \"white\", \"ticks\": \"\"}}, \"scene\": {\"xaxis\": {\"backgroundcolor\": \"#E5ECF6\", \"gridcolor\": \"white\", \"gridwidth\": 2, \"linecolor\": \"white\", \"showbackground\": true, \"ticks\": \"\", \"zerolinecolor\": \"white\"}, \"yaxis\": {\"backgroundcolor\": \"#E5ECF6\", \"gridcolor\": \"white\", \"gridwidth\": 2, \"linecolor\": \"white\", \"showbackground\": true, \"ticks\": \"\", \"zerolinecolor\": \"white\"}, \"zaxis\": {\"backgroundcolor\": \"#E5ECF6\", \"gridcolor\": \"white\", \"gridwidth\": 2, \"linecolor\": \"white\", \"showbackground\": true, \"ticks\": \"\", \"zerolinecolor\": \"white\"}}, \"shapedefaults\": {\"line\": {\"color\": \"#2a3f5f\"}}, \"ternary\": {\"aaxis\": {\"gridcolor\": \"white\", \"linecolor\": \"white\", \"ticks\": \"\"}, \"baxis\": {\"gridcolor\": \"white\", \"linecolor\": \"white\", \"ticks\": \"\"}, \"bgcolor\": \"#E5ECF6\", \"caxis\": {\"gridcolor\": \"white\", \"linecolor\": \"white\", \"ticks\": \"\"}}, \"title\": {\"x\": 0.05}, \"xaxis\": {\"automargin\": true, \"gridcolor\": \"white\", \"linecolor\": \"white\", \"ticks\": \"\", \"title\": {\"standoff\": 15}, \"zerolinecolor\": \"white\", \"zerolinewidth\": 2}, \"yaxis\": {\"automargin\": true, \"gridcolor\": \"white\", \"linecolor\": \"white\", \"ticks\": \"\", \"title\": {\"standoff\": 15}, \"zerolinecolor\": \"white\", \"zerolinewidth\": 2}}}, \"xaxis\": {\"anchor\": \"y\", \"domain\": [0.0, 1.0], \"title\": {\"text\": \"state_name\"}}, \"yaxis\": {\"anchor\": \"x\", \"domain\": [0.0, 1.0], \"title\": {\"text\": \"counter\"}}},\n",
       "                        {\"responsive\": true}\n",
       "                    ).then(function(){\n",
       "                            \n",
       "var gd = document.getElementById('de8758e6-4622-49ff-be86-954d5f50c6bf');\n",
       "var x = new MutationObserver(function (mutations, observer) {{\n",
       "        var display = window.getComputedStyle(gd).display;\n",
       "        if (!display || display === 'none') {{\n",
       "            console.log([gd, 'removed!']);\n",
       "            Plotly.purge(gd);\n",
       "            observer.disconnect();\n",
       "        }}\n",
       "}});\n",
       "\n",
       "// Listen for the removal of the full notebook cells\n",
       "var notebookContainer = gd.closest('#notebook-container');\n",
       "if (notebookContainer) {{\n",
       "    x.observe(notebookContainer, {childList: true});\n",
       "}}\n",
       "\n",
       "// Listen for the clearing of the current output cell\n",
       "var outputEl = gd.closest('.output');\n",
       "if (outputEl) {{\n",
       "    x.observe(outputEl, {childList: true});\n",
       "}}\n",
       "\n",
       "                        })\n",
       "                };\n",
       "                });\n",
       "            </script>\n",
       "        </div>"
      ]
     },
     "metadata": {},
     "output_type": "display_data"
    }
   ],
   "source": [
    "fig = px.bar(provincias_group1, x=\"state_name\", y=\"counter\",\n",
    "             color='nulos', barmode='group',\n",
    "             height=400)\n",
    "fig.show()"
   ]
  },
  {
   "cell_type": "markdown",
   "metadata": {},
   "source": [
    "## Analizamos ahora la variabilidad en el precio "
   ]
  },
  {
   "cell_type": "code",
   "execution_count": 59,
   "metadata": {
    "scrolled": true
   },
   "outputs": [],
   "source": [
    "provincias_group2 = provincias.groupby(by=['state_name'],as_index=False)['price_per_m2'].agg(['min', 'max'])"
   ]
  },
  {
   "cell_type": "code",
   "execution_count": 66,
   "metadata": {
    "scrolled": true
   },
   "outputs": [],
   "source": [
    "provincias_group2.reset_index(inplace=True)"
   ]
  },
  {
   "cell_type": "code",
   "execution_count": 67,
   "metadata": {
    "scrolled": true
   },
   "outputs": [],
   "source": [
    "provincias_group2['rango'] = provincias_group2['max'] - provincias_group2['min']"
   ]
  },
  {
   "cell_type": "code",
   "execution_count": 68,
   "metadata": {
    "scrolled": true
   },
   "outputs": [
    {
     "data": {
      "text/html": [
       "<div>\n",
       "<style scoped>\n",
       "    .dataframe tbody tr th:only-of-type {\n",
       "        vertical-align: middle;\n",
       "    }\n",
       "\n",
       "    .dataframe tbody tr th {\n",
       "        vertical-align: top;\n",
       "    }\n",
       "\n",
       "    .dataframe thead th {\n",
       "        text-align: right;\n",
       "    }\n",
       "</style>\n",
       "<table border=\"1\" class=\"dataframe\">\n",
       "  <thead>\n",
       "    <tr style=\"text-align: right;\">\n",
       "      <th></th>\n",
       "      <th>state_name</th>\n",
       "      <th>min</th>\n",
       "      <th>max</th>\n",
       "      <th>rango</th>\n",
       "    </tr>\n",
       "  </thead>\n",
       "  <tbody>\n",
       "    <tr>\n",
       "      <th>0</th>\n",
       "      <td>Catamarca</td>\n",
       "      <td>528.846154</td>\n",
       "      <td>9.166667e+03</td>\n",
       "      <td>8.637821e+03</td>\n",
       "    </tr>\n",
       "    <tr>\n",
       "      <th>1</th>\n",
       "      <td>Chaco</td>\n",
       "      <td>510.948905</td>\n",
       "      <td>3.633333e+04</td>\n",
       "      <td>3.582238e+04</td>\n",
       "    </tr>\n",
       "    <tr>\n",
       "      <th>2</th>\n",
       "      <td>Chubut</td>\n",
       "      <td>714.285714</td>\n",
       "      <td>3.099254e+04</td>\n",
       "      <td>3.027825e+04</td>\n",
       "    </tr>\n",
       "    <tr>\n",
       "      <th>3</th>\n",
       "      <td>Corrientes</td>\n",
       "      <td>352.112676</td>\n",
       "      <td>1.250000e+05</td>\n",
       "      <td>1.246479e+05</td>\n",
       "    </tr>\n",
       "    <tr>\n",
       "      <th>4</th>\n",
       "      <td>Córdoba</td>\n",
       "      <td>7.462100</td>\n",
       "      <td>2.000000e+06</td>\n",
       "      <td>1.999993e+06</td>\n",
       "    </tr>\n",
       "    <tr>\n",
       "      <th>5</th>\n",
       "      <td>Entre Ríos</td>\n",
       "      <td>500.000000</td>\n",
       "      <td>1.142857e+05</td>\n",
       "      <td>1.137857e+05</td>\n",
       "    </tr>\n",
       "    <tr>\n",
       "      <th>6</th>\n",
       "      <td>Formosa</td>\n",
       "      <td>NaN</td>\n",
       "      <td>NaN</td>\n",
       "      <td>NaN</td>\n",
       "    </tr>\n",
       "    <tr>\n",
       "      <th>7</th>\n",
       "      <td>Jujuy</td>\n",
       "      <td>1872.500000</td>\n",
       "      <td>1.250000e+05</td>\n",
       "      <td>1.231275e+05</td>\n",
       "    </tr>\n",
       "    <tr>\n",
       "      <th>8</th>\n",
       "      <td>La Pampa</td>\n",
       "      <td>828.571429</td>\n",
       "      <td>2.644231e+04</td>\n",
       "      <td>2.561374e+04</td>\n",
       "    </tr>\n",
       "    <tr>\n",
       "      <th>9</th>\n",
       "      <td>La Rioja</td>\n",
       "      <td>544.444444</td>\n",
       "      <td>4.333333e+03</td>\n",
       "      <td>3.788889e+03</td>\n",
       "    </tr>\n",
       "    <tr>\n",
       "      <th>10</th>\n",
       "      <td>Mendoza</td>\n",
       "      <td>121.332451</td>\n",
       "      <td>2.700000e+05</td>\n",
       "      <td>2.698787e+05</td>\n",
       "    </tr>\n",
       "    <tr>\n",
       "      <th>11</th>\n",
       "      <td>Misiones</td>\n",
       "      <td>133.333333</td>\n",
       "      <td>6.500000e+05</td>\n",
       "      <td>6.498667e+05</td>\n",
       "    </tr>\n",
       "    <tr>\n",
       "      <th>12</th>\n",
       "      <td>Neuquén</td>\n",
       "      <td>1000.000000</td>\n",
       "      <td>1.250000e+05</td>\n",
       "      <td>1.240000e+05</td>\n",
       "    </tr>\n",
       "    <tr>\n",
       "      <th>13</th>\n",
       "      <td>Río Negro</td>\n",
       "      <td>564.133017</td>\n",
       "      <td>1.650750e+05</td>\n",
       "      <td>1.645109e+05</td>\n",
       "    </tr>\n",
       "    <tr>\n",
       "      <th>14</th>\n",
       "      <td>Salta</td>\n",
       "      <td>303.308824</td>\n",
       "      <td>9.250000e+04</td>\n",
       "      <td>9.219669e+04</td>\n",
       "    </tr>\n",
       "    <tr>\n",
       "      <th>15</th>\n",
       "      <td>San Juan</td>\n",
       "      <td>3191.489362</td>\n",
       "      <td>2.833333e+04</td>\n",
       "      <td>2.514184e+04</td>\n",
       "    </tr>\n",
       "    <tr>\n",
       "      <th>16</th>\n",
       "      <td>San Luis</td>\n",
       "      <td>312.500000</td>\n",
       "      <td>2.333333e+05</td>\n",
       "      <td>2.330208e+05</td>\n",
       "    </tr>\n",
       "    <tr>\n",
       "      <th>17</th>\n",
       "      <td>Santa Cruz</td>\n",
       "      <td>1013.986014</td>\n",
       "      <td>2.111111e+04</td>\n",
       "      <td>2.009713e+04</td>\n",
       "    </tr>\n",
       "    <tr>\n",
       "      <th>18</th>\n",
       "      <td>Santa Fe</td>\n",
       "      <td>80.000000</td>\n",
       "      <td>3.750000e+05</td>\n",
       "      <td>3.749200e+05</td>\n",
       "    </tr>\n",
       "    <tr>\n",
       "      <th>19</th>\n",
       "      <td>Santiago Del Estero</td>\n",
       "      <td>480.000000</td>\n",
       "      <td>1.148936e+04</td>\n",
       "      <td>1.100936e+04</td>\n",
       "    </tr>\n",
       "    <tr>\n",
       "      <th>20</th>\n",
       "      <td>Tierra Del Fuego</td>\n",
       "      <td>1171.875000</td>\n",
       "      <td>3.000000e+04</td>\n",
       "      <td>2.882812e+04</td>\n",
       "    </tr>\n",
       "    <tr>\n",
       "      <th>21</th>\n",
       "      <td>Tucumán</td>\n",
       "      <td>846.153846</td>\n",
       "      <td>1.363636e+05</td>\n",
       "      <td>1.355175e+05</td>\n",
       "    </tr>\n",
       "  </tbody>\n",
       "</table>\n",
       "</div>"
      ],
      "text/plain": [
       "             state_name          min           max         rango\n",
       "0             Catamarca   528.846154  9.166667e+03  8.637821e+03\n",
       "1                 Chaco   510.948905  3.633333e+04  3.582238e+04\n",
       "2                Chubut   714.285714  3.099254e+04  3.027825e+04\n",
       "3            Corrientes   352.112676  1.250000e+05  1.246479e+05\n",
       "4               Córdoba     7.462100  2.000000e+06  1.999993e+06\n",
       "5            Entre Ríos   500.000000  1.142857e+05  1.137857e+05\n",
       "6               Formosa          NaN           NaN           NaN\n",
       "7                 Jujuy  1872.500000  1.250000e+05  1.231275e+05\n",
       "8              La Pampa   828.571429  2.644231e+04  2.561374e+04\n",
       "9              La Rioja   544.444444  4.333333e+03  3.788889e+03\n",
       "10              Mendoza   121.332451  2.700000e+05  2.698787e+05\n",
       "11             Misiones   133.333333  6.500000e+05  6.498667e+05\n",
       "12              Neuquén  1000.000000  1.250000e+05  1.240000e+05\n",
       "13            Río Negro   564.133017  1.650750e+05  1.645109e+05\n",
       "14                Salta   303.308824  9.250000e+04  9.219669e+04\n",
       "15             San Juan  3191.489362  2.833333e+04  2.514184e+04\n",
       "16             San Luis   312.500000  2.333333e+05  2.330208e+05\n",
       "17           Santa Cruz  1013.986014  2.111111e+04  2.009713e+04\n",
       "18             Santa Fe    80.000000  3.750000e+05  3.749200e+05\n",
       "19  Santiago Del Estero   480.000000  1.148936e+04  1.100936e+04\n",
       "20     Tierra Del Fuego  1171.875000  3.000000e+04  2.882812e+04\n",
       "21              Tucumán   846.153846  1.363636e+05  1.355175e+05"
      ]
     },
     "execution_count": 68,
     "metadata": {},
     "output_type": "execute_result"
    }
   ],
   "source": [
    "provincias_group2"
   ]
  },
  {
   "cell_type": "code",
   "execution_count": null,
   "metadata": {},
   "outputs": [],
   "source": []
  },
  {
   "cell_type": "markdown",
   "metadata": {},
   "source": [
    "# Tratamientos en Baires"
   ]
  },
  {
   "cell_type": "code",
   "execution_count": 134,
   "metadata": {},
   "outputs": [],
   "source": [
    "baires = df.query(' state_name == \"Capital Federal\" | state_name == \"Bs.As. G.B.A. Zona Sur\" | state_name == \"Buenos Aires Costa Atlántica\" | state_name == \"Bs.As. G.B.A. Zona Norte\" | state_name == \"Bs.As. G.B.A. Zona Oeste\" | state_name == \"Buenos Aires Interior\"')\n",
    "caba = df.query(' state_name == \"Capital Federal\"')\n",
    "bsas_sur = df.query(' state_name == \"Bs.As. G.B.A. Zona Sur\"')\n",
    "bsas_costa = df.query(' state_name == \"Buenos Aires Costa Atlántica\"')\n",
    "bsas_norte = df.query(' state_name == \"Bs.As. G.B.A. Zona Norte\"')\n",
    "bsas_oeste = df.query(' state_name == \"Bs.As. G.B.A. Zona Oeste\"')\n",
    "bsas_interior = df.query(' state_name == \"Buenos Aires Interior\"')\n",
    "\n",
    "\n",
    "\n"
   ]
  },
  {
   "cell_type": "code",
   "execution_count": 53,
   "metadata": {},
   "outputs": [
    {
     "data": {
      "text/plain": [
       "(93447, 26)"
      ]
     },
     "execution_count": 53,
     "metadata": {},
     "output_type": "execute_result"
    }
   ],
   "source": [
    "baires.shape"
   ]
  },
  {
   "cell_type": "code",
   "execution_count": 54,
   "metadata": {},
   "outputs": [
    {
     "data": {
      "text/plain": [
       "Unnamed: 0                         0\n",
       "operation                          0\n",
       "property_type                      0\n",
       "place_name                        23\n",
       "place_with_parent_names            0\n",
       "country_name                       0\n",
       "state_name                         0\n",
       "geonames_id                    18717\n",
       "lat-lon                        51550\n",
       "lat                            51550\n",
       "lon                            51550\n",
       "price                          20410\n",
       "currency                       20411\n",
       "price_aprox_local_currency     20410\n",
       "price_aprox_usd                20410\n",
       "surface_total_in_m2            39328\n",
       "surface_covered_in_m2          19907\n",
       "price_usd_per_m2               52603\n",
       "price_per_m2                   33562\n",
       "floor                         113321\n",
       "rooms                          73830\n",
       "expenses                      106958\n",
       "properati_url                      0\n",
       "description                        2\n",
       "title                              0\n",
       "image_thumbnail                 3112\n",
       "dtype: int64"
      ]
     },
     "execution_count": 54,
     "metadata": {},
     "output_type": "execute_result"
    }
   ],
   "source": [
    "data.apply(lambda x: x.isnull().sum(), axis=0)"
   ]
  },
  {
   "cell_type": "code",
   "execution_count": 70,
   "metadata": {},
   "outputs": [
    {
     "data": {
      "text/plain": [
       "19067"
      ]
     },
     "execution_count": 70,
     "metadata": {},
     "output_type": "execute_result"
    }
   ],
   "source": [
    "len(baires) - len(baires['price_per_m2'].dropna()) ## Este dato indica cuantos son los valores faltantes en el dataframe                                                                                                      "
   ]
  },
  {
   "cell_type": "code",
   "execution_count": 135,
   "metadata": {},
   "outputs": [
    {
     "name": "stderr",
     "output_type": "stream",
     "text": [
      "C:\\Users\\pato-\\anaconda3\\envs\\dhdsblend\\lib\\site-packages\\ipykernel_launcher.py:1: SettingWithCopyWarning:\n",
      "\n",
      "\n",
      "A value is trying to be set on a copy of a slice from a DataFrame.\n",
      "Try using .loc[row_indexer,col_indexer] = value instead\n",
      "\n",
      "See the caveats in the documentation: https://pandas.pydata.org/pandas-docs/stable/user_guide/indexing.html#returning-a-view-versus-a-copy\n",
      "\n",
      "C:\\Users\\pato-\\anaconda3\\envs\\dhdsblend\\lib\\site-packages\\ipykernel_launcher.py:2: SettingWithCopyWarning:\n",
      "\n",
      "\n",
      "A value is trying to be set on a copy of a slice from a DataFrame.\n",
      "Try using .loc[row_indexer,col_indexer] = value instead\n",
      "\n",
      "See the caveats in the documentation: https://pandas.pydata.org/pandas-docs/stable/user_guide/indexing.html#returning-a-view-versus-a-copy\n",
      "\n",
      "C:\\Users\\pato-\\anaconda3\\envs\\dhdsblend\\lib\\site-packages\\ipykernel_launcher.py:3: SettingWithCopyWarning:\n",
      "\n",
      "\n",
      "A value is trying to be set on a copy of a slice from a DataFrame.\n",
      "Try using .loc[row_indexer,col_indexer] = value instead\n",
      "\n",
      "See the caveats in the documentation: https://pandas.pydata.org/pandas-docs/stable/user_guide/indexing.html#returning-a-view-versus-a-copy\n",
      "\n",
      "C:\\Users\\pato-\\anaconda3\\envs\\dhdsblend\\lib\\site-packages\\ipykernel_launcher.py:4: SettingWithCopyWarning:\n",
      "\n",
      "\n",
      "A value is trying to be set on a copy of a slice from a DataFrame.\n",
      "Try using .loc[row_indexer,col_indexer] = value instead\n",
      "\n",
      "See the caveats in the documentation: https://pandas.pydata.org/pandas-docs/stable/user_guide/indexing.html#returning-a-view-versus-a-copy\n",
      "\n",
      "C:\\Users\\pato-\\anaconda3\\envs\\dhdsblend\\lib\\site-packages\\ipykernel_launcher.py:5: SettingWithCopyWarning:\n",
      "\n",
      "\n",
      "A value is trying to be set on a copy of a slice from a DataFrame.\n",
      "Try using .loc[row_indexer,col_indexer] = value instead\n",
      "\n",
      "See the caveats in the documentation: https://pandas.pydata.org/pandas-docs/stable/user_guide/indexing.html#returning-a-view-versus-a-copy\n",
      "\n",
      "C:\\Users\\pato-\\anaconda3\\envs\\dhdsblend\\lib\\site-packages\\ipykernel_launcher.py:6: SettingWithCopyWarning:\n",
      "\n",
      "\n",
      "A value is trying to be set on a copy of a slice from a DataFrame.\n",
      "Try using .loc[row_indexer,col_indexer] = value instead\n",
      "\n",
      "See the caveats in the documentation: https://pandas.pydata.org/pandas-docs/stable/user_guide/indexing.html#returning-a-view-versus-a-copy\n",
      "\n",
      "C:\\Users\\pato-\\anaconda3\\envs\\dhdsblend\\lib\\site-packages\\ipykernel_launcher.py:7: SettingWithCopyWarning:\n",
      "\n",
      "\n",
      "A value is trying to be set on a copy of a slice from a DataFrame.\n",
      "Try using .loc[row_indexer,col_indexer] = value instead\n",
      "\n",
      "See the caveats in the documentation: https://pandas.pydata.org/pandas-docs/stable/user_guide/indexing.html#returning-a-view-versus-a-copy\n",
      "\n"
     ]
    }
   ],
   "source": [
    "baires['nulos'] = pd.isnull(baires['price_per_m2'])\n",
    "caba['nulos'] = pd.isnull(caba['price_per_m2'])\n",
    "bsas_sur['nulos'] = pd.isnull(bsas_sur['price_per_m2'])\n",
    "bsas_norte['nulos'] = pd.isnull(bsas_norte['price_per_m2'])\n",
    "bsas_costa['nulos'] = pd.isnull(bsas_costa['price_per_m2'])\n",
    "bsas_oeste['nulos'] = pd.isnull(bsas_oeste['price_per_m2'])\n",
    "bsas_interior['nulos'] = pd.isnull(bsas_interior['price_per_m2'])\n",
    "\n"
   ]
  },
  {
   "cell_type": "code",
   "execution_count": 72,
   "metadata": {},
   "outputs": [
    {
     "data": {
      "text/html": [
       "<div>\n",
       "<style scoped>\n",
       "    .dataframe tbody tr th:only-of-type {\n",
       "        vertical-align: middle;\n",
       "    }\n",
       "\n",
       "    .dataframe tbody tr th {\n",
       "        vertical-align: top;\n",
       "    }\n",
       "\n",
       "    .dataframe thead th {\n",
       "        text-align: right;\n",
       "    }\n",
       "</style>\n",
       "<table border=\"1\" class=\"dataframe\">\n",
       "  <thead>\n",
       "    <tr style=\"text-align: right;\">\n",
       "      <th></th>\n",
       "      <th>Unnamed: 0</th>\n",
       "      <th>operation</th>\n",
       "      <th>property_type</th>\n",
       "      <th>place_name</th>\n",
       "      <th>place_with_parent_names</th>\n",
       "      <th>country_name</th>\n",
       "      <th>state_name</th>\n",
       "      <th>geonames_id</th>\n",
       "      <th>lat-lon</th>\n",
       "      <th>lat</th>\n",
       "      <th>...</th>\n",
       "      <th>price_per_m2</th>\n",
       "      <th>floor</th>\n",
       "      <th>rooms</th>\n",
       "      <th>expenses</th>\n",
       "      <th>properati_url</th>\n",
       "      <th>description</th>\n",
       "      <th>title</th>\n",
       "      <th>image_thumbnail</th>\n",
       "      <th>counter</th>\n",
       "      <th>nulos</th>\n",
       "    </tr>\n",
       "  </thead>\n",
       "  <tbody>\n",
       "    <tr>\n",
       "      <th>0</th>\n",
       "      <td>0</td>\n",
       "      <td>sell</td>\n",
       "      <td>PH</td>\n",
       "      <td>Mataderos</td>\n",
       "      <td>|Argentina|Capital Federal|Mataderos|</td>\n",
       "      <td>Argentina</td>\n",
       "      <td>Capital Federal</td>\n",
       "      <td>3430787.0</td>\n",
       "      <td>-34.6618237,-58.5088387</td>\n",
       "      <td>-34.661824</td>\n",
       "      <td>...</td>\n",
       "      <td>1550.000000</td>\n",
       "      <td>NaN</td>\n",
       "      <td>NaN</td>\n",
       "      <td>NaN</td>\n",
       "      <td>http://www.properati.com.ar/15bo8_venta_ph_mat...</td>\n",
       "      <td>2 AMBIENTES TIPO CASA PLANTA BAJA POR PASILLO,...</td>\n",
       "      <td>2 AMB TIPO CASA SIN EXPENSAS EN PB</td>\n",
       "      <td>https://thumbs4.properati.com/8/BluUYiHJLhgIIK...</td>\n",
       "      <td>1</td>\n",
       "      <td>False</td>\n",
       "    </tr>\n",
       "    <tr>\n",
       "      <th>1</th>\n",
       "      <td>1</td>\n",
       "      <td>sell</td>\n",
       "      <td>apartment</td>\n",
       "      <td>La Plata</td>\n",
       "      <td>|Argentina|Bs.As. G.B.A. Zona Sur|La Plata|</td>\n",
       "      <td>Argentina</td>\n",
       "      <td>Bs.As. G.B.A. Zona Sur</td>\n",
       "      <td>3432039.0</td>\n",
       "      <td>-34.9038831,-57.9643295</td>\n",
       "      <td>-34.903883</td>\n",
       "      <td>...</td>\n",
       "      <td>NaN</td>\n",
       "      <td>NaN</td>\n",
       "      <td>NaN</td>\n",
       "      <td>NaN</td>\n",
       "      <td>http://www.properati.com.ar/15bob_venta_depart...</td>\n",
       "      <td>Venta de departamento en décimo piso al frente...</td>\n",
       "      <td>VENTA Depto 2 dorm. a estrenar 7 e/ 36 y 37   ...</td>\n",
       "      <td>https://thumbs4.properati.com/7/ikpVBu2ztHA7jv...</td>\n",
       "      <td>1</td>\n",
       "      <td>True</td>\n",
       "    </tr>\n",
       "    <tr>\n",
       "      <th>2</th>\n",
       "      <td>2</td>\n",
       "      <td>sell</td>\n",
       "      <td>apartment</td>\n",
       "      <td>Mataderos</td>\n",
       "      <td>|Argentina|Capital Federal|Mataderos|</td>\n",
       "      <td>Argentina</td>\n",
       "      <td>Capital Federal</td>\n",
       "      <td>3430787.0</td>\n",
       "      <td>-34.6522615,-58.5229825</td>\n",
       "      <td>-34.652262</td>\n",
       "      <td>...</td>\n",
       "      <td>1309.090909</td>\n",
       "      <td>NaN</td>\n",
       "      <td>NaN</td>\n",
       "      <td>NaN</td>\n",
       "      <td>http://www.properati.com.ar/15bod_venta_depart...</td>\n",
       "      <td>2 AMBIENTES 3ER PISO LATERAL LIVING COMEDOR AM...</td>\n",
       "      <td>2 AMB 3ER PISO CON ASCENSOR APTO CREDITO</td>\n",
       "      <td>https://thumbs4.properati.com/5/SXKr34F_IwG3W_...</td>\n",
       "      <td>1</td>\n",
       "      <td>False</td>\n",
       "    </tr>\n",
       "    <tr>\n",
       "      <th>3</th>\n",
       "      <td>3</td>\n",
       "      <td>sell</td>\n",
       "      <td>PH</td>\n",
       "      <td>Liniers</td>\n",
       "      <td>|Argentina|Capital Federal|Liniers|</td>\n",
       "      <td>Argentina</td>\n",
       "      <td>Capital Federal</td>\n",
       "      <td>3431333.0</td>\n",
       "      <td>-34.6477969,-58.5164244</td>\n",
       "      <td>-34.647797</td>\n",
       "      <td>...</td>\n",
       "      <td>NaN</td>\n",
       "      <td>NaN</td>\n",
       "      <td>NaN</td>\n",
       "      <td>NaN</td>\n",
       "      <td>http://www.properati.com.ar/15boh_venta_ph_lin...</td>\n",
       "      <td>PH 3 ambientes con patio. Hay 3 deptos en lote...</td>\n",
       "      <td>PH 3 amb. cfte. reciclado</td>\n",
       "      <td>https://thumbs4.properati.com/3/DgIfX-85Mog5SP...</td>\n",
       "      <td>1</td>\n",
       "      <td>True</td>\n",
       "    </tr>\n",
       "    <tr>\n",
       "      <th>4</th>\n",
       "      <td>4</td>\n",
       "      <td>sell</td>\n",
       "      <td>apartment</td>\n",
       "      <td>Centro</td>\n",
       "      <td>|Argentina|Buenos Aires Costa Atlántica|Mar de...</td>\n",
       "      <td>Argentina</td>\n",
       "      <td>Buenos Aires Costa Atlántica</td>\n",
       "      <td>3435548.0</td>\n",
       "      <td>-38.0026256,-57.5494468</td>\n",
       "      <td>-38.002626</td>\n",
       "      <td>...</td>\n",
       "      <td>1828.571429</td>\n",
       "      <td>NaN</td>\n",
       "      <td>NaN</td>\n",
       "      <td>NaN</td>\n",
       "      <td>http://www.properati.com.ar/15bok_venta_depart...</td>\n",
       "      <td>DEPARTAMENTO CON FANTÁSTICA ILUMINACIÓN NATURA...</td>\n",
       "      <td>DEPTO 2 AMB AL CONTRAFRENTE ZONA CENTRO/PLAZA ...</td>\n",
       "      <td>https://thumbs4.properati.com/5/xrRqlNcSI_vs-f...</td>\n",
       "      <td>1</td>\n",
       "      <td>False</td>\n",
       "    </tr>\n",
       "    <tr>\n",
       "      <th>...</th>\n",
       "      <td>...</td>\n",
       "      <td>...</td>\n",
       "      <td>...</td>\n",
       "      <td>...</td>\n",
       "      <td>...</td>\n",
       "      <td>...</td>\n",
       "      <td>...</td>\n",
       "      <td>...</td>\n",
       "      <td>...</td>\n",
       "      <td>...</td>\n",
       "      <td>...</td>\n",
       "      <td>...</td>\n",
       "      <td>...</td>\n",
       "      <td>...</td>\n",
       "      <td>...</td>\n",
       "      <td>...</td>\n",
       "      <td>...</td>\n",
       "      <td>...</td>\n",
       "      <td>...</td>\n",
       "      <td>...</td>\n",
       "      <td>...</td>\n",
       "    </tr>\n",
       "    <tr>\n",
       "      <th>121215</th>\n",
       "      <td>121215</td>\n",
       "      <td>sell</td>\n",
       "      <td>apartment</td>\n",
       "      <td>Belgrano</td>\n",
       "      <td>|Argentina|Capital Federal|Belgrano|</td>\n",
       "      <td>Argentina</td>\n",
       "      <td>Capital Federal</td>\n",
       "      <td>3436077.0</td>\n",
       "      <td>NaN</td>\n",
       "      <td>NaN</td>\n",
       "      <td>...</td>\n",
       "      <td>9354.838710</td>\n",
       "      <td>NaN</td>\n",
       "      <td>NaN</td>\n",
       "      <td>10000.0</td>\n",
       "      <td>http://www.properati.com.ar/1cja2_venta_depart...</td>\n",
       "      <td>TORRE FORUM ALCORTA - MÁXIMA CATEGORÍA.Impecab...</td>\n",
       "      <td>Torre Forum Alcorta- Impecable 3 ambientes</td>\n",
       "      <td>https://thumbs4.properati.com/1/bjms0KnaAnlNoQ...</td>\n",
       "      <td>1</td>\n",
       "      <td>False</td>\n",
       "    </tr>\n",
       "    <tr>\n",
       "      <th>121216</th>\n",
       "      <td>121216</td>\n",
       "      <td>sell</td>\n",
       "      <td>house</td>\n",
       "      <td>Beccar</td>\n",
       "      <td>|Argentina|Bs.As. G.B.A. Zona Norte|San Isidro...</td>\n",
       "      <td>Argentina</td>\n",
       "      <td>Bs.As. G.B.A. Zona Norte</td>\n",
       "      <td>3436080.0</td>\n",
       "      <td>NaN</td>\n",
       "      <td>NaN</td>\n",
       "      <td>...</td>\n",
       "      <td>1383.333333</td>\n",
       "      <td>NaN</td>\n",
       "      <td>NaN</td>\n",
       "      <td>NaN</td>\n",
       "      <td>http://www.properati.com.ar/1cja6_venta_casa_b...</td>\n",
       "      <td>Excelente e impecable casa en Venta en Las Lom...</td>\n",
       "      <td>Ruca Inmuebles | Venta | Lomas de San Isidro |...</td>\n",
       "      <td>https://thumbs4.properati.com/2/PCc3WuQDjpNZc4...</td>\n",
       "      <td>1</td>\n",
       "      <td>False</td>\n",
       "    </tr>\n",
       "    <tr>\n",
       "      <th>121217</th>\n",
       "      <td>121217</td>\n",
       "      <td>sell</td>\n",
       "      <td>apartment</td>\n",
       "      <td>Villa Urquiza</td>\n",
       "      <td>|Argentina|Capital Federal|Villa Urquiza|</td>\n",
       "      <td>Argentina</td>\n",
       "      <td>Capital Federal</td>\n",
       "      <td>3433775.0</td>\n",
       "      <td>-34.5706388726,-58.4755963355</td>\n",
       "      <td>-34.570639</td>\n",
       "      <td>...</td>\n",
       "      <td>3371.794872</td>\n",
       "      <td>NaN</td>\n",
       "      <td>NaN</td>\n",
       "      <td>NaN</td>\n",
       "      <td>http://www.properati.com.ar/1cja7_venta_depart...</td>\n",
       "      <td>VENTA DEPARTAMENTO AMBIENTE DIVISIBLE A ESTREN...</td>\n",
       "      <td>VENTA DEPARTAMENTO AMBIENTE DIVISIBLE A ESTREN...</td>\n",
       "      <td>https://thumbs4.properati.com/9/YAe_-2gRVykADP...</td>\n",
       "      <td>1</td>\n",
       "      <td>False</td>\n",
       "    </tr>\n",
       "    <tr>\n",
       "      <th>121218</th>\n",
       "      <td>121218</td>\n",
       "      <td>sell</td>\n",
       "      <td>apartment</td>\n",
       "      <td>Plaza Colón</td>\n",
       "      <td>|Argentina|Buenos Aires Costa Atlántica|Mar de...</td>\n",
       "      <td>Argentina</td>\n",
       "      <td>Buenos Aires Costa Atlántica</td>\n",
       "      <td>NaN</td>\n",
       "      <td>NaN</td>\n",
       "      <td>NaN</td>\n",
       "      <td>...</td>\n",
       "      <td>1997.916667</td>\n",
       "      <td>NaN</td>\n",
       "      <td>NaN</td>\n",
       "      <td>NaN</td>\n",
       "      <td>http://www.properati.com.ar/1cja8_venta_depart...</td>\n",
       "      <td>2 Amb al contrafrente,  luminoso. El departame...</td>\n",
       "      <td>2 amb. C/ dep. de servicio al contrafrente| Re...</td>\n",
       "      <td>https://thumbs4.properati.com/8/Q12PTvU6BQJ0ib...</td>\n",
       "      <td>1</td>\n",
       "      <td>False</td>\n",
       "    </tr>\n",
       "    <tr>\n",
       "      <th>121219</th>\n",
       "      <td>121219</td>\n",
       "      <td>sell</td>\n",
       "      <td>apartment</td>\n",
       "      <td>Capital Federal</td>\n",
       "      <td>|Argentina|Capital Federal|</td>\n",
       "      <td>Argentina</td>\n",
       "      <td>Capital Federal</td>\n",
       "      <td>3433955.0</td>\n",
       "      <td>NaN</td>\n",
       "      <td>NaN</td>\n",
       "      <td>...</td>\n",
       "      <td>1675.324675</td>\n",
       "      <td>NaN</td>\n",
       "      <td>NaN</td>\n",
       "      <td>3500.0</td>\n",
       "      <td>http://www.properati.com.ar/1cjaa_venta_depart...</td>\n",
       "      <td>Departamento de 77 m2 apto profesional. Edific...</td>\n",
       "      <td>Departamento apto profesional en el Centro</td>\n",
       "      <td>https://thumbs4.properati.com/8/mNEsnQWqB7joBF...</td>\n",
       "      <td>1</td>\n",
       "      <td>False</td>\n",
       "    </tr>\n",
       "  </tbody>\n",
       "</table>\n",
       "<p>93447 rows × 28 columns</p>\n",
       "</div>"
      ],
      "text/plain": [
       "        Unnamed: 0 operation property_type       place_name  \\\n",
       "0                0      sell            PH        Mataderos   \n",
       "1                1      sell     apartment         La Plata   \n",
       "2                2      sell     apartment        Mataderos   \n",
       "3                3      sell            PH          Liniers   \n",
       "4                4      sell     apartment           Centro   \n",
       "...            ...       ...           ...              ...   \n",
       "121215      121215      sell     apartment         Belgrano   \n",
       "121216      121216      sell         house           Beccar   \n",
       "121217      121217      sell     apartment    Villa Urquiza   \n",
       "121218      121218      sell     apartment      Plaza Colón   \n",
       "121219      121219      sell     apartment  Capital Federal   \n",
       "\n",
       "                                  place_with_parent_names country_name  \\\n",
       "0                   |Argentina|Capital Federal|Mataderos|    Argentina   \n",
       "1             |Argentina|Bs.As. G.B.A. Zona Sur|La Plata|    Argentina   \n",
       "2                   |Argentina|Capital Federal|Mataderos|    Argentina   \n",
       "3                     |Argentina|Capital Federal|Liniers|    Argentina   \n",
       "4       |Argentina|Buenos Aires Costa Atlántica|Mar de...    Argentina   \n",
       "...                                                   ...          ...   \n",
       "121215               |Argentina|Capital Federal|Belgrano|    Argentina   \n",
       "121216  |Argentina|Bs.As. G.B.A. Zona Norte|San Isidro...    Argentina   \n",
       "121217          |Argentina|Capital Federal|Villa Urquiza|    Argentina   \n",
       "121218  |Argentina|Buenos Aires Costa Atlántica|Mar de...    Argentina   \n",
       "121219                        |Argentina|Capital Federal|    Argentina   \n",
       "\n",
       "                          state_name  geonames_id  \\\n",
       "0                    Capital Federal    3430787.0   \n",
       "1             Bs.As. G.B.A. Zona Sur    3432039.0   \n",
       "2                    Capital Federal    3430787.0   \n",
       "3                    Capital Federal    3431333.0   \n",
       "4       Buenos Aires Costa Atlántica    3435548.0   \n",
       "...                              ...          ...   \n",
       "121215               Capital Federal    3436077.0   \n",
       "121216      Bs.As. G.B.A. Zona Norte    3436080.0   \n",
       "121217               Capital Federal    3433775.0   \n",
       "121218  Buenos Aires Costa Atlántica          NaN   \n",
       "121219               Capital Federal    3433955.0   \n",
       "\n",
       "                              lat-lon        lat  ...  price_per_m2  floor  \\\n",
       "0             -34.6618237,-58.5088387 -34.661824  ...   1550.000000    NaN   \n",
       "1             -34.9038831,-57.9643295 -34.903883  ...           NaN    NaN   \n",
       "2             -34.6522615,-58.5229825 -34.652262  ...   1309.090909    NaN   \n",
       "3             -34.6477969,-58.5164244 -34.647797  ...           NaN    NaN   \n",
       "4             -38.0026256,-57.5494468 -38.002626  ...   1828.571429    NaN   \n",
       "...                               ...        ...  ...           ...    ...   \n",
       "121215                            NaN        NaN  ...   9354.838710    NaN   \n",
       "121216                            NaN        NaN  ...   1383.333333    NaN   \n",
       "121217  -34.5706388726,-58.4755963355 -34.570639  ...   3371.794872    NaN   \n",
       "121218                            NaN        NaN  ...   1997.916667    NaN   \n",
       "121219                            NaN        NaN  ...   1675.324675    NaN   \n",
       "\n",
       "       rooms  expenses                                      properati_url  \\\n",
       "0        NaN       NaN  http://www.properati.com.ar/15bo8_venta_ph_mat...   \n",
       "1        NaN       NaN  http://www.properati.com.ar/15bob_venta_depart...   \n",
       "2        NaN       NaN  http://www.properati.com.ar/15bod_venta_depart...   \n",
       "3        NaN       NaN  http://www.properati.com.ar/15boh_venta_ph_lin...   \n",
       "4        NaN       NaN  http://www.properati.com.ar/15bok_venta_depart...   \n",
       "...      ...       ...                                                ...   \n",
       "121215   NaN   10000.0  http://www.properati.com.ar/1cja2_venta_depart...   \n",
       "121216   NaN       NaN  http://www.properati.com.ar/1cja6_venta_casa_b...   \n",
       "121217   NaN       NaN  http://www.properati.com.ar/1cja7_venta_depart...   \n",
       "121218   NaN       NaN  http://www.properati.com.ar/1cja8_venta_depart...   \n",
       "121219   NaN    3500.0  http://www.properati.com.ar/1cjaa_venta_depart...   \n",
       "\n",
       "                                              description  \\\n",
       "0       2 AMBIENTES TIPO CASA PLANTA BAJA POR PASILLO,...   \n",
       "1       Venta de departamento en décimo piso al frente...   \n",
       "2       2 AMBIENTES 3ER PISO LATERAL LIVING COMEDOR AM...   \n",
       "3       PH 3 ambientes con patio. Hay 3 deptos en lote...   \n",
       "4       DEPARTAMENTO CON FANTÁSTICA ILUMINACIÓN NATURA...   \n",
       "...                                                   ...   \n",
       "121215  TORRE FORUM ALCORTA - MÁXIMA CATEGORÍA.Impecab...   \n",
       "121216  Excelente e impecable casa en Venta en Las Lom...   \n",
       "121217  VENTA DEPARTAMENTO AMBIENTE DIVISIBLE A ESTREN...   \n",
       "121218  2 Amb al contrafrente,  luminoso. El departame...   \n",
       "121219  Departamento de 77 m2 apto profesional. Edific...   \n",
       "\n",
       "                                                    title  \\\n",
       "0                      2 AMB TIPO CASA SIN EXPENSAS EN PB   \n",
       "1       VENTA Depto 2 dorm. a estrenar 7 e/ 36 y 37   ...   \n",
       "2                2 AMB 3ER PISO CON ASCENSOR APTO CREDITO   \n",
       "3                            PH 3 amb. cfte. reciclado      \n",
       "4       DEPTO 2 AMB AL CONTRAFRENTE ZONA CENTRO/PLAZA ...   \n",
       "...                                                   ...   \n",
       "121215         Torre Forum Alcorta- Impecable 3 ambientes   \n",
       "121216  Ruca Inmuebles | Venta | Lomas de San Isidro |...   \n",
       "121217  VENTA DEPARTAMENTO AMBIENTE DIVISIBLE A ESTREN...   \n",
       "121218  2 amb. C/ dep. de servicio al contrafrente| Re...   \n",
       "121219         Departamento apto profesional en el Centro   \n",
       "\n",
       "                                          image_thumbnail  counter  nulos  \n",
       "0       https://thumbs4.properati.com/8/BluUYiHJLhgIIK...        1  False  \n",
       "1       https://thumbs4.properati.com/7/ikpVBu2ztHA7jv...        1   True  \n",
       "2       https://thumbs4.properati.com/5/SXKr34F_IwG3W_...        1  False  \n",
       "3       https://thumbs4.properati.com/3/DgIfX-85Mog5SP...        1   True  \n",
       "4       https://thumbs4.properati.com/5/xrRqlNcSI_vs-f...        1  False  \n",
       "...                                                   ...      ...    ...  \n",
       "121215  https://thumbs4.properati.com/1/bjms0KnaAnlNoQ...        1  False  \n",
       "121216  https://thumbs4.properati.com/2/PCc3WuQDjpNZc4...        1  False  \n",
       "121217  https://thumbs4.properati.com/9/YAe_-2gRVykADP...        1  False  \n",
       "121218  https://thumbs4.properati.com/8/Q12PTvU6BQJ0ib...        1  False  \n",
       "121219  https://thumbs4.properati.com/8/mNEsnQWqB7joBF...        1  False  \n",
       "\n",
       "[93447 rows x 28 columns]"
      ]
     },
     "execution_count": 72,
     "metadata": {},
     "output_type": "execute_result"
    }
   ],
   "source": [
    "baires"
   ]
  },
  {
   "cell_type": "code",
   "execution_count": 136,
   "metadata": {},
   "outputs": [
    {
     "name": "stderr",
     "output_type": "stream",
     "text": [
      "C:\\Users\\pato-\\anaconda3\\envs\\dhdsblend\\lib\\site-packages\\ipykernel_launcher.py:1: SettingWithCopyWarning:\n",
      "\n",
      "\n",
      "A value is trying to be set on a copy of a slice from a DataFrame.\n",
      "Try using .loc[row_indexer,col_indexer] = value instead\n",
      "\n",
      "See the caveats in the documentation: https://pandas.pydata.org/pandas-docs/stable/user_guide/indexing.html#returning-a-view-versus-a-copy\n",
      "\n",
      "C:\\Users\\pato-\\anaconda3\\envs\\dhdsblend\\lib\\site-packages\\ipykernel_launcher.py:2: SettingWithCopyWarning:\n",
      "\n",
      "\n",
      "A value is trying to be set on a copy of a slice from a DataFrame.\n",
      "Try using .loc[row_indexer,col_indexer] = value instead\n",
      "\n",
      "See the caveats in the documentation: https://pandas.pydata.org/pandas-docs/stable/user_guide/indexing.html#returning-a-view-versus-a-copy\n",
      "\n",
      "C:\\Users\\pato-\\anaconda3\\envs\\dhdsblend\\lib\\site-packages\\ipykernel_launcher.py:3: SettingWithCopyWarning:\n",
      "\n",
      "\n",
      "A value is trying to be set on a copy of a slice from a DataFrame.\n",
      "Try using .loc[row_indexer,col_indexer] = value instead\n",
      "\n",
      "See the caveats in the documentation: https://pandas.pydata.org/pandas-docs/stable/user_guide/indexing.html#returning-a-view-versus-a-copy\n",
      "\n",
      "C:\\Users\\pato-\\anaconda3\\envs\\dhdsblend\\lib\\site-packages\\ipykernel_launcher.py:4: SettingWithCopyWarning:\n",
      "\n",
      "\n",
      "A value is trying to be set on a copy of a slice from a DataFrame.\n",
      "Try using .loc[row_indexer,col_indexer] = value instead\n",
      "\n",
      "See the caveats in the documentation: https://pandas.pydata.org/pandas-docs/stable/user_guide/indexing.html#returning-a-view-versus-a-copy\n",
      "\n",
      "C:\\Users\\pato-\\anaconda3\\envs\\dhdsblend\\lib\\site-packages\\ipykernel_launcher.py:5: SettingWithCopyWarning:\n",
      "\n",
      "\n",
      "A value is trying to be set on a copy of a slice from a DataFrame.\n",
      "Try using .loc[row_indexer,col_indexer] = value instead\n",
      "\n",
      "See the caveats in the documentation: https://pandas.pydata.org/pandas-docs/stable/user_guide/indexing.html#returning-a-view-versus-a-copy\n",
      "\n",
      "C:\\Users\\pato-\\anaconda3\\envs\\dhdsblend\\lib\\site-packages\\ipykernel_launcher.py:6: SettingWithCopyWarning:\n",
      "\n",
      "\n",
      "A value is trying to be set on a copy of a slice from a DataFrame.\n",
      "Try using .loc[row_indexer,col_indexer] = value instead\n",
      "\n",
      "See the caveats in the documentation: https://pandas.pydata.org/pandas-docs/stable/user_guide/indexing.html#returning-a-view-versus-a-copy\n",
      "\n",
      "C:\\Users\\pato-\\anaconda3\\envs\\dhdsblend\\lib\\site-packages\\ipykernel_launcher.py:7: SettingWithCopyWarning:\n",
      "\n",
      "\n",
      "A value is trying to be set on a copy of a slice from a DataFrame.\n",
      "Try using .loc[row_indexer,col_indexer] = value instead\n",
      "\n",
      "See the caveats in the documentation: https://pandas.pydata.org/pandas-docs/stable/user_guide/indexing.html#returning-a-view-versus-a-copy\n",
      "\n"
     ]
    },
    {
     "data": {
      "text/html": [
       "<div>\n",
       "<style scoped>\n",
       "    .dataframe tbody tr th:only-of-type {\n",
       "        vertical-align: middle;\n",
       "    }\n",
       "\n",
       "    .dataframe tbody tr th {\n",
       "        vertical-align: top;\n",
       "    }\n",
       "\n",
       "    .dataframe thead th {\n",
       "        text-align: right;\n",
       "    }\n",
       "</style>\n",
       "<table border=\"1\" class=\"dataframe\">\n",
       "  <thead>\n",
       "    <tr style=\"text-align: right;\">\n",
       "      <th></th>\n",
       "      <th>state_name</th>\n",
       "      <th>price_per_m2</th>\n",
       "      <th>price_usd_per_m2</th>\n",
       "      <th>nulos</th>\n",
       "    </tr>\n",
       "  </thead>\n",
       "  <tbody>\n",
       "    <tr>\n",
       "      <th>0</th>\n",
       "      <td>Capital Federal</td>\n",
       "      <td>1550.000000</td>\n",
       "      <td>1127.272727</td>\n",
       "      <td>False</td>\n",
       "    </tr>\n",
       "    <tr>\n",
       "      <th>1</th>\n",
       "      <td>Bs.As. G.B.A. Zona Sur</td>\n",
       "      <td>NaN</td>\n",
       "      <td>NaN</td>\n",
       "      <td>True</td>\n",
       "    </tr>\n",
       "    <tr>\n",
       "      <th>2</th>\n",
       "      <td>Capital Federal</td>\n",
       "      <td>1309.090909</td>\n",
       "      <td>1309.090909</td>\n",
       "      <td>False</td>\n",
       "    </tr>\n",
       "    <tr>\n",
       "      <th>3</th>\n",
       "      <td>Capital Federal</td>\n",
       "      <td>NaN</td>\n",
       "      <td>NaN</td>\n",
       "      <td>True</td>\n",
       "    </tr>\n",
       "    <tr>\n",
       "      <th>4</th>\n",
       "      <td>Buenos Aires Costa Atlántica</td>\n",
       "      <td>1828.571429</td>\n",
       "      <td>1828.571429</td>\n",
       "      <td>False</td>\n",
       "    </tr>\n",
       "    <tr>\n",
       "      <th>...</th>\n",
       "      <td>...</td>\n",
       "      <td>...</td>\n",
       "      <td>...</td>\n",
       "      <td>...</td>\n",
       "    </tr>\n",
       "    <tr>\n",
       "      <th>121215</th>\n",
       "      <td>Capital Federal</td>\n",
       "      <td>9354.838710</td>\n",
       "      <td>7699.115044</td>\n",
       "      <td>False</td>\n",
       "    </tr>\n",
       "    <tr>\n",
       "      <th>121216</th>\n",
       "      <td>Bs.As. G.B.A. Zona Norte</td>\n",
       "      <td>1383.333333</td>\n",
       "      <td>1383.333333</td>\n",
       "      <td>False</td>\n",
       "    </tr>\n",
       "    <tr>\n",
       "      <th>121217</th>\n",
       "      <td>Capital Federal</td>\n",
       "      <td>3371.794872</td>\n",
       "      <td>2858.695652</td>\n",
       "      <td>False</td>\n",
       "    </tr>\n",
       "    <tr>\n",
       "      <th>121218</th>\n",
       "      <td>Buenos Aires Costa Atlántica</td>\n",
       "      <td>1997.916667</td>\n",
       "      <td>1997.916667</td>\n",
       "      <td>False</td>\n",
       "    </tr>\n",
       "    <tr>\n",
       "      <th>121219</th>\n",
       "      <td>Capital Federal</td>\n",
       "      <td>1675.324675</td>\n",
       "      <td>1675.324675</td>\n",
       "      <td>False</td>\n",
       "    </tr>\n",
       "  </tbody>\n",
       "</table>\n",
       "<p>93447 rows × 4 columns</p>\n",
       "</div>"
      ],
      "text/plain": [
       "                          state_name  price_per_m2  price_usd_per_m2  nulos\n",
       "0                    Capital Federal   1550.000000       1127.272727  False\n",
       "1             Bs.As. G.B.A. Zona Sur           NaN               NaN   True\n",
       "2                    Capital Federal   1309.090909       1309.090909  False\n",
       "3                    Capital Federal           NaN               NaN   True\n",
       "4       Buenos Aires Costa Atlántica   1828.571429       1828.571429  False\n",
       "...                              ...           ...               ...    ...\n",
       "121215               Capital Federal   9354.838710       7699.115044  False\n",
       "121216      Bs.As. G.B.A. Zona Norte   1383.333333       1383.333333  False\n",
       "121217               Capital Federal   3371.794872       2858.695652  False\n",
       "121218  Buenos Aires Costa Atlántica   1997.916667       1997.916667  False\n",
       "121219               Capital Federal   1675.324675       1675.324675  False\n",
       "\n",
       "[93447 rows x 4 columns]"
      ]
     },
     "execution_count": 136,
     "metadata": {},
     "output_type": "execute_result"
    }
   ],
   "source": [
    "baires['counter'] = 1\n",
    "caba['counter'] = 1\n",
    "bsas_costa['counter'] = 1\n",
    "bsas_norte['counter'] = 1\n",
    "bsas_oeste['counter'] = 1\n",
    "bsas_sur['counter'] = 1\n",
    "bsas_interior['counter'] = 1\n",
    "\n",
    "\n",
    "\n",
    "baires[['state_name','price_per_m2','price_usd_per_m2','nulos']]"
   ]
  },
  {
   "cell_type": "code",
   "execution_count": 76,
   "metadata": {},
   "outputs": [
    {
     "data": {
      "text/plain": [
       "Index(['Unnamed: 0', 'operation', 'property_type', 'place_name',\n",
       "       'place_with_parent_names', 'country_name', 'state_name', 'geonames_id',\n",
       "       'lat-lon', 'lat', 'lon', 'price', 'currency',\n",
       "       'price_aprox_local_currency', 'price_aprox_usd', 'surface_total_in_m2',\n",
       "       'surface_covered_in_m2', 'price_usd_per_m2', 'price_per_m2', 'floor',\n",
       "       'rooms', 'expenses', 'properati_url', 'description', 'title',\n",
       "       'image_thumbnail', 'counter', 'nulos'],\n",
       "      dtype='object')"
      ]
     },
     "execution_count": 76,
     "metadata": {},
     "output_type": "execute_result"
    }
   ],
   "source": [
    "baires.columns"
   ]
  },
  {
   "cell_type": "code",
   "execution_count": 111,
   "metadata": {},
   "outputs": [],
   "source": [
    "baires_group1 = baires.groupby(by=['state_name','nulos'],as_index=False)['counter'].sum()"
   ]
  },
  {
   "cell_type": "code",
   "execution_count": 79,
   "metadata": {},
   "outputs": [],
   "source": [
    "baires_group1['nulos'] = baires_group1['nulos'].astype(str)"
   ]
  },
  {
   "cell_type": "code",
   "execution_count": 82,
   "metadata": {},
   "outputs": [],
   "source": [
    "baires_group1['nulos'] = baires_group1.nulos.str.replace('False','Hay datos')\n",
    "baires_group1['nulos'] = baires_group1.nulos.str.replace('True','No hay datos')"
   ]
  },
  {
   "cell_type": "code",
   "execution_count": 118,
   "metadata": {},
   "outputs": [
    {
     "data": {
      "application/vnd.plotly.v1+json": {
       "config": {
        "plotlyServerURL": "https://plotly.com"
       },
       "data": [
        {
         "alignmentgroup": "True",
         "hovertemplate": "nulos=False<br>state_name=%{x}<br>counter=%{y}<extra></extra>",
         "legendgroup": "False",
         "marker": {
          "color": "#636efa"
         },
         "name": "False",
         "offsetgroup": "False",
         "orientation": "v",
         "showlegend": true,
         "textposition": "auto",
         "type": "bar",
         "x": [
          "Bs.As. G.B.A. Zona Norte",
          "Bs.As. G.B.A. Zona Oeste",
          "Bs.As. G.B.A. Zona Sur",
          "Buenos Aires Costa Atlántica",
          "Buenos Aires Interior",
          "Capital Federal"
         ],
         "xaxis": "x",
         "y": [
          22518,
          6266,
          9907,
          6924,
          1441,
          27324
         ],
         "yaxis": "y"
        },
        {
         "alignmentgroup": "True",
         "hovertemplate": "nulos=True<br>state_name=%{x}<br>counter=%{y}<extra></extra>",
         "legendgroup": "True",
         "marker": {
          "color": "#EF553B"
         },
         "name": "True",
         "offsetgroup": "True",
         "orientation": "v",
         "showlegend": true,
         "textposition": "auto",
         "type": "bar",
         "x": [
          "Bs.As. G.B.A. Zona Norte",
          "Bs.As. G.B.A. Zona Oeste",
          "Bs.As. G.B.A. Zona Sur",
          "Buenos Aires Costa Atlántica",
          "Buenos Aires Interior",
          "Capital Federal"
         ],
         "xaxis": "x",
         "y": [
          3042,
          3056,
          4045,
          3082,
          850,
          4992
         ],
         "yaxis": "y"
        }
       ],
       "layout": {
        "autosize": true,
        "barmode": "group",
        "legend": {
         "title": {
          "text": "nulos"
         },
         "tracegroupgap": 0
        },
        "template": {
         "data": {
          "bar": [
           {
            "error_x": {
             "color": "#2a3f5f"
            },
            "error_y": {
             "color": "#2a3f5f"
            },
            "marker": {
             "line": {
              "color": "#E5ECF6",
              "width": 0.5
             }
            },
            "type": "bar"
           }
          ],
          "barpolar": [
           {
            "marker": {
             "line": {
              "color": "#E5ECF6",
              "width": 0.5
             }
            },
            "type": "barpolar"
           }
          ],
          "carpet": [
           {
            "aaxis": {
             "endlinecolor": "#2a3f5f",
             "gridcolor": "white",
             "linecolor": "white",
             "minorgridcolor": "white",
             "startlinecolor": "#2a3f5f"
            },
            "baxis": {
             "endlinecolor": "#2a3f5f",
             "gridcolor": "white",
             "linecolor": "white",
             "minorgridcolor": "white",
             "startlinecolor": "#2a3f5f"
            },
            "type": "carpet"
           }
          ],
          "choropleth": [
           {
            "colorbar": {
             "outlinewidth": 0,
             "ticks": ""
            },
            "type": "choropleth"
           }
          ],
          "contour": [
           {
            "colorbar": {
             "outlinewidth": 0,
             "ticks": ""
            },
            "colorscale": [
             [
              0,
              "#0d0887"
             ],
             [
              0.1111111111111111,
              "#46039f"
             ],
             [
              0.2222222222222222,
              "#7201a8"
             ],
             [
              0.3333333333333333,
              "#9c179e"
             ],
             [
              0.4444444444444444,
              "#bd3786"
             ],
             [
              0.5555555555555556,
              "#d8576b"
             ],
             [
              0.6666666666666666,
              "#ed7953"
             ],
             [
              0.7777777777777778,
              "#fb9f3a"
             ],
             [
              0.8888888888888888,
              "#fdca26"
             ],
             [
              1,
              "#f0f921"
             ]
            ],
            "type": "contour"
           }
          ],
          "contourcarpet": [
           {
            "colorbar": {
             "outlinewidth": 0,
             "ticks": ""
            },
            "type": "contourcarpet"
           }
          ],
          "heatmap": [
           {
            "colorbar": {
             "outlinewidth": 0,
             "ticks": ""
            },
            "colorscale": [
             [
              0,
              "#0d0887"
             ],
             [
              0.1111111111111111,
              "#46039f"
             ],
             [
              0.2222222222222222,
              "#7201a8"
             ],
             [
              0.3333333333333333,
              "#9c179e"
             ],
             [
              0.4444444444444444,
              "#bd3786"
             ],
             [
              0.5555555555555556,
              "#d8576b"
             ],
             [
              0.6666666666666666,
              "#ed7953"
             ],
             [
              0.7777777777777778,
              "#fb9f3a"
             ],
             [
              0.8888888888888888,
              "#fdca26"
             ],
             [
              1,
              "#f0f921"
             ]
            ],
            "type": "heatmap"
           }
          ],
          "heatmapgl": [
           {
            "colorbar": {
             "outlinewidth": 0,
             "ticks": ""
            },
            "colorscale": [
             [
              0,
              "#0d0887"
             ],
             [
              0.1111111111111111,
              "#46039f"
             ],
             [
              0.2222222222222222,
              "#7201a8"
             ],
             [
              0.3333333333333333,
              "#9c179e"
             ],
             [
              0.4444444444444444,
              "#bd3786"
             ],
             [
              0.5555555555555556,
              "#d8576b"
             ],
             [
              0.6666666666666666,
              "#ed7953"
             ],
             [
              0.7777777777777778,
              "#fb9f3a"
             ],
             [
              0.8888888888888888,
              "#fdca26"
             ],
             [
              1,
              "#f0f921"
             ]
            ],
            "type": "heatmapgl"
           }
          ],
          "histogram": [
           {
            "marker": {
             "colorbar": {
              "outlinewidth": 0,
              "ticks": ""
             }
            },
            "type": "histogram"
           }
          ],
          "histogram2d": [
           {
            "colorbar": {
             "outlinewidth": 0,
             "ticks": ""
            },
            "colorscale": [
             [
              0,
              "#0d0887"
             ],
             [
              0.1111111111111111,
              "#46039f"
             ],
             [
              0.2222222222222222,
              "#7201a8"
             ],
             [
              0.3333333333333333,
              "#9c179e"
             ],
             [
              0.4444444444444444,
              "#bd3786"
             ],
             [
              0.5555555555555556,
              "#d8576b"
             ],
             [
              0.6666666666666666,
              "#ed7953"
             ],
             [
              0.7777777777777778,
              "#fb9f3a"
             ],
             [
              0.8888888888888888,
              "#fdca26"
             ],
             [
              1,
              "#f0f921"
             ]
            ],
            "type": "histogram2d"
           }
          ],
          "histogram2dcontour": [
           {
            "colorbar": {
             "outlinewidth": 0,
             "ticks": ""
            },
            "colorscale": [
             [
              0,
              "#0d0887"
             ],
             [
              0.1111111111111111,
              "#46039f"
             ],
             [
              0.2222222222222222,
              "#7201a8"
             ],
             [
              0.3333333333333333,
              "#9c179e"
             ],
             [
              0.4444444444444444,
              "#bd3786"
             ],
             [
              0.5555555555555556,
              "#d8576b"
             ],
             [
              0.6666666666666666,
              "#ed7953"
             ],
             [
              0.7777777777777778,
              "#fb9f3a"
             ],
             [
              0.8888888888888888,
              "#fdca26"
             ],
             [
              1,
              "#f0f921"
             ]
            ],
            "type": "histogram2dcontour"
           }
          ],
          "mesh3d": [
           {
            "colorbar": {
             "outlinewidth": 0,
             "ticks": ""
            },
            "type": "mesh3d"
           }
          ],
          "parcoords": [
           {
            "line": {
             "colorbar": {
              "outlinewidth": 0,
              "ticks": ""
             }
            },
            "type": "parcoords"
           }
          ],
          "pie": [
           {
            "automargin": true,
            "type": "pie"
           }
          ],
          "scatter": [
           {
            "marker": {
             "colorbar": {
              "outlinewidth": 0,
              "ticks": ""
             }
            },
            "type": "scatter"
           }
          ],
          "scatter3d": [
           {
            "line": {
             "colorbar": {
              "outlinewidth": 0,
              "ticks": ""
             }
            },
            "marker": {
             "colorbar": {
              "outlinewidth": 0,
              "ticks": ""
             }
            },
            "type": "scatter3d"
           }
          ],
          "scattercarpet": [
           {
            "marker": {
             "colorbar": {
              "outlinewidth": 0,
              "ticks": ""
             }
            },
            "type": "scattercarpet"
           }
          ],
          "scattergeo": [
           {
            "marker": {
             "colorbar": {
              "outlinewidth": 0,
              "ticks": ""
             }
            },
            "type": "scattergeo"
           }
          ],
          "scattergl": [
           {
            "marker": {
             "colorbar": {
              "outlinewidth": 0,
              "ticks": ""
             }
            },
            "type": "scattergl"
           }
          ],
          "scattermapbox": [
           {
            "marker": {
             "colorbar": {
              "outlinewidth": 0,
              "ticks": ""
             }
            },
            "type": "scattermapbox"
           }
          ],
          "scatterpolar": [
           {
            "marker": {
             "colorbar": {
              "outlinewidth": 0,
              "ticks": ""
             }
            },
            "type": "scatterpolar"
           }
          ],
          "scatterpolargl": [
           {
            "marker": {
             "colorbar": {
              "outlinewidth": 0,
              "ticks": ""
             }
            },
            "type": "scatterpolargl"
           }
          ],
          "scatterternary": [
           {
            "marker": {
             "colorbar": {
              "outlinewidth": 0,
              "ticks": ""
             }
            },
            "type": "scatterternary"
           }
          ],
          "surface": [
           {
            "colorbar": {
             "outlinewidth": 0,
             "ticks": ""
            },
            "colorscale": [
             [
              0,
              "#0d0887"
             ],
             [
              0.1111111111111111,
              "#46039f"
             ],
             [
              0.2222222222222222,
              "#7201a8"
             ],
             [
              0.3333333333333333,
              "#9c179e"
             ],
             [
              0.4444444444444444,
              "#bd3786"
             ],
             [
              0.5555555555555556,
              "#d8576b"
             ],
             [
              0.6666666666666666,
              "#ed7953"
             ],
             [
              0.7777777777777778,
              "#fb9f3a"
             ],
             [
              0.8888888888888888,
              "#fdca26"
             ],
             [
              1,
              "#f0f921"
             ]
            ],
            "type": "surface"
           }
          ],
          "table": [
           {
            "cells": {
             "fill": {
              "color": "#EBF0F8"
             },
             "line": {
              "color": "white"
             }
            },
            "header": {
             "fill": {
              "color": "#C8D4E3"
             },
             "line": {
              "color": "white"
             }
            },
            "type": "table"
           }
          ]
         },
         "layout": {
          "annotationdefaults": {
           "arrowcolor": "#2a3f5f",
           "arrowhead": 0,
           "arrowwidth": 1
          },
          "coloraxis": {
           "colorbar": {
            "outlinewidth": 0,
            "ticks": ""
           }
          },
          "colorscale": {
           "diverging": [
            [
             0,
             "#8e0152"
            ],
            [
             0.1,
             "#c51b7d"
            ],
            [
             0.2,
             "#de77ae"
            ],
            [
             0.3,
             "#f1b6da"
            ],
            [
             0.4,
             "#fde0ef"
            ],
            [
             0.5,
             "#f7f7f7"
            ],
            [
             0.6,
             "#e6f5d0"
            ],
            [
             0.7,
             "#b8e186"
            ],
            [
             0.8,
             "#7fbc41"
            ],
            [
             0.9,
             "#4d9221"
            ],
            [
             1,
             "#276419"
            ]
           ],
           "sequential": [
            [
             0,
             "#0d0887"
            ],
            [
             0.1111111111111111,
             "#46039f"
            ],
            [
             0.2222222222222222,
             "#7201a8"
            ],
            [
             0.3333333333333333,
             "#9c179e"
            ],
            [
             0.4444444444444444,
             "#bd3786"
            ],
            [
             0.5555555555555556,
             "#d8576b"
            ],
            [
             0.6666666666666666,
             "#ed7953"
            ],
            [
             0.7777777777777778,
             "#fb9f3a"
            ],
            [
             0.8888888888888888,
             "#fdca26"
            ],
            [
             1,
             "#f0f921"
            ]
           ],
           "sequentialminus": [
            [
             0,
             "#0d0887"
            ],
            [
             0.1111111111111111,
             "#46039f"
            ],
            [
             0.2222222222222222,
             "#7201a8"
            ],
            [
             0.3333333333333333,
             "#9c179e"
            ],
            [
             0.4444444444444444,
             "#bd3786"
            ],
            [
             0.5555555555555556,
             "#d8576b"
            ],
            [
             0.6666666666666666,
             "#ed7953"
            ],
            [
             0.7777777777777778,
             "#fb9f3a"
            ],
            [
             0.8888888888888888,
             "#fdca26"
            ],
            [
             1,
             "#f0f921"
            ]
           ]
          },
          "colorway": [
           "#636efa",
           "#EF553B",
           "#00cc96",
           "#ab63fa",
           "#FFA15A",
           "#19d3f3",
           "#FF6692",
           "#B6E880",
           "#FF97FF",
           "#FECB52"
          ],
          "font": {
           "color": "#2a3f5f"
          },
          "geo": {
           "bgcolor": "white",
           "lakecolor": "white",
           "landcolor": "#E5ECF6",
           "showlakes": true,
           "showland": true,
           "subunitcolor": "white"
          },
          "hoverlabel": {
           "align": "left"
          },
          "hovermode": "closest",
          "mapbox": {
           "style": "light"
          },
          "paper_bgcolor": "white",
          "plot_bgcolor": "#E5ECF6",
          "polar": {
           "angularaxis": {
            "gridcolor": "white",
            "linecolor": "white",
            "ticks": ""
           },
           "bgcolor": "#E5ECF6",
           "radialaxis": {
            "gridcolor": "white",
            "linecolor": "white",
            "ticks": ""
           }
          },
          "scene": {
           "xaxis": {
            "backgroundcolor": "#E5ECF6",
            "gridcolor": "white",
            "gridwidth": 2,
            "linecolor": "white",
            "showbackground": true,
            "ticks": "",
            "zerolinecolor": "white"
           },
           "yaxis": {
            "backgroundcolor": "#E5ECF6",
            "gridcolor": "white",
            "gridwidth": 2,
            "linecolor": "white",
            "showbackground": true,
            "ticks": "",
            "zerolinecolor": "white"
           },
           "zaxis": {
            "backgroundcolor": "#E5ECF6",
            "gridcolor": "white",
            "gridwidth": 2,
            "linecolor": "white",
            "showbackground": true,
            "ticks": "",
            "zerolinecolor": "white"
           }
          },
          "shapedefaults": {
           "line": {
            "color": "#2a3f5f"
           }
          },
          "ternary": {
           "aaxis": {
            "gridcolor": "white",
            "linecolor": "white",
            "ticks": ""
           },
           "baxis": {
            "gridcolor": "white",
            "linecolor": "white",
            "ticks": ""
           },
           "bgcolor": "#E5ECF6",
           "caxis": {
            "gridcolor": "white",
            "linecolor": "white",
            "ticks": ""
           }
          },
          "title": {
           "x": 0.05
          },
          "xaxis": {
           "automargin": true,
           "gridcolor": "white",
           "linecolor": "white",
           "ticks": "",
           "title": {
            "standoff": 15
           },
           "zerolinecolor": "white",
           "zerolinewidth": 2
          },
          "yaxis": {
           "automargin": true,
           "gridcolor": "white",
           "linecolor": "white",
           "ticks": "",
           "title": {
            "standoff": 15
           },
           "zerolinecolor": "white",
           "zerolinewidth": 2
          }
         }
        },
        "title": {
         "text": "Datos Grupo Buenos Aires"
        },
        "xaxis": {
         "anchor": "y",
         "autorange": true,
         "domain": [
          0,
          1
         ],
         "range": [
          -0.5,
          5.5
         ],
         "title": {
          "text": "state_name"
         },
         "type": "category"
        },
        "yaxis": {
         "anchor": "x",
         "autorange": true,
         "domain": [
          0,
          1
         ],
         "range": [
          0,
          28762.105263157893
         ],
         "title": {
          "text": "counter"
         },
         "type": "linear"
        }
       }
      },
      "image/png": "[encoded data removed]",
      "text/html": [
       "<div>\n",
       "        \n",
       "        \n",
       "            <div id=\"85a75856-78c9-48fc-8a1a-5392a1990988\" class=\"plotly-graph-div\" style=\"height:400px; width:100%;\"></div>\n",
       "            <script type=\"text/javascript\">\n",
       "                require([\"plotly\"], function(Plotly) {\n",
       "                    window.PLOTLYENV=window.PLOTLYENV || {};\n",
       "                    \n",
       "                if (document.getElementById(\"85a75856-78c9-48fc-8a1a-5392a1990988\")) {\n",
       "                    Plotly.newPlot(\n",
       "                        '85a75856-78c9-48fc-8a1a-5392a1990988',\n",
       "                        [{\"alignmentgroup\": \"True\", \"hovertemplate\": \"nulos=False<br>state_name=%{x}<br>counter=%{y}<extra></extra>\", \"legendgroup\": \"False\", \"marker\": {\"color\": \"#636efa\"}, \"name\": \"False\", \"offsetgroup\": \"False\", \"orientation\": \"v\", \"showlegend\": true, \"textposition\": \"auto\", \"type\": \"bar\", \"x\": [\"Bs.As. G.B.A. Zona Norte\", \"Bs.As. G.B.A. Zona Oeste\", \"Bs.As. G.B.A. Zona Sur\", \"Buenos Aires Costa Atl\\u00e1ntica\", \"Buenos Aires Interior\", \"Capital Federal\"], \"xaxis\": \"x\", \"y\": [22518, 6266, 9907, 6924, 1441, 27324], \"yaxis\": \"y\"}, {\"alignmentgroup\": \"True\", \"hovertemplate\": \"nulos=True<br>state_name=%{x}<br>counter=%{y}<extra></extra>\", \"legendgroup\": \"True\", \"marker\": {\"color\": \"#EF553B\"}, \"name\": \"True\", \"offsetgroup\": \"True\", \"orientation\": \"v\", \"showlegend\": true, \"textposition\": \"auto\", \"type\": \"bar\", \"x\": [\"Bs.As. G.B.A. Zona Norte\", \"Bs.As. G.B.A. Zona Oeste\", \"Bs.As. G.B.A. Zona Sur\", \"Buenos Aires Costa Atl\\u00e1ntica\", \"Buenos Aires Interior\", \"Capital Federal\"], \"xaxis\": \"x\", \"y\": [3042, 3056, 4045, 3082, 850, 4992], \"yaxis\": \"y\"}],\n",
       "                        {\"barmode\": \"group\", \"height\": 400, \"legend\": {\"title\": {\"text\": \"nulos\"}, \"tracegroupgap\": 0}, \"template\": {\"data\": {\"bar\": [{\"error_x\": {\"color\": \"#2a3f5f\"}, \"error_y\": {\"color\": \"#2a3f5f\"}, \"marker\": {\"line\": {\"color\": \"#E5ECF6\", \"width\": 0.5}}, \"type\": \"bar\"}], \"barpolar\": [{\"marker\": {\"line\": {\"color\": \"#E5ECF6\", \"width\": 0.5}}, \"type\": \"barpolar\"}], \"carpet\": [{\"aaxis\": {\"endlinecolor\": \"#2a3f5f\", \"gridcolor\": \"white\", \"linecolor\": \"white\", \"minorgridcolor\": \"white\", \"startlinecolor\": \"#2a3f5f\"}, \"baxis\": {\"endlinecolor\": \"#2a3f5f\", \"gridcolor\": \"white\", \"linecolor\": \"white\", \"minorgridcolor\": \"white\", \"startlinecolor\": \"#2a3f5f\"}, \"type\": \"carpet\"}], \"choropleth\": [{\"colorbar\": {\"outlinewidth\": 0, \"ticks\": \"\"}, \"type\": \"choropleth\"}], \"contour\": [{\"colorbar\": {\"outlinewidth\": 0, \"ticks\": \"\"}, \"colorscale\": [[0.0, \"#0d0887\"], [0.1111111111111111, \"#46039f\"], [0.2222222222222222, \"#7201a8\"], [0.3333333333333333, \"#9c179e\"], [0.4444444444444444, \"#bd3786\"], [0.5555555555555556, \"#d8576b\"], [0.6666666666666666, \"#ed7953\"], [0.7777777777777778, \"#fb9f3a\"], [0.8888888888888888, \"#fdca26\"], [1.0, \"#f0f921\"]], \"type\": \"contour\"}], \"contourcarpet\": [{\"colorbar\": {\"outlinewidth\": 0, \"ticks\": \"\"}, \"type\": \"contourcarpet\"}], \"heatmap\": [{\"colorbar\": {\"outlinewidth\": 0, \"ticks\": \"\"}, \"colorscale\": [[0.0, \"#0d0887\"], [0.1111111111111111, \"#46039f\"], [0.2222222222222222, \"#7201a8\"], [0.3333333333333333, \"#9c179e\"], [0.4444444444444444, \"#bd3786\"], [0.5555555555555556, \"#d8576b\"], [0.6666666666666666, \"#ed7953\"], [0.7777777777777778, \"#fb9f3a\"], [0.8888888888888888, \"#fdca26\"], [1.0, \"#f0f921\"]], \"type\": \"heatmap\"}], \"heatmapgl\": [{\"colorbar\": {\"outlinewidth\": 0, \"ticks\": \"\"}, \"colorscale\": [[0.0, \"#0d0887\"], [0.1111111111111111, \"#46039f\"], [0.2222222222222222, \"#7201a8\"], [0.3333333333333333, \"#9c179e\"], [0.4444444444444444, \"#bd3786\"], [0.5555555555555556, \"#d8576b\"], [0.6666666666666666, \"#ed7953\"], [0.7777777777777778, \"#fb9f3a\"], [0.8888888888888888, \"#fdca26\"], [1.0, \"#f0f921\"]], \"type\": \"heatmapgl\"}], \"histogram\": [{\"marker\": {\"colorbar\": {\"outlinewidth\": 0, \"ticks\": \"\"}}, \"type\": \"histogram\"}], \"histogram2d\": [{\"colorbar\": {\"outlinewidth\": 0, \"ticks\": \"\"}, \"colorscale\": [[0.0, \"#0d0887\"], [0.1111111111111111, \"#46039f\"], [0.2222222222222222, \"#7201a8\"], [0.3333333333333333, \"#9c179e\"], [0.4444444444444444, \"#bd3786\"], [0.5555555555555556, \"#d8576b\"], [0.6666666666666666, \"#ed7953\"], [0.7777777777777778, \"#fb9f3a\"], [0.8888888888888888, \"#fdca26\"], [1.0, \"#f0f921\"]], \"type\": \"histogram2d\"}], \"histogram2dcontour\": [{\"colorbar\": {\"outlinewidth\": 0, \"ticks\": \"\"}, \"colorscale\": [[0.0, \"#0d0887\"], [0.1111111111111111, \"#46039f\"], [0.2222222222222222, \"#7201a8\"], [0.3333333333333333, \"#9c179e\"], [0.4444444444444444, \"#bd3786\"], [0.5555555555555556, \"#d8576b\"], [0.6666666666666666, \"#ed7953\"], [0.7777777777777778, \"#fb9f3a\"], [0.8888888888888888, \"#fdca26\"], [1.0, \"#f0f921\"]], \"type\": \"histogram2dcontour\"}], \"mesh3d\": [{\"colorbar\": {\"outlinewidth\": 0, \"ticks\": \"\"}, \"type\": \"mesh3d\"}], \"parcoords\": [{\"line\": {\"colorbar\": {\"outlinewidth\": 0, \"ticks\": \"\"}}, \"type\": \"parcoords\"}], \"pie\": [{\"automargin\": true, \"type\": \"pie\"}], \"scatter\": [{\"marker\": {\"colorbar\": {\"outlinewidth\": 0, \"ticks\": \"\"}}, \"type\": \"scatter\"}], \"scatter3d\": [{\"line\": {\"colorbar\": {\"outlinewidth\": 0, \"ticks\": \"\"}}, \"marker\": {\"colorbar\": {\"outlinewidth\": 0, \"ticks\": \"\"}}, \"type\": \"scatter3d\"}], \"scattercarpet\": [{\"marker\": {\"colorbar\": {\"outlinewidth\": 0, \"ticks\": \"\"}}, \"type\": \"scattercarpet\"}], \"scattergeo\": [{\"marker\": {\"colorbar\": {\"outlinewidth\": 0, \"ticks\": \"\"}}, \"type\": \"scattergeo\"}], \"scattergl\": [{\"marker\": {\"colorbar\": {\"outlinewidth\": 0, \"ticks\": \"\"}}, \"type\": \"scattergl\"}], \"scattermapbox\": [{\"marker\": {\"colorbar\": {\"outlinewidth\": 0, \"ticks\": \"\"}}, \"type\": \"scattermapbox\"}], \"scatterpolar\": [{\"marker\": {\"colorbar\": {\"outlinewidth\": 0, \"ticks\": \"\"}}, \"type\": \"scatterpolar\"}], \"scatterpolargl\": [{\"marker\": {\"colorbar\": {\"outlinewidth\": 0, \"ticks\": \"\"}}, \"type\": \"scatterpolargl\"}], \"scatterternary\": [{\"marker\": {\"colorbar\": {\"outlinewidth\": 0, \"ticks\": \"\"}}, \"type\": \"scatterternary\"}], \"surface\": [{\"colorbar\": {\"outlinewidth\": 0, \"ticks\": \"\"}, \"colorscale\": [[0.0, \"#0d0887\"], [0.1111111111111111, \"#46039f\"], [0.2222222222222222, \"#7201a8\"], [0.3333333333333333, \"#9c179e\"], [0.4444444444444444, \"#bd3786\"], [0.5555555555555556, \"#d8576b\"], [0.6666666666666666, \"#ed7953\"], [0.7777777777777778, \"#fb9f3a\"], [0.8888888888888888, \"#fdca26\"], [1.0, \"#f0f921\"]], \"type\": \"surface\"}], \"table\": [{\"cells\": {\"fill\": {\"color\": \"#EBF0F8\"}, \"line\": {\"color\": \"white\"}}, \"header\": {\"fill\": {\"color\": \"#C8D4E3\"}, \"line\": {\"color\": \"white\"}}, \"type\": \"table\"}]}, \"layout\": {\"annotationdefaults\": {\"arrowcolor\": \"#2a3f5f\", \"arrowhead\": 0, \"arrowwidth\": 1}, \"coloraxis\": {\"colorbar\": {\"outlinewidth\": 0, \"ticks\": \"\"}}, \"colorscale\": {\"diverging\": [[0, \"#8e0152\"], [0.1, \"#c51b7d\"], [0.2, \"#de77ae\"], [0.3, \"#f1b6da\"], [0.4, \"#fde0ef\"], [0.5, \"#f7f7f7\"], [0.6, \"#e6f5d0\"], [0.7, \"#b8e186\"], [0.8, \"#7fbc41\"], [0.9, \"#4d9221\"], [1, \"#276419\"]], \"sequential\": [[0.0, \"#0d0887\"], [0.1111111111111111, \"#46039f\"], [0.2222222222222222, \"#7201a8\"], [0.3333333333333333, \"#9c179e\"], [0.4444444444444444, \"#bd3786\"], [0.5555555555555556, \"#d8576b\"], [0.6666666666666666, \"#ed7953\"], [0.7777777777777778, \"#fb9f3a\"], [0.8888888888888888, \"#fdca26\"], [1.0, \"#f0f921\"]], \"sequentialminus\": [[0.0, \"#0d0887\"], [0.1111111111111111, \"#46039f\"], [0.2222222222222222, \"#7201a8\"], [0.3333333333333333, \"#9c179e\"], [0.4444444444444444, \"#bd3786\"], [0.5555555555555556, \"#d8576b\"], [0.6666666666666666, \"#ed7953\"], [0.7777777777777778, \"#fb9f3a\"], [0.8888888888888888, \"#fdca26\"], [1.0, \"#f0f921\"]]}, \"colorway\": [\"#636efa\", \"#EF553B\", \"#00cc96\", \"#ab63fa\", \"#FFA15A\", \"#19d3f3\", \"#FF6692\", \"#B6E880\", \"#FF97FF\", \"#FECB52\"], \"font\": {\"color\": \"#2a3f5f\"}, \"geo\": {\"bgcolor\": \"white\", \"lakecolor\": \"white\", \"landcolor\": \"#E5ECF6\", \"showlakes\": true, \"showland\": true, \"subunitcolor\": \"white\"}, \"hoverlabel\": {\"align\": \"left\"}, \"hovermode\": \"closest\", \"mapbox\": {\"style\": \"light\"}, \"paper_bgcolor\": \"white\", \"plot_bgcolor\": \"#E5ECF6\", \"polar\": {\"angularaxis\": {\"gridcolor\": \"white\", \"linecolor\": \"white\", \"ticks\": \"\"}, \"bgcolor\": \"#E5ECF6\", \"radialaxis\": {\"gridcolor\": \"white\", \"linecolor\": \"white\", \"ticks\": \"\"}}, \"scene\": {\"xaxis\": {\"backgroundcolor\": \"#E5ECF6\", \"gridcolor\": \"white\", \"gridwidth\": 2, \"linecolor\": \"white\", \"showbackground\": true, \"ticks\": \"\", \"zerolinecolor\": \"white\"}, \"yaxis\": {\"backgroundcolor\": \"#E5ECF6\", \"gridcolor\": \"white\", \"gridwidth\": 2, \"linecolor\": \"white\", \"showbackground\": true, \"ticks\": \"\", \"zerolinecolor\": \"white\"}, \"zaxis\": {\"backgroundcolor\": \"#E5ECF6\", \"gridcolor\": \"white\", \"gridwidth\": 2, \"linecolor\": \"white\", \"showbackground\": true, \"ticks\": \"\", \"zerolinecolor\": \"white\"}}, \"shapedefaults\": {\"line\": {\"color\": \"#2a3f5f\"}}, \"ternary\": {\"aaxis\": {\"gridcolor\": \"white\", \"linecolor\": \"white\", \"ticks\": \"\"}, \"baxis\": {\"gridcolor\": \"white\", \"linecolor\": \"white\", \"ticks\": \"\"}, \"bgcolor\": \"#E5ECF6\", \"caxis\": {\"gridcolor\": \"white\", \"linecolor\": \"white\", \"ticks\": \"\"}}, \"title\": {\"x\": 0.05}, \"xaxis\": {\"automargin\": true, \"gridcolor\": \"white\", \"linecolor\": \"white\", \"ticks\": \"\", \"title\": {\"standoff\": 15}, \"zerolinecolor\": \"white\", \"zerolinewidth\": 2}, \"yaxis\": {\"automargin\": true, \"gridcolor\": \"white\", \"linecolor\": \"white\", \"ticks\": \"\", \"title\": {\"standoff\": 15}, \"zerolinecolor\": \"white\", \"zerolinewidth\": 2}}}, \"title\": {\"text\": \"Datos Grupo Buenos Aires\"}, \"xaxis\": {\"anchor\": \"y\", \"domain\": [0.0, 1.0], \"title\": {\"text\": \"state_name\"}}, \"yaxis\": {\"anchor\": \"x\", \"domain\": [0.0, 1.0], \"title\": {\"text\": \"counter\"}}},\n",
       "                        {\"responsive\": true}\n",
       "                    ).then(function(){\n",
       "                            \n",
       "var gd = document.getElementById('85a75856-78c9-48fc-8a1a-5392a1990988');\n",
       "var x = new MutationObserver(function (mutations, observer) {{\n",
       "        var display = window.getComputedStyle(gd).display;\n",
       "        if (!display || display === 'none') {{\n",
       "            console.log([gd, 'removed!']);\n",
       "            Plotly.purge(gd);\n",
       "            observer.disconnect();\n",
       "        }}\n",
       "}});\n",
       "\n",
       "// Listen for the removal of the full notebook cells\n",
       "var notebookContainer = gd.closest('#notebook-container');\n",
       "if (notebookContainer) {{\n",
       "    x.observe(notebookContainer, {childList: true});\n",
       "}}\n",
       "\n",
       "// Listen for the clearing of the current output cell\n",
       "var outputEl = gd.closest('.output');\n",
       "if (outputEl) {{\n",
       "    x.observe(outputEl, {childList: true});\n",
       "}}\n",
       "\n",
       "                        })\n",
       "                };\n",
       "                });\n",
       "            </script>\n",
       "        </div>"
      ]
     },
     "metadata": {},
     "output_type": "display_data"
    }
   ],
   "source": [
    "fig = px.bar(baires_group1, x=\"state_name\", y=\"counter\",\n",
    "             color='nulos', barmode='group',\n",
    "             height=400, title = \"Datos Grupo Buenos Aires\")\n",
    "fig.show()"
   ]
  },
  {
   "cell_type": "code",
   "execution_count": 88,
   "metadata": {},
   "outputs": [],
   "source": [
    "baires_group2 = baires.groupby(by=['state_name'],as_index=False)['price_per_m2'].agg(['min', 'max'])"
   ]
  },
  {
   "cell_type": "code",
   "execution_count": 89,
   "metadata": {},
   "outputs": [],
   "source": [
    "baires_group2.reset_index(inplace=True)"
   ]
  },
  {
   "cell_type": "code",
   "execution_count": 90,
   "metadata": {},
   "outputs": [],
   "source": [
    "baires_group2['rango'] = baires_group2['max'] - baires_group2['min']"
   ]
  },
  {
   "cell_type": "code",
   "execution_count": 91,
   "metadata": {},
   "outputs": [
    {
     "data": {
      "text/html": [
       "<div>\n",
       "<style scoped>\n",
       "    .dataframe tbody tr th:only-of-type {\n",
       "        vertical-align: middle;\n",
       "    }\n",
       "\n",
       "    .dataframe tbody tr th {\n",
       "        vertical-align: top;\n",
       "    }\n",
       "\n",
       "    .dataframe thead th {\n",
       "        text-align: right;\n",
       "    }\n",
       "</style>\n",
       "<table border=\"1\" class=\"dataframe\">\n",
       "  <thead>\n",
       "    <tr style=\"text-align: right;\">\n",
       "      <th></th>\n",
       "      <th>state_name</th>\n",
       "      <th>min</th>\n",
       "      <th>max</th>\n",
       "      <th>rango</th>\n",
       "    </tr>\n",
       "  </thead>\n",
       "  <tbody>\n",
       "    <tr>\n",
       "      <th>0</th>\n",
       "      <td>Bs.As. G.B.A. Zona Norte</td>\n",
       "      <td>16.213389</td>\n",
       "      <td>1100000.00</td>\n",
       "      <td>1.099984e+06</td>\n",
       "    </tr>\n",
       "    <tr>\n",
       "      <th>1</th>\n",
       "      <td>Bs.As. G.B.A. Zona Oeste</td>\n",
       "      <td>8.291223</td>\n",
       "      <td>2300000.00</td>\n",
       "      <td>2.299992e+06</td>\n",
       "    </tr>\n",
       "    <tr>\n",
       "      <th>2</th>\n",
       "      <td>Bs.As. G.B.A. Zona Sur</td>\n",
       "      <td>7.987660</td>\n",
       "      <td>3999999.96</td>\n",
       "      <td>3.999992e+06</td>\n",
       "    </tr>\n",
       "    <tr>\n",
       "      <th>3</th>\n",
       "      <td>Buenos Aires Costa Atlántica</td>\n",
       "      <td>1.510204</td>\n",
       "      <td>98000.00</td>\n",
       "      <td>9.799849e+04</td>\n",
       "    </tr>\n",
       "    <tr>\n",
       "      <th>4</th>\n",
       "      <td>Buenos Aires Interior</td>\n",
       "      <td>34.107637</td>\n",
       "      <td>295000.00</td>\n",
       "      <td>2.949659e+05</td>\n",
       "    </tr>\n",
       "    <tr>\n",
       "      <th>5</th>\n",
       "      <td>Capital Federal</td>\n",
       "      <td>3.208556</td>\n",
       "      <td>2600000.00</td>\n",
       "      <td>2.599997e+06</td>\n",
       "    </tr>\n",
       "  </tbody>\n",
       "</table>\n",
       "</div>"
      ],
      "text/plain": [
       "                     state_name        min         max         rango\n",
       "0      Bs.As. G.B.A. Zona Norte  16.213389  1100000.00  1.099984e+06\n",
       "1      Bs.As. G.B.A. Zona Oeste   8.291223  2300000.00  2.299992e+06\n",
       "2        Bs.As. G.B.A. Zona Sur   7.987660  3999999.96  3.999992e+06\n",
       "3  Buenos Aires Costa Atlántica   1.510204    98000.00  9.799849e+04\n",
       "4         Buenos Aires Interior  34.107637   295000.00  2.949659e+05\n",
       "5               Capital Federal   3.208556  2600000.00  2.599997e+06"
      ]
     },
     "execution_count": 91,
     "metadata": {},
     "output_type": "execute_result"
    }
   ],
   "source": [
    "baires_group2"
   ]
  },
  {
   "cell_type": "code",
   "execution_count": 128,
   "metadata": {},
   "outputs": [],
   "source": [
    "caba_barrios_grupo = caba.groupby(by=['state_name','place_name','nulos'],as_index=False)['counter'].sum()\n",
    "caba_barrios_grupo['nulos'] = caba_barrios_grupo['nulos'].astype(str)\n",
    "caba_barrios_grupo['nulos'] = caba_barrios_grupo.nulos.str.replace('False','Hay datos')\n",
    "caba_barrios_grupo['nulos'] = caba_barrios_grupo.nulos.str.replace('True','No hay datos')"
   ]
  },
  {
   "cell_type": "code",
   "execution_count": 129,
   "metadata": {},
   "outputs": [
    {
     "data": {
      "application/vnd.plotly.v1+json": {
       "config": {
        "plotlyServerURL": "https://plotly.com"
       },
       "data": [
        {
         "alignmentgroup": "True",
         "hovertemplate": "nulos=Hay datos<br>place_name=%{x}<br>counter=%{y}<extra></extra>",
         "legendgroup": "Hay datos",
         "marker": {
          "color": "#636efa"
         },
         "name": "Hay datos",
         "offsetgroup": "Hay datos",
         "orientation": "v",
         "showlegend": true,
         "textposition": "auto",
         "type": "bar",
         "x": [
          "Abasto",
          "Agronomía",
          "Almagro",
          "Balvanera",
          "Barracas",
          "Barrio Norte",
          "Belgrano",
          "Boca",
          "Boedo",
          "Caballito",
          "Capital Federal",
          "Catalinas",
          "Centro / Microcentro",
          "Chacarita",
          "Coghlan",
          "Colegiales",
          "Congreso",
          "Constitución",
          "Flores",
          "Floresta",
          "Las Cañitas",
          "Liniers",
          "Mataderos",
          "Monserrat",
          "Monte Castro",
          "Nuñez",
          "Once",
          "Palermo",
          "Palermo Chico",
          "Palermo Hollywood",
          "Palermo Soho",
          "Palermo Viejo",
          "Parque Avellaneda",
          "Parque Centenario",
          "Parque Chacabuco",
          "Parque Chas",
          "Parque Patricios",
          "Paternal",
          "Pompeya",
          "Puerto Madero",
          "Recoleta",
          "Retiro",
          "Saavedra",
          "San Cristobal",
          "San Nicolás",
          "San Telmo",
          "Tribunales",
          "Velez Sarsfield",
          "Versalles",
          "Villa Crespo",
          "Villa Devoto",
          "Villa General Mitre",
          "Villa Lugano",
          "Villa Luro",
          "Villa Ortuzar",
          "Villa Pueyrredón",
          "Villa Real",
          "Villa Riachuelo",
          "Villa Santa Rita",
          "Villa Soldati",
          "Villa Urquiza",
          "Villa del Parque"
         ],
         "xaxis": "x",
         "y": [
          94,
          36,
          952,
          589,
          373,
          954,
          2407,
          195,
          845,
          1999,
          875,
          2,
          212,
          204,
          240,
          332,
          274,
          201,
          1216,
          405,
          123,
          241,
          318,
          487,
          71,
          648,
          147,
          2357,
          184,
          449,
          292,
          40,
          53,
          65,
          134,
          43,
          258,
          157,
          54,
          510,
          1370,
          214,
          497,
          556,
          159,
          1136,
          83,
          34,
          50,
          1162,
          363,
          47,
          172,
          320,
          84,
          164,
          37,
          5,
          55,
          14,
          1324,
          442
         ],
         "yaxis": "y"
        },
        {
         "alignmentgroup": "True",
         "hovertemplate": "nulos=No hay datos<br>place_name=%{x}<br>counter=%{y}<extra></extra>",
         "legendgroup": "No hay datos",
         "marker": {
          "color": "#EF553B"
         },
         "name": "No hay datos",
         "offsetgroup": "No hay datos",
         "orientation": "v",
         "showlegend": true,
         "textposition": "auto",
         "type": "bar",
         "x": [
          "Abasto",
          "Agronomía",
          "Almagro",
          "Balvanera",
          "Barracas",
          "Barrio Norte",
          "Belgrano",
          "Boca",
          "Boedo",
          "Caballito",
          "Capital Federal",
          "Catalinas",
          "Centro / Microcentro",
          "Chacarita",
          "Coghlan",
          "Colegiales",
          "Congreso",
          "Constitución",
          "Flores",
          "Floresta",
          "Las Cañitas",
          "Liniers",
          "Mataderos",
          "Monserrat",
          "Monte Castro",
          "Nuñez",
          "Once",
          "Palermo",
          "Palermo Chico",
          "Palermo Hollywood",
          "Palermo Soho",
          "Parque Avellaneda",
          "Parque Centenario",
          "Parque Chacabuco",
          "Parque Chas",
          "Parque Patricios",
          "Paternal",
          "Pompeya",
          "Puerto Madero",
          "Recoleta",
          "Retiro",
          "Saavedra",
          "San Cristobal",
          "San Nicolás",
          "San Telmo",
          "Tribunales",
          "Velez Sarsfield",
          "Versalles",
          "Villa Crespo",
          "Villa Devoto",
          "Villa General Mitre",
          "Villa Lugano",
          "Villa Luro",
          "Villa Ortuzar",
          "Villa Pueyrredón",
          "Villa Riachuelo",
          "Villa Santa Rita",
          "Villa Soldati",
          "Villa Urquiza",
          "Villa del Parque"
         ],
         "xaxis": "x",
         "y": [
          19,
          5,
          213,
          78,
          52,
          186,
          585,
          28,
          45,
          274,
          422,
          2,
          11,
          23,
          19,
          20,
          30,
          10,
          138,
          111,
          20,
          167,
          100,
          51,
          8,
          130,
          51,
          528,
          48,
          83,
          102,
          3,
          3,
          12,
          1,
          64,
          16,
          10,
          137,
          177,
          34,
          45,
          58,
          28,
          80,
          15,
          5,
          5,
          169,
          57,
          1,
          33,
          112,
          2,
          11,
          1,
          2,
          1,
          305,
          46
         ],
         "yaxis": "y"
        }
       ],
       "layout": {
        "autosize": true,
        "barmode": "group",
        "legend": {
         "title": {
          "text": "nulos"
         },
         "tracegroupgap": 0
        },
        "template": {
         "data": {
          "bar": [
           {
            "error_x": {
             "color": "#2a3f5f"
            },
            "error_y": {
             "color": "#2a3f5f"
            },
            "marker": {
             "line": {
              "color": "#E5ECF6",
              "width": 0.5
             }
            },
            "type": "bar"
           }
          ],
          "barpolar": [
           {
            "marker": {
             "line": {
              "color": "#E5ECF6",
              "width": 0.5
             }
            },
            "type": "barpolar"
           }
          ],
          "carpet": [
           {
            "aaxis": {
             "endlinecolor": "#2a3f5f",
             "gridcolor": "white",
             "linecolor": "white",
             "minorgridcolor": "white",
             "startlinecolor": "#2a3f5f"
            },
            "baxis": {
             "endlinecolor": "#2a3f5f",
             "gridcolor": "white",
             "linecolor": "white",
             "minorgridcolor": "white",
             "startlinecolor": "#2a3f5f"
            },
            "type": "carpet"
           }
          ],
          "choropleth": [
           {
            "colorbar": {
             "outlinewidth": 0,
             "ticks": ""
            },
            "type": "choropleth"
           }
          ],
          "contour": [
           {
            "colorbar": {
             "outlinewidth": 0,
             "ticks": ""
            },
            "colorscale": [
             [
              0,
              "#0d0887"
             ],
             [
              0.1111111111111111,
              "#46039f"
             ],
             [
              0.2222222222222222,
              "#7201a8"
             ],
             [
              0.3333333333333333,
              "#9c179e"
             ],
             [
              0.4444444444444444,
              "#bd3786"
             ],
             [
              0.5555555555555556,
              "#d8576b"
             ],
             [
              0.6666666666666666,
              "#ed7953"
             ],
             [
              0.7777777777777778,
              "#fb9f3a"
             ],
             [
              0.8888888888888888,
              "#fdca26"
             ],
             [
              1,
              "#f0f921"
             ]
            ],
            "type": "contour"
           }
          ],
          "contourcarpet": [
           {
            "colorbar": {
             "outlinewidth": 0,
             "ticks": ""
            },
            "type": "contourcarpet"
           }
          ],
          "heatmap": [
           {
            "colorbar": {
             "outlinewidth": 0,
             "ticks": ""
            },
            "colorscale": [
             [
              0,
              "#0d0887"
             ],
             [
              0.1111111111111111,
              "#46039f"
             ],
             [
              0.2222222222222222,
              "#7201a8"
             ],
             [
              0.3333333333333333,
              "#9c179e"
             ],
             [
              0.4444444444444444,
              "#bd3786"
             ],
             [
              0.5555555555555556,
              "#d8576b"
             ],
             [
              0.6666666666666666,
              "#ed7953"
             ],
             [
              0.7777777777777778,
              "#fb9f3a"
             ],
             [
              0.8888888888888888,
              "#fdca26"
             ],
             [
              1,
              "#f0f921"
             ]
            ],
            "type": "heatmap"
           }
          ],
          "heatmapgl": [
           {
            "colorbar": {
             "outlinewidth": 0,
             "ticks": ""
            },
            "colorscale": [
             [
              0,
              "#0d0887"
             ],
             [
              0.1111111111111111,
              "#46039f"
             ],
             [
              0.2222222222222222,
              "#7201a8"
             ],
             [
              0.3333333333333333,
              "#9c179e"
             ],
             [
              0.4444444444444444,
              "#bd3786"
             ],
             [
              0.5555555555555556,
              "#d8576b"
             ],
             [
              0.6666666666666666,
              "#ed7953"
             ],
             [
              0.7777777777777778,
              "#fb9f3a"
             ],
             [
              0.8888888888888888,
              "#fdca26"
             ],
             [
              1,
              "#f0f921"
             ]
            ],
            "type": "heatmapgl"
           }
          ],
          "histogram": [
           {
            "marker": {
             "colorbar": {
              "outlinewidth": 0,
              "ticks": ""
             }
            },
            "type": "histogram"
           }
          ],
          "histogram2d": [
           {
            "colorbar": {
             "outlinewidth": 0,
             "ticks": ""
            },
            "colorscale": [
             [
              0,
              "#0d0887"
             ],
             [
              0.1111111111111111,
              "#46039f"
             ],
             [
              0.2222222222222222,
              "#7201a8"
             ],
             [
              0.3333333333333333,
              "#9c179e"
             ],
             [
              0.4444444444444444,
              "#bd3786"
             ],
             [
              0.5555555555555556,
              "#d8576b"
             ],
             [
              0.6666666666666666,
              "#ed7953"
             ],
             [
              0.7777777777777778,
              "#fb9f3a"
             ],
             [
              0.8888888888888888,
              "#fdca26"
             ],
             [
              1,
              "#f0f921"
             ]
            ],
            "type": "histogram2d"
           }
          ],
          "histogram2dcontour": [
           {
            "colorbar": {
             "outlinewidth": 0,
             "ticks": ""
            },
            "colorscale": [
             [
              0,
              "#0d0887"
             ],
             [
              0.1111111111111111,
              "#46039f"
             ],
             [
              0.2222222222222222,
              "#7201a8"
             ],
             [
              0.3333333333333333,
              "#9c179e"
             ],
             [
              0.4444444444444444,
              "#bd3786"
             ],
             [
              0.5555555555555556,
              "#d8576b"
             ],
             [
              0.6666666666666666,
              "#ed7953"
             ],
             [
              0.7777777777777778,
              "#fb9f3a"
             ],
             [
              0.8888888888888888,
              "#fdca26"
             ],
             [
              1,
              "#f0f921"
             ]
            ],
            "type": "histogram2dcontour"
           }
          ],
          "mesh3d": [
           {
            "colorbar": {
             "outlinewidth": 0,
             "ticks": ""
            },
            "type": "mesh3d"
           }
          ],
          "parcoords": [
           {
            "line": {
             "colorbar": {
              "outlinewidth": 0,
              "ticks": ""
             }
            },
            "type": "parcoords"
           }
          ],
          "pie": [
           {
            "automargin": true,
            "type": "pie"
           }
          ],
          "scatter": [
           {
            "marker": {
             "colorbar": {
              "outlinewidth": 0,
              "ticks": ""
             }
            },
            "type": "scatter"
           }
          ],
          "scatter3d": [
           {
            "line": {
             "colorbar": {
              "outlinewidth": 0,
              "ticks": ""
             }
            },
            "marker": {
             "colorbar": {
              "outlinewidth": 0,
              "ticks": ""
             }
            },
            "type": "scatter3d"
           }
          ],
          "scattercarpet": [
           {
            "marker": {
             "colorbar": {
              "outlinewidth": 0,
              "ticks": ""
             }
            },
            "type": "scattercarpet"
           }
          ],
          "scattergeo": [
           {
            "marker": {
             "colorbar": {
              "outlinewidth": 0,
              "ticks": ""
             }
            },
            "type": "scattergeo"
           }
          ],
          "scattergl": [
           {
            "marker": {
             "colorbar": {
              "outlinewidth": 0,
              "ticks": ""
             }
            },
            "type": "scattergl"
           }
          ],
          "scattermapbox": [
           {
            "marker": {
             "colorbar": {
              "outlinewidth": 0,
              "ticks": ""
             }
            },
            "type": "scattermapbox"
           }
          ],
          "scatterpolar": [
           {
            "marker": {
             "colorbar": {
              "outlinewidth": 0,
              "ticks": ""
             }
            },
            "type": "scatterpolar"
           }
          ],
          "scatterpolargl": [
           {
            "marker": {
             "colorbar": {
              "outlinewidth": 0,
              "ticks": ""
             }
            },
            "type": "scatterpolargl"
           }
          ],
          "scatterternary": [
           {
            "marker": {
             "colorbar": {
              "outlinewidth": 0,
              "ticks": ""
             }
            },
            "type": "scatterternary"
           }
          ],
          "surface": [
           {
            "colorbar": {
             "outlinewidth": 0,
             "ticks": ""
            },
            "colorscale": [
             [
              0,
              "#0d0887"
             ],
             [
              0.1111111111111111,
              "#46039f"
             ],
             [
              0.2222222222222222,
              "#7201a8"
             ],
             [
              0.3333333333333333,
              "#9c179e"
             ],
             [
              0.4444444444444444,
              "#bd3786"
             ],
             [
              0.5555555555555556,
              "#d8576b"
             ],
             [
              0.6666666666666666,
              "#ed7953"
             ],
             [
              0.7777777777777778,
              "#fb9f3a"
             ],
             [
              0.8888888888888888,
              "#fdca26"
             ],
             [
              1,
              "#f0f921"
             ]
            ],
            "type": "surface"
           }
          ],
          "table": [
           {
            "cells": {
             "fill": {
              "color": "#EBF0F8"
             },
             "line": {
              "color": "white"
             }
            },
            "header": {
             "fill": {
              "color": "#C8D4E3"
             },
             "line": {
              "color": "white"
             }
            },
            "type": "table"
           }
          ]
         },
         "layout": {
          "annotationdefaults": {
           "arrowcolor": "#2a3f5f",
           "arrowhead": 0,
           "arrowwidth": 1
          },
          "coloraxis": {
           "colorbar": {
            "outlinewidth": 0,
            "ticks": ""
           }
          },
          "colorscale": {
           "diverging": [
            [
             0,
             "#8e0152"
            ],
            [
             0.1,
             "#c51b7d"
            ],
            [
             0.2,
             "#de77ae"
            ],
            [
             0.3,
             "#f1b6da"
            ],
            [
             0.4,
             "#fde0ef"
            ],
            [
             0.5,
             "#f7f7f7"
            ],
            [
             0.6,
             "#e6f5d0"
            ],
            [
             0.7,
             "#b8e186"
            ],
            [
             0.8,
             "#7fbc41"
            ],
            [
             0.9,
             "#4d9221"
            ],
            [
             1,
             "#276419"
            ]
           ],
           "sequential": [
            [
             0,
             "#0d0887"
            ],
            [
             0.1111111111111111,
             "#46039f"
            ],
            [
             0.2222222222222222,
             "#7201a8"
            ],
            [
             0.3333333333333333,
             "#9c179e"
            ],
            [
             0.4444444444444444,
             "#bd3786"
            ],
            [
             0.5555555555555556,
             "#d8576b"
            ],
            [
             0.6666666666666666,
             "#ed7953"
            ],
            [
             0.7777777777777778,
             "#fb9f3a"
            ],
            [
             0.8888888888888888,
             "#fdca26"
            ],
            [
             1,
             "#f0f921"
            ]
           ],
           "sequentialminus": [
            [
             0,
             "#0d0887"
            ],
            [
             0.1111111111111111,
             "#46039f"
            ],
            [
             0.2222222222222222,
             "#7201a8"
            ],
            [
             0.3333333333333333,
             "#9c179e"
            ],
            [
             0.4444444444444444,
             "#bd3786"
            ],
            [
             0.5555555555555556,
             "#d8576b"
            ],
            [
             0.6666666666666666,
             "#ed7953"
            ],
            [
             0.7777777777777778,
             "#fb9f3a"
            ],
            [
             0.8888888888888888,
             "#fdca26"
            ],
            [
             1,
             "#f0f921"
            ]
           ]
          },
          "colorway": [
           "#636efa",
           "#EF553B",
           "#00cc96",
           "#ab63fa",
           "#FFA15A",
           "#19d3f3",
           "#FF6692",
           "#B6E880",
           "#FF97FF",
           "#FECB52"
          ],
          "font": {
           "color": "#2a3f5f"
          },
          "geo": {
           "bgcolor": "white",
           "lakecolor": "white",
           "landcolor": "#E5ECF6",
           "showlakes": true,
           "showland": true,
           "subunitcolor": "white"
          },
          "hoverlabel": {
           "align": "left"
          },
          "hovermode": "closest",
          "mapbox": {
           "style": "light"
          },
          "paper_bgcolor": "white",
          "plot_bgcolor": "#E5ECF6",
          "polar": {
           "angularaxis": {
            "gridcolor": "white",
            "linecolor": "white",
            "ticks": ""
           },
           "bgcolor": "#E5ECF6",
           "radialaxis": {
            "gridcolor": "white",
            "linecolor": "white",
            "ticks": ""
           }
          },
          "scene": {
           "xaxis": {
            "backgroundcolor": "#E5ECF6",
            "gridcolor": "white",
            "gridwidth": 2,
            "linecolor": "white",
            "showbackground": true,
            "ticks": "",
            "zerolinecolor": "white"
           },
           "yaxis": {
            "backgroundcolor": "#E5ECF6",
            "gridcolor": "white",
            "gridwidth": 2,
            "linecolor": "white",
            "showbackground": true,
            "ticks": "",
            "zerolinecolor": "white"
           },
           "zaxis": {
            "backgroundcolor": "#E5ECF6",
            "gridcolor": "white",
            "gridwidth": 2,
            "linecolor": "white",
            "showbackground": true,
            "ticks": "",
            "zerolinecolor": "white"
           }
          },
          "shapedefaults": {
           "line": {
            "color": "#2a3f5f"
           }
          },
          "ternary": {
           "aaxis": {
            "gridcolor": "white",
            "linecolor": "white",
            "ticks": ""
           },
           "baxis": {
            "gridcolor": "white",
            "linecolor": "white",
            "ticks": ""
           },
           "bgcolor": "#E5ECF6",
           "caxis": {
            "gridcolor": "white",
            "linecolor": "white",
            "ticks": ""
           }
          },
          "title": {
           "x": 0.05
          },
          "xaxis": {
           "automargin": true,
           "gridcolor": "white",
           "linecolor": "white",
           "ticks": "",
           "title": {
            "standoff": 15
           },
           "zerolinecolor": "white",
           "zerolinewidth": 2
          },
          "yaxis": {
           "automargin": true,
           "gridcolor": "white",
           "linecolor": "white",
           "ticks": "",
           "title": {
            "standoff": 15
           },
           "zerolinecolor": "white",
           "zerolinewidth": 2
          }
         }
        },
        "title": {
         "text": "Barrios CABA"
        },
        "xaxis": {
         "anchor": "y",
         "autorange": true,
         "domain": [
          0,
          1
         ],
         "range": [
          -0.5,
          61.5
         ],
         "title": {
          "text": "place_name"
         },
         "type": "category"
        },
        "yaxis": {
         "anchor": "x",
         "autorange": true,
         "domain": [
          0,
          1
         ],
         "range": [
          0,
          2533.684210526316
         ],
         "title": {
          "text": "counter"
         },
         "type": "linear"
        }
       }
      },
      "image/png": "[encoded data removed]",
      "text/html": [
       "<div>\n",
       "        \n",
       "        \n",
       "            <div id=\"6b0cb51b-30f5-44f4-aa1f-5fc23ecff9af\" class=\"plotly-graph-div\" style=\"height:400px; width:100%;\"></div>\n",
       "            <script type=\"text/javascript\">\n",
       "                require([\"plotly\"], function(Plotly) {\n",
       "                    window.PLOTLYENV=window.PLOTLYENV || {};\n",
       "                    \n",
       "                if (document.getElementById(\"6b0cb51b-30f5-44f4-aa1f-5fc23ecff9af\")) {\n",
       "                    Plotly.newPlot(\n",
       "                        '6b0cb51b-30f5-44f4-aa1f-5fc23ecff9af',\n",
       "                        [{\"alignmentgroup\": \"True\", \"hovertemplate\": \"nulos=Hay datos<br>place_name=%{x}<br>counter=%{y}<extra></extra>\", \"legendgroup\": \"Hay datos\", \"marker\": {\"color\": \"#636efa\"}, \"name\": \"Hay datos\", \"offsetgroup\": \"Hay datos\", \"orientation\": \"v\", \"showlegend\": true, \"textposition\": \"auto\", \"type\": \"bar\", \"x\": [\"Abasto\", \"Agronom\\u00eda\", \"Almagro\", \"Balvanera\", \"Barracas\", \"Barrio Norte\", \"Belgrano\", \"Boca\", \"Boedo\", \"Caballito\", \"Capital Federal\", \"Catalinas\", \"Centro / Microcentro\", \"Chacarita\", \"Coghlan\", \"Colegiales\", \"Congreso\", \"Constituci\\u00f3n\", \"Flores\", \"Floresta\", \"Las Ca\\u00f1itas\", \"Liniers\", \"Mataderos\", \"Monserrat\", \"Monte Castro\", \"Nu\\u00f1ez\", \"Once\", \"Palermo\", \"Palermo Chico\", \"Palermo Hollywood\", \"Palermo Soho\", \"Palermo Viejo\", \"Parque Avellaneda\", \"Parque Centenario\", \"Parque Chacabuco\", \"Parque Chas\", \"Parque Patricios\", \"Paternal\", \"Pompeya\", \"Puerto Madero\", \"Recoleta\", \"Retiro\", \"Saavedra\", \"San Cristobal\", \"San Nicol\\u00e1s\", \"San Telmo\", \"Tribunales\", \"Velez Sarsfield\", \"Versalles\", \"Villa Crespo\", \"Villa Devoto\", \"Villa General Mitre\", \"Villa Lugano\", \"Villa Luro\", \"Villa Ortuzar\", \"Villa Pueyrred\\u00f3n\", \"Villa Real\", \"Villa Riachuelo\", \"Villa Santa Rita\", \"Villa Soldati\", \"Villa Urquiza\", \"Villa del Parque\"], \"xaxis\": \"x\", \"y\": [94, 36, 952, 589, 373, 954, 2407, 195, 845, 1999, 875, 2, 212, 204, 240, 332, 274, 201, 1216, 405, 123, 241, 318, 487, 71, 648, 147, 2357, 184, 449, 292, 40, 53, 65, 134, 43, 258, 157, 54, 510, 1370, 214, 497, 556, 159, 1136, 83, 34, 50, 1162, 363, 47, 172, 320, 84, 164, 37, 5, 55, 14, 1324, 442], \"yaxis\": \"y\"}, {\"alignmentgroup\": \"True\", \"hovertemplate\": \"nulos=No hay datos<br>place_name=%{x}<br>counter=%{y}<extra></extra>\", \"legendgroup\": \"No hay datos\", \"marker\": {\"color\": \"#EF553B\"}, \"name\": \"No hay datos\", \"offsetgroup\": \"No hay datos\", \"orientation\": \"v\", \"showlegend\": true, \"textposition\": \"auto\", \"type\": \"bar\", \"x\": [\"Abasto\", \"Agronom\\u00eda\", \"Almagro\", \"Balvanera\", \"Barracas\", \"Barrio Norte\", \"Belgrano\", \"Boca\", \"Boedo\", \"Caballito\", \"Capital Federal\", \"Catalinas\", \"Centro / Microcentro\", \"Chacarita\", \"Coghlan\", \"Colegiales\", \"Congreso\", \"Constituci\\u00f3n\", \"Flores\", \"Floresta\", \"Las Ca\\u00f1itas\", \"Liniers\", \"Mataderos\", \"Monserrat\", \"Monte Castro\", \"Nu\\u00f1ez\", \"Once\", \"Palermo\", \"Palermo Chico\", \"Palermo Hollywood\", \"Palermo Soho\", \"Parque Avellaneda\", \"Parque Centenario\", \"Parque Chacabuco\", \"Parque Chas\", \"Parque Patricios\", \"Paternal\", \"Pompeya\", \"Puerto Madero\", \"Recoleta\", \"Retiro\", \"Saavedra\", \"San Cristobal\", \"San Nicol\\u00e1s\", \"San Telmo\", \"Tribunales\", \"Velez Sarsfield\", \"Versalles\", \"Villa Crespo\", \"Villa Devoto\", \"Villa General Mitre\", \"Villa Lugano\", \"Villa Luro\", \"Villa Ortuzar\", \"Villa Pueyrred\\u00f3n\", \"Villa Riachuelo\", \"Villa Santa Rita\", \"Villa Soldati\", \"Villa Urquiza\", \"Villa del Parque\"], \"xaxis\": \"x\", \"y\": [19, 5, 213, 78, 52, 186, 585, 28, 45, 274, 422, 2, 11, 23, 19, 20, 30, 10, 138, 111, 20, 167, 100, 51, 8, 130, 51, 528, 48, 83, 102, 3, 3, 12, 1, 64, 16, 10, 137, 177, 34, 45, 58, 28, 80, 15, 5, 5, 169, 57, 1, 33, 112, 2, 11, 1, 2, 1, 305, 46], \"yaxis\": \"y\"}],\n",
       "                        {\"barmode\": \"group\", \"height\": 400, \"legend\": {\"title\": {\"text\": \"nulos\"}, \"tracegroupgap\": 0}, \"template\": {\"data\": {\"bar\": [{\"error_x\": {\"color\": \"#2a3f5f\"}, \"error_y\": {\"color\": \"#2a3f5f\"}, \"marker\": {\"line\": {\"color\": \"#E5ECF6\", \"width\": 0.5}}, \"type\": \"bar\"}], \"barpolar\": [{\"marker\": {\"line\": {\"color\": \"#E5ECF6\", \"width\": 0.5}}, \"type\": \"barpolar\"}], \"carpet\": [{\"aaxis\": {\"endlinecolor\": \"#2a3f5f\", \"gridcolor\": \"white\", \"linecolor\": \"white\", \"minorgridcolor\": \"white\", \"startlinecolor\": \"#2a3f5f\"}, \"baxis\": {\"endlinecolor\": \"#2a3f5f\", \"gridcolor\": \"white\", \"linecolor\": \"white\", \"minorgridcolor\": \"white\", \"startlinecolor\": \"#2a3f5f\"}, \"type\": \"carpet\"}], \"choropleth\": [{\"colorbar\": {\"outlinewidth\": 0, \"ticks\": \"\"}, \"type\": \"choropleth\"}], \"contour\": [{\"colorbar\": {\"outlinewidth\": 0, \"ticks\": \"\"}, \"colorscale\": [[0.0, \"#0d0887\"], [0.1111111111111111, \"#46039f\"], [0.2222222222222222, \"#7201a8\"], [0.3333333333333333, \"#9c179e\"], [0.4444444444444444, \"#bd3786\"], [0.5555555555555556, \"#d8576b\"], [0.6666666666666666, \"#ed7953\"], [0.7777777777777778, \"#fb9f3a\"], [0.8888888888888888, \"#fdca26\"], [1.0, \"#f0f921\"]], \"type\": \"contour\"}], \"contourcarpet\": [{\"colorbar\": {\"outlinewidth\": 0, \"ticks\": \"\"}, \"type\": \"contourcarpet\"}], \"heatmap\": [{\"colorbar\": {\"outlinewidth\": 0, \"ticks\": \"\"}, \"colorscale\": [[0.0, \"#0d0887\"], [0.1111111111111111, \"#46039f\"], [0.2222222222222222, \"#7201a8\"], [0.3333333333333333, \"#9c179e\"], [0.4444444444444444, \"#bd3786\"], [0.5555555555555556, \"#d8576b\"], [0.6666666666666666, \"#ed7953\"], [0.7777777777777778, \"#fb9f3a\"], [0.8888888888888888, \"#fdca26\"], [1.0, \"#f0f921\"]], \"type\": \"heatmap\"}], \"heatmapgl\": [{\"colorbar\": {\"outlinewidth\": 0, \"ticks\": \"\"}, \"colorscale\": [[0.0, \"#0d0887\"], [0.1111111111111111, \"#46039f\"], [0.2222222222222222, \"#7201a8\"], [0.3333333333333333, \"#9c179e\"], [0.4444444444444444, \"#bd3786\"], [0.5555555555555556, \"#d8576b\"], [0.6666666666666666, \"#ed7953\"], [0.7777777777777778, \"#fb9f3a\"], [0.8888888888888888, \"#fdca26\"], [1.0, \"#f0f921\"]], \"type\": \"heatmapgl\"}], \"histogram\": [{\"marker\": {\"colorbar\": {\"outlinewidth\": 0, \"ticks\": \"\"}}, \"type\": \"histogram\"}], \"histogram2d\": [{\"colorbar\": {\"outlinewidth\": 0, \"ticks\": \"\"}, \"colorscale\": [[0.0, \"#0d0887\"], [0.1111111111111111, \"#46039f\"], [0.2222222222222222, \"#7201a8\"], [0.3333333333333333, \"#9c179e\"], [0.4444444444444444, \"#bd3786\"], [0.5555555555555556, \"#d8576b\"], [0.6666666666666666, \"#ed7953\"], [0.7777777777777778, \"#fb9f3a\"], [0.8888888888888888, \"#fdca26\"], [1.0, \"#f0f921\"]], \"type\": \"histogram2d\"}], \"histogram2dcontour\": [{\"colorbar\": {\"outlinewidth\": 0, \"ticks\": \"\"}, \"colorscale\": [[0.0, \"#0d0887\"], [0.1111111111111111, \"#46039f\"], [0.2222222222222222, \"#7201a8\"], [0.3333333333333333, \"#9c179e\"], [0.4444444444444444, \"#bd3786\"], [0.5555555555555556, \"#d8576b\"], [0.6666666666666666, \"#ed7953\"], [0.7777777777777778, \"#fb9f3a\"], [0.8888888888888888, \"#fdca26\"], [1.0, \"#f0f921\"]], \"type\": \"histogram2dcontour\"}], \"mesh3d\": [{\"colorbar\": {\"outlinewidth\": 0, \"ticks\": \"\"}, \"type\": \"mesh3d\"}], \"parcoords\": [{\"line\": {\"colorbar\": {\"outlinewidth\": 0, \"ticks\": \"\"}}, \"type\": \"parcoords\"}], \"pie\": [{\"automargin\": true, \"type\": \"pie\"}], \"scatter\": [{\"marker\": {\"colorbar\": {\"outlinewidth\": 0, \"ticks\": \"\"}}, \"type\": \"scatter\"}], \"scatter3d\": [{\"line\": {\"colorbar\": {\"outlinewidth\": 0, \"ticks\": \"\"}}, \"marker\": {\"colorbar\": {\"outlinewidth\": 0, \"ticks\": \"\"}}, \"type\": \"scatter3d\"}], \"scattercarpet\": [{\"marker\": {\"colorbar\": {\"outlinewidth\": 0, \"ticks\": \"\"}}, \"type\": \"scattercarpet\"}], \"scattergeo\": [{\"marker\": {\"colorbar\": {\"outlinewidth\": 0, \"ticks\": \"\"}}, \"type\": \"scattergeo\"}], \"scattergl\": [{\"marker\": {\"colorbar\": {\"outlinewidth\": 0, \"ticks\": \"\"}}, \"type\": \"scattergl\"}], \"scattermapbox\": [{\"marker\": {\"colorbar\": {\"outlinewidth\": 0, \"ticks\": \"\"}}, \"type\": \"scattermapbox\"}], \"scatterpolar\": [{\"marker\": {\"colorbar\": {\"outlinewidth\": 0, \"ticks\": \"\"}}, \"type\": \"scatterpolar\"}], \"scatterpolargl\": [{\"marker\": {\"colorbar\": {\"outlinewidth\": 0, \"ticks\": \"\"}}, \"type\": \"scatterpolargl\"}], \"scatterternary\": [{\"marker\": {\"colorbar\": {\"outlinewidth\": 0, \"ticks\": \"\"}}, \"type\": \"scatterternary\"}], \"surface\": [{\"colorbar\": {\"outlinewidth\": 0, \"ticks\": \"\"}, \"colorscale\": [[0.0, \"#0d0887\"], [0.1111111111111111, \"#46039f\"], [0.2222222222222222, \"#7201a8\"], [0.3333333333333333, \"#9c179e\"], [0.4444444444444444, \"#bd3786\"], [0.5555555555555556, \"#d8576b\"], [0.6666666666666666, \"#ed7953\"], [0.7777777777777778, \"#fb9f3a\"], [0.8888888888888888, \"#fdca26\"], [1.0, \"#f0f921\"]], \"type\": \"surface\"}], \"table\": [{\"cells\": {\"fill\": {\"color\": \"#EBF0F8\"}, \"line\": {\"color\": \"white\"}}, \"header\": {\"fill\": {\"color\": \"#C8D4E3\"}, \"line\": {\"color\": \"white\"}}, \"type\": \"table\"}]}, \"layout\": {\"annotationdefaults\": {\"arrowcolor\": \"#2a3f5f\", \"arrowhead\": 0, \"arrowwidth\": 1}, \"coloraxis\": {\"colorbar\": {\"outlinewidth\": 0, \"ticks\": \"\"}}, \"colorscale\": {\"diverging\": [[0, \"#8e0152\"], [0.1, \"#c51b7d\"], [0.2, \"#de77ae\"], [0.3, \"#f1b6da\"], [0.4, \"#fde0ef\"], [0.5, \"#f7f7f7\"], [0.6, \"#e6f5d0\"], [0.7, \"#b8e186\"], [0.8, \"#7fbc41\"], [0.9, \"#4d9221\"], [1, \"#276419\"]], \"sequential\": [[0.0, \"#0d0887\"], [0.1111111111111111, \"#46039f\"], [0.2222222222222222, \"#7201a8\"], [0.3333333333333333, \"#9c179e\"], [0.4444444444444444, \"#bd3786\"], [0.5555555555555556, \"#d8576b\"], [0.6666666666666666, \"#ed7953\"], [0.7777777777777778, \"#fb9f3a\"], [0.8888888888888888, \"#fdca26\"], [1.0, \"#f0f921\"]], \"sequentialminus\": [[0.0, \"#0d0887\"], [0.1111111111111111, \"#46039f\"], [0.2222222222222222, \"#7201a8\"], [0.3333333333333333, \"#9c179e\"], [0.4444444444444444, \"#bd3786\"], [0.5555555555555556, \"#d8576b\"], [0.6666666666666666, \"#ed7953\"], [0.7777777777777778, \"#fb9f3a\"], [0.8888888888888888, \"#fdca26\"], [1.0, \"#f0f921\"]]}, \"colorway\": [\"#636efa\", \"#EF553B\", \"#00cc96\", \"#ab63fa\", \"#FFA15A\", \"#19d3f3\", \"#FF6692\", \"#B6E880\", \"#FF97FF\", \"#FECB52\"], \"font\": {\"color\": \"#2a3f5f\"}, \"geo\": {\"bgcolor\": \"white\", \"lakecolor\": \"white\", \"landcolor\": \"#E5ECF6\", \"showlakes\": true, \"showland\": true, \"subunitcolor\": \"white\"}, \"hoverlabel\": {\"align\": \"left\"}, \"hovermode\": \"closest\", \"mapbox\": {\"style\": \"light\"}, \"paper_bgcolor\": \"white\", \"plot_bgcolor\": \"#E5ECF6\", \"polar\": {\"angularaxis\": {\"gridcolor\": \"white\", \"linecolor\": \"white\", \"ticks\": \"\"}, \"bgcolor\": \"#E5ECF6\", \"radialaxis\": {\"gridcolor\": \"white\", \"linecolor\": \"white\", \"ticks\": \"\"}}, \"scene\": {\"xaxis\": {\"backgroundcolor\": \"#E5ECF6\", \"gridcolor\": \"white\", \"gridwidth\": 2, \"linecolor\": \"white\", \"showbackground\": true, \"ticks\": \"\", \"zerolinecolor\": \"white\"}, \"yaxis\": {\"backgroundcolor\": \"#E5ECF6\", \"gridcolor\": \"white\", \"gridwidth\": 2, \"linecolor\": \"white\", \"showbackground\": true, \"ticks\": \"\", \"zerolinecolor\": \"white\"}, \"zaxis\": {\"backgroundcolor\": \"#E5ECF6\", \"gridcolor\": \"white\", \"gridwidth\": 2, \"linecolor\": \"white\", \"showbackground\": true, \"ticks\": \"\", \"zerolinecolor\": \"white\"}}, \"shapedefaults\": {\"line\": {\"color\": \"#2a3f5f\"}}, \"ternary\": {\"aaxis\": {\"gridcolor\": \"white\", \"linecolor\": \"white\", \"ticks\": \"\"}, \"baxis\": {\"gridcolor\": \"white\", \"linecolor\": \"white\", \"ticks\": \"\"}, \"bgcolor\": \"#E5ECF6\", \"caxis\": {\"gridcolor\": \"white\", \"linecolor\": \"white\", \"ticks\": \"\"}}, \"title\": {\"x\": 0.05}, \"xaxis\": {\"automargin\": true, \"gridcolor\": \"white\", \"linecolor\": \"white\", \"ticks\": \"\", \"title\": {\"standoff\": 15}, \"zerolinecolor\": \"white\", \"zerolinewidth\": 2}, \"yaxis\": {\"automargin\": true, \"gridcolor\": \"white\", \"linecolor\": \"white\", \"ticks\": \"\", \"title\": {\"standoff\": 15}, \"zerolinecolor\": \"white\", \"zerolinewidth\": 2}}}, \"title\": {\"text\": \"Barrios CABA\"}, \"xaxis\": {\"anchor\": \"y\", \"domain\": [0.0, 1.0], \"title\": {\"text\": \"place_name\"}}, \"yaxis\": {\"anchor\": \"x\", \"domain\": [0.0, 1.0], \"title\": {\"text\": \"counter\"}}},\n",
       "                        {\"responsive\": true}\n",
       "                    ).then(function(){\n",
       "                            \n",
       "var gd = document.getElementById('6b0cb51b-30f5-44f4-aa1f-5fc23ecff9af');\n",
       "var x = new MutationObserver(function (mutations, observer) {{\n",
       "        var display = window.getComputedStyle(gd).display;\n",
       "        if (!display || display === 'none') {{\n",
       "            console.log([gd, 'removed!']);\n",
       "            Plotly.purge(gd);\n",
       "            observer.disconnect();\n",
       "        }}\n",
       "}});\n",
       "\n",
       "// Listen for the removal of the full notebook cells\n",
       "var notebookContainer = gd.closest('#notebook-container');\n",
       "if (notebookContainer) {{\n",
       "    x.observe(notebookContainer, {childList: true});\n",
       "}}\n",
       "\n",
       "// Listen for the clearing of the current output cell\n",
       "var outputEl = gd.closest('.output');\n",
       "if (outputEl) {{\n",
       "    x.observe(outputEl, {childList: true});\n",
       "}}\n",
       "\n",
       "                        })\n",
       "                };\n",
       "                });\n",
       "            </script>\n",
       "        </div>"
      ]
     },
     "metadata": {},
     "output_type": "display_data"
    }
   ],
   "source": [
    "fig = px.bar(caba_barrios_grupo, x=\"place_name\", y=\"counter\",\n",
    "             color='nulos', barmode='group',\n",
    "             height=400, title=\"Barrios CABA\")\n",
    "fig.show()"
   ]
  },
  {
   "cell_type": "code",
   "execution_count": 124,
   "metadata": {},
   "outputs": [
    {
     "data": {
      "application/vnd.plotly.v1+json": {
       "config": {
        "plotlyServerURL": "https://plotly.com"
       },
       "data": [
        {
         "alignmentgroup": "True",
         "hovertemplate": "nulos=Hay datos<br>place_name=%{x}<br>counter=%{y}<extra></extra>",
         "legendgroup": "Hay datos",
         "marker": {
          "color": "#636efa"
         },
         "name": "Hay datos",
         "offsetgroup": "Hay datos",
         "orientation": "v",
         "showlegend": true,
         "textposition": "auto",
         "type": "bar",
         "x": [
          "9 de Abril",
          "Abasto",
          "Abril Club de Campo",
          "Adrogué",
          "Aeropuerto Internacional Ezeiza",
          "Alejandro Korn",
          "Almirante Brown",
          "Altos de Hudson I",
          "Altos de Hudson II",
          "Arturo Seguí",
          "Avellaneda",
          "Banfield",
          "Barrio Cerrado \"Los Ombúes de Hudson\"",
          "Barrio Melazzi",
          "Barrio Privado El Rodal",
          "Barrio Privado Santa Rita",
          "Berazategui",
          "Berazategui Oeste",
          "Bernal",
          "Brickland",
          "Bs.As. G.B.A. Zona Sur",
          "Burzaco",
          "Canning",
          "Carlos Spegazzini",
          "Cañuelas",
          "Chacras de La Trinidad",
          "City Bell",
          "Claypole",
          "Club El Carmen - Sector casas",
          "Club de Campo La Martona",
          "Complejo de Barrios Privados La Magdalena",
          "Country Golf El Sosiego",
          "Country Nuevo Quilmes",
          "Country Saint Thomas",
          "Crucecita",
          "Dock Sud",
          "Domselaar",
          "Don Bosco",
          "Don Orione",
          "Echeverría del Lago",
          "El Centauro",
          "El Pato",
          "El Pato Country Club",
          "El Rocío",
          "Esteban Echeverría",
          "Etcheverry",
          "Ex La Ponderosa",
          "Ezeiza",
          "Ezpeleta",
          "Fincas de Hudson",
          "Fincas de Iraola",
          "Fincas de Iraola II",
          "Fincas de San Vicente",
          "Florencio Varela",
          "Gerli",
          "Glew",
          "Grand Bell",
          "GreenVille Polo & Resort",
          "Guernica",
          "Guillermo Hudson",
          "Haras del Sur I",
          "Ingeniero Juan Allan",
          "Jose Marmol",
          "José Hernández",
          "La Plata",
          "La Unión",
          "La horqueta de Echeverría",
          "Lanús",
          "Lanús Este",
          "Lanús Oeste",
          "Las Golondrinas",
          "Lisandro Olmos",
          "Llavallol",
          "Lomas de Zamora",
          "Longchamps",
          "Los Hornos",
          "Luis Guillón",
          "Malvinas Argentinas",
          "Manuel B Gonnet",
          "Melchor Romero",
          "Mi Refugio",
          "Ministro Rivadavia",
          "Monte Chingolo",
          "Monte Grande",
          "Máximo Paz",
          "Piñeiro",
          "Platanos",
          "Presidente Perón",
          "Quilmes",
          "Rafael Calzada",
          "Ranelagh",
          "Remedios de Escalada",
          "Ringuelet",
          "San Carlos",
          "San Eliseo Country, Golf, Hotel & Spa",
          "San Francisco Solano",
          "San Jose",
          "San José",
          "San Lorenzo",
          "San Vicente",
          "Sarandi",
          "Solar del Bosque",
          "Sourigues",
          "Temperley",
          "Terralagos",
          "Tolosa",
          "Tristán Suárez",
          "Turdera",
          "Uribelarrea",
          "Valentín Alsina",
          "Vicente Casares",
          "Villa Centenario",
          "Villa Dominico",
          "Villa Elisa",
          "Villa Elvira",
          "Villa Fiorito",
          "Villa Vatteone",
          "Wilde"
         ],
         "xaxis": "x",
         "y": [
          3,
          4,
          6,
          556,
          1,
          9,
          29,
          1,
          10,
          7,
          348,
          849,
          12,
          1,
          1,
          1,
          159,
          1,
          69,
          8,
          14,
          157,
          277,
          8,
          30,
          1,
          205,
          17,
          2,
          2,
          1,
          1,
          25,
          7,
          7,
          3,
          2,
          8,
          5,
          4,
          2,
          3,
          1,
          10,
          114,
          1,
          1,
          167,
          15,
          36,
          60,
          8,
          4,
          16,
          33,
          88,
          2,
          11,
          88,
          1,
          2,
          1,
          107,
          1,
          1501,
          8,
          20,
          887,
          32,
          140,
          6,
          1,
          87,
          1203,
          53,
          8,
          25,
          1,
          133,
          2,
          1,
          3,
          12,
          145,
          2,
          6,
          7,
          14,
          462,
          15,
          17,
          265,
          4,
          8,
          1,
          2,
          3,
          5,
          2,
          67,
          39,
          16,
          4,
          534,
          1,
          28,
          32,
          40,
          1,
          169,
          2,
          1,
          28,
          108,
          9,
          3,
          1,
          120
         ],
         "yaxis": "y"
        },
        {
         "alignmentgroup": "True",
         "hovertemplate": "nulos=No hay datos<br>place_name=%{x}<br>counter=%{y}<extra></extra>",
         "legendgroup": "No hay datos",
         "marker": {
          "color": "#EF553B"
         },
         "name": "No hay datos",
         "offsetgroup": "No hay datos",
         "orientation": "v",
         "showlegend": true,
         "textposition": "auto",
         "type": "bar",
         "x": [
          "Abasto",
          "Abril Club de Campo",
          "Adrogué",
          "Aeropuerto Internacional Ezeiza",
          "Alejandro Korn",
          "Almirante Brown",
          "Altos de Hudson II",
          "Avellaneda",
          "Banfield",
          "Barrio Cerrado \"Los Ombúes de Hudson\"",
          "Barrio Cerrado Los Troncos",
          "Barrio Privado Santa Rita",
          "Berazategui",
          "Bernal",
          "Bosques",
          "Brickland",
          "Bs.As. G.B.A. Zona Sur",
          "Burzaco",
          "Canning",
          "Carlos Spegazzini",
          "Cañuelas",
          "City Bell",
          "Claypole",
          "Country Nuevo Quilmes",
          "Country Saint Thomas",
          "Dock Sud",
          "Domselaar",
          "Don Bosco",
          "Don Orione",
          "Echeverría del Lago",
          "El Centauro",
          "El Jagüel",
          "El Rocío",
          "Esteban Echeverría",
          "Etcheverry",
          "Ex La Ponderosa",
          "Ezeiza",
          "Ezpeleta",
          "Fincas de Hudson",
          "Fincas de Iraola",
          "Fincas de Iraola II",
          "Fincas de San Vicente",
          "Florencio Varela",
          "Gerli",
          "Glew",
          "Gorina",
          "Grand Bell",
          "GreenVille Polo & Resort",
          "Guernica",
          "Guillermo Hudson",
          "Gutierrez",
          "Haras del Sur I",
          "Ingeniero Juan Allan",
          "Jose Marmol",
          "La Plata",
          "La Unión",
          "La horqueta de Echeverría",
          "Lanús",
          "Lanús Este",
          "Lanús Oeste",
          "Las Golondrinas",
          "Lisandro Olmos",
          "Llavallol",
          "Lomas de Zamora",
          "Longchamps",
          "Los Hornos",
          "Luis Guillón",
          "Malvinas Argentinas",
          "Manuel B Gonnet",
          "Melchor Romero",
          "Ministro Rivadavia",
          "Monte Chingolo",
          "Monte Grande",
          "Platanos",
          "Presidente Perón",
          "Quilmes",
          "Rafael Calzada",
          "Ranelagh",
          "Remedios de Escalada",
          "Ringuelet",
          "San Carlos",
          "San Jose",
          "San José",
          "San Vicente",
          "Sarandi",
          "Solar del Bosque",
          "Sourigues",
          "Temperley",
          "Terralagos",
          "Tolosa",
          "Tristán Suárez",
          "Turdera",
          "Uribelarrea",
          "Valentín Alsina",
          "Villa Dominico",
          "Villa Elisa",
          "Villa Elvira",
          "Villa Vatteone",
          "Wilde"
         ],
         "xaxis": "x",
         "y": [
          22,
          13,
          178,
          1,
          7,
          13,
          2,
          63,
          158,
          1,
          1,
          1,
          70,
          70,
          1,
          1,
          10,
          211,
          79,
          5,
          8,
          112,
          29,
          6,
          4,
          5,
          1,
          7,
          3,
          6,
          5,
          2,
          4,
          95,
          4,
          1,
          76,
          3,
          7,
          5,
          8,
          1,
          15,
          9,
          12,
          1,
          1,
          5,
          17,
          3,
          2,
          3,
          6,
          41,
          1033,
          4,
          1,
          161,
          12,
          32,
          1,
          8,
          60,
          326,
          52,
          5,
          15,
          4,
          69,
          2,
          3,
          3,
          83,
          2,
          5,
          237,
          21,
          19,
          41,
          2,
          5,
          2,
          6,
          41,
          4,
          9,
          1,
          169,
          2,
          29,
          20,
          29,
          2,
          42,
          7,
          30,
          8,
          5,
          19
         ],
         "yaxis": "y"
        }
       ],
       "layout": {
        "autosize": true,
        "barmode": "group",
        "dragmode": "zoom",
        "legend": {
         "title": {
          "text": "nulos"
         },
         "tracegroupgap": 0
        },
        "template": {
         "data": {
          "bar": [
           {
            "error_x": {
             "color": "#2a3f5f"
            },
            "error_y": {
             "color": "#2a3f5f"
            },
            "marker": {
             "line": {
              "color": "#E5ECF6",
              "width": 0.5
             }
            },
            "type": "bar"
           }
          ],
          "barpolar": [
           {
            "marker": {
             "line": {
              "color": "#E5ECF6",
              "width": 0.5
             }
            },
            "type": "barpolar"
           }
          ],
          "carpet": [
           {
            "aaxis": {
             "endlinecolor": "#2a3f5f",
             "gridcolor": "white",
             "linecolor": "white",
             "minorgridcolor": "white",
             "startlinecolor": "#2a3f5f"
            },
            "baxis": {
             "endlinecolor": "#2a3f5f",
             "gridcolor": "white",
             "linecolor": "white",
             "minorgridcolor": "white",
             "startlinecolor": "#2a3f5f"
            },
            "type": "carpet"
           }
          ],
          "choropleth": [
           {
            "colorbar": {
             "outlinewidth": 0,
             "ticks": ""
            },
            "type": "choropleth"
           }
          ],
          "contour": [
           {
            "colorbar": {
             "outlinewidth": 0,
             "ticks": ""
            },
            "colorscale": [
             [
              0,
              "#0d0887"
             ],
             [
              0.1111111111111111,
              "#46039f"
             ],
             [
              0.2222222222222222,
              "#7201a8"
             ],
             [
              0.3333333333333333,
              "#9c179e"
             ],
             [
              0.4444444444444444,
              "#bd3786"
             ],
             [
              0.5555555555555556,
              "#d8576b"
             ],
             [
              0.6666666666666666,
              "#ed7953"
             ],
             [
              0.7777777777777778,
              "#fb9f3a"
             ],
             [
              0.8888888888888888,
              "#fdca26"
             ],
             [
              1,
              "#f0f921"
             ]
            ],
            "type": "contour"
           }
          ],
          "contourcarpet": [
           {
            "colorbar": {
             "outlinewidth": 0,
             "ticks": ""
            },
            "type": "contourcarpet"
           }
          ],
          "heatmap": [
           {
            "colorbar": {
             "outlinewidth": 0,
             "ticks": ""
            },
            "colorscale": [
             [
              0,
              "#0d0887"
             ],
             [
              0.1111111111111111,
              "#46039f"
             ],
             [
              0.2222222222222222,
              "#7201a8"
             ],
             [
              0.3333333333333333,
              "#9c179e"
             ],
             [
              0.4444444444444444,
              "#bd3786"
             ],
             [
              0.5555555555555556,
              "#d8576b"
             ],
             [
              0.6666666666666666,
              "#ed7953"
             ],
             [
              0.7777777777777778,
              "#fb9f3a"
             ],
             [
              0.8888888888888888,
              "#fdca26"
             ],
             [
              1,
              "#f0f921"
             ]
            ],
            "type": "heatmap"
           }
          ],
          "heatmapgl": [
           {
            "colorbar": {
             "outlinewidth": 0,
             "ticks": ""
            },
            "colorscale": [
             [
              0,
              "#0d0887"
             ],
             [
              0.1111111111111111,
              "#46039f"
             ],
             [
              0.2222222222222222,
              "#7201a8"
             ],
             [
              0.3333333333333333,
              "#9c179e"
             ],
             [
              0.4444444444444444,
              "#bd3786"
             ],
             [
              0.5555555555555556,
              "#d8576b"
             ],
             [
              0.6666666666666666,
              "#ed7953"
             ],
             [
              0.7777777777777778,
              "#fb9f3a"
             ],
             [
              0.8888888888888888,
              "#fdca26"
             ],
             [
              1,
              "#f0f921"
             ]
            ],
            "type": "heatmapgl"
           }
          ],
          "histogram": [
           {
            "marker": {
             "colorbar": {
              "outlinewidth": 0,
              "ticks": ""
             }
            },
            "type": "histogram"
           }
          ],
          "histogram2d": [
           {
            "colorbar": {
             "outlinewidth": 0,
             "ticks": ""
            },
            "colorscale": [
             [
              0,
              "#0d0887"
             ],
             [
              0.1111111111111111,
              "#46039f"
             ],
             [
              0.2222222222222222,
              "#7201a8"
             ],
             [
              0.3333333333333333,
              "#9c179e"
             ],
             [
              0.4444444444444444,
              "#bd3786"
             ],
             [
              0.5555555555555556,
              "#d8576b"
             ],
             [
              0.6666666666666666,
              "#ed7953"
             ],
             [
              0.7777777777777778,
              "#fb9f3a"
             ],
             [
              0.8888888888888888,
              "#fdca26"
             ],
             [
              1,
              "#f0f921"
             ]
            ],
            "type": "histogram2d"
           }
          ],
          "histogram2dcontour": [
           {
            "colorbar": {
             "outlinewidth": 0,
             "ticks": ""
            },
            "colorscale": [
             [
              0,
              "#0d0887"
             ],
             [
              0.1111111111111111,
              "#46039f"
             ],
             [
              0.2222222222222222,
              "#7201a8"
             ],
             [
              0.3333333333333333,
              "#9c179e"
             ],
             [
              0.4444444444444444,
              "#bd3786"
             ],
             [
              0.5555555555555556,
              "#d8576b"
             ],
             [
              0.6666666666666666,
              "#ed7953"
             ],
             [
              0.7777777777777778,
              "#fb9f3a"
             ],
             [
              0.8888888888888888,
              "#fdca26"
             ],
             [
              1,
              "#f0f921"
             ]
            ],
            "type": "histogram2dcontour"
           }
          ],
          "mesh3d": [
           {
            "colorbar": {
             "outlinewidth": 0,
             "ticks": ""
            },
            "type": "mesh3d"
           }
          ],
          "parcoords": [
           {
            "line": {
             "colorbar": {
              "outlinewidth": 0,
              "ticks": ""
             }
            },
            "type": "parcoords"
           }
          ],
          "pie": [
           {
            "automargin": true,
            "type": "pie"
           }
          ],
          "scatter": [
           {
            "marker": {
             "colorbar": {
              "outlinewidth": 0,
              "ticks": ""
             }
            },
            "type": "scatter"
           }
          ],
          "scatter3d": [
           {
            "line": {
             "colorbar": {
              "outlinewidth": 0,
              "ticks": ""
             }
            },
            "marker": {
             "colorbar": {
              "outlinewidth": 0,
              "ticks": ""
             }
            },
            "type": "scatter3d"
           }
          ],
          "scattercarpet": [
           {
            "marker": {
             "colorbar": {
              "outlinewidth": 0,
              "ticks": ""
             }
            },
            "type": "scattercarpet"
           }
          ],
          "scattergeo": [
           {
            "marker": {
             "colorbar": {
              "outlinewidth": 0,
              "ticks": ""
             }
            },
            "type": "scattergeo"
           }
          ],
          "scattergl": [
           {
            "marker": {
             "colorbar": {
              "outlinewidth": 0,
              "ticks": ""
             }
            },
            "type": "scattergl"
           }
          ],
          "scattermapbox": [
           {
            "marker": {
             "colorbar": {
              "outlinewidth": 0,
              "ticks": ""
             }
            },
            "type": "scattermapbox"
           }
          ],
          "scatterpolar": [
           {
            "marker": {
             "colorbar": {
              "outlinewidth": 0,
              "ticks": ""
             }
            },
            "type": "scatterpolar"
           }
          ],
          "scatterpolargl": [
           {
            "marker": {
             "colorbar": {
              "outlinewidth": 0,
              "ticks": ""
             }
            },
            "type": "scatterpolargl"
           }
          ],
          "scatterternary": [
           {
            "marker": {
             "colorbar": {
              "outlinewidth": 0,
              "ticks": ""
             }
            },
            "type": "scatterternary"
           }
          ],
          "surface": [
           {
            "colorbar": {
             "outlinewidth": 0,
             "ticks": ""
            },
            "colorscale": [
             [
              0,
              "#0d0887"
             ],
             [
              0.1111111111111111,
              "#46039f"
             ],
             [
              0.2222222222222222,
              "#7201a8"
             ],
             [
              0.3333333333333333,
              "#9c179e"
             ],
             [
              0.4444444444444444,
              "#bd3786"
             ],
             [
              0.5555555555555556,
              "#d8576b"
             ],
             [
              0.6666666666666666,
              "#ed7953"
             ],
             [
              0.7777777777777778,
              "#fb9f3a"
             ],
             [
              0.8888888888888888,
              "#fdca26"
             ],
             [
              1,
              "#f0f921"
             ]
            ],
            "type": "surface"
           }
          ],
          "table": [
           {
            "cells": {
             "fill": {
              "color": "#EBF0F8"
             },
             "line": {
              "color": "white"
             }
            },
            "header": {
             "fill": {
              "color": "#C8D4E3"
             },
             "line": {
              "color": "white"
             }
            },
            "type": "table"
           }
          ]
         },
         "layout": {
          "annotationdefaults": {
           "arrowcolor": "#2a3f5f",
           "arrowhead": 0,
           "arrowwidth": 1
          },
          "coloraxis": {
           "colorbar": {
            "outlinewidth": 0,
            "ticks": ""
           }
          },
          "colorscale": {
           "diverging": [
            [
             0,
             "#8e0152"
            ],
            [
             0.1,
             "#c51b7d"
            ],
            [
             0.2,
             "#de77ae"
            ],
            [
             0.3,
             "#f1b6da"
            ],
            [
             0.4,
             "#fde0ef"
            ],
            [
             0.5,
             "#f7f7f7"
            ],
            [
             0.6,
             "#e6f5d0"
            ],
            [
             0.7,
             "#b8e186"
            ],
            [
             0.8,
             "#7fbc41"
            ],
            [
             0.9,
             "#4d9221"
            ],
            [
             1,
             "#276419"
            ]
           ],
           "sequential": [
            [
             0,
             "#0d0887"
            ],
            [
             0.1111111111111111,
             "#46039f"
            ],
            [
             0.2222222222222222,
             "#7201a8"
            ],
            [
             0.3333333333333333,
             "#9c179e"
            ],
            [
             0.4444444444444444,
             "#bd3786"
            ],
            [
             0.5555555555555556,
             "#d8576b"
            ],
            [
             0.6666666666666666,
             "#ed7953"
            ],
            [
             0.7777777777777778,
             "#fb9f3a"
            ],
            [
             0.8888888888888888,
             "#fdca26"
            ],
            [
             1,
             "#f0f921"
            ]
           ],
           "sequentialminus": [
            [
             0,
             "#0d0887"
            ],
            [
             0.1111111111111111,
             "#46039f"
            ],
            [
             0.2222222222222222,
             "#7201a8"
            ],
            [
             0.3333333333333333,
             "#9c179e"
            ],
            [
             0.4444444444444444,
             "#bd3786"
            ],
            [
             0.5555555555555556,
             "#d8576b"
            ],
            [
             0.6666666666666666,
             "#ed7953"
            ],
            [
             0.7777777777777778,
             "#fb9f3a"
            ],
            [
             0.8888888888888888,
             "#fdca26"
            ],
            [
             1,
             "#f0f921"
            ]
           ]
          },
          "colorway": [
           "#636efa",
           "#EF553B",
           "#00cc96",
           "#ab63fa",
           "#FFA15A",
           "#19d3f3",
           "#FF6692",
           "#B6E880",
           "#FF97FF",
           "#FECB52"
          ],
          "font": {
           "color": "#2a3f5f"
          },
          "geo": {
           "bgcolor": "white",
           "lakecolor": "white",
           "landcolor": "#E5ECF6",
           "showlakes": true,
           "showland": true,
           "subunitcolor": "white"
          },
          "hoverlabel": {
           "align": "left"
          },
          "hovermode": "closest",
          "mapbox": {
           "style": "light"
          },
          "paper_bgcolor": "white",
          "plot_bgcolor": "#E5ECF6",
          "polar": {
           "angularaxis": {
            "gridcolor": "white",
            "linecolor": "white",
            "ticks": ""
           },
           "bgcolor": "#E5ECF6",
           "radialaxis": {
            "gridcolor": "white",
            "linecolor": "white",
            "ticks": ""
           }
          },
          "scene": {
           "xaxis": {
            "backgroundcolor": "#E5ECF6",
            "gridcolor": "white",
            "gridwidth": 2,
            "linecolor": "white",
            "showbackground": true,
            "ticks": "",
            "zerolinecolor": "white"
           },
           "yaxis": {
            "backgroundcolor": "#E5ECF6",
            "gridcolor": "white",
            "gridwidth": 2,
            "linecolor": "white",
            "showbackground": true,
            "ticks": "",
            "zerolinecolor": "white"
           },
           "zaxis": {
            "backgroundcolor": "#E5ECF6",
            "gridcolor": "white",
            "gridwidth": 2,
            "linecolor": "white",
            "showbackground": true,
            "ticks": "",
            "zerolinecolor": "white"
           }
          },
          "shapedefaults": {
           "line": {
            "color": "#2a3f5f"
           }
          },
          "ternary": {
           "aaxis": {
            "gridcolor": "white",
            "linecolor": "white",
            "ticks": ""
           },
           "baxis": {
            "gridcolor": "white",
            "linecolor": "white",
            "ticks": ""
           },
           "bgcolor": "#E5ECF6",
           "caxis": {
            "gridcolor": "white",
            "linecolor": "white",
            "ticks": ""
           }
          },
          "title": {
           "x": 0.05
          },
          "xaxis": {
           "automargin": true,
           "gridcolor": "white",
           "linecolor": "white",
           "ticks": "",
           "title": {
            "standoff": 15
           },
           "zerolinecolor": "white",
           "zerolinewidth": 2
          },
          "yaxis": {
           "automargin": true,
           "gridcolor": "white",
           "linecolor": "white",
           "ticks": "",
           "title": {
            "standoff": 15
           },
           "zerolinecolor": "white",
           "zerolinewidth": 2
          }
         }
        },
        "title": {
         "text": " BSAS SUR - Barrios"
        },
        "xaxis": {
         "anchor": "y",
         "autorange": true,
         "domain": [
          0,
          1
         ],
         "range": [
          -0.5,
          122.5
         ],
         "title": {
          "text": "place_name"
         },
         "type": "category"
        },
        "yaxis": {
         "anchor": "x",
         "autorange": true,
         "domain": [
          0,
          1
         ],
         "range": [
          0,
          1580
         ],
         "title": {
          "text": "counter"
         },
         "type": "linear"
        }
       }
      },
      "image/png": "[encoded data removed]",
      "text/html": [
       "<div>\n",
       "        \n",
       "        \n",
       "            <div id=\"5436646b-255d-4fd2-bdd0-ee89e3b25a2c\" class=\"plotly-graph-div\" style=\"height:400px; width:100%;\"></div>\n",
       "            <script type=\"text/javascript\">\n",
       "                require([\"plotly\"], function(Plotly) {\n",
       "                    window.PLOTLYENV=window.PLOTLYENV || {};\n",
       "                    \n",
       "                if (document.getElementById(\"5436646b-255d-4fd2-bdd0-ee89e3b25a2c\")) {\n",
       "                    Plotly.newPlot(\n",
       "                        '5436646b-255d-4fd2-bdd0-ee89e3b25a2c',\n",
       "                        [{\"alignmentgroup\": \"True\", \"hovertemplate\": \"nulos=Hay datos<br>place_name=%{x}<br>counter=%{y}<extra></extra>\", \"legendgroup\": \"Hay datos\", \"marker\": {\"color\": \"#636efa\"}, \"name\": \"Hay datos\", \"offsetgroup\": \"Hay datos\", \"orientation\": \"v\", \"showlegend\": true, \"textposition\": \"auto\", \"type\": \"bar\", \"x\": [\"9 de Abril\", \"Abasto\", \"Abril Club de Campo\", \"Adrogu\\u00e9\", \"Aeropuerto Internacional Ezeiza\", \"Alejandro Korn\", \"Almirante Brown\", \"Altos de Hudson I\", \"Altos de Hudson II\", \"Arturo Segu\\u00ed\", \"Avellaneda\", \"Banfield\", \"Barrio Cerrado \\\"Los Omb\\u00faes de Hudson\\\"\", \"Barrio Melazzi\", \"Barrio Privado El Rodal\", \"Barrio Privado Santa Rita\", \"Berazategui\", \"Berazategui Oeste\", \"Bernal\", \"Brickland\", \"Bs.As. G.B.A. Zona Sur\", \"Burzaco\", \"Canning\", \"Carlos Spegazzini\", \"Ca\\u00f1uelas\", \"Chacras de La Trinidad\", \"City Bell\", \"Claypole\", \"Club El Carmen - Sector casas\", \"Club de Campo La Martona\", \"Complejo de Barrios Privados La Magdalena\", \"Country Golf El Sosiego\", \"Country Nuevo Quilmes\", \"Country Saint Thomas\", \"Crucecita\", \"Dock Sud\", \"Domselaar\", \"Don Bosco\", \"Don Orione\", \"Echeverr\\u00eda del Lago\", \"El Centauro\", \"El Pato\", \"El Pato Country Club\", \"El Roc\\u00edo\", \"Esteban Echeverr\\u00eda\", \"Etcheverry\", \"Ex La Ponderosa\", \"Ezeiza\", \"Ezpeleta\", \"Fincas de Hudson\", \"Fincas de Iraola\", \"Fincas de Iraola II\", \"Fincas de San Vicente\", \"Florencio Varela\", \"Gerli\", \"Glew\", \"Grand Bell\", \"GreenVille Polo & Resort\", \"Guernica\", \"Guillermo Hudson\", \"Haras del Sur I\", \"Ingeniero Juan Allan\", \"Jose Marmol\", \"Jos\\u00e9 Hern\\u00e1ndez\", \"La Plata\", \"La Uni\\u00f3n\", \"La horqueta de Echeverr\\u00eda\", \"Lan\\u00fas\", \"Lan\\u00fas Este\", \"Lan\\u00fas Oeste\", \"Las Golondrinas\", \"Lisandro Olmos\", \"Llavallol\", \"Lomas de Zamora\", \"Longchamps\", \"Los Hornos\", \"Luis Guill\\u00f3n\", \"Malvinas Argentinas\", \"Manuel B Gonnet\", \"Melchor Romero\", \"Mi Refugio\", \"Ministro Rivadavia\", \"Monte Chingolo\", \"Monte Grande\", \"M\\u00e1ximo Paz\", \"Pi\\u00f1eiro\", \"Platanos\", \"Presidente Per\\u00f3n\", \"Quilmes\", \"Rafael Calzada\", \"Ranelagh\", \"Remedios de Escalada\", \"Ringuelet\", \"San Carlos\", \"San Eliseo Country, Golf, Hotel & Spa\", \"San Francisco Solano\", \"San Jose\", \"San Jos\\u00e9\", \"San Lorenzo\", \"San Vicente\", \"Sarandi\", \"Solar del Bosque\", \"Sourigues\", \"Temperley\", \"Terralagos\", \"Tolosa\", \"Trist\\u00e1n Su\\u00e1rez\", \"Turdera\", \"Uribelarrea\", \"Valent\\u00edn Alsina\", \"Vicente Casares\", \"Villa Centenario\", \"Villa Dominico\", \"Villa Elisa\", \"Villa Elvira\", \"Villa Fiorito\", \"Villa Vatteone\", \"Wilde\"], \"xaxis\": \"x\", \"y\": [3, 4, 6, 556, 1, 9, 29, 1, 10, 7, 348, 849, 12, 1, 1, 1, 159, 1, 69, 8, 14, 157, 277, 8, 30, 1, 205, 17, 2, 2, 1, 1, 25, 7, 7, 3, 2, 8, 5, 4, 2, 3, 1, 10, 114, 1, 1, 167, 15, 36, 60, 8, 4, 16, 33, 88, 2, 11, 88, 1, 2, 1, 107, 1, 1501, 8, 20, 887, 32, 140, 6, 1, 87, 1203, 53, 8, 25, 1, 133, 2, 1, 3, 12, 145, 2, 6, 7, 14, 462, 15, 17, 265, 4, 8, 1, 2, 3, 5, 2, 67, 39, 16, 4, 534, 1, 28, 32, 40, 1, 169, 2, 1, 28, 108, 9, 3, 1, 120], \"yaxis\": \"y\"}, {\"alignmentgroup\": \"True\", \"hovertemplate\": \"nulos=No hay datos<br>place_name=%{x}<br>counter=%{y}<extra></extra>\", \"legendgroup\": \"No hay datos\", \"marker\": {\"color\": \"#EF553B\"}, \"name\": \"No hay datos\", \"offsetgroup\": \"No hay datos\", \"orientation\": \"v\", \"showlegend\": true, \"textposition\": \"auto\", \"type\": \"bar\", \"x\": [\"Abasto\", \"Abril Club de Campo\", \"Adrogu\\u00e9\", \"Aeropuerto Internacional Ezeiza\", \"Alejandro Korn\", \"Almirante Brown\", \"Altos de Hudson II\", \"Avellaneda\", \"Banfield\", \"Barrio Cerrado \\\"Los Omb\\u00faes de Hudson\\\"\", \"Barrio Cerrado Los Troncos\", \"Barrio Privado Santa Rita\", \"Berazategui\", \"Bernal\", \"Bosques\", \"Brickland\", \"Bs.As. G.B.A. Zona Sur\", \"Burzaco\", \"Canning\", \"Carlos Spegazzini\", \"Ca\\u00f1uelas\", \"City Bell\", \"Claypole\", \"Country Nuevo Quilmes\", \"Country Saint Thomas\", \"Dock Sud\", \"Domselaar\", \"Don Bosco\", \"Don Orione\", \"Echeverr\\u00eda del Lago\", \"El Centauro\", \"El Jag\\u00fcel\", \"El Roc\\u00edo\", \"Esteban Echeverr\\u00eda\", \"Etcheverry\", \"Ex La Ponderosa\", \"Ezeiza\", \"Ezpeleta\", \"Fincas de Hudson\", \"Fincas de Iraola\", \"Fincas de Iraola II\", \"Fincas de San Vicente\", \"Florencio Varela\", \"Gerli\", \"Glew\", \"Gorina\", \"Grand Bell\", \"GreenVille Polo & Resort\", \"Guernica\", \"Guillermo Hudson\", \"Gutierrez\", \"Haras del Sur I\", \"Ingeniero Juan Allan\", \"Jose Marmol\", \"La Plata\", \"La Uni\\u00f3n\", \"La horqueta de Echeverr\\u00eda\", \"Lan\\u00fas\", \"Lan\\u00fas Este\", \"Lan\\u00fas Oeste\", \"Las Golondrinas\", \"Lisandro Olmos\", \"Llavallol\", \"Lomas de Zamora\", \"Longchamps\", \"Los Hornos\", \"Luis Guill\\u00f3n\", \"Malvinas Argentinas\", \"Manuel B Gonnet\", \"Melchor Romero\", \"Ministro Rivadavia\", \"Monte Chingolo\", \"Monte Grande\", \"Platanos\", \"Presidente Per\\u00f3n\", \"Quilmes\", \"Rafael Calzada\", \"Ranelagh\", \"Remedios de Escalada\", \"Ringuelet\", \"San Carlos\", \"San Jose\", \"San Jos\\u00e9\", \"San Vicente\", \"Sarandi\", \"Solar del Bosque\", \"Sourigues\", \"Temperley\", \"Terralagos\", \"Tolosa\", \"Trist\\u00e1n Su\\u00e1rez\", \"Turdera\", \"Uribelarrea\", \"Valent\\u00edn Alsina\", \"Villa Dominico\", \"Villa Elisa\", \"Villa Elvira\", \"Villa Vatteone\", \"Wilde\"], \"xaxis\": \"x\", \"y\": [22, 13, 178, 1, 7, 13, 2, 63, 158, 1, 1, 1, 70, 70, 1, 1, 10, 211, 79, 5, 8, 112, 29, 6, 4, 5, 1, 7, 3, 6, 5, 2, 4, 95, 4, 1, 76, 3, 7, 5, 8, 1, 15, 9, 12, 1, 1, 5, 17, 3, 2, 3, 6, 41, 1033, 4, 1, 161, 12, 32, 1, 8, 60, 326, 52, 5, 15, 4, 69, 2, 3, 3, 83, 2, 5, 237, 21, 19, 41, 2, 5, 2, 6, 41, 4, 9, 1, 169, 2, 29, 20, 29, 2, 42, 7, 30, 8, 5, 19], \"yaxis\": \"y\"}],\n",
       "                        {\"barmode\": \"group\", \"height\": 400, \"legend\": {\"title\": {\"text\": \"nulos\"}, \"tracegroupgap\": 0}, \"template\": {\"data\": {\"bar\": [{\"error_x\": {\"color\": \"#2a3f5f\"}, \"error_y\": {\"color\": \"#2a3f5f\"}, \"marker\": {\"line\": {\"color\": \"#E5ECF6\", \"width\": 0.5}}, \"type\": \"bar\"}], \"barpolar\": [{\"marker\": {\"line\": {\"color\": \"#E5ECF6\", \"width\": 0.5}}, \"type\": \"barpolar\"}], \"carpet\": [{\"aaxis\": {\"endlinecolor\": \"#2a3f5f\", \"gridcolor\": \"white\", \"linecolor\": \"white\", \"minorgridcolor\": \"white\", \"startlinecolor\": \"#2a3f5f\"}, \"baxis\": {\"endlinecolor\": \"#2a3f5f\", \"gridcolor\": \"white\", \"linecolor\": \"white\", \"minorgridcolor\": \"white\", \"startlinecolor\": \"#2a3f5f\"}, \"type\": \"carpet\"}], \"choropleth\": [{\"colorbar\": {\"outlinewidth\": 0, \"ticks\": \"\"}, \"type\": \"choropleth\"}], \"contour\": [{\"colorbar\": {\"outlinewidth\": 0, \"ticks\": \"\"}, \"colorscale\": [[0.0, \"#0d0887\"], [0.1111111111111111, \"#46039f\"], [0.2222222222222222, \"#7201a8\"], [0.3333333333333333, \"#9c179e\"], [0.4444444444444444, \"#bd3786\"], [0.5555555555555556, \"#d8576b\"], [0.6666666666666666, \"#ed7953\"], [0.7777777777777778, \"#fb9f3a\"], [0.8888888888888888, \"#fdca26\"], [1.0, \"#f0f921\"]], \"type\": \"contour\"}], \"contourcarpet\": [{\"colorbar\": {\"outlinewidth\": 0, \"ticks\": \"\"}, \"type\": \"contourcarpet\"}], \"heatmap\": [{\"colorbar\": {\"outlinewidth\": 0, \"ticks\": \"\"}, \"colorscale\": [[0.0, \"#0d0887\"], [0.1111111111111111, \"#46039f\"], [0.2222222222222222, \"#7201a8\"], [0.3333333333333333, \"#9c179e\"], [0.4444444444444444, \"#bd3786\"], [0.5555555555555556, \"#d8576b\"], [0.6666666666666666, \"#ed7953\"], [0.7777777777777778, \"#fb9f3a\"], [0.8888888888888888, \"#fdca26\"], [1.0, \"#f0f921\"]], \"type\": \"heatmap\"}], \"heatmapgl\": [{\"colorbar\": {\"outlinewidth\": 0, \"ticks\": \"\"}, \"colorscale\": [[0.0, \"#0d0887\"], [0.1111111111111111, \"#46039f\"], [0.2222222222222222, \"#7201a8\"], [0.3333333333333333, \"#9c179e\"], [0.4444444444444444, \"#bd3786\"], [0.5555555555555556, \"#d8576b\"], [0.6666666666666666, \"#ed7953\"], [0.7777777777777778, \"#fb9f3a\"], [0.8888888888888888, \"#fdca26\"], [1.0, \"#f0f921\"]], \"type\": \"heatmapgl\"}], \"histogram\": [{\"marker\": {\"colorbar\": {\"outlinewidth\": 0, \"ticks\": \"\"}}, \"type\": \"histogram\"}], \"histogram2d\": [{\"colorbar\": {\"outlinewidth\": 0, \"ticks\": \"\"}, \"colorscale\": [[0.0, \"#0d0887\"], [0.1111111111111111, \"#46039f\"], [0.2222222222222222, \"#7201a8\"], [0.3333333333333333, \"#9c179e\"], [0.4444444444444444, \"#bd3786\"], [0.5555555555555556, \"#d8576b\"], [0.6666666666666666, \"#ed7953\"], [0.7777777777777778, \"#fb9f3a\"], [0.8888888888888888, \"#fdca26\"], [1.0, \"#f0f921\"]], \"type\": \"histogram2d\"}], \"histogram2dcontour\": [{\"colorbar\": {\"outlinewidth\": 0, \"ticks\": \"\"}, \"colorscale\": [[0.0, \"#0d0887\"], [0.1111111111111111, \"#46039f\"], [0.2222222222222222, \"#7201a8\"], [0.3333333333333333, \"#9c179e\"], [0.4444444444444444, \"#bd3786\"], [0.5555555555555556, \"#d8576b\"], [0.6666666666666666, \"#ed7953\"], [0.7777777777777778, \"#fb9f3a\"], [0.8888888888888888, \"#fdca26\"], [1.0, \"#f0f921\"]], \"type\": \"histogram2dcontour\"}], \"mesh3d\": [{\"colorbar\": {\"outlinewidth\": 0, \"ticks\": \"\"}, \"type\": \"mesh3d\"}], \"parcoords\": [{\"line\": {\"colorbar\": {\"outlinewidth\": 0, \"ticks\": \"\"}}, \"type\": \"parcoords\"}], \"pie\": [{\"automargin\": true, \"type\": \"pie\"}], \"scatter\": [{\"marker\": {\"colorbar\": {\"outlinewidth\": 0, \"ticks\": \"\"}}, \"type\": \"scatter\"}], \"scatter3d\": [{\"line\": {\"colorbar\": {\"outlinewidth\": 0, \"ticks\": \"\"}}, \"marker\": {\"colorbar\": {\"outlinewidth\": 0, \"ticks\": \"\"}}, \"type\": \"scatter3d\"}], \"scattercarpet\": [{\"marker\": {\"colorbar\": {\"outlinewidth\": 0, \"ticks\": \"\"}}, \"type\": \"scattercarpet\"}], \"scattergeo\": [{\"marker\": {\"colorbar\": {\"outlinewidth\": 0, \"ticks\": \"\"}}, \"type\": \"scattergeo\"}], \"scattergl\": [{\"marker\": {\"colorbar\": {\"outlinewidth\": 0, \"ticks\": \"\"}}, \"type\": \"scattergl\"}], \"scattermapbox\": [{\"marker\": {\"colorbar\": {\"outlinewidth\": 0, \"ticks\": \"\"}}, \"type\": \"scattermapbox\"}], \"scatterpolar\": [{\"marker\": {\"colorbar\": {\"outlinewidth\": 0, \"ticks\": \"\"}}, \"type\": \"scatterpolar\"}], \"scatterpolargl\": [{\"marker\": {\"colorbar\": {\"outlinewidth\": 0, \"ticks\": \"\"}}, \"type\": \"scatterpolargl\"}], \"scatterternary\": [{\"marker\": {\"colorbar\": {\"outlinewidth\": 0, \"ticks\": \"\"}}, \"type\": \"scatterternary\"}], \"surface\": [{\"colorbar\": {\"outlinewidth\": 0, \"ticks\": \"\"}, \"colorscale\": [[0.0, \"#0d0887\"], [0.1111111111111111, \"#46039f\"], [0.2222222222222222, \"#7201a8\"], [0.3333333333333333, \"#9c179e\"], [0.4444444444444444, \"#bd3786\"], [0.5555555555555556, \"#d8576b\"], [0.6666666666666666, \"#ed7953\"], [0.7777777777777778, \"#fb9f3a\"], [0.8888888888888888, \"#fdca26\"], [1.0, \"#f0f921\"]], \"type\": \"surface\"}], \"table\": [{\"cells\": {\"fill\": {\"color\": \"#EBF0F8\"}, \"line\": {\"color\": \"white\"}}, \"header\": {\"fill\": {\"color\": \"#C8D4E3\"}, \"line\": {\"color\": \"white\"}}, \"type\": \"table\"}]}, \"layout\": {\"annotationdefaults\": {\"arrowcolor\": \"#2a3f5f\", \"arrowhead\": 0, \"arrowwidth\": 1}, \"coloraxis\": {\"colorbar\": {\"outlinewidth\": 0, \"ticks\": \"\"}}, \"colorscale\": {\"diverging\": [[0, \"#8e0152\"], [0.1, \"#c51b7d\"], [0.2, \"#de77ae\"], [0.3, \"#f1b6da\"], [0.4, \"#fde0ef\"], [0.5, \"#f7f7f7\"], [0.6, \"#e6f5d0\"], [0.7, \"#b8e186\"], [0.8, \"#7fbc41\"], [0.9, \"#4d9221\"], [1, \"#276419\"]], \"sequential\": [[0.0, \"#0d0887\"], [0.1111111111111111, \"#46039f\"], [0.2222222222222222, \"#7201a8\"], [0.3333333333333333, \"#9c179e\"], [0.4444444444444444, \"#bd3786\"], [0.5555555555555556, \"#d8576b\"], [0.6666666666666666, \"#ed7953\"], [0.7777777777777778, \"#fb9f3a\"], [0.8888888888888888, \"#fdca26\"], [1.0, \"#f0f921\"]], \"sequentialminus\": [[0.0, \"#0d0887\"], [0.1111111111111111, \"#46039f\"], [0.2222222222222222, \"#7201a8\"], [0.3333333333333333, \"#9c179e\"], [0.4444444444444444, \"#bd3786\"], [0.5555555555555556, \"#d8576b\"], [0.6666666666666666, \"#ed7953\"], [0.7777777777777778, \"#fb9f3a\"], [0.8888888888888888, \"#fdca26\"], [1.0, \"#f0f921\"]]}, \"colorway\": [\"#636efa\", \"#EF553B\", \"#00cc96\", \"#ab63fa\", \"#FFA15A\", \"#19d3f3\", \"#FF6692\", \"#B6E880\", \"#FF97FF\", \"#FECB52\"], \"font\": {\"color\": \"#2a3f5f\"}, \"geo\": {\"bgcolor\": \"white\", \"lakecolor\": \"white\", \"landcolor\": \"#E5ECF6\", \"showlakes\": true, \"showland\": true, \"subunitcolor\": \"white\"}, \"hoverlabel\": {\"align\": \"left\"}, \"hovermode\": \"closest\", \"mapbox\": {\"style\": \"light\"}, \"paper_bgcolor\": \"white\", \"plot_bgcolor\": \"#E5ECF6\", \"polar\": {\"angularaxis\": {\"gridcolor\": \"white\", \"linecolor\": \"white\", \"ticks\": \"\"}, \"bgcolor\": \"#E5ECF6\", \"radialaxis\": {\"gridcolor\": \"white\", \"linecolor\": \"white\", \"ticks\": \"\"}}, \"scene\": {\"xaxis\": {\"backgroundcolor\": \"#E5ECF6\", \"gridcolor\": \"white\", \"gridwidth\": 2, \"linecolor\": \"white\", \"showbackground\": true, \"ticks\": \"\", \"zerolinecolor\": \"white\"}, \"yaxis\": {\"backgroundcolor\": \"#E5ECF6\", \"gridcolor\": \"white\", \"gridwidth\": 2, \"linecolor\": \"white\", \"showbackground\": true, \"ticks\": \"\", \"zerolinecolor\": \"white\"}, \"zaxis\": {\"backgroundcolor\": \"#E5ECF6\", \"gridcolor\": \"white\", \"gridwidth\": 2, \"linecolor\": \"white\", \"showbackground\": true, \"ticks\": \"\", \"zerolinecolor\": \"white\"}}, \"shapedefaults\": {\"line\": {\"color\": \"#2a3f5f\"}}, \"ternary\": {\"aaxis\": {\"gridcolor\": \"white\", \"linecolor\": \"white\", \"ticks\": \"\"}, \"baxis\": {\"gridcolor\": \"white\", \"linecolor\": \"white\", \"ticks\": \"\"}, \"bgcolor\": \"#E5ECF6\", \"caxis\": {\"gridcolor\": \"white\", \"linecolor\": \"white\", \"ticks\": \"\"}}, \"title\": {\"x\": 0.05}, \"xaxis\": {\"automargin\": true, \"gridcolor\": \"white\", \"linecolor\": \"white\", \"ticks\": \"\", \"title\": {\"standoff\": 15}, \"zerolinecolor\": \"white\", \"zerolinewidth\": 2}, \"yaxis\": {\"automargin\": true, \"gridcolor\": \"white\", \"linecolor\": \"white\", \"ticks\": \"\", \"title\": {\"standoff\": 15}, \"zerolinecolor\": \"white\", \"zerolinewidth\": 2}}}, \"title\": {\"text\": \" BSAS SUR - Barrios\"}, \"xaxis\": {\"anchor\": \"y\", \"domain\": [0.0, 1.0], \"title\": {\"text\": \"place_name\"}}, \"yaxis\": {\"anchor\": \"x\", \"domain\": [0.0, 1.0], \"title\": {\"text\": \"counter\"}}},\n",
       "                        {\"responsive\": true}\n",
       "                    ).then(function(){\n",
       "                            \n",
       "var gd = document.getElementById('5436646b-255d-4fd2-bdd0-ee89e3b25a2c');\n",
       "var x = new MutationObserver(function (mutations, observer) {{\n",
       "        var display = window.getComputedStyle(gd).display;\n",
       "        if (!display || display === 'none') {{\n",
       "            console.log([gd, 'removed!']);\n",
       "            Plotly.purge(gd);\n",
       "            observer.disconnect();\n",
       "        }}\n",
       "}});\n",
       "\n",
       "// Listen for the removal of the full notebook cells\n",
       "var notebookContainer = gd.closest('#notebook-container');\n",
       "if (notebookContainer) {{\n",
       "    x.observe(notebookContainer, {childList: true});\n",
       "}}\n",
       "\n",
       "// Listen for the clearing of the current output cell\n",
       "var outputEl = gd.closest('.output');\n",
       "if (outputEl) {{\n",
       "    x.observe(outputEl, {childList: true});\n",
       "}}\n",
       "\n",
       "                        })\n",
       "                };\n",
       "                });\n",
       "            </script>\n",
       "        </div>"
      ]
     },
     "metadata": {},
     "output_type": "display_data"
    }
   ],
   "source": [
    "bsas_sur_barrios_group = bsas_sur.groupby(by=['state_name','place_name','nulos'],as_index=False)['counter'].sum()\n",
    "bsas_sur_barrios_group['nulos'] = bsas_sur_barrios_group['nulos'].astype(str)\n",
    "bsas_sur_barrios_group['nulos'] = bsas_sur_barrios_group.nulos.str.replace('False','Hay datos')\n",
    "bsas_sur_barrios_group['nulos'] = bsas_sur_barrios_group.nulos.str.replace('True','No hay datos')\n",
    "fig = px.bar(bsas_sur_barrios_group, x=\"place_name\", y=\"counter\",\n",
    "             color='nulos', barmode='group',\n",
    "             height=400, title=\" BSAS SUR - Barrios\")\n",
    "fig.show()"
   ]
  },
  {
   "cell_type": "code",
   "execution_count": 126,
   "metadata": {},
   "outputs": [
    {
     "data": {
      "application/vnd.plotly.v1+json": {
       "config": {
        "plotlyServerURL": "https://plotly.com"
       },
       "data": [
        {
         "alignmentgroup": "True",
         "hovertemplate": "nulos=Hay datos<br>place_name=%{x}<br>counter=%{y}<extra></extra>",
         "legendgroup": "Hay datos",
         "marker": {
          "color": "#636efa"
         },
         "name": "Hay datos",
         "offsetgroup": "Hay datos",
         "orientation": "v",
         "showlegend": true,
         "textposition": "auto",
         "type": "bar",
         "x": [
          "Aldo Bonzi",
          "Barrio Cerrado \"El Casco de Moreno\"",
          "Barrio Cerrado El Casco de Alvarez",
          "Barrio El Moro",
          "Barrio Parque San Martin",
          "Barrio Privado El Resuello",
          "Barrio cerrado Santa Ana",
          "Bs.As. G.B.A. Zona Oeste",
          "Campos de Álvarez",
          "Caseros",
          "Castelar",
          "Ciudad Evita",
          "Ciudad Jardín Lomas del Palomar",
          "Ciudadela",
          "Country Banco Provincia",
          "Country Club Las lajas",
          "Country La Tradición",
          "Cruce Castelar",
          "Cuartel V",
          "El Casco de Leloir",
          "El Nacional Club de Campo",
          "El Palomar",
          "Francisco Alvarez",
          "General Rodríguez",
          "González Catán",
          "Gregorio de Laferrere",
          "Haedo",
          "Haras María Elena",
          "Haras María Victoria",
          "Haras San Pablo",
          "Hurlingham",
          "Isidro Casanova",
          "Ituzaingó",
          "José Ingenieros",
          "La Cesarina",
          "La Esperanza Club de Campo",
          "La Matanza",
          "La Reja",
          "La Tablada",
          "Libertad",
          "Loma Hermosa",
          "Lomas del Mirador",
          "Los Pingüinos Country Club",
          "Marcos Paz",
          "Mariano Acosta",
          "Martín Coronado",
          "Merlo",
          "Moreno",
          "Morón",
          "Pablo Podestá",
          "Parque Leloir",
          "Paso del Rey",
          "Pontevedra",
          "Prados del Oeste",
          "Rafael Castillo",
          "Ramos Mejía",
          "San Alberto",
          "San Antonio De Padua",
          "San Diego Country Club",
          "San Justo",
          "Santos Lugares",
          "St. Patrick Country",
          "Sáenz Peña",
          "Tapiales",
          "Terravista Barrio Privado",
          "Tres de Febrero",
          "Trujui",
          "Villa Ariza",
          "Villa Bosch",
          "Villa Celina",
          "Villa Luzuriaga",
          "Villa Madero",
          "Villa Raffo",
          "Villa Sarmiento",
          "Villa Tesei",
          "Villa Udaondo",
          "Virrey del Pino",
          "William Morris"
         ],
         "xaxis": "x",
         "y": [
          3,
          1,
          1,
          23,
          3,
          1,
          3,
          47,
          20,
          326,
          422,
          28,
          40,
          153,
          14,
          7,
          1,
          2,
          3,
          2,
          20,
          152,
          30,
          79,
          5,
          7,
          399,
          11,
          10,
          7,
          114,
          27,
          467,
          4,
          5,
          1,
          76,
          32,
          17,
          7,
          21,
          109,
          1,
          51,
          2,
          46,
          76,
          238,
          845,
          8,
          48,
          48,
          3,
          6,
          7,
          942,
          8,
          116,
          10,
          225,
          110,
          2,
          63,
          20,
          4,
          66,
          5,
          9,
          116,
          9,
          260,
          52,
          8,
          121,
          10,
          22,
          8,
          1
         ],
         "yaxis": "y"
        },
        {
         "alignmentgroup": "True",
         "hovertemplate": "nulos=No hay datos<br>place_name=%{x}<br>counter=%{y}<extra></extra>",
         "legendgroup": "No hay datos",
         "marker": {
          "color": "#EF553B"
         },
         "name": "No hay datos",
         "offsetgroup": "No hay datos",
         "orientation": "v",
         "showlegend": true,
         "textposition": "auto",
         "type": "bar",
         "x": [
          "Aldo Bonzi",
          "Barrio El Moro",
          "Barrio Parque San Martin",
          "Bs.As. G.B.A. Zona Oeste",
          "Campos de Álvarez",
          "Caseros",
          "Castelar",
          "Ciudad Evita",
          "Ciudad Jardín Lomas del Palomar",
          "Ciudadela",
          "Country Banco Provincia",
          "Cuartel V",
          "El Casco de Leloir",
          "El Nacional Club de Campo",
          "El Palomar",
          "Francisco Alvarez",
          "General Rodríguez",
          "González Catán",
          "Haedo",
          "Haras María Elena",
          "Haras María Victoria",
          "Hurlingham",
          "Isidro Casanova",
          "Ituzaingó",
          "José Ingenieros",
          "La Cesarina",
          "La Matanza",
          "La Reja",
          "La Tablada",
          "Libertad",
          "Loma Hermosa",
          "Lomas del Mirador",
          "Los Pingüinos Country Club",
          "Marcos Paz",
          "Mariano Acosta",
          "Martín Coronado",
          "Merlo",
          "Moreno",
          "Morón",
          "Pablo Podestá",
          "Parque Leloir",
          "Paso del Rey",
          "Pontevedra",
          "Rafael Castillo",
          "Ramos Mejía",
          "San Alberto",
          "San Antonio De Padua",
          "San Diego Country Club",
          "San Justo",
          "Santos Lugares",
          "Sáenz Peña",
          "Tapiales",
          "Tres de Febrero",
          "Trujui",
          "Villa Ariza",
          "Villa Bosch",
          "Villa Celina",
          "Villa Luzuriaga",
          "Villa Madero",
          "Villa Raffo",
          "Villa Sarmiento",
          "Villa Tesei",
          "Villa Udaondo",
          "Virrey del Pino"
         ],
         "xaxis": "x",
         "y": [
          3,
          8,
          1,
          18,
          2,
          85,
          218,
          1,
          2,
          130,
          2,
          1,
          4,
          1,
          20,
          28,
          28,
          2,
          73,
          2,
          2,
          41,
          14,
          365,
          1,
          2,
          73,
          7,
          12,
          5,
          14,
          52,
          316,
          6,
          1,
          38,
          218,
          283,
          364,
          3,
          9,
          11,
          1,
          9,
          185,
          3,
          25,
          1,
          83,
          27,
          13,
          2,
          30,
          1,
          7,
          46,
          3,
          103,
          2,
          2,
          31,
          5,
          3,
          8
         ],
         "yaxis": "y"
        }
       ],
       "layout": {
        "autosize": true,
        "barmode": "group",
        "legend": {
         "title": {
          "text": "nulos"
         },
         "tracegroupgap": 0
        },
        "template": {
         "data": {
          "bar": [
           {
            "error_x": {
             "color": "#2a3f5f"
            },
            "error_y": {
             "color": "#2a3f5f"
            },
            "marker": {
             "line": {
              "color": "#E5ECF6",
              "width": 0.5
             }
            },
            "type": "bar"
           }
          ],
          "barpolar": [
           {
            "marker": {
             "line": {
              "color": "#E5ECF6",
              "width": 0.5
             }
            },
            "type": "barpolar"
           }
          ],
          "carpet": [
           {
            "aaxis": {
             "endlinecolor": "#2a3f5f",
             "gridcolor": "white",
             "linecolor": "white",
             "minorgridcolor": "white",
             "startlinecolor": "#2a3f5f"
            },
            "baxis": {
             "endlinecolor": "#2a3f5f",
             "gridcolor": "white",
             "linecolor": "white",
             "minorgridcolor": "white",
             "startlinecolor": "#2a3f5f"
            },
            "type": "carpet"
           }
          ],
          "choropleth": [
           {
            "colorbar": {
             "outlinewidth": 0,
             "ticks": ""
            },
            "type": "choropleth"
           }
          ],
          "contour": [
           {
            "colorbar": {
             "outlinewidth": 0,
             "ticks": ""
            },
            "colorscale": [
             [
              0,
              "#0d0887"
             ],
             [
              0.1111111111111111,
              "#46039f"
             ],
             [
              0.2222222222222222,
              "#7201a8"
             ],
             [
              0.3333333333333333,
              "#9c179e"
             ],
             [
              0.4444444444444444,
              "#bd3786"
             ],
             [
              0.5555555555555556,
              "#d8576b"
             ],
             [
              0.6666666666666666,
              "#ed7953"
             ],
             [
              0.7777777777777778,
              "#fb9f3a"
             ],
             [
              0.8888888888888888,
              "#fdca26"
             ],
             [
              1,
              "#f0f921"
             ]
            ],
            "type": "contour"
           }
          ],
          "contourcarpet": [
           {
            "colorbar": {
             "outlinewidth": 0,
             "ticks": ""
            },
            "type": "contourcarpet"
           }
          ],
          "heatmap": [
           {
            "colorbar": {
             "outlinewidth": 0,
             "ticks": ""
            },
            "colorscale": [
             [
              0,
              "#0d0887"
             ],
             [
              0.1111111111111111,
              "#46039f"
             ],
             [
              0.2222222222222222,
              "#7201a8"
             ],
             [
              0.3333333333333333,
              "#9c179e"
             ],
             [
              0.4444444444444444,
              "#bd3786"
             ],
             [
              0.5555555555555556,
              "#d8576b"
             ],
             [
              0.6666666666666666,
              "#ed7953"
             ],
             [
              0.7777777777777778,
              "#fb9f3a"
             ],
             [
              0.8888888888888888,
              "#fdca26"
             ],
             [
              1,
              "#f0f921"
             ]
            ],
            "type": "heatmap"
           }
          ],
          "heatmapgl": [
           {
            "colorbar": {
             "outlinewidth": 0,
             "ticks": ""
            },
            "colorscale": [
             [
              0,
              "#0d0887"
             ],
             [
              0.1111111111111111,
              "#46039f"
             ],
             [
              0.2222222222222222,
              "#7201a8"
             ],
             [
              0.3333333333333333,
              "#9c179e"
             ],
             [
              0.4444444444444444,
              "#bd3786"
             ],
             [
              0.5555555555555556,
              "#d8576b"
             ],
             [
              0.6666666666666666,
              "#ed7953"
             ],
             [
              0.7777777777777778,
              "#fb9f3a"
             ],
             [
              0.8888888888888888,
              "#fdca26"
             ],
             [
              1,
              "#f0f921"
             ]
            ],
            "type": "heatmapgl"
           }
          ],
          "histogram": [
           {
            "marker": {
             "colorbar": {
              "outlinewidth": 0,
              "ticks": ""
             }
            },
            "type": "histogram"
           }
          ],
          "histogram2d": [
           {
            "colorbar": {
             "outlinewidth": 0,
             "ticks": ""
            },
            "colorscale": [
             [
              0,
              "#0d0887"
             ],
             [
              0.1111111111111111,
              "#46039f"
             ],
             [
              0.2222222222222222,
              "#7201a8"
             ],
             [
              0.3333333333333333,
              "#9c179e"
             ],
             [
              0.4444444444444444,
              "#bd3786"
             ],
             [
              0.5555555555555556,
              "#d8576b"
             ],
             [
              0.6666666666666666,
              "#ed7953"
             ],
             [
              0.7777777777777778,
              "#fb9f3a"
             ],
             [
              0.8888888888888888,
              "#fdca26"
             ],
             [
              1,
              "#f0f921"
             ]
            ],
            "type": "histogram2d"
           }
          ],
          "histogram2dcontour": [
           {
            "colorbar": {
             "outlinewidth": 0,
             "ticks": ""
            },
            "colorscale": [
             [
              0,
              "#0d0887"
             ],
             [
              0.1111111111111111,
              "#46039f"
             ],
             [
              0.2222222222222222,
              "#7201a8"
             ],
             [
              0.3333333333333333,
              "#9c179e"
             ],
             [
              0.4444444444444444,
              "#bd3786"
             ],
             [
              0.5555555555555556,
              "#d8576b"
             ],
             [
              0.6666666666666666,
              "#ed7953"
             ],
             [
              0.7777777777777778,
              "#fb9f3a"
             ],
             [
              0.8888888888888888,
              "#fdca26"
             ],
             [
              1,
              "#f0f921"
             ]
            ],
            "type": "histogram2dcontour"
           }
          ],
          "mesh3d": [
           {
            "colorbar": {
             "outlinewidth": 0,
             "ticks": ""
            },
            "type": "mesh3d"
           }
          ],
          "parcoords": [
           {
            "line": {
             "colorbar": {
              "outlinewidth": 0,
              "ticks": ""
             }
            },
            "type": "parcoords"
           }
          ],
          "pie": [
           {
            "automargin": true,
            "type": "pie"
           }
          ],
          "scatter": [
           {
            "marker": {
             "colorbar": {
              "outlinewidth": 0,
              "ticks": ""
             }
            },
            "type": "scatter"
           }
          ],
          "scatter3d": [
           {
            "line": {
             "colorbar": {
              "outlinewidth": 0,
              "ticks": ""
             }
            },
            "marker": {
             "colorbar": {
              "outlinewidth": 0,
              "ticks": ""
             }
            },
            "type": "scatter3d"
           }
          ],
          "scattercarpet": [
           {
            "marker": {
             "colorbar": {
              "outlinewidth": 0,
              "ticks": ""
             }
            },
            "type": "scattercarpet"
           }
          ],
          "scattergeo": [
           {
            "marker": {
             "colorbar": {
              "outlinewidth": 0,
              "ticks": ""
             }
            },
            "type": "scattergeo"
           }
          ],
          "scattergl": [
           {
            "marker": {
             "colorbar": {
              "outlinewidth": 0,
              "ticks": ""
             }
            },
            "type": "scattergl"
           }
          ],
          "scattermapbox": [
           {
            "marker": {
             "colorbar": {
              "outlinewidth": 0,
              "ticks": ""
             }
            },
            "type": "scattermapbox"
           }
          ],
          "scatterpolar": [
           {
            "marker": {
             "colorbar": {
              "outlinewidth": 0,
              "ticks": ""
             }
            },
            "type": "scatterpolar"
           }
          ],
          "scatterpolargl": [
           {
            "marker": {
             "colorbar": {
              "outlinewidth": 0,
              "ticks": ""
             }
            },
            "type": "scatterpolargl"
           }
          ],
          "scatterternary": [
           {
            "marker": {
             "colorbar": {
              "outlinewidth": 0,
              "ticks": ""
             }
            },
            "type": "scatterternary"
           }
          ],
          "surface": [
           {
            "colorbar": {
             "outlinewidth": 0,
             "ticks": ""
            },
            "colorscale": [
             [
              0,
              "#0d0887"
             ],
             [
              0.1111111111111111,
              "#46039f"
             ],
             [
              0.2222222222222222,
              "#7201a8"
             ],
             [
              0.3333333333333333,
              "#9c179e"
             ],
             [
              0.4444444444444444,
              "#bd3786"
             ],
             [
              0.5555555555555556,
              "#d8576b"
             ],
             [
              0.6666666666666666,
              "#ed7953"
             ],
             [
              0.7777777777777778,
              "#fb9f3a"
             ],
             [
              0.8888888888888888,
              "#fdca26"
             ],
             [
              1,
              "#f0f921"
             ]
            ],
            "type": "surface"
           }
          ],
          "table": [
           {
            "cells": {
             "fill": {
              "color": "#EBF0F8"
             },
             "line": {
              "color": "white"
             }
            },
            "header": {
             "fill": {
              "color": "#C8D4E3"
             },
             "line": {
              "color": "white"
             }
            },
            "type": "table"
           }
          ]
         },
         "layout": {
          "annotationdefaults": {
           "arrowcolor": "#2a3f5f",
           "arrowhead": 0,
           "arrowwidth": 1
          },
          "coloraxis": {
           "colorbar": {
            "outlinewidth": 0,
            "ticks": ""
           }
          },
          "colorscale": {
           "diverging": [
            [
             0,
             "#8e0152"
            ],
            [
             0.1,
             "#c51b7d"
            ],
            [
             0.2,
             "#de77ae"
            ],
            [
             0.3,
             "#f1b6da"
            ],
            [
             0.4,
             "#fde0ef"
            ],
            [
             0.5,
             "#f7f7f7"
            ],
            [
             0.6,
             "#e6f5d0"
            ],
            [
             0.7,
             "#b8e186"
            ],
            [
             0.8,
             "#7fbc41"
            ],
            [
             0.9,
             "#4d9221"
            ],
            [
             1,
             "#276419"
            ]
           ],
           "sequential": [
            [
             0,
             "#0d0887"
            ],
            [
             0.1111111111111111,
             "#46039f"
            ],
            [
             0.2222222222222222,
             "#7201a8"
            ],
            [
             0.3333333333333333,
             "#9c179e"
            ],
            [
             0.4444444444444444,
             "#bd3786"
            ],
            [
             0.5555555555555556,
             "#d8576b"
            ],
            [
             0.6666666666666666,
             "#ed7953"
            ],
            [
             0.7777777777777778,
             "#fb9f3a"
            ],
            [
             0.8888888888888888,
             "#fdca26"
            ],
            [
             1,
             "#f0f921"
            ]
           ],
           "sequentialminus": [
            [
             0,
             "#0d0887"
            ],
            [
             0.1111111111111111,
             "#46039f"
            ],
            [
             0.2222222222222222,
             "#7201a8"
            ],
            [
             0.3333333333333333,
             "#9c179e"
            ],
            [
             0.4444444444444444,
             "#bd3786"
            ],
            [
             0.5555555555555556,
             "#d8576b"
            ],
            [
             0.6666666666666666,
             "#ed7953"
            ],
            [
             0.7777777777777778,
             "#fb9f3a"
            ],
            [
             0.8888888888888888,
             "#fdca26"
            ],
            [
             1,
             "#f0f921"
            ]
           ]
          },
          "colorway": [
           "#636efa",
           "#EF553B",
           "#00cc96",
           "#ab63fa",
           "#FFA15A",
           "#19d3f3",
           "#FF6692",
           "#B6E880",
           "#FF97FF",
           "#FECB52"
          ],
          "font": {
           "color": "#2a3f5f"
          },
          "geo": {
           "bgcolor": "white",
           "lakecolor": "white",
           "landcolor": "#E5ECF6",
           "showlakes": true,
           "showland": true,
           "subunitcolor": "white"
          },
          "hoverlabel": {
           "align": "left"
          },
          "hovermode": "closest",
          "mapbox": {
           "style": "light"
          },
          "paper_bgcolor": "white",
          "plot_bgcolor": "#E5ECF6",
          "polar": {
           "angularaxis": {
            "gridcolor": "white",
            "linecolor": "white",
            "ticks": ""
           },
           "bgcolor": "#E5ECF6",
           "radialaxis": {
            "gridcolor": "white",
            "linecolor": "white",
            "ticks": ""
           }
          },
          "scene": {
           "xaxis": {
            "backgroundcolor": "#E5ECF6",
            "gridcolor": "white",
            "gridwidth": 2,
            "linecolor": "white",
            "showbackground": true,
            "ticks": "",
            "zerolinecolor": "white"
           },
           "yaxis": {
            "backgroundcolor": "#E5ECF6",
            "gridcolor": "white",
            "gridwidth": 2,
            "linecolor": "white",
            "showbackground": true,
            "ticks": "",
            "zerolinecolor": "white"
           },
           "zaxis": {
            "backgroundcolor": "#E5ECF6",
            "gridcolor": "white",
            "gridwidth": 2,
            "linecolor": "white",
            "showbackground": true,
            "ticks": "",
            "zerolinecolor": "white"
           }
          },
          "shapedefaults": {
           "line": {
            "color": "#2a3f5f"
           }
          },
          "ternary": {
           "aaxis": {
            "gridcolor": "white",
            "linecolor": "white",
            "ticks": ""
           },
           "baxis": {
            "gridcolor": "white",
            "linecolor": "white",
            "ticks": ""
           },
           "bgcolor": "#E5ECF6",
           "caxis": {
            "gridcolor": "white",
            "linecolor": "white",
            "ticks": ""
           }
          },
          "title": {
           "x": 0.05
          },
          "xaxis": {
           "automargin": true,
           "gridcolor": "white",
           "linecolor": "white",
           "ticks": "",
           "title": {
            "standoff": 15
           },
           "zerolinecolor": "white",
           "zerolinewidth": 2
          },
          "yaxis": {
           "automargin": true,
           "gridcolor": "white",
           "linecolor": "white",
           "ticks": "",
           "title": {
            "standoff": 15
           },
           "zerolinecolor": "white",
           "zerolinewidth": 2
          }
         }
        },
        "title": {
         "text": " BSAS OESTE - Barrios"
        },
        "xaxis": {
         "anchor": "y",
         "autorange": true,
         "domain": [
          0,
          1
         ],
         "range": [
          -0.5,
          77.5
         ],
         "title": {
          "text": "place_name"
         },
         "type": "category"
        },
        "yaxis": {
         "anchor": "x",
         "autorange": true,
         "domain": [
          0,
          1
         ],
         "range": [
          0,
          991.578947368421
         ],
         "title": {
          "text": "counter"
         },
         "type": "linear"
        }
       }
      },
      "image/png": "[encoded data removed]",
      "text/html": [
       "<div>\n",
       "        \n",
       "        \n",
       "            <div id=\"6d93af18-4ec9-4bc1-8030-9eb189ddbd8c\" class=\"plotly-graph-div\" style=\"height:400px; width:100%;\"></div>\n",
       "            <script type=\"text/javascript\">\n",
       "                require([\"plotly\"], function(Plotly) {\n",
       "                    window.PLOTLYENV=window.PLOTLYENV || {};\n",
       "                    \n",
       "                if (document.getElementById(\"6d93af18-4ec9-4bc1-8030-9eb189ddbd8c\")) {\n",
       "                    Plotly.newPlot(\n",
       "                        '6d93af18-4ec9-4bc1-8030-9eb189ddbd8c',\n",
       "                        [{\"alignmentgroup\": \"True\", \"hovertemplate\": \"nulos=Hay datos<br>place_name=%{x}<br>counter=%{y}<extra></extra>\", \"legendgroup\": \"Hay datos\", \"marker\": {\"color\": \"#636efa\"}, \"name\": \"Hay datos\", \"offsetgroup\": \"Hay datos\", \"orientation\": \"v\", \"showlegend\": true, \"textposition\": \"auto\", \"type\": \"bar\", \"x\": [\"Aldo Bonzi\", \"Barrio Cerrado \\\"El Casco de Moreno\\\"\", \"Barrio Cerrado El Casco de Alvarez\", \"Barrio El Moro\", \"Barrio Parque San Martin\", \"Barrio Privado El Resuello\", \"Barrio cerrado Santa Ana\", \"Bs.As. G.B.A. Zona Oeste\", \"Campos de \\u00c1lvarez\", \"Caseros\", \"Castelar\", \"Ciudad Evita\", \"Ciudad Jard\\u00edn Lomas del Palomar\", \"Ciudadela\", \"Country Banco Provincia\", \"Country Club Las lajas\", \"Country La Tradici\\u00f3n\", \"Cruce Castelar\", \"Cuartel V\", \"El Casco de Leloir\", \"El Nacional Club de Campo\", \"El Palomar\", \"Francisco Alvarez\", \"General Rodr\\u00edguez\", \"Gonz\\u00e1lez Cat\\u00e1n\", \"Gregorio de Laferrere\", \"Haedo\", \"Haras Mar\\u00eda Elena\", \"Haras Mar\\u00eda Victoria\", \"Haras San Pablo\", \"Hurlingham\", \"Isidro Casanova\", \"Ituzaing\\u00f3\", \"Jos\\u00e9 Ingenieros\", \"La Cesarina\", \"La Esperanza Club de Campo\", \"La Matanza\", \"La Reja\", \"La Tablada\", \"Libertad\", \"Loma Hermosa\", \"Lomas del Mirador\", \"Los Ping\\u00fcinos Country Club\", \"Marcos Paz\", \"Mariano Acosta\", \"Mart\\u00edn Coronado\", \"Merlo\", \"Moreno\", \"Mor\\u00f3n\", \"Pablo Podest\\u00e1\", \"Parque Leloir\", \"Paso del Rey\", \"Pontevedra\", \"Prados del Oeste\", \"Rafael Castillo\", \"Ramos Mej\\u00eda\", \"San Alberto\", \"San Antonio De Padua\", \"San Diego Country Club\", \"San Justo\", \"Santos Lugares\", \"St. Patrick Country\", \"S\\u00e1enz Pe\\u00f1a\", \"Tapiales\", \"Terravista Barrio Privado\", \"Tres de Febrero\", \"Trujui\", \"Villa Ariza\", \"Villa Bosch\", \"Villa Celina\", \"Villa Luzuriaga\", \"Villa Madero\", \"Villa Raffo\", \"Villa Sarmiento\", \"Villa Tesei\", \"Villa Udaondo\", \"Virrey del Pino\", \"William Morris\"], \"xaxis\": \"x\", \"y\": [3, 1, 1, 23, 3, 1, 3, 47, 20, 326, 422, 28, 40, 153, 14, 7, 1, 2, 3, 2, 20, 152, 30, 79, 5, 7, 399, 11, 10, 7, 114, 27, 467, 4, 5, 1, 76, 32, 17, 7, 21, 109, 1, 51, 2, 46, 76, 238, 845, 8, 48, 48, 3, 6, 7, 942, 8, 116, 10, 225, 110, 2, 63, 20, 4, 66, 5, 9, 116, 9, 260, 52, 8, 121, 10, 22, 8, 1], \"yaxis\": \"y\"}, {\"alignmentgroup\": \"True\", \"hovertemplate\": \"nulos=No hay datos<br>place_name=%{x}<br>counter=%{y}<extra></extra>\", \"legendgroup\": \"No hay datos\", \"marker\": {\"color\": \"#EF553B\"}, \"name\": \"No hay datos\", \"offsetgroup\": \"No hay datos\", \"orientation\": \"v\", \"showlegend\": true, \"textposition\": \"auto\", \"type\": \"bar\", \"x\": [\"Aldo Bonzi\", \"Barrio El Moro\", \"Barrio Parque San Martin\", \"Bs.As. G.B.A. Zona Oeste\", \"Campos de \\u00c1lvarez\", \"Caseros\", \"Castelar\", \"Ciudad Evita\", \"Ciudad Jard\\u00edn Lomas del Palomar\", \"Ciudadela\", \"Country Banco Provincia\", \"Cuartel V\", \"El Casco de Leloir\", \"El Nacional Club de Campo\", \"El Palomar\", \"Francisco Alvarez\", \"General Rodr\\u00edguez\", \"Gonz\\u00e1lez Cat\\u00e1n\", \"Haedo\", \"Haras Mar\\u00eda Elena\", \"Haras Mar\\u00eda Victoria\", \"Hurlingham\", \"Isidro Casanova\", \"Ituzaing\\u00f3\", \"Jos\\u00e9 Ingenieros\", \"La Cesarina\", \"La Matanza\", \"La Reja\", \"La Tablada\", \"Libertad\", \"Loma Hermosa\", \"Lomas del Mirador\", \"Los Ping\\u00fcinos Country Club\", \"Marcos Paz\", \"Mariano Acosta\", \"Mart\\u00edn Coronado\", \"Merlo\", \"Moreno\", \"Mor\\u00f3n\", \"Pablo Podest\\u00e1\", \"Parque Leloir\", \"Paso del Rey\", \"Pontevedra\", \"Rafael Castillo\", \"Ramos Mej\\u00eda\", \"San Alberto\", \"San Antonio De Padua\", \"San Diego Country Club\", \"San Justo\", \"Santos Lugares\", \"S\\u00e1enz Pe\\u00f1a\", \"Tapiales\", \"Tres de Febrero\", \"Trujui\", \"Villa Ariza\", \"Villa Bosch\", \"Villa Celina\", \"Villa Luzuriaga\", \"Villa Madero\", \"Villa Raffo\", \"Villa Sarmiento\", \"Villa Tesei\", \"Villa Udaondo\", \"Virrey del Pino\"], \"xaxis\": \"x\", \"y\": [3, 8, 1, 18, 2, 85, 218, 1, 2, 130, 2, 1, 4, 1, 20, 28, 28, 2, 73, 2, 2, 41, 14, 365, 1, 2, 73, 7, 12, 5, 14, 52, 316, 6, 1, 38, 218, 283, 364, 3, 9, 11, 1, 9, 185, 3, 25, 1, 83, 27, 13, 2, 30, 1, 7, 46, 3, 103, 2, 2, 31, 5, 3, 8], \"yaxis\": \"y\"}],\n",
       "                        {\"barmode\": \"group\", \"height\": 400, \"legend\": {\"title\": {\"text\": \"nulos\"}, \"tracegroupgap\": 0}, \"template\": {\"data\": {\"bar\": [{\"error_x\": {\"color\": \"#2a3f5f\"}, \"error_y\": {\"color\": \"#2a3f5f\"}, \"marker\": {\"line\": {\"color\": \"#E5ECF6\", \"width\": 0.5}}, \"type\": \"bar\"}], \"barpolar\": [{\"marker\": {\"line\": {\"color\": \"#E5ECF6\", \"width\": 0.5}}, \"type\": \"barpolar\"}], \"carpet\": [{\"aaxis\": {\"endlinecolor\": \"#2a3f5f\", \"gridcolor\": \"white\", \"linecolor\": \"white\", \"minorgridcolor\": \"white\", \"startlinecolor\": \"#2a3f5f\"}, \"baxis\": {\"endlinecolor\": \"#2a3f5f\", \"gridcolor\": \"white\", \"linecolor\": \"white\", \"minorgridcolor\": \"white\", \"startlinecolor\": \"#2a3f5f\"}, \"type\": \"carpet\"}], \"choropleth\": [{\"colorbar\": {\"outlinewidth\": 0, \"ticks\": \"\"}, \"type\": \"choropleth\"}], \"contour\": [{\"colorbar\": {\"outlinewidth\": 0, \"ticks\": \"\"}, \"colorscale\": [[0.0, \"#0d0887\"], [0.1111111111111111, \"#46039f\"], [0.2222222222222222, \"#7201a8\"], [0.3333333333333333, \"#9c179e\"], [0.4444444444444444, \"#bd3786\"], [0.5555555555555556, \"#d8576b\"], [0.6666666666666666, \"#ed7953\"], [0.7777777777777778, \"#fb9f3a\"], [0.8888888888888888, \"#fdca26\"], [1.0, \"#f0f921\"]], \"type\": \"contour\"}], \"contourcarpet\": [{\"colorbar\": {\"outlinewidth\": 0, \"ticks\": \"\"}, \"type\": \"contourcarpet\"}], \"heatmap\": [{\"colorbar\": {\"outlinewidth\": 0, \"ticks\": \"\"}, \"colorscale\": [[0.0, \"#0d0887\"], [0.1111111111111111, \"#46039f\"], [0.2222222222222222, \"#7201a8\"], [0.3333333333333333, \"#9c179e\"], [0.4444444444444444, \"#bd3786\"], [0.5555555555555556, \"#d8576b\"], [0.6666666666666666, \"#ed7953\"], [0.7777777777777778, \"#fb9f3a\"], [0.8888888888888888, \"#fdca26\"], [1.0, \"#f0f921\"]], \"type\": \"heatmap\"}], \"heatmapgl\": [{\"colorbar\": {\"outlinewidth\": 0, \"ticks\": \"\"}, \"colorscale\": [[0.0, \"#0d0887\"], [0.1111111111111111, \"#46039f\"], [0.2222222222222222, \"#7201a8\"], [0.3333333333333333, \"#9c179e\"], [0.4444444444444444, \"#bd3786\"], [0.5555555555555556, \"#d8576b\"], [0.6666666666666666, \"#ed7953\"], [0.7777777777777778, \"#fb9f3a\"], [0.8888888888888888, \"#fdca26\"], [1.0, \"#f0f921\"]], \"type\": \"heatmapgl\"}], \"histogram\": [{\"marker\": {\"colorbar\": {\"outlinewidth\": 0, \"ticks\": \"\"}}, \"type\": \"histogram\"}], \"histogram2d\": [{\"colorbar\": {\"outlinewidth\": 0, \"ticks\": \"\"}, \"colorscale\": [[0.0, \"#0d0887\"], [0.1111111111111111, \"#46039f\"], [0.2222222222222222, \"#7201a8\"], [0.3333333333333333, \"#9c179e\"], [0.4444444444444444, \"#bd3786\"], [0.5555555555555556, \"#d8576b\"], [0.6666666666666666, \"#ed7953\"], [0.7777777777777778, \"#fb9f3a\"], [0.8888888888888888, \"#fdca26\"], [1.0, \"#f0f921\"]], \"type\": \"histogram2d\"}], \"histogram2dcontour\": [{\"colorbar\": {\"outlinewidth\": 0, \"ticks\": \"\"}, \"colorscale\": [[0.0, \"#0d0887\"], [0.1111111111111111, \"#46039f\"], [0.2222222222222222, \"#7201a8\"], [0.3333333333333333, \"#9c179e\"], [0.4444444444444444, \"#bd3786\"], [0.5555555555555556, \"#d8576b\"], [0.6666666666666666, \"#ed7953\"], [0.7777777777777778, \"#fb9f3a\"], [0.8888888888888888, \"#fdca26\"], [1.0, \"#f0f921\"]], \"type\": \"histogram2dcontour\"}], \"mesh3d\": [{\"colorbar\": {\"outlinewidth\": 0, \"ticks\": \"\"}, \"type\": \"mesh3d\"}], \"parcoords\": [{\"line\": {\"colorbar\": {\"outlinewidth\": 0, \"ticks\": \"\"}}, \"type\": \"parcoords\"}], \"pie\": [{\"automargin\": true, \"type\": \"pie\"}], \"scatter\": [{\"marker\": {\"colorbar\": {\"outlinewidth\": 0, \"ticks\": \"\"}}, \"type\": \"scatter\"}], \"scatter3d\": [{\"line\": {\"colorbar\": {\"outlinewidth\": 0, \"ticks\": \"\"}}, \"marker\": {\"colorbar\": {\"outlinewidth\": 0, \"ticks\": \"\"}}, \"type\": \"scatter3d\"}], \"scattercarpet\": [{\"marker\": {\"colorbar\": {\"outlinewidth\": 0, \"ticks\": \"\"}}, \"type\": \"scattercarpet\"}], \"scattergeo\": [{\"marker\": {\"colorbar\": {\"outlinewidth\": 0, \"ticks\": \"\"}}, \"type\": \"scattergeo\"}], \"scattergl\": [{\"marker\": {\"colorbar\": {\"outlinewidth\": 0, \"ticks\": \"\"}}, \"type\": \"scattergl\"}], \"scattermapbox\": [{\"marker\": {\"colorbar\": {\"outlinewidth\": 0, \"ticks\": \"\"}}, \"type\": \"scattermapbox\"}], \"scatterpolar\": [{\"marker\": {\"colorbar\": {\"outlinewidth\": 0, \"ticks\": \"\"}}, \"type\": \"scatterpolar\"}], \"scatterpolargl\": [{\"marker\": {\"colorbar\": {\"outlinewidth\": 0, \"ticks\": \"\"}}, \"type\": \"scatterpolargl\"}], \"scatterternary\": [{\"marker\": {\"colorbar\": {\"outlinewidth\": 0, \"ticks\": \"\"}}, \"type\": \"scatterternary\"}], \"surface\": [{\"colorbar\": {\"outlinewidth\": 0, \"ticks\": \"\"}, \"colorscale\": [[0.0, \"#0d0887\"], [0.1111111111111111, \"#46039f\"], [0.2222222222222222, \"#7201a8\"], [0.3333333333333333, \"#9c179e\"], [0.4444444444444444, \"#bd3786\"], [0.5555555555555556, \"#d8576b\"], [0.6666666666666666, \"#ed7953\"], [0.7777777777777778, \"#fb9f3a\"], [0.8888888888888888, \"#fdca26\"], [1.0, \"#f0f921\"]], \"type\": \"surface\"}], \"table\": [{\"cells\": {\"fill\": {\"color\": \"#EBF0F8\"}, \"line\": {\"color\": \"white\"}}, \"header\": {\"fill\": {\"color\": \"#C8D4E3\"}, \"line\": {\"color\": \"white\"}}, \"type\": \"table\"}]}, \"layout\": {\"annotationdefaults\": {\"arrowcolor\": \"#2a3f5f\", \"arrowhead\": 0, \"arrowwidth\": 1}, \"coloraxis\": {\"colorbar\": {\"outlinewidth\": 0, \"ticks\": \"\"}}, \"colorscale\": {\"diverging\": [[0, \"#8e0152\"], [0.1, \"#c51b7d\"], [0.2, \"#de77ae\"], [0.3, \"#f1b6da\"], [0.4, \"#fde0ef\"], [0.5, \"#f7f7f7\"], [0.6, \"#e6f5d0\"], [0.7, \"#b8e186\"], [0.8, \"#7fbc41\"], [0.9, \"#4d9221\"], [1, \"#276419\"]], \"sequential\": [[0.0, \"#0d0887\"], [0.1111111111111111, \"#46039f\"], [0.2222222222222222, \"#7201a8\"], [0.3333333333333333, \"#9c179e\"], [0.4444444444444444, \"#bd3786\"], [0.5555555555555556, \"#d8576b\"], [0.6666666666666666, \"#ed7953\"], [0.7777777777777778, \"#fb9f3a\"], [0.8888888888888888, \"#fdca26\"], [1.0, \"#f0f921\"]], \"sequentialminus\": [[0.0, \"#0d0887\"], [0.1111111111111111, \"#46039f\"], [0.2222222222222222, \"#7201a8\"], [0.3333333333333333, \"#9c179e\"], [0.4444444444444444, \"#bd3786\"], [0.5555555555555556, \"#d8576b\"], [0.6666666666666666, \"#ed7953\"], [0.7777777777777778, \"#fb9f3a\"], [0.8888888888888888, \"#fdca26\"], [1.0, \"#f0f921\"]]}, \"colorway\": [\"#636efa\", \"#EF553B\", \"#00cc96\", \"#ab63fa\", \"#FFA15A\", \"#19d3f3\", \"#FF6692\", \"#B6E880\", \"#FF97FF\", \"#FECB52\"], \"font\": {\"color\": \"#2a3f5f\"}, \"geo\": {\"bgcolor\": \"white\", \"lakecolor\": \"white\", \"landcolor\": \"#E5ECF6\", \"showlakes\": true, \"showland\": true, \"subunitcolor\": \"white\"}, \"hoverlabel\": {\"align\": \"left\"}, \"hovermode\": \"closest\", \"mapbox\": {\"style\": \"light\"}, \"paper_bgcolor\": \"white\", \"plot_bgcolor\": \"#E5ECF6\", \"polar\": {\"angularaxis\": {\"gridcolor\": \"white\", \"linecolor\": \"white\", \"ticks\": \"\"}, \"bgcolor\": \"#E5ECF6\", \"radialaxis\": {\"gridcolor\": \"white\", \"linecolor\": \"white\", \"ticks\": \"\"}}, \"scene\": {\"xaxis\": {\"backgroundcolor\": \"#E5ECF6\", \"gridcolor\": \"white\", \"gridwidth\": 2, \"linecolor\": \"white\", \"showbackground\": true, \"ticks\": \"\", \"zerolinecolor\": \"white\"}, \"yaxis\": {\"backgroundcolor\": \"#E5ECF6\", \"gridcolor\": \"white\", \"gridwidth\": 2, \"linecolor\": \"white\", \"showbackground\": true, \"ticks\": \"\", \"zerolinecolor\": \"white\"}, \"zaxis\": {\"backgroundcolor\": \"#E5ECF6\", \"gridcolor\": \"white\", \"gridwidth\": 2, \"linecolor\": \"white\", \"showbackground\": true, \"ticks\": \"\", \"zerolinecolor\": \"white\"}}, \"shapedefaults\": {\"line\": {\"color\": \"#2a3f5f\"}}, \"ternary\": {\"aaxis\": {\"gridcolor\": \"white\", \"linecolor\": \"white\", \"ticks\": \"\"}, \"baxis\": {\"gridcolor\": \"white\", \"linecolor\": \"white\", \"ticks\": \"\"}, \"bgcolor\": \"#E5ECF6\", \"caxis\": {\"gridcolor\": \"white\", \"linecolor\": \"white\", \"ticks\": \"\"}}, \"title\": {\"x\": 0.05}, \"xaxis\": {\"automargin\": true, \"gridcolor\": \"white\", \"linecolor\": \"white\", \"ticks\": \"\", \"title\": {\"standoff\": 15}, \"zerolinecolor\": \"white\", \"zerolinewidth\": 2}, \"yaxis\": {\"automargin\": true, \"gridcolor\": \"white\", \"linecolor\": \"white\", \"ticks\": \"\", \"title\": {\"standoff\": 15}, \"zerolinecolor\": \"white\", \"zerolinewidth\": 2}}}, \"title\": {\"text\": \" BSAS OESTE - Barrios\"}, \"xaxis\": {\"anchor\": \"y\", \"domain\": [0.0, 1.0], \"title\": {\"text\": \"place_name\"}}, \"yaxis\": {\"anchor\": \"x\", \"domain\": [0.0, 1.0], \"title\": {\"text\": \"counter\"}}},\n",
       "                        {\"responsive\": true}\n",
       "                    ).then(function(){\n",
       "                            \n",
       "var gd = document.getElementById('6d93af18-4ec9-4bc1-8030-9eb189ddbd8c');\n",
       "var x = new MutationObserver(function (mutations, observer) {{\n",
       "        var display = window.getComputedStyle(gd).display;\n",
       "        if (!display || display === 'none') {{\n",
       "            console.log([gd, 'removed!']);\n",
       "            Plotly.purge(gd);\n",
       "            observer.disconnect();\n",
       "        }}\n",
       "}});\n",
       "\n",
       "// Listen for the removal of the full notebook cells\n",
       "var notebookContainer = gd.closest('#notebook-container');\n",
       "if (notebookContainer) {{\n",
       "    x.observe(notebookContainer, {childList: true});\n",
       "}}\n",
       "\n",
       "// Listen for the clearing of the current output cell\n",
       "var outputEl = gd.closest('.output');\n",
       "if (outputEl) {{\n",
       "    x.observe(outputEl, {childList: true});\n",
       "}}\n",
       "\n",
       "                        })\n",
       "                };\n",
       "                });\n",
       "            </script>\n",
       "        </div>"
      ]
     },
     "metadata": {},
     "output_type": "display_data"
    }
   ],
   "source": [
    "bsas_oeste_barrios_grupo = bsas_oeste.groupby(by=['state_name','place_name','nulos'],as_index=False)['counter'].sum()\n",
    "bsas_oeste_barrios_grupo['nulos'] = bsas_oeste_barrios_grupo['nulos'].astype(str)\n",
    "bsas_oeste_barrios_grupo['nulos'] = bsas_oeste_barrios_grupo.nulos.str.replace('False','Hay datos')\n",
    "bsas_oeste_barrios_grupo['nulos'] = bsas_oeste_barrios_grupo.nulos.str.replace('True','No hay datos')\n",
    "fig = px.bar(bsas_oeste_barrios_grupo, x=\"place_name\", y=\"counter\",\n",
    "             color='nulos', barmode='group',\n",
    "             height=400, title=\" BSAS OESTE - Barrios\")\n",
    "fig.show()"
   ]
  },
  {
   "cell_type": "code",
   "execution_count": 130,
   "metadata": {},
   "outputs": [
    {
     "data": {
      "application/vnd.plotly.v1+json": {
       "config": {
        "plotlyServerURL": "https://plotly.com"
       },
       "data": [
        {
         "alignmentgroup": "True",
         "hovertemplate": "nulos=Hay datos<br>place_name=%{x}<br>counter=%{y}<extra></extra>",
         "legendgroup": "Hay datos",
         "marker": {
          "color": "#636efa"
         },
         "name": "Hay datos",
         "offsetgroup": "Hay datos",
         "orientation": "v",
         "showlegend": true,
         "textposition": "auto",
         "type": "bar",
         "x": [
          " Country Maschwitz Club",
          " los alamos",
          "Acacias Blancas",
          "Acassuso",
          "Albanueva Barrio Cerrado",
          "Altamira",
          "Altos de Manzanares 1 y 2",
          "Altos de Matheu",
          "Altos del Golf",
          "Altos del Pilar",
          "Armenia Country Club",
          "Bahía del Sol",
          "Barbarita, Barrio Cerrado",
          "Barrancas de San Jose",
          "Barrancas de Santa María",
          "Barrio Acacias",
          "Barrio Alamo Alto",
          "Barrio Araucarias",
          "Barrio Cabos del Lago",
          "Barrio Ceibos",
          "Barrio Cerrado",
          "Barrio Cerrado \"Ayres Plaza\"",
          "Barrio Cerrado \"Buenos Aires Village\"",
          "Barrio Cerrado \"El Aromo\"",
          "Barrio Cerrado \"El Estribo\"",
          "Barrio Cerrado \"Isla del Sol\"",
          "Barrio Cerrado \"La Candelaria\"",
          "Barrio Cerrado \"La Cautiva del Pilar\"",
          "Barrio Cerrado \"La Cañada de Pilar\"",
          "Barrio Cerrado \"La Chacra\"",
          "Barrio Cerrado \"La Damasia\"",
          "Barrio Cerrado \"La Delfina\"",
          "Barrio Cerrado \"La Emilia\"",
          "Barrio Cerrado \"La Escondida\"",
          "Barrio Cerrado \"La Montura\"",
          "Barrio Cerrado \"La Tranquera\"",
          "Barrio Cerrado \"Las Araucarias\"",
          "Barrio Cerrado \"Las Marías\"",
          "Barrio Cerrado \"Los Alcanfores\"",
          "Barrio Cerrado \"Los Condes\"",
          "Barrio Cerrado \"Los Fresnos\"",
          "Barrio Cerrado \"Los Potrillos\"",
          "Barrio Cerrado \"Los Senderos\"",
          "Barrio Cerrado \"Roble Joven\"",
          "Barrio Cerrado \"Sausalito\"",
          "Barrio Cerrado \"Soles de Pilar\"",
          "Barrio Cerrado \"SpringDale\"",
          "Barrio Cerrado \"Tres Horquetas\"",
          "Barrio Cerrado \"Villa Rosa\"",
          "Barrio Cerrado El Lucero",
          "Barrio Cerrado Fincas de Maschwitz",
          "Barrio Cerrado La Masia",
          "Barrio Cerrado Lagos del Norte",
          "Barrio Cerrado Las Casuarinas",
          "Barrio Cerrado Los Abedules",
          "Barrio Cerrado San Andres",
          "Barrio El Golf",
          "Barrio El Yacht",
          "Barrio La Alameda",
          "Barrio La Cuesta",
          "Barrio La Isla",
          "Barrio Las Glorietas",
          "Barrio Los Alisos",
          "Barrio Los Castores",
          "Barrio Los Jazmines - Pilar del Este",
          "Barrio Los Lagos",
          "Barrio Los Sauces",
          "Barrio Los Tilos",
          "Barrio Marinas",
          "Barrio Parque Almirante Irízar",
          "Barrio Parque General San Martin",
          "Barrio Parque Matheu",
          "Barrio Privado \"Ayres de Pilar\"",
          "Barrio Privado \"Lomas de Fátima\"",
          "Barrio Privado El Recodo  S.A.",
          "Barrio Privado Villa Olivos",
          "Barrio San Agustin",
          "Barrio San Alfonso - Pilar del Este",
          "Barrio San Benito",
          "Barrio San Eduardo - Pilar del Este",
          "Barrio San Gabriel",
          "Barrio San Isidro Labrador",
          "Barrio San Marco",
          "Barrio San Matías",
          "Barrio San Rafael",
          "Barrio Santa Clara",
          "Barrio Santa Guadalupe - Pilar del Este",
          "Barrio Santa Teresa",
          "Barrio Vistas",
          "Barrio cerrado La Cascada",
          "BarrioPortezuelo",
          "Beccar",
          "Bella Vista",
          "Belén de Escobar",
          "Benavidez",
          "Benavidez Greens",
          "Bermudas Country Club",
          "Billinghurst",
          "Boat Center Barrio Cerrado",
          "Boca Ratón",
          "Boulogne Sur Mer",
          "Bs.As. G.B.A. Zona Norte",
          "Campo Chico Country Club",
          "Campo Grande Country Club",
          "Carapachay",
          "Carmel Country Club",
          "Club de Campo Aranzazu",
          "Club de Campo Pueyrredón",
          "Country Club Aranjuez",
          "Country Farm Club",
          "Country Maschwitz Privado",
          "Country San Jorge Village",
          "Del Viso",
          "Delta",
          "Derqui",
          "Dique Luján",
          "Don Torcuato",
          "El Canton Barrio Islas",
          "El Canton Barrio Norte",
          "El Canton Barrio Puerto",
          "El Cazador",
          "El Encuentro",
          "El Molino",
          "El Talar",
          "El Talar de Pacheco",
          "El Viejo Vivero",
          "El Zorzal",
          "Enyoi",
          "Escobar",
          "Estancias del Pilar",
          "Fincas del Lago",
          "Florida",
          "Florida Oeste",
          "Fátima",
          "Galapagos Country Club",
          "Garín",
          "General Pacheco",
          "General San Martín",
          "Golf Club Argentino",
          "Golfer's Country Club",
          "Grand Bourg",
          "Hacoaj Barrio Cerrado",
          "Haras Santa Maria",
          "Haras del Pilar - El Establo",
          "Haras del Pilar - La Caballeriza",
          "Haras del Pilar - Las Praderas 1 y 2",
          "Haras del Sol - Barrio Privado",
          "Highland Park Country Club",
          "Hindu Club",
          "Ingeniero Adolfo Sourdeaux",
          "Ingeniero Pablo Nogués",
          "Islas",
          "Islas del Canal",
          "Jose Leon Suarez",
          "José C Paz",
          "La Agustina",
          "La Angélica",
          "La Comarca",
          "La Escondida de Manzanares",
          "La Herradura",
          "La Lomada de Pilar",
          "La Lonja",
          "La Lucila",
          "La Madrugada",
          "La Martinica",
          "La Peregrina",
          "La Pilarica",
          "Laguna del Sol",
          "Larena Country Club",
          "Loma Verde",
          "Lomas de Benavidez",
          "Los Angeles Village",
          "Los Horneros CC",
          "Los Lagartos Country Club",
          "Los Pilares - Barrio Privado",
          "Los Polvorines",
          "Los Robles de Maschwitz",
          "Los Sauces Country Club",
          "Los Tres Coniles",
          "Malvinas Argentinas",
          "Manuel Alberti",
          "Manzanares",
          "Manzone",
          "Mapuche Country Club",
          "Maquinista Savio",
          "Marina Del Sol (Sun's Marine)",
          "Marinas Golf Barrio Cerrado",
          "Martindale Country Club",
          "Martínez",
          "Maschwitz",
          "Matheu",
          "Mayling Club de Campo",
          "Medal Country Club",
          "Miraflores Country Club",
          "Munro",
          "Muñiz",
          "Nordelta",
          "Olivos",
          "Olivos Golf Club",
          "Pacheco Golf Club",
          "Pilar",
          "Pilar Golf Country Club",
          "Pilar Green Park",
          "Pilar Village",
          "Pilar del Lago",
          "Princess",
          "Punta Chica Village",
          "QBay Yacht",
          "Ricardo Rojas",
          "Rincon",
          "Rincon Del Arca",
          "Rincón de Maschwitz",
          "Rincón de Milberg",
          "Rincón de la Costa",
          "Saint Matthews",
          "San Andres",
          "San Fernando",
          "San Francisco Club de Campo",
          "San Isidro",
          "San Isidro Chico",
          "San Juan",
          "San Lucas Village",
          "San Martín",
          "San Miguel",
          "San Miguel Oeste",
          "San Miguel de Ghiso",
          "Santa Barbara Barrio Cerrado",
          "Santa Isabel",
          "Santa María de los Olivos",
          "Santa-Catalina",
          "Septiembre",
          "Solares del Talar",
          "Talar del Lago 1",
          "Talar del lago 2",
          "The Boating Club",
          "Tigre",
          "Tortugas Country Club",
          "Tortuguitas",
          "Troncos del Talar",
          "Valle Claro",
          "Vicente López",
          "Victoria",
          "Vila Vela Terrazas al Lago",
          "Villa Adelina",
          "Villa Astolfi",
          "Villa Ballester",
          "Villa Bertha",
          "Villa Bonich",
          "Villa Granaderos De San Martin",
          "Villa Libertad",
          "Villa Lynch",
          "Villa Maipu",
          "Villa Martelli",
          "Villa Monteagudo",
          "Villa Pacheco",
          "Villa Rosa",
          "Villa de Mayo",
          "Village Golf & Tennis Country Club",
          "Virasoro Village",
          "Virreyes",
          "Zelaya",
          "coordenadas 34.255511"
         ],
         "xaxis": "x",
         "y": [
          3,
          1,
          33,
          224,
          22,
          14,
          2,
          2,
          7,
          8,
          5,
          3,
          10,
          13,
          6,
          3,
          2,
          4,
          3,
          3,
          2,
          12,
          2,
          1,
          1,
          1,
          1,
          3,
          3,
          1,
          1,
          17,
          1,
          1,
          10,
          2,
          1,
          1,
          3,
          3,
          1,
          5,
          2,
          2,
          3,
          2,
          1,
          3,
          1,
          7,
          3,
          1,
          1,
          31,
          2,
          1,
          32,
          1,
          61,
          2,
          9,
          10,
          274,
          14,
          2,
          38,
          3,
          1,
          7,
          2,
          7,
          2,
          4,
          4,
          7,
          2,
          18,
          1,
          1,
          2,
          86,
          9,
          1,
          11,
          43,
          10,
          9,
          43,
          2,
          1,
          54,
          365,
          222,
          180,
          563,
          3,
          3,
          12,
          11,
          27,
          165,
          188,
          3,
          3,
          119,
          3,
          2,
          9,
          5,
          3,
          3,
          20,
          164,
          85,
          15,
          8,
          81,
          1,
          1,
          4,
          13,
          21,
          2,
          27,
          24,
          1,
          1,
          17,
          950,
          58,
          10,
          590,
          51,
          2,
          4,
          42,
          75,
          334,
          1,
          12,
          37,
          8,
          121,
          8,
          3,
          23,
          2,
          16,
          1,
          10,
          28,
          1,
          6,
          62,
          74,
          1,
          7,
          44,
          1,
          1,
          17,
          6,
          329,
          16,
          11,
          15,
          1,
          13,
          3,
          48,
          2,
          5,
          4,
          14,
          9,
          61,
          4,
          2,
          2,
          91,
          25,
          18,
          6,
          27,
          2,
          1,
          6,
          10,
          979,
          82,
          11,
          68,
          4,
          8,
          164,
          152,
          2790,
          1528,
          40,
          12,
          1957,
          3,
          5,
          6,
          9,
          1,
          1,
          12,
          8,
          1,
          3,
          3,
          188,
          1,
          1,
          112,
          576,
          4,
          915,
          4,
          9,
          2,
          194,
          446,
          2,
          2,
          93,
          6,
          24,
          22,
          31,
          23,
          14,
          12,
          1,
          2962,
          4,
          58,
          5,
          9,
          609,
          318,
          18,
          137,
          4,
          517,
          15,
          8,
          1,
          29,
          37,
          11,
          68,
          3,
          3,
          93,
          32,
          7,
          1,
          31,
          6,
          1
         ],
         "yaxis": "y"
        },
        {
         "alignmentgroup": "True",
         "hovertemplate": "nulos=No hay datos<br>place_name=%{x}<br>counter=%{y}<extra></extra>",
         "legendgroup": "No hay datos",
         "marker": {
          "color": "#EF553B"
         },
         "name": "No hay datos",
         "offsetgroup": "No hay datos",
         "orientation": "v",
         "showlegend": true,
         "textposition": "auto",
         "type": "bar",
         "x": [
          "Acacias Blancas",
          "Acassuso",
          "Albanueva Barrio Cerrado",
          "Altos del Pilar",
          "Bahía del Sol",
          "Barrio Barrancas del Lago",
          "Barrio Ceibos",
          "Barrio Cerrado \"La Montura\"",
          "Barrio Cerrado \"Los Fresnos\"",
          "Barrio Cerrado \"Los Potrillos\"",
          "Barrio Cerrado Las Casuarinas",
          "Barrio La Alameda",
          "Barrio La Isla",
          "Barrio Los Alisos",
          "Barrio Los Lagos",
          "Barrio Los Sauces",
          "Barrio Parque General San Martin",
          "Barrio San Agustin",
          "Barrio San Gabriel",
          "Barrio Santa Teresa",
          "Beccar",
          "Bella Vista",
          "Belén de Escobar",
          "Benavidez",
          "Billinghurst",
          "Boca Ratón",
          "Boulogne Sur Mer",
          "Bs.As. G.B.A. Zona Norte",
          "Carapachay",
          "Carmel Country Club",
          "Club de Campo Pueyrredón",
          "Country San Jorge Village",
          "Del Viso",
          "Delta",
          "Dique Luján",
          "Don Torcuato",
          "Escobar",
          "Estancias del Pilar",
          "Florida",
          "Garín",
          "General Pacheco",
          "General San Martín",
          "Golfer's Country Club",
          "Grand Bourg",
          "Haras Santa Maria",
          "Hindu Club",
          "Ingeniero Adolfo Sourdeaux",
          "Ingeniero Pablo Nogués",
          "Jose Leon Suarez",
          "José C Paz",
          "La Arboleda de Maschwitz",
          "La Comarca",
          "La Lomada de Pilar",
          "La Lucila",
          "Laguna del Sol",
          "Loma Verde",
          "Los Polvorines",
          "Malvinas Argentinas",
          "Mapuche Country Club",
          "Martínez",
          "Maschwitz",
          "Matheu",
          "Mayling Club de Campo",
          "Miraflores Country Club",
          "Munro",
          "Muñiz",
          "Nordelta",
          "Olivos",
          "Olivos Golf Club",
          "Pilar",
          "Pilar Village",
          "Pilar del Lago",
          "Punta Chica Village",
          "QBay Yacht",
          "Rincon Del Arca",
          "Rincón de Maschwitz",
          "Rincón de Milberg",
          "Rincón de la Costa",
          "San Andres",
          "San Fernando",
          "San Francisco Club de Campo",
          "San Isidro",
          "San Juan",
          "San Martín",
          "San Miguel",
          "Santa Isabel",
          "Santa María de los Olivos",
          "Santa-Catalina",
          "Septiembre",
          "Solares del Talar",
          "Tigre",
          "Tortuguitas",
          "Valle Claro",
          "Vicente López",
          "Victoria",
          "Villa Adelina",
          "Villa Ballester",
          "Villa Bonich",
          "Villa Libertad",
          "Villa Lynch",
          "Villa Martelli",
          "Villa Rosa",
          "Villa de Mayo",
          "Virreyes",
          "Zelaya"
         ],
         "xaxis": "x",
         "y": [
          1,
          18,
          4,
          3,
          1,
          4,
          3,
          1,
          1,
          2,
          1,
          1,
          1,
          4,
          1,
          1,
          1,
          1,
          1,
          1,
          33,
          51,
          14,
          41,
          3,
          2,
          8,
          34,
          2,
          42,
          1,
          1,
          9,
          1,
          3,
          11,
          87,
          5,
          30,
          124,
          2,
          48,
          2,
          8,
          5,
          1,
          2,
          8,
          11,
          61,
          1,
          2,
          10,
          27,
          1,
          4,
          18,
          25,
          1,
          79,
          26,
          1,
          6,
          1,
          8,
          84,
          525,
          62,
          7,
          268,
          3,
          2,
          1,
          1,
          1,
          1,
          10,
          1,
          10,
          67,
          8,
          75,
          2,
          101,
          306,
          3,
          4,
          2,
          3,
          2,
          362,
          13,
          1,
          72,
          28,
          5,
          71,
          1,
          5,
          4,
          2,
          3,
          4,
          10,
          1
         ],
         "yaxis": "y"
        }
       ],
       "layout": {
        "autosize": true,
        "barmode": "group",
        "legend": {
         "title": {
          "text": "nulos"
         },
         "tracegroupgap": 0
        },
        "template": {
         "data": {
          "bar": [
           {
            "error_x": {
             "color": "#2a3f5f"
            },
            "error_y": {
             "color": "#2a3f5f"
            },
            "marker": {
             "line": {
              "color": "#E5ECF6",
              "width": 0.5
             }
            },
            "type": "bar"
           }
          ],
          "barpolar": [
           {
            "marker": {
             "line": {
              "color": "#E5ECF6",
              "width": 0.5
             }
            },
            "type": "barpolar"
           }
          ],
          "carpet": [
           {
            "aaxis": {
             "endlinecolor": "#2a3f5f",
             "gridcolor": "white",
             "linecolor": "white",
             "minorgridcolor": "white",
             "startlinecolor": "#2a3f5f"
            },
            "baxis": {
             "endlinecolor": "#2a3f5f",
             "gridcolor": "white",
             "linecolor": "white",
             "minorgridcolor": "white",
             "startlinecolor": "#2a3f5f"
            },
            "type": "carpet"
           }
          ],
          "choropleth": [
           {
            "colorbar": {
             "outlinewidth": 0,
             "ticks": ""
            },
            "type": "choropleth"
           }
          ],
          "contour": [
           {
            "colorbar": {
             "outlinewidth": 0,
             "ticks": ""
            },
            "colorscale": [
             [
              0,
              "#0d0887"
             ],
             [
              0.1111111111111111,
              "#46039f"
             ],
             [
              0.2222222222222222,
              "#7201a8"
             ],
             [
              0.3333333333333333,
              "#9c179e"
             ],
             [
              0.4444444444444444,
              "#bd3786"
             ],
             [
              0.5555555555555556,
              "#d8576b"
             ],
             [
              0.6666666666666666,
              "#ed7953"
             ],
             [
              0.7777777777777778,
              "#fb9f3a"
             ],
             [
              0.8888888888888888,
              "#fdca26"
             ],
             [
              1,
              "#f0f921"
             ]
            ],
            "type": "contour"
           }
          ],
          "contourcarpet": [
           {
            "colorbar": {
             "outlinewidth": 0,
             "ticks": ""
            },
            "type": "contourcarpet"
           }
          ],
          "heatmap": [
           {
            "colorbar": {
             "outlinewidth": 0,
             "ticks": ""
            },
            "colorscale": [
             [
              0,
              "#0d0887"
             ],
             [
              0.1111111111111111,
              "#46039f"
             ],
             [
              0.2222222222222222,
              "#7201a8"
             ],
             [
              0.3333333333333333,
              "#9c179e"
             ],
             [
              0.4444444444444444,
              "#bd3786"
             ],
             [
              0.5555555555555556,
              "#d8576b"
             ],
             [
              0.6666666666666666,
              "#ed7953"
             ],
             [
              0.7777777777777778,
              "#fb9f3a"
             ],
             [
              0.8888888888888888,
              "#fdca26"
             ],
             [
              1,
              "#f0f921"
             ]
            ],
            "type": "heatmap"
           }
          ],
          "heatmapgl": [
           {
            "colorbar": {
             "outlinewidth": 0,
             "ticks": ""
            },
            "colorscale": [
             [
              0,
              "#0d0887"
             ],
             [
              0.1111111111111111,
              "#46039f"
             ],
             [
              0.2222222222222222,
              "#7201a8"
             ],
             [
              0.3333333333333333,
              "#9c179e"
             ],
             [
              0.4444444444444444,
              "#bd3786"
             ],
             [
              0.5555555555555556,
              "#d8576b"
             ],
             [
              0.6666666666666666,
              "#ed7953"
             ],
             [
              0.7777777777777778,
              "#fb9f3a"
             ],
             [
              0.8888888888888888,
              "#fdca26"
             ],
             [
              1,
              "#f0f921"
             ]
            ],
            "type": "heatmapgl"
           }
          ],
          "histogram": [
           {
            "marker": {
             "colorbar": {
              "outlinewidth": 0,
              "ticks": ""
             }
            },
            "type": "histogram"
           }
          ],
          "histogram2d": [
           {
            "colorbar": {
             "outlinewidth": 0,
             "ticks": ""
            },
            "colorscale": [
             [
              0,
              "#0d0887"
             ],
             [
              0.1111111111111111,
              "#46039f"
             ],
             [
              0.2222222222222222,
              "#7201a8"
             ],
             [
              0.3333333333333333,
              "#9c179e"
             ],
             [
              0.4444444444444444,
              "#bd3786"
             ],
             [
              0.5555555555555556,
              "#d8576b"
             ],
             [
              0.6666666666666666,
              "#ed7953"
             ],
             [
              0.7777777777777778,
              "#fb9f3a"
             ],
             [
              0.8888888888888888,
              "#fdca26"
             ],
             [
              1,
              "#f0f921"
             ]
            ],
            "type": "histogram2d"
           }
          ],
          "histogram2dcontour": [
           {
            "colorbar": {
             "outlinewidth": 0,
             "ticks": ""
            },
            "colorscale": [
             [
              0,
              "#0d0887"
             ],
             [
              0.1111111111111111,
              "#46039f"
             ],
             [
              0.2222222222222222,
              "#7201a8"
             ],
             [
              0.3333333333333333,
              "#9c179e"
             ],
             [
              0.4444444444444444,
              "#bd3786"
             ],
             [
              0.5555555555555556,
              "#d8576b"
             ],
             [
              0.6666666666666666,
              "#ed7953"
             ],
             [
              0.7777777777777778,
              "#fb9f3a"
             ],
             [
              0.8888888888888888,
              "#fdca26"
             ],
             [
              1,
              "#f0f921"
             ]
            ],
            "type": "histogram2dcontour"
           }
          ],
          "mesh3d": [
           {
            "colorbar": {
             "outlinewidth": 0,
             "ticks": ""
            },
            "type": "mesh3d"
           }
          ],
          "parcoords": [
           {
            "line": {
             "colorbar": {
              "outlinewidth": 0,
              "ticks": ""
             }
            },
            "type": "parcoords"
           }
          ],
          "pie": [
           {
            "automargin": true,
            "type": "pie"
           }
          ],
          "scatter": [
           {
            "marker": {
             "colorbar": {
              "outlinewidth": 0,
              "ticks": ""
             }
            },
            "type": "scatter"
           }
          ],
          "scatter3d": [
           {
            "line": {
             "colorbar": {
              "outlinewidth": 0,
              "ticks": ""
             }
            },
            "marker": {
             "colorbar": {
              "outlinewidth": 0,
              "ticks": ""
             }
            },
            "type": "scatter3d"
           }
          ],
          "scattercarpet": [
           {
            "marker": {
             "colorbar": {
              "outlinewidth": 0,
              "ticks": ""
             }
            },
            "type": "scattercarpet"
           }
          ],
          "scattergeo": [
           {
            "marker": {
             "colorbar": {
              "outlinewidth": 0,
              "ticks": ""
             }
            },
            "type": "scattergeo"
           }
          ],
          "scattergl": [
           {
            "marker": {
             "colorbar": {
              "outlinewidth": 0,
              "ticks": ""
             }
            },
            "type": "scattergl"
           }
          ],
          "scattermapbox": [
           {
            "marker": {
             "colorbar": {
              "outlinewidth": 0,
              "ticks": ""
             }
            },
            "type": "scattermapbox"
           }
          ],
          "scatterpolar": [
           {
            "marker": {
             "colorbar": {
              "outlinewidth": 0,
              "ticks": ""
             }
            },
            "type": "scatterpolar"
           }
          ],
          "scatterpolargl": [
           {
            "marker": {
             "colorbar": {
              "outlinewidth": 0,
              "ticks": ""
             }
            },
            "type": "scatterpolargl"
           }
          ],
          "scatterternary": [
           {
            "marker": {
             "colorbar": {
              "outlinewidth": 0,
              "ticks": ""
             }
            },
            "type": "scatterternary"
           }
          ],
          "surface": [
           {
            "colorbar": {
             "outlinewidth": 0,
             "ticks": ""
            },
            "colorscale": [
             [
              0,
              "#0d0887"
             ],
             [
              0.1111111111111111,
              "#46039f"
             ],
             [
              0.2222222222222222,
              "#7201a8"
             ],
             [
              0.3333333333333333,
              "#9c179e"
             ],
             [
              0.4444444444444444,
              "#bd3786"
             ],
             [
              0.5555555555555556,
              "#d8576b"
             ],
             [
              0.6666666666666666,
              "#ed7953"
             ],
             [
              0.7777777777777778,
              "#fb9f3a"
             ],
             [
              0.8888888888888888,
              "#fdca26"
             ],
             [
              1,
              "#f0f921"
             ]
            ],
            "type": "surface"
           }
          ],
          "table": [
           {
            "cells": {
             "fill": {
              "color": "#EBF0F8"
             },
             "line": {
              "color": "white"
             }
            },
            "header": {
             "fill": {
              "color": "#C8D4E3"
             },
             "line": {
              "color": "white"
             }
            },
            "type": "table"
           }
          ]
         },
         "layout": {
          "annotationdefaults": {
           "arrowcolor": "#2a3f5f",
           "arrowhead": 0,
           "arrowwidth": 1
          },
          "coloraxis": {
           "colorbar": {
            "outlinewidth": 0,
            "ticks": ""
           }
          },
          "colorscale": {
           "diverging": [
            [
             0,
             "#8e0152"
            ],
            [
             0.1,
             "#c51b7d"
            ],
            [
             0.2,
             "#de77ae"
            ],
            [
             0.3,
             "#f1b6da"
            ],
            [
             0.4,
             "#fde0ef"
            ],
            [
             0.5,
             "#f7f7f7"
            ],
            [
             0.6,
             "#e6f5d0"
            ],
            [
             0.7,
             "#b8e186"
            ],
            [
             0.8,
             "#7fbc41"
            ],
            [
             0.9,
             "#4d9221"
            ],
            [
             1,
             "#276419"
            ]
           ],
           "sequential": [
            [
             0,
             "#0d0887"
            ],
            [
             0.1111111111111111,
             "#46039f"
            ],
            [
             0.2222222222222222,
             "#7201a8"
            ],
            [
             0.3333333333333333,
             "#9c179e"
            ],
            [
             0.4444444444444444,
             "#bd3786"
            ],
            [
             0.5555555555555556,
             "#d8576b"
            ],
            [
             0.6666666666666666,
             "#ed7953"
            ],
            [
             0.7777777777777778,
             "#fb9f3a"
            ],
            [
             0.8888888888888888,
             "#fdca26"
            ],
            [
             1,
             "#f0f921"
            ]
           ],
           "sequentialminus": [
            [
             0,
             "#0d0887"
            ],
            [
             0.1111111111111111,
             "#46039f"
            ],
            [
             0.2222222222222222,
             "#7201a8"
            ],
            [
             0.3333333333333333,
             "#9c179e"
            ],
            [
             0.4444444444444444,
             "#bd3786"
            ],
            [
             0.5555555555555556,
             "#d8576b"
            ],
            [
             0.6666666666666666,
             "#ed7953"
            ],
            [
             0.7777777777777778,
             "#fb9f3a"
            ],
            [
             0.8888888888888888,
             "#fdca26"
            ],
            [
             1,
             "#f0f921"
            ]
           ]
          },
          "colorway": [
           "#636efa",
           "#EF553B",
           "#00cc96",
           "#ab63fa",
           "#FFA15A",
           "#19d3f3",
           "#FF6692",
           "#B6E880",
           "#FF97FF",
           "#FECB52"
          ],
          "font": {
           "color": "#2a3f5f"
          },
          "geo": {
           "bgcolor": "white",
           "lakecolor": "white",
           "landcolor": "#E5ECF6",
           "showlakes": true,
           "showland": true,
           "subunitcolor": "white"
          },
          "hoverlabel": {
           "align": "left"
          },
          "hovermode": "closest",
          "mapbox": {
           "style": "light"
          },
          "paper_bgcolor": "white",
          "plot_bgcolor": "#E5ECF6",
          "polar": {
           "angularaxis": {
            "gridcolor": "white",
            "linecolor": "white",
            "ticks": ""
           },
           "bgcolor": "#E5ECF6",
           "radialaxis": {
            "gridcolor": "white",
            "linecolor": "white",
            "ticks": ""
           }
          },
          "scene": {
           "xaxis": {
            "backgroundcolor": "#E5ECF6",
            "gridcolor": "white",
            "gridwidth": 2,
            "linecolor": "white",
            "showbackground": true,
            "ticks": "",
            "zerolinecolor": "white"
           },
           "yaxis": {
            "backgroundcolor": "#E5ECF6",
            "gridcolor": "white",
            "gridwidth": 2,
            "linecolor": "white",
            "showbackground": true,
            "ticks": "",
            "zerolinecolor": "white"
           },
           "zaxis": {
            "backgroundcolor": "#E5ECF6",
            "gridcolor": "white",
            "gridwidth": 2,
            "linecolor": "white",
            "showbackground": true,
            "ticks": "",
            "zerolinecolor": "white"
           }
          },
          "shapedefaults": {
           "line": {
            "color": "#2a3f5f"
           }
          },
          "ternary": {
           "aaxis": {
            "gridcolor": "white",
            "linecolor": "white",
            "ticks": ""
           },
           "baxis": {
            "gridcolor": "white",
            "linecolor": "white",
            "ticks": ""
           },
           "bgcolor": "#E5ECF6",
           "caxis": {
            "gridcolor": "white",
            "linecolor": "white",
            "ticks": ""
           }
          },
          "title": {
           "x": 0.05
          },
          "xaxis": {
           "automargin": true,
           "gridcolor": "white",
           "linecolor": "white",
           "ticks": "",
           "title": {
            "standoff": 15
           },
           "zerolinecolor": "white",
           "zerolinewidth": 2
          },
          "yaxis": {
           "automargin": true,
           "gridcolor": "white",
           "linecolor": "white",
           "ticks": "",
           "title": {
            "standoff": 15
           },
           "zerolinecolor": "white",
           "zerolinewidth": 2
          }
         }
        },
        "title": {
         "text": " BSAS Norte - Barrios"
        },
        "xaxis": {
         "anchor": "y",
         "autorange": true,
         "domain": [
          0,
          1
         ],
         "range": [
          -0.5,
          263.5
         ],
         "title": {
          "text": "place_name"
         },
         "type": "category"
        },
        "yaxis": {
         "anchor": "x",
         "autorange": true,
         "domain": [
          0,
          1
         ],
         "range": [
          0,
          3117.8947368421054
         ],
         "title": {
          "text": "counter"
         },
         "type": "linear"
        }
       }
      },
      "image/png": "[encoded data removed]",
      "text/html": [
       "<div>\n",
       "        \n",
       "        \n",
       "            <div id=\"cebd2485-f299-40a4-8dd8-ab5c557265c8\" class=\"plotly-graph-div\" style=\"height:400px; width:100%;\"></div>\n",
       "            <script type=\"text/javascript\">\n",
       "                require([\"plotly\"], function(Plotly) {\n",
       "                    window.PLOTLYENV=window.PLOTLYENV || {};\n",
       "                    \n",
       "                if (document.getElementById(\"cebd2485-f299-40a4-8dd8-ab5c557265c8\")) {\n",
       "                    Plotly.newPlot(\n",
       "                        'cebd2485-f299-40a4-8dd8-ab5c557265c8',\n",
       "                        [{\"alignmentgroup\": \"True\", \"hovertemplate\": \"nulos=Hay datos<br>place_name=%{x}<br>counter=%{y}<extra></extra>\", \"legendgroup\": \"Hay datos\", \"marker\": {\"color\": \"#636efa\"}, \"name\": \"Hay datos\", \"offsetgroup\": \"Hay datos\", \"orientation\": \"v\", \"showlegend\": true, \"textposition\": \"auto\", \"type\": \"bar\", \"x\": [\" Country Maschwitz Club\", \" los alamos\", \"Acacias Blancas\", \"Acassuso\", \"Albanueva Barrio Cerrado\", \"Altamira\", \"Altos de Manzanares 1 y 2\", \"Altos de Matheu\", \"Altos del Golf\", \"Altos del Pilar\", \"Armenia Country Club\", \"Bah\\u00eda del Sol\", \"Barbarita, Barrio Cerrado\", \"Barrancas de San Jose\", \"Barrancas de Santa Mar\\u00eda\", \"Barrio Acacias\", \"Barrio Alamo Alto\", \"Barrio Araucarias\", \"Barrio Cabos del Lago\", \"Barrio Ceibos\", \"Barrio Cerrado\", \"Barrio Cerrado \\\"Ayres Plaza\\\"\", \"Barrio Cerrado \\\"Buenos Aires Village\\\"\", \"Barrio Cerrado \\\"El Aromo\\\"\", \"Barrio Cerrado \\\"El Estribo\\\"\", \"Barrio Cerrado \\\"Isla del Sol\\\"\", \"Barrio Cerrado \\\"La Candelaria\\\"\", \"Barrio Cerrado \\\"La Cautiva del Pilar\\\"\", \"Barrio Cerrado \\\"La Ca\\u00f1ada de Pilar\\\"\", \"Barrio Cerrado \\\"La Chacra\\\"\", \"Barrio Cerrado \\\"La Damasia\\\"\", \"Barrio Cerrado \\\"La Delfina\\\"\", \"Barrio Cerrado \\\"La Emilia\\\"\", \"Barrio Cerrado \\\"La Escondida\\\"\", \"Barrio Cerrado \\\"La Montura\\\"\", \"Barrio Cerrado \\\"La Tranquera\\\"\", \"Barrio Cerrado \\\"Las Araucarias\\\"\", \"Barrio Cerrado \\\"Las Mar\\u00edas\\\"\", \"Barrio Cerrado \\\"Los Alcanfores\\\"\", \"Barrio Cerrado \\\"Los Condes\\\"\", \"Barrio Cerrado \\\"Los Fresnos\\\"\", \"Barrio Cerrado \\\"Los Potrillos\\\"\", \"Barrio Cerrado \\\"Los Senderos\\\"\", \"Barrio Cerrado \\\"Roble Joven\\\"\", \"Barrio Cerrado \\\"Sausalito\\\"\", \"Barrio Cerrado \\\"Soles de Pilar\\\"\", \"Barrio Cerrado \\\"SpringDale\\\"\", \"Barrio Cerrado \\\"Tres Horquetas\\\"\", \"Barrio Cerrado \\\"Villa Rosa\\\"\", \"Barrio Cerrado El Lucero\", \"Barrio Cerrado Fincas de Maschwitz\", \"Barrio Cerrado La Masia\", \"Barrio Cerrado Lagos del Norte\", \"Barrio Cerrado Las Casuarinas\", \"Barrio Cerrado Los Abedules\", \"Barrio Cerrado San Andres\", \"Barrio El Golf\", \"Barrio El Yacht\", \"Barrio La Alameda\", \"Barrio La Cuesta\", \"Barrio La Isla\", \"Barrio Las Glorietas\", \"Barrio Los Alisos\", \"Barrio Los Castores\", \"Barrio Los Jazmines - Pilar del Este\", \"Barrio Los Lagos\", \"Barrio Los Sauces\", \"Barrio Los Tilos\", \"Barrio Marinas\", \"Barrio Parque Almirante Ir\\u00edzar\", \"Barrio Parque General San Martin\", \"Barrio Parque Matheu\", \"Barrio Privado \\\"Ayres de Pilar\\\"\", \"Barrio Privado \\\"Lomas de F\\u00e1tima\\\"\", \"Barrio Privado El Recodo  S.A.\", \"Barrio Privado Villa Olivos\", \"Barrio San Agustin\", \"Barrio San Alfonso - Pilar del Este\", \"Barrio San Benito\", \"Barrio San Eduardo - Pilar del Este\", \"Barrio San Gabriel\", \"Barrio San Isidro Labrador\", \"Barrio San Marco\", \"Barrio San Mat\\u00edas\", \"Barrio San Rafael\", \"Barrio Santa Clara\", \"Barrio Santa Guadalupe - Pilar del Este\", \"Barrio Santa Teresa\", \"Barrio Vistas\", \"Barrio cerrado La Cascada\", \"BarrioPortezuelo\", \"Beccar\", \"Bella Vista\", \"Bel\\u00e9n de Escobar\", \"Benavidez\", \"Benavidez Greens\", \"Bermudas Country Club\", \"Billinghurst\", \"Boat Center Barrio Cerrado\", \"Boca Rat\\u00f3n\", \"Boulogne Sur Mer\", \"Bs.As. G.B.A. Zona Norte\", \"Campo Chico Country Club\", \"Campo Grande Country Club\", \"Carapachay\", \"Carmel Country Club\", \"Club de Campo Aranzazu\", \"Club de Campo Pueyrred\\u00f3n\", \"Country Club Aranjuez\", \"Country Farm Club\", \"Country Maschwitz Privado\", \"Country San Jorge Village\", \"Del Viso\", \"Delta\", \"Derqui\", \"Dique Luj\\u00e1n\", \"Don Torcuato\", \"El Canton Barrio Islas\", \"El Canton Barrio Norte\", \"El Canton Barrio Puerto\", \"El Cazador\", \"El Encuentro\", \"El Molino\", \"El Talar\", \"El Talar de Pacheco\", \"El Viejo Vivero\", \"El Zorzal\", \"Enyoi\", \"Escobar\", \"Estancias del Pilar\", \"Fincas del Lago\", \"Florida\", \"Florida Oeste\", \"F\\u00e1tima\", \"Galapagos Country Club\", \"Gar\\u00edn\", \"General Pacheco\", \"General San Mart\\u00edn\", \"Golf Club Argentino\", \"Golfer's Country Club\", \"Grand Bourg\", \"Hacoaj Barrio Cerrado\", \"Haras Santa Maria\", \"Haras del Pilar - El Establo\", \"Haras del Pilar - La Caballeriza\", \"Haras del Pilar - Las Praderas 1 y 2\", \"Haras del Sol - Barrio Privado\", \"Highland Park Country Club\", \"Hindu Club\", \"Ingeniero Adolfo Sourdeaux\", \"Ingeniero Pablo Nogu\\u00e9s\", \"Islas\", \"Islas del Canal\", \"Jose Leon Suarez\", \"Jos\\u00e9 C Paz\", \"La Agustina\", \"La Ang\\u00e9lica\", \"La Comarca\", \"La Escondida de Manzanares\", \"La Herradura\", \"La Lomada de Pilar\", \"La Lonja\", \"La Lucila\", \"La Madrugada\", \"La Martinica\", \"La Peregrina\", \"La Pilarica\", \"Laguna del Sol\", \"Larena Country Club\", \"Loma Verde\", \"Lomas de Benavidez\", \"Los Angeles Village\", \"Los Horneros CC\", \"Los Lagartos Country Club\", \"Los Pilares - Barrio Privado\", \"Los Polvorines\", \"Los Robles de Maschwitz\", \"Los Sauces Country Club\", \"Los Tres Coniles\", \"Malvinas Argentinas\", \"Manuel Alberti\", \"Manzanares\", \"Manzone\", \"Mapuche Country Club\", \"Maquinista Savio\", \"Marina Del Sol (Sun's Marine)\", \"Marinas Golf Barrio Cerrado\", \"Martindale Country Club\", \"Mart\\u00ednez\", \"Maschwitz\", \"Matheu\", \"Mayling Club de Campo\", \"Medal Country Club\", \"Miraflores Country Club\", \"Munro\", \"Mu\\u00f1iz\", \"Nordelta\", \"Olivos\", \"Olivos Golf Club\", \"Pacheco Golf Club\", \"Pilar\", \"Pilar Golf Country Club\", \"Pilar Green Park\", \"Pilar Village\", \"Pilar del Lago\", \"Princess\", \"Punta Chica Village\", \"QBay Yacht\", \"Ricardo Rojas\", \"Rincon\", \"Rincon Del Arca\", \"Rinc\\u00f3n de Maschwitz\", \"Rinc\\u00f3n de Milberg\", \"Rinc\\u00f3n de la Costa\", \"Saint Matthews\", \"San Andres\", \"San Fernando\", \"San Francisco Club de Campo\", \"San Isidro\", \"San Isidro Chico\", \"San Juan\", \"San Lucas Village\", \"San Mart\\u00edn\", \"San Miguel\", \"San Miguel Oeste\", \"San Miguel de Ghiso\", \"Santa Barbara Barrio Cerrado\", \"Santa Isabel\", \"Santa Mar\\u00eda de los Olivos\", \"Santa-Catalina\", \"Septiembre\", \"Solares del Talar\", \"Talar del Lago 1\", \"Talar del lago 2\", \"The Boating Club\", \"Tigre\", \"Tortugas Country Club\", \"Tortuguitas\", \"Troncos del Talar\", \"Valle Claro\", \"Vicente L\\u00f3pez\", \"Victoria\", \"Vila Vela Terrazas al Lago\", \"Villa Adelina\", \"Villa Astolfi\", \"Villa Ballester\", \"Villa Bertha\", \"Villa Bonich\", \"Villa Granaderos De San Martin\", \"Villa Libertad\", \"Villa Lynch\", \"Villa Maipu\", \"Villa Martelli\", \"Villa Monteagudo\", \"Villa Pacheco\", \"Villa Rosa\", \"Villa de Mayo\", \"Village Golf & Tennis Country Club\", \"Virasoro Village\", \"Virreyes\", \"Zelaya\", \"coordenadas 34.255511\"], \"xaxis\": \"x\", \"y\": [3, 1, 33, 224, 22, 14, 2, 2, 7, 8, 5, 3, 10, 13, 6, 3, 2, 4, 3, 3, 2, 12, 2, 1, 1, 1, 1, 3, 3, 1, 1, 17, 1, 1, 10, 2, 1, 1, 3, 3, 1, 5, 2, 2, 3, 2, 1, 3, 1, 7, 3, 1, 1, 31, 2, 1, 32, 1, 61, 2, 9, 10, 274, 14, 2, 38, 3, 1, 7, 2, 7, 2, 4, 4, 7, 2, 18, 1, 1, 2, 86, 9, 1, 11, 43, 10, 9, 43, 2, 1, 54, 365, 222, 180, 563, 3, 3, 12, 11, 27, 165, 188, 3, 3, 119, 3, 2, 9, 5, 3, 3, 20, 164, 85, 15, 8, 81, 1, 1, 4, 13, 21, 2, 27, 24, 1, 1, 17, 950, 58, 10, 590, 51, 2, 4, 42, 75, 334, 1, 12, 37, 8, 121, 8, 3, 23, 2, 16, 1, 10, 28, 1, 6, 62, 74, 1, 7, 44, 1, 1, 17, 6, 329, 16, 11, 15, 1, 13, 3, 48, 2, 5, 4, 14, 9, 61, 4, 2, 2, 91, 25, 18, 6, 27, 2, 1, 6, 10, 979, 82, 11, 68, 4, 8, 164, 152, 2790, 1528, 40, 12, 1957, 3, 5, 6, 9, 1, 1, 12, 8, 1, 3, 3, 188, 1, 1, 112, 576, 4, 915, 4, 9, 2, 194, 446, 2, 2, 93, 6, 24, 22, 31, 23, 14, 12, 1, 2962, 4, 58, 5, 9, 609, 318, 18, 137, 4, 517, 15, 8, 1, 29, 37, 11, 68, 3, 3, 93, 32, 7, 1, 31, 6, 1], \"yaxis\": \"y\"}, {\"alignmentgroup\": \"True\", \"hovertemplate\": \"nulos=No hay datos<br>place_name=%{x}<br>counter=%{y}<extra></extra>\", \"legendgroup\": \"No hay datos\", \"marker\": {\"color\": \"#EF553B\"}, \"name\": \"No hay datos\", \"offsetgroup\": \"No hay datos\", \"orientation\": \"v\", \"showlegend\": true, \"textposition\": \"auto\", \"type\": \"bar\", \"x\": [\"Acacias Blancas\", \"Acassuso\", \"Albanueva Barrio Cerrado\", \"Altos del Pilar\", \"Bah\\u00eda del Sol\", \"Barrio Barrancas del Lago\", \"Barrio Ceibos\", \"Barrio Cerrado \\\"La Montura\\\"\", \"Barrio Cerrado \\\"Los Fresnos\\\"\", \"Barrio Cerrado \\\"Los Potrillos\\\"\", \"Barrio Cerrado Las Casuarinas\", \"Barrio La Alameda\", \"Barrio La Isla\", \"Barrio Los Alisos\", \"Barrio Los Lagos\", \"Barrio Los Sauces\", \"Barrio Parque General San Martin\", \"Barrio San Agustin\", \"Barrio San Gabriel\", \"Barrio Santa Teresa\", \"Beccar\", \"Bella Vista\", \"Bel\\u00e9n de Escobar\", \"Benavidez\", \"Billinghurst\", \"Boca Rat\\u00f3n\", \"Boulogne Sur Mer\", \"Bs.As. G.B.A. Zona Norte\", \"Carapachay\", \"Carmel Country Club\", \"Club de Campo Pueyrred\\u00f3n\", \"Country San Jorge Village\", \"Del Viso\", \"Delta\", \"Dique Luj\\u00e1n\", \"Don Torcuato\", \"Escobar\", \"Estancias del Pilar\", \"Florida\", \"Gar\\u00edn\", \"General Pacheco\", \"General San Mart\\u00edn\", \"Golfer's Country Club\", \"Grand Bourg\", \"Haras Santa Maria\", \"Hindu Club\", \"Ingeniero Adolfo Sourdeaux\", \"Ingeniero Pablo Nogu\\u00e9s\", \"Jose Leon Suarez\", \"Jos\\u00e9 C Paz\", \"La Arboleda de Maschwitz\", \"La Comarca\", \"La Lomada de Pilar\", \"La Lucila\", \"Laguna del Sol\", \"Loma Verde\", \"Los Polvorines\", \"Malvinas Argentinas\", \"Mapuche Country Club\", \"Mart\\u00ednez\", \"Maschwitz\", \"Matheu\", \"Mayling Club de Campo\", \"Miraflores Country Club\", \"Munro\", \"Mu\\u00f1iz\", \"Nordelta\", \"Olivos\", \"Olivos Golf Club\", \"Pilar\", \"Pilar Village\", \"Pilar del Lago\", \"Punta Chica Village\", \"QBay Yacht\", \"Rincon Del Arca\", \"Rinc\\u00f3n de Maschwitz\", \"Rinc\\u00f3n de Milberg\", \"Rinc\\u00f3n de la Costa\", \"San Andres\", \"San Fernando\", \"San Francisco Club de Campo\", \"San Isidro\", \"San Juan\", \"San Mart\\u00edn\", \"San Miguel\", \"Santa Isabel\", \"Santa Mar\\u00eda de los Olivos\", \"Santa-Catalina\", \"Septiembre\", \"Solares del Talar\", \"Tigre\", \"Tortuguitas\", \"Valle Claro\", \"Vicente L\\u00f3pez\", \"Victoria\", \"Villa Adelina\", \"Villa Ballester\", \"Villa Bonich\", \"Villa Libertad\", \"Villa Lynch\", \"Villa Martelli\", \"Villa Rosa\", \"Villa de Mayo\", \"Virreyes\", \"Zelaya\"], \"xaxis\": \"x\", \"y\": [1, 18, 4, 3, 1, 4, 3, 1, 1, 2, 1, 1, 1, 4, 1, 1, 1, 1, 1, 1, 33, 51, 14, 41, 3, 2, 8, 34, 2, 42, 1, 1, 9, 1, 3, 11, 87, 5, 30, 124, 2, 48, 2, 8, 5, 1, 2, 8, 11, 61, 1, 2, 10, 27, 1, 4, 18, 25, 1, 79, 26, 1, 6, 1, 8, 84, 525, 62, 7, 268, 3, 2, 1, 1, 1, 1, 10, 1, 10, 67, 8, 75, 2, 101, 306, 3, 4, 2, 3, 2, 362, 13, 1, 72, 28, 5, 71, 1, 5, 4, 2, 3, 4, 10, 1], \"yaxis\": \"y\"}],\n",
       "                        {\"barmode\": \"group\", \"height\": 400, \"legend\": {\"title\": {\"text\": \"nulos\"}, \"tracegroupgap\": 0}, \"template\": {\"data\": {\"bar\": [{\"error_x\": {\"color\": \"#2a3f5f\"}, \"error_y\": {\"color\": \"#2a3f5f\"}, \"marker\": {\"line\": {\"color\": \"#E5ECF6\", \"width\": 0.5}}, \"type\": \"bar\"}], \"barpolar\": [{\"marker\": {\"line\": {\"color\": \"#E5ECF6\", \"width\": 0.5}}, \"type\": \"barpolar\"}], \"carpet\": [{\"aaxis\": {\"endlinecolor\": \"#2a3f5f\", \"gridcolor\": \"white\", \"linecolor\": \"white\", \"minorgridcolor\": \"white\", \"startlinecolor\": \"#2a3f5f\"}, \"baxis\": {\"endlinecolor\": \"#2a3f5f\", \"gridcolor\": \"white\", \"linecolor\": \"white\", \"minorgridcolor\": \"white\", \"startlinecolor\": \"#2a3f5f\"}, \"type\": \"carpet\"}], \"choropleth\": [{\"colorbar\": {\"outlinewidth\": 0, \"ticks\": \"\"}, \"type\": \"choropleth\"}], \"contour\": [{\"colorbar\": {\"outlinewidth\": 0, \"ticks\": \"\"}, \"colorscale\": [[0.0, \"#0d0887\"], [0.1111111111111111, \"#46039f\"], [0.2222222222222222, \"#7201a8\"], [0.3333333333333333, \"#9c179e\"], [0.4444444444444444, \"#bd3786\"], [0.5555555555555556, \"#d8576b\"], [0.6666666666666666, \"#ed7953\"], [0.7777777777777778, \"#fb9f3a\"], [0.8888888888888888, \"#fdca26\"], [1.0, \"#f0f921\"]], \"type\": \"contour\"}], \"contourcarpet\": [{\"colorbar\": {\"outlinewidth\": 0, \"ticks\": \"\"}, \"type\": \"contourcarpet\"}], \"heatmap\": [{\"colorbar\": {\"outlinewidth\": 0, \"ticks\": \"\"}, \"colorscale\": [[0.0, \"#0d0887\"], [0.1111111111111111, \"#46039f\"], [0.2222222222222222, \"#7201a8\"], [0.3333333333333333, \"#9c179e\"], [0.4444444444444444, \"#bd3786\"], [0.5555555555555556, \"#d8576b\"], [0.6666666666666666, \"#ed7953\"], [0.7777777777777778, \"#fb9f3a\"], [0.8888888888888888, \"#fdca26\"], [1.0, \"#f0f921\"]], \"type\": \"heatmap\"}], \"heatmapgl\": [{\"colorbar\": {\"outlinewidth\": 0, \"ticks\": \"\"}, \"colorscale\": [[0.0, \"#0d0887\"], [0.1111111111111111, \"#46039f\"], [0.2222222222222222, \"#7201a8\"], [0.3333333333333333, \"#9c179e\"], [0.4444444444444444, \"#bd3786\"], [0.5555555555555556, \"#d8576b\"], [0.6666666666666666, \"#ed7953\"], [0.7777777777777778, \"#fb9f3a\"], [0.8888888888888888, \"#fdca26\"], [1.0, \"#f0f921\"]], \"type\": \"heatmapgl\"}], \"histogram\": [{\"marker\": {\"colorbar\": {\"outlinewidth\": 0, \"ticks\": \"\"}}, \"type\": \"histogram\"}], \"histogram2d\": [{\"colorbar\": {\"outlinewidth\": 0, \"ticks\": \"\"}, \"colorscale\": [[0.0, \"#0d0887\"], [0.1111111111111111, \"#46039f\"], [0.2222222222222222, \"#7201a8\"], [0.3333333333333333, \"#9c179e\"], [0.4444444444444444, \"#bd3786\"], [0.5555555555555556, \"#d8576b\"], [0.6666666666666666, \"#ed7953\"], [0.7777777777777778, \"#fb9f3a\"], [0.8888888888888888, \"#fdca26\"], [1.0, \"#f0f921\"]], \"type\": \"histogram2d\"}], \"histogram2dcontour\": [{\"colorbar\": {\"outlinewidth\": 0, \"ticks\": \"\"}, \"colorscale\": [[0.0, \"#0d0887\"], [0.1111111111111111, \"#46039f\"], [0.2222222222222222, \"#7201a8\"], [0.3333333333333333, \"#9c179e\"], [0.4444444444444444, \"#bd3786\"], [0.5555555555555556, \"#d8576b\"], [0.6666666666666666, \"#ed7953\"], [0.7777777777777778, \"#fb9f3a\"], [0.8888888888888888, \"#fdca26\"], [1.0, \"#f0f921\"]], \"type\": \"histogram2dcontour\"}], \"mesh3d\": [{\"colorbar\": {\"outlinewidth\": 0, \"ticks\": \"\"}, \"type\": \"mesh3d\"}], \"parcoords\": [{\"line\": {\"colorbar\": {\"outlinewidth\": 0, \"ticks\": \"\"}}, \"type\": \"parcoords\"}], \"pie\": [{\"automargin\": true, \"type\": \"pie\"}], \"scatter\": [{\"marker\": {\"colorbar\": {\"outlinewidth\": 0, \"ticks\": \"\"}}, \"type\": \"scatter\"}], \"scatter3d\": [{\"line\": {\"colorbar\": {\"outlinewidth\": 0, \"ticks\": \"\"}}, \"marker\": {\"colorbar\": {\"outlinewidth\": 0, \"ticks\": \"\"}}, \"type\": \"scatter3d\"}], \"scattercarpet\": [{\"marker\": {\"colorbar\": {\"outlinewidth\": 0, \"ticks\": \"\"}}, \"type\": \"scattercarpet\"}], \"scattergeo\": [{\"marker\": {\"colorbar\": {\"outlinewidth\": 0, \"ticks\": \"\"}}, \"type\": \"scattergeo\"}], \"scattergl\": [{\"marker\": {\"colorbar\": {\"outlinewidth\": 0, \"ticks\": \"\"}}, \"type\": \"scattergl\"}], \"scattermapbox\": [{\"marker\": {\"colorbar\": {\"outlinewidth\": 0, \"ticks\": \"\"}}, \"type\": \"scattermapbox\"}], \"scatterpolar\": [{\"marker\": {\"colorbar\": {\"outlinewidth\": 0, \"ticks\": \"\"}}, \"type\": \"scatterpolar\"}], \"scatterpolargl\": [{\"marker\": {\"colorbar\": {\"outlinewidth\": 0, \"ticks\": \"\"}}, \"type\": \"scatterpolargl\"}], \"scatterternary\": [{\"marker\": {\"colorbar\": {\"outlinewidth\": 0, \"ticks\": \"\"}}, \"type\": \"scatterternary\"}], \"surface\": [{\"colorbar\": {\"outlinewidth\": 0, \"ticks\": \"\"}, \"colorscale\": [[0.0, \"#0d0887\"], [0.1111111111111111, \"#46039f\"], [0.2222222222222222, \"#7201a8\"], [0.3333333333333333, \"#9c179e\"], [0.4444444444444444, \"#bd3786\"], [0.5555555555555556, \"#d8576b\"], [0.6666666666666666, \"#ed7953\"], [0.7777777777777778, \"#fb9f3a\"], [0.8888888888888888, \"#fdca26\"], [1.0, \"#f0f921\"]], \"type\": \"surface\"}], \"table\": [{\"cells\": {\"fill\": {\"color\": \"#EBF0F8\"}, \"line\": {\"color\": \"white\"}}, \"header\": {\"fill\": {\"color\": \"#C8D4E3\"}, \"line\": {\"color\": \"white\"}}, \"type\": \"table\"}]}, \"layout\": {\"annotationdefaults\": {\"arrowcolor\": \"#2a3f5f\", \"arrowhead\": 0, \"arrowwidth\": 1}, \"coloraxis\": {\"colorbar\": {\"outlinewidth\": 0, \"ticks\": \"\"}}, \"colorscale\": {\"diverging\": [[0, \"#8e0152\"], [0.1, \"#c51b7d\"], [0.2, \"#de77ae\"], [0.3, \"#f1b6da\"], [0.4, \"#fde0ef\"], [0.5, \"#f7f7f7\"], [0.6, \"#e6f5d0\"], [0.7, \"#b8e186\"], [0.8, \"#7fbc41\"], [0.9, \"#4d9221\"], [1, \"#276419\"]], \"sequential\": [[0.0, \"#0d0887\"], [0.1111111111111111, \"#46039f\"], [0.2222222222222222, \"#7201a8\"], [0.3333333333333333, \"#9c179e\"], [0.4444444444444444, \"#bd3786\"], [0.5555555555555556, \"#d8576b\"], [0.6666666666666666, \"#ed7953\"], [0.7777777777777778, \"#fb9f3a\"], [0.8888888888888888, \"#fdca26\"], [1.0, \"#f0f921\"]], \"sequentialminus\": [[0.0, \"#0d0887\"], [0.1111111111111111, \"#46039f\"], [0.2222222222222222, \"#7201a8\"], [0.3333333333333333, \"#9c179e\"], [0.4444444444444444, \"#bd3786\"], [0.5555555555555556, \"#d8576b\"], [0.6666666666666666, \"#ed7953\"], [0.7777777777777778, \"#fb9f3a\"], [0.8888888888888888, \"#fdca26\"], [1.0, \"#f0f921\"]]}, \"colorway\": [\"#636efa\", \"#EF553B\", \"#00cc96\", \"#ab63fa\", \"#FFA15A\", \"#19d3f3\", \"#FF6692\", \"#B6E880\", \"#FF97FF\", \"#FECB52\"], \"font\": {\"color\": \"#2a3f5f\"}, \"geo\": {\"bgcolor\": \"white\", \"lakecolor\": \"white\", \"landcolor\": \"#E5ECF6\", \"showlakes\": true, \"showland\": true, \"subunitcolor\": \"white\"}, \"hoverlabel\": {\"align\": \"left\"}, \"hovermode\": \"closest\", \"mapbox\": {\"style\": \"light\"}, \"paper_bgcolor\": \"white\", \"plot_bgcolor\": \"#E5ECF6\", \"polar\": {\"angularaxis\": {\"gridcolor\": \"white\", \"linecolor\": \"white\", \"ticks\": \"\"}, \"bgcolor\": \"#E5ECF6\", \"radialaxis\": {\"gridcolor\": \"white\", \"linecolor\": \"white\", \"ticks\": \"\"}}, \"scene\": {\"xaxis\": {\"backgroundcolor\": \"#E5ECF6\", \"gridcolor\": \"white\", \"gridwidth\": 2, \"linecolor\": \"white\", \"showbackground\": true, \"ticks\": \"\", \"zerolinecolor\": \"white\"}, \"yaxis\": {\"backgroundcolor\": \"#E5ECF6\", \"gridcolor\": \"white\", \"gridwidth\": 2, \"linecolor\": \"white\", \"showbackground\": true, \"ticks\": \"\", \"zerolinecolor\": \"white\"}, \"zaxis\": {\"backgroundcolor\": \"#E5ECF6\", \"gridcolor\": \"white\", \"gridwidth\": 2, \"linecolor\": \"white\", \"showbackground\": true, \"ticks\": \"\", \"zerolinecolor\": \"white\"}}, \"shapedefaults\": {\"line\": {\"color\": \"#2a3f5f\"}}, \"ternary\": {\"aaxis\": {\"gridcolor\": \"white\", \"linecolor\": \"white\", \"ticks\": \"\"}, \"baxis\": {\"gridcolor\": \"white\", \"linecolor\": \"white\", \"ticks\": \"\"}, \"bgcolor\": \"#E5ECF6\", \"caxis\": {\"gridcolor\": \"white\", \"linecolor\": \"white\", \"ticks\": \"\"}}, \"title\": {\"x\": 0.05}, \"xaxis\": {\"automargin\": true, \"gridcolor\": \"white\", \"linecolor\": \"white\", \"ticks\": \"\", \"title\": {\"standoff\": 15}, \"zerolinecolor\": \"white\", \"zerolinewidth\": 2}, \"yaxis\": {\"automargin\": true, \"gridcolor\": \"white\", \"linecolor\": \"white\", \"ticks\": \"\", \"title\": {\"standoff\": 15}, \"zerolinecolor\": \"white\", \"zerolinewidth\": 2}}}, \"title\": {\"text\": \" BSAS Norte - Barrios\"}, \"xaxis\": {\"anchor\": \"y\", \"domain\": [0.0, 1.0], \"title\": {\"text\": \"place_name\"}}, \"yaxis\": {\"anchor\": \"x\", \"domain\": [0.0, 1.0], \"title\": {\"text\": \"counter\"}}},\n",
       "                        {\"responsive\": true}\n",
       "                    ).then(function(){\n",
       "                            \n",
       "var gd = document.getElementById('cebd2485-f299-40a4-8dd8-ab5c557265c8');\n",
       "var x = new MutationObserver(function (mutations, observer) {{\n",
       "        var display = window.getComputedStyle(gd).display;\n",
       "        if (!display || display === 'none') {{\n",
       "            console.log([gd, 'removed!']);\n",
       "            Plotly.purge(gd);\n",
       "            observer.disconnect();\n",
       "        }}\n",
       "}});\n",
       "\n",
       "// Listen for the removal of the full notebook cells\n",
       "var notebookContainer = gd.closest('#notebook-container');\n",
       "if (notebookContainer) {{\n",
       "    x.observe(notebookContainer, {childList: true});\n",
       "}}\n",
       "\n",
       "// Listen for the clearing of the current output cell\n",
       "var outputEl = gd.closest('.output');\n",
       "if (outputEl) {{\n",
       "    x.observe(outputEl, {childList: true});\n",
       "}}\n",
       "\n",
       "                        })\n",
       "                };\n",
       "                });\n",
       "            </script>\n",
       "        </div>"
      ]
     },
     "metadata": {},
     "output_type": "display_data"
    }
   ],
   "source": [
    "bsas_norte_barrios_grupo = bsas_norte.groupby(by=['state_name','place_name','nulos'],as_index=False)['counter'].sum()\n",
    "bsas_norte_barrios_grupo['nulos'] = bsas_norte_barrios_grupo['nulos'].astype(str)\n",
    "bsas_norte_barrios_grupo['nulos'] = bsas_norte_barrios_grupo.nulos.str.replace('False','Hay datos')\n",
    "bsas_norte_barrios_grupo['nulos'] = bsas_norte_barrios_grupo.nulos.str.replace('True','No hay datos')\n",
    "fig = px.bar(bsas_norte_barrios_grupo, x=\"place_name\", y=\"counter\",\n",
    "             color='nulos', barmode='group',\n",
    "             height=400, title=\" BSAS Norte - Barrios\")\n",
    "fig.show()"
   ]
  },
  {
   "cell_type": "code",
   "execution_count": 132,
   "metadata": {},
   "outputs": [
    {
     "data": {
      "application/vnd.plotly.v1+json": {
       "config": {
        "plotlyServerURL": "https://plotly.com"
       },
       "data": [
        {
         "alignmentgroup": "True",
         "hovertemplate": "nulos=Hay datos<br>place_name=%{x}<br>counter=%{y}<extra></extra>",
         "legendgroup": "Hay datos",
         "marker": {
          "color": "#636efa"
         },
         "name": "Hay datos",
         "offsetgroup": "Hay datos",
         "orientation": "v",
         "showlegend": true,
         "textposition": "auto",
         "type": "bar",
         "x": [
          "Aguas Verdes",
          "Alem",
          "Barrio Alto Camet",
          "Barrio Camet",
          "Barrio Fortunato de La Plaza",
          "Barrio La Perla Norte",
          "Barrio San Juan",
          "Bernardino Rivadavia",
          "Bosque Peralta Ramos",
          "Buenos Aires Costa Atlántica",
          "Caisamar",
          "Camet",
          "Cariló",
          "Centro",
          "Chapadmalal",
          "Chauvín",
          "Claromecó",
          "Colina de Peralta Ramos",
          "Constitución",
          "Costa Azul",
          "Costa Esmeralda",
          "Costa del Este",
          "Don Bosco",
          "Dunamar",
          "Faro Norte",
          "Güemes",
          "Hermitage",
          "Juramento",
          "La Caleta",
          "La Lucila del Mar",
          "La Perla",
          "Las Gaviotas",
          "Las Toninas",
          "Los Acantilados",
          "Los Pinares",
          "Los Troncos",
          "Macrocentro",
          "Mar Azul",
          "Mar Chiquita",
          "Mar de Ajó",
          "Mar de Cobo",
          "Mar de las Pampas",
          "Mar del Plata",
          "Mar del Sur",
          "Mar del Tuyú",
          "Miramar",
          "Monte Hermoso",
          "Mundialista",
          "Necochea",
          "Nueva Atlantis",
          "Ostende",
          "Parque Luro",
          "Pehuen-có",
          "Pinamar",
          "Pinos de Anchorena",
          "Playa Chica",
          "Playa Grande",
          "Playa Serena",
          "Playa Varese",
          "Plaza Colón",
          "Plaza Mitre",
          "Plaza Rocha",
          "Pompeya",
          "Puerto",
          "Punta Alta",
          "Punta Iglesia",
          "Punta Mogotes",
          "Reta",
          "Rumenco",
          "San Bernardo",
          "San Carlos",
          "San Clemente del Tuyú",
          "San Juan",
          "Santa Clara del Mar",
          "Santa Teresita",
          "Stella Maris",
          "Terminal Nueva",
          "Terminal Vieja",
          "Torreón",
          "Valeria del Mar",
          "Villa Gesell",
          "Villa Primera"
         ],
         "xaxis": "x",
         "y": [
          6,
          2,
          4,
          1,
          2,
          2,
          2,
          1,
          1,
          11,
          9,
          3,
          39,
          172,
          4,
          68,
          9,
          1,
          71,
          8,
          123,
          14,
          1,
          3,
          1,
          73,
          1,
          1,
          1,
          11,
          55,
          1,
          7,
          5,
          2,
          15,
          9,
          28,
          6,
          60,
          1,
          46,
          4327,
          6,
          13,
          95,
          25,
          2,
          22,
          8,
          11,
          8,
          1,
          749,
          3,
          27,
          50,
          1,
          5,
          42,
          100,
          7,
          9,
          1,
          2,
          4,
          5,
          1,
          7,
          97,
          7,
          11,
          4,
          13,
          23,
          22,
          1,
          6,
          14,
          47,
          257,
          11
         ],
         "yaxis": "y"
        },
        {
         "alignmentgroup": "True",
         "hovertemplate": "nulos=No hay datos<br>place_name=%{x}<br>counter=%{y}<extra></extra>",
         "legendgroup": "No hay datos",
         "marker": {
          "color": "#EF553B"
         },
         "name": "No hay datos",
         "offsetgroup": "No hay datos",
         "orientation": "v",
         "showlegend": true,
         "textposition": "auto",
         "type": "bar",
         "x": [
          "Aguas Verdes",
          "Alfar",
          "Barrio La Perla Norte",
          "Barrio San Juan",
          "Barrio Sarmiento",
          "Bosque Peralta Ramos",
          "Buenos Aires Costa Atlántica",
          "Caisamar",
          "Cariló",
          "Centro",
          "Chapadmalal",
          "Chauvín",
          "Claromecó",
          "Constitución",
          "Costa Azul",
          "Costa Esmeralda",
          "Costa del Este",
          "Don Bosco",
          "Gral San Martin",
          "Güemes",
          "Hermitage",
          "La Lucila del Mar",
          "La Perla",
          "Las Gaviotas",
          "Las Toninas",
          "Los Pinares",
          "Los Troncos",
          "Macrocentro",
          "Mar Azul",
          "Mar Chiquita",
          "Mar de Ajó",
          "Mar de las Pampas",
          "Mar del Plata",
          "Mar del Sur",
          "Mar del Tuyú",
          "Materno",
          "Miramar",
          "Monte Hermoso",
          "Mundialista",
          "Necochea",
          "Nueva Atlantis",
          "Ostende",
          "Parque Luro",
          "Pinamar",
          "Pinos de Anchorena",
          "Playa Chica",
          "Playa Grande",
          "Playa Varese",
          "Plaza Colón",
          "Plaza Mitre",
          "Primera Junta",
          "Puerto",
          "Punta Alta",
          "Punta Iglesia",
          "Punta Mogotes",
          "Rumenco",
          "San Bernardo",
          "San Carlos",
          "San Clemente del Tuyú",
          "San Juan",
          "Santa Clara del Mar",
          "Santa Teresita",
          "Stella Maris",
          "Terminal Vieja",
          "Torreón",
          "Valeria del Mar",
          "Villa Gesell",
          "Villa Primera"
         ],
         "xaxis": "x",
         "y": [
          9,
          1,
          1,
          2,
          2,
          1,
          16,
          3,
          19,
          59,
          1,
          26,
          9,
          4,
          7,
          3,
          3,
          3,
          1,
          18,
          1,
          5,
          35,
          2,
          14,
          1,
          8,
          21,
          4,
          1,
          20,
          5,
          2207,
          1,
          12,
          1,
          23,
          46,
          1,
          6,
          1,
          1,
          5,
          183,
          2,
          12,
          21,
          7,
          10,
          34,
          4,
          1,
          3,
          2,
          2,
          12,
          27,
          5,
          38,
          3,
          5,
          23,
          19,
          1,
          9,
          6,
          43,
          1
         ],
         "yaxis": "y"
        }
       ],
       "layout": {
        "autosize": true,
        "barmode": "group",
        "legend": {
         "title": {
          "text": "nulos"
         },
         "tracegroupgap": 0
        },
        "template": {
         "data": {
          "bar": [
           {
            "error_x": {
             "color": "#2a3f5f"
            },
            "error_y": {
             "color": "#2a3f5f"
            },
            "marker": {
             "line": {
              "color": "#E5ECF6",
              "width": 0.5
             }
            },
            "type": "bar"
           }
          ],
          "barpolar": [
           {
            "marker": {
             "line": {
              "color": "#E5ECF6",
              "width": 0.5
             }
            },
            "type": "barpolar"
           }
          ],
          "carpet": [
           {
            "aaxis": {
             "endlinecolor": "#2a3f5f",
             "gridcolor": "white",
             "linecolor": "white",
             "minorgridcolor": "white",
             "startlinecolor": "#2a3f5f"
            },
            "baxis": {
             "endlinecolor": "#2a3f5f",
             "gridcolor": "white",
             "linecolor": "white",
             "minorgridcolor": "white",
             "startlinecolor": "#2a3f5f"
            },
            "type": "carpet"
           }
          ],
          "choropleth": [
           {
            "colorbar": {
             "outlinewidth": 0,
             "ticks": ""
            },
            "type": "choropleth"
           }
          ],
          "contour": [
           {
            "colorbar": {
             "outlinewidth": 0,
             "ticks": ""
            },
            "colorscale": [
             [
              0,
              "#0d0887"
             ],
             [
              0.1111111111111111,
              "#46039f"
             ],
             [
              0.2222222222222222,
              "#7201a8"
             ],
             [
              0.3333333333333333,
              "#9c179e"
             ],
             [
              0.4444444444444444,
              "#bd3786"
             ],
             [
              0.5555555555555556,
              "#d8576b"
             ],
             [
              0.6666666666666666,
              "#ed7953"
             ],
             [
              0.7777777777777778,
              "#fb9f3a"
             ],
             [
              0.8888888888888888,
              "#fdca26"
             ],
             [
              1,
              "#f0f921"
             ]
            ],
            "type": "contour"
           }
          ],
          "contourcarpet": [
           {
            "colorbar": {
             "outlinewidth": 0,
             "ticks": ""
            },
            "type": "contourcarpet"
           }
          ],
          "heatmap": [
           {
            "colorbar": {
             "outlinewidth": 0,
             "ticks": ""
            },
            "colorscale": [
             [
              0,
              "#0d0887"
             ],
             [
              0.1111111111111111,
              "#46039f"
             ],
             [
              0.2222222222222222,
              "#7201a8"
             ],
             [
              0.3333333333333333,
              "#9c179e"
             ],
             [
              0.4444444444444444,
              "#bd3786"
             ],
             [
              0.5555555555555556,
              "#d8576b"
             ],
             [
              0.6666666666666666,
              "#ed7953"
             ],
             [
              0.7777777777777778,
              "#fb9f3a"
             ],
             [
              0.8888888888888888,
              "#fdca26"
             ],
             [
              1,
              "#f0f921"
             ]
            ],
            "type": "heatmap"
           }
          ],
          "heatmapgl": [
           {
            "colorbar": {
             "outlinewidth": 0,
             "ticks": ""
            },
            "colorscale": [
             [
              0,
              "#0d0887"
             ],
             [
              0.1111111111111111,
              "#46039f"
             ],
             [
              0.2222222222222222,
              "#7201a8"
             ],
             [
              0.3333333333333333,
              "#9c179e"
             ],
             [
              0.4444444444444444,
              "#bd3786"
             ],
             [
              0.5555555555555556,
              "#d8576b"
             ],
             [
              0.6666666666666666,
              "#ed7953"
             ],
             [
              0.7777777777777778,
              "#fb9f3a"
             ],
             [
              0.8888888888888888,
              "#fdca26"
             ],
             [
              1,
              "#f0f921"
             ]
            ],
            "type": "heatmapgl"
           }
          ],
          "histogram": [
           {
            "marker": {
             "colorbar": {
              "outlinewidth": 0,
              "ticks": ""
             }
            },
            "type": "histogram"
           }
          ],
          "histogram2d": [
           {
            "colorbar": {
             "outlinewidth": 0,
             "ticks": ""
            },
            "colorscale": [
             [
              0,
              "#0d0887"
             ],
             [
              0.1111111111111111,
              "#46039f"
             ],
             [
              0.2222222222222222,
              "#7201a8"
             ],
             [
              0.3333333333333333,
              "#9c179e"
             ],
             [
              0.4444444444444444,
              "#bd3786"
             ],
             [
              0.5555555555555556,
              "#d8576b"
             ],
             [
              0.6666666666666666,
              "#ed7953"
             ],
             [
              0.7777777777777778,
              "#fb9f3a"
             ],
             [
              0.8888888888888888,
              "#fdca26"
             ],
             [
              1,
              "#f0f921"
             ]
            ],
            "type": "histogram2d"
           }
          ],
          "histogram2dcontour": [
           {
            "colorbar": {
             "outlinewidth": 0,
             "ticks": ""
            },
            "colorscale": [
             [
              0,
              "#0d0887"
             ],
             [
              0.1111111111111111,
              "#46039f"
             ],
             [
              0.2222222222222222,
              "#7201a8"
             ],
             [
              0.3333333333333333,
              "#9c179e"
             ],
             [
              0.4444444444444444,
              "#bd3786"
             ],
             [
              0.5555555555555556,
              "#d8576b"
             ],
             [
              0.6666666666666666,
              "#ed7953"
             ],
             [
              0.7777777777777778,
              "#fb9f3a"
             ],
             [
              0.8888888888888888,
              "#fdca26"
             ],
             [
              1,
              "#f0f921"
             ]
            ],
            "type": "histogram2dcontour"
           }
          ],
          "mesh3d": [
           {
            "colorbar": {
             "outlinewidth": 0,
             "ticks": ""
            },
            "type": "mesh3d"
           }
          ],
          "parcoords": [
           {
            "line": {
             "colorbar": {
              "outlinewidth": 0,
              "ticks": ""
             }
            },
            "type": "parcoords"
           }
          ],
          "pie": [
           {
            "automargin": true,
            "type": "pie"
           }
          ],
          "scatter": [
           {
            "marker": {
             "colorbar": {
              "outlinewidth": 0,
              "ticks": ""
             }
            },
            "type": "scatter"
           }
          ],
          "scatter3d": [
           {
            "line": {
             "colorbar": {
              "outlinewidth": 0,
              "ticks": ""
             }
            },
            "marker": {
             "colorbar": {
              "outlinewidth": 0,
              "ticks": ""
             }
            },
            "type": "scatter3d"
           }
          ],
          "scattercarpet": [
           {
            "marker": {
             "colorbar": {
              "outlinewidth": 0,
              "ticks": ""
             }
            },
            "type": "scattercarpet"
           }
          ],
          "scattergeo": [
           {
            "marker": {
             "colorbar": {
              "outlinewidth": 0,
              "ticks": ""
             }
            },
            "type": "scattergeo"
           }
          ],
          "scattergl": [
           {
            "marker": {
             "colorbar": {
              "outlinewidth": 0,
              "ticks": ""
             }
            },
            "type": "scattergl"
           }
          ],
          "scattermapbox": [
           {
            "marker": {
             "colorbar": {
              "outlinewidth": 0,
              "ticks": ""
             }
            },
            "type": "scattermapbox"
           }
          ],
          "scatterpolar": [
           {
            "marker": {
             "colorbar": {
              "outlinewidth": 0,
              "ticks": ""
             }
            },
            "type": "scatterpolar"
           }
          ],
          "scatterpolargl": [
           {
            "marker": {
             "colorbar": {
              "outlinewidth": 0,
              "ticks": ""
             }
            },
            "type": "scatterpolargl"
           }
          ],
          "scatterternary": [
           {
            "marker": {
             "colorbar": {
              "outlinewidth": 0,
              "ticks": ""
             }
            },
            "type": "scatterternary"
           }
          ],
          "surface": [
           {
            "colorbar": {
             "outlinewidth": 0,
             "ticks": ""
            },
            "colorscale": [
             [
              0,
              "#0d0887"
             ],
             [
              0.1111111111111111,
              "#46039f"
             ],
             [
              0.2222222222222222,
              "#7201a8"
             ],
             [
              0.3333333333333333,
              "#9c179e"
             ],
             [
              0.4444444444444444,
              "#bd3786"
             ],
             [
              0.5555555555555556,
              "#d8576b"
             ],
             [
              0.6666666666666666,
              "#ed7953"
             ],
             [
              0.7777777777777778,
              "#fb9f3a"
             ],
             [
              0.8888888888888888,
              "#fdca26"
             ],
             [
              1,
              "#f0f921"
             ]
            ],
            "type": "surface"
           }
          ],
          "table": [
           {
            "cells": {
             "fill": {
              "color": "#EBF0F8"
             },
             "line": {
              "color": "white"
             }
            },
            "header": {
             "fill": {
              "color": "#C8D4E3"
             },
             "line": {
              "color": "white"
             }
            },
            "type": "table"
           }
          ]
         },
         "layout": {
          "annotationdefaults": {
           "arrowcolor": "#2a3f5f",
           "arrowhead": 0,
           "arrowwidth": 1
          },
          "coloraxis": {
           "colorbar": {
            "outlinewidth": 0,
            "ticks": ""
           }
          },
          "colorscale": {
           "diverging": [
            [
             0,
             "#8e0152"
            ],
            [
             0.1,
             "#c51b7d"
            ],
            [
             0.2,
             "#de77ae"
            ],
            [
             0.3,
             "#f1b6da"
            ],
            [
             0.4,
             "#fde0ef"
            ],
            [
             0.5,
             "#f7f7f7"
            ],
            [
             0.6,
             "#e6f5d0"
            ],
            [
             0.7,
             "#b8e186"
            ],
            [
             0.8,
             "#7fbc41"
            ],
            [
             0.9,
             "#4d9221"
            ],
            [
             1,
             "#276419"
            ]
           ],
           "sequential": [
            [
             0,
             "#0d0887"
            ],
            [
             0.1111111111111111,
             "#46039f"
            ],
            [
             0.2222222222222222,
             "#7201a8"
            ],
            [
             0.3333333333333333,
             "#9c179e"
            ],
            [
             0.4444444444444444,
             "#bd3786"
            ],
            [
             0.5555555555555556,
             "#d8576b"
            ],
            [
             0.6666666666666666,
             "#ed7953"
            ],
            [
             0.7777777777777778,
             "#fb9f3a"
            ],
            [
             0.8888888888888888,
             "#fdca26"
            ],
            [
             1,
             "#f0f921"
            ]
           ],
           "sequentialminus": [
            [
             0,
             "#0d0887"
            ],
            [
             0.1111111111111111,
             "#46039f"
            ],
            [
             0.2222222222222222,
             "#7201a8"
            ],
            [
             0.3333333333333333,
             "#9c179e"
            ],
            [
             0.4444444444444444,
             "#bd3786"
            ],
            [
             0.5555555555555556,
             "#d8576b"
            ],
            [
             0.6666666666666666,
             "#ed7953"
            ],
            [
             0.7777777777777778,
             "#fb9f3a"
            ],
            [
             0.8888888888888888,
             "#fdca26"
            ],
            [
             1,
             "#f0f921"
            ]
           ]
          },
          "colorway": [
           "#636efa",
           "#EF553B",
           "#00cc96",
           "#ab63fa",
           "#FFA15A",
           "#19d3f3",
           "#FF6692",
           "#B6E880",
           "#FF97FF",
           "#FECB52"
          ],
          "font": {
           "color": "#2a3f5f"
          },
          "geo": {
           "bgcolor": "white",
           "lakecolor": "white",
           "landcolor": "#E5ECF6",
           "showlakes": true,
           "showland": true,
           "subunitcolor": "white"
          },
          "hoverlabel": {
           "align": "left"
          },
          "hovermode": "closest",
          "mapbox": {
           "style": "light"
          },
          "paper_bgcolor": "white",
          "plot_bgcolor": "#E5ECF6",
          "polar": {
           "angularaxis": {
            "gridcolor": "white",
            "linecolor": "white",
            "ticks": ""
           },
           "bgcolor": "#E5ECF6",
           "radialaxis": {
            "gridcolor": "white",
            "linecolor": "white",
            "ticks": ""
           }
          },
          "scene": {
           "xaxis": {
            "backgroundcolor": "#E5ECF6",
            "gridcolor": "white",
            "gridwidth": 2,
            "linecolor": "white",
            "showbackground": true,
            "ticks": "",
            "zerolinecolor": "white"
           },
           "yaxis": {
            "backgroundcolor": "#E5ECF6",
            "gridcolor": "white",
            "gridwidth": 2,
            "linecolor": "white",
            "showbackground": true,
            "ticks": "",
            "zerolinecolor": "white"
           },
           "zaxis": {
            "backgroundcolor": "#E5ECF6",
            "gridcolor": "white",
            "gridwidth": 2,
            "linecolor": "white",
            "showbackground": true,
            "ticks": "",
            "zerolinecolor": "white"
           }
          },
          "shapedefaults": {
           "line": {
            "color": "#2a3f5f"
           }
          },
          "ternary": {
           "aaxis": {
            "gridcolor": "white",
            "linecolor": "white",
            "ticks": ""
           },
           "baxis": {
            "gridcolor": "white",
            "linecolor": "white",
            "ticks": ""
           },
           "bgcolor": "#E5ECF6",
           "caxis": {
            "gridcolor": "white",
            "linecolor": "white",
            "ticks": ""
           }
          },
          "title": {
           "x": 0.05
          },
          "xaxis": {
           "automargin": true,
           "gridcolor": "white",
           "linecolor": "white",
           "ticks": "",
           "title": {
            "standoff": 15
           },
           "zerolinecolor": "white",
           "zerolinewidth": 2
          },
          "yaxis": {
           "automargin": true,
           "gridcolor": "white",
           "linecolor": "white",
           "ticks": "",
           "title": {
            "standoff": 15
           },
           "zerolinecolor": "white",
           "zerolinewidth": 2
          }
         }
        },
        "title": {
         "text": " BSAS Costa - Barrios"
        },
        "xaxis": {
         "anchor": "y",
         "autorange": true,
         "domain": [
          0,
          1
         ],
         "range": [
          -0.5,
          86.5
         ],
         "title": {
          "text": "place_name"
         },
         "type": "category"
        },
        "yaxis": {
         "anchor": "x",
         "autorange": true,
         "domain": [
          0,
          1
         ],
         "range": [
          0,
          4554.736842105263
         ],
         "title": {
          "text": "counter"
         },
         "type": "linear"
        }
       }
      },
      "image/png": "[encoded data removed]",
      "text/html": [
       "<div>\n",
       "        \n",
       "        \n",
       "            <div id=\"a59a71d8-72e5-4b5e-96af-57736e9d472f\" class=\"plotly-graph-div\" style=\"height:400px; width:100%;\"></div>\n",
       "            <script type=\"text/javascript\">\n",
       "                require([\"plotly\"], function(Plotly) {\n",
       "                    window.PLOTLYENV=window.PLOTLYENV || {};\n",
       "                    \n",
       "                if (document.getElementById(\"a59a71d8-72e5-4b5e-96af-57736e9d472f\")) {\n",
       "                    Plotly.newPlot(\n",
       "                        'a59a71d8-72e5-4b5e-96af-57736e9d472f',\n",
       "                        [{\"alignmentgroup\": \"True\", \"hovertemplate\": \"nulos=Hay datos<br>place_name=%{x}<br>counter=%{y}<extra></extra>\", \"legendgroup\": \"Hay datos\", \"marker\": {\"color\": \"#636efa\"}, \"name\": \"Hay datos\", \"offsetgroup\": \"Hay datos\", \"orientation\": \"v\", \"showlegend\": true, \"textposition\": \"auto\", \"type\": \"bar\", \"x\": [\"Aguas Verdes\", \"Alem\", \"Barrio Alto Camet\", \"Barrio Camet\", \"Barrio Fortunato de La Plaza\", \"Barrio La Perla Norte\", \"Barrio San Juan\", \"Bernardino Rivadavia\", \"Bosque Peralta Ramos\", \"Buenos Aires Costa Atl\\u00e1ntica\", \"Caisamar\", \"Camet\", \"Caril\\u00f3\", \"Centro\", \"Chapadmalal\", \"Chauv\\u00edn\", \"Claromec\\u00f3\", \"Colina de Peralta Ramos\", \"Constituci\\u00f3n\", \"Costa Azul\", \"Costa Esmeralda\", \"Costa del Este\", \"Don Bosco\", \"Dunamar\", \"Faro Norte\", \"G\\u00fcemes\", \"Hermitage\", \"Juramento\", \"La Caleta\", \"La Lucila del Mar\", \"La Perla\", \"Las Gaviotas\", \"Las Toninas\", \"Los Acantilados\", \"Los Pinares\", \"Los Troncos\", \"Macrocentro\", \"Mar Azul\", \"Mar Chiquita\", \"Mar de Aj\\u00f3\", \"Mar de Cobo\", \"Mar de las Pampas\", \"Mar del Plata\", \"Mar del Sur\", \"Mar del Tuy\\u00fa\", \"Miramar\", \"Monte Hermoso\", \"Mundialista\", \"Necochea\", \"Nueva Atlantis\", \"Ostende\", \"Parque Luro\", \"Pehuen-c\\u00f3\", \"Pinamar\", \"Pinos de Anchorena\", \"Playa Chica\", \"Playa Grande\", \"Playa Serena\", \"Playa Varese\", \"Plaza Col\\u00f3n\", \"Plaza Mitre\", \"Plaza Rocha\", \"Pompeya\", \"Puerto\", \"Punta Alta\", \"Punta Iglesia\", \"Punta Mogotes\", \"Reta\", \"Rumenco\", \"San Bernardo\", \"San Carlos\", \"San Clemente del Tuy\\u00fa\", \"San Juan\", \"Santa Clara del Mar\", \"Santa Teresita\", \"Stella Maris\", \"Terminal Nueva\", \"Terminal Vieja\", \"Torre\\u00f3n\", \"Valeria del Mar\", \"Villa Gesell\", \"Villa Primera\"], \"xaxis\": \"x\", \"y\": [6, 2, 4, 1, 2, 2, 2, 1, 1, 11, 9, 3, 39, 172, 4, 68, 9, 1, 71, 8, 123, 14, 1, 3, 1, 73, 1, 1, 1, 11, 55, 1, 7, 5, 2, 15, 9, 28, 6, 60, 1, 46, 4327, 6, 13, 95, 25, 2, 22, 8, 11, 8, 1, 749, 3, 27, 50, 1, 5, 42, 100, 7, 9, 1, 2, 4, 5, 1, 7, 97, 7, 11, 4, 13, 23, 22, 1, 6, 14, 47, 257, 11], \"yaxis\": \"y\"}, {\"alignmentgroup\": \"True\", \"hovertemplate\": \"nulos=No hay datos<br>place_name=%{x}<br>counter=%{y}<extra></extra>\", \"legendgroup\": \"No hay datos\", \"marker\": {\"color\": \"#EF553B\"}, \"name\": \"No hay datos\", \"offsetgroup\": \"No hay datos\", \"orientation\": \"v\", \"showlegend\": true, \"textposition\": \"auto\", \"type\": \"bar\", \"x\": [\"Aguas Verdes\", \"Alfar\", \"Barrio La Perla Norte\", \"Barrio San Juan\", \"Barrio Sarmiento\", \"Bosque Peralta Ramos\", \"Buenos Aires Costa Atl\\u00e1ntica\", \"Caisamar\", \"Caril\\u00f3\", \"Centro\", \"Chapadmalal\", \"Chauv\\u00edn\", \"Claromec\\u00f3\", \"Constituci\\u00f3n\", \"Costa Azul\", \"Costa Esmeralda\", \"Costa del Este\", \"Don Bosco\", \"Gral San Martin\", \"G\\u00fcemes\", \"Hermitage\", \"La Lucila del Mar\", \"La Perla\", \"Las Gaviotas\", \"Las Toninas\", \"Los Pinares\", \"Los Troncos\", \"Macrocentro\", \"Mar Azul\", \"Mar Chiquita\", \"Mar de Aj\\u00f3\", \"Mar de las Pampas\", \"Mar del Plata\", \"Mar del Sur\", \"Mar del Tuy\\u00fa\", \"Materno\", \"Miramar\", \"Monte Hermoso\", \"Mundialista\", \"Necochea\", \"Nueva Atlantis\", \"Ostende\", \"Parque Luro\", \"Pinamar\", \"Pinos de Anchorena\", \"Playa Chica\", \"Playa Grande\", \"Playa Varese\", \"Plaza Col\\u00f3n\", \"Plaza Mitre\", \"Primera Junta\", \"Puerto\", \"Punta Alta\", \"Punta Iglesia\", \"Punta Mogotes\", \"Rumenco\", \"San Bernardo\", \"San Carlos\", \"San Clemente del Tuy\\u00fa\", \"San Juan\", \"Santa Clara del Mar\", \"Santa Teresita\", \"Stella Maris\", \"Terminal Vieja\", \"Torre\\u00f3n\", \"Valeria del Mar\", \"Villa Gesell\", \"Villa Primera\"], \"xaxis\": \"x\", \"y\": [9, 1, 1, 2, 2, 1, 16, 3, 19, 59, 1, 26, 9, 4, 7, 3, 3, 3, 1, 18, 1, 5, 35, 2, 14, 1, 8, 21, 4, 1, 20, 5, 2207, 1, 12, 1, 23, 46, 1, 6, 1, 1, 5, 183, 2, 12, 21, 7, 10, 34, 4, 1, 3, 2, 2, 12, 27, 5, 38, 3, 5, 23, 19, 1, 9, 6, 43, 1], \"yaxis\": \"y\"}],\n",
       "                        {\"barmode\": \"group\", \"height\": 400, \"legend\": {\"title\": {\"text\": \"nulos\"}, \"tracegroupgap\": 0}, \"template\": {\"data\": {\"bar\": [{\"error_x\": {\"color\": \"#2a3f5f\"}, \"error_y\": {\"color\": \"#2a3f5f\"}, \"marker\": {\"line\": {\"color\": \"#E5ECF6\", \"width\": 0.5}}, \"type\": \"bar\"}], \"barpolar\": [{\"marker\": {\"line\": {\"color\": \"#E5ECF6\", \"width\": 0.5}}, \"type\": \"barpolar\"}], \"carpet\": [{\"aaxis\": {\"endlinecolor\": \"#2a3f5f\", \"gridcolor\": \"white\", \"linecolor\": \"white\", \"minorgridcolor\": \"white\", \"startlinecolor\": \"#2a3f5f\"}, \"baxis\": {\"endlinecolor\": \"#2a3f5f\", \"gridcolor\": \"white\", \"linecolor\": \"white\", \"minorgridcolor\": \"white\", \"startlinecolor\": \"#2a3f5f\"}, \"type\": \"carpet\"}], \"choropleth\": [{\"colorbar\": {\"outlinewidth\": 0, \"ticks\": \"\"}, \"type\": \"choropleth\"}], \"contour\": [{\"colorbar\": {\"outlinewidth\": 0, \"ticks\": \"\"}, \"colorscale\": [[0.0, \"#0d0887\"], [0.1111111111111111, \"#46039f\"], [0.2222222222222222, \"#7201a8\"], [0.3333333333333333, \"#9c179e\"], [0.4444444444444444, \"#bd3786\"], [0.5555555555555556, \"#d8576b\"], [0.6666666666666666, \"#ed7953\"], [0.7777777777777778, \"#fb9f3a\"], [0.8888888888888888, \"#fdca26\"], [1.0, \"#f0f921\"]], \"type\": \"contour\"}], \"contourcarpet\": [{\"colorbar\": {\"outlinewidth\": 0, \"ticks\": \"\"}, \"type\": \"contourcarpet\"}], \"heatmap\": [{\"colorbar\": {\"outlinewidth\": 0, \"ticks\": \"\"}, \"colorscale\": [[0.0, \"#0d0887\"], [0.1111111111111111, \"#46039f\"], [0.2222222222222222, \"#7201a8\"], [0.3333333333333333, \"#9c179e\"], [0.4444444444444444, \"#bd3786\"], [0.5555555555555556, \"#d8576b\"], [0.6666666666666666, \"#ed7953\"], [0.7777777777777778, \"#fb9f3a\"], [0.8888888888888888, \"#fdca26\"], [1.0, \"#f0f921\"]], \"type\": \"heatmap\"}], \"heatmapgl\": [{\"colorbar\": {\"outlinewidth\": 0, \"ticks\": \"\"}, \"colorscale\": [[0.0, \"#0d0887\"], [0.1111111111111111, \"#46039f\"], [0.2222222222222222, \"#7201a8\"], [0.3333333333333333, \"#9c179e\"], [0.4444444444444444, \"#bd3786\"], [0.5555555555555556, \"#d8576b\"], [0.6666666666666666, \"#ed7953\"], [0.7777777777777778, \"#fb9f3a\"], [0.8888888888888888, \"#fdca26\"], [1.0, \"#f0f921\"]], \"type\": \"heatmapgl\"}], \"histogram\": [{\"marker\": {\"colorbar\": {\"outlinewidth\": 0, \"ticks\": \"\"}}, \"type\": \"histogram\"}], \"histogram2d\": [{\"colorbar\": {\"outlinewidth\": 0, \"ticks\": \"\"}, \"colorscale\": [[0.0, \"#0d0887\"], [0.1111111111111111, \"#46039f\"], [0.2222222222222222, \"#7201a8\"], [0.3333333333333333, \"#9c179e\"], [0.4444444444444444, \"#bd3786\"], [0.5555555555555556, \"#d8576b\"], [0.6666666666666666, \"#ed7953\"], [0.7777777777777778, \"#fb9f3a\"], [0.8888888888888888, \"#fdca26\"], [1.0, \"#f0f921\"]], \"type\": \"histogram2d\"}], \"histogram2dcontour\": [{\"colorbar\": {\"outlinewidth\": 0, \"ticks\": \"\"}, \"colorscale\": [[0.0, \"#0d0887\"], [0.1111111111111111, \"#46039f\"], [0.2222222222222222, \"#7201a8\"], [0.3333333333333333, \"#9c179e\"], [0.4444444444444444, \"#bd3786\"], [0.5555555555555556, \"#d8576b\"], [0.6666666666666666, \"#ed7953\"], [0.7777777777777778, \"#fb9f3a\"], [0.8888888888888888, \"#fdca26\"], [1.0, \"#f0f921\"]], \"type\": \"histogram2dcontour\"}], \"mesh3d\": [{\"colorbar\": {\"outlinewidth\": 0, \"ticks\": \"\"}, \"type\": \"mesh3d\"}], \"parcoords\": [{\"line\": {\"colorbar\": {\"outlinewidth\": 0, \"ticks\": \"\"}}, \"type\": \"parcoords\"}], \"pie\": [{\"automargin\": true, \"type\": \"pie\"}], \"scatter\": [{\"marker\": {\"colorbar\": {\"outlinewidth\": 0, \"ticks\": \"\"}}, \"type\": \"scatter\"}], \"scatter3d\": [{\"line\": {\"colorbar\": {\"outlinewidth\": 0, \"ticks\": \"\"}}, \"marker\": {\"colorbar\": {\"outlinewidth\": 0, \"ticks\": \"\"}}, \"type\": \"scatter3d\"}], \"scattercarpet\": [{\"marker\": {\"colorbar\": {\"outlinewidth\": 0, \"ticks\": \"\"}}, \"type\": \"scattercarpet\"}], \"scattergeo\": [{\"marker\": {\"colorbar\": {\"outlinewidth\": 0, \"ticks\": \"\"}}, \"type\": \"scattergeo\"}], \"scattergl\": [{\"marker\": {\"colorbar\": {\"outlinewidth\": 0, \"ticks\": \"\"}}, \"type\": \"scattergl\"}], \"scattermapbox\": [{\"marker\": {\"colorbar\": {\"outlinewidth\": 0, \"ticks\": \"\"}}, \"type\": \"scattermapbox\"}], \"scatterpolar\": [{\"marker\": {\"colorbar\": {\"outlinewidth\": 0, \"ticks\": \"\"}}, \"type\": \"scatterpolar\"}], \"scatterpolargl\": [{\"marker\": {\"colorbar\": {\"outlinewidth\": 0, \"ticks\": \"\"}}, \"type\": \"scatterpolargl\"}], \"scatterternary\": [{\"marker\": {\"colorbar\": {\"outlinewidth\": 0, \"ticks\": \"\"}}, \"type\": \"scatterternary\"}], \"surface\": [{\"colorbar\": {\"outlinewidth\": 0, \"ticks\": \"\"}, \"colorscale\": [[0.0, \"#0d0887\"], [0.1111111111111111, \"#46039f\"], [0.2222222222222222, \"#7201a8\"], [0.3333333333333333, \"#9c179e\"], [0.4444444444444444, \"#bd3786\"], [0.5555555555555556, \"#d8576b\"], [0.6666666666666666, \"#ed7953\"], [0.7777777777777778, \"#fb9f3a\"], [0.8888888888888888, \"#fdca26\"], [1.0, \"#f0f921\"]], \"type\": \"surface\"}], \"table\": [{\"cells\": {\"fill\": {\"color\": \"#EBF0F8\"}, \"line\": {\"color\": \"white\"}}, \"header\": {\"fill\": {\"color\": \"#C8D4E3\"}, \"line\": {\"color\": \"white\"}}, \"type\": \"table\"}]}, \"layout\": {\"annotationdefaults\": {\"arrowcolor\": \"#2a3f5f\", \"arrowhead\": 0, \"arrowwidth\": 1}, \"coloraxis\": {\"colorbar\": {\"outlinewidth\": 0, \"ticks\": \"\"}}, \"colorscale\": {\"diverging\": [[0, \"#8e0152\"], [0.1, \"#c51b7d\"], [0.2, \"#de77ae\"], [0.3, \"#f1b6da\"], [0.4, \"#fde0ef\"], [0.5, \"#f7f7f7\"], [0.6, \"#e6f5d0\"], [0.7, \"#b8e186\"], [0.8, \"#7fbc41\"], [0.9, \"#4d9221\"], [1, \"#276419\"]], \"sequential\": [[0.0, \"#0d0887\"], [0.1111111111111111, \"#46039f\"], [0.2222222222222222, \"#7201a8\"], [0.3333333333333333, \"#9c179e\"], [0.4444444444444444, \"#bd3786\"], [0.5555555555555556, \"#d8576b\"], [0.6666666666666666, \"#ed7953\"], [0.7777777777777778, \"#fb9f3a\"], [0.8888888888888888, \"#fdca26\"], [1.0, \"#f0f921\"]], \"sequentialminus\": [[0.0, \"#0d0887\"], [0.1111111111111111, \"#46039f\"], [0.2222222222222222, \"#7201a8\"], [0.3333333333333333, \"#9c179e\"], [0.4444444444444444, \"#bd3786\"], [0.5555555555555556, \"#d8576b\"], [0.6666666666666666, \"#ed7953\"], [0.7777777777777778, \"#fb9f3a\"], [0.8888888888888888, \"#fdca26\"], [1.0, \"#f0f921\"]]}, \"colorway\": [\"#636efa\", \"#EF553B\", \"#00cc96\", \"#ab63fa\", \"#FFA15A\", \"#19d3f3\", \"#FF6692\", \"#B6E880\", \"#FF97FF\", \"#FECB52\"], \"font\": {\"color\": \"#2a3f5f\"}, \"geo\": {\"bgcolor\": \"white\", \"lakecolor\": \"white\", \"landcolor\": \"#E5ECF6\", \"showlakes\": true, \"showland\": true, \"subunitcolor\": \"white\"}, \"hoverlabel\": {\"align\": \"left\"}, \"hovermode\": \"closest\", \"mapbox\": {\"style\": \"light\"}, \"paper_bgcolor\": \"white\", \"plot_bgcolor\": \"#E5ECF6\", \"polar\": {\"angularaxis\": {\"gridcolor\": \"white\", \"linecolor\": \"white\", \"ticks\": \"\"}, \"bgcolor\": \"#E5ECF6\", \"radialaxis\": {\"gridcolor\": \"white\", \"linecolor\": \"white\", \"ticks\": \"\"}}, \"scene\": {\"xaxis\": {\"backgroundcolor\": \"#E5ECF6\", \"gridcolor\": \"white\", \"gridwidth\": 2, \"linecolor\": \"white\", \"showbackground\": true, \"ticks\": \"\", \"zerolinecolor\": \"white\"}, \"yaxis\": {\"backgroundcolor\": \"#E5ECF6\", \"gridcolor\": \"white\", \"gridwidth\": 2, \"linecolor\": \"white\", \"showbackground\": true, \"ticks\": \"\", \"zerolinecolor\": \"white\"}, \"zaxis\": {\"backgroundcolor\": \"#E5ECF6\", \"gridcolor\": \"white\", \"gridwidth\": 2, \"linecolor\": \"white\", \"showbackground\": true, \"ticks\": \"\", \"zerolinecolor\": \"white\"}}, \"shapedefaults\": {\"line\": {\"color\": \"#2a3f5f\"}}, \"ternary\": {\"aaxis\": {\"gridcolor\": \"white\", \"linecolor\": \"white\", \"ticks\": \"\"}, \"baxis\": {\"gridcolor\": \"white\", \"linecolor\": \"white\", \"ticks\": \"\"}, \"bgcolor\": \"#E5ECF6\", \"caxis\": {\"gridcolor\": \"white\", \"linecolor\": \"white\", \"ticks\": \"\"}}, \"title\": {\"x\": 0.05}, \"xaxis\": {\"automargin\": true, \"gridcolor\": \"white\", \"linecolor\": \"white\", \"ticks\": \"\", \"title\": {\"standoff\": 15}, \"zerolinecolor\": \"white\", \"zerolinewidth\": 2}, \"yaxis\": {\"automargin\": true, \"gridcolor\": \"white\", \"linecolor\": \"white\", \"ticks\": \"\", \"title\": {\"standoff\": 15}, \"zerolinecolor\": \"white\", \"zerolinewidth\": 2}}}, \"title\": {\"text\": \" BSAS Costa - Barrios\"}, \"xaxis\": {\"anchor\": \"y\", \"domain\": [0.0, 1.0], \"title\": {\"text\": \"place_name\"}}, \"yaxis\": {\"anchor\": \"x\", \"domain\": [0.0, 1.0], \"title\": {\"text\": \"counter\"}}},\n",
       "                        {\"responsive\": true}\n",
       "                    ).then(function(){\n",
       "                            \n",
       "var gd = document.getElementById('a59a71d8-72e5-4b5e-96af-57736e9d472f');\n",
       "var x = new MutationObserver(function (mutations, observer) {{\n",
       "        var display = window.getComputedStyle(gd).display;\n",
       "        if (!display || display === 'none') {{\n",
       "            console.log([gd, 'removed!']);\n",
       "            Plotly.purge(gd);\n",
       "            observer.disconnect();\n",
       "        }}\n",
       "}});\n",
       "\n",
       "// Listen for the removal of the full notebook cells\n",
       "var notebookContainer = gd.closest('#notebook-container');\n",
       "if (notebookContainer) {{\n",
       "    x.observe(notebookContainer, {childList: true});\n",
       "}}\n",
       "\n",
       "// Listen for the clearing of the current output cell\n",
       "var outputEl = gd.closest('.output');\n",
       "if (outputEl) {{\n",
       "    x.observe(outputEl, {childList: true});\n",
       "}}\n",
       "\n",
       "                        })\n",
       "                };\n",
       "                });\n",
       "            </script>\n",
       "        </div>"
      ]
     },
     "metadata": {},
     "output_type": "display_data"
    }
   ],
   "source": [
    "bsas_costa_barrios_grupo = bsas_costa.groupby(by=['state_name','place_name','nulos'],as_index=False)['counter'].sum()\n",
    "bsas_costa_barrios_grupo['nulos'] = bsas_costa_barrios_grupo['nulos'].astype(str)\n",
    "bsas_costa_barrios_grupo['nulos'] = bsas_costa_barrios_grupo.nulos.str.replace('False','Hay datos')\n",
    "bsas_costa_barrios_grupo['nulos'] = bsas_costa_barrios_grupo.nulos.str.replace('True','No hay datos')\n",
    "fig = px.bar(bsas_costa_barrios_grupo, x=\"place_name\", y=\"counter\",\n",
    "             color='nulos', barmode='group',\n",
    "             height=400, title=\" BSAS Costa - Barrios\")\n",
    "fig.show()"
   ]
  },
  {
   "cell_type": "code",
   "execution_count": 137,
   "metadata": {},
   "outputs": [
    {
     "data": {
      "application/vnd.plotly.v1+json": {
       "config": {
        "plotlyServerURL": "https://plotly.com"
       },
       "data": [
        {
         "alignmentgroup": "True",
         "hovertemplate": "nulos=No hay datos<br>place_name=%{x}<br>counter=%{y}<extra></extra>",
         "legendgroup": "No hay datos",
         "marker": {
          "color": "#636efa"
         },
         "name": "No hay datos",
         "offsetgroup": "No hay datos",
         "orientation": "v",
         "showlegend": true,
         "textposition": "auto",
         "type": "bar",
         "x": [
          "Adolfo Alsina",
          "Alto Los Cardales",
          "Azul",
          "Bahía Blanca",
          "Balcarce",
          "Berisso",
          "Brandsen",
          "Buenos Aires Interior",
          "Cabildo",
          "Campana",
          "Capitán Sarmiento",
          "Carlos Casares",
          "Carlos Keen",
          "Carmen de Areco",
          "Chascomús",
          "Coronel Brandsen",
          "Coronel Suárez",
          "El Remanso",
          "Empalme Lobos",
          "Ensenada",
          "General Alvarado",
          "General Belgrano",
          "General Las Heras",
          "General Lavalle",
          "General Madariaga",
          "General Pueyrredón",
          "Jeppener",
          "La Colina Golf & Polo",
          "Laguna de los Padres",
          "Las Chacras",
          "Lima",
          "Lincoln",
          "Lobos",
          "Los Cardales",
          "Los Talas",
          "Luján",
          "Magdalena",
          "Mercedes",
          "Nueve de Julio",
          "Olavarría",
          "Open Door",
          "Pedro Luro",
          "Punta Indio",
          "Punta Lara",
          "Ranchos",
          "Roosevelt",
          "Roque Pérez",
          "Salvador María",
          "San Antonio de Areco",
          "San Miguel del Monte",
          "San Nicolás de los Arroyos",
          "San Pedro",
          "Santa Trinidad",
          "Sierra de los Padres",
          "Sierras Bayas",
          "Tandil",
          "Torres",
          "Trenque Lauquen",
          "Tres Arroyos",
          "Verónica",
          "Villa Argüello",
          "Villa Ventana",
          "Zárate"
         ],
         "xaxis": "x",
         "y": [
          8,
          1,
          5,
          168,
          67,
          8,
          11,
          51,
          1,
          4,
          1,
          3,
          1,
          11,
          29,
          11,
          58,
          3,
          2,
          3,
          2,
          2,
          3,
          1,
          7,
          12,
          1,
          1,
          1,
          1,
          1,
          2,
          30,
          1,
          1,
          90,
          2,
          2,
          1,
          9,
          1,
          1,
          12,
          2,
          1,
          54,
          2,
          2,
          5,
          20,
          1,
          36,
          1,
          9,
          1,
          22,
          1,
          35,
          22,
          1,
          1,
          1,
          3
         ],
         "yaxis": "y"
        },
        {
         "alignmentgroup": "True",
         "hovertemplate": "nulos=Hay datos<br>place_name=%{x}<br>counter=%{y}<extra></extra>",
         "legendgroup": "Hay datos",
         "marker": {
          "color": "#EF553B"
         },
         "name": "Hay datos",
         "offsetgroup": "Hay datos",
         "orientation": "v",
         "showlegend": true,
         "textposition": "auto",
         "type": "bar",
         "x": [
          "Alto Los Cardales",
          "Azul",
          "Bahía Blanca",
          "Balcarce",
          "Balneario San Cayetano",
          "Baradero",
          "Barrio Parque Girado",
          "Batán",
          "Berisso",
          "Brandsen",
          "Buenos Aires Interior",
          "Campana",
          "Campos de Roca",
          "Capilla del Señor",
          "Capitán Sarmiento",
          "Cardales Country Club",
          "Carlos Casares",
          "Carlos Keen",
          "Carmen de Patagones",
          "Chascomús",
          "Chivilcoy",
          "Comandante Nicanor Otamendi",
          "Coronel Brandsen",
          "Coronel Dorrego",
          "Coronel Suárez",
          "Elvira",
          "Empalme Lobos",
          "Ensenada",
          "Exaltación de la Cruz",
          "General Alvarado",
          "General Alvear",
          "General Las Heras",
          "General Madariaga",
          "General Pinto",
          "General Pueyrredón",
          "Haras del Sur II",
          "Indio Cuá Country Club",
          "Junín",
          "La Ranita",
          "Laprida",
          "Lincoln",
          "Lobería",
          "Lobos",
          "Lomas del Río Luján",
          "Los Cardales",
          "Luján",
          "Mercedes",
          "Naposta",
          "Navarro",
          "Olivera",
          "Open Door",
          "Pehuajó",
          "Pergamino",
          "Punta Indio",
          "Punta Lara",
          "Ramallo",
          "Rancagua",
          "Rocha",
          "Roosevelt",
          "Salvador María",
          "San Andrés de Giles",
          "San Antonio de Areco",
          "San Miguel del Monte",
          "San Nicolás de los Arroyos",
          "San Pedro",
          "Santa Catalina",
          "Sierra de los Padres",
          "Suipacha",
          "Tandil",
          "Tornquist",
          "Torres",
          "Trenque Lauquen",
          "Tres Arroyos",
          "Veinticinco de Mayo",
          "Verónica",
          "Villars",
          "Zárate"
         ],
         "xaxis": "x",
         "y": [
          2,
          12,
          312,
          33,
          1,
          6,
          1,
          1,
          17,
          1,
          55,
          15,
          3,
          3,
          5,
          2,
          2,
          1,
          1,
          32,
          4,
          5,
          7,
          2,
          24,
          1,
          3,
          15,
          13,
          2,
          1,
          5,
          9,
          1,
          69,
          1,
          1,
          1,
          1,
          1,
          1,
          2,
          42,
          2,
          2,
          276,
          22,
          4,
          1,
          1,
          14,
          5,
          7,
          2,
          3,
          1,
          1,
          1,
          156,
          1,
          10,
          10,
          16,
          1,
          8,
          1,
          35,
          1,
          56,
          2,
          1,
          11,
          58,
          2,
          1,
          1,
          12
         ],
         "yaxis": "y"
        }
       ],
       "layout": {
        "autosize": true,
        "barmode": "group",
        "legend": {
         "title": {
          "text": "nulos"
         },
         "tracegroupgap": 0
        },
        "template": {
         "data": {
          "bar": [
           {
            "error_x": {
             "color": "#2a3f5f"
            },
            "error_y": {
             "color": "#2a3f5f"
            },
            "marker": {
             "line": {
              "color": "#E5ECF6",
              "width": 0.5
             }
            },
            "type": "bar"
           }
          ],
          "barpolar": [
           {
            "marker": {
             "line": {
              "color": "#E5ECF6",
              "width": 0.5
             }
            },
            "type": "barpolar"
           }
          ],
          "carpet": [
           {
            "aaxis": {
             "endlinecolor": "#2a3f5f",
             "gridcolor": "white",
             "linecolor": "white",
             "minorgridcolor": "white",
             "startlinecolor": "#2a3f5f"
            },
            "baxis": {
             "endlinecolor": "#2a3f5f",
             "gridcolor": "white",
             "linecolor": "white",
             "minorgridcolor": "white",
             "startlinecolor": "#2a3f5f"
            },
            "type": "carpet"
           }
          ],
          "choropleth": [
           {
            "colorbar": {
             "outlinewidth": 0,
             "ticks": ""
            },
            "type": "choropleth"
           }
          ],
          "contour": [
           {
            "colorbar": {
             "outlinewidth": 0,
             "ticks": ""
            },
            "colorscale": [
             [
              0,
              "#0d0887"
             ],
             [
              0.1111111111111111,
              "#46039f"
             ],
             [
              0.2222222222222222,
              "#7201a8"
             ],
             [
              0.3333333333333333,
              "#9c179e"
             ],
             [
              0.4444444444444444,
              "#bd3786"
             ],
             [
              0.5555555555555556,
              "#d8576b"
             ],
             [
              0.6666666666666666,
              "#ed7953"
             ],
             [
              0.7777777777777778,
              "#fb9f3a"
             ],
             [
              0.8888888888888888,
              "#fdca26"
             ],
             [
              1,
              "#f0f921"
             ]
            ],
            "type": "contour"
           }
          ],
          "contourcarpet": [
           {
            "colorbar": {
             "outlinewidth": 0,
             "ticks": ""
            },
            "type": "contourcarpet"
           }
          ],
          "heatmap": [
           {
            "colorbar": {
             "outlinewidth": 0,
             "ticks": ""
            },
            "colorscale": [
             [
              0,
              "#0d0887"
             ],
             [
              0.1111111111111111,
              "#46039f"
             ],
             [
              0.2222222222222222,
              "#7201a8"
             ],
             [
              0.3333333333333333,
              "#9c179e"
             ],
             [
              0.4444444444444444,
              "#bd3786"
             ],
             [
              0.5555555555555556,
              "#d8576b"
             ],
             [
              0.6666666666666666,
              "#ed7953"
             ],
             [
              0.7777777777777778,
              "#fb9f3a"
             ],
             [
              0.8888888888888888,
              "#fdca26"
             ],
             [
              1,
              "#f0f921"
             ]
            ],
            "type": "heatmap"
           }
          ],
          "heatmapgl": [
           {
            "colorbar": {
             "outlinewidth": 0,
             "ticks": ""
            },
            "colorscale": [
             [
              0,
              "#0d0887"
             ],
             [
              0.1111111111111111,
              "#46039f"
             ],
             [
              0.2222222222222222,
              "#7201a8"
             ],
             [
              0.3333333333333333,
              "#9c179e"
             ],
             [
              0.4444444444444444,
              "#bd3786"
             ],
             [
              0.5555555555555556,
              "#d8576b"
             ],
             [
              0.6666666666666666,
              "#ed7953"
             ],
             [
              0.7777777777777778,
              "#fb9f3a"
             ],
             [
              0.8888888888888888,
              "#fdca26"
             ],
             [
              1,
              "#f0f921"
             ]
            ],
            "type": "heatmapgl"
           }
          ],
          "histogram": [
           {
            "marker": {
             "colorbar": {
              "outlinewidth": 0,
              "ticks": ""
             }
            },
            "type": "histogram"
           }
          ],
          "histogram2d": [
           {
            "colorbar": {
             "outlinewidth": 0,
             "ticks": ""
            },
            "colorscale": [
             [
              0,
              "#0d0887"
             ],
             [
              0.1111111111111111,
              "#46039f"
             ],
             [
              0.2222222222222222,
              "#7201a8"
             ],
             [
              0.3333333333333333,
              "#9c179e"
             ],
             [
              0.4444444444444444,
              "#bd3786"
             ],
             [
              0.5555555555555556,
              "#d8576b"
             ],
             [
              0.6666666666666666,
              "#ed7953"
             ],
             [
              0.7777777777777778,
              "#fb9f3a"
             ],
             [
              0.8888888888888888,
              "#fdca26"
             ],
             [
              1,
              "#f0f921"
             ]
            ],
            "type": "histogram2d"
           }
          ],
          "histogram2dcontour": [
           {
            "colorbar": {
             "outlinewidth": 0,
             "ticks": ""
            },
            "colorscale": [
             [
              0,
              "#0d0887"
             ],
             [
              0.1111111111111111,
              "#46039f"
             ],
             [
              0.2222222222222222,
              "#7201a8"
             ],
             [
              0.3333333333333333,
              "#9c179e"
             ],
             [
              0.4444444444444444,
              "#bd3786"
             ],
             [
              0.5555555555555556,
              "#d8576b"
             ],
             [
              0.6666666666666666,
              "#ed7953"
             ],
             [
              0.7777777777777778,
              "#fb9f3a"
             ],
             [
              0.8888888888888888,
              "#fdca26"
             ],
             [
              1,
              "#f0f921"
             ]
            ],
            "type": "histogram2dcontour"
           }
          ],
          "mesh3d": [
           {
            "colorbar": {
             "outlinewidth": 0,
             "ticks": ""
            },
            "type": "mesh3d"
           }
          ],
          "parcoords": [
           {
            "line": {
             "colorbar": {
              "outlinewidth": 0,
              "ticks": ""
             }
            },
            "type": "parcoords"
           }
          ],
          "pie": [
           {
            "automargin": true,
            "type": "pie"
           }
          ],
          "scatter": [
           {
            "marker": {
             "colorbar": {
              "outlinewidth": 0,
              "ticks": ""
             }
            },
            "type": "scatter"
           }
          ],
          "scatter3d": [
           {
            "line": {
             "colorbar": {
              "outlinewidth": 0,
              "ticks": ""
             }
            },
            "marker": {
             "colorbar": {
              "outlinewidth": 0,
              "ticks": ""
             }
            },
            "type": "scatter3d"
           }
          ],
          "scattercarpet": [
           {
            "marker": {
             "colorbar": {
              "outlinewidth": 0,
              "ticks": ""
             }
            },
            "type": "scattercarpet"
           }
          ],
          "scattergeo": [
           {
            "marker": {
             "colorbar": {
              "outlinewidth": 0,
              "ticks": ""
             }
            },
            "type": "scattergeo"
           }
          ],
          "scattergl": [
           {
            "marker": {
             "colorbar": {
              "outlinewidth": 0,
              "ticks": ""
             }
            },
            "type": "scattergl"
           }
          ],
          "scattermapbox": [
           {
            "marker": {
             "colorbar": {
              "outlinewidth": 0,
              "ticks": ""
             }
            },
            "type": "scattermapbox"
           }
          ],
          "scatterpolar": [
           {
            "marker": {
             "colorbar": {
              "outlinewidth": 0,
              "ticks": ""
             }
            },
            "type": "scatterpolar"
           }
          ],
          "scatterpolargl": [
           {
            "marker": {
             "colorbar": {
              "outlinewidth": 0,
              "ticks": ""
             }
            },
            "type": "scatterpolargl"
           }
          ],
          "scatterternary": [
           {
            "marker": {
             "colorbar": {
              "outlinewidth": 0,
              "ticks": ""
             }
            },
            "type": "scatterternary"
           }
          ],
          "surface": [
           {
            "colorbar": {
             "outlinewidth": 0,
             "ticks": ""
            },
            "colorscale": [
             [
              0,
              "#0d0887"
             ],
             [
              0.1111111111111111,
              "#46039f"
             ],
             [
              0.2222222222222222,
              "#7201a8"
             ],
             [
              0.3333333333333333,
              "#9c179e"
             ],
             [
              0.4444444444444444,
              "#bd3786"
             ],
             [
              0.5555555555555556,
              "#d8576b"
             ],
             [
              0.6666666666666666,
              "#ed7953"
             ],
             [
              0.7777777777777778,
              "#fb9f3a"
             ],
             [
              0.8888888888888888,
              "#fdca26"
             ],
             [
              1,
              "#f0f921"
             ]
            ],
            "type": "surface"
           }
          ],
          "table": [
           {
            "cells": {
             "fill": {
              "color": "#EBF0F8"
             },
             "line": {
              "color": "white"
             }
            },
            "header": {
             "fill": {
              "color": "#C8D4E3"
             },
             "line": {
              "color": "white"
             }
            },
            "type": "table"
           }
          ]
         },
         "layout": {
          "annotationdefaults": {
           "arrowcolor": "#2a3f5f",
           "arrowhead": 0,
           "arrowwidth": 1
          },
          "coloraxis": {
           "colorbar": {
            "outlinewidth": 0,
            "ticks": ""
           }
          },
          "colorscale": {
           "diverging": [
            [
             0,
             "#8e0152"
            ],
            [
             0.1,
             "#c51b7d"
            ],
            [
             0.2,
             "#de77ae"
            ],
            [
             0.3,
             "#f1b6da"
            ],
            [
             0.4,
             "#fde0ef"
            ],
            [
             0.5,
             "#f7f7f7"
            ],
            [
             0.6,
             "#e6f5d0"
            ],
            [
             0.7,
             "#b8e186"
            ],
            [
             0.8,
             "#7fbc41"
            ],
            [
             0.9,
             "#4d9221"
            ],
            [
             1,
             "#276419"
            ]
           ],
           "sequential": [
            [
             0,
             "#0d0887"
            ],
            [
             0.1111111111111111,
             "#46039f"
            ],
            [
             0.2222222222222222,
             "#7201a8"
            ],
            [
             0.3333333333333333,
             "#9c179e"
            ],
            [
             0.4444444444444444,
             "#bd3786"
            ],
            [
             0.5555555555555556,
             "#d8576b"
            ],
            [
             0.6666666666666666,
             "#ed7953"
            ],
            [
             0.7777777777777778,
             "#fb9f3a"
            ],
            [
             0.8888888888888888,
             "#fdca26"
            ],
            [
             1,
             "#f0f921"
            ]
           ],
           "sequentialminus": [
            [
             0,
             "#0d0887"
            ],
            [
             0.1111111111111111,
             "#46039f"
            ],
            [
             0.2222222222222222,
             "#7201a8"
            ],
            [
             0.3333333333333333,
             "#9c179e"
            ],
            [
             0.4444444444444444,
             "#bd3786"
            ],
            [
             0.5555555555555556,
             "#d8576b"
            ],
            [
             0.6666666666666666,
             "#ed7953"
            ],
            [
             0.7777777777777778,
             "#fb9f3a"
            ],
            [
             0.8888888888888888,
             "#fdca26"
            ],
            [
             1,
             "#f0f921"
            ]
           ]
          },
          "colorway": [
           "#636efa",
           "#EF553B",
           "#00cc96",
           "#ab63fa",
           "#FFA15A",
           "#19d3f3",
           "#FF6692",
           "#B6E880",
           "#FF97FF",
           "#FECB52"
          ],
          "font": {
           "color": "#2a3f5f"
          },
          "geo": {
           "bgcolor": "white",
           "lakecolor": "white",
           "landcolor": "#E5ECF6",
           "showlakes": true,
           "showland": true,
           "subunitcolor": "white"
          },
          "hoverlabel": {
           "align": "left"
          },
          "hovermode": "closest",
          "mapbox": {
           "style": "light"
          },
          "paper_bgcolor": "white",
          "plot_bgcolor": "#E5ECF6",
          "polar": {
           "angularaxis": {
            "gridcolor": "white",
            "linecolor": "white",
            "ticks": ""
           },
           "bgcolor": "#E5ECF6",
           "radialaxis": {
            "gridcolor": "white",
            "linecolor": "white",
            "ticks": ""
           }
          },
          "scene": {
           "xaxis": {
            "backgroundcolor": "#E5ECF6",
            "gridcolor": "white",
            "gridwidth": 2,
            "linecolor": "white",
            "showbackground": true,
            "ticks": "",
            "zerolinecolor": "white"
           },
           "yaxis": {
            "backgroundcolor": "#E5ECF6",
            "gridcolor": "white",
            "gridwidth": 2,
            "linecolor": "white",
            "showbackground": true,
            "ticks": "",
            "zerolinecolor": "white"
           },
           "zaxis": {
            "backgroundcolor": "#E5ECF6",
            "gridcolor": "white",
            "gridwidth": 2,
            "linecolor": "white",
            "showbackground": true,
            "ticks": "",
            "zerolinecolor": "white"
           }
          },
          "shapedefaults": {
           "line": {
            "color": "#2a3f5f"
           }
          },
          "ternary": {
           "aaxis": {
            "gridcolor": "white",
            "linecolor": "white",
            "ticks": ""
           },
           "baxis": {
            "gridcolor": "white",
            "linecolor": "white",
            "ticks": ""
           },
           "bgcolor": "#E5ECF6",
           "caxis": {
            "gridcolor": "white",
            "linecolor": "white",
            "ticks": ""
           }
          },
          "title": {
           "x": 0.05
          },
          "xaxis": {
           "automargin": true,
           "gridcolor": "white",
           "linecolor": "white",
           "ticks": "",
           "title": {
            "standoff": 15
           },
           "zerolinecolor": "white",
           "zerolinewidth": 2
          },
          "yaxis": {
           "automargin": true,
           "gridcolor": "white",
           "linecolor": "white",
           "ticks": "",
           "title": {
            "standoff": 15
           },
           "zerolinecolor": "white",
           "zerolinewidth": 2
          }
         }
        },
        "title": {
         "text": " BSAS Interior - Barrios"
        },
        "xaxis": {
         "anchor": "y",
         "autorange": true,
         "domain": [
          0,
          1
         ],
         "range": [
          -0.5,
          98.5
         ],
         "title": {
          "text": "place_name"
         },
         "type": "category"
        },
        "yaxis": {
         "anchor": "x",
         "autorange": true,
         "domain": [
          0,
          1
         ],
         "range": [
          0,
          328.42105263157896
         ],
         "title": {
          "text": "counter"
         },
         "type": "linear"
        }
       }
      },
      "image/png": "[encoded data removed]",
      "text/html": [
       "<div>\n",
       "        \n",
       "        \n",
       "            <div id=\"0500c4b1-70f2-4cdd-b4dd-48161e5af575\" class=\"plotly-graph-div\" style=\"height:400px; width:100%;\"></div>\n",
       "            <script type=\"text/javascript\">\n",
       "                require([\"plotly\"], function(Plotly) {\n",
       "                    window.PLOTLYENV=window.PLOTLYENV || {};\n",
       "                    \n",
       "                if (document.getElementById(\"0500c4b1-70f2-4cdd-b4dd-48161e5af575\")) {\n",
       "                    Plotly.newPlot(\n",
       "                        '0500c4b1-70f2-4cdd-b4dd-48161e5af575',\n",
       "                        [{\"alignmentgroup\": \"True\", \"hovertemplate\": \"nulos=No hay datos<br>place_name=%{x}<br>counter=%{y}<extra></extra>\", \"legendgroup\": \"No hay datos\", \"marker\": {\"color\": \"#636efa\"}, \"name\": \"No hay datos\", \"offsetgroup\": \"No hay datos\", \"orientation\": \"v\", \"showlegend\": true, \"textposition\": \"auto\", \"type\": \"bar\", \"x\": [\"Adolfo Alsina\", \"Alto Los Cardales\", \"Azul\", \"Bah\\u00eda Blanca\", \"Balcarce\", \"Berisso\", \"Brandsen\", \"Buenos Aires Interior\", \"Cabildo\", \"Campana\", \"Capit\\u00e1n Sarmiento\", \"Carlos Casares\", \"Carlos Keen\", \"Carmen de Areco\", \"Chascom\\u00fas\", \"Coronel Brandsen\", \"Coronel Su\\u00e1rez\", \"El Remanso\", \"Empalme Lobos\", \"Ensenada\", \"General Alvarado\", \"General Belgrano\", \"General Las Heras\", \"General Lavalle\", \"General Madariaga\", \"General Pueyrred\\u00f3n\", \"Jeppener\", \"La Colina Golf & Polo\", \"Laguna de los Padres\", \"Las Chacras\", \"Lima\", \"Lincoln\", \"Lobos\", \"Los Cardales\", \"Los Talas\", \"Luj\\u00e1n\", \"Magdalena\", \"Mercedes\", \"Nueve de Julio\", \"Olavarr\\u00eda\", \"Open Door\", \"Pedro Luro\", \"Punta Indio\", \"Punta Lara\", \"Ranchos\", \"Roosevelt\", \"Roque P\\u00e9rez\", \"Salvador Mar\\u00eda\", \"San Antonio de Areco\", \"San Miguel del Monte\", \"San Nicol\\u00e1s de los Arroyos\", \"San Pedro\", \"Santa Trinidad\", \"Sierra de los Padres\", \"Sierras Bayas\", \"Tandil\", \"Torres\", \"Trenque Lauquen\", \"Tres Arroyos\", \"Ver\\u00f3nica\", \"Villa Arg\\u00fcello\", \"Villa Ventana\", \"Z\\u00e1rate\"], \"xaxis\": \"x\", \"y\": [8, 1, 5, 168, 67, 8, 11, 51, 1, 4, 1, 3, 1, 11, 29, 11, 58, 3, 2, 3, 2, 2, 3, 1, 7, 12, 1, 1, 1, 1, 1, 2, 30, 1, 1, 90, 2, 2, 1, 9, 1, 1, 12, 2, 1, 54, 2, 2, 5, 20, 1, 36, 1, 9, 1, 22, 1, 35, 22, 1, 1, 1, 3], \"yaxis\": \"y\"}, {\"alignmentgroup\": \"True\", \"hovertemplate\": \"nulos=Hay datos<br>place_name=%{x}<br>counter=%{y}<extra></extra>\", \"legendgroup\": \"Hay datos\", \"marker\": {\"color\": \"#EF553B\"}, \"name\": \"Hay datos\", \"offsetgroup\": \"Hay datos\", \"orientation\": \"v\", \"showlegend\": true, \"textposition\": \"auto\", \"type\": \"bar\", \"x\": [\"Alto Los Cardales\", \"Azul\", \"Bah\\u00eda Blanca\", \"Balcarce\", \"Balneario San Cayetano\", \"Baradero\", \"Barrio Parque Girado\", \"Bat\\u00e1n\", \"Berisso\", \"Brandsen\", \"Buenos Aires Interior\", \"Campana\", \"Campos de Roca\", \"Capilla del Se\\u00f1or\", \"Capit\\u00e1n Sarmiento\", \"Cardales Country Club\", \"Carlos Casares\", \"Carlos Keen\", \"Carmen de Patagones\", \"Chascom\\u00fas\", \"Chivilcoy\", \"Comandante Nicanor Otamendi\", \"Coronel Brandsen\", \"Coronel Dorrego\", \"Coronel Su\\u00e1rez\", \"Elvira\", \"Empalme Lobos\", \"Ensenada\", \"Exaltaci\\u00f3n de la Cruz\", \"General Alvarado\", \"General Alvear\", \"General Las Heras\", \"General Madariaga\", \"General Pinto\", \"General Pueyrred\\u00f3n\", \"Haras del Sur II\", \"Indio Cu\\u00e1 Country Club\", \"Jun\\u00edn\", \"La Ranita\", \"Laprida\", \"Lincoln\", \"Lober\\u00eda\", \"Lobos\", \"Lomas del R\\u00edo Luj\\u00e1n\", \"Los Cardales\", \"Luj\\u00e1n\", \"Mercedes\", \"Naposta\", \"Navarro\", \"Olivera\", \"Open Door\", \"Pehuaj\\u00f3\", \"Pergamino\", \"Punta Indio\", \"Punta Lara\", \"Ramallo\", \"Rancagua\", \"Rocha\", \"Roosevelt\", \"Salvador Mar\\u00eda\", \"San Andr\\u00e9s de Giles\", \"San Antonio de Areco\", \"San Miguel del Monte\", \"San Nicol\\u00e1s de los Arroyos\", \"San Pedro\", \"Santa Catalina\", \"Sierra de los Padres\", \"Suipacha\", \"Tandil\", \"Tornquist\", \"Torres\", \"Trenque Lauquen\", \"Tres Arroyos\", \"Veinticinco de Mayo\", \"Ver\\u00f3nica\", \"Villars\", \"Z\\u00e1rate\"], \"xaxis\": \"x\", \"y\": [2, 12, 312, 33, 1, 6, 1, 1, 17, 1, 55, 15, 3, 3, 5, 2, 2, 1, 1, 32, 4, 5, 7, 2, 24, 1, 3, 15, 13, 2, 1, 5, 9, 1, 69, 1, 1, 1, 1, 1, 1, 2, 42, 2, 2, 276, 22, 4, 1, 1, 14, 5, 7, 2, 3, 1, 1, 1, 156, 1, 10, 10, 16, 1, 8, 1, 35, 1, 56, 2, 1, 11, 58, 2, 1, 1, 12], \"yaxis\": \"y\"}],\n",
       "                        {\"barmode\": \"group\", \"height\": 400, \"legend\": {\"title\": {\"text\": \"nulos\"}, \"tracegroupgap\": 0}, \"template\": {\"data\": {\"bar\": [{\"error_x\": {\"color\": \"#2a3f5f\"}, \"error_y\": {\"color\": \"#2a3f5f\"}, \"marker\": {\"line\": {\"color\": \"#E5ECF6\", \"width\": 0.5}}, \"type\": \"bar\"}], \"barpolar\": [{\"marker\": {\"line\": {\"color\": \"#E5ECF6\", \"width\": 0.5}}, \"type\": \"barpolar\"}], \"carpet\": [{\"aaxis\": {\"endlinecolor\": \"#2a3f5f\", \"gridcolor\": \"white\", \"linecolor\": \"white\", \"minorgridcolor\": \"white\", \"startlinecolor\": \"#2a3f5f\"}, \"baxis\": {\"endlinecolor\": \"#2a3f5f\", \"gridcolor\": \"white\", \"linecolor\": \"white\", \"minorgridcolor\": \"white\", \"startlinecolor\": \"#2a3f5f\"}, \"type\": \"carpet\"}], \"choropleth\": [{\"colorbar\": {\"outlinewidth\": 0, \"ticks\": \"\"}, \"type\": \"choropleth\"}], \"contour\": [{\"colorbar\": {\"outlinewidth\": 0, \"ticks\": \"\"}, \"colorscale\": [[0.0, \"#0d0887\"], [0.1111111111111111, \"#46039f\"], [0.2222222222222222, \"#7201a8\"], [0.3333333333333333, \"#9c179e\"], [0.4444444444444444, \"#bd3786\"], [0.5555555555555556, \"#d8576b\"], [0.6666666666666666, \"#ed7953\"], [0.7777777777777778, \"#fb9f3a\"], [0.8888888888888888, \"#fdca26\"], [1.0, \"#f0f921\"]], \"type\": \"contour\"}], \"contourcarpet\": [{\"colorbar\": {\"outlinewidth\": 0, \"ticks\": \"\"}, \"type\": \"contourcarpet\"}], \"heatmap\": [{\"colorbar\": {\"outlinewidth\": 0, \"ticks\": \"\"}, \"colorscale\": [[0.0, \"#0d0887\"], [0.1111111111111111, \"#46039f\"], [0.2222222222222222, \"#7201a8\"], [0.3333333333333333, \"#9c179e\"], [0.4444444444444444, \"#bd3786\"], [0.5555555555555556, \"#d8576b\"], [0.6666666666666666, \"#ed7953\"], [0.7777777777777778, \"#fb9f3a\"], [0.8888888888888888, \"#fdca26\"], [1.0, \"#f0f921\"]], \"type\": \"heatmap\"}], \"heatmapgl\": [{\"colorbar\": {\"outlinewidth\": 0, \"ticks\": \"\"}, \"colorscale\": [[0.0, \"#0d0887\"], [0.1111111111111111, \"#46039f\"], [0.2222222222222222, \"#7201a8\"], [0.3333333333333333, \"#9c179e\"], [0.4444444444444444, \"#bd3786\"], [0.5555555555555556, \"#d8576b\"], [0.6666666666666666, \"#ed7953\"], [0.7777777777777778, \"#fb9f3a\"], [0.8888888888888888, \"#fdca26\"], [1.0, \"#f0f921\"]], \"type\": \"heatmapgl\"}], \"histogram\": [{\"marker\": {\"colorbar\": {\"outlinewidth\": 0, \"ticks\": \"\"}}, \"type\": \"histogram\"}], \"histogram2d\": [{\"colorbar\": {\"outlinewidth\": 0, \"ticks\": \"\"}, \"colorscale\": [[0.0, \"#0d0887\"], [0.1111111111111111, \"#46039f\"], [0.2222222222222222, \"#7201a8\"], [0.3333333333333333, \"#9c179e\"], [0.4444444444444444, \"#bd3786\"], [0.5555555555555556, \"#d8576b\"], [0.6666666666666666, \"#ed7953\"], [0.7777777777777778, \"#fb9f3a\"], [0.8888888888888888, \"#fdca26\"], [1.0, \"#f0f921\"]], \"type\": \"histogram2d\"}], \"histogram2dcontour\": [{\"colorbar\": {\"outlinewidth\": 0, \"ticks\": \"\"}, \"colorscale\": [[0.0, \"#0d0887\"], [0.1111111111111111, \"#46039f\"], [0.2222222222222222, \"#7201a8\"], [0.3333333333333333, \"#9c179e\"], [0.4444444444444444, \"#bd3786\"], [0.5555555555555556, \"#d8576b\"], [0.6666666666666666, \"#ed7953\"], [0.7777777777777778, \"#fb9f3a\"], [0.8888888888888888, \"#fdca26\"], [1.0, \"#f0f921\"]], \"type\": \"histogram2dcontour\"}], \"mesh3d\": [{\"colorbar\": {\"outlinewidth\": 0, \"ticks\": \"\"}, \"type\": \"mesh3d\"}], \"parcoords\": [{\"line\": {\"colorbar\": {\"outlinewidth\": 0, \"ticks\": \"\"}}, \"type\": \"parcoords\"}], \"pie\": [{\"automargin\": true, \"type\": \"pie\"}], \"scatter\": [{\"marker\": {\"colorbar\": {\"outlinewidth\": 0, \"ticks\": \"\"}}, \"type\": \"scatter\"}], \"scatter3d\": [{\"line\": {\"colorbar\": {\"outlinewidth\": 0, \"ticks\": \"\"}}, \"marker\": {\"colorbar\": {\"outlinewidth\": 0, \"ticks\": \"\"}}, \"type\": \"scatter3d\"}], \"scattercarpet\": [{\"marker\": {\"colorbar\": {\"outlinewidth\": 0, \"ticks\": \"\"}}, \"type\": \"scattercarpet\"}], \"scattergeo\": [{\"marker\": {\"colorbar\": {\"outlinewidth\": 0, \"ticks\": \"\"}}, \"type\": \"scattergeo\"}], \"scattergl\": [{\"marker\": {\"colorbar\": {\"outlinewidth\": 0, \"ticks\": \"\"}}, \"type\": \"scattergl\"}], \"scattermapbox\": [{\"marker\": {\"colorbar\": {\"outlinewidth\": 0, \"ticks\": \"\"}}, \"type\": \"scattermapbox\"}], \"scatterpolar\": [{\"marker\": {\"colorbar\": {\"outlinewidth\": 0, \"ticks\": \"\"}}, \"type\": \"scatterpolar\"}], \"scatterpolargl\": [{\"marker\": {\"colorbar\": {\"outlinewidth\": 0, \"ticks\": \"\"}}, \"type\": \"scatterpolargl\"}], \"scatterternary\": [{\"marker\": {\"colorbar\": {\"outlinewidth\": 0, \"ticks\": \"\"}}, \"type\": \"scatterternary\"}], \"surface\": [{\"colorbar\": {\"outlinewidth\": 0, \"ticks\": \"\"}, \"colorscale\": [[0.0, \"#0d0887\"], [0.1111111111111111, \"#46039f\"], [0.2222222222222222, \"#7201a8\"], [0.3333333333333333, \"#9c179e\"], [0.4444444444444444, \"#bd3786\"], [0.5555555555555556, \"#d8576b\"], [0.6666666666666666, \"#ed7953\"], [0.7777777777777778, \"#fb9f3a\"], [0.8888888888888888, \"#fdca26\"], [1.0, \"#f0f921\"]], \"type\": \"surface\"}], \"table\": [{\"cells\": {\"fill\": {\"color\": \"#EBF0F8\"}, \"line\": {\"color\": \"white\"}}, \"header\": {\"fill\": {\"color\": \"#C8D4E3\"}, \"line\": {\"color\": \"white\"}}, \"type\": \"table\"}]}, \"layout\": {\"annotationdefaults\": {\"arrowcolor\": \"#2a3f5f\", \"arrowhead\": 0, \"arrowwidth\": 1}, \"coloraxis\": {\"colorbar\": {\"outlinewidth\": 0, \"ticks\": \"\"}}, \"colorscale\": {\"diverging\": [[0, \"#8e0152\"], [0.1, \"#c51b7d\"], [0.2, \"#de77ae\"], [0.3, \"#f1b6da\"], [0.4, \"#fde0ef\"], [0.5, \"#f7f7f7\"], [0.6, \"#e6f5d0\"], [0.7, \"#b8e186\"], [0.8, \"#7fbc41\"], [0.9, \"#4d9221\"], [1, \"#276419\"]], \"sequential\": [[0.0, \"#0d0887\"], [0.1111111111111111, \"#46039f\"], [0.2222222222222222, \"#7201a8\"], [0.3333333333333333, \"#9c179e\"], [0.4444444444444444, \"#bd3786\"], [0.5555555555555556, \"#d8576b\"], [0.6666666666666666, \"#ed7953\"], [0.7777777777777778, \"#fb9f3a\"], [0.8888888888888888, \"#fdca26\"], [1.0, \"#f0f921\"]], \"sequentialminus\": [[0.0, \"#0d0887\"], [0.1111111111111111, \"#46039f\"], [0.2222222222222222, \"#7201a8\"], [0.3333333333333333, \"#9c179e\"], [0.4444444444444444, \"#bd3786\"], [0.5555555555555556, \"#d8576b\"], [0.6666666666666666, \"#ed7953\"], [0.7777777777777778, \"#fb9f3a\"], [0.8888888888888888, \"#fdca26\"], [1.0, \"#f0f921\"]]}, \"colorway\": [\"#636efa\", \"#EF553B\", \"#00cc96\", \"#ab63fa\", \"#FFA15A\", \"#19d3f3\", \"#FF6692\", \"#B6E880\", \"#FF97FF\", \"#FECB52\"], \"font\": {\"color\": \"#2a3f5f\"}, \"geo\": {\"bgcolor\": \"white\", \"lakecolor\": \"white\", \"landcolor\": \"#E5ECF6\", \"showlakes\": true, \"showland\": true, \"subunitcolor\": \"white\"}, \"hoverlabel\": {\"align\": \"left\"}, \"hovermode\": \"closest\", \"mapbox\": {\"style\": \"light\"}, \"paper_bgcolor\": \"white\", \"plot_bgcolor\": \"#E5ECF6\", \"polar\": {\"angularaxis\": {\"gridcolor\": \"white\", \"linecolor\": \"white\", \"ticks\": \"\"}, \"bgcolor\": \"#E5ECF6\", \"radialaxis\": {\"gridcolor\": \"white\", \"linecolor\": \"white\", \"ticks\": \"\"}}, \"scene\": {\"xaxis\": {\"backgroundcolor\": \"#E5ECF6\", \"gridcolor\": \"white\", \"gridwidth\": 2, \"linecolor\": \"white\", \"showbackground\": true, \"ticks\": \"\", \"zerolinecolor\": \"white\"}, \"yaxis\": {\"backgroundcolor\": \"#E5ECF6\", \"gridcolor\": \"white\", \"gridwidth\": 2, \"linecolor\": \"white\", \"showbackground\": true, \"ticks\": \"\", \"zerolinecolor\": \"white\"}, \"zaxis\": {\"backgroundcolor\": \"#E5ECF6\", \"gridcolor\": \"white\", \"gridwidth\": 2, \"linecolor\": \"white\", \"showbackground\": true, \"ticks\": \"\", \"zerolinecolor\": \"white\"}}, \"shapedefaults\": {\"line\": {\"color\": \"#2a3f5f\"}}, \"ternary\": {\"aaxis\": {\"gridcolor\": \"white\", \"linecolor\": \"white\", \"ticks\": \"\"}, \"baxis\": {\"gridcolor\": \"white\", \"linecolor\": \"white\", \"ticks\": \"\"}, \"bgcolor\": \"#E5ECF6\", \"caxis\": {\"gridcolor\": \"white\", \"linecolor\": \"white\", \"ticks\": \"\"}}, \"title\": {\"x\": 0.05}, \"xaxis\": {\"automargin\": true, \"gridcolor\": \"white\", \"linecolor\": \"white\", \"ticks\": \"\", \"title\": {\"standoff\": 15}, \"zerolinecolor\": \"white\", \"zerolinewidth\": 2}, \"yaxis\": {\"automargin\": true, \"gridcolor\": \"white\", \"linecolor\": \"white\", \"ticks\": \"\", \"title\": {\"standoff\": 15}, \"zerolinecolor\": \"white\", \"zerolinewidth\": 2}}}, \"title\": {\"text\": \" BSAS Interior - Barrios\"}, \"xaxis\": {\"anchor\": \"y\", \"domain\": [0.0, 1.0], \"title\": {\"text\": \"place_name\"}}, \"yaxis\": {\"anchor\": \"x\", \"domain\": [0.0, 1.0], \"title\": {\"text\": \"counter\"}}},\n",
       "                        {\"responsive\": true}\n",
       "                    ).then(function(){\n",
       "                            \n",
       "var gd = document.getElementById('0500c4b1-70f2-4cdd-b4dd-48161e5af575');\n",
       "var x = new MutationObserver(function (mutations, observer) {{\n",
       "        var display = window.getComputedStyle(gd).display;\n",
       "        if (!display || display === 'none') {{\n",
       "            console.log([gd, 'removed!']);\n",
       "            Plotly.purge(gd);\n",
       "            observer.disconnect();\n",
       "        }}\n",
       "}});\n",
       "\n",
       "// Listen for the removal of the full notebook cells\n",
       "var notebookContainer = gd.closest('#notebook-container');\n",
       "if (notebookContainer) {{\n",
       "    x.observe(notebookContainer, {childList: true});\n",
       "}}\n",
       "\n",
       "// Listen for the clearing of the current output cell\n",
       "var outputEl = gd.closest('.output');\n",
       "if (outputEl) {{\n",
       "    x.observe(outputEl, {childList: true});\n",
       "}}\n",
       "\n",
       "                        })\n",
       "                };\n",
       "                });\n",
       "            </script>\n",
       "        </div>"
      ]
     },
     "metadata": {},
     "output_type": "display_data"
    }
   ],
   "source": [
    "bsas_interior_barrios_grupo = bsas_interior.groupby(by=['state_name','place_name','nulos'],as_index=False)['counter'].sum()\n",
    "bsas_interior_barrios_grupo['nulos'] = bsas_interior_barrios_grupo['nulos'].astype(str)\n",
    "bsas_interior_barrios_grupo['nulos'] = bsas_interior_barrios_grupo.nulos.str.replace('False','Hay datos')\n",
    "bsas_interior_barrios_grupo['nulos'] = bsas_interior_barrios_grupo.nulos.str.replace('True','No hay datos')\n",
    "fig = px.bar(bsas_interior_barrios_grupo, x=\"place_name\", y=\"counter\",\n",
    "             color='nulos', barmode='group',\n",
    "             height=400, title=\" BSAS Interior - Barrios\")\n",
    "fig.show()"
   ]
  },
  {
   "cell_type": "code",
   "execution_count": null,
   "metadata": {},
   "outputs": [],
   "source": []
  }
 ],
 "metadata": {
  "kernelspec": {
   "display_name": "Python 3",
   "language": "python",
   "name": "python3"
  },
  "language_info": {
   "codemirror_mode": {
    "name": "ipython",
    "version": 3
   },
   "file_extension": ".py",
   "mimetype": "text/x-python",
   "name": "python",
   "nbconvert_exporter": "python",
   "pygments_lexer": "ipython3",
   "version": "3.7.9"
  }
 },
 "nbformat": 4,
 "nbformat_minor": 4
}
