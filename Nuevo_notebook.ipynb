{
 "cells": [
  {
   "cell_type": "markdown",
   "metadata": {},
   "source": [
    "<u><b>Desafio n° 1:</b></u>\n",
    "<b>Analisis Exploratorio de Dataset de precios de propiedades</b>\n",
    "\n",
    "<b>Grupo 4</b>\n",
    "\n",
    "<b>Integrantes</b>\n",
    "<ul>\n",
    "<li>Angeli, Francesco</li>\n",
    "<li>Brandan, Gabriel</li>\n",
    "<li>Cubric, Walter</li>\n",
    "<li>Giusti, Patricio Daniel</li>\n",
    "<li>Morelli, Francisco</li>\n",
    "<li>Sanchez, Hernán</li>\n",
    "</ul>\n",
    "<b>Imports</b>"
   ]
  },
  {
   "cell_type": "code",
   "execution_count": 1,
   "metadata": {},
   "outputs": [],
   "source": [
    "#importamos pandas\n",
    "import pandas as pd\n",
    "#importamos numpy\n",
    "import numpy as np\n",
    "#importamos Expresiones Regulares\n",
    "import re\n",
    "#importamos Plotly\n",
    "import plotly.express as px\n",
    "#importamos Seaborn\n",
    "import seaborn as sns"
   ]
  },
  {
   "cell_type": "code",
   "execution_count": 2,
   "metadata": {},
   "outputs": [
    {
     "name": "stdout",
     "output_type": "stream",
     "text": [
      "Unnamed: 0                      int64\n",
      "operation                      object\n",
      "property_type                  object\n",
      "place_name                     object\n",
      "place_with_parent_names        object\n",
      "country_name                   object\n",
      "state_name                     object\n",
      "geonames_id                   float64\n",
      "lat-lon                        object\n",
      "lat                           float64\n",
      "lon                           float64\n",
      "price                         float64\n",
      "currency                       object\n",
      "price_aprox_local_currency    float64\n",
      "price_aprox_usd               float64\n",
      "surface_total_in_m2           float64\n",
      "surface_covered_in_m2         float64\n",
      "price_usd_per_m2              float64\n",
      "price_per_m2                  float64\n",
      "floor                         float64\n",
      "rooms                         float64\n",
      "expenses                      float64\n",
      "properati_url                  object\n",
      "description                    object\n",
      "title                          object\n",
      "image_thumbnail                object\n",
      "dtype: object\n"
     ]
    },
    {
     "data": {
      "text/html": [
       "<div>\n",
       "<style scoped>\n",
       "    .dataframe tbody tr th:only-of-type {\n",
       "        vertical-align: middle;\n",
       "    }\n",
       "\n",
       "    .dataframe tbody tr th {\n",
       "        vertical-align: top;\n",
       "    }\n",
       "\n",
       "    .dataframe thead th {\n",
       "        text-align: right;\n",
       "    }\n",
       "</style>\n",
       "<table border=\"1\" class=\"dataframe\">\n",
       "  <thead>\n",
       "    <tr style=\"text-align: right;\">\n",
       "      <th></th>\n",
       "      <th>Unnamed: 0</th>\n",
       "      <th>operation</th>\n",
       "      <th>property_type</th>\n",
       "      <th>place_name</th>\n",
       "      <th>place_with_parent_names</th>\n",
       "      <th>country_name</th>\n",
       "      <th>state_name</th>\n",
       "      <th>geonames_id</th>\n",
       "      <th>lat-lon</th>\n",
       "      <th>lat</th>\n",
       "      <th>...</th>\n",
       "      <th>surface_covered_in_m2</th>\n",
       "      <th>price_usd_per_m2</th>\n",
       "      <th>price_per_m2</th>\n",
       "      <th>floor</th>\n",
       "      <th>rooms</th>\n",
       "      <th>expenses</th>\n",
       "      <th>properati_url</th>\n",
       "      <th>description</th>\n",
       "      <th>title</th>\n",
       "      <th>image_thumbnail</th>\n",
       "    </tr>\n",
       "  </thead>\n",
       "  <tbody>\n",
       "    <tr>\n",
       "      <th>0</th>\n",
       "      <td>0</td>\n",
       "      <td>sell</td>\n",
       "      <td>PH</td>\n",
       "      <td>Mataderos</td>\n",
       "      <td>|Argentina|Capital Federal|Mataderos|</td>\n",
       "      <td>Argentina</td>\n",
       "      <td>Capital Federal</td>\n",
       "      <td>3430787.0</td>\n",
       "      <td>-34.6618237,-58.5088387</td>\n",
       "      <td>-34.661824</td>\n",
       "      <td>...</td>\n",
       "      <td>40.0</td>\n",
       "      <td>1127.272727</td>\n",
       "      <td>1550.000000</td>\n",
       "      <td>NaN</td>\n",
       "      <td>NaN</td>\n",
       "      <td>NaN</td>\n",
       "      <td>http://www.properati.com.ar/15bo8_venta_ph_mat...</td>\n",
       "      <td>2 AMBIENTES TIPO CASA PLANTA BAJA POR PASILLO,...</td>\n",
       "      <td>2 AMB TIPO CASA SIN EXPENSAS EN PB</td>\n",
       "      <td>https://thumbs4.properati.com/8/BluUYiHJLhgIIK...</td>\n",
       "    </tr>\n",
       "    <tr>\n",
       "      <th>1</th>\n",
       "      <td>1</td>\n",
       "      <td>sell</td>\n",
       "      <td>apartment</td>\n",
       "      <td>La Plata</td>\n",
       "      <td>|Argentina|Bs.As. G.B.A. Zona Sur|La Plata|</td>\n",
       "      <td>Argentina</td>\n",
       "      <td>Bs.As. G.B.A. Zona Sur</td>\n",
       "      <td>3432039.0</td>\n",
       "      <td>-34.9038831,-57.9643295</td>\n",
       "      <td>-34.903883</td>\n",
       "      <td>...</td>\n",
       "      <td>NaN</td>\n",
       "      <td>NaN</td>\n",
       "      <td>NaN</td>\n",
       "      <td>NaN</td>\n",
       "      <td>NaN</td>\n",
       "      <td>NaN</td>\n",
       "      <td>http://www.properati.com.ar/15bob_venta_depart...</td>\n",
       "      <td>Venta de departamento en décimo piso al frente...</td>\n",
       "      <td>VENTA Depto 2 dorm. a estrenar 7 e/ 36 y 37   ...</td>\n",
       "      <td>https://thumbs4.properati.com/7/ikpVBu2ztHA7jv...</td>\n",
       "    </tr>\n",
       "    <tr>\n",
       "      <th>2</th>\n",
       "      <td>2</td>\n",
       "      <td>sell</td>\n",
       "      <td>apartment</td>\n",
       "      <td>Mataderos</td>\n",
       "      <td>|Argentina|Capital Federal|Mataderos|</td>\n",
       "      <td>Argentina</td>\n",
       "      <td>Capital Federal</td>\n",
       "      <td>3430787.0</td>\n",
       "      <td>-34.6522615,-58.5229825</td>\n",
       "      <td>-34.652262</td>\n",
       "      <td>...</td>\n",
       "      <td>55.0</td>\n",
       "      <td>1309.090909</td>\n",
       "      <td>1309.090909</td>\n",
       "      <td>NaN</td>\n",
       "      <td>NaN</td>\n",
       "      <td>NaN</td>\n",
       "      <td>http://www.properati.com.ar/15bod_venta_depart...</td>\n",
       "      <td>2 AMBIENTES 3ER PISO LATERAL LIVING COMEDOR AM...</td>\n",
       "      <td>2 AMB 3ER PISO CON ASCENSOR APTO CREDITO</td>\n",
       "      <td>https://thumbs4.properati.com/5/SXKr34F_IwG3W_...</td>\n",
       "    </tr>\n",
       "  </tbody>\n",
       "</table>\n",
       "<p>3 rows × 26 columns</p>\n",
       "</div>"
      ],
      "text/plain": [
       "   Unnamed: 0 operation property_type place_name  \\\n",
       "0           0      sell            PH  Mataderos   \n",
       "1           1      sell     apartment   La Plata   \n",
       "2           2      sell     apartment  Mataderos   \n",
       "\n",
       "                       place_with_parent_names country_name  \\\n",
       "0        |Argentina|Capital Federal|Mataderos|    Argentina   \n",
       "1  |Argentina|Bs.As. G.B.A. Zona Sur|La Plata|    Argentina   \n",
       "2        |Argentina|Capital Federal|Mataderos|    Argentina   \n",
       "\n",
       "               state_name  geonames_id                  lat-lon        lat  \\\n",
       "0         Capital Federal    3430787.0  -34.6618237,-58.5088387 -34.661824   \n",
       "1  Bs.As. G.B.A. Zona Sur    3432039.0  -34.9038831,-57.9643295 -34.903883   \n",
       "2         Capital Federal    3430787.0  -34.6522615,-58.5229825 -34.652262   \n",
       "\n",
       "   ...  surface_covered_in_m2  price_usd_per_m2 price_per_m2  floor  rooms  \\\n",
       "0  ...                   40.0       1127.272727  1550.000000    NaN    NaN   \n",
       "1  ...                    NaN               NaN          NaN    NaN    NaN   \n",
       "2  ...                   55.0       1309.090909  1309.090909    NaN    NaN   \n",
       "\n",
       "   expenses                                      properati_url  \\\n",
       "0       NaN  http://www.properati.com.ar/15bo8_venta_ph_mat...   \n",
       "1       NaN  http://www.properati.com.ar/15bob_venta_depart...   \n",
       "2       NaN  http://www.properati.com.ar/15bod_venta_depart...   \n",
       "\n",
       "                                         description  \\\n",
       "0  2 AMBIENTES TIPO CASA PLANTA BAJA POR PASILLO,...   \n",
       "1  Venta de departamento en décimo piso al frente...   \n",
       "2  2 AMBIENTES 3ER PISO LATERAL LIVING COMEDOR AM...   \n",
       "\n",
       "                                               title  \\\n",
       "0                 2 AMB TIPO CASA SIN EXPENSAS EN PB   \n",
       "1  VENTA Depto 2 dorm. a estrenar 7 e/ 36 y 37   ...   \n",
       "2           2 AMB 3ER PISO CON ASCENSOR APTO CREDITO   \n",
       "\n",
       "                                     image_thumbnail  \n",
       "0  https://thumbs4.properati.com/8/BluUYiHJLhgIIK...  \n",
       "1  https://thumbs4.properati.com/7/ikpVBu2ztHA7jv...  \n",
       "2  https://thumbs4.properati.com/5/SXKr34F_IwG3W_...  \n",
       "\n",
       "[3 rows x 26 columns]"
      ]
     },
     "execution_count": 2,
     "metadata": {},
     "output_type": "execute_result"
    }
   ],
   "source": [
    "#importacion base de datos#\n",
    "df = pd.read_csv(\"Data/properati.csv\", sep=\",\")\n",
    "\n",
    "#print tipo de datos\n",
    "print(df.dtypes)\n",
    "\n",
    "#ejemplo primeros tres\n",
    "df.head(3)"
   ]
  },
  {
   "cell_type": "code",
   "execution_count": 4,
   "metadata": {
    "scrolled": true
   },
   "outputs": [
    {
     "name": "stdout",
     "output_type": "stream",
     "text": [
      "Unnamed: 0                         0\n",
      "operation                          0\n",
      "property_type                      0\n",
      "place_name                        23\n",
      "place_with_parent_names            0\n",
      "country_name                       0\n",
      "state_name                         0\n",
      "geonames_id                    18717\n",
      "lat-lon                        51550\n",
      "lat                            51550\n",
      "lon                            51550\n",
      "price                          20410\n",
      "currency                       20411\n",
      "price_aprox_local_currency     20410\n",
      "price_aprox_usd                20410\n",
      "surface_total_in_m2            39328\n",
      "surface_covered_in_m2          19907\n",
      "price_usd_per_m2               52603\n",
      "price_per_m2                   33562\n",
      "floor                         113321\n",
      "rooms                          73830\n",
      "expenses                      106958\n",
      "properati_url                      0\n",
      "description                        2\n",
      "title                              0\n",
      "image_thumbnail                 3112\n",
      "dtype: int64\n",
      "121220\n"
     ]
    }
   ],
   "source": [
    "#revisamos los campos nulos en el dataframe\n",
    "cant_nulos_por_campo = df.apply(lambda x: x.isnull().sum(), axis=0)\n",
    "print(cant_nulos_por_campo)\n",
    "\n",
    "#estimamos cuanto representa esa informacion faltante sobre el total de los datos que tenemos\n",
    "cant_registros = df.shape[0]\n",
    "print(cant_registros)\n"
   ]
  },
  {
   "cell_type": "code",
   "execution_count": 5,
   "metadata": {},
   "outputs": [
    {
     "name": "stdout",
     "output_type": "stream",
     "text": [
      "Unnamed: 0                     0.000000\n",
      "operation                      0.000000\n",
      "property_type                  0.000000\n",
      "place_name                     0.018974\n",
      "place_with_parent_names        0.000000\n",
      "country_name                   0.000000\n",
      "state_name                     0.000000\n",
      "geonames_id                   15.440521\n",
      "lat-lon                       42.525986\n",
      "lat                           42.525986\n",
      "lon                           42.525986\n",
      "price                         16.837156\n",
      "currency                      16.837981\n",
      "price_aprox_local_currency    16.837156\n",
      "price_aprox_usd               16.837156\n",
      "surface_total_in_m2           32.443491\n",
      "surface_covered_in_m2         16.422208\n",
      "price_usd_per_m2              43.394654\n",
      "price_per_m2                  27.686850\n",
      "floor                         93.483749\n",
      "rooms                         60.905791\n",
      "expenses                      88.234615\n",
      "properati_url                  0.000000\n",
      "description                    0.001650\n",
      "title                          0.000000\n",
      "image_thumbnail                2.567233\n",
      "dtype: float64\n"
     ]
    }
   ],
   "source": [
    "#estimamos cuanto representa esa informacion faltante sobre el total de los datos que tenemos en %\n",
    "\n",
    "porc_nulos_por_campo = 100 * cant_nulos_por_campo / cant_registros\n",
    "print(porc_nulos_por_campo)"
   ]
  },
  {
   "cell_type": "code",
   "execution_count": 148,
   "metadata": {},
   "outputs": [
    {
     "data": {
      "text/plain": [
       "array(['Capital Federal', 'Bs.As. G.B.A. Zona Sur',\n",
       "       'Buenos Aires Costa Atlántica', 'Entre Ríos',\n",
       "       'Bs.As. G.B.A. Zona Norte', 'Santa Fe', 'Córdoba',\n",
       "       'Bs.As. G.B.A. Zona Oeste', 'Misiones', 'Buenos Aires Interior',\n",
       "       'Salta', 'Neuquén', 'Río Negro', 'San Luis', 'Mendoza',\n",
       "       'Corrientes', 'Chubut', 'Tucumán', 'La Pampa', 'Chaco', 'San Juan',\n",
       "       'Santa Cruz', 'Tierra Del Fuego', 'Catamarca',\n",
       "       'Santiago Del Estero', 'Jujuy', 'La Rioja', 'Formosa'],\n",
       "      dtype=object)"
      ]
     },
     "execution_count": 148,
     "metadata": {},
     "output_type": "execute_result"
    }
   ],
   "source": [
    "df[\"state_name\"].unique()"
   ]
  },
  {
   "cell_type": "code",
   "execution_count": 63,
   "metadata": {
    "scrolled": true
   },
   "outputs": [
    {
     "data": {
      "text/html": [
       "<div>\n",
       "<style scoped>\n",
       "    .dataframe tbody tr th:only-of-type {\n",
       "        vertical-align: middle;\n",
       "    }\n",
       "\n",
       "    .dataframe tbody tr th {\n",
       "        vertical-align: top;\n",
       "    }\n",
       "\n",
       "    .dataframe thead th {\n",
       "        text-align: right;\n",
       "    }\n",
       "</style>\n",
       "<table border=\"1\" class=\"dataframe\">\n",
       "  <thead>\n",
       "    <tr style=\"text-align: right;\">\n",
       "      <th></th>\n",
       "      <th>state_name</th>\n",
       "      <th>counter</th>\n",
       "    </tr>\n",
       "  </thead>\n",
       "  <tbody>\n",
       "    <tr>\n",
       "      <th>0</th>\n",
       "      <td>Bs.As. G.B.A. Zona Norte</td>\n",
       "      <td>25560</td>\n",
       "    </tr>\n",
       "    <tr>\n",
       "      <th>1</th>\n",
       "      <td>Bs.As. G.B.A. Zona Oeste</td>\n",
       "      <td>9322</td>\n",
       "    </tr>\n",
       "    <tr>\n",
       "      <th>2</th>\n",
       "      <td>Bs.As. G.B.A. Zona Sur</td>\n",
       "      <td>13952</td>\n",
       "    </tr>\n",
       "    <tr>\n",
       "      <th>3</th>\n",
       "      <td>Buenos Aires Costa Atlántica</td>\n",
       "      <td>10006</td>\n",
       "    </tr>\n",
       "    <tr>\n",
       "      <th>4</th>\n",
       "      <td>Buenos Aires Interior</td>\n",
       "      <td>2291</td>\n",
       "    </tr>\n",
       "    <tr>\n",
       "      <th>5</th>\n",
       "      <td>Capital Federal</td>\n",
       "      <td>32316</td>\n",
       "    </tr>\n",
       "    <tr>\n",
       "      <th>6</th>\n",
       "      <td>Catamarca</td>\n",
       "      <td>27</td>\n",
       "    </tr>\n",
       "    <tr>\n",
       "      <th>7</th>\n",
       "      <td>Chaco</td>\n",
       "      <td>57</td>\n",
       "    </tr>\n",
       "    <tr>\n",
       "      <th>8</th>\n",
       "      <td>Chubut</td>\n",
       "      <td>259</td>\n",
       "    </tr>\n",
       "    <tr>\n",
       "      <th>9</th>\n",
       "      <td>Corrientes</td>\n",
       "      <td>583</td>\n",
       "    </tr>\n",
       "    <tr>\n",
       "      <th>10</th>\n",
       "      <td>Córdoba</td>\n",
       "      <td>12069</td>\n",
       "    </tr>\n",
       "    <tr>\n",
       "      <th>11</th>\n",
       "      <td>Entre Ríos</td>\n",
       "      <td>369</td>\n",
       "    </tr>\n",
       "    <tr>\n",
       "      <th>12</th>\n",
       "      <td>Formosa</td>\n",
       "      <td>65</td>\n",
       "    </tr>\n",
       "    <tr>\n",
       "      <th>13</th>\n",
       "      <td>Jujuy</td>\n",
       "      <td>26</td>\n",
       "    </tr>\n",
       "    <tr>\n",
       "      <th>14</th>\n",
       "      <td>La Pampa</td>\n",
       "      <td>157</td>\n",
       "    </tr>\n",
       "    <tr>\n",
       "      <th>15</th>\n",
       "      <td>La Rioja</td>\n",
       "      <td>4</td>\n",
       "    </tr>\n",
       "    <tr>\n",
       "      <th>16</th>\n",
       "      <td>Mendoza</td>\n",
       "      <td>681</td>\n",
       "    </tr>\n",
       "    <tr>\n",
       "      <th>17</th>\n",
       "      <td>Misiones</td>\n",
       "      <td>464</td>\n",
       "    </tr>\n",
       "    <tr>\n",
       "      <th>18</th>\n",
       "      <td>Neuquén</td>\n",
       "      <td>733</td>\n",
       "    </tr>\n",
       "    <tr>\n",
       "      <th>19</th>\n",
       "      <td>Río Negro</td>\n",
       "      <td>808</td>\n",
       "    </tr>\n",
       "    <tr>\n",
       "      <th>20</th>\n",
       "      <td>Salta</td>\n",
       "      <td>278</td>\n",
       "    </tr>\n",
       "    <tr>\n",
       "      <th>21</th>\n",
       "      <td>San Juan</td>\n",
       "      <td>40</td>\n",
       "    </tr>\n",
       "    <tr>\n",
       "      <th>22</th>\n",
       "      <td>San Luis</td>\n",
       "      <td>252</td>\n",
       "    </tr>\n",
       "    <tr>\n",
       "      <th>23</th>\n",
       "      <td>Santa Cruz</td>\n",
       "      <td>20</td>\n",
       "    </tr>\n",
       "    <tr>\n",
       "      <th>24</th>\n",
       "      <td>Santa Fe</td>\n",
       "      <td>10172</td>\n",
       "    </tr>\n",
       "    <tr>\n",
       "      <th>25</th>\n",
       "      <td>Santiago Del Estero</td>\n",
       "      <td>4</td>\n",
       "    </tr>\n",
       "    <tr>\n",
       "      <th>26</th>\n",
       "      <td>Tierra Del Fuego</td>\n",
       "      <td>31</td>\n",
       "    </tr>\n",
       "    <tr>\n",
       "      <th>27</th>\n",
       "      <td>Tucumán</td>\n",
       "      <td>674</td>\n",
       "    </tr>\n",
       "  </tbody>\n",
       "</table>\n",
       "</div>"
      ],
      "text/plain": [
       "                      state_name  counter\n",
       "0       Bs.As. G.B.A. Zona Norte    25560\n",
       "1       Bs.As. G.B.A. Zona Oeste     9322\n",
       "2         Bs.As. G.B.A. Zona Sur    13952\n",
       "3   Buenos Aires Costa Atlántica    10006\n",
       "4          Buenos Aires Interior     2291\n",
       "5                Capital Federal    32316\n",
       "6                      Catamarca       27\n",
       "7                          Chaco       57\n",
       "8                         Chubut      259\n",
       "9                     Corrientes      583\n",
       "10                       Córdoba    12069\n",
       "11                    Entre Ríos      369\n",
       "12                       Formosa       65\n",
       "13                         Jujuy       26\n",
       "14                      La Pampa      157\n",
       "15                      La Rioja        4\n",
       "16                       Mendoza      681\n",
       "17                      Misiones      464\n",
       "18                       Neuquén      733\n",
       "19                     Río Negro      808\n",
       "20                         Salta      278\n",
       "21                      San Juan       40\n",
       "22                      San Luis      252\n",
       "23                    Santa Cruz       20\n",
       "24                      Santa Fe    10172\n",
       "25           Santiago Del Estero        4\n",
       "26              Tierra Del Fuego       31\n",
       "27                       Tucumán      674"
      ]
     },
     "execution_count": 63,
     "metadata": {},
     "output_type": "execute_result"
    }
   ],
   "source": [
    "pais = df\n",
    "#generamos una nueva columna para realizar el conteo\n",
    "pais['counter'] = 1\n",
    "#generamos una lista acotada de columnas, para centrarnos solo en las variables de estas\n",
    "pais[['state_name','price_per_m2','price_usd_per_m2']]\n",
    "#agrupamos las provincias por provincia ycantidad de casos, totalizando la cantidad total por la columna counter \n",
    "pais_group1 = pais.groupby(by=['state_name'],as_index=False)['counter'].sum()\n",
    "pais_group1"
   ]
  },
  {
   "cell_type": "markdown",
   "metadata": {},
   "source": [
    "# Tratamiento por provincia\n",
    "Decidimos dividir el pais en dos grandes grupos\n",
    "\n",
    "# 1. Interior\n",
    "<ul>\n",
    "<li>Entre Ríos</li>\n",
    "<li>Santa Fe </li>\n",
    "<li>Córdoba</li>\n",
    "<li>Misiones</li>\n",
    "<li>Salta</li>\n",
    "<li>Neuquén</li>\n",
    "<li>Río Negro</li>\n",
    "<li>San Luis</li>\n",
    "<li>Mendoza</li>\n",
    "<li>Corrientes</li>\n",
    "<li>Chubut</li>\n",
    "<li>Tucumán</li>\n",
    "<li>La Pampa</li>\n",
    "<li>Chaco</li>\n",
    "<li>San Juan</li>\n",
    "<li>Santa Cruz</li>\n",
    "<li>Tierra Del Fuego</li>\n",
    "<li>Catamarca</li>\n",
    "<li>Santiago Del Estero</li>\n",
    "<li>Jujuy</li>\n",
    "<li>La Rioja</li>\n",
    "<li>Formosa</li>\n",
    "</ul>\n"
   ]
  },
  {
   "cell_type": "code",
   "execution_count": 6,
   "metadata": {},
   "outputs": [],
   "source": [
    "#aplicamos un Query en StateName de los que no son Buenos Aires y CABA\n",
    "provincias = df.query(' state_name != \"Capital Federal\" & state_name != \"Bs.As. G.B.A. Zona Sur\" & state_name != \"Buenos Aires Costa Atlántica\" & state_name != \"Bs.As. G.B.A. Zona Norte\" & state_name != \"Bs.As. G.B.A. Zona Oeste\" & state_name != \"Buenos Aires Interior\"')"
   ]
  },
  {
   "cell_type": "code",
   "execution_count": 29,
   "metadata": {
    "scrolled": true
   },
   "outputs": [
    {
     "data": {
      "text/plain": [
       "(27773, 28)"
      ]
     },
     "execution_count": 29,
     "metadata": {},
     "output_type": "execute_result"
    }
   ],
   "source": [
    "#tamaño de la máscara\n",
    "provincias.shape"
   ]
  },
  {
   "cell_type": "code",
   "execution_count": 30,
   "metadata": {},
   "outputs": [
    {
     "data": {
      "text/plain": [
       "Index(['Unnamed: 0', 'operation', 'property_type', 'place_name',\n",
       "       'place_with_parent_names', 'country_name', 'state_name', 'geonames_id',\n",
       "       'lat-lon', 'lat', 'lon', 'price', 'currency',\n",
       "       'price_aprox_local_currency', 'price_aprox_usd', 'surface_total_in_m2',\n",
       "       'surface_covered_in_m2', 'price_usd_per_m2', 'price_per_m2', 'floor',\n",
       "       'rooms', 'expenses', 'properati_url', 'description', 'title',\n",
       "       'image_thumbnail', 'nulos', 'counter'],\n",
       "      dtype='object')"
      ]
     },
     "execution_count": 30,
     "metadata": {},
     "output_type": "execute_result"
    }
   ],
   "source": [
    "#imprimimos sus columnas\n",
    "provincias.columns"
   ]
  },
  {
   "cell_type": "code",
   "execution_count": 31,
   "metadata": {},
   "outputs": [
    {
     "data": {
      "text/plain": [
       "18152"
      ]
     },
     "execution_count": 31,
     "metadata": {},
     "output_type": "execute_result"
    }
   ],
   "source": [
    "## Este dato indica cuantos son los valores faltantes en el dataframe                                                                                                      \n",
    "len(provincias) - len(provincias['price_usd_per_m2'].dropna()) "
   ]
  },
  {
   "cell_type": "code",
   "execution_count": 32,
   "metadata": {},
   "outputs": [
    {
     "name": "stderr",
     "output_type": "stream",
     "text": [
      "C:\\Users\\pato-\\anaconda3\\envs\\dhdsblend\\lib\\site-packages\\ipykernel_launcher.py:2: SettingWithCopyWarning:\n",
      "\n",
      "\n",
      "A value is trying to be set on a copy of a slice from a DataFrame.\n",
      "Try using .loc[row_indexer,col_indexer] = value instead\n",
      "\n",
      "See the caveats in the documentation: https://pandas.pydata.org/pandas-docs/stable/user_guide/indexing.html#returning-a-view-versus-a-copy\n",
      "\n"
     ]
    }
   ],
   "source": [
    "#generamos una nueva columna y traemos los nulos\n",
    "provincias['nulos'] = pd.isnull(provincias['price_usd_per_m2'])\n"
   ]
  },
  {
   "cell_type": "code",
   "execution_count": 33,
   "metadata": {
    "scrolled": true
   },
   "outputs": [
    {
     "name": "stderr",
     "output_type": "stream",
     "text": [
      "C:\\Users\\pato-\\anaconda3\\envs\\dhdsblend\\lib\\site-packages\\ipykernel_launcher.py:2: SettingWithCopyWarning:\n",
      "\n",
      "\n",
      "A value is trying to be set on a copy of a slice from a DataFrame.\n",
      "Try using .loc[row_indexer,col_indexer] = value instead\n",
      "\n",
      "See the caveats in the documentation: https://pandas.pydata.org/pandas-docs/stable/user_guide/indexing.html#returning-a-view-versus-a-copy\n",
      "\n"
     ]
    },
    {
     "data": {
      "text/html": [
       "<div>\n",
       "<style scoped>\n",
       "    .dataframe tbody tr th:only-of-type {\n",
       "        vertical-align: middle;\n",
       "    }\n",
       "\n",
       "    .dataframe tbody tr th {\n",
       "        vertical-align: top;\n",
       "    }\n",
       "\n",
       "    .dataframe thead th {\n",
       "        text-align: right;\n",
       "    }\n",
       "</style>\n",
       "<table border=\"1\" class=\"dataframe\">\n",
       "  <thead>\n",
       "    <tr style=\"text-align: right;\">\n",
       "      <th></th>\n",
       "      <th>state_name</th>\n",
       "      <th>price_per_m2</th>\n",
       "      <th>price_usd_per_m2</th>\n",
       "      <th>nulos</th>\n",
       "    </tr>\n",
       "  </thead>\n",
       "  <tbody>\n",
       "    <tr>\n",
       "      <th>5</th>\n",
       "      <td>Entre Ríos</td>\n",
       "      <td>NaN</td>\n",
       "      <td>NaN</td>\n",
       "      <td>True</td>\n",
       "    </tr>\n",
       "    <tr>\n",
       "      <th>9</th>\n",
       "      <td>Santa Fe</td>\n",
       "      <td>NaN</td>\n",
       "      <td>NaN</td>\n",
       "      <td>True</td>\n",
       "    </tr>\n",
       "    <tr>\n",
       "      <th>10</th>\n",
       "      <td>Córdoba</td>\n",
       "      <td>NaN</td>\n",
       "      <td>46.235139</td>\n",
       "      <td>False</td>\n",
       "    </tr>\n",
       "    <tr>\n",
       "      <th>20</th>\n",
       "      <td>Córdoba</td>\n",
       "      <td>NaN</td>\n",
       "      <td>NaN</td>\n",
       "      <td>True</td>\n",
       "    </tr>\n",
       "    <tr>\n",
       "      <th>32</th>\n",
       "      <td>Córdoba</td>\n",
       "      <td>11000.0</td>\n",
       "      <td>616.920400</td>\n",
       "      <td>False</td>\n",
       "    </tr>\n",
       "    <tr>\n",
       "      <th>...</th>\n",
       "      <td>...</td>\n",
       "      <td>...</td>\n",
       "      <td>...</td>\n",
       "      <td>...</td>\n",
       "    </tr>\n",
       "    <tr>\n",
       "      <th>121202</th>\n",
       "      <td>Córdoba</td>\n",
       "      <td>NaN</td>\n",
       "      <td>1625.348077</td>\n",
       "      <td>False</td>\n",
       "    </tr>\n",
       "    <tr>\n",
       "      <th>121203</th>\n",
       "      <td>Córdoba</td>\n",
       "      <td>NaN</td>\n",
       "      <td>1684.753600</td>\n",
       "      <td>False</td>\n",
       "    </tr>\n",
       "    <tr>\n",
       "      <th>121204</th>\n",
       "      <td>Córdoba</td>\n",
       "      <td>NaN</td>\n",
       "      <td>1684.753600</td>\n",
       "      <td>False</td>\n",
       "    </tr>\n",
       "    <tr>\n",
       "      <th>121205</th>\n",
       "      <td>Córdoba</td>\n",
       "      <td>NaN</td>\n",
       "      <td>1690.362000</td>\n",
       "      <td>False</td>\n",
       "    </tr>\n",
       "    <tr>\n",
       "      <th>121206</th>\n",
       "      <td>Córdoba</td>\n",
       "      <td>NaN</td>\n",
       "      <td>1690.362000</td>\n",
       "      <td>False</td>\n",
       "    </tr>\n",
       "  </tbody>\n",
       "</table>\n",
       "<p>27773 rows × 4 columns</p>\n",
       "</div>"
      ],
      "text/plain": [
       "        state_name  price_per_m2  price_usd_per_m2  nulos\n",
       "5       Entre Ríos           NaN               NaN   True\n",
       "9         Santa Fe           NaN               NaN   True\n",
       "10         Córdoba           NaN         46.235139  False\n",
       "20         Córdoba           NaN               NaN   True\n",
       "32         Córdoba       11000.0        616.920400  False\n",
       "...            ...           ...               ...    ...\n",
       "121202     Córdoba           NaN       1625.348077  False\n",
       "121203     Córdoba           NaN       1684.753600  False\n",
       "121204     Córdoba           NaN       1684.753600  False\n",
       "121205     Córdoba           NaN       1690.362000  False\n",
       "121206     Córdoba           NaN       1690.362000  False\n",
       "\n",
       "[27773 rows x 4 columns]"
      ]
     },
     "execution_count": 33,
     "metadata": {},
     "output_type": "execute_result"
    }
   ],
   "source": [
    "#generamos una nueva columna con un para realizar un conteo\n",
    "provincias['counter'] = 1\n",
    "#generamos una lista acotada de columnas, para centrarnos solo en las variables de estas\n",
    "provincias[['state_name','price_per_m2','price_usd_per_m2','nulos']]"
   ]
  },
  {
   "cell_type": "code",
   "execution_count": 59,
   "metadata": {},
   "outputs": [],
   "source": [
    "#agrupamos las provincias por provincia y la columna nulos, totalizando la cantidad de nulos por la columna counter \n",
    "provincias_group1 = provincias.groupby(by=['state_name','nulos'],as_index=False)['counter'].sum()\n"
   ]
  },
  {
   "cell_type": "code",
   "execution_count": 35,
   "metadata": {},
   "outputs": [],
   "source": [
    "#transformamos a string la columna nulos\n",
    "provincias_group1['nulos'] = provincias_group1['nulos'].astype(str)"
   ]
  },
  {
   "cell_type": "code",
   "execution_count": 36,
   "metadata": {
    "scrolled": true
   },
   "outputs": [],
   "source": [
    "#reemplazamos False por \"hay datos \"y True por \"no hay datos\"\n",
    "provincias_group1['nulos'] = provincias_group1.nulos.str.replace('False','Hay datos')\n",
    "provincias_group1['nulos'] = provincias_group1.nulos.str.replace('True','No hay datos')"
   ]
  },
  {
   "cell_type": "code",
   "execution_count": 69,
   "metadata": {},
   "outputs": [
    {
     "data": {
      "application/vnd.plotly.v1+json": {
       "config": {
        "plotlyServerURL": "https://plotly.com"
       },
       "data": [
        {
         "alignmentgroup": "True",
         "hovertemplate": "nulos=False<br>state_name=%{x}<br>counter=%{y}<extra></extra>",
         "legendgroup": "False",
         "marker": {
          "color": "#636efa"
         },
         "name": "False",
         "offsetgroup": "False",
         "orientation": "v",
         "showlegend": true,
         "textposition": "auto",
         "type": "bar",
         "x": [
          "Catamarca",
          "Chaco",
          "Chubut",
          "Corrientes",
          "Córdoba",
          "Entre Ríos",
          "Formosa",
          "Jujuy",
          "La Pampa",
          "La Rioja",
          "Mendoza",
          "Misiones",
          "Neuquén",
          "Río Negro",
          "Salta",
          "San Juan",
          "San Luis",
          "Santa Cruz",
          "Santa Fe",
          "Santiago Del Estero",
          "Tierra Del Fuego",
          "Tucumán"
         ],
         "xaxis": "x",
         "y": [
          6,
          28,
          125,
          315,
          3674,
          82,
          29,
          4,
          10,
          1,
          314,
          193,
          240,
          215,
          63,
          2,
          137,
          11,
          3960,
          3,
          28,
          181
         ],
         "yaxis": "y"
        },
        {
         "alignmentgroup": "True",
         "hovertemplate": "nulos=True<br>state_name=%{x}<br>counter=%{y}<extra></extra>",
         "legendgroup": "True",
         "marker": {
          "color": "#EF553B"
         },
         "name": "True",
         "offsetgroup": "True",
         "orientation": "v",
         "showlegend": true,
         "textposition": "auto",
         "type": "bar",
         "x": [
          "Catamarca",
          "Chaco",
          "Chubut",
          "Corrientes",
          "Córdoba",
          "Entre Ríos",
          "Formosa",
          "Jujuy",
          "La Pampa",
          "La Rioja",
          "Mendoza",
          "Misiones",
          "Neuquén",
          "Río Negro",
          "Salta",
          "San Juan",
          "San Luis",
          "Santa Cruz",
          "Santa Fe",
          "Santiago Del Estero",
          "Tierra Del Fuego",
          "Tucumán"
         ],
         "xaxis": "x",
         "y": [
          21,
          29,
          134,
          268,
          8395,
          287,
          36,
          22,
          147,
          3,
          367,
          271,
          493,
          593,
          215,
          38,
          115,
          9,
          6212,
          1,
          3,
          493
         ],
         "yaxis": "y"
        }
       ],
       "layout": {
        "autosize": true,
        "barmode": "group",
        "legend": {
         "title": {
          "text": "nulos"
         },
         "tracegroupgap": 0
        },
        "template": {
         "data": {
          "bar": [
           {
            "error_x": {
             "color": "#2a3f5f"
            },
            "error_y": {
             "color": "#2a3f5f"
            },
            "marker": {
             "line": {
              "color": "#E5ECF6",
              "width": 0.5
             }
            },
            "type": "bar"
           }
          ],
          "barpolar": [
           {
            "marker": {
             "line": {
              "color": "#E5ECF6",
              "width": 0.5
             }
            },
            "type": "barpolar"
           }
          ],
          "carpet": [
           {
            "aaxis": {
             "endlinecolor": "#2a3f5f",
             "gridcolor": "white",
             "linecolor": "white",
             "minorgridcolor": "white",
             "startlinecolor": "#2a3f5f"
            },
            "baxis": {
             "endlinecolor": "#2a3f5f",
             "gridcolor": "white",
             "linecolor": "white",
             "minorgridcolor": "white",
             "startlinecolor": "#2a3f5f"
            },
            "type": "carpet"
           }
          ],
          "choropleth": [
           {
            "colorbar": {
             "outlinewidth": 0,
             "ticks": ""
            },
            "type": "choropleth"
           }
          ],
          "contour": [
           {
            "colorbar": {
             "outlinewidth": 0,
             "ticks": ""
            },
            "colorscale": [
             [
              0,
              "#0d0887"
             ],
             [
              0.1111111111111111,
              "#46039f"
             ],
             [
              0.2222222222222222,
              "#7201a8"
             ],
             [
              0.3333333333333333,
              "#9c179e"
             ],
             [
              0.4444444444444444,
              "#bd3786"
             ],
             [
              0.5555555555555556,
              "#d8576b"
             ],
             [
              0.6666666666666666,
              "#ed7953"
             ],
             [
              0.7777777777777778,
              "#fb9f3a"
             ],
             [
              0.8888888888888888,
              "#fdca26"
             ],
             [
              1,
              "#f0f921"
             ]
            ],
            "type": "contour"
           }
          ],
          "contourcarpet": [
           {
            "colorbar": {
             "outlinewidth": 0,
             "ticks": ""
            },
            "type": "contourcarpet"
           }
          ],
          "heatmap": [
           {
            "colorbar": {
             "outlinewidth": 0,
             "ticks": ""
            },
            "colorscale": [
             [
              0,
              "#0d0887"
             ],
             [
              0.1111111111111111,
              "#46039f"
             ],
             [
              0.2222222222222222,
              "#7201a8"
             ],
             [
              0.3333333333333333,
              "#9c179e"
             ],
             [
              0.4444444444444444,
              "#bd3786"
             ],
             [
              0.5555555555555556,
              "#d8576b"
             ],
             [
              0.6666666666666666,
              "#ed7953"
             ],
             [
              0.7777777777777778,
              "#fb9f3a"
             ],
             [
              0.8888888888888888,
              "#fdca26"
             ],
             [
              1,
              "#f0f921"
             ]
            ],
            "type": "heatmap"
           }
          ],
          "heatmapgl": [
           {
            "colorbar": {
             "outlinewidth": 0,
             "ticks": ""
            },
            "colorscale": [
             [
              0,
              "#0d0887"
             ],
             [
              0.1111111111111111,
              "#46039f"
             ],
             [
              0.2222222222222222,
              "#7201a8"
             ],
             [
              0.3333333333333333,
              "#9c179e"
             ],
             [
              0.4444444444444444,
              "#bd3786"
             ],
             [
              0.5555555555555556,
              "#d8576b"
             ],
             [
              0.6666666666666666,
              "#ed7953"
             ],
             [
              0.7777777777777778,
              "#fb9f3a"
             ],
             [
              0.8888888888888888,
              "#fdca26"
             ],
             [
              1,
              "#f0f921"
             ]
            ],
            "type": "heatmapgl"
           }
          ],
          "histogram": [
           {
            "marker": {
             "colorbar": {
              "outlinewidth": 0,
              "ticks": ""
             }
            },
            "type": "histogram"
           }
          ],
          "histogram2d": [
           {
            "colorbar": {
             "outlinewidth": 0,
             "ticks": ""
            },
            "colorscale": [
             [
              0,
              "#0d0887"
             ],
             [
              0.1111111111111111,
              "#46039f"
             ],
             [
              0.2222222222222222,
              "#7201a8"
             ],
             [
              0.3333333333333333,
              "#9c179e"
             ],
             [
              0.4444444444444444,
              "#bd3786"
             ],
             [
              0.5555555555555556,
              "#d8576b"
             ],
             [
              0.6666666666666666,
              "#ed7953"
             ],
             [
              0.7777777777777778,
              "#fb9f3a"
             ],
             [
              0.8888888888888888,
              "#fdca26"
             ],
             [
              1,
              "#f0f921"
             ]
            ],
            "type": "histogram2d"
           }
          ],
          "histogram2dcontour": [
           {
            "colorbar": {
             "outlinewidth": 0,
             "ticks": ""
            },
            "colorscale": [
             [
              0,
              "#0d0887"
             ],
             [
              0.1111111111111111,
              "#46039f"
             ],
             [
              0.2222222222222222,
              "#7201a8"
             ],
             [
              0.3333333333333333,
              "#9c179e"
             ],
             [
              0.4444444444444444,
              "#bd3786"
             ],
             [
              0.5555555555555556,
              "#d8576b"
             ],
             [
              0.6666666666666666,
              "#ed7953"
             ],
             [
              0.7777777777777778,
              "#fb9f3a"
             ],
             [
              0.8888888888888888,
              "#fdca26"
             ],
             [
              1,
              "#f0f921"
             ]
            ],
            "type": "histogram2dcontour"
           }
          ],
          "mesh3d": [
           {
            "colorbar": {
             "outlinewidth": 0,
             "ticks": ""
            },
            "type": "mesh3d"
           }
          ],
          "parcoords": [
           {
            "line": {
             "colorbar": {
              "outlinewidth": 0,
              "ticks": ""
             }
            },
            "type": "parcoords"
           }
          ],
          "pie": [
           {
            "automargin": true,
            "type": "pie"
           }
          ],
          "scatter": [
           {
            "marker": {
             "colorbar": {
              "outlinewidth": 0,
              "ticks": ""
             }
            },
            "type": "scatter"
           }
          ],
          "scatter3d": [
           {
            "line": {
             "colorbar": {
              "outlinewidth": 0,
              "ticks": ""
             }
            },
            "marker": {
             "colorbar": {
              "outlinewidth": 0,
              "ticks": ""
             }
            },
            "type": "scatter3d"
           }
          ],
          "scattercarpet": [
           {
            "marker": {
             "colorbar": {
              "outlinewidth": 0,
              "ticks": ""
             }
            },
            "type": "scattercarpet"
           }
          ],
          "scattergeo": [
           {
            "marker": {
             "colorbar": {
              "outlinewidth": 0,
              "ticks": ""
             }
            },
            "type": "scattergeo"
           }
          ],
          "scattergl": [
           {
            "marker": {
             "colorbar": {
              "outlinewidth": 0,
              "ticks": ""
             }
            },
            "type": "scattergl"
           }
          ],
          "scattermapbox": [
           {
            "marker": {
             "colorbar": {
              "outlinewidth": 0,
              "ticks": ""
             }
            },
            "type": "scattermapbox"
           }
          ],
          "scatterpolar": [
           {
            "marker": {
             "colorbar": {
              "outlinewidth": 0,
              "ticks": ""
             }
            },
            "type": "scatterpolar"
           }
          ],
          "scatterpolargl": [
           {
            "marker": {
             "colorbar": {
              "outlinewidth": 0,
              "ticks": ""
             }
            },
            "type": "scatterpolargl"
           }
          ],
          "scatterternary": [
           {
            "marker": {
             "colorbar": {
              "outlinewidth": 0,
              "ticks": ""
             }
            },
            "type": "scatterternary"
           }
          ],
          "surface": [
           {
            "colorbar": {
             "outlinewidth": 0,
             "ticks": ""
            },
            "colorscale": [
             [
              0,
              "#0d0887"
             ],
             [
              0.1111111111111111,
              "#46039f"
             ],
             [
              0.2222222222222222,
              "#7201a8"
             ],
             [
              0.3333333333333333,
              "#9c179e"
             ],
             [
              0.4444444444444444,
              "#bd3786"
             ],
             [
              0.5555555555555556,
              "#d8576b"
             ],
             [
              0.6666666666666666,
              "#ed7953"
             ],
             [
              0.7777777777777778,
              "#fb9f3a"
             ],
             [
              0.8888888888888888,
              "#fdca26"
             ],
             [
              1,
              "#f0f921"
             ]
            ],
            "type": "surface"
           }
          ],
          "table": [
           {
            "cells": {
             "fill": {
              "color": "#EBF0F8"
             },
             "line": {
              "color": "white"
             }
            },
            "header": {
             "fill": {
              "color": "#C8D4E3"
             },
             "line": {
              "color": "white"
             }
            },
            "type": "table"
           }
          ]
         },
         "layout": {
          "annotationdefaults": {
           "arrowcolor": "#2a3f5f",
           "arrowhead": 0,
           "arrowwidth": 1
          },
          "coloraxis": {
           "colorbar": {
            "outlinewidth": 0,
            "ticks": ""
           }
          },
          "colorscale": {
           "diverging": [
            [
             0,
             "#8e0152"
            ],
            [
             0.1,
             "#c51b7d"
            ],
            [
             0.2,
             "#de77ae"
            ],
            [
             0.3,
             "#f1b6da"
            ],
            [
             0.4,
             "#fde0ef"
            ],
            [
             0.5,
             "#f7f7f7"
            ],
            [
             0.6,
             "#e6f5d0"
            ],
            [
             0.7,
             "#b8e186"
            ],
            [
             0.8,
             "#7fbc41"
            ],
            [
             0.9,
             "#4d9221"
            ],
            [
             1,
             "#276419"
            ]
           ],
           "sequential": [
            [
             0,
             "#0d0887"
            ],
            [
             0.1111111111111111,
             "#46039f"
            ],
            [
             0.2222222222222222,
             "#7201a8"
            ],
            [
             0.3333333333333333,
             "#9c179e"
            ],
            [
             0.4444444444444444,
             "#bd3786"
            ],
            [
             0.5555555555555556,
             "#d8576b"
            ],
            [
             0.6666666666666666,
             "#ed7953"
            ],
            [
             0.7777777777777778,
             "#fb9f3a"
            ],
            [
             0.8888888888888888,
             "#fdca26"
            ],
            [
             1,
             "#f0f921"
            ]
           ],
           "sequentialminus": [
            [
             0,
             "#0d0887"
            ],
            [
             0.1111111111111111,
             "#46039f"
            ],
            [
             0.2222222222222222,
             "#7201a8"
            ],
            [
             0.3333333333333333,
             "#9c179e"
            ],
            [
             0.4444444444444444,
             "#bd3786"
            ],
            [
             0.5555555555555556,
             "#d8576b"
            ],
            [
             0.6666666666666666,
             "#ed7953"
            ],
            [
             0.7777777777777778,
             "#fb9f3a"
            ],
            [
             0.8888888888888888,
             "#fdca26"
            ],
            [
             1,
             "#f0f921"
            ]
           ]
          },
          "colorway": [
           "#636efa",
           "#EF553B",
           "#00cc96",
           "#ab63fa",
           "#FFA15A",
           "#19d3f3",
           "#FF6692",
           "#B6E880",
           "#FF97FF",
           "#FECB52"
          ],
          "font": {
           "color": "#2a3f5f"
          },
          "geo": {
           "bgcolor": "white",
           "lakecolor": "white",
           "landcolor": "#E5ECF6",
           "showlakes": true,
           "showland": true,
           "subunitcolor": "white"
          },
          "hoverlabel": {
           "align": "left"
          },
          "hovermode": "closest",
          "mapbox": {
           "style": "light"
          },
          "paper_bgcolor": "white",
          "plot_bgcolor": "#E5ECF6",
          "polar": {
           "angularaxis": {
            "gridcolor": "white",
            "linecolor": "white",
            "ticks": ""
           },
           "bgcolor": "#E5ECF6",
           "radialaxis": {
            "gridcolor": "white",
            "linecolor": "white",
            "ticks": ""
           }
          },
          "scene": {
           "xaxis": {
            "backgroundcolor": "#E5ECF6",
            "gridcolor": "white",
            "gridwidth": 2,
            "linecolor": "white",
            "showbackground": true,
            "ticks": "",
            "zerolinecolor": "white"
           },
           "yaxis": {
            "backgroundcolor": "#E5ECF6",
            "gridcolor": "white",
            "gridwidth": 2,
            "linecolor": "white",
            "showbackground": true,
            "ticks": "",
            "zerolinecolor": "white"
           },
           "zaxis": {
            "backgroundcolor": "#E5ECF6",
            "gridcolor": "white",
            "gridwidth": 2,
            "linecolor": "white",
            "showbackground": true,
            "ticks": "",
            "zerolinecolor": "white"
           }
          },
          "shapedefaults": {
           "line": {
            "color": "#2a3f5f"
           }
          },
          "ternary": {
           "aaxis": {
            "gridcolor": "white",
            "linecolor": "white",
            "ticks": ""
           },
           "baxis": {
            "gridcolor": "white",
            "linecolor": "white",
            "ticks": ""
           },
           "bgcolor": "#E5ECF6",
           "caxis": {
            "gridcolor": "white",
            "linecolor": "white",
            "ticks": ""
           }
          },
          "title": {
           "x": 0.05
          },
          "xaxis": {
           "automargin": true,
           "gridcolor": "white",
           "linecolor": "white",
           "ticks": "",
           "title": {
            "standoff": 15
           },
           "zerolinecolor": "white",
           "zerolinewidth": 2
          },
          "yaxis": {
           "automargin": true,
           "gridcolor": "white",
           "linecolor": "white",
           "ticks": "",
           "title": {
            "standoff": 15
           },
           "zerolinecolor": "white",
           "zerolinewidth": 2
          }
         }
        },
        "title": {
         "text": "Cantidad de datos por Provincia - Interior"
        },
        "xaxis": {
         "anchor": "y",
         "autorange": true,
         "domain": [
          0,
          1
         ],
         "range": [
          -0.5,
          21.5
         ],
         "title": {
          "text": "state_name"
         },
         "type": "category"
        },
        "yaxis": {
         "anchor": "x",
         "autorange": true,
         "domain": [
          0,
          1
         ],
         "range": [
          0,
          8836.842105263158
         ],
         "title": {
          "text": "counter"
         },
         "type": "linear"
        }
       }
      },
      "image/png": "[encoded data removed]",
      "text/html": [
       "<div>\n",
       "        \n",
       "        \n",
       "            <div id=\"38b3111b-6057-4eda-8376-94d5b2a8869f\" class=\"plotly-graph-div\" style=\"height:400px; width:100%;\"></div>\n",
       "            <script type=\"text/javascript\">\n",
       "                require([\"plotly\"], function(Plotly) {\n",
       "                    window.PLOTLYENV=window.PLOTLYENV || {};\n",
       "                    \n",
       "                if (document.getElementById(\"38b3111b-6057-4eda-8376-94d5b2a8869f\")) {\n",
       "                    Plotly.newPlot(\n",
       "                        '38b3111b-6057-4eda-8376-94d5b2a8869f',\n",
       "                        [{\"alignmentgroup\": \"True\", \"hovertemplate\": \"nulos=False<br>state_name=%{x}<br>counter=%{y}<extra></extra>\", \"legendgroup\": \"False\", \"marker\": {\"color\": \"#636efa\"}, \"name\": \"False\", \"offsetgroup\": \"False\", \"orientation\": \"v\", \"showlegend\": true, \"textposition\": \"auto\", \"type\": \"bar\", \"x\": [\"Catamarca\", \"Chaco\", \"Chubut\", \"Corrientes\", \"C\\u00f3rdoba\", \"Entre R\\u00edos\", \"Formosa\", \"Jujuy\", \"La Pampa\", \"La Rioja\", \"Mendoza\", \"Misiones\", \"Neuqu\\u00e9n\", \"R\\u00edo Negro\", \"Salta\", \"San Juan\", \"San Luis\", \"Santa Cruz\", \"Santa Fe\", \"Santiago Del Estero\", \"Tierra Del Fuego\", \"Tucum\\u00e1n\"], \"xaxis\": \"x\", \"y\": [6, 28, 125, 315, 3674, 82, 29, 4, 10, 1, 314, 193, 240, 215, 63, 2, 137, 11, 3960, 3, 28, 181], \"yaxis\": \"y\"}, {\"alignmentgroup\": \"True\", \"hovertemplate\": \"nulos=True<br>state_name=%{x}<br>counter=%{y}<extra></extra>\", \"legendgroup\": \"True\", \"marker\": {\"color\": \"#EF553B\"}, \"name\": \"True\", \"offsetgroup\": \"True\", \"orientation\": \"v\", \"showlegend\": true, \"textposition\": \"auto\", \"type\": \"bar\", \"x\": [\"Catamarca\", \"Chaco\", \"Chubut\", \"Corrientes\", \"C\\u00f3rdoba\", \"Entre R\\u00edos\", \"Formosa\", \"Jujuy\", \"La Pampa\", \"La Rioja\", \"Mendoza\", \"Misiones\", \"Neuqu\\u00e9n\", \"R\\u00edo Negro\", \"Salta\", \"San Juan\", \"San Luis\", \"Santa Cruz\", \"Santa Fe\", \"Santiago Del Estero\", \"Tierra Del Fuego\", \"Tucum\\u00e1n\"], \"xaxis\": \"x\", \"y\": [21, 29, 134, 268, 8395, 287, 36, 22, 147, 3, 367, 271, 493, 593, 215, 38, 115, 9, 6212, 1, 3, 493], \"yaxis\": \"y\"}],\n",
       "                        {\"barmode\": \"group\", \"height\": 400, \"legend\": {\"title\": {\"text\": \"nulos\"}, \"tracegroupgap\": 0}, \"template\": {\"data\": {\"bar\": [{\"error_x\": {\"color\": \"#2a3f5f\"}, \"error_y\": {\"color\": \"#2a3f5f\"}, \"marker\": {\"line\": {\"color\": \"#E5ECF6\", \"width\": 0.5}}, \"type\": \"bar\"}], \"barpolar\": [{\"marker\": {\"line\": {\"color\": \"#E5ECF6\", \"width\": 0.5}}, \"type\": \"barpolar\"}], \"carpet\": [{\"aaxis\": {\"endlinecolor\": \"#2a3f5f\", \"gridcolor\": \"white\", \"linecolor\": \"white\", \"minorgridcolor\": \"white\", \"startlinecolor\": \"#2a3f5f\"}, \"baxis\": {\"endlinecolor\": \"#2a3f5f\", \"gridcolor\": \"white\", \"linecolor\": \"white\", \"minorgridcolor\": \"white\", \"startlinecolor\": \"#2a3f5f\"}, \"type\": \"carpet\"}], \"choropleth\": [{\"colorbar\": {\"outlinewidth\": 0, \"ticks\": \"\"}, \"type\": \"choropleth\"}], \"contour\": [{\"colorbar\": {\"outlinewidth\": 0, \"ticks\": \"\"}, \"colorscale\": [[0.0, \"#0d0887\"], [0.1111111111111111, \"#46039f\"], [0.2222222222222222, \"#7201a8\"], [0.3333333333333333, \"#9c179e\"], [0.4444444444444444, \"#bd3786\"], [0.5555555555555556, \"#d8576b\"], [0.6666666666666666, \"#ed7953\"], [0.7777777777777778, \"#fb9f3a\"], [0.8888888888888888, \"#fdca26\"], [1.0, \"#f0f921\"]], \"type\": \"contour\"}], \"contourcarpet\": [{\"colorbar\": {\"outlinewidth\": 0, \"ticks\": \"\"}, \"type\": \"contourcarpet\"}], \"heatmap\": [{\"colorbar\": {\"outlinewidth\": 0, \"ticks\": \"\"}, \"colorscale\": [[0.0, \"#0d0887\"], [0.1111111111111111, \"#46039f\"], [0.2222222222222222, \"#7201a8\"], [0.3333333333333333, \"#9c179e\"], [0.4444444444444444, \"#bd3786\"], [0.5555555555555556, \"#d8576b\"], [0.6666666666666666, \"#ed7953\"], [0.7777777777777778, \"#fb9f3a\"], [0.8888888888888888, \"#fdca26\"], [1.0, \"#f0f921\"]], \"type\": \"heatmap\"}], \"heatmapgl\": [{\"colorbar\": {\"outlinewidth\": 0, \"ticks\": \"\"}, \"colorscale\": [[0.0, \"#0d0887\"], [0.1111111111111111, \"#46039f\"], [0.2222222222222222, \"#7201a8\"], [0.3333333333333333, \"#9c179e\"], [0.4444444444444444, \"#bd3786\"], [0.5555555555555556, \"#d8576b\"], [0.6666666666666666, \"#ed7953\"], [0.7777777777777778, \"#fb9f3a\"], [0.8888888888888888, \"#fdca26\"], [1.0, \"#f0f921\"]], \"type\": \"heatmapgl\"}], \"histogram\": [{\"marker\": {\"colorbar\": {\"outlinewidth\": 0, \"ticks\": \"\"}}, \"type\": \"histogram\"}], \"histogram2d\": [{\"colorbar\": {\"outlinewidth\": 0, \"ticks\": \"\"}, \"colorscale\": [[0.0, \"#0d0887\"], [0.1111111111111111, \"#46039f\"], [0.2222222222222222, \"#7201a8\"], [0.3333333333333333, \"#9c179e\"], [0.4444444444444444, \"#bd3786\"], [0.5555555555555556, \"#d8576b\"], [0.6666666666666666, \"#ed7953\"], [0.7777777777777778, \"#fb9f3a\"], [0.8888888888888888, \"#fdca26\"], [1.0, \"#f0f921\"]], \"type\": \"histogram2d\"}], \"histogram2dcontour\": [{\"colorbar\": {\"outlinewidth\": 0, \"ticks\": \"\"}, \"colorscale\": [[0.0, \"#0d0887\"], [0.1111111111111111, \"#46039f\"], [0.2222222222222222, \"#7201a8\"], [0.3333333333333333, \"#9c179e\"], [0.4444444444444444, \"#bd3786\"], [0.5555555555555556, \"#d8576b\"], [0.6666666666666666, \"#ed7953\"], [0.7777777777777778, \"#fb9f3a\"], [0.8888888888888888, \"#fdca26\"], [1.0, \"#f0f921\"]], \"type\": \"histogram2dcontour\"}], \"mesh3d\": [{\"colorbar\": {\"outlinewidth\": 0, \"ticks\": \"\"}, \"type\": \"mesh3d\"}], \"parcoords\": [{\"line\": {\"colorbar\": {\"outlinewidth\": 0, \"ticks\": \"\"}}, \"type\": \"parcoords\"}], \"pie\": [{\"automargin\": true, \"type\": \"pie\"}], \"scatter\": [{\"marker\": {\"colorbar\": {\"outlinewidth\": 0, \"ticks\": \"\"}}, \"type\": \"scatter\"}], \"scatter3d\": [{\"line\": {\"colorbar\": {\"outlinewidth\": 0, \"ticks\": \"\"}}, \"marker\": {\"colorbar\": {\"outlinewidth\": 0, \"ticks\": \"\"}}, \"type\": \"scatter3d\"}], \"scattercarpet\": [{\"marker\": {\"colorbar\": {\"outlinewidth\": 0, \"ticks\": \"\"}}, \"type\": \"scattercarpet\"}], \"scattergeo\": [{\"marker\": {\"colorbar\": {\"outlinewidth\": 0, \"ticks\": \"\"}}, \"type\": \"scattergeo\"}], \"scattergl\": [{\"marker\": {\"colorbar\": {\"outlinewidth\": 0, \"ticks\": \"\"}}, \"type\": \"scattergl\"}], \"scattermapbox\": [{\"marker\": {\"colorbar\": {\"outlinewidth\": 0, \"ticks\": \"\"}}, \"type\": \"scattermapbox\"}], \"scatterpolar\": [{\"marker\": {\"colorbar\": {\"outlinewidth\": 0, \"ticks\": \"\"}}, \"type\": \"scatterpolar\"}], \"scatterpolargl\": [{\"marker\": {\"colorbar\": {\"outlinewidth\": 0, \"ticks\": \"\"}}, \"type\": \"scatterpolargl\"}], \"scatterternary\": [{\"marker\": {\"colorbar\": {\"outlinewidth\": 0, \"ticks\": \"\"}}, \"type\": \"scatterternary\"}], \"surface\": [{\"colorbar\": {\"outlinewidth\": 0, \"ticks\": \"\"}, \"colorscale\": [[0.0, \"#0d0887\"], [0.1111111111111111, \"#46039f\"], [0.2222222222222222, \"#7201a8\"], [0.3333333333333333, \"#9c179e\"], [0.4444444444444444, \"#bd3786\"], [0.5555555555555556, \"#d8576b\"], [0.6666666666666666, \"#ed7953\"], [0.7777777777777778, \"#fb9f3a\"], [0.8888888888888888, \"#fdca26\"], [1.0, \"#f0f921\"]], \"type\": \"surface\"}], \"table\": [{\"cells\": {\"fill\": {\"color\": \"#EBF0F8\"}, \"line\": {\"color\": \"white\"}}, \"header\": {\"fill\": {\"color\": \"#C8D4E3\"}, \"line\": {\"color\": \"white\"}}, \"type\": \"table\"}]}, \"layout\": {\"annotationdefaults\": {\"arrowcolor\": \"#2a3f5f\", \"arrowhead\": 0, \"arrowwidth\": 1}, \"coloraxis\": {\"colorbar\": {\"outlinewidth\": 0, \"ticks\": \"\"}}, \"colorscale\": {\"diverging\": [[0, \"#8e0152\"], [0.1, \"#c51b7d\"], [0.2, \"#de77ae\"], [0.3, \"#f1b6da\"], [0.4, \"#fde0ef\"], [0.5, \"#f7f7f7\"], [0.6, \"#e6f5d0\"], [0.7, \"#b8e186\"], [0.8, \"#7fbc41\"], [0.9, \"#4d9221\"], [1, \"#276419\"]], \"sequential\": [[0.0, \"#0d0887\"], [0.1111111111111111, \"#46039f\"], [0.2222222222222222, \"#7201a8\"], [0.3333333333333333, \"#9c179e\"], [0.4444444444444444, \"#bd3786\"], [0.5555555555555556, \"#d8576b\"], [0.6666666666666666, \"#ed7953\"], [0.7777777777777778, \"#fb9f3a\"], [0.8888888888888888, \"#fdca26\"], [1.0, \"#f0f921\"]], \"sequentialminus\": [[0.0, \"#0d0887\"], [0.1111111111111111, \"#46039f\"], [0.2222222222222222, \"#7201a8\"], [0.3333333333333333, \"#9c179e\"], [0.4444444444444444, \"#bd3786\"], [0.5555555555555556, \"#d8576b\"], [0.6666666666666666, \"#ed7953\"], [0.7777777777777778, \"#fb9f3a\"], [0.8888888888888888, \"#fdca26\"], [1.0, \"#f0f921\"]]}, \"colorway\": [\"#636efa\", \"#EF553B\", \"#00cc96\", \"#ab63fa\", \"#FFA15A\", \"#19d3f3\", \"#FF6692\", \"#B6E880\", \"#FF97FF\", \"#FECB52\"], \"font\": {\"color\": \"#2a3f5f\"}, \"geo\": {\"bgcolor\": \"white\", \"lakecolor\": \"white\", \"landcolor\": \"#E5ECF6\", \"showlakes\": true, \"showland\": true, \"subunitcolor\": \"white\"}, \"hoverlabel\": {\"align\": \"left\"}, \"hovermode\": \"closest\", \"mapbox\": {\"style\": \"light\"}, \"paper_bgcolor\": \"white\", \"plot_bgcolor\": \"#E5ECF6\", \"polar\": {\"angularaxis\": {\"gridcolor\": \"white\", \"linecolor\": \"white\", \"ticks\": \"\"}, \"bgcolor\": \"#E5ECF6\", \"radialaxis\": {\"gridcolor\": \"white\", \"linecolor\": \"white\", \"ticks\": \"\"}}, \"scene\": {\"xaxis\": {\"backgroundcolor\": \"#E5ECF6\", \"gridcolor\": \"white\", \"gridwidth\": 2, \"linecolor\": \"white\", \"showbackground\": true, \"ticks\": \"\", \"zerolinecolor\": \"white\"}, \"yaxis\": {\"backgroundcolor\": \"#E5ECF6\", \"gridcolor\": \"white\", \"gridwidth\": 2, \"linecolor\": \"white\", \"showbackground\": true, \"ticks\": \"\", \"zerolinecolor\": \"white\"}, \"zaxis\": {\"backgroundcolor\": \"#E5ECF6\", \"gridcolor\": \"white\", \"gridwidth\": 2, \"linecolor\": \"white\", \"showbackground\": true, \"ticks\": \"\", \"zerolinecolor\": \"white\"}}, \"shapedefaults\": {\"line\": {\"color\": \"#2a3f5f\"}}, \"ternary\": {\"aaxis\": {\"gridcolor\": \"white\", \"linecolor\": \"white\", \"ticks\": \"\"}, \"baxis\": {\"gridcolor\": \"white\", \"linecolor\": \"white\", \"ticks\": \"\"}, \"bgcolor\": \"#E5ECF6\", \"caxis\": {\"gridcolor\": \"white\", \"linecolor\": \"white\", \"ticks\": \"\"}}, \"title\": {\"x\": 0.05}, \"xaxis\": {\"automargin\": true, \"gridcolor\": \"white\", \"linecolor\": \"white\", \"ticks\": \"\", \"title\": {\"standoff\": 15}, \"zerolinecolor\": \"white\", \"zerolinewidth\": 2}, \"yaxis\": {\"automargin\": true, \"gridcolor\": \"white\", \"linecolor\": \"white\", \"ticks\": \"\", \"title\": {\"standoff\": 15}, \"zerolinecolor\": \"white\", \"zerolinewidth\": 2}}}, \"title\": {\"text\": \"Cantidad de datos por Provincia - Interior\"}, \"xaxis\": {\"anchor\": \"y\", \"domain\": [0.0, 1.0], \"title\": {\"text\": \"state_name\"}}, \"yaxis\": {\"anchor\": \"x\", \"domain\": [0.0, 1.0], \"title\": {\"text\": \"counter\"}}},\n",
       "                        {\"responsive\": true}\n",
       "                    ).then(function(){\n",
       "                            \n",
       "var gd = document.getElementById('38b3111b-6057-4eda-8376-94d5b2a8869f');\n",
       "var x = new MutationObserver(function (mutations, observer) {{\n",
       "        var display = window.getComputedStyle(gd).display;\n",
       "        if (!display || display === 'none') {{\n",
       "            console.log([gd, 'removed!']);\n",
       "            Plotly.purge(gd);\n",
       "            observer.disconnect();\n",
       "        }}\n",
       "}});\n",
       "\n",
       "// Listen for the removal of the full notebook cells\n",
       "var notebookContainer = gd.closest('#notebook-container');\n",
       "if (notebookContainer) {{\n",
       "    x.observe(notebookContainer, {childList: true});\n",
       "}}\n",
       "\n",
       "// Listen for the clearing of the current output cell\n",
       "var outputEl = gd.closest('.output');\n",
       "if (outputEl) {{\n",
       "    x.observe(outputEl, {childList: true});\n",
       "}}\n",
       "\n",
       "                        })\n",
       "                };\n",
       "                });\n",
       "            </script>\n",
       "        </div>"
      ]
     },
     "metadata": {},
     "output_type": "display_data"
    }
   ],
   "source": [
    "#graficamos los datos faltantes y completos por provincia\n",
    "fig = px.bar(provincias_group1, x=\"state_name\", y=\"counter\",\n",
    "             color='nulos', barmode='group',\n",
    "             height=400, title= \"Cantidad de datos por Provincia - Interior\")\n",
    "fig.show()"
   ]
  },
  {
   "cell_type": "markdown",
   "metadata": {},
   "source": [
    "## Definición sobre variable preponderante\n",
    "Creemos que la variable mas preponderante en el analisis propuesto por la compañia es el de Precio por metro cuadrado y habiendo dos columnas, una en pesos y otra en dolares, hemos decidido revisar la que está en dolares ya que dicha moneda es mas homogea y se ve afectada en menor medida por el paso del tiempo y la inflación, haciendo comparables los diversos valores. \n"
   ]
  },
  {
   "cell_type": "code",
   "execution_count": 38,
   "metadata": {
    "scrolled": true
   },
   "outputs": [],
   "source": [
    "#agrupamos nuevamente por provincia trayendo la variable 'price_usd_per_m2' y las variables agregadas de mínimo y máximo\n",
    "provincias_group2 = provincias.groupby(by=['state_name'],as_index=False)['price_usd_per_m2'].agg(['min', 'max'])"
   ]
  },
  {
   "cell_type": "code",
   "execution_count": 39,
   "metadata": {
    "scrolled": true
   },
   "outputs": [],
   "source": [
    "#reseteamos el index\n",
    "provincias_group2.reset_index(inplace=True)"
   ]
  },
  {
   "cell_type": "code",
   "execution_count": 40,
   "metadata": {
    "scrolled": true
   },
   "outputs": [],
   "source": [
    "#generamos una nueva columna, la de rango que es la diferencia entre el precio maximmo y minimo\n",
    "provincias_group2['rango'] = provincias_group2['max'] - provincias_group2['min']"
   ]
  },
  {
   "cell_type": "code",
   "execution_count": 41,
   "metadata": {
    "scrolled": true
   },
   "outputs": [
    {
     "data": {
      "text/html": [
       "<div>\n",
       "<style scoped>\n",
       "    .dataframe tbody tr th:only-of-type {\n",
       "        vertical-align: middle;\n",
       "    }\n",
       "\n",
       "    .dataframe tbody tr th {\n",
       "        vertical-align: top;\n",
       "    }\n",
       "\n",
       "    .dataframe thead th {\n",
       "        text-align: right;\n",
       "    }\n",
       "</style>\n",
       "<table border=\"1\" class=\"dataframe\">\n",
       "  <thead>\n",
       "    <tr style=\"text-align: right;\">\n",
       "      <th></th>\n",
       "      <th>state_name</th>\n",
       "      <th>min</th>\n",
       "      <th>max</th>\n",
       "      <th>rango</th>\n",
       "    </tr>\n",
       "  </thead>\n",
       "  <tbody>\n",
       "    <tr>\n",
       "      <th>0</th>\n",
       "      <td>Catamarca</td>\n",
       "      <td>145.454545</td>\n",
       "      <td>1666.666667</td>\n",
       "      <td>1521.212121</td>\n",
       "    </tr>\n",
       "    <tr>\n",
       "      <th>1</th>\n",
       "      <td>Chaco</td>\n",
       "      <td>163.033942</td>\n",
       "      <td>2386.363636</td>\n",
       "      <td>2223.329695</td>\n",
       "    </tr>\n",
       "    <tr>\n",
       "      <th>2</th>\n",
       "      <td>Chubut</td>\n",
       "      <td>13.500000</td>\n",
       "      <td>14540.550661</td>\n",
       "      <td>14527.050661</td>\n",
       "    </tr>\n",
       "    <tr>\n",
       "      <th>3</th>\n",
       "      <td>Corrientes</td>\n",
       "      <td>83.682008</td>\n",
       "      <td>3500.000000</td>\n",
       "      <td>3416.317992</td>\n",
       "    </tr>\n",
       "    <tr>\n",
       "      <th>4</th>\n",
       "      <td>Córdoba</td>\n",
       "      <td>1.184571</td>\n",
       "      <td>30000.000000</td>\n",
       "      <td>29998.815429</td>\n",
       "    </tr>\n",
       "    <tr>\n",
       "      <th>5</th>\n",
       "      <td>Entre Ríos</td>\n",
       "      <td>5.608367</td>\n",
       "      <td>24038.461538</td>\n",
       "      <td>24032.853171</td>\n",
       "    </tr>\n",
       "    <tr>\n",
       "      <th>6</th>\n",
       "      <td>Formosa</td>\n",
       "      <td>1490.540000</td>\n",
       "      <td>1514.259219</td>\n",
       "      <td>23.719219</td>\n",
       "    </tr>\n",
       "    <tr>\n",
       "      <th>7</th>\n",
       "      <td>Jujuy</td>\n",
       "      <td>210.313787</td>\n",
       "      <td>1682.510200</td>\n",
       "      <td>1472.196412</td>\n",
       "    </tr>\n",
       "    <tr>\n",
       "      <th>8</th>\n",
       "      <td>La Pampa</td>\n",
       "      <td>392.585700</td>\n",
       "      <td>1402.091875</td>\n",
       "      <td>1009.506175</td>\n",
       "    </tr>\n",
       "    <tr>\n",
       "      <th>9</th>\n",
       "      <td>La Rioja</td>\n",
       "      <td>243.029233</td>\n",
       "      <td>243.029233</td>\n",
       "      <td>0.000000</td>\n",
       "    </tr>\n",
       "    <tr>\n",
       "      <th>10</th>\n",
       "      <td>Mendoza</td>\n",
       "      <td>16.467066</td>\n",
       "      <td>31578.947368</td>\n",
       "      <td>31562.480303</td>\n",
       "    </tr>\n",
       "    <tr>\n",
       "      <th>11</th>\n",
       "      <td>Misiones</td>\n",
       "      <td>9.875610</td>\n",
       "      <td>4206.275000</td>\n",
       "      <td>4196.399390</td>\n",
       "    </tr>\n",
       "    <tr>\n",
       "      <th>12</th>\n",
       "      <td>Neuquén</td>\n",
       "      <td>13.566680</td>\n",
       "      <td>17073.170732</td>\n",
       "      <td>17059.604051</td>\n",
       "    </tr>\n",
       "    <tr>\n",
       "      <th>13</th>\n",
       "      <td>Río Negro</td>\n",
       "      <td>82.039262</td>\n",
       "      <td>17857.142857</td>\n",
       "      <td>17775.103595</td>\n",
       "    </tr>\n",
       "    <tr>\n",
       "      <th>14</th>\n",
       "      <td>Salta</td>\n",
       "      <td>51.746877</td>\n",
       "      <td>23750.000000</td>\n",
       "      <td>23698.253123</td>\n",
       "    </tr>\n",
       "    <tr>\n",
       "      <th>15</th>\n",
       "      <td>San Juan</td>\n",
       "      <td>104.999120</td>\n",
       "      <td>3191.489362</td>\n",
       "      <td>3086.490242</td>\n",
       "    </tr>\n",
       "    <tr>\n",
       "      <th>16</th>\n",
       "      <td>San Luis</td>\n",
       "      <td>11.216735</td>\n",
       "      <td>33333.333333</td>\n",
       "      <td>33322.116598</td>\n",
       "    </tr>\n",
       "    <tr>\n",
       "      <th>17</th>\n",
       "      <td>Santa Cruz</td>\n",
       "      <td>315.969583</td>\n",
       "      <td>2166.666667</td>\n",
       "      <td>1850.697083</td>\n",
       "    </tr>\n",
       "    <tr>\n",
       "      <th>18</th>\n",
       "      <td>Santa Fe</td>\n",
       "      <td>0.600000</td>\n",
       "      <td>57382.080000</td>\n",
       "      <td>57381.480000</td>\n",
       "    </tr>\n",
       "    <tr>\n",
       "      <th>19</th>\n",
       "      <td>Santiago Del Estero</td>\n",
       "      <td>72.000000</td>\n",
       "      <td>513.308136</td>\n",
       "      <td>441.308136</td>\n",
       "    </tr>\n",
       "    <tr>\n",
       "      <th>20</th>\n",
       "      <td>Tierra Del Fuego</td>\n",
       "      <td>362.207042</td>\n",
       "      <td>3371.428571</td>\n",
       "      <td>3009.221530</td>\n",
       "    </tr>\n",
       "    <tr>\n",
       "      <th>21</th>\n",
       "      <td>Tucumán</td>\n",
       "      <td>30.399476</td>\n",
       "      <td>21666.666667</td>\n",
       "      <td>21636.267190</td>\n",
       "    </tr>\n",
       "  </tbody>\n",
       "</table>\n",
       "</div>"
      ],
      "text/plain": [
       "             state_name          min           max         rango\n",
       "0             Catamarca   145.454545   1666.666667   1521.212121\n",
       "1                 Chaco   163.033942   2386.363636   2223.329695\n",
       "2                Chubut    13.500000  14540.550661  14527.050661\n",
       "3            Corrientes    83.682008   3500.000000   3416.317992\n",
       "4               Córdoba     1.184571  30000.000000  29998.815429\n",
       "5            Entre Ríos     5.608367  24038.461538  24032.853171\n",
       "6               Formosa  1490.540000   1514.259219     23.719219\n",
       "7                 Jujuy   210.313787   1682.510200   1472.196412\n",
       "8              La Pampa   392.585700   1402.091875   1009.506175\n",
       "9              La Rioja   243.029233    243.029233      0.000000\n",
       "10              Mendoza    16.467066  31578.947368  31562.480303\n",
       "11             Misiones     9.875610   4206.275000   4196.399390\n",
       "12              Neuquén    13.566680  17073.170732  17059.604051\n",
       "13            Río Negro    82.039262  17857.142857  17775.103595\n",
       "14                Salta    51.746877  23750.000000  23698.253123\n",
       "15             San Juan   104.999120   3191.489362   3086.490242\n",
       "16             San Luis    11.216735  33333.333333  33322.116598\n",
       "17           Santa Cruz   315.969583   2166.666667   1850.697083\n",
       "18             Santa Fe     0.600000  57382.080000  57381.480000\n",
       "19  Santiago Del Estero    72.000000    513.308136    441.308136\n",
       "20     Tierra Del Fuego   362.207042   3371.428571   3009.221530\n",
       "21              Tucumán    30.399476  21666.666667  21636.267190"
      ]
     },
     "execution_count": 41,
     "metadata": {},
     "output_type": "execute_result"
    }
   ],
   "source": [
    "provincias_group2"
   ]
  },
  {
   "cell_type": "markdown",
   "metadata": {},
   "source": [
    "# 2. Buenos Aires y CABA\n",
    "\n",
    "<ul>\n",
    "<li>Capital Federal</li>\n",
    "<li>Bs.As. G.B.A. Zona Sur</li>\n",
    "<li>Buenos Aires Costa Atlántica</li>\n",
    "<li>Bs.As. G.B.A. Zona Norte</li>\n",
    "<li>Bs.As. G.B.A. Zona Oeste</li> \n",
    "<li>Buenos Aires Interior</li>\n",
    "</ul>\n"
   ]
  },
  {
   "cell_type": "code",
   "execution_count": 93,
   "metadata": {},
   "outputs": [],
   "source": [
    "#generamos un query por el positivo por todas las jurisdicciones mensionadas y luego una por cada una, para poder analizarlas \n",
    "baires = df.query(' state_name == \"Capital Federal\" | state_name == \"Bs.As. G.B.A. Zona Sur\" | state_name == \"Buenos Aires Costa Atlántica\" | state_name == \"Bs.As. G.B.A. Zona Norte\" | state_name == \"Bs.As. G.B.A. Zona Oeste\" | state_name == \"Buenos Aires Interior\"')\n",
    "caba = df.query(' state_name == \"Capital Federal\"')\n",
    "bsas_sur = df.query(' state_name == \"Bs.As. G.B.A. Zona Sur\"')\n",
    "bsas_costa = df.query(' state_name == \"Buenos Aires Costa Atlántica\"')\n",
    "bsas_norte = df.query(' state_name == \"Bs.As. G.B.A. Zona Norte\"')\n",
    "bsas_oeste = df.query(' state_name == \"Bs.As. G.B.A. Zona Oeste\"')\n",
    "bsas_interior = df.query(' state_name == \"Buenos Aires Interior\"')\n"
   ]
  },
  {
   "cell_type": "code",
   "execution_count": 94,
   "metadata": {},
   "outputs": [
    {
     "data": {
      "text/plain": [
       "(93447, 27)"
      ]
     },
     "execution_count": 94,
     "metadata": {},
     "output_type": "execute_result"
    }
   ],
   "source": [
    "#tamaño de la máscara\n",
    "baires.shape"
   ]
  },
  {
   "cell_type": "code",
   "execution_count": 95,
   "metadata": {},
   "outputs": [
    {
     "data": {
      "text/plain": [
       "34451"
      ]
     },
     "execution_count": 95,
     "metadata": {},
     "output_type": "execute_result"
    }
   ],
   "source": [
    "## Este dato indica cuantos son los valores faltantes en el dataframe                                                                                                      \n",
    "len(baires) - len(baires['price_usd_per_m2'].dropna()) "
   ]
  },
  {
   "cell_type": "code",
   "execution_count": 96,
   "metadata": {
    "scrolled": true
   },
   "outputs": [
    {
     "name": "stderr",
     "output_type": "stream",
     "text": [
      "C:\\Users\\pato-\\anaconda3\\envs\\dhdsblend\\lib\\site-packages\\ipykernel_launcher.py:3: SettingWithCopyWarning:\n",
      "\n",
      "\n",
      "A value is trying to be set on a copy of a slice from a DataFrame.\n",
      "Try using .loc[row_indexer,col_indexer] = value instead\n",
      "\n",
      "See the caveats in the documentation: https://pandas.pydata.org/pandas-docs/stable/user_guide/indexing.html#returning-a-view-versus-a-copy\n",
      "\n",
      "C:\\Users\\pato-\\anaconda3\\envs\\dhdsblend\\lib\\site-packages\\ipykernel_launcher.py:4: SettingWithCopyWarning:\n",
      "\n",
      "\n",
      "A value is trying to be set on a copy of a slice from a DataFrame.\n",
      "Try using .loc[row_indexer,col_indexer] = value instead\n",
      "\n",
      "See the caveats in the documentation: https://pandas.pydata.org/pandas-docs/stable/user_guide/indexing.html#returning-a-view-versus-a-copy\n",
      "\n",
      "C:\\Users\\pato-\\anaconda3\\envs\\dhdsblend\\lib\\site-packages\\ipykernel_launcher.py:5: SettingWithCopyWarning:\n",
      "\n",
      "\n",
      "A value is trying to be set on a copy of a slice from a DataFrame.\n",
      "Try using .loc[row_indexer,col_indexer] = value instead\n",
      "\n",
      "See the caveats in the documentation: https://pandas.pydata.org/pandas-docs/stable/user_guide/indexing.html#returning-a-view-versus-a-copy\n",
      "\n",
      "C:\\Users\\pato-\\anaconda3\\envs\\dhdsblend\\lib\\site-packages\\ipykernel_launcher.py:6: SettingWithCopyWarning:\n",
      "\n",
      "\n",
      "A value is trying to be set on a copy of a slice from a DataFrame.\n",
      "Try using .loc[row_indexer,col_indexer] = value instead\n",
      "\n",
      "See the caveats in the documentation: https://pandas.pydata.org/pandas-docs/stable/user_guide/indexing.html#returning-a-view-versus-a-copy\n",
      "\n",
      "C:\\Users\\pato-\\anaconda3\\envs\\dhdsblend\\lib\\site-packages\\ipykernel_launcher.py:7: SettingWithCopyWarning:\n",
      "\n",
      "\n",
      "A value is trying to be set on a copy of a slice from a DataFrame.\n",
      "Try using .loc[row_indexer,col_indexer] = value instead\n",
      "\n",
      "See the caveats in the documentation: https://pandas.pydata.org/pandas-docs/stable/user_guide/indexing.html#returning-a-view-versus-a-copy\n",
      "\n",
      "C:\\Users\\pato-\\anaconda3\\envs\\dhdsblend\\lib\\site-packages\\ipykernel_launcher.py:8: SettingWithCopyWarning:\n",
      "\n",
      "\n",
      "A value is trying to be set on a copy of a slice from a DataFrame.\n",
      "Try using .loc[row_indexer,col_indexer] = value instead\n",
      "\n",
      "See the caveats in the documentation: https://pandas.pydata.org/pandas-docs/stable/user_guide/indexing.html#returning-a-view-versus-a-copy\n",
      "\n",
      "C:\\Users\\pato-\\anaconda3\\envs\\dhdsblend\\lib\\site-packages\\ipykernel_launcher.py:9: SettingWithCopyWarning:\n",
      "\n",
      "\n",
      "A value is trying to be set on a copy of a slice from a DataFrame.\n",
      "Try using .loc[row_indexer,col_indexer] = value instead\n",
      "\n",
      "See the caveats in the documentation: https://pandas.pydata.org/pandas-docs/stable/user_guide/indexing.html#returning-a-view-versus-a-copy\n",
      "\n"
     ]
    }
   ],
   "source": [
    "##generamos una nueva columnam en cada una de las querys y traemos los nulos de la columna de precios en dolares por metro cuadrado\n",
    "\n",
    "baires['nulos'] = pd.isnull(baires['price_usd_per_m2'])\n",
    "caba['nulos'] = pd.isnull(caba['price_usd_per_m2'])\n",
    "bsas_sur['nulos'] = pd.isnull(bsas_sur['price_usd_per_m2'])\n",
    "bsas_norte['nulos'] = pd.isnull(bsas_norte['price_usd_per_m2'])\n",
    "bsas_costa['nulos'] = pd.isnull(bsas_costa['price_usd_per_m2'])\n",
    "bsas_oeste['nulos'] = pd.isnull(bsas_oeste['price_usd_per_m2'])\n",
    "bsas_interior['nulos'] = pd.isnull(bsas_interior['price_usd_per_m2'])\n",
    "\n"
   ]
  },
  {
   "cell_type": "code",
   "execution_count": 97,
   "metadata": {},
   "outputs": [
    {
     "data": {
      "text/html": [
       "<div>\n",
       "<style scoped>\n",
       "    .dataframe tbody tr th:only-of-type {\n",
       "        vertical-align: middle;\n",
       "    }\n",
       "\n",
       "    .dataframe tbody tr th {\n",
       "        vertical-align: top;\n",
       "    }\n",
       "\n",
       "    .dataframe thead th {\n",
       "        text-align: right;\n",
       "    }\n",
       "</style>\n",
       "<table border=\"1\" class=\"dataframe\">\n",
       "  <thead>\n",
       "    <tr style=\"text-align: right;\">\n",
       "      <th></th>\n",
       "      <th>Unnamed: 0</th>\n",
       "      <th>operation</th>\n",
       "      <th>property_type</th>\n",
       "      <th>place_name</th>\n",
       "      <th>place_with_parent_names</th>\n",
       "      <th>country_name</th>\n",
       "      <th>state_name</th>\n",
       "      <th>geonames_id</th>\n",
       "      <th>lat-lon</th>\n",
       "      <th>lat</th>\n",
       "      <th>...</th>\n",
       "      <th>price_per_m2</th>\n",
       "      <th>floor</th>\n",
       "      <th>rooms</th>\n",
       "      <th>expenses</th>\n",
       "      <th>properati_url</th>\n",
       "      <th>description</th>\n",
       "      <th>title</th>\n",
       "      <th>image_thumbnail</th>\n",
       "      <th>counter</th>\n",
       "      <th>nulos</th>\n",
       "    </tr>\n",
       "  </thead>\n",
       "  <tbody>\n",
       "    <tr>\n",
       "      <th>0</th>\n",
       "      <td>0</td>\n",
       "      <td>sell</td>\n",
       "      <td>PH</td>\n",
       "      <td>Mataderos</td>\n",
       "      <td>|Argentina|Capital Federal|Mataderos|</td>\n",
       "      <td>Argentina</td>\n",
       "      <td>Capital Federal</td>\n",
       "      <td>3430787.0</td>\n",
       "      <td>-34.6618237,-58.5088387</td>\n",
       "      <td>-34.661824</td>\n",
       "      <td>...</td>\n",
       "      <td>1550.000000</td>\n",
       "      <td>NaN</td>\n",
       "      <td>NaN</td>\n",
       "      <td>NaN</td>\n",
       "      <td>http://www.properati.com.ar/15bo8_venta_ph_mat...</td>\n",
       "      <td>2 AMBIENTES TIPO CASA PLANTA BAJA POR PASILLO,...</td>\n",
       "      <td>2 AMB TIPO CASA SIN EXPENSAS EN PB</td>\n",
       "      <td>https://thumbs4.properati.com/8/BluUYiHJLhgIIK...</td>\n",
       "      <td>1</td>\n",
       "      <td>False</td>\n",
       "    </tr>\n",
       "    <tr>\n",
       "      <th>1</th>\n",
       "      <td>1</td>\n",
       "      <td>sell</td>\n",
       "      <td>apartment</td>\n",
       "      <td>La Plata</td>\n",
       "      <td>|Argentina|Bs.As. G.B.A. Zona Sur|La Plata|</td>\n",
       "      <td>Argentina</td>\n",
       "      <td>Bs.As. G.B.A. Zona Sur</td>\n",
       "      <td>3432039.0</td>\n",
       "      <td>-34.9038831,-57.9643295</td>\n",
       "      <td>-34.903883</td>\n",
       "      <td>...</td>\n",
       "      <td>NaN</td>\n",
       "      <td>NaN</td>\n",
       "      <td>NaN</td>\n",
       "      <td>NaN</td>\n",
       "      <td>http://www.properati.com.ar/15bob_venta_depart...</td>\n",
       "      <td>Venta de departamento en décimo piso al frente...</td>\n",
       "      <td>VENTA Depto 2 dorm. a estrenar 7 e/ 36 y 37   ...</td>\n",
       "      <td>https://thumbs4.properati.com/7/ikpVBu2ztHA7jv...</td>\n",
       "      <td>1</td>\n",
       "      <td>True</td>\n",
       "    </tr>\n",
       "    <tr>\n",
       "      <th>2</th>\n",
       "      <td>2</td>\n",
       "      <td>sell</td>\n",
       "      <td>apartment</td>\n",
       "      <td>Mataderos</td>\n",
       "      <td>|Argentina|Capital Federal|Mataderos|</td>\n",
       "      <td>Argentina</td>\n",
       "      <td>Capital Federal</td>\n",
       "      <td>3430787.0</td>\n",
       "      <td>-34.6522615,-58.5229825</td>\n",
       "      <td>-34.652262</td>\n",
       "      <td>...</td>\n",
       "      <td>1309.090909</td>\n",
       "      <td>NaN</td>\n",
       "      <td>NaN</td>\n",
       "      <td>NaN</td>\n",
       "      <td>http://www.properati.com.ar/15bod_venta_depart...</td>\n",
       "      <td>2 AMBIENTES 3ER PISO LATERAL LIVING COMEDOR AM...</td>\n",
       "      <td>2 AMB 3ER PISO CON ASCENSOR APTO CREDITO</td>\n",
       "      <td>https://thumbs4.properati.com/5/SXKr34F_IwG3W_...</td>\n",
       "      <td>1</td>\n",
       "      <td>False</td>\n",
       "    </tr>\n",
       "  </tbody>\n",
       "</table>\n",
       "<p>3 rows × 28 columns</p>\n",
       "</div>"
      ],
      "text/plain": [
       "   Unnamed: 0 operation property_type place_name  \\\n",
       "0           0      sell            PH  Mataderos   \n",
       "1           1      sell     apartment   La Plata   \n",
       "2           2      sell     apartment  Mataderos   \n",
       "\n",
       "                       place_with_parent_names country_name  \\\n",
       "0        |Argentina|Capital Federal|Mataderos|    Argentina   \n",
       "1  |Argentina|Bs.As. G.B.A. Zona Sur|La Plata|    Argentina   \n",
       "2        |Argentina|Capital Federal|Mataderos|    Argentina   \n",
       "\n",
       "               state_name  geonames_id                  lat-lon        lat  \\\n",
       "0         Capital Federal    3430787.0  -34.6618237,-58.5088387 -34.661824   \n",
       "1  Bs.As. G.B.A. Zona Sur    3432039.0  -34.9038831,-57.9643295 -34.903883   \n",
       "2         Capital Federal    3430787.0  -34.6522615,-58.5229825 -34.652262   \n",
       "\n",
       "   ...  price_per_m2  floor rooms  expenses  \\\n",
       "0  ...   1550.000000    NaN   NaN       NaN   \n",
       "1  ...           NaN    NaN   NaN       NaN   \n",
       "2  ...   1309.090909    NaN   NaN       NaN   \n",
       "\n",
       "                                       properati_url  \\\n",
       "0  http://www.properati.com.ar/15bo8_venta_ph_mat...   \n",
       "1  http://www.properati.com.ar/15bob_venta_depart...   \n",
       "2  http://www.properati.com.ar/15bod_venta_depart...   \n",
       "\n",
       "                                         description  \\\n",
       "0  2 AMBIENTES TIPO CASA PLANTA BAJA POR PASILLO,...   \n",
       "1  Venta de departamento en décimo piso al frente...   \n",
       "2  2 AMBIENTES 3ER PISO LATERAL LIVING COMEDOR AM...   \n",
       "\n",
       "                                               title  \\\n",
       "0                 2 AMB TIPO CASA SIN EXPENSAS EN PB   \n",
       "1  VENTA Depto 2 dorm. a estrenar 7 e/ 36 y 37   ...   \n",
       "2           2 AMB 3ER PISO CON ASCENSOR APTO CREDITO   \n",
       "\n",
       "                                     image_thumbnail  counter  nulos  \n",
       "0  https://thumbs4.properati.com/8/BluUYiHJLhgIIK...        1  False  \n",
       "1  https://thumbs4.properati.com/7/ikpVBu2ztHA7jv...        1   True  \n",
       "2  https://thumbs4.properati.com/5/SXKr34F_IwG3W_...        1  False  \n",
       "\n",
       "[3 rows x 28 columns]"
      ]
     },
     "execution_count": 97,
     "metadata": {},
     "output_type": "execute_result"
    }
   ],
   "source": [
    "baires.head(3)"
   ]
  },
  {
   "cell_type": "code",
   "execution_count": 98,
   "metadata": {
    "scrolled": true
   },
   "outputs": [
    {
     "name": "stderr",
     "output_type": "stream",
     "text": [
      "C:\\Users\\pato-\\anaconda3\\envs\\dhdsblend\\lib\\site-packages\\ipykernel_launcher.py:2: SettingWithCopyWarning:\n",
      "\n",
      "\n",
      "A value is trying to be set on a copy of a slice from a DataFrame.\n",
      "Try using .loc[row_indexer,col_indexer] = value instead\n",
      "\n",
      "See the caveats in the documentation: https://pandas.pydata.org/pandas-docs/stable/user_guide/indexing.html#returning-a-view-versus-a-copy\n",
      "\n",
      "C:\\Users\\pato-\\anaconda3\\envs\\dhdsblend\\lib\\site-packages\\ipykernel_launcher.py:3: SettingWithCopyWarning:\n",
      "\n",
      "\n",
      "A value is trying to be set on a copy of a slice from a DataFrame.\n",
      "Try using .loc[row_indexer,col_indexer] = value instead\n",
      "\n",
      "See the caveats in the documentation: https://pandas.pydata.org/pandas-docs/stable/user_guide/indexing.html#returning-a-view-versus-a-copy\n",
      "\n",
      "C:\\Users\\pato-\\anaconda3\\envs\\dhdsblend\\lib\\site-packages\\ipykernel_launcher.py:4: SettingWithCopyWarning:\n",
      "\n",
      "\n",
      "A value is trying to be set on a copy of a slice from a DataFrame.\n",
      "Try using .loc[row_indexer,col_indexer] = value instead\n",
      "\n",
      "See the caveats in the documentation: https://pandas.pydata.org/pandas-docs/stable/user_guide/indexing.html#returning-a-view-versus-a-copy\n",
      "\n",
      "C:\\Users\\pato-\\anaconda3\\envs\\dhdsblend\\lib\\site-packages\\ipykernel_launcher.py:5: SettingWithCopyWarning:\n",
      "\n",
      "\n",
      "A value is trying to be set on a copy of a slice from a DataFrame.\n",
      "Try using .loc[row_indexer,col_indexer] = value instead\n",
      "\n",
      "See the caveats in the documentation: https://pandas.pydata.org/pandas-docs/stable/user_guide/indexing.html#returning-a-view-versus-a-copy\n",
      "\n",
      "C:\\Users\\pato-\\anaconda3\\envs\\dhdsblend\\lib\\site-packages\\ipykernel_launcher.py:6: SettingWithCopyWarning:\n",
      "\n",
      "\n",
      "A value is trying to be set on a copy of a slice from a DataFrame.\n",
      "Try using .loc[row_indexer,col_indexer] = value instead\n",
      "\n",
      "See the caveats in the documentation: https://pandas.pydata.org/pandas-docs/stable/user_guide/indexing.html#returning-a-view-versus-a-copy\n",
      "\n",
      "C:\\Users\\pato-\\anaconda3\\envs\\dhdsblend\\lib\\site-packages\\ipykernel_launcher.py:7: SettingWithCopyWarning:\n",
      "\n",
      "\n",
      "A value is trying to be set on a copy of a slice from a DataFrame.\n",
      "Try using .loc[row_indexer,col_indexer] = value instead\n",
      "\n",
      "See the caveats in the documentation: https://pandas.pydata.org/pandas-docs/stable/user_guide/indexing.html#returning-a-view-versus-a-copy\n",
      "\n",
      "C:\\Users\\pato-\\anaconda3\\envs\\dhdsblend\\lib\\site-packages\\ipykernel_launcher.py:8: SettingWithCopyWarning:\n",
      "\n",
      "\n",
      "A value is trying to be set on a copy of a slice from a DataFrame.\n",
      "Try using .loc[row_indexer,col_indexer] = value instead\n",
      "\n",
      "See the caveats in the documentation: https://pandas.pydata.org/pandas-docs/stable/user_guide/indexing.html#returning-a-view-versus-a-copy\n",
      "\n"
     ]
    },
    {
     "data": {
      "text/html": [
       "<div>\n",
       "<style scoped>\n",
       "    .dataframe tbody tr th:only-of-type {\n",
       "        vertical-align: middle;\n",
       "    }\n",
       "\n",
       "    .dataframe tbody tr th {\n",
       "        vertical-align: top;\n",
       "    }\n",
       "\n",
       "    .dataframe thead th {\n",
       "        text-align: right;\n",
       "    }\n",
       "</style>\n",
       "<table border=\"1\" class=\"dataframe\">\n",
       "  <thead>\n",
       "    <tr style=\"text-align: right;\">\n",
       "      <th></th>\n",
       "      <th>state_name</th>\n",
       "      <th>price_per_m2</th>\n",
       "      <th>price_usd_per_m2</th>\n",
       "      <th>nulos</th>\n",
       "    </tr>\n",
       "  </thead>\n",
       "  <tbody>\n",
       "    <tr>\n",
       "      <th>0</th>\n",
       "      <td>Capital Federal</td>\n",
       "      <td>1550.000000</td>\n",
       "      <td>1127.272727</td>\n",
       "      <td>False</td>\n",
       "    </tr>\n",
       "    <tr>\n",
       "      <th>1</th>\n",
       "      <td>Bs.As. G.B.A. Zona Sur</td>\n",
       "      <td>NaN</td>\n",
       "      <td>NaN</td>\n",
       "      <td>True</td>\n",
       "    </tr>\n",
       "    <tr>\n",
       "      <th>2</th>\n",
       "      <td>Capital Federal</td>\n",
       "      <td>1309.090909</td>\n",
       "      <td>1309.090909</td>\n",
       "      <td>False</td>\n",
       "    </tr>\n",
       "    <tr>\n",
       "      <th>3</th>\n",
       "      <td>Capital Federal</td>\n",
       "      <td>NaN</td>\n",
       "      <td>NaN</td>\n",
       "      <td>True</td>\n",
       "    </tr>\n",
       "    <tr>\n",
       "      <th>4</th>\n",
       "      <td>Buenos Aires Costa Atlántica</td>\n",
       "      <td>1828.571429</td>\n",
       "      <td>1828.571429</td>\n",
       "      <td>False</td>\n",
       "    </tr>\n",
       "    <tr>\n",
       "      <th>...</th>\n",
       "      <td>...</td>\n",
       "      <td>...</td>\n",
       "      <td>...</td>\n",
       "      <td>...</td>\n",
       "    </tr>\n",
       "    <tr>\n",
       "      <th>121215</th>\n",
       "      <td>Capital Federal</td>\n",
       "      <td>9354.838710</td>\n",
       "      <td>7699.115044</td>\n",
       "      <td>False</td>\n",
       "    </tr>\n",
       "    <tr>\n",
       "      <th>121216</th>\n",
       "      <td>Bs.As. G.B.A. Zona Norte</td>\n",
       "      <td>1383.333333</td>\n",
       "      <td>1383.333333</td>\n",
       "      <td>False</td>\n",
       "    </tr>\n",
       "    <tr>\n",
       "      <th>121217</th>\n",
       "      <td>Capital Federal</td>\n",
       "      <td>3371.794872</td>\n",
       "      <td>2858.695652</td>\n",
       "      <td>False</td>\n",
       "    </tr>\n",
       "    <tr>\n",
       "      <th>121218</th>\n",
       "      <td>Buenos Aires Costa Atlántica</td>\n",
       "      <td>1997.916667</td>\n",
       "      <td>1997.916667</td>\n",
       "      <td>False</td>\n",
       "    </tr>\n",
       "    <tr>\n",
       "      <th>121219</th>\n",
       "      <td>Capital Federal</td>\n",
       "      <td>1675.324675</td>\n",
       "      <td>1675.324675</td>\n",
       "      <td>False</td>\n",
       "    </tr>\n",
       "  </tbody>\n",
       "</table>\n",
       "<p>93447 rows × 4 columns</p>\n",
       "</div>"
      ],
      "text/plain": [
       "                          state_name  price_per_m2  price_usd_per_m2  nulos\n",
       "0                    Capital Federal   1550.000000       1127.272727  False\n",
       "1             Bs.As. G.B.A. Zona Sur           NaN               NaN   True\n",
       "2                    Capital Federal   1309.090909       1309.090909  False\n",
       "3                    Capital Federal           NaN               NaN   True\n",
       "4       Buenos Aires Costa Atlántica   1828.571429       1828.571429  False\n",
       "...                              ...           ...               ...    ...\n",
       "121215               Capital Federal   9354.838710       7699.115044  False\n",
       "121216      Bs.As. G.B.A. Zona Norte   1383.333333       1383.333333  False\n",
       "121217               Capital Federal   3371.794872       2858.695652  False\n",
       "121218  Buenos Aires Costa Atlántica   1997.916667       1997.916667  False\n",
       "121219               Capital Federal   1675.324675       1675.324675  False\n",
       "\n",
       "[93447 rows x 4 columns]"
      ]
     },
     "execution_count": 98,
     "metadata": {},
     "output_type": "execute_result"
    }
   ],
   "source": [
    "#generamos una columna con el valor 1 en cada query\n",
    "baires['counter'] = 1\n",
    "caba['counter'] = 1\n",
    "bsas_costa['counter'] = 1\n",
    "bsas_norte['counter'] = 1\n",
    "bsas_oeste['counter'] = 1\n",
    "bsas_sur['counter'] = 1\n",
    "bsas_interior['counter'] = 1\n",
    "\n",
    "#generamos vista abreviada de las columnas provincia, precio x metro cuadrado, precio por metro cuadrado en dolares y la columna nulos\n",
    "baires[['state_name','price_per_m2','price_usd_per_m2','nulos']]"
   ]
  },
  {
   "cell_type": "code",
   "execution_count": 99,
   "metadata": {},
   "outputs": [],
   "source": [
    "#agrupamos las provincias por provincia y la columna nulos, totalizando la cantidad de nulos por la columna counter \n",
    "baires_group1 = baires.groupby(by=['state_name','nulos'],as_index=False)['counter'].sum()"
   ]
  },
  {
   "cell_type": "code",
   "execution_count": 100,
   "metadata": {},
   "outputs": [],
   "source": [
    "#transformamos la columna nulo en string\n",
    "baires_group1['nulos'] = baires_group1['nulos'].astype(str)"
   ]
  },
  {
   "cell_type": "code",
   "execution_count": 101,
   "metadata": {},
   "outputs": [],
   "source": [
    "#reemplazamos False por \"hay datos \"y True por \"no hay datos\"\n",
    "baires_group1['nulos'] = baires_group1.nulos.str.replace('False','Hay datos')\n",
    "baires_group1['nulos'] = baires_group1.nulos.str.replace('True','No hay datos')"
   ]
  },
  {
   "cell_type": "code",
   "execution_count": 102,
   "metadata": {},
   "outputs": [
    {
     "data": {
      "application/vnd.plotly.v1+json": {
       "config": {
        "plotlyServerURL": "https://plotly.com"
       },
       "data": [
        {
         "alignmentgroup": "True",
         "hovertemplate": "nulos=Hay datos<br>state_name=%{x}<br>counter=%{y}<extra></extra>",
         "legendgroup": "Hay datos",
         "marker": {
          "color": "#636efa"
         },
         "name": "Hay datos",
         "offsetgroup": "Hay datos",
         "orientation": "v",
         "showlegend": true,
         "textposition": "auto",
         "type": "bar",
         "x": [
          "Bs.As. G.B.A. Zona Norte",
          "Bs.As. G.B.A. Zona Oeste",
          "Bs.As. G.B.A. Zona Sur",
          "Buenos Aires Costa Atlántica",
          "Buenos Aires Interior",
          "Capital Federal"
         ],
         "xaxis": "x",
         "y": [
          17405,
          4623,
          6173,
          6350,
          1011,
          23434
         ],
         "yaxis": "y"
        },
        {
         "alignmentgroup": "True",
         "hovertemplate": "nulos=No hay datos<br>state_name=%{x}<br>counter=%{y}<extra></extra>",
         "legendgroup": "No hay datos",
         "marker": {
          "color": "#EF553B"
         },
         "name": "No hay datos",
         "offsetgroup": "No hay datos",
         "orientation": "v",
         "showlegend": true,
         "textposition": "auto",
         "type": "bar",
         "x": [
          "Bs.As. G.B.A. Zona Norte",
          "Bs.As. G.B.A. Zona Oeste",
          "Bs.As. G.B.A. Zona Sur",
          "Buenos Aires Costa Atlántica",
          "Buenos Aires Interior",
          "Capital Federal"
         ],
         "xaxis": "x",
         "y": [
          8155,
          4699,
          7779,
          3656,
          1280,
          8882
         ],
         "yaxis": "y"
        }
       ],
       "layout": {
        "autosize": true,
        "barmode": "group",
        "legend": {
         "title": {
          "text": "nulos"
         },
         "tracegroupgap": 0
        },
        "template": {
         "data": {
          "bar": [
           {
            "error_x": {
             "color": "#2a3f5f"
            },
            "error_y": {
             "color": "#2a3f5f"
            },
            "marker": {
             "line": {
              "color": "#E5ECF6",
              "width": 0.5
             }
            },
            "type": "bar"
           }
          ],
          "barpolar": [
           {
            "marker": {
             "line": {
              "color": "#E5ECF6",
              "width": 0.5
             }
            },
            "type": "barpolar"
           }
          ],
          "carpet": [
           {
            "aaxis": {
             "endlinecolor": "#2a3f5f",
             "gridcolor": "white",
             "linecolor": "white",
             "minorgridcolor": "white",
             "startlinecolor": "#2a3f5f"
            },
            "baxis": {
             "endlinecolor": "#2a3f5f",
             "gridcolor": "white",
             "linecolor": "white",
             "minorgridcolor": "white",
             "startlinecolor": "#2a3f5f"
            },
            "type": "carpet"
           }
          ],
          "choropleth": [
           {
            "colorbar": {
             "outlinewidth": 0,
             "ticks": ""
            },
            "type": "choropleth"
           }
          ],
          "contour": [
           {
            "colorbar": {
             "outlinewidth": 0,
             "ticks": ""
            },
            "colorscale": [
             [
              0,
              "#0d0887"
             ],
             [
              0.1111111111111111,
              "#46039f"
             ],
             [
              0.2222222222222222,
              "#7201a8"
             ],
             [
              0.3333333333333333,
              "#9c179e"
             ],
             [
              0.4444444444444444,
              "#bd3786"
             ],
             [
              0.5555555555555556,
              "#d8576b"
             ],
             [
              0.6666666666666666,
              "#ed7953"
             ],
             [
              0.7777777777777778,
              "#fb9f3a"
             ],
             [
              0.8888888888888888,
              "#fdca26"
             ],
             [
              1,
              "#f0f921"
             ]
            ],
            "type": "contour"
           }
          ],
          "contourcarpet": [
           {
            "colorbar": {
             "outlinewidth": 0,
             "ticks": ""
            },
            "type": "contourcarpet"
           }
          ],
          "heatmap": [
           {
            "colorbar": {
             "outlinewidth": 0,
             "ticks": ""
            },
            "colorscale": [
             [
              0,
              "#0d0887"
             ],
             [
              0.1111111111111111,
              "#46039f"
             ],
             [
              0.2222222222222222,
              "#7201a8"
             ],
             [
              0.3333333333333333,
              "#9c179e"
             ],
             [
              0.4444444444444444,
              "#bd3786"
             ],
             [
              0.5555555555555556,
              "#d8576b"
             ],
             [
              0.6666666666666666,
              "#ed7953"
             ],
             [
              0.7777777777777778,
              "#fb9f3a"
             ],
             [
              0.8888888888888888,
              "#fdca26"
             ],
             [
              1,
              "#f0f921"
             ]
            ],
            "type": "heatmap"
           }
          ],
          "heatmapgl": [
           {
            "colorbar": {
             "outlinewidth": 0,
             "ticks": ""
            },
            "colorscale": [
             [
              0,
              "#0d0887"
             ],
             [
              0.1111111111111111,
              "#46039f"
             ],
             [
              0.2222222222222222,
              "#7201a8"
             ],
             [
              0.3333333333333333,
              "#9c179e"
             ],
             [
              0.4444444444444444,
              "#bd3786"
             ],
             [
              0.5555555555555556,
              "#d8576b"
             ],
             [
              0.6666666666666666,
              "#ed7953"
             ],
             [
              0.7777777777777778,
              "#fb9f3a"
             ],
             [
              0.8888888888888888,
              "#fdca26"
             ],
             [
              1,
              "#f0f921"
             ]
            ],
            "type": "heatmapgl"
           }
          ],
          "histogram": [
           {
            "marker": {
             "colorbar": {
              "outlinewidth": 0,
              "ticks": ""
             }
            },
            "type": "histogram"
           }
          ],
          "histogram2d": [
           {
            "colorbar": {
             "outlinewidth": 0,
             "ticks": ""
            },
            "colorscale": [
             [
              0,
              "#0d0887"
             ],
             [
              0.1111111111111111,
              "#46039f"
             ],
             [
              0.2222222222222222,
              "#7201a8"
             ],
             [
              0.3333333333333333,
              "#9c179e"
             ],
             [
              0.4444444444444444,
              "#bd3786"
             ],
             [
              0.5555555555555556,
              "#d8576b"
             ],
             [
              0.6666666666666666,
              "#ed7953"
             ],
             [
              0.7777777777777778,
              "#fb9f3a"
             ],
             [
              0.8888888888888888,
              "#fdca26"
             ],
             [
              1,
              "#f0f921"
             ]
            ],
            "type": "histogram2d"
           }
          ],
          "histogram2dcontour": [
           {
            "colorbar": {
             "outlinewidth": 0,
             "ticks": ""
            },
            "colorscale": [
             [
              0,
              "#0d0887"
             ],
             [
              0.1111111111111111,
              "#46039f"
             ],
             [
              0.2222222222222222,
              "#7201a8"
             ],
             [
              0.3333333333333333,
              "#9c179e"
             ],
             [
              0.4444444444444444,
              "#bd3786"
             ],
             [
              0.5555555555555556,
              "#d8576b"
             ],
             [
              0.6666666666666666,
              "#ed7953"
             ],
             [
              0.7777777777777778,
              "#fb9f3a"
             ],
             [
              0.8888888888888888,
              "#fdca26"
             ],
             [
              1,
              "#f0f921"
             ]
            ],
            "type": "histogram2dcontour"
           }
          ],
          "mesh3d": [
           {
            "colorbar": {
             "outlinewidth": 0,
             "ticks": ""
            },
            "type": "mesh3d"
           }
          ],
          "parcoords": [
           {
            "line": {
             "colorbar": {
              "outlinewidth": 0,
              "ticks": ""
             }
            },
            "type": "parcoords"
           }
          ],
          "pie": [
           {
            "automargin": true,
            "type": "pie"
           }
          ],
          "scatter": [
           {
            "marker": {
             "colorbar": {
              "outlinewidth": 0,
              "ticks": ""
             }
            },
            "type": "scatter"
           }
          ],
          "scatter3d": [
           {
            "line": {
             "colorbar": {
              "outlinewidth": 0,
              "ticks": ""
             }
            },
            "marker": {
             "colorbar": {
              "outlinewidth": 0,
              "ticks": ""
             }
            },
            "type": "scatter3d"
           }
          ],
          "scattercarpet": [
           {
            "marker": {
             "colorbar": {
              "outlinewidth": 0,
              "ticks": ""
             }
            },
            "type": "scattercarpet"
           }
          ],
          "scattergeo": [
           {
            "marker": {
             "colorbar": {
              "outlinewidth": 0,
              "ticks": ""
             }
            },
            "type": "scattergeo"
           }
          ],
          "scattergl": [
           {
            "marker": {
             "colorbar": {
              "outlinewidth": 0,
              "ticks": ""
             }
            },
            "type": "scattergl"
           }
          ],
          "scattermapbox": [
           {
            "marker": {
             "colorbar": {
              "outlinewidth": 0,
              "ticks": ""
             }
            },
            "type": "scattermapbox"
           }
          ],
          "scatterpolar": [
           {
            "marker": {
             "colorbar": {
              "outlinewidth": 0,
              "ticks": ""
             }
            },
            "type": "scatterpolar"
           }
          ],
          "scatterpolargl": [
           {
            "marker": {
             "colorbar": {
              "outlinewidth": 0,
              "ticks": ""
             }
            },
            "type": "scatterpolargl"
           }
          ],
          "scatterternary": [
           {
            "marker": {
             "colorbar": {
              "outlinewidth": 0,
              "ticks": ""
             }
            },
            "type": "scatterternary"
           }
          ],
          "surface": [
           {
            "colorbar": {
             "outlinewidth": 0,
             "ticks": ""
            },
            "colorscale": [
             [
              0,
              "#0d0887"
             ],
             [
              0.1111111111111111,
              "#46039f"
             ],
             [
              0.2222222222222222,
              "#7201a8"
             ],
             [
              0.3333333333333333,
              "#9c179e"
             ],
             [
              0.4444444444444444,
              "#bd3786"
             ],
             [
              0.5555555555555556,
              "#d8576b"
             ],
             [
              0.6666666666666666,
              "#ed7953"
             ],
             [
              0.7777777777777778,
              "#fb9f3a"
             ],
             [
              0.8888888888888888,
              "#fdca26"
             ],
             [
              1,
              "#f0f921"
             ]
            ],
            "type": "surface"
           }
          ],
          "table": [
           {
            "cells": {
             "fill": {
              "color": "#EBF0F8"
             },
             "line": {
              "color": "white"
             }
            },
            "header": {
             "fill": {
              "color": "#C8D4E3"
             },
             "line": {
              "color": "white"
             }
            },
            "type": "table"
           }
          ]
         },
         "layout": {
          "annotationdefaults": {
           "arrowcolor": "#2a3f5f",
           "arrowhead": 0,
           "arrowwidth": 1
          },
          "coloraxis": {
           "colorbar": {
            "outlinewidth": 0,
            "ticks": ""
           }
          },
          "colorscale": {
           "diverging": [
            [
             0,
             "#8e0152"
            ],
            [
             0.1,
             "#c51b7d"
            ],
            [
             0.2,
             "#de77ae"
            ],
            [
             0.3,
             "#f1b6da"
            ],
            [
             0.4,
             "#fde0ef"
            ],
            [
             0.5,
             "#f7f7f7"
            ],
            [
             0.6,
             "#e6f5d0"
            ],
            [
             0.7,
             "#b8e186"
            ],
            [
             0.8,
             "#7fbc41"
            ],
            [
             0.9,
             "#4d9221"
            ],
            [
             1,
             "#276419"
            ]
           ],
           "sequential": [
            [
             0,
             "#0d0887"
            ],
            [
             0.1111111111111111,
             "#46039f"
            ],
            [
             0.2222222222222222,
             "#7201a8"
            ],
            [
             0.3333333333333333,
             "#9c179e"
            ],
            [
             0.4444444444444444,
             "#bd3786"
            ],
            [
             0.5555555555555556,
             "#d8576b"
            ],
            [
             0.6666666666666666,
             "#ed7953"
            ],
            [
             0.7777777777777778,
             "#fb9f3a"
            ],
            [
             0.8888888888888888,
             "#fdca26"
            ],
            [
             1,
             "#f0f921"
            ]
           ],
           "sequentialminus": [
            [
             0,
             "#0d0887"
            ],
            [
             0.1111111111111111,
             "#46039f"
            ],
            [
             0.2222222222222222,
             "#7201a8"
            ],
            [
             0.3333333333333333,
             "#9c179e"
            ],
            [
             0.4444444444444444,
             "#bd3786"
            ],
            [
             0.5555555555555556,
             "#d8576b"
            ],
            [
             0.6666666666666666,
             "#ed7953"
            ],
            [
             0.7777777777777778,
             "#fb9f3a"
            ],
            [
             0.8888888888888888,
             "#fdca26"
            ],
            [
             1,
             "#f0f921"
            ]
           ]
          },
          "colorway": [
           "#636efa",
           "#EF553B",
           "#00cc96",
           "#ab63fa",
           "#FFA15A",
           "#19d3f3",
           "#FF6692",
           "#B6E880",
           "#FF97FF",
           "#FECB52"
          ],
          "font": {
           "color": "#2a3f5f"
          },
          "geo": {
           "bgcolor": "white",
           "lakecolor": "white",
           "landcolor": "#E5ECF6",
           "showlakes": true,
           "showland": true,
           "subunitcolor": "white"
          },
          "hoverlabel": {
           "align": "left"
          },
          "hovermode": "closest",
          "mapbox": {
           "style": "light"
          },
          "paper_bgcolor": "white",
          "plot_bgcolor": "#E5ECF6",
          "polar": {
           "angularaxis": {
            "gridcolor": "white",
            "linecolor": "white",
            "ticks": ""
           },
           "bgcolor": "#E5ECF6",
           "radialaxis": {
            "gridcolor": "white",
            "linecolor": "white",
            "ticks": ""
           }
          },
          "scene": {
           "xaxis": {
            "backgroundcolor": "#E5ECF6",
            "gridcolor": "white",
            "gridwidth": 2,
            "linecolor": "white",
            "showbackground": true,
            "ticks": "",
            "zerolinecolor": "white"
           },
           "yaxis": {
            "backgroundcolor": "#E5ECF6",
            "gridcolor": "white",
            "gridwidth": 2,
            "linecolor": "white",
            "showbackground": true,
            "ticks": "",
            "zerolinecolor": "white"
           },
           "zaxis": {
            "backgroundcolor": "#E5ECF6",
            "gridcolor": "white",
            "gridwidth": 2,
            "linecolor": "white",
            "showbackground": true,
            "ticks": "",
            "zerolinecolor": "white"
           }
          },
          "shapedefaults": {
           "line": {
            "color": "#2a3f5f"
           }
          },
          "ternary": {
           "aaxis": {
            "gridcolor": "white",
            "linecolor": "white",
            "ticks": ""
           },
           "baxis": {
            "gridcolor": "white",
            "linecolor": "white",
            "ticks": ""
           },
           "bgcolor": "#E5ECF6",
           "caxis": {
            "gridcolor": "white",
            "linecolor": "white",
            "ticks": ""
           }
          },
          "title": {
           "x": 0.05
          },
          "xaxis": {
           "automargin": true,
           "gridcolor": "white",
           "linecolor": "white",
           "ticks": "",
           "title": {
            "standoff": 15
           },
           "zerolinecolor": "white",
           "zerolinewidth": 2
          },
          "yaxis": {
           "automargin": true,
           "gridcolor": "white",
           "linecolor": "white",
           "ticks": "",
           "title": {
            "standoff": 15
           },
           "zerolinecolor": "white",
           "zerolinewidth": 2
          }
         }
        },
        "title": {
         "text": "Cantidad de datos por Provincia - Buenos Aires y CABA"
        },
        "xaxis": {
         "anchor": "y",
         "autorange": true,
         "domain": [
          0,
          1
         ],
         "range": [
          -0.5,
          5.5
         ],
         "title": {
          "text": "state_name"
         },
         "type": "category"
        },
        "yaxis": {
         "anchor": "x",
         "autorange": true,
         "domain": [
          0,
          1
         ],
         "range": [
          0,
          24667.368421052633
         ],
         "title": {
          "text": "counter"
         },
         "type": "linear"
        }
       }
      },
      "image/png": "[encoded data removed]",
      "text/html": [
       "<div>\n",
       "        \n",
       "        \n",
       "            <div id=\"fe0b9373-9f21-436a-af4e-5c6ffb1b085f\" class=\"plotly-graph-div\" style=\"height:400px; width:100%;\"></div>\n",
       "            <script type=\"text/javascript\">\n",
       "                require([\"plotly\"], function(Plotly) {\n",
       "                    window.PLOTLYENV=window.PLOTLYENV || {};\n",
       "                    \n",
       "                if (document.getElementById(\"fe0b9373-9f21-436a-af4e-5c6ffb1b085f\")) {\n",
       "                    Plotly.newPlot(\n",
       "                        'fe0b9373-9f21-436a-af4e-5c6ffb1b085f',\n",
       "                        [{\"alignmentgroup\": \"True\", \"hovertemplate\": \"nulos=Hay datos<br>state_name=%{x}<br>counter=%{y}<extra></extra>\", \"legendgroup\": \"Hay datos\", \"marker\": {\"color\": \"#636efa\"}, \"name\": \"Hay datos\", \"offsetgroup\": \"Hay datos\", \"orientation\": \"v\", \"showlegend\": true, \"textposition\": \"auto\", \"type\": \"bar\", \"x\": [\"Bs.As. G.B.A. Zona Norte\", \"Bs.As. G.B.A. Zona Oeste\", \"Bs.As. G.B.A. Zona Sur\", \"Buenos Aires Costa Atl\\u00e1ntica\", \"Buenos Aires Interior\", \"Capital Federal\"], \"xaxis\": \"x\", \"y\": [17405, 4623, 6173, 6350, 1011, 23434], \"yaxis\": \"y\"}, {\"alignmentgroup\": \"True\", \"hovertemplate\": \"nulos=No hay datos<br>state_name=%{x}<br>counter=%{y}<extra></extra>\", \"legendgroup\": \"No hay datos\", \"marker\": {\"color\": \"#EF553B\"}, \"name\": \"No hay datos\", \"offsetgroup\": \"No hay datos\", \"orientation\": \"v\", \"showlegend\": true, \"textposition\": \"auto\", \"type\": \"bar\", \"x\": [\"Bs.As. G.B.A. Zona Norte\", \"Bs.As. G.B.A. Zona Oeste\", \"Bs.As. G.B.A. Zona Sur\", \"Buenos Aires Costa Atl\\u00e1ntica\", \"Buenos Aires Interior\", \"Capital Federal\"], \"xaxis\": \"x\", \"y\": [8155, 4699, 7779, 3656, 1280, 8882], \"yaxis\": \"y\"}],\n",
       "                        {\"barmode\": \"group\", \"height\": 400, \"legend\": {\"title\": {\"text\": \"nulos\"}, \"tracegroupgap\": 0}, \"template\": {\"data\": {\"bar\": [{\"error_x\": {\"color\": \"#2a3f5f\"}, \"error_y\": {\"color\": \"#2a3f5f\"}, \"marker\": {\"line\": {\"color\": \"#E5ECF6\", \"width\": 0.5}}, \"type\": \"bar\"}], \"barpolar\": [{\"marker\": {\"line\": {\"color\": \"#E5ECF6\", \"width\": 0.5}}, \"type\": \"barpolar\"}], \"carpet\": [{\"aaxis\": {\"endlinecolor\": \"#2a3f5f\", \"gridcolor\": \"white\", \"linecolor\": \"white\", \"minorgridcolor\": \"white\", \"startlinecolor\": \"#2a3f5f\"}, \"baxis\": {\"endlinecolor\": \"#2a3f5f\", \"gridcolor\": \"white\", \"linecolor\": \"white\", \"minorgridcolor\": \"white\", \"startlinecolor\": \"#2a3f5f\"}, \"type\": \"carpet\"}], \"choropleth\": [{\"colorbar\": {\"outlinewidth\": 0, \"ticks\": \"\"}, \"type\": \"choropleth\"}], \"contour\": [{\"colorbar\": {\"outlinewidth\": 0, \"ticks\": \"\"}, \"colorscale\": [[0.0, \"#0d0887\"], [0.1111111111111111, \"#46039f\"], [0.2222222222222222, \"#7201a8\"], [0.3333333333333333, \"#9c179e\"], [0.4444444444444444, \"#bd3786\"], [0.5555555555555556, \"#d8576b\"], [0.6666666666666666, \"#ed7953\"], [0.7777777777777778, \"#fb9f3a\"], [0.8888888888888888, \"#fdca26\"], [1.0, \"#f0f921\"]], \"type\": \"contour\"}], \"contourcarpet\": [{\"colorbar\": {\"outlinewidth\": 0, \"ticks\": \"\"}, \"type\": \"contourcarpet\"}], \"heatmap\": [{\"colorbar\": {\"outlinewidth\": 0, \"ticks\": \"\"}, \"colorscale\": [[0.0, \"#0d0887\"], [0.1111111111111111, \"#46039f\"], [0.2222222222222222, \"#7201a8\"], [0.3333333333333333, \"#9c179e\"], [0.4444444444444444, \"#bd3786\"], [0.5555555555555556, \"#d8576b\"], [0.6666666666666666, \"#ed7953\"], [0.7777777777777778, \"#fb9f3a\"], [0.8888888888888888, \"#fdca26\"], [1.0, \"#f0f921\"]], \"type\": \"heatmap\"}], \"heatmapgl\": [{\"colorbar\": {\"outlinewidth\": 0, \"ticks\": \"\"}, \"colorscale\": [[0.0, \"#0d0887\"], [0.1111111111111111, \"#46039f\"], [0.2222222222222222, \"#7201a8\"], [0.3333333333333333, \"#9c179e\"], [0.4444444444444444, \"#bd3786\"], [0.5555555555555556, \"#d8576b\"], [0.6666666666666666, \"#ed7953\"], [0.7777777777777778, \"#fb9f3a\"], [0.8888888888888888, \"#fdca26\"], [1.0, \"#f0f921\"]], \"type\": \"heatmapgl\"}], \"histogram\": [{\"marker\": {\"colorbar\": {\"outlinewidth\": 0, \"ticks\": \"\"}}, \"type\": \"histogram\"}], \"histogram2d\": [{\"colorbar\": {\"outlinewidth\": 0, \"ticks\": \"\"}, \"colorscale\": [[0.0, \"#0d0887\"], [0.1111111111111111, \"#46039f\"], [0.2222222222222222, \"#7201a8\"], [0.3333333333333333, \"#9c179e\"], [0.4444444444444444, \"#bd3786\"], [0.5555555555555556, \"#d8576b\"], [0.6666666666666666, \"#ed7953\"], [0.7777777777777778, \"#fb9f3a\"], [0.8888888888888888, \"#fdca26\"], [1.0, \"#f0f921\"]], \"type\": \"histogram2d\"}], \"histogram2dcontour\": [{\"colorbar\": {\"outlinewidth\": 0, \"ticks\": \"\"}, \"colorscale\": [[0.0, \"#0d0887\"], [0.1111111111111111, \"#46039f\"], [0.2222222222222222, \"#7201a8\"], [0.3333333333333333, \"#9c179e\"], [0.4444444444444444, \"#bd3786\"], [0.5555555555555556, \"#d8576b\"], [0.6666666666666666, \"#ed7953\"], [0.7777777777777778, \"#fb9f3a\"], [0.8888888888888888, \"#fdca26\"], [1.0, \"#f0f921\"]], \"type\": \"histogram2dcontour\"}], \"mesh3d\": [{\"colorbar\": {\"outlinewidth\": 0, \"ticks\": \"\"}, \"type\": \"mesh3d\"}], \"parcoords\": [{\"line\": {\"colorbar\": {\"outlinewidth\": 0, \"ticks\": \"\"}}, \"type\": \"parcoords\"}], \"pie\": [{\"automargin\": true, \"type\": \"pie\"}], \"scatter\": [{\"marker\": {\"colorbar\": {\"outlinewidth\": 0, \"ticks\": \"\"}}, \"type\": \"scatter\"}], \"scatter3d\": [{\"line\": {\"colorbar\": {\"outlinewidth\": 0, \"ticks\": \"\"}}, \"marker\": {\"colorbar\": {\"outlinewidth\": 0, \"ticks\": \"\"}}, \"type\": \"scatter3d\"}], \"scattercarpet\": [{\"marker\": {\"colorbar\": {\"outlinewidth\": 0, \"ticks\": \"\"}}, \"type\": \"scattercarpet\"}], \"scattergeo\": [{\"marker\": {\"colorbar\": {\"outlinewidth\": 0, \"ticks\": \"\"}}, \"type\": \"scattergeo\"}], \"scattergl\": [{\"marker\": {\"colorbar\": {\"outlinewidth\": 0, \"ticks\": \"\"}}, \"type\": \"scattergl\"}], \"scattermapbox\": [{\"marker\": {\"colorbar\": {\"outlinewidth\": 0, \"ticks\": \"\"}}, \"type\": \"scattermapbox\"}], \"scatterpolar\": [{\"marker\": {\"colorbar\": {\"outlinewidth\": 0, \"ticks\": \"\"}}, \"type\": \"scatterpolar\"}], \"scatterpolargl\": [{\"marker\": {\"colorbar\": {\"outlinewidth\": 0, \"ticks\": \"\"}}, \"type\": \"scatterpolargl\"}], \"scatterternary\": [{\"marker\": {\"colorbar\": {\"outlinewidth\": 0, \"ticks\": \"\"}}, \"type\": \"scatterternary\"}], \"surface\": [{\"colorbar\": {\"outlinewidth\": 0, \"ticks\": \"\"}, \"colorscale\": [[0.0, \"#0d0887\"], [0.1111111111111111, \"#46039f\"], [0.2222222222222222, \"#7201a8\"], [0.3333333333333333, \"#9c179e\"], [0.4444444444444444, \"#bd3786\"], [0.5555555555555556, \"#d8576b\"], [0.6666666666666666, \"#ed7953\"], [0.7777777777777778, \"#fb9f3a\"], [0.8888888888888888, \"#fdca26\"], [1.0, \"#f0f921\"]], \"type\": \"surface\"}], \"table\": [{\"cells\": {\"fill\": {\"color\": \"#EBF0F8\"}, \"line\": {\"color\": \"white\"}}, \"header\": {\"fill\": {\"color\": \"#C8D4E3\"}, \"line\": {\"color\": \"white\"}}, \"type\": \"table\"}]}, \"layout\": {\"annotationdefaults\": {\"arrowcolor\": \"#2a3f5f\", \"arrowhead\": 0, \"arrowwidth\": 1}, \"coloraxis\": {\"colorbar\": {\"outlinewidth\": 0, \"ticks\": \"\"}}, \"colorscale\": {\"diverging\": [[0, \"#8e0152\"], [0.1, \"#c51b7d\"], [0.2, \"#de77ae\"], [0.3, \"#f1b6da\"], [0.4, \"#fde0ef\"], [0.5, \"#f7f7f7\"], [0.6, \"#e6f5d0\"], [0.7, \"#b8e186\"], [0.8, \"#7fbc41\"], [0.9, \"#4d9221\"], [1, \"#276419\"]], \"sequential\": [[0.0, \"#0d0887\"], [0.1111111111111111, \"#46039f\"], [0.2222222222222222, \"#7201a8\"], [0.3333333333333333, \"#9c179e\"], [0.4444444444444444, \"#bd3786\"], [0.5555555555555556, \"#d8576b\"], [0.6666666666666666, \"#ed7953\"], [0.7777777777777778, \"#fb9f3a\"], [0.8888888888888888, \"#fdca26\"], [1.0, \"#f0f921\"]], \"sequentialminus\": [[0.0, \"#0d0887\"], [0.1111111111111111, \"#46039f\"], [0.2222222222222222, \"#7201a8\"], [0.3333333333333333, \"#9c179e\"], [0.4444444444444444, \"#bd3786\"], [0.5555555555555556, \"#d8576b\"], [0.6666666666666666, \"#ed7953\"], [0.7777777777777778, \"#fb9f3a\"], [0.8888888888888888, \"#fdca26\"], [1.0, \"#f0f921\"]]}, \"colorway\": [\"#636efa\", \"#EF553B\", \"#00cc96\", \"#ab63fa\", \"#FFA15A\", \"#19d3f3\", \"#FF6692\", \"#B6E880\", \"#FF97FF\", \"#FECB52\"], \"font\": {\"color\": \"#2a3f5f\"}, \"geo\": {\"bgcolor\": \"white\", \"lakecolor\": \"white\", \"landcolor\": \"#E5ECF6\", \"showlakes\": true, \"showland\": true, \"subunitcolor\": \"white\"}, \"hoverlabel\": {\"align\": \"left\"}, \"hovermode\": \"closest\", \"mapbox\": {\"style\": \"light\"}, \"paper_bgcolor\": \"white\", \"plot_bgcolor\": \"#E5ECF6\", \"polar\": {\"angularaxis\": {\"gridcolor\": \"white\", \"linecolor\": \"white\", \"ticks\": \"\"}, \"bgcolor\": \"#E5ECF6\", \"radialaxis\": {\"gridcolor\": \"white\", \"linecolor\": \"white\", \"ticks\": \"\"}}, \"scene\": {\"xaxis\": {\"backgroundcolor\": \"#E5ECF6\", \"gridcolor\": \"white\", \"gridwidth\": 2, \"linecolor\": \"white\", \"showbackground\": true, \"ticks\": \"\", \"zerolinecolor\": \"white\"}, \"yaxis\": {\"backgroundcolor\": \"#E5ECF6\", \"gridcolor\": \"white\", \"gridwidth\": 2, \"linecolor\": \"white\", \"showbackground\": true, \"ticks\": \"\", \"zerolinecolor\": \"white\"}, \"zaxis\": {\"backgroundcolor\": \"#E5ECF6\", \"gridcolor\": \"white\", \"gridwidth\": 2, \"linecolor\": \"white\", \"showbackground\": true, \"ticks\": \"\", \"zerolinecolor\": \"white\"}}, \"shapedefaults\": {\"line\": {\"color\": \"#2a3f5f\"}}, \"ternary\": {\"aaxis\": {\"gridcolor\": \"white\", \"linecolor\": \"white\", \"ticks\": \"\"}, \"baxis\": {\"gridcolor\": \"white\", \"linecolor\": \"white\", \"ticks\": \"\"}, \"bgcolor\": \"#E5ECF6\", \"caxis\": {\"gridcolor\": \"white\", \"linecolor\": \"white\", \"ticks\": \"\"}}, \"title\": {\"x\": 0.05}, \"xaxis\": {\"automargin\": true, \"gridcolor\": \"white\", \"linecolor\": \"white\", \"ticks\": \"\", \"title\": {\"standoff\": 15}, \"zerolinecolor\": \"white\", \"zerolinewidth\": 2}, \"yaxis\": {\"automargin\": true, \"gridcolor\": \"white\", \"linecolor\": \"white\", \"ticks\": \"\", \"title\": {\"standoff\": 15}, \"zerolinecolor\": \"white\", \"zerolinewidth\": 2}}}, \"title\": {\"text\": \"Cantidad de datos por Provincia - Buenos Aires y CABA\"}, \"xaxis\": {\"anchor\": \"y\", \"domain\": [0.0, 1.0], \"title\": {\"text\": \"state_name\"}}, \"yaxis\": {\"anchor\": \"x\", \"domain\": [0.0, 1.0], \"title\": {\"text\": \"counter\"}}},\n",
       "                        {\"responsive\": true}\n",
       "                    ).then(function(){\n",
       "                            \n",
       "var gd = document.getElementById('fe0b9373-9f21-436a-af4e-5c6ffb1b085f');\n",
       "var x = new MutationObserver(function (mutations, observer) {{\n",
       "        var display = window.getComputedStyle(gd).display;\n",
       "        if (!display || display === 'none') {{\n",
       "            console.log([gd, 'removed!']);\n",
       "            Plotly.purge(gd);\n",
       "            observer.disconnect();\n",
       "        }}\n",
       "}});\n",
       "\n",
       "// Listen for the removal of the full notebook cells\n",
       "var notebookContainer = gd.closest('#notebook-container');\n",
       "if (notebookContainer) {{\n",
       "    x.observe(notebookContainer, {childList: true});\n",
       "}}\n",
       "\n",
       "// Listen for the clearing of the current output cell\n",
       "var outputEl = gd.closest('.output');\n",
       "if (outputEl) {{\n",
       "    x.observe(outputEl, {childList: true});\n",
       "}}\n",
       "\n",
       "                        })\n",
       "                };\n",
       "                });\n",
       "            </script>\n",
       "        </div>"
      ]
     },
     "metadata": {},
     "output_type": "display_data"
    }
   ],
   "source": [
    "#imprimimos gráfico\n",
    "fig = px.bar(baires_group1, x=\"state_name\", y=\"counter\",\n",
    "             color='nulos', barmode='group',\n",
    "             height=400, title = \"Cantidad de datos por Provincia - Buenos Aires y CABA\")\n",
    "fig.show()\n",
    "\n"
   ]
  },
  {
   "cell_type": "code",
   "execution_count": 103,
   "metadata": {},
   "outputs": [],
   "source": [
    "#agrupamos nuevamente por provincia trayendo la variable 'price_usd_per_m2' y las variables agregadas de mínimo y máximo\n",
    "baires_group2 = baires.groupby(by=['state_name'],as_index=False)['price_usd_per_m2'].agg(['min', 'max'])"
   ]
  },
  {
   "cell_type": "code",
   "execution_count": 104,
   "metadata": {},
   "outputs": [],
   "source": [
    "#reseteamos el index\n",
    "baires_group2.reset_index(inplace=True)"
   ]
  },
  {
   "cell_type": "code",
   "execution_count": 105,
   "metadata": {},
   "outputs": [],
   "source": [
    "#creamos la columna rango\n",
    "baires_group2['rango'] = baires_group2['max'] - baires_group2['min']"
   ]
  },
  {
   "cell_type": "code",
   "execution_count": 106,
   "metadata": {},
   "outputs": [
    {
     "data": {
      "text/html": [
       "<div>\n",
       "<style scoped>\n",
       "    .dataframe tbody tr th:only-of-type {\n",
       "        vertical-align: middle;\n",
       "    }\n",
       "\n",
       "    .dataframe tbody tr th {\n",
       "        vertical-align: top;\n",
       "    }\n",
       "\n",
       "    .dataframe thead th {\n",
       "        text-align: right;\n",
       "    }\n",
       "</style>\n",
       "<table border=\"1\" class=\"dataframe\">\n",
       "  <thead>\n",
       "    <tr style=\"text-align: right;\">\n",
       "      <th></th>\n",
       "      <th>state_name</th>\n",
       "      <th>min</th>\n",
       "      <th>max</th>\n",
       "      <th>rango</th>\n",
       "    </tr>\n",
       "  </thead>\n",
       "  <tbody>\n",
       "    <tr>\n",
       "      <th>0</th>\n",
       "      <td>Bs.As. G.B.A. Zona Norte</td>\n",
       "      <td>4.166667</td>\n",
       "      <td>48296.222222</td>\n",
       "      <td>48292.055556</td>\n",
       "    </tr>\n",
       "    <tr>\n",
       "      <th>1</th>\n",
       "      <td>Bs.As. G.B.A. Zona Oeste</td>\n",
       "      <td>7.000000</td>\n",
       "      <td>80000.000000</td>\n",
       "      <td>79993.000000</td>\n",
       "    </tr>\n",
       "    <tr>\n",
       "      <th>2</th>\n",
       "      <td>Bs.As. G.B.A. Zona Sur</td>\n",
       "      <td>19.314341</td>\n",
       "      <td>23140.764706</td>\n",
       "      <td>23121.450365</td>\n",
       "    </tr>\n",
       "    <tr>\n",
       "      <th>3</th>\n",
       "      <td>Buenos Aires Costa Atlántica</td>\n",
       "      <td>1.000000</td>\n",
       "      <td>21897.058824</td>\n",
       "      <td>21896.058824</td>\n",
       "    </tr>\n",
       "    <tr>\n",
       "      <th>4</th>\n",
       "      <td>Buenos Aires Interior</td>\n",
       "      <td>2.072029</td>\n",
       "      <td>4166.666667</td>\n",
       "      <td>4164.594638</td>\n",
       "    </tr>\n",
       "    <tr>\n",
       "      <th>5</th>\n",
       "      <td>Capital Federal</td>\n",
       "      <td>13.797467</td>\n",
       "      <td>206333.333333</td>\n",
       "      <td>206319.535867</td>\n",
       "    </tr>\n",
       "  </tbody>\n",
       "</table>\n",
       "</div>"
      ],
      "text/plain": [
       "                     state_name        min            max          rango\n",
       "0      Bs.As. G.B.A. Zona Norte   4.166667   48296.222222   48292.055556\n",
       "1      Bs.As. G.B.A. Zona Oeste   7.000000   80000.000000   79993.000000\n",
       "2        Bs.As. G.B.A. Zona Sur  19.314341   23140.764706   23121.450365\n",
       "3  Buenos Aires Costa Atlántica   1.000000   21897.058824   21896.058824\n",
       "4         Buenos Aires Interior   2.072029    4166.666667    4164.594638\n",
       "5               Capital Federal  13.797467  206333.333333  206319.535867"
      ]
     },
     "execution_count": 106,
     "metadata": {},
     "output_type": "execute_result"
    }
   ],
   "source": [
    "baires_group2"
   ]
  },
  {
   "cell_type": "code",
   "execution_count": 107,
   "metadata": {},
   "outputs": [],
   "source": [
    "#repetimos el procedimiento realizado de cada en cada gran agrupación pero ahora dentro de cada jurisdiccion\n",
    "caba_barrios_grupo = caba.groupby(by=['state_name','place_name','nulos'],as_index=False)['counter'].sum()\n",
    "caba_barrios_grupo['nulos'] = caba_barrios_grupo['nulos'].astype(str)\n",
    "caba_barrios_grupo['nulos'] = caba_barrios_grupo.nulos.str.replace('False','Hay datos')\n",
    "caba_barrios_grupo['nulos'] = caba_barrios_grupo.nulos.str.replace('True','No hay datos')"
   ]
  },
  {
   "cell_type": "code",
   "execution_count": 108,
   "metadata": {},
   "outputs": [
    {
     "data": {
      "application/vnd.plotly.v1+json": {
       "config": {
        "plotlyServerURL": "https://plotly.com"
       },
       "data": [
        {
         "alignmentgroup": "True",
         "hovertemplate": "nulos=Hay datos<br>place_name=%{x}<br>counter=%{y}<extra></extra>",
         "legendgroup": "Hay datos",
         "marker": {
          "color": "#636efa"
         },
         "name": "Hay datos",
         "offsetgroup": "Hay datos",
         "orientation": "v",
         "showlegend": true,
         "textposition": "auto",
         "type": "bar",
         "x": [
          "Abasto",
          "Agronomía",
          "Almagro",
          "Balvanera",
          "Barracas",
          "Barrio Norte",
          "Belgrano",
          "Boca",
          "Boedo",
          "Caballito",
          "Capital Federal",
          "Catalinas",
          "Centro / Microcentro",
          "Chacarita",
          "Coghlan",
          "Colegiales",
          "Congreso",
          "Constitución",
          "Flores",
          "Floresta",
          "Las Cañitas",
          "Liniers",
          "Mataderos",
          "Monserrat",
          "Monte Castro",
          "Nuñez",
          "Once",
          "Palermo",
          "Palermo Chico",
          "Palermo Hollywood",
          "Palermo Soho",
          "Palermo Viejo",
          "Parque Avellaneda",
          "Parque Centenario",
          "Parque Chacabuco",
          "Parque Chas",
          "Parque Patricios",
          "Paternal",
          "Pompeya",
          "Puerto Madero",
          "Recoleta",
          "Retiro",
          "Saavedra",
          "San Cristobal",
          "San Nicolás",
          "San Telmo",
          "Tribunales",
          "Velez Sarsfield",
          "Versalles",
          "Villa Crespo",
          "Villa Devoto",
          "Villa General Mitre",
          "Villa Lugano",
          "Villa Luro",
          "Villa Ortuzar",
          "Villa Pueyrredón",
          "Villa Real",
          "Villa Riachuelo",
          "Villa Santa Rita",
          "Villa Soldati",
          "Villa Urquiza",
          "Villa del Parque"
         ],
         "xaxis": "x",
         "y": [
          85,
          25,
          830,
          473,
          355,
          890,
          2127,
          178,
          800,
          1678,
          831,
          1,
          193,
          178,
          197,
          258,
          232,
          161,
          1015,
          291,
          128,
          248,
          287,
          330,
          46,
          553,
          120,
          1983,
          182,
          446,
          300,
          37,
          31,
          61,
          89,
          15,
          233,
          105,
          31,
          490,
          1188,
          173,
          411,
          454,
          123,
          1000,
          73,
          26,
          26,
          1028,
          262,
          39,
          128,
          299,
          77,
          117,
          27,
          3,
          27,
          7,
          1088,
          345
         ],
         "yaxis": "y"
        },
        {
         "alignmentgroup": "True",
         "hovertemplate": "nulos=No hay datos<br>place_name=%{x}<br>counter=%{y}<extra></extra>",
         "legendgroup": "No hay datos",
         "marker": {
          "color": "#EF553B"
         },
         "name": "No hay datos",
         "offsetgroup": "No hay datos",
         "orientation": "v",
         "showlegend": true,
         "textposition": "auto",
         "type": "bar",
         "x": [
          "Abasto",
          "Agronomía",
          "Almagro",
          "Balvanera",
          "Barracas",
          "Barrio Norte",
          "Belgrano",
          "Boca",
          "Boedo",
          "Caballito",
          "Capital Federal",
          "Catalinas",
          "Centro / Microcentro",
          "Chacarita",
          "Coghlan",
          "Colegiales",
          "Congreso",
          "Constitución",
          "Flores",
          "Floresta",
          "Las Cañitas",
          "Liniers",
          "Mataderos",
          "Monserrat",
          "Monte Castro",
          "Nuñez",
          "Once",
          "Palermo",
          "Palermo Chico",
          "Palermo Hollywood",
          "Palermo Soho",
          "Palermo Viejo",
          "Parque Avellaneda",
          "Parque Centenario",
          "Parque Chacabuco",
          "Parque Chas",
          "Parque Patricios",
          "Paternal",
          "Pompeya",
          "Puerto Madero",
          "Recoleta",
          "Retiro",
          "Saavedra",
          "San Cristobal",
          "San Nicolás",
          "San Telmo",
          "Tribunales",
          "Velez Sarsfield",
          "Versalles",
          "Villa Crespo",
          "Villa Devoto",
          "Villa General Mitre",
          "Villa Lugano",
          "Villa Luro",
          "Villa Ortuzar",
          "Villa Pueyrredón",
          "Villa Real",
          "Villa Riachuelo",
          "Villa Santa Rita",
          "Villa Soldati",
          "Villa Urquiza",
          "Villa del Parque"
         ],
         "xaxis": "x",
         "y": [
          28,
          16,
          335,
          194,
          70,
          250,
          865,
          45,
          90,
          595,
          466,
          3,
          30,
          49,
          62,
          94,
          72,
          50,
          339,
          225,
          15,
          160,
          131,
          208,
          33,
          225,
          78,
          902,
          50,
          86,
          94,
          3,
          25,
          7,
          57,
          29,
          89,
          68,
          33,
          157,
          359,
          75,
          131,
          160,
          64,
          216,
          25,
          13,
          29,
          303,
          158,
          9,
          77,
          133,
          9,
          58,
          10,
          3,
          30,
          8,
          541,
          143
         ],
         "yaxis": "y"
        }
       ],
       "layout": {
        "autosize": true,
        "barmode": "group",
        "legend": {
         "title": {
          "text": "nulos"
         },
         "tracegroupgap": 0
        },
        "template": {
         "data": {
          "bar": [
           {
            "error_x": {
             "color": "#2a3f5f"
            },
            "error_y": {
             "color": "#2a3f5f"
            },
            "marker": {
             "line": {
              "color": "#E5ECF6",
              "width": 0.5
             }
            },
            "type": "bar"
           }
          ],
          "barpolar": [
           {
            "marker": {
             "line": {
              "color": "#E5ECF6",
              "width": 0.5
             }
            },
            "type": "barpolar"
           }
          ],
          "carpet": [
           {
            "aaxis": {
             "endlinecolor": "#2a3f5f",
             "gridcolor": "white",
             "linecolor": "white",
             "minorgridcolor": "white",
             "startlinecolor": "#2a3f5f"
            },
            "baxis": {
             "endlinecolor": "#2a3f5f",
             "gridcolor": "white",
             "linecolor": "white",
             "minorgridcolor": "white",
             "startlinecolor": "#2a3f5f"
            },
            "type": "carpet"
           }
          ],
          "choropleth": [
           {
            "colorbar": {
             "outlinewidth": 0,
             "ticks": ""
            },
            "type": "choropleth"
           }
          ],
          "contour": [
           {
            "colorbar": {
             "outlinewidth": 0,
             "ticks": ""
            },
            "colorscale": [
             [
              0,
              "#0d0887"
             ],
             [
              0.1111111111111111,
              "#46039f"
             ],
             [
              0.2222222222222222,
              "#7201a8"
             ],
             [
              0.3333333333333333,
              "#9c179e"
             ],
             [
              0.4444444444444444,
              "#bd3786"
             ],
             [
              0.5555555555555556,
              "#d8576b"
             ],
             [
              0.6666666666666666,
              "#ed7953"
             ],
             [
              0.7777777777777778,
              "#fb9f3a"
             ],
             [
              0.8888888888888888,
              "#fdca26"
             ],
             [
              1,
              "#f0f921"
             ]
            ],
            "type": "contour"
           }
          ],
          "contourcarpet": [
           {
            "colorbar": {
             "outlinewidth": 0,
             "ticks": ""
            },
            "type": "contourcarpet"
           }
          ],
          "heatmap": [
           {
            "colorbar": {
             "outlinewidth": 0,
             "ticks": ""
            },
            "colorscale": [
             [
              0,
              "#0d0887"
             ],
             [
              0.1111111111111111,
              "#46039f"
             ],
             [
              0.2222222222222222,
              "#7201a8"
             ],
             [
              0.3333333333333333,
              "#9c179e"
             ],
             [
              0.4444444444444444,
              "#bd3786"
             ],
             [
              0.5555555555555556,
              "#d8576b"
             ],
             [
              0.6666666666666666,
              "#ed7953"
             ],
             [
              0.7777777777777778,
              "#fb9f3a"
             ],
             [
              0.8888888888888888,
              "#fdca26"
             ],
             [
              1,
              "#f0f921"
             ]
            ],
            "type": "heatmap"
           }
          ],
          "heatmapgl": [
           {
            "colorbar": {
             "outlinewidth": 0,
             "ticks": ""
            },
            "colorscale": [
             [
              0,
              "#0d0887"
             ],
             [
              0.1111111111111111,
              "#46039f"
             ],
             [
              0.2222222222222222,
              "#7201a8"
             ],
             [
              0.3333333333333333,
              "#9c179e"
             ],
             [
              0.4444444444444444,
              "#bd3786"
             ],
             [
              0.5555555555555556,
              "#d8576b"
             ],
             [
              0.6666666666666666,
              "#ed7953"
             ],
             [
              0.7777777777777778,
              "#fb9f3a"
             ],
             [
              0.8888888888888888,
              "#fdca26"
             ],
             [
              1,
              "#f0f921"
             ]
            ],
            "type": "heatmapgl"
           }
          ],
          "histogram": [
           {
            "marker": {
             "colorbar": {
              "outlinewidth": 0,
              "ticks": ""
             }
            },
            "type": "histogram"
           }
          ],
          "histogram2d": [
           {
            "colorbar": {
             "outlinewidth": 0,
             "ticks": ""
            },
            "colorscale": [
             [
              0,
              "#0d0887"
             ],
             [
              0.1111111111111111,
              "#46039f"
             ],
             [
              0.2222222222222222,
              "#7201a8"
             ],
             [
              0.3333333333333333,
              "#9c179e"
             ],
             [
              0.4444444444444444,
              "#bd3786"
             ],
             [
              0.5555555555555556,
              "#d8576b"
             ],
             [
              0.6666666666666666,
              "#ed7953"
             ],
             [
              0.7777777777777778,
              "#fb9f3a"
             ],
             [
              0.8888888888888888,
              "#fdca26"
             ],
             [
              1,
              "#f0f921"
             ]
            ],
            "type": "histogram2d"
           }
          ],
          "histogram2dcontour": [
           {
            "colorbar": {
             "outlinewidth": 0,
             "ticks": ""
            },
            "colorscale": [
             [
              0,
              "#0d0887"
             ],
             [
              0.1111111111111111,
              "#46039f"
             ],
             [
              0.2222222222222222,
              "#7201a8"
             ],
             [
              0.3333333333333333,
              "#9c179e"
             ],
             [
              0.4444444444444444,
              "#bd3786"
             ],
             [
              0.5555555555555556,
              "#d8576b"
             ],
             [
              0.6666666666666666,
              "#ed7953"
             ],
             [
              0.7777777777777778,
              "#fb9f3a"
             ],
             [
              0.8888888888888888,
              "#fdca26"
             ],
             [
              1,
              "#f0f921"
             ]
            ],
            "type": "histogram2dcontour"
           }
          ],
          "mesh3d": [
           {
            "colorbar": {
             "outlinewidth": 0,
             "ticks": ""
            },
            "type": "mesh3d"
           }
          ],
          "parcoords": [
           {
            "line": {
             "colorbar": {
              "outlinewidth": 0,
              "ticks": ""
             }
            },
            "type": "parcoords"
           }
          ],
          "pie": [
           {
            "automargin": true,
            "type": "pie"
           }
          ],
          "scatter": [
           {
            "marker": {
             "colorbar": {
              "outlinewidth": 0,
              "ticks": ""
             }
            },
            "type": "scatter"
           }
          ],
          "scatter3d": [
           {
            "line": {
             "colorbar": {
              "outlinewidth": 0,
              "ticks": ""
             }
            },
            "marker": {
             "colorbar": {
              "outlinewidth": 0,
              "ticks": ""
             }
            },
            "type": "scatter3d"
           }
          ],
          "scattercarpet": [
           {
            "marker": {
             "colorbar": {
              "outlinewidth": 0,
              "ticks": ""
             }
            },
            "type": "scattercarpet"
           }
          ],
          "scattergeo": [
           {
            "marker": {
             "colorbar": {
              "outlinewidth": 0,
              "ticks": ""
             }
            },
            "type": "scattergeo"
           }
          ],
          "scattergl": [
           {
            "marker": {
             "colorbar": {
              "outlinewidth": 0,
              "ticks": ""
             }
            },
            "type": "scattergl"
           }
          ],
          "scattermapbox": [
           {
            "marker": {
             "colorbar": {
              "outlinewidth": 0,
              "ticks": ""
             }
            },
            "type": "scattermapbox"
           }
          ],
          "scatterpolar": [
           {
            "marker": {
             "colorbar": {
              "outlinewidth": 0,
              "ticks": ""
             }
            },
            "type": "scatterpolar"
           }
          ],
          "scatterpolargl": [
           {
            "marker": {
             "colorbar": {
              "outlinewidth": 0,
              "ticks": ""
             }
            },
            "type": "scatterpolargl"
           }
          ],
          "scatterternary": [
           {
            "marker": {
             "colorbar": {
              "outlinewidth": 0,
              "ticks": ""
             }
            },
            "type": "scatterternary"
           }
          ],
          "surface": [
           {
            "colorbar": {
             "outlinewidth": 0,
             "ticks": ""
            },
            "colorscale": [
             [
              0,
              "#0d0887"
             ],
             [
              0.1111111111111111,
              "#46039f"
             ],
             [
              0.2222222222222222,
              "#7201a8"
             ],
             [
              0.3333333333333333,
              "#9c179e"
             ],
             [
              0.4444444444444444,
              "#bd3786"
             ],
             [
              0.5555555555555556,
              "#d8576b"
             ],
             [
              0.6666666666666666,
              "#ed7953"
             ],
             [
              0.7777777777777778,
              "#fb9f3a"
             ],
             [
              0.8888888888888888,
              "#fdca26"
             ],
             [
              1,
              "#f0f921"
             ]
            ],
            "type": "surface"
           }
          ],
          "table": [
           {
            "cells": {
             "fill": {
              "color": "#EBF0F8"
             },
             "line": {
              "color": "white"
             }
            },
            "header": {
             "fill": {
              "color": "#C8D4E3"
             },
             "line": {
              "color": "white"
             }
            },
            "type": "table"
           }
          ]
         },
         "layout": {
          "annotationdefaults": {
           "arrowcolor": "#2a3f5f",
           "arrowhead": 0,
           "arrowwidth": 1
          },
          "coloraxis": {
           "colorbar": {
            "outlinewidth": 0,
            "ticks": ""
           }
          },
          "colorscale": {
           "diverging": [
            [
             0,
             "#8e0152"
            ],
            [
             0.1,
             "#c51b7d"
            ],
            [
             0.2,
             "#de77ae"
            ],
            [
             0.3,
             "#f1b6da"
            ],
            [
             0.4,
             "#fde0ef"
            ],
            [
             0.5,
             "#f7f7f7"
            ],
            [
             0.6,
             "#e6f5d0"
            ],
            [
             0.7,
             "#b8e186"
            ],
            [
             0.8,
             "#7fbc41"
            ],
            [
             0.9,
             "#4d9221"
            ],
            [
             1,
             "#276419"
            ]
           ],
           "sequential": [
            [
             0,
             "#0d0887"
            ],
            [
             0.1111111111111111,
             "#46039f"
            ],
            [
             0.2222222222222222,
             "#7201a8"
            ],
            [
             0.3333333333333333,
             "#9c179e"
            ],
            [
             0.4444444444444444,
             "#bd3786"
            ],
            [
             0.5555555555555556,
             "#d8576b"
            ],
            [
             0.6666666666666666,
             "#ed7953"
            ],
            [
             0.7777777777777778,
             "#fb9f3a"
            ],
            [
             0.8888888888888888,
             "#fdca26"
            ],
            [
             1,
             "#f0f921"
            ]
           ],
           "sequentialminus": [
            [
             0,
             "#0d0887"
            ],
            [
             0.1111111111111111,
             "#46039f"
            ],
            [
             0.2222222222222222,
             "#7201a8"
            ],
            [
             0.3333333333333333,
             "#9c179e"
            ],
            [
             0.4444444444444444,
             "#bd3786"
            ],
            [
             0.5555555555555556,
             "#d8576b"
            ],
            [
             0.6666666666666666,
             "#ed7953"
            ],
            [
             0.7777777777777778,
             "#fb9f3a"
            ],
            [
             0.8888888888888888,
             "#fdca26"
            ],
            [
             1,
             "#f0f921"
            ]
           ]
          },
          "colorway": [
           "#636efa",
           "#EF553B",
           "#00cc96",
           "#ab63fa",
           "#FFA15A",
           "#19d3f3",
           "#FF6692",
           "#B6E880",
           "#FF97FF",
           "#FECB52"
          ],
          "font": {
           "color": "#2a3f5f"
          },
          "geo": {
           "bgcolor": "white",
           "lakecolor": "white",
           "landcolor": "#E5ECF6",
           "showlakes": true,
           "showland": true,
           "subunitcolor": "white"
          },
          "hoverlabel": {
           "align": "left"
          },
          "hovermode": "closest",
          "mapbox": {
           "style": "light"
          },
          "paper_bgcolor": "white",
          "plot_bgcolor": "#E5ECF6",
          "polar": {
           "angularaxis": {
            "gridcolor": "white",
            "linecolor": "white",
            "ticks": ""
           },
           "bgcolor": "#E5ECF6",
           "radialaxis": {
            "gridcolor": "white",
            "linecolor": "white",
            "ticks": ""
           }
          },
          "scene": {
           "xaxis": {
            "backgroundcolor": "#E5ECF6",
            "gridcolor": "white",
            "gridwidth": 2,
            "linecolor": "white",
            "showbackground": true,
            "ticks": "",
            "zerolinecolor": "white"
           },
           "yaxis": {
            "backgroundcolor": "#E5ECF6",
            "gridcolor": "white",
            "gridwidth": 2,
            "linecolor": "white",
            "showbackground": true,
            "ticks": "",
            "zerolinecolor": "white"
           },
           "zaxis": {
            "backgroundcolor": "#E5ECF6",
            "gridcolor": "white",
            "gridwidth": 2,
            "linecolor": "white",
            "showbackground": true,
            "ticks": "",
            "zerolinecolor": "white"
           }
          },
          "shapedefaults": {
           "line": {
            "color": "#2a3f5f"
           }
          },
          "ternary": {
           "aaxis": {
            "gridcolor": "white",
            "linecolor": "white",
            "ticks": ""
           },
           "baxis": {
            "gridcolor": "white",
            "linecolor": "white",
            "ticks": ""
           },
           "bgcolor": "#E5ECF6",
           "caxis": {
            "gridcolor": "white",
            "linecolor": "white",
            "ticks": ""
           }
          },
          "title": {
           "x": 0.05
          },
          "xaxis": {
           "automargin": true,
           "gridcolor": "white",
           "linecolor": "white",
           "ticks": "",
           "title": {
            "standoff": 15
           },
           "zerolinecolor": "white",
           "zerolinewidth": 2
          },
          "yaxis": {
           "automargin": true,
           "gridcolor": "white",
           "linecolor": "white",
           "ticks": "",
           "title": {
            "standoff": 15
           },
           "zerolinecolor": "white",
           "zerolinewidth": 2
          }
         }
        },
        "title": {
         "text": "Cantidad de datos por Provincia - Buenos Aires y CABA - Capital Federal"
        },
        "xaxis": {
         "anchor": "y",
         "autorange": true,
         "domain": [
          0,
          1
         ],
         "range": [
          -0.5,
          61.5
         ],
         "title": {
          "text": "place_name"
         },
         "type": "category"
        },
        "yaxis": {
         "anchor": "x",
         "autorange": true,
         "domain": [
          0,
          1
         ],
         "range": [
          0,
          2238.9473684210525
         ],
         "title": {
          "text": "counter"
         },
         "type": "linear"
        }
       }
      },
      "image/png": "[encoded data removed]",
      "text/html": [
       "<div>\n",
       "        \n",
       "        \n",
       "            <div id=\"9f73bbdd-731d-4d6a-a451-5907c2ae1a15\" class=\"plotly-graph-div\" style=\"height:400px; width:100%;\"></div>\n",
       "            <script type=\"text/javascript\">\n",
       "                require([\"plotly\"], function(Plotly) {\n",
       "                    window.PLOTLYENV=window.PLOTLYENV || {};\n",
       "                    \n",
       "                if (document.getElementById(\"9f73bbdd-731d-4d6a-a451-5907c2ae1a15\")) {\n",
       "                    Plotly.newPlot(\n",
       "                        '9f73bbdd-731d-4d6a-a451-5907c2ae1a15',\n",
       "                        [{\"alignmentgroup\": \"True\", \"hovertemplate\": \"nulos=Hay datos<br>place_name=%{x}<br>counter=%{y}<extra></extra>\", \"legendgroup\": \"Hay datos\", \"marker\": {\"color\": \"#636efa\"}, \"name\": \"Hay datos\", \"offsetgroup\": \"Hay datos\", \"orientation\": \"v\", \"showlegend\": true, \"textposition\": \"auto\", \"type\": \"bar\", \"x\": [\"Abasto\", \"Agronom\\u00eda\", \"Almagro\", \"Balvanera\", \"Barracas\", \"Barrio Norte\", \"Belgrano\", \"Boca\", \"Boedo\", \"Caballito\", \"Capital Federal\", \"Catalinas\", \"Centro / Microcentro\", \"Chacarita\", \"Coghlan\", \"Colegiales\", \"Congreso\", \"Constituci\\u00f3n\", \"Flores\", \"Floresta\", \"Las Ca\\u00f1itas\", \"Liniers\", \"Mataderos\", \"Monserrat\", \"Monte Castro\", \"Nu\\u00f1ez\", \"Once\", \"Palermo\", \"Palermo Chico\", \"Palermo Hollywood\", \"Palermo Soho\", \"Palermo Viejo\", \"Parque Avellaneda\", \"Parque Centenario\", \"Parque Chacabuco\", \"Parque Chas\", \"Parque Patricios\", \"Paternal\", \"Pompeya\", \"Puerto Madero\", \"Recoleta\", \"Retiro\", \"Saavedra\", \"San Cristobal\", \"San Nicol\\u00e1s\", \"San Telmo\", \"Tribunales\", \"Velez Sarsfield\", \"Versalles\", \"Villa Crespo\", \"Villa Devoto\", \"Villa General Mitre\", \"Villa Lugano\", \"Villa Luro\", \"Villa Ortuzar\", \"Villa Pueyrred\\u00f3n\", \"Villa Real\", \"Villa Riachuelo\", \"Villa Santa Rita\", \"Villa Soldati\", \"Villa Urquiza\", \"Villa del Parque\"], \"xaxis\": \"x\", \"y\": [85, 25, 830, 473, 355, 890, 2127, 178, 800, 1678, 831, 1, 193, 178, 197, 258, 232, 161, 1015, 291, 128, 248, 287, 330, 46, 553, 120, 1983, 182, 446, 300, 37, 31, 61, 89, 15, 233, 105, 31, 490, 1188, 173, 411, 454, 123, 1000, 73, 26, 26, 1028, 262, 39, 128, 299, 77, 117, 27, 3, 27, 7, 1088, 345], \"yaxis\": \"y\"}, {\"alignmentgroup\": \"True\", \"hovertemplate\": \"nulos=No hay datos<br>place_name=%{x}<br>counter=%{y}<extra></extra>\", \"legendgroup\": \"No hay datos\", \"marker\": {\"color\": \"#EF553B\"}, \"name\": \"No hay datos\", \"offsetgroup\": \"No hay datos\", \"orientation\": \"v\", \"showlegend\": true, \"textposition\": \"auto\", \"type\": \"bar\", \"x\": [\"Abasto\", \"Agronom\\u00eda\", \"Almagro\", \"Balvanera\", \"Barracas\", \"Barrio Norte\", \"Belgrano\", \"Boca\", \"Boedo\", \"Caballito\", \"Capital Federal\", \"Catalinas\", \"Centro / Microcentro\", \"Chacarita\", \"Coghlan\", \"Colegiales\", \"Congreso\", \"Constituci\\u00f3n\", \"Flores\", \"Floresta\", \"Las Ca\\u00f1itas\", \"Liniers\", \"Mataderos\", \"Monserrat\", \"Monte Castro\", \"Nu\\u00f1ez\", \"Once\", \"Palermo\", \"Palermo Chico\", \"Palermo Hollywood\", \"Palermo Soho\", \"Palermo Viejo\", \"Parque Avellaneda\", \"Parque Centenario\", \"Parque Chacabuco\", \"Parque Chas\", \"Parque Patricios\", \"Paternal\", \"Pompeya\", \"Puerto Madero\", \"Recoleta\", \"Retiro\", \"Saavedra\", \"San Cristobal\", \"San Nicol\\u00e1s\", \"San Telmo\", \"Tribunales\", \"Velez Sarsfield\", \"Versalles\", \"Villa Crespo\", \"Villa Devoto\", \"Villa General Mitre\", \"Villa Lugano\", \"Villa Luro\", \"Villa Ortuzar\", \"Villa Pueyrred\\u00f3n\", \"Villa Real\", \"Villa Riachuelo\", \"Villa Santa Rita\", \"Villa Soldati\", \"Villa Urquiza\", \"Villa del Parque\"], \"xaxis\": \"x\", \"y\": [28, 16, 335, 194, 70, 250, 865, 45, 90, 595, 466, 3, 30, 49, 62, 94, 72, 50, 339, 225, 15, 160, 131, 208, 33, 225, 78, 902, 50, 86, 94, 3, 25, 7, 57, 29, 89, 68, 33, 157, 359, 75, 131, 160, 64, 216, 25, 13, 29, 303, 158, 9, 77, 133, 9, 58, 10, 3, 30, 8, 541, 143], \"yaxis\": \"y\"}],\n",
       "                        {\"barmode\": \"group\", \"height\": 400, \"legend\": {\"title\": {\"text\": \"nulos\"}, \"tracegroupgap\": 0}, \"template\": {\"data\": {\"bar\": [{\"error_x\": {\"color\": \"#2a3f5f\"}, \"error_y\": {\"color\": \"#2a3f5f\"}, \"marker\": {\"line\": {\"color\": \"#E5ECF6\", \"width\": 0.5}}, \"type\": \"bar\"}], \"barpolar\": [{\"marker\": {\"line\": {\"color\": \"#E5ECF6\", \"width\": 0.5}}, \"type\": \"barpolar\"}], \"carpet\": [{\"aaxis\": {\"endlinecolor\": \"#2a3f5f\", \"gridcolor\": \"white\", \"linecolor\": \"white\", \"minorgridcolor\": \"white\", \"startlinecolor\": \"#2a3f5f\"}, \"baxis\": {\"endlinecolor\": \"#2a3f5f\", \"gridcolor\": \"white\", \"linecolor\": \"white\", \"minorgridcolor\": \"white\", \"startlinecolor\": \"#2a3f5f\"}, \"type\": \"carpet\"}], \"choropleth\": [{\"colorbar\": {\"outlinewidth\": 0, \"ticks\": \"\"}, \"type\": \"choropleth\"}], \"contour\": [{\"colorbar\": {\"outlinewidth\": 0, \"ticks\": \"\"}, \"colorscale\": [[0.0, \"#0d0887\"], [0.1111111111111111, \"#46039f\"], [0.2222222222222222, \"#7201a8\"], [0.3333333333333333, \"#9c179e\"], [0.4444444444444444, \"#bd3786\"], [0.5555555555555556, \"#d8576b\"], [0.6666666666666666, \"#ed7953\"], [0.7777777777777778, \"#fb9f3a\"], [0.8888888888888888, \"#fdca26\"], [1.0, \"#f0f921\"]], \"type\": \"contour\"}], \"contourcarpet\": [{\"colorbar\": {\"outlinewidth\": 0, \"ticks\": \"\"}, \"type\": \"contourcarpet\"}], \"heatmap\": [{\"colorbar\": {\"outlinewidth\": 0, \"ticks\": \"\"}, \"colorscale\": [[0.0, \"#0d0887\"], [0.1111111111111111, \"#46039f\"], [0.2222222222222222, \"#7201a8\"], [0.3333333333333333, \"#9c179e\"], [0.4444444444444444, \"#bd3786\"], [0.5555555555555556, \"#d8576b\"], [0.6666666666666666, \"#ed7953\"], [0.7777777777777778, \"#fb9f3a\"], [0.8888888888888888, \"#fdca26\"], [1.0, \"#f0f921\"]], \"type\": \"heatmap\"}], \"heatmapgl\": [{\"colorbar\": {\"outlinewidth\": 0, \"ticks\": \"\"}, \"colorscale\": [[0.0, \"#0d0887\"], [0.1111111111111111, \"#46039f\"], [0.2222222222222222, \"#7201a8\"], [0.3333333333333333, \"#9c179e\"], [0.4444444444444444, \"#bd3786\"], [0.5555555555555556, \"#d8576b\"], [0.6666666666666666, \"#ed7953\"], [0.7777777777777778, \"#fb9f3a\"], [0.8888888888888888, \"#fdca26\"], [1.0, \"#f0f921\"]], \"type\": \"heatmapgl\"}], \"histogram\": [{\"marker\": {\"colorbar\": {\"outlinewidth\": 0, \"ticks\": \"\"}}, \"type\": \"histogram\"}], \"histogram2d\": [{\"colorbar\": {\"outlinewidth\": 0, \"ticks\": \"\"}, \"colorscale\": [[0.0, \"#0d0887\"], [0.1111111111111111, \"#46039f\"], [0.2222222222222222, \"#7201a8\"], [0.3333333333333333, \"#9c179e\"], [0.4444444444444444, \"#bd3786\"], [0.5555555555555556, \"#d8576b\"], [0.6666666666666666, \"#ed7953\"], [0.7777777777777778, \"#fb9f3a\"], [0.8888888888888888, \"#fdca26\"], [1.0, \"#f0f921\"]], \"type\": \"histogram2d\"}], \"histogram2dcontour\": [{\"colorbar\": {\"outlinewidth\": 0, \"ticks\": \"\"}, \"colorscale\": [[0.0, \"#0d0887\"], [0.1111111111111111, \"#46039f\"], [0.2222222222222222, \"#7201a8\"], [0.3333333333333333, \"#9c179e\"], [0.4444444444444444, \"#bd3786\"], [0.5555555555555556, \"#d8576b\"], [0.6666666666666666, \"#ed7953\"], [0.7777777777777778, \"#fb9f3a\"], [0.8888888888888888, \"#fdca26\"], [1.0, \"#f0f921\"]], \"type\": \"histogram2dcontour\"}], \"mesh3d\": [{\"colorbar\": {\"outlinewidth\": 0, \"ticks\": \"\"}, \"type\": \"mesh3d\"}], \"parcoords\": [{\"line\": {\"colorbar\": {\"outlinewidth\": 0, \"ticks\": \"\"}}, \"type\": \"parcoords\"}], \"pie\": [{\"automargin\": true, \"type\": \"pie\"}], \"scatter\": [{\"marker\": {\"colorbar\": {\"outlinewidth\": 0, \"ticks\": \"\"}}, \"type\": \"scatter\"}], \"scatter3d\": [{\"line\": {\"colorbar\": {\"outlinewidth\": 0, \"ticks\": \"\"}}, \"marker\": {\"colorbar\": {\"outlinewidth\": 0, \"ticks\": \"\"}}, \"type\": \"scatter3d\"}], \"scattercarpet\": [{\"marker\": {\"colorbar\": {\"outlinewidth\": 0, \"ticks\": \"\"}}, \"type\": \"scattercarpet\"}], \"scattergeo\": [{\"marker\": {\"colorbar\": {\"outlinewidth\": 0, \"ticks\": \"\"}}, \"type\": \"scattergeo\"}], \"scattergl\": [{\"marker\": {\"colorbar\": {\"outlinewidth\": 0, \"ticks\": \"\"}}, \"type\": \"scattergl\"}], \"scattermapbox\": [{\"marker\": {\"colorbar\": {\"outlinewidth\": 0, \"ticks\": \"\"}}, \"type\": \"scattermapbox\"}], \"scatterpolar\": [{\"marker\": {\"colorbar\": {\"outlinewidth\": 0, \"ticks\": \"\"}}, \"type\": \"scatterpolar\"}], \"scatterpolargl\": [{\"marker\": {\"colorbar\": {\"outlinewidth\": 0, \"ticks\": \"\"}}, \"type\": \"scatterpolargl\"}], \"scatterternary\": [{\"marker\": {\"colorbar\": {\"outlinewidth\": 0, \"ticks\": \"\"}}, \"type\": \"scatterternary\"}], \"surface\": [{\"colorbar\": {\"outlinewidth\": 0, \"ticks\": \"\"}, \"colorscale\": [[0.0, \"#0d0887\"], [0.1111111111111111, \"#46039f\"], [0.2222222222222222, \"#7201a8\"], [0.3333333333333333, \"#9c179e\"], [0.4444444444444444, \"#bd3786\"], [0.5555555555555556, \"#d8576b\"], [0.6666666666666666, \"#ed7953\"], [0.7777777777777778, \"#fb9f3a\"], [0.8888888888888888, \"#fdca26\"], [1.0, \"#f0f921\"]], \"type\": \"surface\"}], \"table\": [{\"cells\": {\"fill\": {\"color\": \"#EBF0F8\"}, \"line\": {\"color\": \"white\"}}, \"header\": {\"fill\": {\"color\": \"#C8D4E3\"}, \"line\": {\"color\": \"white\"}}, \"type\": \"table\"}]}, \"layout\": {\"annotationdefaults\": {\"arrowcolor\": \"#2a3f5f\", \"arrowhead\": 0, \"arrowwidth\": 1}, \"coloraxis\": {\"colorbar\": {\"outlinewidth\": 0, \"ticks\": \"\"}}, \"colorscale\": {\"diverging\": [[0, \"#8e0152\"], [0.1, \"#c51b7d\"], [0.2, \"#de77ae\"], [0.3, \"#f1b6da\"], [0.4, \"#fde0ef\"], [0.5, \"#f7f7f7\"], [0.6, \"#e6f5d0\"], [0.7, \"#b8e186\"], [0.8, \"#7fbc41\"], [0.9, \"#4d9221\"], [1, \"#276419\"]], \"sequential\": [[0.0, \"#0d0887\"], [0.1111111111111111, \"#46039f\"], [0.2222222222222222, \"#7201a8\"], [0.3333333333333333, \"#9c179e\"], [0.4444444444444444, \"#bd3786\"], [0.5555555555555556, \"#d8576b\"], [0.6666666666666666, \"#ed7953\"], [0.7777777777777778, \"#fb9f3a\"], [0.8888888888888888, \"#fdca26\"], [1.0, \"#f0f921\"]], \"sequentialminus\": [[0.0, \"#0d0887\"], [0.1111111111111111, \"#46039f\"], [0.2222222222222222, \"#7201a8\"], [0.3333333333333333, \"#9c179e\"], [0.4444444444444444, \"#bd3786\"], [0.5555555555555556, \"#d8576b\"], [0.6666666666666666, \"#ed7953\"], [0.7777777777777778, \"#fb9f3a\"], [0.8888888888888888, \"#fdca26\"], [1.0, \"#f0f921\"]]}, \"colorway\": [\"#636efa\", \"#EF553B\", \"#00cc96\", \"#ab63fa\", \"#FFA15A\", \"#19d3f3\", \"#FF6692\", \"#B6E880\", \"#FF97FF\", \"#FECB52\"], \"font\": {\"color\": \"#2a3f5f\"}, \"geo\": {\"bgcolor\": \"white\", \"lakecolor\": \"white\", \"landcolor\": \"#E5ECF6\", \"showlakes\": true, \"showland\": true, \"subunitcolor\": \"white\"}, \"hoverlabel\": {\"align\": \"left\"}, \"hovermode\": \"closest\", \"mapbox\": {\"style\": \"light\"}, \"paper_bgcolor\": \"white\", \"plot_bgcolor\": \"#E5ECF6\", \"polar\": {\"angularaxis\": {\"gridcolor\": \"white\", \"linecolor\": \"white\", \"ticks\": \"\"}, \"bgcolor\": \"#E5ECF6\", \"radialaxis\": {\"gridcolor\": \"white\", \"linecolor\": \"white\", \"ticks\": \"\"}}, \"scene\": {\"xaxis\": {\"backgroundcolor\": \"#E5ECF6\", \"gridcolor\": \"white\", \"gridwidth\": 2, \"linecolor\": \"white\", \"showbackground\": true, \"ticks\": \"\", \"zerolinecolor\": \"white\"}, \"yaxis\": {\"backgroundcolor\": \"#E5ECF6\", \"gridcolor\": \"white\", \"gridwidth\": 2, \"linecolor\": \"white\", \"showbackground\": true, \"ticks\": \"\", \"zerolinecolor\": \"white\"}, \"zaxis\": {\"backgroundcolor\": \"#E5ECF6\", \"gridcolor\": \"white\", \"gridwidth\": 2, \"linecolor\": \"white\", \"showbackground\": true, \"ticks\": \"\", \"zerolinecolor\": \"white\"}}, \"shapedefaults\": {\"line\": {\"color\": \"#2a3f5f\"}}, \"ternary\": {\"aaxis\": {\"gridcolor\": \"white\", \"linecolor\": \"white\", \"ticks\": \"\"}, \"baxis\": {\"gridcolor\": \"white\", \"linecolor\": \"white\", \"ticks\": \"\"}, \"bgcolor\": \"#E5ECF6\", \"caxis\": {\"gridcolor\": \"white\", \"linecolor\": \"white\", \"ticks\": \"\"}}, \"title\": {\"x\": 0.05}, \"xaxis\": {\"automargin\": true, \"gridcolor\": \"white\", \"linecolor\": \"white\", \"ticks\": \"\", \"title\": {\"standoff\": 15}, \"zerolinecolor\": \"white\", \"zerolinewidth\": 2}, \"yaxis\": {\"automargin\": true, \"gridcolor\": \"white\", \"linecolor\": \"white\", \"ticks\": \"\", \"title\": {\"standoff\": 15}, \"zerolinecolor\": \"white\", \"zerolinewidth\": 2}}}, \"title\": {\"text\": \"Cantidad de datos por Provincia - Buenos Aires y CABA - Capital Federal\"}, \"xaxis\": {\"anchor\": \"y\", \"domain\": [0.0, 1.0], \"title\": {\"text\": \"place_name\"}}, \"yaxis\": {\"anchor\": \"x\", \"domain\": [0.0, 1.0], \"title\": {\"text\": \"counter\"}}},\n",
       "                        {\"responsive\": true}\n",
       "                    ).then(function(){\n",
       "                            \n",
       "var gd = document.getElementById('9f73bbdd-731d-4d6a-a451-5907c2ae1a15');\n",
       "var x = new MutationObserver(function (mutations, observer) {{\n",
       "        var display = window.getComputedStyle(gd).display;\n",
       "        if (!display || display === 'none') {{\n",
       "            console.log([gd, 'removed!']);\n",
       "            Plotly.purge(gd);\n",
       "            observer.disconnect();\n",
       "        }}\n",
       "}});\n",
       "\n",
       "// Listen for the removal of the full notebook cells\n",
       "var notebookContainer = gd.closest('#notebook-container');\n",
       "if (notebookContainer) {{\n",
       "    x.observe(notebookContainer, {childList: true});\n",
       "}}\n",
       "\n",
       "// Listen for the clearing of the current output cell\n",
       "var outputEl = gd.closest('.output');\n",
       "if (outputEl) {{\n",
       "    x.observe(outputEl, {childList: true});\n",
       "}}\n",
       "\n",
       "                        })\n",
       "                };\n",
       "                });\n",
       "            </script>\n",
       "        </div>"
      ]
     },
     "metadata": {},
     "output_type": "display_data"
    }
   ],
   "source": [
    "fig = px.bar(caba_barrios_grupo, x=\"place_name\", y=\"counter\",\n",
    "             color='nulos', barmode='group',\n",
    "             height=400, title=\"Cantidad de datos por Provincia - Buenos Aires y CABA - Capital Federal\")\n",
    "fig.show()\n",
    "\n"
   ]
  },
  {
   "cell_type": "code",
   "execution_count": 109,
   "metadata": {},
   "outputs": [
    {
     "data": {
      "application/vnd.plotly.v1+json": {
       "config": {
        "plotlyServerURL": "https://plotly.com"
       },
       "data": [
        {
         "alignmentgroup": "True",
         "hovertemplate": "nulos=Hay datos<br>place_name=%{x}<br>counter=%{y}<extra></extra>",
         "legendgroup": "Hay datos",
         "marker": {
          "color": "#636efa"
         },
         "name": "Hay datos",
         "offsetgroup": "Hay datos",
         "orientation": "v",
         "showlegend": true,
         "textposition": "auto",
         "type": "bar",
         "x": [
          "9 de Abril",
          "Abril Club de Campo",
          "Adrogué",
          "Aeropuerto Internacional Ezeiza",
          "Alejandro Korn",
          "Almirante Brown",
          "Altos de Hudson II",
          "Avellaneda",
          "Banfield",
          "Barrio Cerrado \"Los Ombúes de Hudson\"",
          "Barrio Melazzi",
          "Barrio Privado El Rodal",
          "Barrio Privado Santa Rita",
          "Berazategui",
          "Berazategui Oeste",
          "Bernal",
          "Brickland",
          "Bs.As. G.B.A. Zona Sur",
          "Burzaco",
          "Canning",
          "Carlos Spegazzini",
          "Cañuelas",
          "Chacras de La Trinidad",
          "City Bell",
          "Claypole",
          "Club El Carmen - Sector casas",
          "Complejo de Barrios Privados La Magdalena",
          "Country Nuevo Quilmes",
          "Country Saint Thomas",
          "Crucecita",
          "Dock Sud",
          "Domselaar",
          "Don Bosco",
          "Don Orione",
          "Echeverría del Lago",
          "El Centauro",
          "El Jagüel",
          "El Pato",
          "El Rocío",
          "Esteban Echeverría",
          "Etcheverry",
          "Ex La Ponderosa",
          "Ezeiza",
          "Ezpeleta",
          "Fincas de Hudson",
          "Fincas de Iraola",
          "Fincas de San Vicente",
          "Florencio Varela",
          "Gerli",
          "Glew",
          "Gorina",
          "Grand Bell",
          "GreenVille Polo & Resort",
          "Guernica",
          "Guillermo Hudson",
          "Haras del Sur I",
          "Ingeniero Juan Allan",
          "Jose Marmol",
          "La Plata",
          "La Unión",
          "La horqueta de Echeverría",
          "Lanús",
          "Lanús Este",
          "Lanús Oeste",
          "Las Golondrinas",
          "Lisandro Olmos",
          "Llavallol",
          "Lomas de Zamora",
          "Longchamps",
          "Los Hornos",
          "Luis Guillón",
          "Manuel B Gonnet",
          "Melchor Romero",
          "Mi Refugio",
          "Ministro Rivadavia",
          "Monte Chingolo",
          "Monte Grande",
          "Máximo Paz",
          "Piñeiro",
          "Platanos",
          "Presidente Perón",
          "Quilmes",
          "Rafael Calzada",
          "Ranelagh",
          "Remedios de Escalada",
          "Ringuelet",
          "San Carlos",
          "San Eliseo Country, Golf, Hotel & Spa",
          "San Francisco Solano",
          "San Jose",
          "San José",
          "San Lorenzo",
          "San Vicente",
          "Sarandi",
          "Solar del Bosque",
          "Sourigues",
          "Temperley",
          "Terralagos",
          "Tolosa",
          "Tristán Suárez",
          "Turdera",
          "Valentín Alsina",
          "Vicente Casares",
          "Villa Dominico",
          "Villa Elisa",
          "Villa Elvira",
          "Villa Fiorito",
          "Villa Vatteone",
          "Wilde"
         ],
         "xaxis": "x",
         "y": [
          2,
          4,
          374,
          1,
          6,
          15,
          10,
          306,
          449,
          10,
          1,
          1,
          1,
          130,
          1,
          65,
          6,
          12,
          81,
          232,
          8,
          19,
          1,
          64,
          4,
          2,
          1,
          26,
          7,
          7,
          5,
          2,
          4,
          4,
          4,
          4,
          1,
          3,
          8,
          107,
          1,
          1,
          142,
          15,
          22,
          59,
          3,
          19,
          24,
          81,
          1,
          3,
          9,
          38,
          1,
          1,
          1,
          66,
          814,
          3,
          18,
          510,
          36,
          138,
          6,
          1,
          27,
          702,
          33,
          10,
          7,
          60,
          1,
          1,
          2,
          8,
          94,
          1,
          6,
          1,
          13,
          309,
          5,
          9,
          158,
          4,
          7,
          1,
          1,
          3,
          1,
          2,
          43,
          28,
          14,
          3,
          248,
          1,
          15,
          24,
          17,
          156,
          1,
          29,
          29,
          4,
          2,
          3,
          89
         ],
         "yaxis": "y"
        },
        {
         "alignmentgroup": "True",
         "hovertemplate": "nulos=No hay datos<br>place_name=%{x}<br>counter=%{y}<extra></extra>",
         "legendgroup": "No hay datos",
         "marker": {
          "color": "#EF553B"
         },
         "name": "No hay datos",
         "offsetgroup": "No hay datos",
         "orientation": "v",
         "showlegend": true,
         "textposition": "auto",
         "type": "bar",
         "x": [
          "9 de Abril",
          "Abasto",
          "Abril Club de Campo",
          "Adrogué",
          "Aeropuerto Internacional Ezeiza",
          "Alejandro Korn",
          "Almirante Brown",
          "Altos de Hudson I",
          "Altos de Hudson II",
          "Arturo Seguí",
          "Avellaneda",
          "Banfield",
          "Barrio Cerrado \"Los Ombúes de Hudson\"",
          "Barrio Cerrado Los Troncos",
          "Barrio Privado Santa Rita",
          "Berazategui",
          "Bernal",
          "Bosques",
          "Brickland",
          "Bs.As. G.B.A. Zona Sur",
          "Burzaco",
          "Canning",
          "Carlos Spegazzini",
          "Cañuelas",
          "City Bell",
          "Claypole",
          "Club de Campo La Martona",
          "Country Golf El Sosiego",
          "Country Nuevo Quilmes",
          "Country Saint Thomas",
          "Dock Sud",
          "Domselaar",
          "Don Bosco",
          "Don Orione",
          "Echeverría del Lago",
          "El Centauro",
          "El Jagüel",
          "El Pato Country Club",
          "El Rocío",
          "Esteban Echeverría",
          "Etcheverry",
          "Ex La Ponderosa",
          "Ezeiza",
          "Ezpeleta",
          "Fincas de Hudson",
          "Fincas de Iraola",
          "Fincas de Iraola II",
          "Fincas de San Vicente",
          "Florencio Varela",
          "Gerli",
          "Glew",
          "GreenVille Polo & Resort",
          "Guernica",
          "Guillermo Hudson",
          "Gutierrez",
          "Haras del Sur I",
          "Ingeniero Juan Allan",
          "Jose Marmol",
          "José Hernández",
          "La Plata",
          "La Unión",
          "La horqueta de Echeverría",
          "Lanús",
          "Lanús Este",
          "Lanús Oeste",
          "Las Golondrinas",
          "Lisandro Olmos",
          "Llavallol",
          "Lomas de Zamora",
          "Longchamps",
          "Los Hornos",
          "Luis Guillón",
          "Malvinas Argentinas",
          "Manuel B Gonnet",
          "Melchor Romero",
          "Ministro Rivadavia",
          "Monte Chingolo",
          "Monte Grande",
          "Máximo Paz",
          "Platanos",
          "Presidente Perón",
          "Quilmes",
          "Rafael Calzada",
          "Ranelagh",
          "Remedios de Escalada",
          "Ringuelet",
          "San Carlos",
          "San Francisco Solano",
          "San Jose",
          "San José",
          "San Vicente",
          "Sarandi",
          "Solar del Bosque",
          "Sourigues",
          "Temperley",
          "Terralagos",
          "Tolosa",
          "Tristán Suárez",
          "Turdera",
          "Uribelarrea",
          "Valentín Alsina",
          "Vicente Casares",
          "Villa Centenario",
          "Villa Dominico",
          "Villa Elisa",
          "Villa Elvira",
          "Villa Fiorito",
          "Villa Vatteone",
          "Wilde"
         ],
         "xaxis": "x",
         "y": [
          1,
          26,
          15,
          360,
          1,
          10,
          27,
          1,
          2,
          7,
          105,
          558,
          3,
          1,
          1,
          99,
          74,
          1,
          3,
          12,
          287,
          124,
          5,
          19,
          253,
          42,
          2,
          1,
          5,
          4,
          3,
          1,
          11,
          4,
          6,
          3,
          1,
          1,
          6,
          102,
          4,
          1,
          101,
          3,
          21,
          6,
          16,
          2,
          12,
          18,
          19,
          7,
          67,
          3,
          2,
          4,
          6,
          82,
          1,
          1720,
          9,
          3,
          538,
          8,
          34,
          1,
          8,
          120,
          827,
          72,
          3,
          33,
          5,
          142,
          3,
          4,
          7,
          134,
          1,
          8,
          6,
          390,
          31,
          27,
          148,
          2,
          6,
          1,
          2,
          10,
          65,
          15,
          11,
          2,
          455,
          2,
          42,
          28,
          52,
          3,
          55,
          1,
          1,
          6,
          109,
          13,
          1,
          3,
          50
         ],
         "yaxis": "y"
        }
       ],
       "layout": {
        "autosize": true,
        "barmode": "group",
        "legend": {
         "title": {
          "text": "nulos"
         },
         "tracegroupgap": 0
        },
        "template": {
         "data": {
          "bar": [
           {
            "error_x": {
             "color": "#2a3f5f"
            },
            "error_y": {
             "color": "#2a3f5f"
            },
            "marker": {
             "line": {
              "color": "#E5ECF6",
              "width": 0.5
             }
            },
            "type": "bar"
           }
          ],
          "barpolar": [
           {
            "marker": {
             "line": {
              "color": "#E5ECF6",
              "width": 0.5
             }
            },
            "type": "barpolar"
           }
          ],
          "carpet": [
           {
            "aaxis": {
             "endlinecolor": "#2a3f5f",
             "gridcolor": "white",
             "linecolor": "white",
             "minorgridcolor": "white",
             "startlinecolor": "#2a3f5f"
            },
            "baxis": {
             "endlinecolor": "#2a3f5f",
             "gridcolor": "white",
             "linecolor": "white",
             "minorgridcolor": "white",
             "startlinecolor": "#2a3f5f"
            },
            "type": "carpet"
           }
          ],
          "choropleth": [
           {
            "colorbar": {
             "outlinewidth": 0,
             "ticks": ""
            },
            "type": "choropleth"
           }
          ],
          "contour": [
           {
            "colorbar": {
             "outlinewidth": 0,
             "ticks": ""
            },
            "colorscale": [
             [
              0,
              "#0d0887"
             ],
             [
              0.1111111111111111,
              "#46039f"
             ],
             [
              0.2222222222222222,
              "#7201a8"
             ],
             [
              0.3333333333333333,
              "#9c179e"
             ],
             [
              0.4444444444444444,
              "#bd3786"
             ],
             [
              0.5555555555555556,
              "#d8576b"
             ],
             [
              0.6666666666666666,
              "#ed7953"
             ],
             [
              0.7777777777777778,
              "#fb9f3a"
             ],
             [
              0.8888888888888888,
              "#fdca26"
             ],
             [
              1,
              "#f0f921"
             ]
            ],
            "type": "contour"
           }
          ],
          "contourcarpet": [
           {
            "colorbar": {
             "outlinewidth": 0,
             "ticks": ""
            },
            "type": "contourcarpet"
           }
          ],
          "heatmap": [
           {
            "colorbar": {
             "outlinewidth": 0,
             "ticks": ""
            },
            "colorscale": [
             [
              0,
              "#0d0887"
             ],
             [
              0.1111111111111111,
              "#46039f"
             ],
             [
              0.2222222222222222,
              "#7201a8"
             ],
             [
              0.3333333333333333,
              "#9c179e"
             ],
             [
              0.4444444444444444,
              "#bd3786"
             ],
             [
              0.5555555555555556,
              "#d8576b"
             ],
             [
              0.6666666666666666,
              "#ed7953"
             ],
             [
              0.7777777777777778,
              "#fb9f3a"
             ],
             [
              0.8888888888888888,
              "#fdca26"
             ],
             [
              1,
              "#f0f921"
             ]
            ],
            "type": "heatmap"
           }
          ],
          "heatmapgl": [
           {
            "colorbar": {
             "outlinewidth": 0,
             "ticks": ""
            },
            "colorscale": [
             [
              0,
              "#0d0887"
             ],
             [
              0.1111111111111111,
              "#46039f"
             ],
             [
              0.2222222222222222,
              "#7201a8"
             ],
             [
              0.3333333333333333,
              "#9c179e"
             ],
             [
              0.4444444444444444,
              "#bd3786"
             ],
             [
              0.5555555555555556,
              "#d8576b"
             ],
             [
              0.6666666666666666,
              "#ed7953"
             ],
             [
              0.7777777777777778,
              "#fb9f3a"
             ],
             [
              0.8888888888888888,
              "#fdca26"
             ],
             [
              1,
              "#f0f921"
             ]
            ],
            "type": "heatmapgl"
           }
          ],
          "histogram": [
           {
            "marker": {
             "colorbar": {
              "outlinewidth": 0,
              "ticks": ""
             }
            },
            "type": "histogram"
           }
          ],
          "histogram2d": [
           {
            "colorbar": {
             "outlinewidth": 0,
             "ticks": ""
            },
            "colorscale": [
             [
              0,
              "#0d0887"
             ],
             [
              0.1111111111111111,
              "#46039f"
             ],
             [
              0.2222222222222222,
              "#7201a8"
             ],
             [
              0.3333333333333333,
              "#9c179e"
             ],
             [
              0.4444444444444444,
              "#bd3786"
             ],
             [
              0.5555555555555556,
              "#d8576b"
             ],
             [
              0.6666666666666666,
              "#ed7953"
             ],
             [
              0.7777777777777778,
              "#fb9f3a"
             ],
             [
              0.8888888888888888,
              "#fdca26"
             ],
             [
              1,
              "#f0f921"
             ]
            ],
            "type": "histogram2d"
           }
          ],
          "histogram2dcontour": [
           {
            "colorbar": {
             "outlinewidth": 0,
             "ticks": ""
            },
            "colorscale": [
             [
              0,
              "#0d0887"
             ],
             [
              0.1111111111111111,
              "#46039f"
             ],
             [
              0.2222222222222222,
              "#7201a8"
             ],
             [
              0.3333333333333333,
              "#9c179e"
             ],
             [
              0.4444444444444444,
              "#bd3786"
             ],
             [
              0.5555555555555556,
              "#d8576b"
             ],
             [
              0.6666666666666666,
              "#ed7953"
             ],
             [
              0.7777777777777778,
              "#fb9f3a"
             ],
             [
              0.8888888888888888,
              "#fdca26"
             ],
             [
              1,
              "#f0f921"
             ]
            ],
            "type": "histogram2dcontour"
           }
          ],
          "mesh3d": [
           {
            "colorbar": {
             "outlinewidth": 0,
             "ticks": ""
            },
            "type": "mesh3d"
           }
          ],
          "parcoords": [
           {
            "line": {
             "colorbar": {
              "outlinewidth": 0,
              "ticks": ""
             }
            },
            "type": "parcoords"
           }
          ],
          "pie": [
           {
            "automargin": true,
            "type": "pie"
           }
          ],
          "scatter": [
           {
            "marker": {
             "colorbar": {
              "outlinewidth": 0,
              "ticks": ""
             }
            },
            "type": "scatter"
           }
          ],
          "scatter3d": [
           {
            "line": {
             "colorbar": {
              "outlinewidth": 0,
              "ticks": ""
             }
            },
            "marker": {
             "colorbar": {
              "outlinewidth": 0,
              "ticks": ""
             }
            },
            "type": "scatter3d"
           }
          ],
          "scattercarpet": [
           {
            "marker": {
             "colorbar": {
              "outlinewidth": 0,
              "ticks": ""
             }
            },
            "type": "scattercarpet"
           }
          ],
          "scattergeo": [
           {
            "marker": {
             "colorbar": {
              "outlinewidth": 0,
              "ticks": ""
             }
            },
            "type": "scattergeo"
           }
          ],
          "scattergl": [
           {
            "marker": {
             "colorbar": {
              "outlinewidth": 0,
              "ticks": ""
             }
            },
            "type": "scattergl"
           }
          ],
          "scattermapbox": [
           {
            "marker": {
             "colorbar": {
              "outlinewidth": 0,
              "ticks": ""
             }
            },
            "type": "scattermapbox"
           }
          ],
          "scatterpolar": [
           {
            "marker": {
             "colorbar": {
              "outlinewidth": 0,
              "ticks": ""
             }
            },
            "type": "scatterpolar"
           }
          ],
          "scatterpolargl": [
           {
            "marker": {
             "colorbar": {
              "outlinewidth": 0,
              "ticks": ""
             }
            },
            "type": "scatterpolargl"
           }
          ],
          "scatterternary": [
           {
            "marker": {
             "colorbar": {
              "outlinewidth": 0,
              "ticks": ""
             }
            },
            "type": "scatterternary"
           }
          ],
          "surface": [
           {
            "colorbar": {
             "outlinewidth": 0,
             "ticks": ""
            },
            "colorscale": [
             [
              0,
              "#0d0887"
             ],
             [
              0.1111111111111111,
              "#46039f"
             ],
             [
              0.2222222222222222,
              "#7201a8"
             ],
             [
              0.3333333333333333,
              "#9c179e"
             ],
             [
              0.4444444444444444,
              "#bd3786"
             ],
             [
              0.5555555555555556,
              "#d8576b"
             ],
             [
              0.6666666666666666,
              "#ed7953"
             ],
             [
              0.7777777777777778,
              "#fb9f3a"
             ],
             [
              0.8888888888888888,
              "#fdca26"
             ],
             [
              1,
              "#f0f921"
             ]
            ],
            "type": "surface"
           }
          ],
          "table": [
           {
            "cells": {
             "fill": {
              "color": "#EBF0F8"
             },
             "line": {
              "color": "white"
             }
            },
            "header": {
             "fill": {
              "color": "#C8D4E3"
             },
             "line": {
              "color": "white"
             }
            },
            "type": "table"
           }
          ]
         },
         "layout": {
          "annotationdefaults": {
           "arrowcolor": "#2a3f5f",
           "arrowhead": 0,
           "arrowwidth": 1
          },
          "coloraxis": {
           "colorbar": {
            "outlinewidth": 0,
            "ticks": ""
           }
          },
          "colorscale": {
           "diverging": [
            [
             0,
             "#8e0152"
            ],
            [
             0.1,
             "#c51b7d"
            ],
            [
             0.2,
             "#de77ae"
            ],
            [
             0.3,
             "#f1b6da"
            ],
            [
             0.4,
             "#fde0ef"
            ],
            [
             0.5,
             "#f7f7f7"
            ],
            [
             0.6,
             "#e6f5d0"
            ],
            [
             0.7,
             "#b8e186"
            ],
            [
             0.8,
             "#7fbc41"
            ],
            [
             0.9,
             "#4d9221"
            ],
            [
             1,
             "#276419"
            ]
           ],
           "sequential": [
            [
             0,
             "#0d0887"
            ],
            [
             0.1111111111111111,
             "#46039f"
            ],
            [
             0.2222222222222222,
             "#7201a8"
            ],
            [
             0.3333333333333333,
             "#9c179e"
            ],
            [
             0.4444444444444444,
             "#bd3786"
            ],
            [
             0.5555555555555556,
             "#d8576b"
            ],
            [
             0.6666666666666666,
             "#ed7953"
            ],
            [
             0.7777777777777778,
             "#fb9f3a"
            ],
            [
             0.8888888888888888,
             "#fdca26"
            ],
            [
             1,
             "#f0f921"
            ]
           ],
           "sequentialminus": [
            [
             0,
             "#0d0887"
            ],
            [
             0.1111111111111111,
             "#46039f"
            ],
            [
             0.2222222222222222,
             "#7201a8"
            ],
            [
             0.3333333333333333,
             "#9c179e"
            ],
            [
             0.4444444444444444,
             "#bd3786"
            ],
            [
             0.5555555555555556,
             "#d8576b"
            ],
            [
             0.6666666666666666,
             "#ed7953"
            ],
            [
             0.7777777777777778,
             "#fb9f3a"
            ],
            [
             0.8888888888888888,
             "#fdca26"
            ],
            [
             1,
             "#f0f921"
            ]
           ]
          },
          "colorway": [
           "#636efa",
           "#EF553B",
           "#00cc96",
           "#ab63fa",
           "#FFA15A",
           "#19d3f3",
           "#FF6692",
           "#B6E880",
           "#FF97FF",
           "#FECB52"
          ],
          "font": {
           "color": "#2a3f5f"
          },
          "geo": {
           "bgcolor": "white",
           "lakecolor": "white",
           "landcolor": "#E5ECF6",
           "showlakes": true,
           "showland": true,
           "subunitcolor": "white"
          },
          "hoverlabel": {
           "align": "left"
          },
          "hovermode": "closest",
          "mapbox": {
           "style": "light"
          },
          "paper_bgcolor": "white",
          "plot_bgcolor": "#E5ECF6",
          "polar": {
           "angularaxis": {
            "gridcolor": "white",
            "linecolor": "white",
            "ticks": ""
           },
           "bgcolor": "#E5ECF6",
           "radialaxis": {
            "gridcolor": "white",
            "linecolor": "white",
            "ticks": ""
           }
          },
          "scene": {
           "xaxis": {
            "backgroundcolor": "#E5ECF6",
            "gridcolor": "white",
            "gridwidth": 2,
            "linecolor": "white",
            "showbackground": true,
            "ticks": "",
            "zerolinecolor": "white"
           },
           "yaxis": {
            "backgroundcolor": "#E5ECF6",
            "gridcolor": "white",
            "gridwidth": 2,
            "linecolor": "white",
            "showbackground": true,
            "ticks": "",
            "zerolinecolor": "white"
           },
           "zaxis": {
            "backgroundcolor": "#E5ECF6",
            "gridcolor": "white",
            "gridwidth": 2,
            "linecolor": "white",
            "showbackground": true,
            "ticks": "",
            "zerolinecolor": "white"
           }
          },
          "shapedefaults": {
           "line": {
            "color": "#2a3f5f"
           }
          },
          "ternary": {
           "aaxis": {
            "gridcolor": "white",
            "linecolor": "white",
            "ticks": ""
           },
           "baxis": {
            "gridcolor": "white",
            "linecolor": "white",
            "ticks": ""
           },
           "bgcolor": "#E5ECF6",
           "caxis": {
            "gridcolor": "white",
            "linecolor": "white",
            "ticks": ""
           }
          },
          "title": {
           "x": 0.05
          },
          "xaxis": {
           "automargin": true,
           "gridcolor": "white",
           "linecolor": "white",
           "ticks": "",
           "title": {
            "standoff": 15
           },
           "zerolinecolor": "white",
           "zerolinewidth": 2
          },
          "yaxis": {
           "automargin": true,
           "gridcolor": "white",
           "linecolor": "white",
           "ticks": "",
           "title": {
            "standoff": 15
           },
           "zerolinecolor": "white",
           "zerolinewidth": 2
          }
         }
        },
        "title": {
         "text": " Cantidad de datos por Provincia - Buenos Aires y CABA - Bs.As. G.B.A. Zona Sur"
        },
        "xaxis": {
         "anchor": "y",
         "autorange": true,
         "domain": [
          0,
          1
         ],
         "range": [
          -0.5,
          122.5
         ],
         "title": {
          "text": "place_name"
         },
         "type": "category"
        },
        "yaxis": {
         "anchor": "x",
         "autorange": true,
         "domain": [
          0,
          1
         ],
         "range": [
          0,
          1810.5263157894738
         ],
         "title": {
          "text": "counter"
         },
         "type": "linear"
        }
       }
      },
      "image/png": "[encoded data removed]",
      "text/html": [
       "<div>\n",
       "        \n",
       "        \n",
       "            <div id=\"a56d3c2c-aa4f-49f8-a080-8230e8e33419\" class=\"plotly-graph-div\" style=\"height:400px; width:100%;\"></div>\n",
       "            <script type=\"text/javascript\">\n",
       "                require([\"plotly\"], function(Plotly) {\n",
       "                    window.PLOTLYENV=window.PLOTLYENV || {};\n",
       "                    \n",
       "                if (document.getElementById(\"a56d3c2c-aa4f-49f8-a080-8230e8e33419\")) {\n",
       "                    Plotly.newPlot(\n",
       "                        'a56d3c2c-aa4f-49f8-a080-8230e8e33419',\n",
       "                        [{\"alignmentgroup\": \"True\", \"hovertemplate\": \"nulos=Hay datos<br>place_name=%{x}<br>counter=%{y}<extra></extra>\", \"legendgroup\": \"Hay datos\", \"marker\": {\"color\": \"#636efa\"}, \"name\": \"Hay datos\", \"offsetgroup\": \"Hay datos\", \"orientation\": \"v\", \"showlegend\": true, \"textposition\": \"auto\", \"type\": \"bar\", \"x\": [\"9 de Abril\", \"Abril Club de Campo\", \"Adrogu\\u00e9\", \"Aeropuerto Internacional Ezeiza\", \"Alejandro Korn\", \"Almirante Brown\", \"Altos de Hudson II\", \"Avellaneda\", \"Banfield\", \"Barrio Cerrado \\\"Los Omb\\u00faes de Hudson\\\"\", \"Barrio Melazzi\", \"Barrio Privado El Rodal\", \"Barrio Privado Santa Rita\", \"Berazategui\", \"Berazategui Oeste\", \"Bernal\", \"Brickland\", \"Bs.As. G.B.A. Zona Sur\", \"Burzaco\", \"Canning\", \"Carlos Spegazzini\", \"Ca\\u00f1uelas\", \"Chacras de La Trinidad\", \"City Bell\", \"Claypole\", \"Club El Carmen - Sector casas\", \"Complejo de Barrios Privados La Magdalena\", \"Country Nuevo Quilmes\", \"Country Saint Thomas\", \"Crucecita\", \"Dock Sud\", \"Domselaar\", \"Don Bosco\", \"Don Orione\", \"Echeverr\\u00eda del Lago\", \"El Centauro\", \"El Jag\\u00fcel\", \"El Pato\", \"El Roc\\u00edo\", \"Esteban Echeverr\\u00eda\", \"Etcheverry\", \"Ex La Ponderosa\", \"Ezeiza\", \"Ezpeleta\", \"Fincas de Hudson\", \"Fincas de Iraola\", \"Fincas de San Vicente\", \"Florencio Varela\", \"Gerli\", \"Glew\", \"Gorina\", \"Grand Bell\", \"GreenVille Polo & Resort\", \"Guernica\", \"Guillermo Hudson\", \"Haras del Sur I\", \"Ingeniero Juan Allan\", \"Jose Marmol\", \"La Plata\", \"La Uni\\u00f3n\", \"La horqueta de Echeverr\\u00eda\", \"Lan\\u00fas\", \"Lan\\u00fas Este\", \"Lan\\u00fas Oeste\", \"Las Golondrinas\", \"Lisandro Olmos\", \"Llavallol\", \"Lomas de Zamora\", \"Longchamps\", \"Los Hornos\", \"Luis Guill\\u00f3n\", \"Manuel B Gonnet\", \"Melchor Romero\", \"Mi Refugio\", \"Ministro Rivadavia\", \"Monte Chingolo\", \"Monte Grande\", \"M\\u00e1ximo Paz\", \"Pi\\u00f1eiro\", \"Platanos\", \"Presidente Per\\u00f3n\", \"Quilmes\", \"Rafael Calzada\", \"Ranelagh\", \"Remedios de Escalada\", \"Ringuelet\", \"San Carlos\", \"San Eliseo Country, Golf, Hotel & Spa\", \"San Francisco Solano\", \"San Jose\", \"San Jos\\u00e9\", \"San Lorenzo\", \"San Vicente\", \"Sarandi\", \"Solar del Bosque\", \"Sourigues\", \"Temperley\", \"Terralagos\", \"Tolosa\", \"Trist\\u00e1n Su\\u00e1rez\", \"Turdera\", \"Valent\\u00edn Alsina\", \"Vicente Casares\", \"Villa Dominico\", \"Villa Elisa\", \"Villa Elvira\", \"Villa Fiorito\", \"Villa Vatteone\", \"Wilde\"], \"xaxis\": \"x\", \"y\": [2, 4, 374, 1, 6, 15, 10, 306, 449, 10, 1, 1, 1, 130, 1, 65, 6, 12, 81, 232, 8, 19, 1, 64, 4, 2, 1, 26, 7, 7, 5, 2, 4, 4, 4, 4, 1, 3, 8, 107, 1, 1, 142, 15, 22, 59, 3, 19, 24, 81, 1, 3, 9, 38, 1, 1, 1, 66, 814, 3, 18, 510, 36, 138, 6, 1, 27, 702, 33, 10, 7, 60, 1, 1, 2, 8, 94, 1, 6, 1, 13, 309, 5, 9, 158, 4, 7, 1, 1, 3, 1, 2, 43, 28, 14, 3, 248, 1, 15, 24, 17, 156, 1, 29, 29, 4, 2, 3, 89], \"yaxis\": \"y\"}, {\"alignmentgroup\": \"True\", \"hovertemplate\": \"nulos=No hay datos<br>place_name=%{x}<br>counter=%{y}<extra></extra>\", \"legendgroup\": \"No hay datos\", \"marker\": {\"color\": \"#EF553B\"}, \"name\": \"No hay datos\", \"offsetgroup\": \"No hay datos\", \"orientation\": \"v\", \"showlegend\": true, \"textposition\": \"auto\", \"type\": \"bar\", \"x\": [\"9 de Abril\", \"Abasto\", \"Abril Club de Campo\", \"Adrogu\\u00e9\", \"Aeropuerto Internacional Ezeiza\", \"Alejandro Korn\", \"Almirante Brown\", \"Altos de Hudson I\", \"Altos de Hudson II\", \"Arturo Segu\\u00ed\", \"Avellaneda\", \"Banfield\", \"Barrio Cerrado \\\"Los Omb\\u00faes de Hudson\\\"\", \"Barrio Cerrado Los Troncos\", \"Barrio Privado Santa Rita\", \"Berazategui\", \"Bernal\", \"Bosques\", \"Brickland\", \"Bs.As. G.B.A. Zona Sur\", \"Burzaco\", \"Canning\", \"Carlos Spegazzini\", \"Ca\\u00f1uelas\", \"City Bell\", \"Claypole\", \"Club de Campo La Martona\", \"Country Golf El Sosiego\", \"Country Nuevo Quilmes\", \"Country Saint Thomas\", \"Dock Sud\", \"Domselaar\", \"Don Bosco\", \"Don Orione\", \"Echeverr\\u00eda del Lago\", \"El Centauro\", \"El Jag\\u00fcel\", \"El Pato Country Club\", \"El Roc\\u00edo\", \"Esteban Echeverr\\u00eda\", \"Etcheverry\", \"Ex La Ponderosa\", \"Ezeiza\", \"Ezpeleta\", \"Fincas de Hudson\", \"Fincas de Iraola\", \"Fincas de Iraola II\", \"Fincas de San Vicente\", \"Florencio Varela\", \"Gerli\", \"Glew\", \"GreenVille Polo & Resort\", \"Guernica\", \"Guillermo Hudson\", \"Gutierrez\", \"Haras del Sur I\", \"Ingeniero Juan Allan\", \"Jose Marmol\", \"Jos\\u00e9 Hern\\u00e1ndez\", \"La Plata\", \"La Uni\\u00f3n\", \"La horqueta de Echeverr\\u00eda\", \"Lan\\u00fas\", \"Lan\\u00fas Este\", \"Lan\\u00fas Oeste\", \"Las Golondrinas\", \"Lisandro Olmos\", \"Llavallol\", \"Lomas de Zamora\", \"Longchamps\", \"Los Hornos\", \"Luis Guill\\u00f3n\", \"Malvinas Argentinas\", \"Manuel B Gonnet\", \"Melchor Romero\", \"Ministro Rivadavia\", \"Monte Chingolo\", \"Monte Grande\", \"M\\u00e1ximo Paz\", \"Platanos\", \"Presidente Per\\u00f3n\", \"Quilmes\", \"Rafael Calzada\", \"Ranelagh\", \"Remedios de Escalada\", \"Ringuelet\", \"San Carlos\", \"San Francisco Solano\", \"San Jose\", \"San Jos\\u00e9\", \"San Vicente\", \"Sarandi\", \"Solar del Bosque\", \"Sourigues\", \"Temperley\", \"Terralagos\", \"Tolosa\", \"Trist\\u00e1n Su\\u00e1rez\", \"Turdera\", \"Uribelarrea\", \"Valent\\u00edn Alsina\", \"Vicente Casares\", \"Villa Centenario\", \"Villa Dominico\", \"Villa Elisa\", \"Villa Elvira\", \"Villa Fiorito\", \"Villa Vatteone\", \"Wilde\"], \"xaxis\": \"x\", \"y\": [1, 26, 15, 360, 1, 10, 27, 1, 2, 7, 105, 558, 3, 1, 1, 99, 74, 1, 3, 12, 287, 124, 5, 19, 253, 42, 2, 1, 5, 4, 3, 1, 11, 4, 6, 3, 1, 1, 6, 102, 4, 1, 101, 3, 21, 6, 16, 2, 12, 18, 19, 7, 67, 3, 2, 4, 6, 82, 1, 1720, 9, 3, 538, 8, 34, 1, 8, 120, 827, 72, 3, 33, 5, 142, 3, 4, 7, 134, 1, 8, 6, 390, 31, 27, 148, 2, 6, 1, 2, 10, 65, 15, 11, 2, 455, 2, 42, 28, 52, 3, 55, 1, 1, 6, 109, 13, 1, 3, 50], \"yaxis\": \"y\"}],\n",
       "                        {\"barmode\": \"group\", \"height\": 400, \"legend\": {\"title\": {\"text\": \"nulos\"}, \"tracegroupgap\": 0}, \"template\": {\"data\": {\"bar\": [{\"error_x\": {\"color\": \"#2a3f5f\"}, \"error_y\": {\"color\": \"#2a3f5f\"}, \"marker\": {\"line\": {\"color\": \"#E5ECF6\", \"width\": 0.5}}, \"type\": \"bar\"}], \"barpolar\": [{\"marker\": {\"line\": {\"color\": \"#E5ECF6\", \"width\": 0.5}}, \"type\": \"barpolar\"}], \"carpet\": [{\"aaxis\": {\"endlinecolor\": \"#2a3f5f\", \"gridcolor\": \"white\", \"linecolor\": \"white\", \"minorgridcolor\": \"white\", \"startlinecolor\": \"#2a3f5f\"}, \"baxis\": {\"endlinecolor\": \"#2a3f5f\", \"gridcolor\": \"white\", \"linecolor\": \"white\", \"minorgridcolor\": \"white\", \"startlinecolor\": \"#2a3f5f\"}, \"type\": \"carpet\"}], \"choropleth\": [{\"colorbar\": {\"outlinewidth\": 0, \"ticks\": \"\"}, \"type\": \"choropleth\"}], \"contour\": [{\"colorbar\": {\"outlinewidth\": 0, \"ticks\": \"\"}, \"colorscale\": [[0.0, \"#0d0887\"], [0.1111111111111111, \"#46039f\"], [0.2222222222222222, \"#7201a8\"], [0.3333333333333333, \"#9c179e\"], [0.4444444444444444, \"#bd3786\"], [0.5555555555555556, \"#d8576b\"], [0.6666666666666666, \"#ed7953\"], [0.7777777777777778, \"#fb9f3a\"], [0.8888888888888888, \"#fdca26\"], [1.0, \"#f0f921\"]], \"type\": \"contour\"}], \"contourcarpet\": [{\"colorbar\": {\"outlinewidth\": 0, \"ticks\": \"\"}, \"type\": \"contourcarpet\"}], \"heatmap\": [{\"colorbar\": {\"outlinewidth\": 0, \"ticks\": \"\"}, \"colorscale\": [[0.0, \"#0d0887\"], [0.1111111111111111, \"#46039f\"], [0.2222222222222222, \"#7201a8\"], [0.3333333333333333, \"#9c179e\"], [0.4444444444444444, \"#bd3786\"], [0.5555555555555556, \"#d8576b\"], [0.6666666666666666, \"#ed7953\"], [0.7777777777777778, \"#fb9f3a\"], [0.8888888888888888, \"#fdca26\"], [1.0, \"#f0f921\"]], \"type\": \"heatmap\"}], \"heatmapgl\": [{\"colorbar\": {\"outlinewidth\": 0, \"ticks\": \"\"}, \"colorscale\": [[0.0, \"#0d0887\"], [0.1111111111111111, \"#46039f\"], [0.2222222222222222, \"#7201a8\"], [0.3333333333333333, \"#9c179e\"], [0.4444444444444444, \"#bd3786\"], [0.5555555555555556, \"#d8576b\"], [0.6666666666666666, \"#ed7953\"], [0.7777777777777778, \"#fb9f3a\"], [0.8888888888888888, \"#fdca26\"], [1.0, \"#f0f921\"]], \"type\": \"heatmapgl\"}], \"histogram\": [{\"marker\": {\"colorbar\": {\"outlinewidth\": 0, \"ticks\": \"\"}}, \"type\": \"histogram\"}], \"histogram2d\": [{\"colorbar\": {\"outlinewidth\": 0, \"ticks\": \"\"}, \"colorscale\": [[0.0, \"#0d0887\"], [0.1111111111111111, \"#46039f\"], [0.2222222222222222, \"#7201a8\"], [0.3333333333333333, \"#9c179e\"], [0.4444444444444444, \"#bd3786\"], [0.5555555555555556, \"#d8576b\"], [0.6666666666666666, \"#ed7953\"], [0.7777777777777778, \"#fb9f3a\"], [0.8888888888888888, \"#fdca26\"], [1.0, \"#f0f921\"]], \"type\": \"histogram2d\"}], \"histogram2dcontour\": [{\"colorbar\": {\"outlinewidth\": 0, \"ticks\": \"\"}, \"colorscale\": [[0.0, \"#0d0887\"], [0.1111111111111111, \"#46039f\"], [0.2222222222222222, \"#7201a8\"], [0.3333333333333333, \"#9c179e\"], [0.4444444444444444, \"#bd3786\"], [0.5555555555555556, \"#d8576b\"], [0.6666666666666666, \"#ed7953\"], [0.7777777777777778, \"#fb9f3a\"], [0.8888888888888888, \"#fdca26\"], [1.0, \"#f0f921\"]], \"type\": \"histogram2dcontour\"}], \"mesh3d\": [{\"colorbar\": {\"outlinewidth\": 0, \"ticks\": \"\"}, \"type\": \"mesh3d\"}], \"parcoords\": [{\"line\": {\"colorbar\": {\"outlinewidth\": 0, \"ticks\": \"\"}}, \"type\": \"parcoords\"}], \"pie\": [{\"automargin\": true, \"type\": \"pie\"}], \"scatter\": [{\"marker\": {\"colorbar\": {\"outlinewidth\": 0, \"ticks\": \"\"}}, \"type\": \"scatter\"}], \"scatter3d\": [{\"line\": {\"colorbar\": {\"outlinewidth\": 0, \"ticks\": \"\"}}, \"marker\": {\"colorbar\": {\"outlinewidth\": 0, \"ticks\": \"\"}}, \"type\": \"scatter3d\"}], \"scattercarpet\": [{\"marker\": {\"colorbar\": {\"outlinewidth\": 0, \"ticks\": \"\"}}, \"type\": \"scattercarpet\"}], \"scattergeo\": [{\"marker\": {\"colorbar\": {\"outlinewidth\": 0, \"ticks\": \"\"}}, \"type\": \"scattergeo\"}], \"scattergl\": [{\"marker\": {\"colorbar\": {\"outlinewidth\": 0, \"ticks\": \"\"}}, \"type\": \"scattergl\"}], \"scattermapbox\": [{\"marker\": {\"colorbar\": {\"outlinewidth\": 0, \"ticks\": \"\"}}, \"type\": \"scattermapbox\"}], \"scatterpolar\": [{\"marker\": {\"colorbar\": {\"outlinewidth\": 0, \"ticks\": \"\"}}, \"type\": \"scatterpolar\"}], \"scatterpolargl\": [{\"marker\": {\"colorbar\": {\"outlinewidth\": 0, \"ticks\": \"\"}}, \"type\": \"scatterpolargl\"}], \"scatterternary\": [{\"marker\": {\"colorbar\": {\"outlinewidth\": 0, \"ticks\": \"\"}}, \"type\": \"scatterternary\"}], \"surface\": [{\"colorbar\": {\"outlinewidth\": 0, \"ticks\": \"\"}, \"colorscale\": [[0.0, \"#0d0887\"], [0.1111111111111111, \"#46039f\"], [0.2222222222222222, \"#7201a8\"], [0.3333333333333333, \"#9c179e\"], [0.4444444444444444, \"#bd3786\"], [0.5555555555555556, \"#d8576b\"], [0.6666666666666666, \"#ed7953\"], [0.7777777777777778, \"#fb9f3a\"], [0.8888888888888888, \"#fdca26\"], [1.0, \"#f0f921\"]], \"type\": \"surface\"}], \"table\": [{\"cells\": {\"fill\": {\"color\": \"#EBF0F8\"}, \"line\": {\"color\": \"white\"}}, \"header\": {\"fill\": {\"color\": \"#C8D4E3\"}, \"line\": {\"color\": \"white\"}}, \"type\": \"table\"}]}, \"layout\": {\"annotationdefaults\": {\"arrowcolor\": \"#2a3f5f\", \"arrowhead\": 0, \"arrowwidth\": 1}, \"coloraxis\": {\"colorbar\": {\"outlinewidth\": 0, \"ticks\": \"\"}}, \"colorscale\": {\"diverging\": [[0, \"#8e0152\"], [0.1, \"#c51b7d\"], [0.2, \"#de77ae\"], [0.3, \"#f1b6da\"], [0.4, \"#fde0ef\"], [0.5, \"#f7f7f7\"], [0.6, \"#e6f5d0\"], [0.7, \"#b8e186\"], [0.8, \"#7fbc41\"], [0.9, \"#4d9221\"], [1, \"#276419\"]], \"sequential\": [[0.0, \"#0d0887\"], [0.1111111111111111, \"#46039f\"], [0.2222222222222222, \"#7201a8\"], [0.3333333333333333, \"#9c179e\"], [0.4444444444444444, \"#bd3786\"], [0.5555555555555556, \"#d8576b\"], [0.6666666666666666, \"#ed7953\"], [0.7777777777777778, \"#fb9f3a\"], [0.8888888888888888, \"#fdca26\"], [1.0, \"#f0f921\"]], \"sequentialminus\": [[0.0, \"#0d0887\"], [0.1111111111111111, \"#46039f\"], [0.2222222222222222, \"#7201a8\"], [0.3333333333333333, \"#9c179e\"], [0.4444444444444444, \"#bd3786\"], [0.5555555555555556, \"#d8576b\"], [0.6666666666666666, \"#ed7953\"], [0.7777777777777778, \"#fb9f3a\"], [0.8888888888888888, \"#fdca26\"], [1.0, \"#f0f921\"]]}, \"colorway\": [\"#636efa\", \"#EF553B\", \"#00cc96\", \"#ab63fa\", \"#FFA15A\", \"#19d3f3\", \"#FF6692\", \"#B6E880\", \"#FF97FF\", \"#FECB52\"], \"font\": {\"color\": \"#2a3f5f\"}, \"geo\": {\"bgcolor\": \"white\", \"lakecolor\": \"white\", \"landcolor\": \"#E5ECF6\", \"showlakes\": true, \"showland\": true, \"subunitcolor\": \"white\"}, \"hoverlabel\": {\"align\": \"left\"}, \"hovermode\": \"closest\", \"mapbox\": {\"style\": \"light\"}, \"paper_bgcolor\": \"white\", \"plot_bgcolor\": \"#E5ECF6\", \"polar\": {\"angularaxis\": {\"gridcolor\": \"white\", \"linecolor\": \"white\", \"ticks\": \"\"}, \"bgcolor\": \"#E5ECF6\", \"radialaxis\": {\"gridcolor\": \"white\", \"linecolor\": \"white\", \"ticks\": \"\"}}, \"scene\": {\"xaxis\": {\"backgroundcolor\": \"#E5ECF6\", \"gridcolor\": \"white\", \"gridwidth\": 2, \"linecolor\": \"white\", \"showbackground\": true, \"ticks\": \"\", \"zerolinecolor\": \"white\"}, \"yaxis\": {\"backgroundcolor\": \"#E5ECF6\", \"gridcolor\": \"white\", \"gridwidth\": 2, \"linecolor\": \"white\", \"showbackground\": true, \"ticks\": \"\", \"zerolinecolor\": \"white\"}, \"zaxis\": {\"backgroundcolor\": \"#E5ECF6\", \"gridcolor\": \"white\", \"gridwidth\": 2, \"linecolor\": \"white\", \"showbackground\": true, \"ticks\": \"\", \"zerolinecolor\": \"white\"}}, \"shapedefaults\": {\"line\": {\"color\": \"#2a3f5f\"}}, \"ternary\": {\"aaxis\": {\"gridcolor\": \"white\", \"linecolor\": \"white\", \"ticks\": \"\"}, \"baxis\": {\"gridcolor\": \"white\", \"linecolor\": \"white\", \"ticks\": \"\"}, \"bgcolor\": \"#E5ECF6\", \"caxis\": {\"gridcolor\": \"white\", \"linecolor\": \"white\", \"ticks\": \"\"}}, \"title\": {\"x\": 0.05}, \"xaxis\": {\"automargin\": true, \"gridcolor\": \"white\", \"linecolor\": \"white\", \"ticks\": \"\", \"title\": {\"standoff\": 15}, \"zerolinecolor\": \"white\", \"zerolinewidth\": 2}, \"yaxis\": {\"automargin\": true, \"gridcolor\": \"white\", \"linecolor\": \"white\", \"ticks\": \"\", \"title\": {\"standoff\": 15}, \"zerolinecolor\": \"white\", \"zerolinewidth\": 2}}}, \"title\": {\"text\": \" Cantidad de datos por Provincia - Buenos Aires y CABA - Bs.As. G.B.A. Zona Sur\"}, \"xaxis\": {\"anchor\": \"y\", \"domain\": [0.0, 1.0], \"title\": {\"text\": \"place_name\"}}, \"yaxis\": {\"anchor\": \"x\", \"domain\": [0.0, 1.0], \"title\": {\"text\": \"counter\"}}},\n",
       "                        {\"responsive\": true}\n",
       "                    ).then(function(){\n",
       "                            \n",
       "var gd = document.getElementById('a56d3c2c-aa4f-49f8-a080-8230e8e33419');\n",
       "var x = new MutationObserver(function (mutations, observer) {{\n",
       "        var display = window.getComputedStyle(gd).display;\n",
       "        if (!display || display === 'none') {{\n",
       "            console.log([gd, 'removed!']);\n",
       "            Plotly.purge(gd);\n",
       "            observer.disconnect();\n",
       "        }}\n",
       "}});\n",
       "\n",
       "// Listen for the removal of the full notebook cells\n",
       "var notebookContainer = gd.closest('#notebook-container');\n",
       "if (notebookContainer) {{\n",
       "    x.observe(notebookContainer, {childList: true});\n",
       "}}\n",
       "\n",
       "// Listen for the clearing of the current output cell\n",
       "var outputEl = gd.closest('.output');\n",
       "if (outputEl) {{\n",
       "    x.observe(outputEl, {childList: true});\n",
       "}}\n",
       "\n",
       "                        })\n",
       "                };\n",
       "                });\n",
       "            </script>\n",
       "        </div>"
      ]
     },
     "metadata": {},
     "output_type": "display_data"
    }
   ],
   "source": [
    "bsas_sur_barrios_group = bsas_sur.groupby(by=['state_name','place_name','nulos'],as_index=False)['counter'].sum()\n",
    "bsas_sur_barrios_group['nulos'] = bsas_sur_barrios_group['nulos'].astype(str)\n",
    "bsas_sur_barrios_group['nulos'] = bsas_sur_barrios_group.nulos.str.replace('False','Hay datos')\n",
    "bsas_sur_barrios_group['nulos'] = bsas_sur_barrios_group.nulos.str.replace('True','No hay datos')\n",
    "fig = px.bar(bsas_sur_barrios_group, x=\"place_name\", y=\"counter\",\n",
    "             color='nulos', barmode='group',\n",
    "             height=400, title=\" Cantidad de datos por Provincia - Buenos Aires y CABA - Bs.As. G.B.A. Zona Sur\")\n",
    "fig.show()\n",
    "\n"
   ]
  },
  {
   "cell_type": "code",
   "execution_count": 110,
   "metadata": {},
   "outputs": [
    {
     "data": {
      "application/vnd.plotly.v1+json": {
       "config": {
        "plotlyServerURL": "https://plotly.com"
       },
       "data": [
        {
         "alignmentgroup": "True",
         "hovertemplate": "nulos=Hay datos<br>place_name=%{x}<br>counter=%{y}<extra></extra>",
         "legendgroup": "Hay datos",
         "marker": {
          "color": "#636efa"
         },
         "name": "Hay datos",
         "offsetgroup": "Hay datos",
         "orientation": "v",
         "showlegend": true,
         "textposition": "auto",
         "type": "bar",
         "x": [
          "Aldo Bonzi",
          "Barrio Cerrado El Casco de Alvarez",
          "Barrio El Moro",
          "Barrio Parque San Martin",
          "Barrio cerrado Santa Ana",
          "Bs.As. G.B.A. Zona Oeste",
          "Campos de Álvarez",
          "Caseros",
          "Castelar",
          "Ciudad Evita",
          "Ciudad Jardín Lomas del Palomar",
          "Ciudadela",
          "Country Banco Provincia",
          "Country Club Las lajas",
          "Cruce Castelar",
          "Cuartel V",
          "El Casco de Leloir",
          "El Nacional Club de Campo",
          "El Palomar",
          "Francisco Alvarez",
          "General Rodríguez",
          "González Catán",
          "Gregorio de Laferrere",
          "Haedo",
          "Haras María Elena",
          "Haras María Victoria",
          "Haras San Pablo",
          "Hurlingham",
          "Isidro Casanova",
          "Ituzaingó",
          "José Ingenieros",
          "La Cesarina",
          "La Esperanza Club de Campo",
          "La Matanza",
          "La Reja",
          "La Tablada",
          "Libertad",
          "Loma Hermosa",
          "Lomas del Mirador",
          "Marcos Paz",
          "Martín Coronado",
          "Merlo",
          "Moreno",
          "Morón",
          "Pablo Podestá",
          "Parque Leloir",
          "Paso del Rey",
          "Pontevedra",
          "Prados del Oeste",
          "Rafael Castillo",
          "Ramos Mejía",
          "San Alberto",
          "San Antonio De Padua",
          "San Justo",
          "Santos Lugares",
          "St. Patrick Country",
          "Sáenz Peña",
          "Tapiales",
          "Terravista Barrio Privado",
          "Tres de Febrero",
          "Trujui",
          "Villa Ariza",
          "Villa Bosch",
          "Villa Celina",
          "Villa Luzuriaga",
          "Villa Madero",
          "Villa Raffo",
          "Villa Sarmiento",
          "Villa Tesei",
          "Villa Udaondo",
          "Virrey del Pino",
          "William Morris"
         ],
         "xaxis": "x",
         "y": [
          3,
          1,
          23,
          3,
          1,
          51,
          18,
          251,
          359,
          23,
          41,
          156,
          6,
          2,
          2,
          3,
          2,
          8,
          128,
          29,
          58,
          4,
          3,
          218,
          10,
          10,
          4,
          75,
          18,
          374,
          3,
          5,
          1,
          50,
          26,
          18,
          3,
          14,
          84,
          44,
          43,
          62,
          181,
          593,
          7,
          50,
          41,
          2,
          5,
          8,
          524,
          8,
          99,
          167,
          92,
          2,
          68,
          12,
          1,
          32,
          3,
          9,
          110,
          7,
          195,
          51,
          6,
          72,
          10,
          22,
          8,
          1
         ],
         "yaxis": "y"
        },
        {
         "alignmentgroup": "True",
         "hovertemplate": "nulos=No hay datos<br>place_name=%{x}<br>counter=%{y}<extra></extra>",
         "legendgroup": "No hay datos",
         "marker": {
          "color": "#EF553B"
         },
         "name": "No hay datos",
         "offsetgroup": "No hay datos",
         "orientation": "v",
         "showlegend": true,
         "textposition": "auto",
         "type": "bar",
         "x": [
          "Aldo Bonzi",
          "Barrio Cerrado \"El Casco de Moreno\"",
          "Barrio El Moro",
          "Barrio Parque San Martin",
          "Barrio Privado El Resuello",
          "Barrio cerrado Santa Ana",
          "Bs.As. G.B.A. Zona Oeste",
          "Campos de Álvarez",
          "Caseros",
          "Castelar",
          "Ciudad Evita",
          "Ciudad Jardín Lomas del Palomar",
          "Ciudadela",
          "Country Banco Provincia",
          "Country Club Las lajas",
          "Country La Tradición",
          "Cuartel V",
          "El Casco de Leloir",
          "El Nacional Club de Campo",
          "El Palomar",
          "Francisco Alvarez",
          "General Rodríguez",
          "González Catán",
          "Gregorio de Laferrere",
          "Haedo",
          "Haras María Elena",
          "Haras María Victoria",
          "Haras San Pablo",
          "Hurlingham",
          "Isidro Casanova",
          "Ituzaingó",
          "José Ingenieros",
          "La Cesarina",
          "La Matanza",
          "La Reja",
          "La Tablada",
          "Libertad",
          "Loma Hermosa",
          "Lomas del Mirador",
          "Los Pingüinos Country Club",
          "Marcos Paz",
          "Mariano Acosta",
          "Martín Coronado",
          "Merlo",
          "Moreno",
          "Morón",
          "Pablo Podestá",
          "Parque Leloir",
          "Paso del Rey",
          "Pontevedra",
          "Prados del Oeste",
          "Rafael Castillo",
          "Ramos Mejía",
          "San Alberto",
          "San Antonio De Padua",
          "San Diego Country Club",
          "San Justo",
          "Santos Lugares",
          "Sáenz Peña",
          "Tapiales",
          "Terravista Barrio Privado",
          "Tres de Febrero",
          "Trujui",
          "Villa Ariza",
          "Villa Bosch",
          "Villa Celina",
          "Villa Luzuriaga",
          "Villa Madero",
          "Villa Raffo",
          "Villa Sarmiento",
          "Villa Tesei",
          "Villa Udaondo",
          "Virrey del Pino"
         ],
         "xaxis": "x",
         "y": [
          3,
          1,
          8,
          1,
          1,
          2,
          14,
          4,
          160,
          281,
          6,
          1,
          127,
          10,
          5,
          1,
          1,
          4,
          13,
          44,
          29,
          49,
          3,
          4,
          254,
          3,
          2,
          3,
          80,
          23,
          458,
          2,
          2,
          99,
          13,
          11,
          9,
          21,
          77,
          317,
          13,
          3,
          41,
          232,
          340,
          616,
          4,
          7,
          18,
          2,
          1,
          8,
          603,
          3,
          42,
          11,
          141,
          45,
          8,
          10,
          3,
          64,
          3,
          7,
          52,
          5,
          168,
          3,
          4,
          80,
          5,
          3,
          8
         ],
         "yaxis": "y"
        }
       ],
       "layout": {
        "autosize": true,
        "barmode": "group",
        "legend": {
         "title": {
          "text": "nulos"
         },
         "tracegroupgap": 0
        },
        "template": {
         "data": {
          "bar": [
           {
            "error_x": {
             "color": "#2a3f5f"
            },
            "error_y": {
             "color": "#2a3f5f"
            },
            "marker": {
             "line": {
              "color": "#E5ECF6",
              "width": 0.5
             }
            },
            "type": "bar"
           }
          ],
          "barpolar": [
           {
            "marker": {
             "line": {
              "color": "#E5ECF6",
              "width": 0.5
             }
            },
            "type": "barpolar"
           }
          ],
          "carpet": [
           {
            "aaxis": {
             "endlinecolor": "#2a3f5f",
             "gridcolor": "white",
             "linecolor": "white",
             "minorgridcolor": "white",
             "startlinecolor": "#2a3f5f"
            },
            "baxis": {
             "endlinecolor": "#2a3f5f",
             "gridcolor": "white",
             "linecolor": "white",
             "minorgridcolor": "white",
             "startlinecolor": "#2a3f5f"
            },
            "type": "carpet"
           }
          ],
          "choropleth": [
           {
            "colorbar": {
             "outlinewidth": 0,
             "ticks": ""
            },
            "type": "choropleth"
           }
          ],
          "contour": [
           {
            "colorbar": {
             "outlinewidth": 0,
             "ticks": ""
            },
            "colorscale": [
             [
              0,
              "#0d0887"
             ],
             [
              0.1111111111111111,
              "#46039f"
             ],
             [
              0.2222222222222222,
              "#7201a8"
             ],
             [
              0.3333333333333333,
              "#9c179e"
             ],
             [
              0.4444444444444444,
              "#bd3786"
             ],
             [
              0.5555555555555556,
              "#d8576b"
             ],
             [
              0.6666666666666666,
              "#ed7953"
             ],
             [
              0.7777777777777778,
              "#fb9f3a"
             ],
             [
              0.8888888888888888,
              "#fdca26"
             ],
             [
              1,
              "#f0f921"
             ]
            ],
            "type": "contour"
           }
          ],
          "contourcarpet": [
           {
            "colorbar": {
             "outlinewidth": 0,
             "ticks": ""
            },
            "type": "contourcarpet"
           }
          ],
          "heatmap": [
           {
            "colorbar": {
             "outlinewidth": 0,
             "ticks": ""
            },
            "colorscale": [
             [
              0,
              "#0d0887"
             ],
             [
              0.1111111111111111,
              "#46039f"
             ],
             [
              0.2222222222222222,
              "#7201a8"
             ],
             [
              0.3333333333333333,
              "#9c179e"
             ],
             [
              0.4444444444444444,
              "#bd3786"
             ],
             [
              0.5555555555555556,
              "#d8576b"
             ],
             [
              0.6666666666666666,
              "#ed7953"
             ],
             [
              0.7777777777777778,
              "#fb9f3a"
             ],
             [
              0.8888888888888888,
              "#fdca26"
             ],
             [
              1,
              "#f0f921"
             ]
            ],
            "type": "heatmap"
           }
          ],
          "heatmapgl": [
           {
            "colorbar": {
             "outlinewidth": 0,
             "ticks": ""
            },
            "colorscale": [
             [
              0,
              "#0d0887"
             ],
             [
              0.1111111111111111,
              "#46039f"
             ],
             [
              0.2222222222222222,
              "#7201a8"
             ],
             [
              0.3333333333333333,
              "#9c179e"
             ],
             [
              0.4444444444444444,
              "#bd3786"
             ],
             [
              0.5555555555555556,
              "#d8576b"
             ],
             [
              0.6666666666666666,
              "#ed7953"
             ],
             [
              0.7777777777777778,
              "#fb9f3a"
             ],
             [
              0.8888888888888888,
              "#fdca26"
             ],
             [
              1,
              "#f0f921"
             ]
            ],
            "type": "heatmapgl"
           }
          ],
          "histogram": [
           {
            "marker": {
             "colorbar": {
              "outlinewidth": 0,
              "ticks": ""
             }
            },
            "type": "histogram"
           }
          ],
          "histogram2d": [
           {
            "colorbar": {
             "outlinewidth": 0,
             "ticks": ""
            },
            "colorscale": [
             [
              0,
              "#0d0887"
             ],
             [
              0.1111111111111111,
              "#46039f"
             ],
             [
              0.2222222222222222,
              "#7201a8"
             ],
             [
              0.3333333333333333,
              "#9c179e"
             ],
             [
              0.4444444444444444,
              "#bd3786"
             ],
             [
              0.5555555555555556,
              "#d8576b"
             ],
             [
              0.6666666666666666,
              "#ed7953"
             ],
             [
              0.7777777777777778,
              "#fb9f3a"
             ],
             [
              0.8888888888888888,
              "#fdca26"
             ],
             [
              1,
              "#f0f921"
             ]
            ],
            "type": "histogram2d"
           }
          ],
          "histogram2dcontour": [
           {
            "colorbar": {
             "outlinewidth": 0,
             "ticks": ""
            },
            "colorscale": [
             [
              0,
              "#0d0887"
             ],
             [
              0.1111111111111111,
              "#46039f"
             ],
             [
              0.2222222222222222,
              "#7201a8"
             ],
             [
              0.3333333333333333,
              "#9c179e"
             ],
             [
              0.4444444444444444,
              "#bd3786"
             ],
             [
              0.5555555555555556,
              "#d8576b"
             ],
             [
              0.6666666666666666,
              "#ed7953"
             ],
             [
              0.7777777777777778,
              "#fb9f3a"
             ],
             [
              0.8888888888888888,
              "#fdca26"
             ],
             [
              1,
              "#f0f921"
             ]
            ],
            "type": "histogram2dcontour"
           }
          ],
          "mesh3d": [
           {
            "colorbar": {
             "outlinewidth": 0,
             "ticks": ""
            },
            "type": "mesh3d"
           }
          ],
          "parcoords": [
           {
            "line": {
             "colorbar": {
              "outlinewidth": 0,
              "ticks": ""
             }
            },
            "type": "parcoords"
           }
          ],
          "pie": [
           {
            "automargin": true,
            "type": "pie"
           }
          ],
          "scatter": [
           {
            "marker": {
             "colorbar": {
              "outlinewidth": 0,
              "ticks": ""
             }
            },
            "type": "scatter"
           }
          ],
          "scatter3d": [
           {
            "line": {
             "colorbar": {
              "outlinewidth": 0,
              "ticks": ""
             }
            },
            "marker": {
             "colorbar": {
              "outlinewidth": 0,
              "ticks": ""
             }
            },
            "type": "scatter3d"
           }
          ],
          "scattercarpet": [
           {
            "marker": {
             "colorbar": {
              "outlinewidth": 0,
              "ticks": ""
             }
            },
            "type": "scattercarpet"
           }
          ],
          "scattergeo": [
           {
            "marker": {
             "colorbar": {
              "outlinewidth": 0,
              "ticks": ""
             }
            },
            "type": "scattergeo"
           }
          ],
          "scattergl": [
           {
            "marker": {
             "colorbar": {
              "outlinewidth": 0,
              "ticks": ""
             }
            },
            "type": "scattergl"
           }
          ],
          "scattermapbox": [
           {
            "marker": {
             "colorbar": {
              "outlinewidth": 0,
              "ticks": ""
             }
            },
            "type": "scattermapbox"
           }
          ],
          "scatterpolar": [
           {
            "marker": {
             "colorbar": {
              "outlinewidth": 0,
              "ticks": ""
             }
            },
            "type": "scatterpolar"
           }
          ],
          "scatterpolargl": [
           {
            "marker": {
             "colorbar": {
              "outlinewidth": 0,
              "ticks": ""
             }
            },
            "type": "scatterpolargl"
           }
          ],
          "scatterternary": [
           {
            "marker": {
             "colorbar": {
              "outlinewidth": 0,
              "ticks": ""
             }
            },
            "type": "scatterternary"
           }
          ],
          "surface": [
           {
            "colorbar": {
             "outlinewidth": 0,
             "ticks": ""
            },
            "colorscale": [
             [
              0,
              "#0d0887"
             ],
             [
              0.1111111111111111,
              "#46039f"
             ],
             [
              0.2222222222222222,
              "#7201a8"
             ],
             [
              0.3333333333333333,
              "#9c179e"
             ],
             [
              0.4444444444444444,
              "#bd3786"
             ],
             [
              0.5555555555555556,
              "#d8576b"
             ],
             [
              0.6666666666666666,
              "#ed7953"
             ],
             [
              0.7777777777777778,
              "#fb9f3a"
             ],
             [
              0.8888888888888888,
              "#fdca26"
             ],
             [
              1,
              "#f0f921"
             ]
            ],
            "type": "surface"
           }
          ],
          "table": [
           {
            "cells": {
             "fill": {
              "color": "#EBF0F8"
             },
             "line": {
              "color": "white"
             }
            },
            "header": {
             "fill": {
              "color": "#C8D4E3"
             },
             "line": {
              "color": "white"
             }
            },
            "type": "table"
           }
          ]
         },
         "layout": {
          "annotationdefaults": {
           "arrowcolor": "#2a3f5f",
           "arrowhead": 0,
           "arrowwidth": 1
          },
          "coloraxis": {
           "colorbar": {
            "outlinewidth": 0,
            "ticks": ""
           }
          },
          "colorscale": {
           "diverging": [
            [
             0,
             "#8e0152"
            ],
            [
             0.1,
             "#c51b7d"
            ],
            [
             0.2,
             "#de77ae"
            ],
            [
             0.3,
             "#f1b6da"
            ],
            [
             0.4,
             "#fde0ef"
            ],
            [
             0.5,
             "#f7f7f7"
            ],
            [
             0.6,
             "#e6f5d0"
            ],
            [
             0.7,
             "#b8e186"
            ],
            [
             0.8,
             "#7fbc41"
            ],
            [
             0.9,
             "#4d9221"
            ],
            [
             1,
             "#276419"
            ]
           ],
           "sequential": [
            [
             0,
             "#0d0887"
            ],
            [
             0.1111111111111111,
             "#46039f"
            ],
            [
             0.2222222222222222,
             "#7201a8"
            ],
            [
             0.3333333333333333,
             "#9c179e"
            ],
            [
             0.4444444444444444,
             "#bd3786"
            ],
            [
             0.5555555555555556,
             "#d8576b"
            ],
            [
             0.6666666666666666,
             "#ed7953"
            ],
            [
             0.7777777777777778,
             "#fb9f3a"
            ],
            [
             0.8888888888888888,
             "#fdca26"
            ],
            [
             1,
             "#f0f921"
            ]
           ],
           "sequentialminus": [
            [
             0,
             "#0d0887"
            ],
            [
             0.1111111111111111,
             "#46039f"
            ],
            [
             0.2222222222222222,
             "#7201a8"
            ],
            [
             0.3333333333333333,
             "#9c179e"
            ],
            [
             0.4444444444444444,
             "#bd3786"
            ],
            [
             0.5555555555555556,
             "#d8576b"
            ],
            [
             0.6666666666666666,
             "#ed7953"
            ],
            [
             0.7777777777777778,
             "#fb9f3a"
            ],
            [
             0.8888888888888888,
             "#fdca26"
            ],
            [
             1,
             "#f0f921"
            ]
           ]
          },
          "colorway": [
           "#636efa",
           "#EF553B",
           "#00cc96",
           "#ab63fa",
           "#FFA15A",
           "#19d3f3",
           "#FF6692",
           "#B6E880",
           "#FF97FF",
           "#FECB52"
          ],
          "font": {
           "color": "#2a3f5f"
          },
          "geo": {
           "bgcolor": "white",
           "lakecolor": "white",
           "landcolor": "#E5ECF6",
           "showlakes": true,
           "showland": true,
           "subunitcolor": "white"
          },
          "hoverlabel": {
           "align": "left"
          },
          "hovermode": "closest",
          "mapbox": {
           "style": "light"
          },
          "paper_bgcolor": "white",
          "plot_bgcolor": "#E5ECF6",
          "polar": {
           "angularaxis": {
            "gridcolor": "white",
            "linecolor": "white",
            "ticks": ""
           },
           "bgcolor": "#E5ECF6",
           "radialaxis": {
            "gridcolor": "white",
            "linecolor": "white",
            "ticks": ""
           }
          },
          "scene": {
           "xaxis": {
            "backgroundcolor": "#E5ECF6",
            "gridcolor": "white",
            "gridwidth": 2,
            "linecolor": "white",
            "showbackground": true,
            "ticks": "",
            "zerolinecolor": "white"
           },
           "yaxis": {
            "backgroundcolor": "#E5ECF6",
            "gridcolor": "white",
            "gridwidth": 2,
            "linecolor": "white",
            "showbackground": true,
            "ticks": "",
            "zerolinecolor": "white"
           },
           "zaxis": {
            "backgroundcolor": "#E5ECF6",
            "gridcolor": "white",
            "gridwidth": 2,
            "linecolor": "white",
            "showbackground": true,
            "ticks": "",
            "zerolinecolor": "white"
           }
          },
          "shapedefaults": {
           "line": {
            "color": "#2a3f5f"
           }
          },
          "ternary": {
           "aaxis": {
            "gridcolor": "white",
            "linecolor": "white",
            "ticks": ""
           },
           "baxis": {
            "gridcolor": "white",
            "linecolor": "white",
            "ticks": ""
           },
           "bgcolor": "#E5ECF6",
           "caxis": {
            "gridcolor": "white",
            "linecolor": "white",
            "ticks": ""
           }
          },
          "title": {
           "x": 0.05
          },
          "xaxis": {
           "automargin": true,
           "gridcolor": "white",
           "linecolor": "white",
           "ticks": "",
           "title": {
            "standoff": 15
           },
           "zerolinecolor": "white",
           "zerolinewidth": 2
          },
          "yaxis": {
           "automargin": true,
           "gridcolor": "white",
           "linecolor": "white",
           "ticks": "",
           "title": {
            "standoff": 15
           },
           "zerolinecolor": "white",
           "zerolinewidth": 2
          }
         }
        },
        "title": {
         "text": " Cantidad de datos por Provincia - Buenos Aires y CABA -  Bs.As. G.B.A. Zona Oeste"
        },
        "xaxis": {
         "anchor": "y",
         "autorange": true,
         "domain": [
          0,
          1
         ],
         "range": [
          -0.5,
          77.5
         ],
         "title": {
          "text": "place_name"
         },
         "type": "category"
        },
        "yaxis": {
         "anchor": "x",
         "autorange": true,
         "domain": [
          0,
          1
         ],
         "range": [
          0,
          648.421052631579
         ],
         "title": {
          "text": "counter"
         },
         "type": "linear"
        }
       }
      },
      "image/png": "[encoded data removed]",
      "text/html": [
       "<div>\n",
       "        \n",
       "        \n",
       "            <div id=\"8a86221b-8252-469f-a44e-4ad9401f45f0\" class=\"plotly-graph-div\" style=\"height:400px; width:100%;\"></div>\n",
       "            <script type=\"text/javascript\">\n",
       "                require([\"plotly\"], function(Plotly) {\n",
       "                    window.PLOTLYENV=window.PLOTLYENV || {};\n",
       "                    \n",
       "                if (document.getElementById(\"8a86221b-8252-469f-a44e-4ad9401f45f0\")) {\n",
       "                    Plotly.newPlot(\n",
       "                        '8a86221b-8252-469f-a44e-4ad9401f45f0',\n",
       "                        [{\"alignmentgroup\": \"True\", \"hovertemplate\": \"nulos=Hay datos<br>place_name=%{x}<br>counter=%{y}<extra></extra>\", \"legendgroup\": \"Hay datos\", \"marker\": {\"color\": \"#636efa\"}, \"name\": \"Hay datos\", \"offsetgroup\": \"Hay datos\", \"orientation\": \"v\", \"showlegend\": true, \"textposition\": \"auto\", \"type\": \"bar\", \"x\": [\"Aldo Bonzi\", \"Barrio Cerrado El Casco de Alvarez\", \"Barrio El Moro\", \"Barrio Parque San Martin\", \"Barrio cerrado Santa Ana\", \"Bs.As. G.B.A. Zona Oeste\", \"Campos de \\u00c1lvarez\", \"Caseros\", \"Castelar\", \"Ciudad Evita\", \"Ciudad Jard\\u00edn Lomas del Palomar\", \"Ciudadela\", \"Country Banco Provincia\", \"Country Club Las lajas\", \"Cruce Castelar\", \"Cuartel V\", \"El Casco de Leloir\", \"El Nacional Club de Campo\", \"El Palomar\", \"Francisco Alvarez\", \"General Rodr\\u00edguez\", \"Gonz\\u00e1lez Cat\\u00e1n\", \"Gregorio de Laferrere\", \"Haedo\", \"Haras Mar\\u00eda Elena\", \"Haras Mar\\u00eda Victoria\", \"Haras San Pablo\", \"Hurlingham\", \"Isidro Casanova\", \"Ituzaing\\u00f3\", \"Jos\\u00e9 Ingenieros\", \"La Cesarina\", \"La Esperanza Club de Campo\", \"La Matanza\", \"La Reja\", \"La Tablada\", \"Libertad\", \"Loma Hermosa\", \"Lomas del Mirador\", \"Marcos Paz\", \"Mart\\u00edn Coronado\", \"Merlo\", \"Moreno\", \"Mor\\u00f3n\", \"Pablo Podest\\u00e1\", \"Parque Leloir\", \"Paso del Rey\", \"Pontevedra\", \"Prados del Oeste\", \"Rafael Castillo\", \"Ramos Mej\\u00eda\", \"San Alberto\", \"San Antonio De Padua\", \"San Justo\", \"Santos Lugares\", \"St. Patrick Country\", \"S\\u00e1enz Pe\\u00f1a\", \"Tapiales\", \"Terravista Barrio Privado\", \"Tres de Febrero\", \"Trujui\", \"Villa Ariza\", \"Villa Bosch\", \"Villa Celina\", \"Villa Luzuriaga\", \"Villa Madero\", \"Villa Raffo\", \"Villa Sarmiento\", \"Villa Tesei\", \"Villa Udaondo\", \"Virrey del Pino\", \"William Morris\"], \"xaxis\": \"x\", \"y\": [3, 1, 23, 3, 1, 51, 18, 251, 359, 23, 41, 156, 6, 2, 2, 3, 2, 8, 128, 29, 58, 4, 3, 218, 10, 10, 4, 75, 18, 374, 3, 5, 1, 50, 26, 18, 3, 14, 84, 44, 43, 62, 181, 593, 7, 50, 41, 2, 5, 8, 524, 8, 99, 167, 92, 2, 68, 12, 1, 32, 3, 9, 110, 7, 195, 51, 6, 72, 10, 22, 8, 1], \"yaxis\": \"y\"}, {\"alignmentgroup\": \"True\", \"hovertemplate\": \"nulos=No hay datos<br>place_name=%{x}<br>counter=%{y}<extra></extra>\", \"legendgroup\": \"No hay datos\", \"marker\": {\"color\": \"#EF553B\"}, \"name\": \"No hay datos\", \"offsetgroup\": \"No hay datos\", \"orientation\": \"v\", \"showlegend\": true, \"textposition\": \"auto\", \"type\": \"bar\", \"x\": [\"Aldo Bonzi\", \"Barrio Cerrado \\\"El Casco de Moreno\\\"\", \"Barrio El Moro\", \"Barrio Parque San Martin\", \"Barrio Privado El Resuello\", \"Barrio cerrado Santa Ana\", \"Bs.As. G.B.A. Zona Oeste\", \"Campos de \\u00c1lvarez\", \"Caseros\", \"Castelar\", \"Ciudad Evita\", \"Ciudad Jard\\u00edn Lomas del Palomar\", \"Ciudadela\", \"Country Banco Provincia\", \"Country Club Las lajas\", \"Country La Tradici\\u00f3n\", \"Cuartel V\", \"El Casco de Leloir\", \"El Nacional Club de Campo\", \"El Palomar\", \"Francisco Alvarez\", \"General Rodr\\u00edguez\", \"Gonz\\u00e1lez Cat\\u00e1n\", \"Gregorio de Laferrere\", \"Haedo\", \"Haras Mar\\u00eda Elena\", \"Haras Mar\\u00eda Victoria\", \"Haras San Pablo\", \"Hurlingham\", \"Isidro Casanova\", \"Ituzaing\\u00f3\", \"Jos\\u00e9 Ingenieros\", \"La Cesarina\", \"La Matanza\", \"La Reja\", \"La Tablada\", \"Libertad\", \"Loma Hermosa\", \"Lomas del Mirador\", \"Los Ping\\u00fcinos Country Club\", \"Marcos Paz\", \"Mariano Acosta\", \"Mart\\u00edn Coronado\", \"Merlo\", \"Moreno\", \"Mor\\u00f3n\", \"Pablo Podest\\u00e1\", \"Parque Leloir\", \"Paso del Rey\", \"Pontevedra\", \"Prados del Oeste\", \"Rafael Castillo\", \"Ramos Mej\\u00eda\", \"San Alberto\", \"San Antonio De Padua\", \"San Diego Country Club\", \"San Justo\", \"Santos Lugares\", \"S\\u00e1enz Pe\\u00f1a\", \"Tapiales\", \"Terravista Barrio Privado\", \"Tres de Febrero\", \"Trujui\", \"Villa Ariza\", \"Villa Bosch\", \"Villa Celina\", \"Villa Luzuriaga\", \"Villa Madero\", \"Villa Raffo\", \"Villa Sarmiento\", \"Villa Tesei\", \"Villa Udaondo\", \"Virrey del Pino\"], \"xaxis\": \"x\", \"y\": [3, 1, 8, 1, 1, 2, 14, 4, 160, 281, 6, 1, 127, 10, 5, 1, 1, 4, 13, 44, 29, 49, 3, 4, 254, 3, 2, 3, 80, 23, 458, 2, 2, 99, 13, 11, 9, 21, 77, 317, 13, 3, 41, 232, 340, 616, 4, 7, 18, 2, 1, 8, 603, 3, 42, 11, 141, 45, 8, 10, 3, 64, 3, 7, 52, 5, 168, 3, 4, 80, 5, 3, 8], \"yaxis\": \"y\"}],\n",
       "                        {\"barmode\": \"group\", \"height\": 400, \"legend\": {\"title\": {\"text\": \"nulos\"}, \"tracegroupgap\": 0}, \"template\": {\"data\": {\"bar\": [{\"error_x\": {\"color\": \"#2a3f5f\"}, \"error_y\": {\"color\": \"#2a3f5f\"}, \"marker\": {\"line\": {\"color\": \"#E5ECF6\", \"width\": 0.5}}, \"type\": \"bar\"}], \"barpolar\": [{\"marker\": {\"line\": {\"color\": \"#E5ECF6\", \"width\": 0.5}}, \"type\": \"barpolar\"}], \"carpet\": [{\"aaxis\": {\"endlinecolor\": \"#2a3f5f\", \"gridcolor\": \"white\", \"linecolor\": \"white\", \"minorgridcolor\": \"white\", \"startlinecolor\": \"#2a3f5f\"}, \"baxis\": {\"endlinecolor\": \"#2a3f5f\", \"gridcolor\": \"white\", \"linecolor\": \"white\", \"minorgridcolor\": \"white\", \"startlinecolor\": \"#2a3f5f\"}, \"type\": \"carpet\"}], \"choropleth\": [{\"colorbar\": {\"outlinewidth\": 0, \"ticks\": \"\"}, \"type\": \"choropleth\"}], \"contour\": [{\"colorbar\": {\"outlinewidth\": 0, \"ticks\": \"\"}, \"colorscale\": [[0.0, \"#0d0887\"], [0.1111111111111111, \"#46039f\"], [0.2222222222222222, \"#7201a8\"], [0.3333333333333333, \"#9c179e\"], [0.4444444444444444, \"#bd3786\"], [0.5555555555555556, \"#d8576b\"], [0.6666666666666666, \"#ed7953\"], [0.7777777777777778, \"#fb9f3a\"], [0.8888888888888888, \"#fdca26\"], [1.0, \"#f0f921\"]], \"type\": \"contour\"}], \"contourcarpet\": [{\"colorbar\": {\"outlinewidth\": 0, \"ticks\": \"\"}, \"type\": \"contourcarpet\"}], \"heatmap\": [{\"colorbar\": {\"outlinewidth\": 0, \"ticks\": \"\"}, \"colorscale\": [[0.0, \"#0d0887\"], [0.1111111111111111, \"#46039f\"], [0.2222222222222222, \"#7201a8\"], [0.3333333333333333, \"#9c179e\"], [0.4444444444444444, \"#bd3786\"], [0.5555555555555556, \"#d8576b\"], [0.6666666666666666, \"#ed7953\"], [0.7777777777777778, \"#fb9f3a\"], [0.8888888888888888, \"#fdca26\"], [1.0, \"#f0f921\"]], \"type\": \"heatmap\"}], \"heatmapgl\": [{\"colorbar\": {\"outlinewidth\": 0, \"ticks\": \"\"}, \"colorscale\": [[0.0, \"#0d0887\"], [0.1111111111111111, \"#46039f\"], [0.2222222222222222, \"#7201a8\"], [0.3333333333333333, \"#9c179e\"], [0.4444444444444444, \"#bd3786\"], [0.5555555555555556, \"#d8576b\"], [0.6666666666666666, \"#ed7953\"], [0.7777777777777778, \"#fb9f3a\"], [0.8888888888888888, \"#fdca26\"], [1.0, \"#f0f921\"]], \"type\": \"heatmapgl\"}], \"histogram\": [{\"marker\": {\"colorbar\": {\"outlinewidth\": 0, \"ticks\": \"\"}}, \"type\": \"histogram\"}], \"histogram2d\": [{\"colorbar\": {\"outlinewidth\": 0, \"ticks\": \"\"}, \"colorscale\": [[0.0, \"#0d0887\"], [0.1111111111111111, \"#46039f\"], [0.2222222222222222, \"#7201a8\"], [0.3333333333333333, \"#9c179e\"], [0.4444444444444444, \"#bd3786\"], [0.5555555555555556, \"#d8576b\"], [0.6666666666666666, \"#ed7953\"], [0.7777777777777778, \"#fb9f3a\"], [0.8888888888888888, \"#fdca26\"], [1.0, \"#f0f921\"]], \"type\": \"histogram2d\"}], \"histogram2dcontour\": [{\"colorbar\": {\"outlinewidth\": 0, \"ticks\": \"\"}, \"colorscale\": [[0.0, \"#0d0887\"], [0.1111111111111111, \"#46039f\"], [0.2222222222222222, \"#7201a8\"], [0.3333333333333333, \"#9c179e\"], [0.4444444444444444, \"#bd3786\"], [0.5555555555555556, \"#d8576b\"], [0.6666666666666666, \"#ed7953\"], [0.7777777777777778, \"#fb9f3a\"], [0.8888888888888888, \"#fdca26\"], [1.0, \"#f0f921\"]], \"type\": \"histogram2dcontour\"}], \"mesh3d\": [{\"colorbar\": {\"outlinewidth\": 0, \"ticks\": \"\"}, \"type\": \"mesh3d\"}], \"parcoords\": [{\"line\": {\"colorbar\": {\"outlinewidth\": 0, \"ticks\": \"\"}}, \"type\": \"parcoords\"}], \"pie\": [{\"automargin\": true, \"type\": \"pie\"}], \"scatter\": [{\"marker\": {\"colorbar\": {\"outlinewidth\": 0, \"ticks\": \"\"}}, \"type\": \"scatter\"}], \"scatter3d\": [{\"line\": {\"colorbar\": {\"outlinewidth\": 0, \"ticks\": \"\"}}, \"marker\": {\"colorbar\": {\"outlinewidth\": 0, \"ticks\": \"\"}}, \"type\": \"scatter3d\"}], \"scattercarpet\": [{\"marker\": {\"colorbar\": {\"outlinewidth\": 0, \"ticks\": \"\"}}, \"type\": \"scattercarpet\"}], \"scattergeo\": [{\"marker\": {\"colorbar\": {\"outlinewidth\": 0, \"ticks\": \"\"}}, \"type\": \"scattergeo\"}], \"scattergl\": [{\"marker\": {\"colorbar\": {\"outlinewidth\": 0, \"ticks\": \"\"}}, \"type\": \"scattergl\"}], \"scattermapbox\": [{\"marker\": {\"colorbar\": {\"outlinewidth\": 0, \"ticks\": \"\"}}, \"type\": \"scattermapbox\"}], \"scatterpolar\": [{\"marker\": {\"colorbar\": {\"outlinewidth\": 0, \"ticks\": \"\"}}, \"type\": \"scatterpolar\"}], \"scatterpolargl\": [{\"marker\": {\"colorbar\": {\"outlinewidth\": 0, \"ticks\": \"\"}}, \"type\": \"scatterpolargl\"}], \"scatterternary\": [{\"marker\": {\"colorbar\": {\"outlinewidth\": 0, \"ticks\": \"\"}}, \"type\": \"scatterternary\"}], \"surface\": [{\"colorbar\": {\"outlinewidth\": 0, \"ticks\": \"\"}, \"colorscale\": [[0.0, \"#0d0887\"], [0.1111111111111111, \"#46039f\"], [0.2222222222222222, \"#7201a8\"], [0.3333333333333333, \"#9c179e\"], [0.4444444444444444, \"#bd3786\"], [0.5555555555555556, \"#d8576b\"], [0.6666666666666666, \"#ed7953\"], [0.7777777777777778, \"#fb9f3a\"], [0.8888888888888888, \"#fdca26\"], [1.0, \"#f0f921\"]], \"type\": \"surface\"}], \"table\": [{\"cells\": {\"fill\": {\"color\": \"#EBF0F8\"}, \"line\": {\"color\": \"white\"}}, \"header\": {\"fill\": {\"color\": \"#C8D4E3\"}, \"line\": {\"color\": \"white\"}}, \"type\": \"table\"}]}, \"layout\": {\"annotationdefaults\": {\"arrowcolor\": \"#2a3f5f\", \"arrowhead\": 0, \"arrowwidth\": 1}, \"coloraxis\": {\"colorbar\": {\"outlinewidth\": 0, \"ticks\": \"\"}}, \"colorscale\": {\"diverging\": [[0, \"#8e0152\"], [0.1, \"#c51b7d\"], [0.2, \"#de77ae\"], [0.3, \"#f1b6da\"], [0.4, \"#fde0ef\"], [0.5, \"#f7f7f7\"], [0.6, \"#e6f5d0\"], [0.7, \"#b8e186\"], [0.8, \"#7fbc41\"], [0.9, \"#4d9221\"], [1, \"#276419\"]], \"sequential\": [[0.0, \"#0d0887\"], [0.1111111111111111, \"#46039f\"], [0.2222222222222222, \"#7201a8\"], [0.3333333333333333, \"#9c179e\"], [0.4444444444444444, \"#bd3786\"], [0.5555555555555556, \"#d8576b\"], [0.6666666666666666, \"#ed7953\"], [0.7777777777777778, \"#fb9f3a\"], [0.8888888888888888, \"#fdca26\"], [1.0, \"#f0f921\"]], \"sequentialminus\": [[0.0, \"#0d0887\"], [0.1111111111111111, \"#46039f\"], [0.2222222222222222, \"#7201a8\"], [0.3333333333333333, \"#9c179e\"], [0.4444444444444444, \"#bd3786\"], [0.5555555555555556, \"#d8576b\"], [0.6666666666666666, \"#ed7953\"], [0.7777777777777778, \"#fb9f3a\"], [0.8888888888888888, \"#fdca26\"], [1.0, \"#f0f921\"]]}, \"colorway\": [\"#636efa\", \"#EF553B\", \"#00cc96\", \"#ab63fa\", \"#FFA15A\", \"#19d3f3\", \"#FF6692\", \"#B6E880\", \"#FF97FF\", \"#FECB52\"], \"font\": {\"color\": \"#2a3f5f\"}, \"geo\": {\"bgcolor\": \"white\", \"lakecolor\": \"white\", \"landcolor\": \"#E5ECF6\", \"showlakes\": true, \"showland\": true, \"subunitcolor\": \"white\"}, \"hoverlabel\": {\"align\": \"left\"}, \"hovermode\": \"closest\", \"mapbox\": {\"style\": \"light\"}, \"paper_bgcolor\": \"white\", \"plot_bgcolor\": \"#E5ECF6\", \"polar\": {\"angularaxis\": {\"gridcolor\": \"white\", \"linecolor\": \"white\", \"ticks\": \"\"}, \"bgcolor\": \"#E5ECF6\", \"radialaxis\": {\"gridcolor\": \"white\", \"linecolor\": \"white\", \"ticks\": \"\"}}, \"scene\": {\"xaxis\": {\"backgroundcolor\": \"#E5ECF6\", \"gridcolor\": \"white\", \"gridwidth\": 2, \"linecolor\": \"white\", \"showbackground\": true, \"ticks\": \"\", \"zerolinecolor\": \"white\"}, \"yaxis\": {\"backgroundcolor\": \"#E5ECF6\", \"gridcolor\": \"white\", \"gridwidth\": 2, \"linecolor\": \"white\", \"showbackground\": true, \"ticks\": \"\", \"zerolinecolor\": \"white\"}, \"zaxis\": {\"backgroundcolor\": \"#E5ECF6\", \"gridcolor\": \"white\", \"gridwidth\": 2, \"linecolor\": \"white\", \"showbackground\": true, \"ticks\": \"\", \"zerolinecolor\": \"white\"}}, \"shapedefaults\": {\"line\": {\"color\": \"#2a3f5f\"}}, \"ternary\": {\"aaxis\": {\"gridcolor\": \"white\", \"linecolor\": \"white\", \"ticks\": \"\"}, \"baxis\": {\"gridcolor\": \"white\", \"linecolor\": \"white\", \"ticks\": \"\"}, \"bgcolor\": \"#E5ECF6\", \"caxis\": {\"gridcolor\": \"white\", \"linecolor\": \"white\", \"ticks\": \"\"}}, \"title\": {\"x\": 0.05}, \"xaxis\": {\"automargin\": true, \"gridcolor\": \"white\", \"linecolor\": \"white\", \"ticks\": \"\", \"title\": {\"standoff\": 15}, \"zerolinecolor\": \"white\", \"zerolinewidth\": 2}, \"yaxis\": {\"automargin\": true, \"gridcolor\": \"white\", \"linecolor\": \"white\", \"ticks\": \"\", \"title\": {\"standoff\": 15}, \"zerolinecolor\": \"white\", \"zerolinewidth\": 2}}}, \"title\": {\"text\": \" Cantidad de datos por Provincia - Buenos Aires y CABA -  Bs.As. G.B.A. Zona Oeste\"}, \"xaxis\": {\"anchor\": \"y\", \"domain\": [0.0, 1.0], \"title\": {\"text\": \"place_name\"}}, \"yaxis\": {\"anchor\": \"x\", \"domain\": [0.0, 1.0], \"title\": {\"text\": \"counter\"}}},\n",
       "                        {\"responsive\": true}\n",
       "                    ).then(function(){\n",
       "                            \n",
       "var gd = document.getElementById('8a86221b-8252-469f-a44e-4ad9401f45f0');\n",
       "var x = new MutationObserver(function (mutations, observer) {{\n",
       "        var display = window.getComputedStyle(gd).display;\n",
       "        if (!display || display === 'none') {{\n",
       "            console.log([gd, 'removed!']);\n",
       "            Plotly.purge(gd);\n",
       "            observer.disconnect();\n",
       "        }}\n",
       "}});\n",
       "\n",
       "// Listen for the removal of the full notebook cells\n",
       "var notebookContainer = gd.closest('#notebook-container');\n",
       "if (notebookContainer) {{\n",
       "    x.observe(notebookContainer, {childList: true});\n",
       "}}\n",
       "\n",
       "// Listen for the clearing of the current output cell\n",
       "var outputEl = gd.closest('.output');\n",
       "if (outputEl) {{\n",
       "    x.observe(outputEl, {childList: true});\n",
       "}}\n",
       "\n",
       "                        })\n",
       "                };\n",
       "                });\n",
       "            </script>\n",
       "        </div>"
      ]
     },
     "metadata": {},
     "output_type": "display_data"
    }
   ],
   "source": [
    "bsas_oeste_barrios_grupo = bsas_oeste.groupby(by=['state_name','place_name','nulos'],as_index=False)['counter'].sum()\n",
    "bsas_oeste_barrios_grupo['nulos'] = bsas_oeste_barrios_grupo['nulos'].astype(str)\n",
    "bsas_oeste_barrios_grupo['nulos'] = bsas_oeste_barrios_grupo.nulos.str.replace('False','Hay datos')\n",
    "bsas_oeste_barrios_grupo['nulos'] = bsas_oeste_barrios_grupo.nulos.str.replace('True','No hay datos')\n",
    "fig = px.bar(bsas_oeste_barrios_grupo, x=\"place_name\", y=\"counter\",\n",
    "             color='nulos', barmode='group',\n",
    "             height=400, title=\" Cantidad de datos por Provincia - Buenos Aires y CABA -  Bs.As. G.B.A. Zona Oeste\")\n",
    "fig.show()\n",
    "\n"
   ]
  },
  {
   "cell_type": "code",
   "execution_count": 112,
   "metadata": {},
   "outputs": [
    {
     "data": {
      "application/vnd.plotly.v1+json": {
       "config": {
        "plotlyServerURL": "https://plotly.com"
       },
       "data": [
        {
         "alignmentgroup": "True",
         "hovertemplate": "nulos=Hay datos<br>place_name=%{x}<br>counter=%{y}<extra></extra>",
         "legendgroup": "Hay datos",
         "marker": {
          "color": "#636efa"
         },
         "name": "Hay datos",
         "offsetgroup": "Hay datos",
         "orientation": "v",
         "showlegend": true,
         "textposition": "auto",
         "type": "bar",
         "x": [
          " Country Maschwitz Club",
          " los alamos",
          "Acacias Blancas",
          "Acassuso",
          "Albanueva Barrio Cerrado",
          "Altamira",
          "Altos de Manzanares 1 y 2",
          "Altos de Matheu",
          "Altos del Golf",
          "Altos del Pilar",
          "Armenia Country Club",
          "Bahía del Sol",
          "Barbarita, Barrio Cerrado",
          "Barrancas de San Jose",
          "Barrancas de Santa María",
          "Barrio Acacias",
          "Barrio Araucarias",
          "Barrio Barrancas del Lago",
          "Barrio Cabos del Lago",
          "Barrio Cerrado \"Ayres Plaza\"",
          "Barrio Cerrado \"Buenos Aires Village\"",
          "Barrio Cerrado \"Isla del Sol\"",
          "Barrio Cerrado \"La Candelaria\"",
          "Barrio Cerrado \"La Cautiva del Pilar\"",
          "Barrio Cerrado \"La Damasia\"",
          "Barrio Cerrado \"La Delfina\"",
          "Barrio Cerrado \"La Montura\"",
          "Barrio Cerrado \"La Tranquera\"",
          "Barrio Cerrado \"Las Marías\"",
          "Barrio Cerrado \"Los Alcanfores\"",
          "Barrio Cerrado \"Los Potrillos\"",
          "Barrio Cerrado \"Los Senderos\"",
          "Barrio Cerrado \"Roble Joven\"",
          "Barrio Cerrado \"Soles de Pilar\"",
          "Barrio Cerrado \"SpringDale\"",
          "Barrio Cerrado \"Tres Horquetas\"",
          "Barrio Cerrado \"Villa Rosa\"",
          "Barrio Cerrado El Lucero",
          "Barrio Cerrado Lagos del Norte",
          "Barrio Cerrado Las Casuarinas",
          "Barrio El Golf",
          "Barrio La Alameda",
          "Barrio La Cuesta",
          "Barrio La Isla",
          "Barrio Las Glorietas",
          "Barrio Los Alisos",
          "Barrio Los Castores",
          "Barrio Los Lagos",
          "Barrio Marinas",
          "Barrio Parque Almirante Irízar",
          "Barrio Parque General San Martin",
          "Barrio Privado \"Lomas de Fátima\"",
          "Barrio Privado El Recodo  S.A.",
          "Barrio San Agustin",
          "Barrio San Eduardo - Pilar del Este",
          "Barrio San Gabriel",
          "Barrio San Matías",
          "Barrio San Rafael",
          "Barrio Santa Clara",
          "Barrio Santa Teresa",
          "Barrio Vistas",
          "BarrioPortezuelo",
          "Beccar",
          "Bella Vista",
          "Belén de Escobar",
          "Benavidez",
          "Benavidez Greens",
          "Bermudas Country Club",
          "Billinghurst",
          "Boat Center Barrio Cerrado",
          "Boca Ratón",
          "Boulogne Sur Mer",
          "Bs.As. G.B.A. Zona Norte",
          "Campo Grande Country Club",
          "Carapachay",
          "Club de Campo Pueyrredón",
          "Country Club Aranjuez",
          "Country Farm Club",
          "Country Maschwitz Privado",
          "Country San Jorge Village",
          "Del Viso",
          "Delta",
          "Derqui",
          "Dique Luján",
          "Don Torcuato",
          "El Canton Barrio Puerto",
          "El Cazador",
          "El Encuentro",
          "El Molino",
          "El Talar",
          "El Talar de Pacheco",
          "El Viejo Vivero",
          "El Zorzal",
          "Enyoi",
          "Escobar",
          "Estancias del Pilar",
          "Fincas del Lago",
          "Florida",
          "Florida Oeste",
          "Fátima",
          "Galapagos Country Club",
          "Garín",
          "General Pacheco",
          "General San Martín",
          "Golf Club Argentino",
          "Golfer's Country Club",
          "Grand Bourg",
          "Hacoaj Barrio Cerrado",
          "Haras Santa Maria",
          "Haras del Pilar - El Establo",
          "Haras del Pilar - La Caballeriza",
          "Haras del Pilar - Las Praderas 1 y 2",
          "Haras del Sol - Barrio Privado",
          "Highland Park Country Club",
          "Hindu Club",
          "Ingeniero Adolfo Sourdeaux",
          "Ingeniero Pablo Nogués",
          "Islas del Canal",
          "Jose Leon Suarez",
          "José C Paz",
          "La Agustina",
          "La Angélica",
          "La Arboleda de Maschwitz",
          "La Comarca",
          "La Herradura",
          "La Lomada de Pilar",
          "La Lonja",
          "La Lucila",
          "La Madrugada",
          "La Martinica",
          "La Peregrina",
          "Laguna del Sol",
          "Loma Verde",
          "Los Angeles Village",
          "Los Horneros CC",
          "Los Lagartos Country Club",
          "Los Pilares - Barrio Privado",
          "Los Polvorines",
          "Los Robles de Maschwitz",
          "Los Sauces Country Club",
          "Los Tres Coniles",
          "Malvinas Argentinas",
          "Manuel Alberti",
          "Manzanares",
          "Manzone",
          "Mapuche Country Club",
          "Maquinista Savio",
          "Marinas Golf Barrio Cerrado",
          "Martindale Country Club",
          "Martínez",
          "Maschwitz",
          "Matheu",
          "Mayling Club de Campo",
          "Medal Country Club",
          "Miraflores Country Club",
          "Munro",
          "Muñiz",
          "Nordelta",
          "Olivos",
          "Olivos Golf Club",
          "Pacheco Golf Club",
          "Pilar",
          "Pilar Golf Country Club",
          "Pilar Green Park",
          "Pilar Village",
          "Pilar del Lago",
          "Princess",
          "QBay Yacht",
          "Ricardo Rojas",
          "Rincon",
          "Rincon Del Arca",
          "Rincón de Maschwitz",
          "Rincón de Milberg",
          "Rincón de la Costa",
          "Saint Matthews",
          "San Andres",
          "San Fernando",
          "San Francisco Club de Campo",
          "San Isidro",
          "San Isidro Chico",
          "San Juan",
          "San Lucas Village",
          "San Martín",
          "San Miguel",
          "San Miguel Oeste",
          "San Miguel de Ghiso",
          "Santa Barbara Barrio Cerrado",
          "Santa Isabel",
          "Santa María de los Olivos",
          "Santa-Catalina",
          "Septiembre",
          "Solares del Talar",
          "Talar del Lago 1",
          "Talar del lago 2",
          "Tigre",
          "Tortuguitas",
          "Troncos del Talar",
          "Valle Claro",
          "Vicente López",
          "Victoria",
          "Villa Adelina",
          "Villa Astolfi",
          "Villa Ballester",
          "Villa Bertha",
          "Villa Bonich",
          "Villa Granaderos De San Martin",
          "Villa Libertad",
          "Villa Lynch",
          "Villa Maipu",
          "Villa Martelli",
          "Villa Monteagudo",
          "Villa Pacheco",
          "Villa Rosa",
          "Villa de Mayo",
          "Village Golf & Tennis Country Club",
          "Virasoro Village",
          "Virreyes",
          "Zelaya",
          "coordenadas 34.255511"
         ],
         "xaxis": "x",
         "y": [
          2,
          1,
          21,
          171,
          22,
          12,
          2,
          2,
          5,
          7,
          5,
          3,
          10,
          8,
          5,
          3,
          4,
          4,
          2,
          12,
          2,
          1,
          1,
          3,
          1,
          16,
          8,
          2,
          1,
          3,
          6,
          2,
          2,
          2,
          1,
          3,
          1,
          7,
          1,
          28,
          28,
          56,
          2,
          7,
          6,
          268,
          12,
          33,
          7,
          1,
          7,
          3,
          7,
          16,
          1,
          79,
          8,
          37,
          7,
          42,
          2,
          47,
          280,
          180,
          112,
          522,
          3,
          2,
          12,
          4,
          11,
          110,
          166,
          1,
          79,
          3,
          3,
          2,
          3,
          19,
          124,
          28,
          15,
          6,
          58,
          4,
          11,
          16,
          1,
          22,
          20,
          1,
          1,
          16,
          687,
          55,
          4,
          351,
          37,
          2,
          4,
          22,
          57,
          254,
          1,
          11,
          18,
          6,
          69,
          7,
          3,
          15,
          1,
          13,
          1,
          8,
          23,
          6,
          40,
          79,
          1,
          3,
          1,
          30,
          1,
          16,
          6,
          216,
          15,
          8,
          14,
          10,
          38,
          3,
          1,
          8,
          6,
          45,
          3,
          1,
          1,
          77,
          16,
          17,
          6,
          13,
          2,
          6,
          6,
          707,
          87,
          5,
          47,
          4,
          5,
          108,
          146,
          2242,
          1078,
          37,
          11,
          1619,
          1,
          5,
          6,
          7,
          1,
          10,
          5,
          1,
          4,
          2,
          168,
          2,
          1,
          71,
          425,
          2,
          704,
          2,
          6,
          2,
          143,
          478,
          2,
          2,
          88,
          6,
          23,
          17,
          19,
          21,
          12,
          11,
          2277,
          37,
          5,
          6,
          487,
          262,
          74,
          2,
          403,
          12,
          7,
          1,
          29,
          23,
          3,
          40,
          3,
          2,
          81,
          23,
          4,
          1,
          9,
          5,
          1
         ],
         "yaxis": "y"
        },
        {
         "alignmentgroup": "True",
         "hovertemplate": "nulos=No hay datos<br>place_name=%{x}<br>counter=%{y}<extra></extra>",
         "legendgroup": "No hay datos",
         "marker": {
          "color": "#EF553B"
         },
         "name": "No hay datos",
         "offsetgroup": "No hay datos",
         "orientation": "v",
         "showlegend": true,
         "textposition": "auto",
         "type": "bar",
         "x": [
          " Country Maschwitz Club",
          "Acacias Blancas",
          "Acassuso",
          "Albanueva Barrio Cerrado",
          "Altamira",
          "Altos del Golf",
          "Altos del Pilar",
          "Bahía del Sol",
          "Barrancas de San Jose",
          "Barrancas de Santa María",
          "Barrio Alamo Alto",
          "Barrio Cabos del Lago",
          "Barrio Ceibos",
          "Barrio Cerrado",
          "Barrio Cerrado \"El Aromo\"",
          "Barrio Cerrado \"El Estribo\"",
          "Barrio Cerrado \"La Cañada de Pilar\"",
          "Barrio Cerrado \"La Chacra\"",
          "Barrio Cerrado \"La Delfina\"",
          "Barrio Cerrado \"La Emilia\"",
          "Barrio Cerrado \"La Escondida\"",
          "Barrio Cerrado \"La Montura\"",
          "Barrio Cerrado \"Las Araucarias\"",
          "Barrio Cerrado \"Los Condes\"",
          "Barrio Cerrado \"Los Fresnos\"",
          "Barrio Cerrado \"Los Potrillos\"",
          "Barrio Cerrado \"Sausalito\"",
          "Barrio Cerrado Fincas de Maschwitz",
          "Barrio Cerrado La Masia",
          "Barrio Cerrado Las Casuarinas",
          "Barrio Cerrado Los Abedules",
          "Barrio Cerrado San Andres",
          "Barrio El Golf",
          "Barrio El Yacht",
          "Barrio La Alameda",
          "Barrio La Isla",
          "Barrio Las Glorietas",
          "Barrio Los Alisos",
          "Barrio Los Castores",
          "Barrio Los Jazmines - Pilar del Este",
          "Barrio Los Lagos",
          "Barrio Los Sauces",
          "Barrio Los Tilos",
          "Barrio Parque Almirante Irízar",
          "Barrio Parque General San Martin",
          "Barrio Parque Matheu",
          "Barrio Privado \"Ayres de Pilar\"",
          "Barrio Privado \"Lomas de Fátima\"",
          "Barrio Privado Villa Olivos",
          "Barrio San Agustin",
          "Barrio San Alfonso - Pilar del Este",
          "Barrio San Benito",
          "Barrio San Eduardo - Pilar del Este",
          "Barrio San Gabriel",
          "Barrio San Isidro Labrador",
          "Barrio San Marco",
          "Barrio San Matías",
          "Barrio San Rafael",
          "Barrio Santa Clara",
          "Barrio Santa Guadalupe - Pilar del Este",
          "Barrio Santa Teresa",
          "Barrio cerrado La Cascada",
          "BarrioPortezuelo",
          "Beccar",
          "Bella Vista",
          "Belén de Escobar",
          "Benavidez",
          "Bermudas Country Club",
          "Billinghurst",
          "Boat Center Barrio Cerrado",
          "Boca Ratón",
          "Boulogne Sur Mer",
          "Bs.As. G.B.A. Zona Norte",
          "Campo Chico Country Club",
          "Campo Grande Country Club",
          "Carapachay",
          "Carmel Country Club",
          "Club de Campo Aranzazu",
          "Club de Campo Pueyrredón",
          "Country Club Aranjuez",
          "Country Farm Club",
          "Country San Jorge Village",
          "Del Viso",
          "Delta",
          "Dique Luján",
          "Don Torcuato",
          "El Canton Barrio Islas",
          "El Canton Barrio Norte",
          "El Cazador",
          "El Encuentro",
          "El Molino",
          "El Talar",
          "El Talar de Pacheco",
          "Enyoi",
          "Escobar",
          "Estancias del Pilar",
          "Fincas del Lago",
          "Florida",
          "Florida Oeste",
          "Garín",
          "General Pacheco",
          "General San Martín",
          "Golfer's Country Club",
          "Grand Bourg",
          "Hacoaj Barrio Cerrado",
          "Haras Santa Maria",
          "Haras del Pilar - El Establo",
          "Haras del Pilar - Las Praderas 1 y 2",
          "Haras del Sol - Barrio Privado",
          "Highland Park Country Club",
          "Hindu Club",
          "Ingeniero Adolfo Sourdeaux",
          "Ingeniero Pablo Nogués",
          "Islas",
          "Jose Leon Suarez",
          "José C Paz",
          "La Angélica",
          "La Comarca",
          "La Escondida de Manzanares",
          "La Lomada de Pilar",
          "La Lucila",
          "La Madrugada",
          "La Martinica",
          "La Peregrina",
          "La Pilarica",
          "Laguna del Sol",
          "Larena Country Club",
          "Loma Verde",
          "Lomas de Benavidez",
          "Los Angeles Village",
          "Los Horneros CC",
          "Los Lagartos Country Club",
          "Los Pilares - Barrio Privado",
          "Los Polvorines",
          "Los Robles de Maschwitz",
          "Los Sauces Country Club",
          "Los Tres Coniles",
          "Malvinas Argentinas",
          "Manuel Alberti",
          "Manzanares",
          "Mapuche Country Club",
          "Marina Del Sol (Sun's Marine)",
          "Martindale Country Club",
          "Martínez",
          "Maschwitz",
          "Matheu",
          "Mayling Club de Campo",
          "Miraflores Country Club",
          "Munro",
          "Muñiz",
          "Nordelta",
          "Olivos",
          "Olivos Golf Club",
          "Pacheco Golf Club",
          "Pilar",
          "Pilar Golf Country Club",
          "Pilar Village",
          "Pilar del Lago",
          "Punta Chica Village",
          "QBay Yacht",
          "Ricardo Rojas",
          "Rincón de Maschwitz",
          "Rincón de Milberg",
          "San Andres",
          "San Fernando",
          "San Francisco Club de Campo",
          "San Isidro",
          "San Isidro Chico",
          "San Juan",
          "San Martín",
          "San Miguel",
          "Santa Barbara Barrio Cerrado",
          "Santa Isabel",
          "Santa María de los Olivos",
          "Santa-Catalina",
          "Septiembre",
          "Solares del Talar",
          "Talar del Lago 1",
          "Talar del lago 2",
          "The Boating Club",
          "Tigre",
          "Tortugas Country Club",
          "Tortuguitas",
          "Valle Claro",
          "Vicente López",
          "Victoria",
          "Vila Vela Terrazas al Lago",
          "Villa Adelina",
          "Villa Astolfi",
          "Villa Ballester",
          "Villa Bertha",
          "Villa Bonich",
          "Villa Libertad",
          "Villa Lynch",
          "Villa Maipu",
          "Villa Martelli",
          "Villa Pacheco",
          "Villa Rosa",
          "Villa de Mayo",
          "Village Golf & Tennis Country Club",
          "Virreyes",
          "Zelaya"
         ],
         "xaxis": "x",
         "y": [
          1,
          13,
          71,
          4,
          2,
          2,
          4,
          1,
          5,
          1,
          2,
          1,
          6,
          2,
          1,
          1,
          3,
          1,
          1,
          1,
          1,
          3,
          1,
          3,
          2,
          1,
          3,
          3,
          1,
          4,
          2,
          1,
          4,
          1,
          6,
          3,
          4,
          10,
          2,
          2,
          6,
          4,
          1,
          1,
          1,
          2,
          4,
          1,
          2,
          3,
          1,
          1,
          1,
          8,
          9,
          1,
          3,
          6,
          3,
          9,
          2,
          1,
          7,
          118,
          93,
          82,
          82,
          1,
          3,
          7,
          18,
          63,
          56,
          3,
          2,
          42,
          45,
          2,
          7,
          2,
          1,
          2,
          49,
          58,
          5,
          34,
          1,
          1,
          2,
          5,
          1,
          5,
          4,
          1,
          350,
          8,
          6,
          269,
          14,
          144,
          20,
          128,
          3,
          27,
          2,
          57,
          1,
          8,
          1,
          3,
          1,
          4,
          13,
          1,
          33,
          56,
          4,
          16,
          1,
          11,
          140,
          1,
          3,
          1,
          1,
          4,
          3,
          14,
          2,
          2,
          3,
          6,
          3,
          34,
          1,
          1,
          1,
          39,
          9,
          1,
          15,
          1,
          4,
          351,
          21,
          7,
          27,
          4,
          64,
          90,
          1073,
          512,
          10,
          1,
          606,
          2,
          3,
          4,
          2,
          3,
          3,
          2,
          30,
          51,
          218,
          10,
          286,
          2,
          5,
          152,
          274,
          5,
          3,
          5,
          7,
          15,
          4,
          2,
          1,
          1,
          1047,
          4,
          34,
          4,
          194,
          84,
          18,
          68,
          2,
          185,
          3,
          2,
          5,
          18,
          8,
          30,
          1,
          15,
          13,
          3,
          32,
          2
         ],
         "yaxis": "y"
        }
       ],
       "layout": {
        "autosize": true,
        "barmode": "group",
        "legend": {
         "title": {
          "text": "nulos"
         },
         "tracegroupgap": 0
        },
        "template": {
         "data": {
          "bar": [
           {
            "error_x": {
             "color": "#2a3f5f"
            },
            "error_y": {
             "color": "#2a3f5f"
            },
            "marker": {
             "line": {
              "color": "#E5ECF6",
              "width": 0.5
             }
            },
            "type": "bar"
           }
          ],
          "barpolar": [
           {
            "marker": {
             "line": {
              "color": "#E5ECF6",
              "width": 0.5
             }
            },
            "type": "barpolar"
           }
          ],
          "carpet": [
           {
            "aaxis": {
             "endlinecolor": "#2a3f5f",
             "gridcolor": "white",
             "linecolor": "white",
             "minorgridcolor": "white",
             "startlinecolor": "#2a3f5f"
            },
            "baxis": {
             "endlinecolor": "#2a3f5f",
             "gridcolor": "white",
             "linecolor": "white",
             "minorgridcolor": "white",
             "startlinecolor": "#2a3f5f"
            },
            "type": "carpet"
           }
          ],
          "choropleth": [
           {
            "colorbar": {
             "outlinewidth": 0,
             "ticks": ""
            },
            "type": "choropleth"
           }
          ],
          "contour": [
           {
            "colorbar": {
             "outlinewidth": 0,
             "ticks": ""
            },
            "colorscale": [
             [
              0,
              "#0d0887"
             ],
             [
              0.1111111111111111,
              "#46039f"
             ],
             [
              0.2222222222222222,
              "#7201a8"
             ],
             [
              0.3333333333333333,
              "#9c179e"
             ],
             [
              0.4444444444444444,
              "#bd3786"
             ],
             [
              0.5555555555555556,
              "#d8576b"
             ],
             [
              0.6666666666666666,
              "#ed7953"
             ],
             [
              0.7777777777777778,
              "#fb9f3a"
             ],
             [
              0.8888888888888888,
              "#fdca26"
             ],
             [
              1,
              "#f0f921"
             ]
            ],
            "type": "contour"
           }
          ],
          "contourcarpet": [
           {
            "colorbar": {
             "outlinewidth": 0,
             "ticks": ""
            },
            "type": "contourcarpet"
           }
          ],
          "heatmap": [
           {
            "colorbar": {
             "outlinewidth": 0,
             "ticks": ""
            },
            "colorscale": [
             [
              0,
              "#0d0887"
             ],
             [
              0.1111111111111111,
              "#46039f"
             ],
             [
              0.2222222222222222,
              "#7201a8"
             ],
             [
              0.3333333333333333,
              "#9c179e"
             ],
             [
              0.4444444444444444,
              "#bd3786"
             ],
             [
              0.5555555555555556,
              "#d8576b"
             ],
             [
              0.6666666666666666,
              "#ed7953"
             ],
             [
              0.7777777777777778,
              "#fb9f3a"
             ],
             [
              0.8888888888888888,
              "#fdca26"
             ],
             [
              1,
              "#f0f921"
             ]
            ],
            "type": "heatmap"
           }
          ],
          "heatmapgl": [
           {
            "colorbar": {
             "outlinewidth": 0,
             "ticks": ""
            },
            "colorscale": [
             [
              0,
              "#0d0887"
             ],
             [
              0.1111111111111111,
              "#46039f"
             ],
             [
              0.2222222222222222,
              "#7201a8"
             ],
             [
              0.3333333333333333,
              "#9c179e"
             ],
             [
              0.4444444444444444,
              "#bd3786"
             ],
             [
              0.5555555555555556,
              "#d8576b"
             ],
             [
              0.6666666666666666,
              "#ed7953"
             ],
             [
              0.7777777777777778,
              "#fb9f3a"
             ],
             [
              0.8888888888888888,
              "#fdca26"
             ],
             [
              1,
              "#f0f921"
             ]
            ],
            "type": "heatmapgl"
           }
          ],
          "histogram": [
           {
            "marker": {
             "colorbar": {
              "outlinewidth": 0,
              "ticks": ""
             }
            },
            "type": "histogram"
           }
          ],
          "histogram2d": [
           {
            "colorbar": {
             "outlinewidth": 0,
             "ticks": ""
            },
            "colorscale": [
             [
              0,
              "#0d0887"
             ],
             [
              0.1111111111111111,
              "#46039f"
             ],
             [
              0.2222222222222222,
              "#7201a8"
             ],
             [
              0.3333333333333333,
              "#9c179e"
             ],
             [
              0.4444444444444444,
              "#bd3786"
             ],
             [
              0.5555555555555556,
              "#d8576b"
             ],
             [
              0.6666666666666666,
              "#ed7953"
             ],
             [
              0.7777777777777778,
              "#fb9f3a"
             ],
             [
              0.8888888888888888,
              "#fdca26"
             ],
             [
              1,
              "#f0f921"
             ]
            ],
            "type": "histogram2d"
           }
          ],
          "histogram2dcontour": [
           {
            "colorbar": {
             "outlinewidth": 0,
             "ticks": ""
            },
            "colorscale": [
             [
              0,
              "#0d0887"
             ],
             [
              0.1111111111111111,
              "#46039f"
             ],
             [
              0.2222222222222222,
              "#7201a8"
             ],
             [
              0.3333333333333333,
              "#9c179e"
             ],
             [
              0.4444444444444444,
              "#bd3786"
             ],
             [
              0.5555555555555556,
              "#d8576b"
             ],
             [
              0.6666666666666666,
              "#ed7953"
             ],
             [
              0.7777777777777778,
              "#fb9f3a"
             ],
             [
              0.8888888888888888,
              "#fdca26"
             ],
             [
              1,
              "#f0f921"
             ]
            ],
            "type": "histogram2dcontour"
           }
          ],
          "mesh3d": [
           {
            "colorbar": {
             "outlinewidth": 0,
             "ticks": ""
            },
            "type": "mesh3d"
           }
          ],
          "parcoords": [
           {
            "line": {
             "colorbar": {
              "outlinewidth": 0,
              "ticks": ""
             }
            },
            "type": "parcoords"
           }
          ],
          "pie": [
           {
            "automargin": true,
            "type": "pie"
           }
          ],
          "scatter": [
           {
            "marker": {
             "colorbar": {
              "outlinewidth": 0,
              "ticks": ""
             }
            },
            "type": "scatter"
           }
          ],
          "scatter3d": [
           {
            "line": {
             "colorbar": {
              "outlinewidth": 0,
              "ticks": ""
             }
            },
            "marker": {
             "colorbar": {
              "outlinewidth": 0,
              "ticks": ""
             }
            },
            "type": "scatter3d"
           }
          ],
          "scattercarpet": [
           {
            "marker": {
             "colorbar": {
              "outlinewidth": 0,
              "ticks": ""
             }
            },
            "type": "scattercarpet"
           }
          ],
          "scattergeo": [
           {
            "marker": {
             "colorbar": {
              "outlinewidth": 0,
              "ticks": ""
             }
            },
            "type": "scattergeo"
           }
          ],
          "scattergl": [
           {
            "marker": {
             "colorbar": {
              "outlinewidth": 0,
              "ticks": ""
             }
            },
            "type": "scattergl"
           }
          ],
          "scattermapbox": [
           {
            "marker": {
             "colorbar": {
              "outlinewidth": 0,
              "ticks": ""
             }
            },
            "type": "scattermapbox"
           }
          ],
          "scatterpolar": [
           {
            "marker": {
             "colorbar": {
              "outlinewidth": 0,
              "ticks": ""
             }
            },
            "type": "scatterpolar"
           }
          ],
          "scatterpolargl": [
           {
            "marker": {
             "colorbar": {
              "outlinewidth": 0,
              "ticks": ""
             }
            },
            "type": "scatterpolargl"
           }
          ],
          "scatterternary": [
           {
            "marker": {
             "colorbar": {
              "outlinewidth": 0,
              "ticks": ""
             }
            },
            "type": "scatterternary"
           }
          ],
          "surface": [
           {
            "colorbar": {
             "outlinewidth": 0,
             "ticks": ""
            },
            "colorscale": [
             [
              0,
              "#0d0887"
             ],
             [
              0.1111111111111111,
              "#46039f"
             ],
             [
              0.2222222222222222,
              "#7201a8"
             ],
             [
              0.3333333333333333,
              "#9c179e"
             ],
             [
              0.4444444444444444,
              "#bd3786"
             ],
             [
              0.5555555555555556,
              "#d8576b"
             ],
             [
              0.6666666666666666,
              "#ed7953"
             ],
             [
              0.7777777777777778,
              "#fb9f3a"
             ],
             [
              0.8888888888888888,
              "#fdca26"
             ],
             [
              1,
              "#f0f921"
             ]
            ],
            "type": "surface"
           }
          ],
          "table": [
           {
            "cells": {
             "fill": {
              "color": "#EBF0F8"
             },
             "line": {
              "color": "white"
             }
            },
            "header": {
             "fill": {
              "color": "#C8D4E3"
             },
             "line": {
              "color": "white"
             }
            },
            "type": "table"
           }
          ]
         },
         "layout": {
          "annotationdefaults": {
           "arrowcolor": "#2a3f5f",
           "arrowhead": 0,
           "arrowwidth": 1
          },
          "coloraxis": {
           "colorbar": {
            "outlinewidth": 0,
            "ticks": ""
           }
          },
          "colorscale": {
           "diverging": [
            [
             0,
             "#8e0152"
            ],
            [
             0.1,
             "#c51b7d"
            ],
            [
             0.2,
             "#de77ae"
            ],
            [
             0.3,
             "#f1b6da"
            ],
            [
             0.4,
             "#fde0ef"
            ],
            [
             0.5,
             "#f7f7f7"
            ],
            [
             0.6,
             "#e6f5d0"
            ],
            [
             0.7,
             "#b8e186"
            ],
            [
             0.8,
             "#7fbc41"
            ],
            [
             0.9,
             "#4d9221"
            ],
            [
             1,
             "#276419"
            ]
           ],
           "sequential": [
            [
             0,
             "#0d0887"
            ],
            [
             0.1111111111111111,
             "#46039f"
            ],
            [
             0.2222222222222222,
             "#7201a8"
            ],
            [
             0.3333333333333333,
             "#9c179e"
            ],
            [
             0.4444444444444444,
             "#bd3786"
            ],
            [
             0.5555555555555556,
             "#d8576b"
            ],
            [
             0.6666666666666666,
             "#ed7953"
            ],
            [
             0.7777777777777778,
             "#fb9f3a"
            ],
            [
             0.8888888888888888,
             "#fdca26"
            ],
            [
             1,
             "#f0f921"
            ]
           ],
           "sequentialminus": [
            [
             0,
             "#0d0887"
            ],
            [
             0.1111111111111111,
             "#46039f"
            ],
            [
             0.2222222222222222,
             "#7201a8"
            ],
            [
             0.3333333333333333,
             "#9c179e"
            ],
            [
             0.4444444444444444,
             "#bd3786"
            ],
            [
             0.5555555555555556,
             "#d8576b"
            ],
            [
             0.6666666666666666,
             "#ed7953"
            ],
            [
             0.7777777777777778,
             "#fb9f3a"
            ],
            [
             0.8888888888888888,
             "#fdca26"
            ],
            [
             1,
             "#f0f921"
            ]
           ]
          },
          "colorway": [
           "#636efa",
           "#EF553B",
           "#00cc96",
           "#ab63fa",
           "#FFA15A",
           "#19d3f3",
           "#FF6692",
           "#B6E880",
           "#FF97FF",
           "#FECB52"
          ],
          "font": {
           "color": "#2a3f5f"
          },
          "geo": {
           "bgcolor": "white",
           "lakecolor": "white",
           "landcolor": "#E5ECF6",
           "showlakes": true,
           "showland": true,
           "subunitcolor": "white"
          },
          "hoverlabel": {
           "align": "left"
          },
          "hovermode": "closest",
          "mapbox": {
           "style": "light"
          },
          "paper_bgcolor": "white",
          "plot_bgcolor": "#E5ECF6",
          "polar": {
           "angularaxis": {
            "gridcolor": "white",
            "linecolor": "white",
            "ticks": ""
           },
           "bgcolor": "#E5ECF6",
           "radialaxis": {
            "gridcolor": "white",
            "linecolor": "white",
            "ticks": ""
           }
          },
          "scene": {
           "xaxis": {
            "backgroundcolor": "#E5ECF6",
            "gridcolor": "white",
            "gridwidth": 2,
            "linecolor": "white",
            "showbackground": true,
            "ticks": "",
            "zerolinecolor": "white"
           },
           "yaxis": {
            "backgroundcolor": "#E5ECF6",
            "gridcolor": "white",
            "gridwidth": 2,
            "linecolor": "white",
            "showbackground": true,
            "ticks": "",
            "zerolinecolor": "white"
           },
           "zaxis": {
            "backgroundcolor": "#E5ECF6",
            "gridcolor": "white",
            "gridwidth": 2,
            "linecolor": "white",
            "showbackground": true,
            "ticks": "",
            "zerolinecolor": "white"
           }
          },
          "shapedefaults": {
           "line": {
            "color": "#2a3f5f"
           }
          },
          "ternary": {
           "aaxis": {
            "gridcolor": "white",
            "linecolor": "white",
            "ticks": ""
           },
           "baxis": {
            "gridcolor": "white",
            "linecolor": "white",
            "ticks": ""
           },
           "bgcolor": "#E5ECF6",
           "caxis": {
            "gridcolor": "white",
            "linecolor": "white",
            "ticks": ""
           }
          },
          "title": {
           "x": 0.05
          },
          "xaxis": {
           "automargin": true,
           "gridcolor": "white",
           "linecolor": "white",
           "ticks": "",
           "title": {
            "standoff": 15
           },
           "zerolinecolor": "white",
           "zerolinewidth": 2
          },
          "yaxis": {
           "automargin": true,
           "gridcolor": "white",
           "linecolor": "white",
           "ticks": "",
           "title": {
            "standoff": 15
           },
           "zerolinecolor": "white",
           "zerolinewidth": 2
          }
         }
        },
        "title": {
         "text": " Cantidad de datos por Provincia - Buenos Aires y CABA -  Bs.As. G.B.A. Zona Norte"
        },
        "xaxis": {
         "anchor": "y",
         "autorange": true,
         "domain": [
          0,
          1
         ],
         "range": [
          -0.5,
          263.5
         ],
         "title": {
          "text": "place_name"
         },
         "type": "category"
        },
        "yaxis": {
         "anchor": "x",
         "autorange": true,
         "domain": [
          0,
          1
         ],
         "range": [
          0,
          2396.842105263158
         ],
         "title": {
          "text": "counter"
         },
         "type": "linear"
        }
       }
      },
      "image/png": "[encoded data removed]",
      "text/html": [
       "<div>\n",
       "        \n",
       "        \n",
       "            <div id=\"e68b51b6-7c12-41d7-af88-67958323ea4d\" class=\"plotly-graph-div\" style=\"height:400px; width:100%;\"></div>\n",
       "            <script type=\"text/javascript\">\n",
       "                require([\"plotly\"], function(Plotly) {\n",
       "                    window.PLOTLYENV=window.PLOTLYENV || {};\n",
       "                    \n",
       "                if (document.getElementById(\"e68b51b6-7c12-41d7-af88-67958323ea4d\")) {\n",
       "                    Plotly.newPlot(\n",
       "                        'e68b51b6-7c12-41d7-af88-67958323ea4d',\n",
       "                        [{\"alignmentgroup\": \"True\", \"hovertemplate\": \"nulos=Hay datos<br>place_name=%{x}<br>counter=%{y}<extra></extra>\", \"legendgroup\": \"Hay datos\", \"marker\": {\"color\": \"#636efa\"}, \"name\": \"Hay datos\", \"offsetgroup\": \"Hay datos\", \"orientation\": \"v\", \"showlegend\": true, \"textposition\": \"auto\", \"type\": \"bar\", \"x\": [\" Country Maschwitz Club\", \" los alamos\", \"Acacias Blancas\", \"Acassuso\", \"Albanueva Barrio Cerrado\", \"Altamira\", \"Altos de Manzanares 1 y 2\", \"Altos de Matheu\", \"Altos del Golf\", \"Altos del Pilar\", \"Armenia Country Club\", \"Bah\\u00eda del Sol\", \"Barbarita, Barrio Cerrado\", \"Barrancas de San Jose\", \"Barrancas de Santa Mar\\u00eda\", \"Barrio Acacias\", \"Barrio Araucarias\", \"Barrio Barrancas del Lago\", \"Barrio Cabos del Lago\", \"Barrio Cerrado \\\"Ayres Plaza\\\"\", \"Barrio Cerrado \\\"Buenos Aires Village\\\"\", \"Barrio Cerrado \\\"Isla del Sol\\\"\", \"Barrio Cerrado \\\"La Candelaria\\\"\", \"Barrio Cerrado \\\"La Cautiva del Pilar\\\"\", \"Barrio Cerrado \\\"La Damasia\\\"\", \"Barrio Cerrado \\\"La Delfina\\\"\", \"Barrio Cerrado \\\"La Montura\\\"\", \"Barrio Cerrado \\\"La Tranquera\\\"\", \"Barrio Cerrado \\\"Las Mar\\u00edas\\\"\", \"Barrio Cerrado \\\"Los Alcanfores\\\"\", \"Barrio Cerrado \\\"Los Potrillos\\\"\", \"Barrio Cerrado \\\"Los Senderos\\\"\", \"Barrio Cerrado \\\"Roble Joven\\\"\", \"Barrio Cerrado \\\"Soles de Pilar\\\"\", \"Barrio Cerrado \\\"SpringDale\\\"\", \"Barrio Cerrado \\\"Tres Horquetas\\\"\", \"Barrio Cerrado \\\"Villa Rosa\\\"\", \"Barrio Cerrado El Lucero\", \"Barrio Cerrado Lagos del Norte\", \"Barrio Cerrado Las Casuarinas\", \"Barrio El Golf\", \"Barrio La Alameda\", \"Barrio La Cuesta\", \"Barrio La Isla\", \"Barrio Las Glorietas\", \"Barrio Los Alisos\", \"Barrio Los Castores\", \"Barrio Los Lagos\", \"Barrio Marinas\", \"Barrio Parque Almirante Ir\\u00edzar\", \"Barrio Parque General San Martin\", \"Barrio Privado \\\"Lomas de F\\u00e1tima\\\"\", \"Barrio Privado El Recodo  S.A.\", \"Barrio San Agustin\", \"Barrio San Eduardo - Pilar del Este\", \"Barrio San Gabriel\", \"Barrio San Mat\\u00edas\", \"Barrio San Rafael\", \"Barrio Santa Clara\", \"Barrio Santa Teresa\", \"Barrio Vistas\", \"BarrioPortezuelo\", \"Beccar\", \"Bella Vista\", \"Bel\\u00e9n de Escobar\", \"Benavidez\", \"Benavidez Greens\", \"Bermudas Country Club\", \"Billinghurst\", \"Boat Center Barrio Cerrado\", \"Boca Rat\\u00f3n\", \"Boulogne Sur Mer\", \"Bs.As. G.B.A. Zona Norte\", \"Campo Grande Country Club\", \"Carapachay\", \"Club de Campo Pueyrred\\u00f3n\", \"Country Club Aranjuez\", \"Country Farm Club\", \"Country Maschwitz Privado\", \"Country San Jorge Village\", \"Del Viso\", \"Delta\", \"Derqui\", \"Dique Luj\\u00e1n\", \"Don Torcuato\", \"El Canton Barrio Puerto\", \"El Cazador\", \"El Encuentro\", \"El Molino\", \"El Talar\", \"El Talar de Pacheco\", \"El Viejo Vivero\", \"El Zorzal\", \"Enyoi\", \"Escobar\", \"Estancias del Pilar\", \"Fincas del Lago\", \"Florida\", \"Florida Oeste\", \"F\\u00e1tima\", \"Galapagos Country Club\", \"Gar\\u00edn\", \"General Pacheco\", \"General San Mart\\u00edn\", \"Golf Club Argentino\", \"Golfer's Country Club\", \"Grand Bourg\", \"Hacoaj Barrio Cerrado\", \"Haras Santa Maria\", \"Haras del Pilar - El Establo\", \"Haras del Pilar - La Caballeriza\", \"Haras del Pilar - Las Praderas 1 y 2\", \"Haras del Sol - Barrio Privado\", \"Highland Park Country Club\", \"Hindu Club\", \"Ingeniero Adolfo Sourdeaux\", \"Ingeniero Pablo Nogu\\u00e9s\", \"Islas del Canal\", \"Jose Leon Suarez\", \"Jos\\u00e9 C Paz\", \"La Agustina\", \"La Ang\\u00e9lica\", \"La Arboleda de Maschwitz\", \"La Comarca\", \"La Herradura\", \"La Lomada de Pilar\", \"La Lonja\", \"La Lucila\", \"La Madrugada\", \"La Martinica\", \"La Peregrina\", \"Laguna del Sol\", \"Loma Verde\", \"Los Angeles Village\", \"Los Horneros CC\", \"Los Lagartos Country Club\", \"Los Pilares - Barrio Privado\", \"Los Polvorines\", \"Los Robles de Maschwitz\", \"Los Sauces Country Club\", \"Los Tres Coniles\", \"Malvinas Argentinas\", \"Manuel Alberti\", \"Manzanares\", \"Manzone\", \"Mapuche Country Club\", \"Maquinista Savio\", \"Marinas Golf Barrio Cerrado\", \"Martindale Country Club\", \"Mart\\u00ednez\", \"Maschwitz\", \"Matheu\", \"Mayling Club de Campo\", \"Medal Country Club\", \"Miraflores Country Club\", \"Munro\", \"Mu\\u00f1iz\", \"Nordelta\", \"Olivos\", \"Olivos Golf Club\", \"Pacheco Golf Club\", \"Pilar\", \"Pilar Golf Country Club\", \"Pilar Green Park\", \"Pilar Village\", \"Pilar del Lago\", \"Princess\", \"QBay Yacht\", \"Ricardo Rojas\", \"Rincon\", \"Rincon Del Arca\", \"Rinc\\u00f3n de Maschwitz\", \"Rinc\\u00f3n de Milberg\", \"Rinc\\u00f3n de la Costa\", \"Saint Matthews\", \"San Andres\", \"San Fernando\", \"San Francisco Club de Campo\", \"San Isidro\", \"San Isidro Chico\", \"San Juan\", \"San Lucas Village\", \"San Mart\\u00edn\", \"San Miguel\", \"San Miguel Oeste\", \"San Miguel de Ghiso\", \"Santa Barbara Barrio Cerrado\", \"Santa Isabel\", \"Santa Mar\\u00eda de los Olivos\", \"Santa-Catalina\", \"Septiembre\", \"Solares del Talar\", \"Talar del Lago 1\", \"Talar del lago 2\", \"Tigre\", \"Tortuguitas\", \"Troncos del Talar\", \"Valle Claro\", \"Vicente L\\u00f3pez\", \"Victoria\", \"Villa Adelina\", \"Villa Astolfi\", \"Villa Ballester\", \"Villa Bertha\", \"Villa Bonich\", \"Villa Granaderos De San Martin\", \"Villa Libertad\", \"Villa Lynch\", \"Villa Maipu\", \"Villa Martelli\", \"Villa Monteagudo\", \"Villa Pacheco\", \"Villa Rosa\", \"Villa de Mayo\", \"Village Golf & Tennis Country Club\", \"Virasoro Village\", \"Virreyes\", \"Zelaya\", \"coordenadas 34.255511\"], \"xaxis\": \"x\", \"y\": [2, 1, 21, 171, 22, 12, 2, 2, 5, 7, 5, 3, 10, 8, 5, 3, 4, 4, 2, 12, 2, 1, 1, 3, 1, 16, 8, 2, 1, 3, 6, 2, 2, 2, 1, 3, 1, 7, 1, 28, 28, 56, 2, 7, 6, 268, 12, 33, 7, 1, 7, 3, 7, 16, 1, 79, 8, 37, 7, 42, 2, 47, 280, 180, 112, 522, 3, 2, 12, 4, 11, 110, 166, 1, 79, 3, 3, 2, 3, 19, 124, 28, 15, 6, 58, 4, 11, 16, 1, 22, 20, 1, 1, 16, 687, 55, 4, 351, 37, 2, 4, 22, 57, 254, 1, 11, 18, 6, 69, 7, 3, 15, 1, 13, 1, 8, 23, 6, 40, 79, 1, 3, 1, 30, 1, 16, 6, 216, 15, 8, 14, 10, 38, 3, 1, 8, 6, 45, 3, 1, 1, 77, 16, 17, 6, 13, 2, 6, 6, 707, 87, 5, 47, 4, 5, 108, 146, 2242, 1078, 37, 11, 1619, 1, 5, 6, 7, 1, 10, 5, 1, 4, 2, 168, 2, 1, 71, 425, 2, 704, 2, 6, 2, 143, 478, 2, 2, 88, 6, 23, 17, 19, 21, 12, 11, 2277, 37, 5, 6, 487, 262, 74, 2, 403, 12, 7, 1, 29, 23, 3, 40, 3, 2, 81, 23, 4, 1, 9, 5, 1], \"yaxis\": \"y\"}, {\"alignmentgroup\": \"True\", \"hovertemplate\": \"nulos=No hay datos<br>place_name=%{x}<br>counter=%{y}<extra></extra>\", \"legendgroup\": \"No hay datos\", \"marker\": {\"color\": \"#EF553B\"}, \"name\": \"No hay datos\", \"offsetgroup\": \"No hay datos\", \"orientation\": \"v\", \"showlegend\": true, \"textposition\": \"auto\", \"type\": \"bar\", \"x\": [\" Country Maschwitz Club\", \"Acacias Blancas\", \"Acassuso\", \"Albanueva Barrio Cerrado\", \"Altamira\", \"Altos del Golf\", \"Altos del Pilar\", \"Bah\\u00eda del Sol\", \"Barrancas de San Jose\", \"Barrancas de Santa Mar\\u00eda\", \"Barrio Alamo Alto\", \"Barrio Cabos del Lago\", \"Barrio Ceibos\", \"Barrio Cerrado\", \"Barrio Cerrado \\\"El Aromo\\\"\", \"Barrio Cerrado \\\"El Estribo\\\"\", \"Barrio Cerrado \\\"La Ca\\u00f1ada de Pilar\\\"\", \"Barrio Cerrado \\\"La Chacra\\\"\", \"Barrio Cerrado \\\"La Delfina\\\"\", \"Barrio Cerrado \\\"La Emilia\\\"\", \"Barrio Cerrado \\\"La Escondida\\\"\", \"Barrio Cerrado \\\"La Montura\\\"\", \"Barrio Cerrado \\\"Las Araucarias\\\"\", \"Barrio Cerrado \\\"Los Condes\\\"\", \"Barrio Cerrado \\\"Los Fresnos\\\"\", \"Barrio Cerrado \\\"Los Potrillos\\\"\", \"Barrio Cerrado \\\"Sausalito\\\"\", \"Barrio Cerrado Fincas de Maschwitz\", \"Barrio Cerrado La Masia\", \"Barrio Cerrado Las Casuarinas\", \"Barrio Cerrado Los Abedules\", \"Barrio Cerrado San Andres\", \"Barrio El Golf\", \"Barrio El Yacht\", \"Barrio La Alameda\", \"Barrio La Isla\", \"Barrio Las Glorietas\", \"Barrio Los Alisos\", \"Barrio Los Castores\", \"Barrio Los Jazmines - Pilar del Este\", \"Barrio Los Lagos\", \"Barrio Los Sauces\", \"Barrio Los Tilos\", \"Barrio Parque Almirante Ir\\u00edzar\", \"Barrio Parque General San Martin\", \"Barrio Parque Matheu\", \"Barrio Privado \\\"Ayres de Pilar\\\"\", \"Barrio Privado \\\"Lomas de F\\u00e1tima\\\"\", \"Barrio Privado Villa Olivos\", \"Barrio San Agustin\", \"Barrio San Alfonso - Pilar del Este\", \"Barrio San Benito\", \"Barrio San Eduardo - Pilar del Este\", \"Barrio San Gabriel\", \"Barrio San Isidro Labrador\", \"Barrio San Marco\", \"Barrio San Mat\\u00edas\", \"Barrio San Rafael\", \"Barrio Santa Clara\", \"Barrio Santa Guadalupe - Pilar del Este\", \"Barrio Santa Teresa\", \"Barrio cerrado La Cascada\", \"BarrioPortezuelo\", \"Beccar\", \"Bella Vista\", \"Bel\\u00e9n de Escobar\", \"Benavidez\", \"Bermudas Country Club\", \"Billinghurst\", \"Boat Center Barrio Cerrado\", \"Boca Rat\\u00f3n\", \"Boulogne Sur Mer\", \"Bs.As. G.B.A. Zona Norte\", \"Campo Chico Country Club\", \"Campo Grande Country Club\", \"Carapachay\", \"Carmel Country Club\", \"Club de Campo Aranzazu\", \"Club de Campo Pueyrred\\u00f3n\", \"Country Club Aranjuez\", \"Country Farm Club\", \"Country San Jorge Village\", \"Del Viso\", \"Delta\", \"Dique Luj\\u00e1n\", \"Don Torcuato\", \"El Canton Barrio Islas\", \"El Canton Barrio Norte\", \"El Cazador\", \"El Encuentro\", \"El Molino\", \"El Talar\", \"El Talar de Pacheco\", \"Enyoi\", \"Escobar\", \"Estancias del Pilar\", \"Fincas del Lago\", \"Florida\", \"Florida Oeste\", \"Gar\\u00edn\", \"General Pacheco\", \"General San Mart\\u00edn\", \"Golfer's Country Club\", \"Grand Bourg\", \"Hacoaj Barrio Cerrado\", \"Haras Santa Maria\", \"Haras del Pilar - El Establo\", \"Haras del Pilar - Las Praderas 1 y 2\", \"Haras del Sol - Barrio Privado\", \"Highland Park Country Club\", \"Hindu Club\", \"Ingeniero Adolfo Sourdeaux\", \"Ingeniero Pablo Nogu\\u00e9s\", \"Islas\", \"Jose Leon Suarez\", \"Jos\\u00e9 C Paz\", \"La Ang\\u00e9lica\", \"La Comarca\", \"La Escondida de Manzanares\", \"La Lomada de Pilar\", \"La Lucila\", \"La Madrugada\", \"La Martinica\", \"La Peregrina\", \"La Pilarica\", \"Laguna del Sol\", \"Larena Country Club\", \"Loma Verde\", \"Lomas de Benavidez\", \"Los Angeles Village\", \"Los Horneros CC\", \"Los Lagartos Country Club\", \"Los Pilares - Barrio Privado\", \"Los Polvorines\", \"Los Robles de Maschwitz\", \"Los Sauces Country Club\", \"Los Tres Coniles\", \"Malvinas Argentinas\", \"Manuel Alberti\", \"Manzanares\", \"Mapuche Country Club\", \"Marina Del Sol (Sun's Marine)\", \"Martindale Country Club\", \"Mart\\u00ednez\", \"Maschwitz\", \"Matheu\", \"Mayling Club de Campo\", \"Miraflores Country Club\", \"Munro\", \"Mu\\u00f1iz\", \"Nordelta\", \"Olivos\", \"Olivos Golf Club\", \"Pacheco Golf Club\", \"Pilar\", \"Pilar Golf Country Club\", \"Pilar Village\", \"Pilar del Lago\", \"Punta Chica Village\", \"QBay Yacht\", \"Ricardo Rojas\", \"Rinc\\u00f3n de Maschwitz\", \"Rinc\\u00f3n de Milberg\", \"San Andres\", \"San Fernando\", \"San Francisco Club de Campo\", \"San Isidro\", \"San Isidro Chico\", \"San Juan\", \"San Mart\\u00edn\", \"San Miguel\", \"Santa Barbara Barrio Cerrado\", \"Santa Isabel\", \"Santa Mar\\u00eda de los Olivos\", \"Santa-Catalina\", \"Septiembre\", \"Solares del Talar\", \"Talar del Lago 1\", \"Talar del lago 2\", \"The Boating Club\", \"Tigre\", \"Tortugas Country Club\", \"Tortuguitas\", \"Valle Claro\", \"Vicente L\\u00f3pez\", \"Victoria\", \"Vila Vela Terrazas al Lago\", \"Villa Adelina\", \"Villa Astolfi\", \"Villa Ballester\", \"Villa Bertha\", \"Villa Bonich\", \"Villa Libertad\", \"Villa Lynch\", \"Villa Maipu\", \"Villa Martelli\", \"Villa Pacheco\", \"Villa Rosa\", \"Villa de Mayo\", \"Village Golf & Tennis Country Club\", \"Virreyes\", \"Zelaya\"], \"xaxis\": \"x\", \"y\": [1, 13, 71, 4, 2, 2, 4, 1, 5, 1, 2, 1, 6, 2, 1, 1, 3, 1, 1, 1, 1, 3, 1, 3, 2, 1, 3, 3, 1, 4, 2, 1, 4, 1, 6, 3, 4, 10, 2, 2, 6, 4, 1, 1, 1, 2, 4, 1, 2, 3, 1, 1, 1, 8, 9, 1, 3, 6, 3, 9, 2, 1, 7, 118, 93, 82, 82, 1, 3, 7, 18, 63, 56, 3, 2, 42, 45, 2, 7, 2, 1, 2, 49, 58, 5, 34, 1, 1, 2, 5, 1, 5, 4, 1, 350, 8, 6, 269, 14, 144, 20, 128, 3, 27, 2, 57, 1, 8, 1, 3, 1, 4, 13, 1, 33, 56, 4, 16, 1, 11, 140, 1, 3, 1, 1, 4, 3, 14, 2, 2, 3, 6, 3, 34, 1, 1, 1, 39, 9, 1, 15, 1, 4, 351, 21, 7, 27, 4, 64, 90, 1073, 512, 10, 1, 606, 2, 3, 4, 2, 3, 3, 2, 30, 51, 218, 10, 286, 2, 5, 152, 274, 5, 3, 5, 7, 15, 4, 2, 1, 1, 1047, 4, 34, 4, 194, 84, 18, 68, 2, 185, 3, 2, 5, 18, 8, 30, 1, 15, 13, 3, 32, 2], \"yaxis\": \"y\"}],\n",
       "                        {\"barmode\": \"group\", \"height\": 400, \"legend\": {\"title\": {\"text\": \"nulos\"}, \"tracegroupgap\": 0}, \"template\": {\"data\": {\"bar\": [{\"error_x\": {\"color\": \"#2a3f5f\"}, \"error_y\": {\"color\": \"#2a3f5f\"}, \"marker\": {\"line\": {\"color\": \"#E5ECF6\", \"width\": 0.5}}, \"type\": \"bar\"}], \"barpolar\": [{\"marker\": {\"line\": {\"color\": \"#E5ECF6\", \"width\": 0.5}}, \"type\": \"barpolar\"}], \"carpet\": [{\"aaxis\": {\"endlinecolor\": \"#2a3f5f\", \"gridcolor\": \"white\", \"linecolor\": \"white\", \"minorgridcolor\": \"white\", \"startlinecolor\": \"#2a3f5f\"}, \"baxis\": {\"endlinecolor\": \"#2a3f5f\", \"gridcolor\": \"white\", \"linecolor\": \"white\", \"minorgridcolor\": \"white\", \"startlinecolor\": \"#2a3f5f\"}, \"type\": \"carpet\"}], \"choropleth\": [{\"colorbar\": {\"outlinewidth\": 0, \"ticks\": \"\"}, \"type\": \"choropleth\"}], \"contour\": [{\"colorbar\": {\"outlinewidth\": 0, \"ticks\": \"\"}, \"colorscale\": [[0.0, \"#0d0887\"], [0.1111111111111111, \"#46039f\"], [0.2222222222222222, \"#7201a8\"], [0.3333333333333333, \"#9c179e\"], [0.4444444444444444, \"#bd3786\"], [0.5555555555555556, \"#d8576b\"], [0.6666666666666666, \"#ed7953\"], [0.7777777777777778, \"#fb9f3a\"], [0.8888888888888888, \"#fdca26\"], [1.0, \"#f0f921\"]], \"type\": \"contour\"}], \"contourcarpet\": [{\"colorbar\": {\"outlinewidth\": 0, \"ticks\": \"\"}, \"type\": \"contourcarpet\"}], \"heatmap\": [{\"colorbar\": {\"outlinewidth\": 0, \"ticks\": \"\"}, \"colorscale\": [[0.0, \"#0d0887\"], [0.1111111111111111, \"#46039f\"], [0.2222222222222222, \"#7201a8\"], [0.3333333333333333, \"#9c179e\"], [0.4444444444444444, \"#bd3786\"], [0.5555555555555556, \"#d8576b\"], [0.6666666666666666, \"#ed7953\"], [0.7777777777777778, \"#fb9f3a\"], [0.8888888888888888, \"#fdca26\"], [1.0, \"#f0f921\"]], \"type\": \"heatmap\"}], \"heatmapgl\": [{\"colorbar\": {\"outlinewidth\": 0, \"ticks\": \"\"}, \"colorscale\": [[0.0, \"#0d0887\"], [0.1111111111111111, \"#46039f\"], [0.2222222222222222, \"#7201a8\"], [0.3333333333333333, \"#9c179e\"], [0.4444444444444444, \"#bd3786\"], [0.5555555555555556, \"#d8576b\"], [0.6666666666666666, \"#ed7953\"], [0.7777777777777778, \"#fb9f3a\"], [0.8888888888888888, \"#fdca26\"], [1.0, \"#f0f921\"]], \"type\": \"heatmapgl\"}], \"histogram\": [{\"marker\": {\"colorbar\": {\"outlinewidth\": 0, \"ticks\": \"\"}}, \"type\": \"histogram\"}], \"histogram2d\": [{\"colorbar\": {\"outlinewidth\": 0, \"ticks\": \"\"}, \"colorscale\": [[0.0, \"#0d0887\"], [0.1111111111111111, \"#46039f\"], [0.2222222222222222, \"#7201a8\"], [0.3333333333333333, \"#9c179e\"], [0.4444444444444444, \"#bd3786\"], [0.5555555555555556, \"#d8576b\"], [0.6666666666666666, \"#ed7953\"], [0.7777777777777778, \"#fb9f3a\"], [0.8888888888888888, \"#fdca26\"], [1.0, \"#f0f921\"]], \"type\": \"histogram2d\"}], \"histogram2dcontour\": [{\"colorbar\": {\"outlinewidth\": 0, \"ticks\": \"\"}, \"colorscale\": [[0.0, \"#0d0887\"], [0.1111111111111111, \"#46039f\"], [0.2222222222222222, \"#7201a8\"], [0.3333333333333333, \"#9c179e\"], [0.4444444444444444, \"#bd3786\"], [0.5555555555555556, \"#d8576b\"], [0.6666666666666666, \"#ed7953\"], [0.7777777777777778, \"#fb9f3a\"], [0.8888888888888888, \"#fdca26\"], [1.0, \"#f0f921\"]], \"type\": \"histogram2dcontour\"}], \"mesh3d\": [{\"colorbar\": {\"outlinewidth\": 0, \"ticks\": \"\"}, \"type\": \"mesh3d\"}], \"parcoords\": [{\"line\": {\"colorbar\": {\"outlinewidth\": 0, \"ticks\": \"\"}}, \"type\": \"parcoords\"}], \"pie\": [{\"automargin\": true, \"type\": \"pie\"}], \"scatter\": [{\"marker\": {\"colorbar\": {\"outlinewidth\": 0, \"ticks\": \"\"}}, \"type\": \"scatter\"}], \"scatter3d\": [{\"line\": {\"colorbar\": {\"outlinewidth\": 0, \"ticks\": \"\"}}, \"marker\": {\"colorbar\": {\"outlinewidth\": 0, \"ticks\": \"\"}}, \"type\": \"scatter3d\"}], \"scattercarpet\": [{\"marker\": {\"colorbar\": {\"outlinewidth\": 0, \"ticks\": \"\"}}, \"type\": \"scattercarpet\"}], \"scattergeo\": [{\"marker\": {\"colorbar\": {\"outlinewidth\": 0, \"ticks\": \"\"}}, \"type\": \"scattergeo\"}], \"scattergl\": [{\"marker\": {\"colorbar\": {\"outlinewidth\": 0, \"ticks\": \"\"}}, \"type\": \"scattergl\"}], \"scattermapbox\": [{\"marker\": {\"colorbar\": {\"outlinewidth\": 0, \"ticks\": \"\"}}, \"type\": \"scattermapbox\"}], \"scatterpolar\": [{\"marker\": {\"colorbar\": {\"outlinewidth\": 0, \"ticks\": \"\"}}, \"type\": \"scatterpolar\"}], \"scatterpolargl\": [{\"marker\": {\"colorbar\": {\"outlinewidth\": 0, \"ticks\": \"\"}}, \"type\": \"scatterpolargl\"}], \"scatterternary\": [{\"marker\": {\"colorbar\": {\"outlinewidth\": 0, \"ticks\": \"\"}}, \"type\": \"scatterternary\"}], \"surface\": [{\"colorbar\": {\"outlinewidth\": 0, \"ticks\": \"\"}, \"colorscale\": [[0.0, \"#0d0887\"], [0.1111111111111111, \"#46039f\"], [0.2222222222222222, \"#7201a8\"], [0.3333333333333333, \"#9c179e\"], [0.4444444444444444, \"#bd3786\"], [0.5555555555555556, \"#d8576b\"], [0.6666666666666666, \"#ed7953\"], [0.7777777777777778, \"#fb9f3a\"], [0.8888888888888888, \"#fdca26\"], [1.0, \"#f0f921\"]], \"type\": \"surface\"}], \"table\": [{\"cells\": {\"fill\": {\"color\": \"#EBF0F8\"}, \"line\": {\"color\": \"white\"}}, \"header\": {\"fill\": {\"color\": \"#C8D4E3\"}, \"line\": {\"color\": \"white\"}}, \"type\": \"table\"}]}, \"layout\": {\"annotationdefaults\": {\"arrowcolor\": \"#2a3f5f\", \"arrowhead\": 0, \"arrowwidth\": 1}, \"coloraxis\": {\"colorbar\": {\"outlinewidth\": 0, \"ticks\": \"\"}}, \"colorscale\": {\"diverging\": [[0, \"#8e0152\"], [0.1, \"#c51b7d\"], [0.2, \"#de77ae\"], [0.3, \"#f1b6da\"], [0.4, \"#fde0ef\"], [0.5, \"#f7f7f7\"], [0.6, \"#e6f5d0\"], [0.7, \"#b8e186\"], [0.8, \"#7fbc41\"], [0.9, \"#4d9221\"], [1, \"#276419\"]], \"sequential\": [[0.0, \"#0d0887\"], [0.1111111111111111, \"#46039f\"], [0.2222222222222222, \"#7201a8\"], [0.3333333333333333, \"#9c179e\"], [0.4444444444444444, \"#bd3786\"], [0.5555555555555556, \"#d8576b\"], [0.6666666666666666, \"#ed7953\"], [0.7777777777777778, \"#fb9f3a\"], [0.8888888888888888, \"#fdca26\"], [1.0, \"#f0f921\"]], \"sequentialminus\": [[0.0, \"#0d0887\"], [0.1111111111111111, \"#46039f\"], [0.2222222222222222, \"#7201a8\"], [0.3333333333333333, \"#9c179e\"], [0.4444444444444444, \"#bd3786\"], [0.5555555555555556, \"#d8576b\"], [0.6666666666666666, \"#ed7953\"], [0.7777777777777778, \"#fb9f3a\"], [0.8888888888888888, \"#fdca26\"], [1.0, \"#f0f921\"]]}, \"colorway\": [\"#636efa\", \"#EF553B\", \"#00cc96\", \"#ab63fa\", \"#FFA15A\", \"#19d3f3\", \"#FF6692\", \"#B6E880\", \"#FF97FF\", \"#FECB52\"], \"font\": {\"color\": \"#2a3f5f\"}, \"geo\": {\"bgcolor\": \"white\", \"lakecolor\": \"white\", \"landcolor\": \"#E5ECF6\", \"showlakes\": true, \"showland\": true, \"subunitcolor\": \"white\"}, \"hoverlabel\": {\"align\": \"left\"}, \"hovermode\": \"closest\", \"mapbox\": {\"style\": \"light\"}, \"paper_bgcolor\": \"white\", \"plot_bgcolor\": \"#E5ECF6\", \"polar\": {\"angularaxis\": {\"gridcolor\": \"white\", \"linecolor\": \"white\", \"ticks\": \"\"}, \"bgcolor\": \"#E5ECF6\", \"radialaxis\": {\"gridcolor\": \"white\", \"linecolor\": \"white\", \"ticks\": \"\"}}, \"scene\": {\"xaxis\": {\"backgroundcolor\": \"#E5ECF6\", \"gridcolor\": \"white\", \"gridwidth\": 2, \"linecolor\": \"white\", \"showbackground\": true, \"ticks\": \"\", \"zerolinecolor\": \"white\"}, \"yaxis\": {\"backgroundcolor\": \"#E5ECF6\", \"gridcolor\": \"white\", \"gridwidth\": 2, \"linecolor\": \"white\", \"showbackground\": true, \"ticks\": \"\", \"zerolinecolor\": \"white\"}, \"zaxis\": {\"backgroundcolor\": \"#E5ECF6\", \"gridcolor\": \"white\", \"gridwidth\": 2, \"linecolor\": \"white\", \"showbackground\": true, \"ticks\": \"\", \"zerolinecolor\": \"white\"}}, \"shapedefaults\": {\"line\": {\"color\": \"#2a3f5f\"}}, \"ternary\": {\"aaxis\": {\"gridcolor\": \"white\", \"linecolor\": \"white\", \"ticks\": \"\"}, \"baxis\": {\"gridcolor\": \"white\", \"linecolor\": \"white\", \"ticks\": \"\"}, \"bgcolor\": \"#E5ECF6\", \"caxis\": {\"gridcolor\": \"white\", \"linecolor\": \"white\", \"ticks\": \"\"}}, \"title\": {\"x\": 0.05}, \"xaxis\": {\"automargin\": true, \"gridcolor\": \"white\", \"linecolor\": \"white\", \"ticks\": \"\", \"title\": {\"standoff\": 15}, \"zerolinecolor\": \"white\", \"zerolinewidth\": 2}, \"yaxis\": {\"automargin\": true, \"gridcolor\": \"white\", \"linecolor\": \"white\", \"ticks\": \"\", \"title\": {\"standoff\": 15}, \"zerolinecolor\": \"white\", \"zerolinewidth\": 2}}}, \"title\": {\"text\": \" Cantidad de datos por Provincia - Buenos Aires y CABA -  Bs.As. G.B.A. Zona Norte\"}, \"xaxis\": {\"anchor\": \"y\", \"domain\": [0.0, 1.0], \"title\": {\"text\": \"place_name\"}}, \"yaxis\": {\"anchor\": \"x\", \"domain\": [0.0, 1.0], \"title\": {\"text\": \"counter\"}}},\n",
       "                        {\"responsive\": true}\n",
       "                    ).then(function(){\n",
       "                            \n",
       "var gd = document.getElementById('e68b51b6-7c12-41d7-af88-67958323ea4d');\n",
       "var x = new MutationObserver(function (mutations, observer) {{\n",
       "        var display = window.getComputedStyle(gd).display;\n",
       "        if (!display || display === 'none') {{\n",
       "            console.log([gd, 'removed!']);\n",
       "            Plotly.purge(gd);\n",
       "            observer.disconnect();\n",
       "        }}\n",
       "}});\n",
       "\n",
       "// Listen for the removal of the full notebook cells\n",
       "var notebookContainer = gd.closest('#notebook-container');\n",
       "if (notebookContainer) {{\n",
       "    x.observe(notebookContainer, {childList: true});\n",
       "}}\n",
       "\n",
       "// Listen for the clearing of the current output cell\n",
       "var outputEl = gd.closest('.output');\n",
       "if (outputEl) {{\n",
       "    x.observe(outputEl, {childList: true});\n",
       "}}\n",
       "\n",
       "                        })\n",
       "                };\n",
       "                });\n",
       "            </script>\n",
       "        </div>"
      ]
     },
     "metadata": {},
     "output_type": "display_data"
    }
   ],
   "source": [
    "bsas_norte_barrios_grupo = bsas_norte.groupby(by=['state_name','place_name','nulos'],as_index=False)['counter'].sum()\n",
    "bsas_norte_barrios_grupo['nulos'] = bsas_norte_barrios_grupo['nulos'].astype(str)\n",
    "bsas_norte_barrios_grupo['nulos'] = bsas_norte_barrios_grupo.nulos.str.replace('False','Hay datos')\n",
    "bsas_norte_barrios_grupo['nulos'] = bsas_norte_barrios_grupo.nulos.str.replace('True','No hay datos')\n",
    "fig = px.bar(bsas_norte_barrios_grupo, x=\"place_name\", y=\"counter\",\n",
    "             color='nulos', barmode='group',\n",
    "             height=400, title=\" Cantidad de datos por Provincia - Buenos Aires y CABA -  Bs.As. G.B.A. Zona Norte\")\n",
    "fig.show()"
   ]
  },
  {
   "cell_type": "code",
   "execution_count": 113,
   "metadata": {},
   "outputs": [
    {
     "data": {
      "application/vnd.plotly.v1+json": {
       "config": {
        "plotlyServerURL": "https://plotly.com"
       },
       "data": [
        {
         "alignmentgroup": "True",
         "hovertemplate": "nulos=Hay datos<br>place_name=%{x}<br>counter=%{y}<extra></extra>",
         "legendgroup": "Hay datos",
         "marker": {
          "color": "#636efa"
         },
         "name": "Hay datos",
         "offsetgroup": "Hay datos",
         "orientation": "v",
         "showlegend": true,
         "textposition": "auto",
         "type": "bar",
         "x": [
          "Aguas Verdes",
          "Alem",
          "Barrio Alto Camet",
          "Barrio Camet",
          "Barrio Fortunato de La Plaza",
          "Barrio La Perla Norte",
          "Barrio San Juan",
          "Barrio Sarmiento",
          "Bernardino Rivadavia",
          "Bosque Peralta Ramos",
          "Buenos Aires Costa Atlántica",
          "Caisamar",
          "Camet",
          "Cariló",
          "Centro",
          "Chapadmalal",
          "Chauvín",
          "Claromecó",
          "Colina de Peralta Ramos",
          "Constitución",
          "Costa Azul",
          "Costa Esmeralda",
          "Costa del Este",
          "Don Bosco",
          "Dunamar",
          "Faro Norte",
          "Güemes",
          "Hermitage",
          "Juramento",
          "La Caleta",
          "La Lucila del Mar",
          "La Perla",
          "Las Gaviotas",
          "Las Toninas",
          "Los Acantilados",
          "Los Pinares",
          "Los Troncos",
          "Macrocentro",
          "Mar Azul",
          "Mar Chiquita",
          "Mar de Ajó",
          "Mar de Cobo",
          "Mar de las Pampas",
          "Mar del Plata",
          "Mar del Sur",
          "Mar del Tuyú",
          "Miramar",
          "Monte Hermoso",
          "Mundialista",
          "Necochea",
          "Nueva Atlantis",
          "Ostende",
          "Parque Luro",
          "Pehuen-có",
          "Pinamar",
          "Pinos de Anchorena",
          "Playa Chica",
          "Playa Grande",
          "Playa Serena",
          "Playa Varese",
          "Plaza Colón",
          "Plaza Mitre",
          "Plaza Rocha",
          "Pompeya",
          "Puerto",
          "Punta Alta",
          "Punta Iglesia",
          "Punta Mogotes",
          "Reta",
          "Rumenco",
          "San Bernardo",
          "San Carlos",
          "San Clemente del Tuyú",
          "San Juan",
          "Santa Clara del Mar",
          "Santa Teresita",
          "Stella Maris",
          "Terminal Nueva",
          "Terminal Vieja",
          "Torreón",
          "Valeria del Mar",
          "Villa Gesell",
          "Villa Primera"
         ],
         "xaxis": "x",
         "y": [
          6,
          2,
          4,
          1,
          2,
          3,
          4,
          1,
          1,
          1,
          14,
          9,
          2,
          33,
          181,
          5,
          69,
          9,
          1,
          44,
          9,
          111,
          6,
          1,
          2,
          1,
          75,
          2,
          1,
          1,
          8,
          61,
          1,
          13,
          4,
          1,
          11,
          14,
          27,
          6,
          53,
          1,
          37,
          4063,
          6,
          11,
          86,
          26,
          2,
          22,
          8,
          9,
          8,
          1,
          592,
          3,
          27,
          47,
          1,
          8,
          44,
          102,
          7,
          8,
          1,
          2,
          5,
          5,
          1,
          6,
          100,
          8,
          8,
          4,
          14,
          20,
          18,
          1,
          6,
          17,
          44,
          161,
          10
         ],
         "yaxis": "y"
        },
        {
         "alignmentgroup": "True",
         "hovertemplate": "nulos=No hay datos<br>place_name=%{x}<br>counter=%{y}<extra></extra>",
         "legendgroup": "No hay datos",
         "marker": {
          "color": "#EF553B"
         },
         "name": "No hay datos",
         "offsetgroup": "No hay datos",
         "orientation": "v",
         "showlegend": true,
         "textposition": "auto",
         "type": "bar",
         "x": [
          "Aguas Verdes",
          "Alfar",
          "Barrio Sarmiento",
          "Bosque Peralta Ramos",
          "Buenos Aires Costa Atlántica",
          "Caisamar",
          "Camet",
          "Cariló",
          "Centro",
          "Chauvín",
          "Claromecó",
          "Constitución",
          "Costa Azul",
          "Costa Esmeralda",
          "Costa del Este",
          "Don Bosco",
          "Dunamar",
          "Gral San Martin",
          "Güemes",
          "La Lucila del Mar",
          "La Perla",
          "Las Gaviotas",
          "Las Toninas",
          "Los Acantilados",
          "Los Pinares",
          "Los Troncos",
          "Macrocentro",
          "Mar Azul",
          "Mar Chiquita",
          "Mar de Ajó",
          "Mar de las Pampas",
          "Mar del Plata",
          "Mar del Sur",
          "Mar del Tuyú",
          "Materno",
          "Miramar",
          "Monte Hermoso",
          "Mundialista",
          "Necochea",
          "Nueva Atlantis",
          "Ostende",
          "Parque Luro",
          "Pinamar",
          "Pinos de Anchorena",
          "Playa Chica",
          "Playa Grande",
          "Playa Varese",
          "Plaza Colón",
          "Plaza Mitre",
          "Pompeya",
          "Primera Junta",
          "Puerto",
          "Punta Alta",
          "Punta Iglesia",
          "Punta Mogotes",
          "Rumenco",
          "San Bernardo",
          "San Carlos",
          "San Clemente del Tuyú",
          "San Juan",
          "Santa Clara del Mar",
          "Santa Teresita",
          "Stella Maris",
          "Terminal Vieja",
          "Torreón",
          "Valeria del Mar",
          "Villa Gesell",
          "Villa Primera"
         ],
         "xaxis": "x",
         "y": [
          9,
          1,
          1,
          1,
          13,
          3,
          1,
          25,
          50,
          25,
          9,
          31,
          6,
          15,
          11,
          3,
          1,
          1,
          16,
          8,
          29,
          2,
          8,
          1,
          2,
          12,
          16,
          5,
          1,
          27,
          14,
          2471,
          1,
          14,
          1,
          32,
          45,
          1,
          6,
          1,
          3,
          5,
          340,
          2,
          12,
          24,
          4,
          8,
          32,
          1,
          4,
          1,
          3,
          1,
          2,
          13,
          24,
          4,
          41,
          3,
          4,
          26,
          23,
          1,
          6,
          9,
          139,
          2
         ],
         "yaxis": "y"
        }
       ],
       "layout": {
        "autosize": true,
        "barmode": "group",
        "legend": {
         "title": {
          "text": "nulos"
         },
         "tracegroupgap": 0
        },
        "template": {
         "data": {
          "bar": [
           {
            "error_x": {
             "color": "#2a3f5f"
            },
            "error_y": {
             "color": "#2a3f5f"
            },
            "marker": {
             "line": {
              "color": "#E5ECF6",
              "width": 0.5
             }
            },
            "type": "bar"
           }
          ],
          "barpolar": [
           {
            "marker": {
             "line": {
              "color": "#E5ECF6",
              "width": 0.5
             }
            },
            "type": "barpolar"
           }
          ],
          "carpet": [
           {
            "aaxis": {
             "endlinecolor": "#2a3f5f",
             "gridcolor": "white",
             "linecolor": "white",
             "minorgridcolor": "white",
             "startlinecolor": "#2a3f5f"
            },
            "baxis": {
             "endlinecolor": "#2a3f5f",
             "gridcolor": "white",
             "linecolor": "white",
             "minorgridcolor": "white",
             "startlinecolor": "#2a3f5f"
            },
            "type": "carpet"
           }
          ],
          "choropleth": [
           {
            "colorbar": {
             "outlinewidth": 0,
             "ticks": ""
            },
            "type": "choropleth"
           }
          ],
          "contour": [
           {
            "colorbar": {
             "outlinewidth": 0,
             "ticks": ""
            },
            "colorscale": [
             [
              0,
              "#0d0887"
             ],
             [
              0.1111111111111111,
              "#46039f"
             ],
             [
              0.2222222222222222,
              "#7201a8"
             ],
             [
              0.3333333333333333,
              "#9c179e"
             ],
             [
              0.4444444444444444,
              "#bd3786"
             ],
             [
              0.5555555555555556,
              "#d8576b"
             ],
             [
              0.6666666666666666,
              "#ed7953"
             ],
             [
              0.7777777777777778,
              "#fb9f3a"
             ],
             [
              0.8888888888888888,
              "#fdca26"
             ],
             [
              1,
              "#f0f921"
             ]
            ],
            "type": "contour"
           }
          ],
          "contourcarpet": [
           {
            "colorbar": {
             "outlinewidth": 0,
             "ticks": ""
            },
            "type": "contourcarpet"
           }
          ],
          "heatmap": [
           {
            "colorbar": {
             "outlinewidth": 0,
             "ticks": ""
            },
            "colorscale": [
             [
              0,
              "#0d0887"
             ],
             [
              0.1111111111111111,
              "#46039f"
             ],
             [
              0.2222222222222222,
              "#7201a8"
             ],
             [
              0.3333333333333333,
              "#9c179e"
             ],
             [
              0.4444444444444444,
              "#bd3786"
             ],
             [
              0.5555555555555556,
              "#d8576b"
             ],
             [
              0.6666666666666666,
              "#ed7953"
             ],
             [
              0.7777777777777778,
              "#fb9f3a"
             ],
             [
              0.8888888888888888,
              "#fdca26"
             ],
             [
              1,
              "#f0f921"
             ]
            ],
            "type": "heatmap"
           }
          ],
          "heatmapgl": [
           {
            "colorbar": {
             "outlinewidth": 0,
             "ticks": ""
            },
            "colorscale": [
             [
              0,
              "#0d0887"
             ],
             [
              0.1111111111111111,
              "#46039f"
             ],
             [
              0.2222222222222222,
              "#7201a8"
             ],
             [
              0.3333333333333333,
              "#9c179e"
             ],
             [
              0.4444444444444444,
              "#bd3786"
             ],
             [
              0.5555555555555556,
              "#d8576b"
             ],
             [
              0.6666666666666666,
              "#ed7953"
             ],
             [
              0.7777777777777778,
              "#fb9f3a"
             ],
             [
              0.8888888888888888,
              "#fdca26"
             ],
             [
              1,
              "#f0f921"
             ]
            ],
            "type": "heatmapgl"
           }
          ],
          "histogram": [
           {
            "marker": {
             "colorbar": {
              "outlinewidth": 0,
              "ticks": ""
             }
            },
            "type": "histogram"
           }
          ],
          "histogram2d": [
           {
            "colorbar": {
             "outlinewidth": 0,
             "ticks": ""
            },
            "colorscale": [
             [
              0,
              "#0d0887"
             ],
             [
              0.1111111111111111,
              "#46039f"
             ],
             [
              0.2222222222222222,
              "#7201a8"
             ],
             [
              0.3333333333333333,
              "#9c179e"
             ],
             [
              0.4444444444444444,
              "#bd3786"
             ],
             [
              0.5555555555555556,
              "#d8576b"
             ],
             [
              0.6666666666666666,
              "#ed7953"
             ],
             [
              0.7777777777777778,
              "#fb9f3a"
             ],
             [
              0.8888888888888888,
              "#fdca26"
             ],
             [
              1,
              "#f0f921"
             ]
            ],
            "type": "histogram2d"
           }
          ],
          "histogram2dcontour": [
           {
            "colorbar": {
             "outlinewidth": 0,
             "ticks": ""
            },
            "colorscale": [
             [
              0,
              "#0d0887"
             ],
             [
              0.1111111111111111,
              "#46039f"
             ],
             [
              0.2222222222222222,
              "#7201a8"
             ],
             [
              0.3333333333333333,
              "#9c179e"
             ],
             [
              0.4444444444444444,
              "#bd3786"
             ],
             [
              0.5555555555555556,
              "#d8576b"
             ],
             [
              0.6666666666666666,
              "#ed7953"
             ],
             [
              0.7777777777777778,
              "#fb9f3a"
             ],
             [
              0.8888888888888888,
              "#fdca26"
             ],
             [
              1,
              "#f0f921"
             ]
            ],
            "type": "histogram2dcontour"
           }
          ],
          "mesh3d": [
           {
            "colorbar": {
             "outlinewidth": 0,
             "ticks": ""
            },
            "type": "mesh3d"
           }
          ],
          "parcoords": [
           {
            "line": {
             "colorbar": {
              "outlinewidth": 0,
              "ticks": ""
             }
            },
            "type": "parcoords"
           }
          ],
          "pie": [
           {
            "automargin": true,
            "type": "pie"
           }
          ],
          "scatter": [
           {
            "marker": {
             "colorbar": {
              "outlinewidth": 0,
              "ticks": ""
             }
            },
            "type": "scatter"
           }
          ],
          "scatter3d": [
           {
            "line": {
             "colorbar": {
              "outlinewidth": 0,
              "ticks": ""
             }
            },
            "marker": {
             "colorbar": {
              "outlinewidth": 0,
              "ticks": ""
             }
            },
            "type": "scatter3d"
           }
          ],
          "scattercarpet": [
           {
            "marker": {
             "colorbar": {
              "outlinewidth": 0,
              "ticks": ""
             }
            },
            "type": "scattercarpet"
           }
          ],
          "scattergeo": [
           {
            "marker": {
             "colorbar": {
              "outlinewidth": 0,
              "ticks": ""
             }
            },
            "type": "scattergeo"
           }
          ],
          "scattergl": [
           {
            "marker": {
             "colorbar": {
              "outlinewidth": 0,
              "ticks": ""
             }
            },
            "type": "scattergl"
           }
          ],
          "scattermapbox": [
           {
            "marker": {
             "colorbar": {
              "outlinewidth": 0,
              "ticks": ""
             }
            },
            "type": "scattermapbox"
           }
          ],
          "scatterpolar": [
           {
            "marker": {
             "colorbar": {
              "outlinewidth": 0,
              "ticks": ""
             }
            },
            "type": "scatterpolar"
           }
          ],
          "scatterpolargl": [
           {
            "marker": {
             "colorbar": {
              "outlinewidth": 0,
              "ticks": ""
             }
            },
            "type": "scatterpolargl"
           }
          ],
          "scatterternary": [
           {
            "marker": {
             "colorbar": {
              "outlinewidth": 0,
              "ticks": ""
             }
            },
            "type": "scatterternary"
           }
          ],
          "surface": [
           {
            "colorbar": {
             "outlinewidth": 0,
             "ticks": ""
            },
            "colorscale": [
             [
              0,
              "#0d0887"
             ],
             [
              0.1111111111111111,
              "#46039f"
             ],
             [
              0.2222222222222222,
              "#7201a8"
             ],
             [
              0.3333333333333333,
              "#9c179e"
             ],
             [
              0.4444444444444444,
              "#bd3786"
             ],
             [
              0.5555555555555556,
              "#d8576b"
             ],
             [
              0.6666666666666666,
              "#ed7953"
             ],
             [
              0.7777777777777778,
              "#fb9f3a"
             ],
             [
              0.8888888888888888,
              "#fdca26"
             ],
             [
              1,
              "#f0f921"
             ]
            ],
            "type": "surface"
           }
          ],
          "table": [
           {
            "cells": {
             "fill": {
              "color": "#EBF0F8"
             },
             "line": {
              "color": "white"
             }
            },
            "header": {
             "fill": {
              "color": "#C8D4E3"
             },
             "line": {
              "color": "white"
             }
            },
            "type": "table"
           }
          ]
         },
         "layout": {
          "annotationdefaults": {
           "arrowcolor": "#2a3f5f",
           "arrowhead": 0,
           "arrowwidth": 1
          },
          "coloraxis": {
           "colorbar": {
            "outlinewidth": 0,
            "ticks": ""
           }
          },
          "colorscale": {
           "diverging": [
            [
             0,
             "#8e0152"
            ],
            [
             0.1,
             "#c51b7d"
            ],
            [
             0.2,
             "#de77ae"
            ],
            [
             0.3,
             "#f1b6da"
            ],
            [
             0.4,
             "#fde0ef"
            ],
            [
             0.5,
             "#f7f7f7"
            ],
            [
             0.6,
             "#e6f5d0"
            ],
            [
             0.7,
             "#b8e186"
            ],
            [
             0.8,
             "#7fbc41"
            ],
            [
             0.9,
             "#4d9221"
            ],
            [
             1,
             "#276419"
            ]
           ],
           "sequential": [
            [
             0,
             "#0d0887"
            ],
            [
             0.1111111111111111,
             "#46039f"
            ],
            [
             0.2222222222222222,
             "#7201a8"
            ],
            [
             0.3333333333333333,
             "#9c179e"
            ],
            [
             0.4444444444444444,
             "#bd3786"
            ],
            [
             0.5555555555555556,
             "#d8576b"
            ],
            [
             0.6666666666666666,
             "#ed7953"
            ],
            [
             0.7777777777777778,
             "#fb9f3a"
            ],
            [
             0.8888888888888888,
             "#fdca26"
            ],
            [
             1,
             "#f0f921"
            ]
           ],
           "sequentialminus": [
            [
             0,
             "#0d0887"
            ],
            [
             0.1111111111111111,
             "#46039f"
            ],
            [
             0.2222222222222222,
             "#7201a8"
            ],
            [
             0.3333333333333333,
             "#9c179e"
            ],
            [
             0.4444444444444444,
             "#bd3786"
            ],
            [
             0.5555555555555556,
             "#d8576b"
            ],
            [
             0.6666666666666666,
             "#ed7953"
            ],
            [
             0.7777777777777778,
             "#fb9f3a"
            ],
            [
             0.8888888888888888,
             "#fdca26"
            ],
            [
             1,
             "#f0f921"
            ]
           ]
          },
          "colorway": [
           "#636efa",
           "#EF553B",
           "#00cc96",
           "#ab63fa",
           "#FFA15A",
           "#19d3f3",
           "#FF6692",
           "#B6E880",
           "#FF97FF",
           "#FECB52"
          ],
          "font": {
           "color": "#2a3f5f"
          },
          "geo": {
           "bgcolor": "white",
           "lakecolor": "white",
           "landcolor": "#E5ECF6",
           "showlakes": true,
           "showland": true,
           "subunitcolor": "white"
          },
          "hoverlabel": {
           "align": "left"
          },
          "hovermode": "closest",
          "mapbox": {
           "style": "light"
          },
          "paper_bgcolor": "white",
          "plot_bgcolor": "#E5ECF6",
          "polar": {
           "angularaxis": {
            "gridcolor": "white",
            "linecolor": "white",
            "ticks": ""
           },
           "bgcolor": "#E5ECF6",
           "radialaxis": {
            "gridcolor": "white",
            "linecolor": "white",
            "ticks": ""
           }
          },
          "scene": {
           "xaxis": {
            "backgroundcolor": "#E5ECF6",
            "gridcolor": "white",
            "gridwidth": 2,
            "linecolor": "white",
            "showbackground": true,
            "ticks": "",
            "zerolinecolor": "white"
           },
           "yaxis": {
            "backgroundcolor": "#E5ECF6",
            "gridcolor": "white",
            "gridwidth": 2,
            "linecolor": "white",
            "showbackground": true,
            "ticks": "",
            "zerolinecolor": "white"
           },
           "zaxis": {
            "backgroundcolor": "#E5ECF6",
            "gridcolor": "white",
            "gridwidth": 2,
            "linecolor": "white",
            "showbackground": true,
            "ticks": "",
            "zerolinecolor": "white"
           }
          },
          "shapedefaults": {
           "line": {
            "color": "#2a3f5f"
           }
          },
          "ternary": {
           "aaxis": {
            "gridcolor": "white",
            "linecolor": "white",
            "ticks": ""
           },
           "baxis": {
            "gridcolor": "white",
            "linecolor": "white",
            "ticks": ""
           },
           "bgcolor": "#E5ECF6",
           "caxis": {
            "gridcolor": "white",
            "linecolor": "white",
            "ticks": ""
           }
          },
          "title": {
           "x": 0.05
          },
          "xaxis": {
           "automargin": true,
           "gridcolor": "white",
           "linecolor": "white",
           "ticks": "",
           "title": {
            "standoff": 15
           },
           "zerolinecolor": "white",
           "zerolinewidth": 2
          },
          "yaxis": {
           "automargin": true,
           "gridcolor": "white",
           "linecolor": "white",
           "ticks": "",
           "title": {
            "standoff": 15
           },
           "zerolinecolor": "white",
           "zerolinewidth": 2
          }
         }
        },
        "title": {
         "text": "Cantidad de datos por Provincia - Buenos Aires y CABA - Buenos Aires Costa Atlántica"
        },
        "xaxis": {
         "anchor": "y",
         "autorange": true,
         "domain": [
          0,
          1
         ],
         "range": [
          -0.5,
          86.5
         ],
         "title": {
          "text": "place_name"
         },
         "type": "category"
        },
        "yaxis": {
         "anchor": "x",
         "autorange": true,
         "domain": [
          0,
          1
         ],
         "range": [
          0,
          4276.842105263158
         ],
         "title": {
          "text": "counter"
         },
         "type": "linear"
        }
       }
      },
      "image/png": "[encoded data removed]",
      "text/html": [
       "<div>\n",
       "        \n",
       "        \n",
       "            <div id=\"9dbd5e34-17df-451a-b6b8-21529d5de050\" class=\"plotly-graph-div\" style=\"height:400px; width:100%;\"></div>\n",
       "            <script type=\"text/javascript\">\n",
       "                require([\"plotly\"], function(Plotly) {\n",
       "                    window.PLOTLYENV=window.PLOTLYENV || {};\n",
       "                    \n",
       "                if (document.getElementById(\"9dbd5e34-17df-451a-b6b8-21529d5de050\")) {\n",
       "                    Plotly.newPlot(\n",
       "                        '9dbd5e34-17df-451a-b6b8-21529d5de050',\n",
       "                        [{\"alignmentgroup\": \"True\", \"hovertemplate\": \"nulos=Hay datos<br>place_name=%{x}<br>counter=%{y}<extra></extra>\", \"legendgroup\": \"Hay datos\", \"marker\": {\"color\": \"#636efa\"}, \"name\": \"Hay datos\", \"offsetgroup\": \"Hay datos\", \"orientation\": \"v\", \"showlegend\": true, \"textposition\": \"auto\", \"type\": \"bar\", \"x\": [\"Aguas Verdes\", \"Alem\", \"Barrio Alto Camet\", \"Barrio Camet\", \"Barrio Fortunato de La Plaza\", \"Barrio La Perla Norte\", \"Barrio San Juan\", \"Barrio Sarmiento\", \"Bernardino Rivadavia\", \"Bosque Peralta Ramos\", \"Buenos Aires Costa Atl\\u00e1ntica\", \"Caisamar\", \"Camet\", \"Caril\\u00f3\", \"Centro\", \"Chapadmalal\", \"Chauv\\u00edn\", \"Claromec\\u00f3\", \"Colina de Peralta Ramos\", \"Constituci\\u00f3n\", \"Costa Azul\", \"Costa Esmeralda\", \"Costa del Este\", \"Don Bosco\", \"Dunamar\", \"Faro Norte\", \"G\\u00fcemes\", \"Hermitage\", \"Juramento\", \"La Caleta\", \"La Lucila del Mar\", \"La Perla\", \"Las Gaviotas\", \"Las Toninas\", \"Los Acantilados\", \"Los Pinares\", \"Los Troncos\", \"Macrocentro\", \"Mar Azul\", \"Mar Chiquita\", \"Mar de Aj\\u00f3\", \"Mar de Cobo\", \"Mar de las Pampas\", \"Mar del Plata\", \"Mar del Sur\", \"Mar del Tuy\\u00fa\", \"Miramar\", \"Monte Hermoso\", \"Mundialista\", \"Necochea\", \"Nueva Atlantis\", \"Ostende\", \"Parque Luro\", \"Pehuen-c\\u00f3\", \"Pinamar\", \"Pinos de Anchorena\", \"Playa Chica\", \"Playa Grande\", \"Playa Serena\", \"Playa Varese\", \"Plaza Col\\u00f3n\", \"Plaza Mitre\", \"Plaza Rocha\", \"Pompeya\", \"Puerto\", \"Punta Alta\", \"Punta Iglesia\", \"Punta Mogotes\", \"Reta\", \"Rumenco\", \"San Bernardo\", \"San Carlos\", \"San Clemente del Tuy\\u00fa\", \"San Juan\", \"Santa Clara del Mar\", \"Santa Teresita\", \"Stella Maris\", \"Terminal Nueva\", \"Terminal Vieja\", \"Torre\\u00f3n\", \"Valeria del Mar\", \"Villa Gesell\", \"Villa Primera\"], \"xaxis\": \"x\", \"y\": [6, 2, 4, 1, 2, 3, 4, 1, 1, 1, 14, 9, 2, 33, 181, 5, 69, 9, 1, 44, 9, 111, 6, 1, 2, 1, 75, 2, 1, 1, 8, 61, 1, 13, 4, 1, 11, 14, 27, 6, 53, 1, 37, 4063, 6, 11, 86, 26, 2, 22, 8, 9, 8, 1, 592, 3, 27, 47, 1, 8, 44, 102, 7, 8, 1, 2, 5, 5, 1, 6, 100, 8, 8, 4, 14, 20, 18, 1, 6, 17, 44, 161, 10], \"yaxis\": \"y\"}, {\"alignmentgroup\": \"True\", \"hovertemplate\": \"nulos=No hay datos<br>place_name=%{x}<br>counter=%{y}<extra></extra>\", \"legendgroup\": \"No hay datos\", \"marker\": {\"color\": \"#EF553B\"}, \"name\": \"No hay datos\", \"offsetgroup\": \"No hay datos\", \"orientation\": \"v\", \"showlegend\": true, \"textposition\": \"auto\", \"type\": \"bar\", \"x\": [\"Aguas Verdes\", \"Alfar\", \"Barrio Sarmiento\", \"Bosque Peralta Ramos\", \"Buenos Aires Costa Atl\\u00e1ntica\", \"Caisamar\", \"Camet\", \"Caril\\u00f3\", \"Centro\", \"Chauv\\u00edn\", \"Claromec\\u00f3\", \"Constituci\\u00f3n\", \"Costa Azul\", \"Costa Esmeralda\", \"Costa del Este\", \"Don Bosco\", \"Dunamar\", \"Gral San Martin\", \"G\\u00fcemes\", \"La Lucila del Mar\", \"La Perla\", \"Las Gaviotas\", \"Las Toninas\", \"Los Acantilados\", \"Los Pinares\", \"Los Troncos\", \"Macrocentro\", \"Mar Azul\", \"Mar Chiquita\", \"Mar de Aj\\u00f3\", \"Mar de las Pampas\", \"Mar del Plata\", \"Mar del Sur\", \"Mar del Tuy\\u00fa\", \"Materno\", \"Miramar\", \"Monte Hermoso\", \"Mundialista\", \"Necochea\", \"Nueva Atlantis\", \"Ostende\", \"Parque Luro\", \"Pinamar\", \"Pinos de Anchorena\", \"Playa Chica\", \"Playa Grande\", \"Playa Varese\", \"Plaza Col\\u00f3n\", \"Plaza Mitre\", \"Pompeya\", \"Primera Junta\", \"Puerto\", \"Punta Alta\", \"Punta Iglesia\", \"Punta Mogotes\", \"Rumenco\", \"San Bernardo\", \"San Carlos\", \"San Clemente del Tuy\\u00fa\", \"San Juan\", \"Santa Clara del Mar\", \"Santa Teresita\", \"Stella Maris\", \"Terminal Vieja\", \"Torre\\u00f3n\", \"Valeria del Mar\", \"Villa Gesell\", \"Villa Primera\"], \"xaxis\": \"x\", \"y\": [9, 1, 1, 1, 13, 3, 1, 25, 50, 25, 9, 31, 6, 15, 11, 3, 1, 1, 16, 8, 29, 2, 8, 1, 2, 12, 16, 5, 1, 27, 14, 2471, 1, 14, 1, 32, 45, 1, 6, 1, 3, 5, 340, 2, 12, 24, 4, 8, 32, 1, 4, 1, 3, 1, 2, 13, 24, 4, 41, 3, 4, 26, 23, 1, 6, 9, 139, 2], \"yaxis\": \"y\"}],\n",
       "                        {\"barmode\": \"group\", \"height\": 400, \"legend\": {\"title\": {\"text\": \"nulos\"}, \"tracegroupgap\": 0}, \"template\": {\"data\": {\"bar\": [{\"error_x\": {\"color\": \"#2a3f5f\"}, \"error_y\": {\"color\": \"#2a3f5f\"}, \"marker\": {\"line\": {\"color\": \"#E5ECF6\", \"width\": 0.5}}, \"type\": \"bar\"}], \"barpolar\": [{\"marker\": {\"line\": {\"color\": \"#E5ECF6\", \"width\": 0.5}}, \"type\": \"barpolar\"}], \"carpet\": [{\"aaxis\": {\"endlinecolor\": \"#2a3f5f\", \"gridcolor\": \"white\", \"linecolor\": \"white\", \"minorgridcolor\": \"white\", \"startlinecolor\": \"#2a3f5f\"}, \"baxis\": {\"endlinecolor\": \"#2a3f5f\", \"gridcolor\": \"white\", \"linecolor\": \"white\", \"minorgridcolor\": \"white\", \"startlinecolor\": \"#2a3f5f\"}, \"type\": \"carpet\"}], \"choropleth\": [{\"colorbar\": {\"outlinewidth\": 0, \"ticks\": \"\"}, \"type\": \"choropleth\"}], \"contour\": [{\"colorbar\": {\"outlinewidth\": 0, \"ticks\": \"\"}, \"colorscale\": [[0.0, \"#0d0887\"], [0.1111111111111111, \"#46039f\"], [0.2222222222222222, \"#7201a8\"], [0.3333333333333333, \"#9c179e\"], [0.4444444444444444, \"#bd3786\"], [0.5555555555555556, \"#d8576b\"], [0.6666666666666666, \"#ed7953\"], [0.7777777777777778, \"#fb9f3a\"], [0.8888888888888888, \"#fdca26\"], [1.0, \"#f0f921\"]], \"type\": \"contour\"}], \"contourcarpet\": [{\"colorbar\": {\"outlinewidth\": 0, \"ticks\": \"\"}, \"type\": \"contourcarpet\"}], \"heatmap\": [{\"colorbar\": {\"outlinewidth\": 0, \"ticks\": \"\"}, \"colorscale\": [[0.0, \"#0d0887\"], [0.1111111111111111, \"#46039f\"], [0.2222222222222222, \"#7201a8\"], [0.3333333333333333, \"#9c179e\"], [0.4444444444444444, \"#bd3786\"], [0.5555555555555556, \"#d8576b\"], [0.6666666666666666, \"#ed7953\"], [0.7777777777777778, \"#fb9f3a\"], [0.8888888888888888, \"#fdca26\"], [1.0, \"#f0f921\"]], \"type\": \"heatmap\"}], \"heatmapgl\": [{\"colorbar\": {\"outlinewidth\": 0, \"ticks\": \"\"}, \"colorscale\": [[0.0, \"#0d0887\"], [0.1111111111111111, \"#46039f\"], [0.2222222222222222, \"#7201a8\"], [0.3333333333333333, \"#9c179e\"], [0.4444444444444444, \"#bd3786\"], [0.5555555555555556, \"#d8576b\"], [0.6666666666666666, \"#ed7953\"], [0.7777777777777778, \"#fb9f3a\"], [0.8888888888888888, \"#fdca26\"], [1.0, \"#f0f921\"]], \"type\": \"heatmapgl\"}], \"histogram\": [{\"marker\": {\"colorbar\": {\"outlinewidth\": 0, \"ticks\": \"\"}}, \"type\": \"histogram\"}], \"histogram2d\": [{\"colorbar\": {\"outlinewidth\": 0, \"ticks\": \"\"}, \"colorscale\": [[0.0, \"#0d0887\"], [0.1111111111111111, \"#46039f\"], [0.2222222222222222, \"#7201a8\"], [0.3333333333333333, \"#9c179e\"], [0.4444444444444444, \"#bd3786\"], [0.5555555555555556, \"#d8576b\"], [0.6666666666666666, \"#ed7953\"], [0.7777777777777778, \"#fb9f3a\"], [0.8888888888888888, \"#fdca26\"], [1.0, \"#f0f921\"]], \"type\": \"histogram2d\"}], \"histogram2dcontour\": [{\"colorbar\": {\"outlinewidth\": 0, \"ticks\": \"\"}, \"colorscale\": [[0.0, \"#0d0887\"], [0.1111111111111111, \"#46039f\"], [0.2222222222222222, \"#7201a8\"], [0.3333333333333333, \"#9c179e\"], [0.4444444444444444, \"#bd3786\"], [0.5555555555555556, \"#d8576b\"], [0.6666666666666666, \"#ed7953\"], [0.7777777777777778, \"#fb9f3a\"], [0.8888888888888888, \"#fdca26\"], [1.0, \"#f0f921\"]], \"type\": \"histogram2dcontour\"}], \"mesh3d\": [{\"colorbar\": {\"outlinewidth\": 0, \"ticks\": \"\"}, \"type\": \"mesh3d\"}], \"parcoords\": [{\"line\": {\"colorbar\": {\"outlinewidth\": 0, \"ticks\": \"\"}}, \"type\": \"parcoords\"}], \"pie\": [{\"automargin\": true, \"type\": \"pie\"}], \"scatter\": [{\"marker\": {\"colorbar\": {\"outlinewidth\": 0, \"ticks\": \"\"}}, \"type\": \"scatter\"}], \"scatter3d\": [{\"line\": {\"colorbar\": {\"outlinewidth\": 0, \"ticks\": \"\"}}, \"marker\": {\"colorbar\": {\"outlinewidth\": 0, \"ticks\": \"\"}}, \"type\": \"scatter3d\"}], \"scattercarpet\": [{\"marker\": {\"colorbar\": {\"outlinewidth\": 0, \"ticks\": \"\"}}, \"type\": \"scattercarpet\"}], \"scattergeo\": [{\"marker\": {\"colorbar\": {\"outlinewidth\": 0, \"ticks\": \"\"}}, \"type\": \"scattergeo\"}], \"scattergl\": [{\"marker\": {\"colorbar\": {\"outlinewidth\": 0, \"ticks\": \"\"}}, \"type\": \"scattergl\"}], \"scattermapbox\": [{\"marker\": {\"colorbar\": {\"outlinewidth\": 0, \"ticks\": \"\"}}, \"type\": \"scattermapbox\"}], \"scatterpolar\": [{\"marker\": {\"colorbar\": {\"outlinewidth\": 0, \"ticks\": \"\"}}, \"type\": \"scatterpolar\"}], \"scatterpolargl\": [{\"marker\": {\"colorbar\": {\"outlinewidth\": 0, \"ticks\": \"\"}}, \"type\": \"scatterpolargl\"}], \"scatterternary\": [{\"marker\": {\"colorbar\": {\"outlinewidth\": 0, \"ticks\": \"\"}}, \"type\": \"scatterternary\"}], \"surface\": [{\"colorbar\": {\"outlinewidth\": 0, \"ticks\": \"\"}, \"colorscale\": [[0.0, \"#0d0887\"], [0.1111111111111111, \"#46039f\"], [0.2222222222222222, \"#7201a8\"], [0.3333333333333333, \"#9c179e\"], [0.4444444444444444, \"#bd3786\"], [0.5555555555555556, \"#d8576b\"], [0.6666666666666666, \"#ed7953\"], [0.7777777777777778, \"#fb9f3a\"], [0.8888888888888888, \"#fdca26\"], [1.0, \"#f0f921\"]], \"type\": \"surface\"}], \"table\": [{\"cells\": {\"fill\": {\"color\": \"#EBF0F8\"}, \"line\": {\"color\": \"white\"}}, \"header\": {\"fill\": {\"color\": \"#C8D4E3\"}, \"line\": {\"color\": \"white\"}}, \"type\": \"table\"}]}, \"layout\": {\"annotationdefaults\": {\"arrowcolor\": \"#2a3f5f\", \"arrowhead\": 0, \"arrowwidth\": 1}, \"coloraxis\": {\"colorbar\": {\"outlinewidth\": 0, \"ticks\": \"\"}}, \"colorscale\": {\"diverging\": [[0, \"#8e0152\"], [0.1, \"#c51b7d\"], [0.2, \"#de77ae\"], [0.3, \"#f1b6da\"], [0.4, \"#fde0ef\"], [0.5, \"#f7f7f7\"], [0.6, \"#e6f5d0\"], [0.7, \"#b8e186\"], [0.8, \"#7fbc41\"], [0.9, \"#4d9221\"], [1, \"#276419\"]], \"sequential\": [[0.0, \"#0d0887\"], [0.1111111111111111, \"#46039f\"], [0.2222222222222222, \"#7201a8\"], [0.3333333333333333, \"#9c179e\"], [0.4444444444444444, \"#bd3786\"], [0.5555555555555556, \"#d8576b\"], [0.6666666666666666, \"#ed7953\"], [0.7777777777777778, \"#fb9f3a\"], [0.8888888888888888, \"#fdca26\"], [1.0, \"#f0f921\"]], \"sequentialminus\": [[0.0, \"#0d0887\"], [0.1111111111111111, \"#46039f\"], [0.2222222222222222, \"#7201a8\"], [0.3333333333333333, \"#9c179e\"], [0.4444444444444444, \"#bd3786\"], [0.5555555555555556, \"#d8576b\"], [0.6666666666666666, \"#ed7953\"], [0.7777777777777778, \"#fb9f3a\"], [0.8888888888888888, \"#fdca26\"], [1.0, \"#f0f921\"]]}, \"colorway\": [\"#636efa\", \"#EF553B\", \"#00cc96\", \"#ab63fa\", \"#FFA15A\", \"#19d3f3\", \"#FF6692\", \"#B6E880\", \"#FF97FF\", \"#FECB52\"], \"font\": {\"color\": \"#2a3f5f\"}, \"geo\": {\"bgcolor\": \"white\", \"lakecolor\": \"white\", \"landcolor\": \"#E5ECF6\", \"showlakes\": true, \"showland\": true, \"subunitcolor\": \"white\"}, \"hoverlabel\": {\"align\": \"left\"}, \"hovermode\": \"closest\", \"mapbox\": {\"style\": \"light\"}, \"paper_bgcolor\": \"white\", \"plot_bgcolor\": \"#E5ECF6\", \"polar\": {\"angularaxis\": {\"gridcolor\": \"white\", \"linecolor\": \"white\", \"ticks\": \"\"}, \"bgcolor\": \"#E5ECF6\", \"radialaxis\": {\"gridcolor\": \"white\", \"linecolor\": \"white\", \"ticks\": \"\"}}, \"scene\": {\"xaxis\": {\"backgroundcolor\": \"#E5ECF6\", \"gridcolor\": \"white\", \"gridwidth\": 2, \"linecolor\": \"white\", \"showbackground\": true, \"ticks\": \"\", \"zerolinecolor\": \"white\"}, \"yaxis\": {\"backgroundcolor\": \"#E5ECF6\", \"gridcolor\": \"white\", \"gridwidth\": 2, \"linecolor\": \"white\", \"showbackground\": true, \"ticks\": \"\", \"zerolinecolor\": \"white\"}, \"zaxis\": {\"backgroundcolor\": \"#E5ECF6\", \"gridcolor\": \"white\", \"gridwidth\": 2, \"linecolor\": \"white\", \"showbackground\": true, \"ticks\": \"\", \"zerolinecolor\": \"white\"}}, \"shapedefaults\": {\"line\": {\"color\": \"#2a3f5f\"}}, \"ternary\": {\"aaxis\": {\"gridcolor\": \"white\", \"linecolor\": \"white\", \"ticks\": \"\"}, \"baxis\": {\"gridcolor\": \"white\", \"linecolor\": \"white\", \"ticks\": \"\"}, \"bgcolor\": \"#E5ECF6\", \"caxis\": {\"gridcolor\": \"white\", \"linecolor\": \"white\", \"ticks\": \"\"}}, \"title\": {\"x\": 0.05}, \"xaxis\": {\"automargin\": true, \"gridcolor\": \"white\", \"linecolor\": \"white\", \"ticks\": \"\", \"title\": {\"standoff\": 15}, \"zerolinecolor\": \"white\", \"zerolinewidth\": 2}, \"yaxis\": {\"automargin\": true, \"gridcolor\": \"white\", \"linecolor\": \"white\", \"ticks\": \"\", \"title\": {\"standoff\": 15}, \"zerolinecolor\": \"white\", \"zerolinewidth\": 2}}}, \"title\": {\"text\": \"Cantidad de datos por Provincia - Buenos Aires y CABA - Buenos Aires Costa Atl\\u00e1ntica\"}, \"xaxis\": {\"anchor\": \"y\", \"domain\": [0.0, 1.0], \"title\": {\"text\": \"place_name\"}}, \"yaxis\": {\"anchor\": \"x\", \"domain\": [0.0, 1.0], \"title\": {\"text\": \"counter\"}}},\n",
       "                        {\"responsive\": true}\n",
       "                    ).then(function(){\n",
       "                            \n",
       "var gd = document.getElementById('9dbd5e34-17df-451a-b6b8-21529d5de050');\n",
       "var x = new MutationObserver(function (mutations, observer) {{\n",
       "        var display = window.getComputedStyle(gd).display;\n",
       "        if (!display || display === 'none') {{\n",
       "            console.log([gd, 'removed!']);\n",
       "            Plotly.purge(gd);\n",
       "            observer.disconnect();\n",
       "        }}\n",
       "}});\n",
       "\n",
       "// Listen for the removal of the full notebook cells\n",
       "var notebookContainer = gd.closest('#notebook-container');\n",
       "if (notebookContainer) {{\n",
       "    x.observe(notebookContainer, {childList: true});\n",
       "}}\n",
       "\n",
       "// Listen for the clearing of the current output cell\n",
       "var outputEl = gd.closest('.output');\n",
       "if (outputEl) {{\n",
       "    x.observe(outputEl, {childList: true});\n",
       "}}\n",
       "\n",
       "                        })\n",
       "                };\n",
       "                });\n",
       "            </script>\n",
       "        </div>"
      ]
     },
     "metadata": {},
     "output_type": "display_data"
    }
   ],
   "source": [
    "bsas_costa_barrios_grupo = bsas_costa.groupby(by=['state_name','place_name','nulos'],as_index=False)['counter'].sum()\n",
    "bsas_costa_barrios_grupo['nulos'] = bsas_costa_barrios_grupo['nulos'].astype(str)\n",
    "bsas_costa_barrios_grupo['nulos'] = bsas_costa_barrios_grupo.nulos.str.replace('False','Hay datos')\n",
    "bsas_costa_barrios_grupo['nulos'] = bsas_costa_barrios_grupo.nulos.str.replace('True','No hay datos')\n",
    "fig = px.bar(bsas_costa_barrios_grupo, x=\"place_name\", y=\"counter\",\n",
    "             color='nulos', barmode='group',\n",
    "             height=400, title=\"Cantidad de datos por Provincia - Buenos Aires y CABA - Buenos Aires Costa Atlántica\")\n",
    "fig.show()"
   ]
  },
  {
   "cell_type": "code",
   "execution_count": 114,
   "metadata": {},
   "outputs": [
    {
     "data": {
      "application/vnd.plotly.v1+json": {
       "config": {
        "plotlyServerURL": "https://plotly.com"
       },
       "data": [
        {
         "alignmentgroup": "True",
         "hovertemplate": "nulos=No hay datos<br>place_name=%{x}<br>counter=%{y}<extra></extra>",
         "legendgroup": "No hay datos",
         "marker": {
          "color": "#636efa"
         },
         "name": "No hay datos",
         "offsetgroup": "No hay datos",
         "orientation": "v",
         "showlegend": true,
         "textposition": "auto",
         "type": "bar",
         "x": [
          "Adolfo Alsina",
          "Alto Los Cardales",
          "Azul",
          "Bahía Blanca",
          "Balcarce",
          "Baradero",
          "Batán",
          "Berisso",
          "Brandsen",
          "Buenos Aires Interior",
          "Cabildo",
          "Campana",
          "Capilla del Señor",
          "Capitán Sarmiento",
          "Cardales Country Club",
          "Carlos Casares",
          "Carlos Keen",
          "Carmen de Areco",
          "Chascomús",
          "Chivilcoy",
          "Coronel Brandsen",
          "Coronel Suárez",
          "El Remanso",
          "Empalme Lobos",
          "Ensenada",
          "Exaltación de la Cruz",
          "General Alvarado",
          "General Belgrano",
          "General Las Heras",
          "General Lavalle",
          "General Madariaga",
          "General Pueyrredón",
          "Indio Cuá Country Club",
          "Jeppener",
          "Junín",
          "La Colina Golf & Polo",
          "La Ranita",
          "Laguna de los Padres",
          "Las Chacras",
          "Lima",
          "Lincoln",
          "Lobos",
          "Los Cardales",
          "Los Talas",
          "Luján",
          "Magdalena",
          "Mercedes",
          "Navarro",
          "Olavarría",
          "Open Door",
          "Pedro Luro",
          "Pergamino",
          "Punta Indio",
          "Punta Lara",
          "Ranchos",
          "Roosevelt",
          "Roque Pérez",
          "Salvador María",
          "San Andrés de Giles",
          "San Antonio de Areco",
          "San Miguel del Monte",
          "San Nicolás de los Arroyos",
          "San Pedro",
          "Santa Catalina",
          "Sierra de los Padres",
          "Sierras Bayas",
          "Suipacha",
          "Tandil",
          "Torres",
          "Trenque Lauquen",
          "Tres Arroyos",
          "Verónica",
          "Villa Argüello",
          "Zárate"
         ],
         "xaxis": "x",
         "y": [
          8,
          1,
          9,
          211,
          70,
          3,
          1,
          19,
          11,
          66,
          1,
          17,
          1,
          2,
          2,
          5,
          2,
          11,
          32,
          3,
          15,
          57,
          2,
          2,
          16,
          11,
          4,
          2,
          3,
          1,
          8,
          15,
          1,
          1,
          1,
          1,
          1,
          1,
          1,
          1,
          2,
          35,
          1,
          1,
          153,
          2,
          1,
          1,
          9,
          6,
          1,
          1,
          14,
          5,
          1,
          210,
          2,
          3,
          1,
          9,
          25,
          2,
          36,
          1,
          5,
          1,
          1,
          54,
          1,
          35,
          31,
          1,
          1,
          9
         ],
         "yaxis": "y"
        },
        {
         "alignmentgroup": "True",
         "hovertemplate": "nulos=Hay datos<br>place_name=%{x}<br>counter=%{y}<extra></extra>",
         "legendgroup": "Hay datos",
         "marker": {
          "color": "#EF553B"
         },
         "name": "Hay datos",
         "offsetgroup": "Hay datos",
         "orientation": "v",
         "showlegend": true,
         "textposition": "auto",
         "type": "bar",
         "x": [
          "Alto Los Cardales",
          "Azul",
          "Bahía Blanca",
          "Balcarce",
          "Balneario San Cayetano",
          "Baradero",
          "Barrio Parque Girado",
          "Berisso",
          "Brandsen",
          "Buenos Aires Interior",
          "Campana",
          "Campos de Roca",
          "Capilla del Señor",
          "Capitán Sarmiento",
          "Carmen de Patagones",
          "Chascomús",
          "Chivilcoy",
          "Comandante Nicanor Otamendi",
          "Coronel Brandsen",
          "Coronel Dorrego",
          "Coronel Suárez",
          "El Remanso",
          "Elvira",
          "Empalme Lobos",
          "Ensenada",
          "Exaltación de la Cruz",
          "General Alvear",
          "General Las Heras",
          "General Madariaga",
          "General Pinto",
          "General Pueyrredón",
          "Haras del Sur II",
          "Laprida",
          "Lincoln",
          "Lobería",
          "Lobos",
          "Lomas del Río Luján",
          "Los Cardales",
          "Luján",
          "Mercedes",
          "Naposta",
          "Nueve de Julio",
          "Olivera",
          "Open Door",
          "Pehuajó",
          "Pergamino",
          "Ramallo",
          "Rancagua",
          "Rocha",
          "San Andrés de Giles",
          "San Antonio de Areco",
          "San Miguel del Monte",
          "San Pedro",
          "Santa Trinidad",
          "Sierra de los Padres",
          "Tandil",
          "Tornquist",
          "Torres",
          "Trenque Lauquen",
          "Tres Arroyos",
          "Veinticinco de Mayo",
          "Verónica",
          "Villa Ventana",
          "Villars",
          "Zárate"
         ],
         "xaxis": "x",
         "y": [
          2,
          8,
          269,
          30,
          1,
          3,
          1,
          6,
          1,
          40,
          2,
          3,
          2,
          4,
          1,
          29,
          1,
          5,
          3,
          2,
          25,
          1,
          1,
          3,
          2,
          2,
          1,
          5,
          8,
          1,
          66,
          1,
          1,
          1,
          2,
          37,
          2,
          2,
          213,
          23,
          4,
          1,
          1,
          9,
          5,
          6,
          1,
          1,
          1,
          9,
          6,
          11,
          8,
          1,
          39,
          24,
          2,
          1,
          11,
          49,
          2,
          1,
          1,
          1,
          6
         ],
         "yaxis": "y"
        }
       ],
       "layout": {
        "autosize": true,
        "barmode": "group",
        "legend": {
         "title": {
          "text": "nulos"
         },
         "tracegroupgap": 0
        },
        "template": {
         "data": {
          "bar": [
           {
            "error_x": {
             "color": "#2a3f5f"
            },
            "error_y": {
             "color": "#2a3f5f"
            },
            "marker": {
             "line": {
              "color": "#E5ECF6",
              "width": 0.5
             }
            },
            "type": "bar"
           }
          ],
          "barpolar": [
           {
            "marker": {
             "line": {
              "color": "#E5ECF6",
              "width": 0.5
             }
            },
            "type": "barpolar"
           }
          ],
          "carpet": [
           {
            "aaxis": {
             "endlinecolor": "#2a3f5f",
             "gridcolor": "white",
             "linecolor": "white",
             "minorgridcolor": "white",
             "startlinecolor": "#2a3f5f"
            },
            "baxis": {
             "endlinecolor": "#2a3f5f",
             "gridcolor": "white",
             "linecolor": "white",
             "minorgridcolor": "white",
             "startlinecolor": "#2a3f5f"
            },
            "type": "carpet"
           }
          ],
          "choropleth": [
           {
            "colorbar": {
             "outlinewidth": 0,
             "ticks": ""
            },
            "type": "choropleth"
           }
          ],
          "contour": [
           {
            "colorbar": {
             "outlinewidth": 0,
             "ticks": ""
            },
            "colorscale": [
             [
              0,
              "#0d0887"
             ],
             [
              0.1111111111111111,
              "#46039f"
             ],
             [
              0.2222222222222222,
              "#7201a8"
             ],
             [
              0.3333333333333333,
              "#9c179e"
             ],
             [
              0.4444444444444444,
              "#bd3786"
             ],
             [
              0.5555555555555556,
              "#d8576b"
             ],
             [
              0.6666666666666666,
              "#ed7953"
             ],
             [
              0.7777777777777778,
              "#fb9f3a"
             ],
             [
              0.8888888888888888,
              "#fdca26"
             ],
             [
              1,
              "#f0f921"
             ]
            ],
            "type": "contour"
           }
          ],
          "contourcarpet": [
           {
            "colorbar": {
             "outlinewidth": 0,
             "ticks": ""
            },
            "type": "contourcarpet"
           }
          ],
          "heatmap": [
           {
            "colorbar": {
             "outlinewidth": 0,
             "ticks": ""
            },
            "colorscale": [
             [
              0,
              "#0d0887"
             ],
             [
              0.1111111111111111,
              "#46039f"
             ],
             [
              0.2222222222222222,
              "#7201a8"
             ],
             [
              0.3333333333333333,
              "#9c179e"
             ],
             [
              0.4444444444444444,
              "#bd3786"
             ],
             [
              0.5555555555555556,
              "#d8576b"
             ],
             [
              0.6666666666666666,
              "#ed7953"
             ],
             [
              0.7777777777777778,
              "#fb9f3a"
             ],
             [
              0.8888888888888888,
              "#fdca26"
             ],
             [
              1,
              "#f0f921"
             ]
            ],
            "type": "heatmap"
           }
          ],
          "heatmapgl": [
           {
            "colorbar": {
             "outlinewidth": 0,
             "ticks": ""
            },
            "colorscale": [
             [
              0,
              "#0d0887"
             ],
             [
              0.1111111111111111,
              "#46039f"
             ],
             [
              0.2222222222222222,
              "#7201a8"
             ],
             [
              0.3333333333333333,
              "#9c179e"
             ],
             [
              0.4444444444444444,
              "#bd3786"
             ],
             [
              0.5555555555555556,
              "#d8576b"
             ],
             [
              0.6666666666666666,
              "#ed7953"
             ],
             [
              0.7777777777777778,
              "#fb9f3a"
             ],
             [
              0.8888888888888888,
              "#fdca26"
             ],
             [
              1,
              "#f0f921"
             ]
            ],
            "type": "heatmapgl"
           }
          ],
          "histogram": [
           {
            "marker": {
             "colorbar": {
              "outlinewidth": 0,
              "ticks": ""
             }
            },
            "type": "histogram"
           }
          ],
          "histogram2d": [
           {
            "colorbar": {
             "outlinewidth": 0,
             "ticks": ""
            },
            "colorscale": [
             [
              0,
              "#0d0887"
             ],
             [
              0.1111111111111111,
              "#46039f"
             ],
             [
              0.2222222222222222,
              "#7201a8"
             ],
             [
              0.3333333333333333,
              "#9c179e"
             ],
             [
              0.4444444444444444,
              "#bd3786"
             ],
             [
              0.5555555555555556,
              "#d8576b"
             ],
             [
              0.6666666666666666,
              "#ed7953"
             ],
             [
              0.7777777777777778,
              "#fb9f3a"
             ],
             [
              0.8888888888888888,
              "#fdca26"
             ],
             [
              1,
              "#f0f921"
             ]
            ],
            "type": "histogram2d"
           }
          ],
          "histogram2dcontour": [
           {
            "colorbar": {
             "outlinewidth": 0,
             "ticks": ""
            },
            "colorscale": [
             [
              0,
              "#0d0887"
             ],
             [
              0.1111111111111111,
              "#46039f"
             ],
             [
              0.2222222222222222,
              "#7201a8"
             ],
             [
              0.3333333333333333,
              "#9c179e"
             ],
             [
              0.4444444444444444,
              "#bd3786"
             ],
             [
              0.5555555555555556,
              "#d8576b"
             ],
             [
              0.6666666666666666,
              "#ed7953"
             ],
             [
              0.7777777777777778,
              "#fb9f3a"
             ],
             [
              0.8888888888888888,
              "#fdca26"
             ],
             [
              1,
              "#f0f921"
             ]
            ],
            "type": "histogram2dcontour"
           }
          ],
          "mesh3d": [
           {
            "colorbar": {
             "outlinewidth": 0,
             "ticks": ""
            },
            "type": "mesh3d"
           }
          ],
          "parcoords": [
           {
            "line": {
             "colorbar": {
              "outlinewidth": 0,
              "ticks": ""
             }
            },
            "type": "parcoords"
           }
          ],
          "pie": [
           {
            "automargin": true,
            "type": "pie"
           }
          ],
          "scatter": [
           {
            "marker": {
             "colorbar": {
              "outlinewidth": 0,
              "ticks": ""
             }
            },
            "type": "scatter"
           }
          ],
          "scatter3d": [
           {
            "line": {
             "colorbar": {
              "outlinewidth": 0,
              "ticks": ""
             }
            },
            "marker": {
             "colorbar": {
              "outlinewidth": 0,
              "ticks": ""
             }
            },
            "type": "scatter3d"
           }
          ],
          "scattercarpet": [
           {
            "marker": {
             "colorbar": {
              "outlinewidth": 0,
              "ticks": ""
             }
            },
            "type": "scattercarpet"
           }
          ],
          "scattergeo": [
           {
            "marker": {
             "colorbar": {
              "outlinewidth": 0,
              "ticks": ""
             }
            },
            "type": "scattergeo"
           }
          ],
          "scattergl": [
           {
            "marker": {
             "colorbar": {
              "outlinewidth": 0,
              "ticks": ""
             }
            },
            "type": "scattergl"
           }
          ],
          "scattermapbox": [
           {
            "marker": {
             "colorbar": {
              "outlinewidth": 0,
              "ticks": ""
             }
            },
            "type": "scattermapbox"
           }
          ],
          "scatterpolar": [
           {
            "marker": {
             "colorbar": {
              "outlinewidth": 0,
              "ticks": ""
             }
            },
            "type": "scatterpolar"
           }
          ],
          "scatterpolargl": [
           {
            "marker": {
             "colorbar": {
              "outlinewidth": 0,
              "ticks": ""
             }
            },
            "type": "scatterpolargl"
           }
          ],
          "scatterternary": [
           {
            "marker": {
             "colorbar": {
              "outlinewidth": 0,
              "ticks": ""
             }
            },
            "type": "scatterternary"
           }
          ],
          "surface": [
           {
            "colorbar": {
             "outlinewidth": 0,
             "ticks": ""
            },
            "colorscale": [
             [
              0,
              "#0d0887"
             ],
             [
              0.1111111111111111,
              "#46039f"
             ],
             [
              0.2222222222222222,
              "#7201a8"
             ],
             [
              0.3333333333333333,
              "#9c179e"
             ],
             [
              0.4444444444444444,
              "#bd3786"
             ],
             [
              0.5555555555555556,
              "#d8576b"
             ],
             [
              0.6666666666666666,
              "#ed7953"
             ],
             [
              0.7777777777777778,
              "#fb9f3a"
             ],
             [
              0.8888888888888888,
              "#fdca26"
             ],
             [
              1,
              "#f0f921"
             ]
            ],
            "type": "surface"
           }
          ],
          "table": [
           {
            "cells": {
             "fill": {
              "color": "#EBF0F8"
             },
             "line": {
              "color": "white"
             }
            },
            "header": {
             "fill": {
              "color": "#C8D4E3"
             },
             "line": {
              "color": "white"
             }
            },
            "type": "table"
           }
          ]
         },
         "layout": {
          "annotationdefaults": {
           "arrowcolor": "#2a3f5f",
           "arrowhead": 0,
           "arrowwidth": 1
          },
          "coloraxis": {
           "colorbar": {
            "outlinewidth": 0,
            "ticks": ""
           }
          },
          "colorscale": {
           "diverging": [
            [
             0,
             "#8e0152"
            ],
            [
             0.1,
             "#c51b7d"
            ],
            [
             0.2,
             "#de77ae"
            ],
            [
             0.3,
             "#f1b6da"
            ],
            [
             0.4,
             "#fde0ef"
            ],
            [
             0.5,
             "#f7f7f7"
            ],
            [
             0.6,
             "#e6f5d0"
            ],
            [
             0.7,
             "#b8e186"
            ],
            [
             0.8,
             "#7fbc41"
            ],
            [
             0.9,
             "#4d9221"
            ],
            [
             1,
             "#276419"
            ]
           ],
           "sequential": [
            [
             0,
             "#0d0887"
            ],
            [
             0.1111111111111111,
             "#46039f"
            ],
            [
             0.2222222222222222,
             "#7201a8"
            ],
            [
             0.3333333333333333,
             "#9c179e"
            ],
            [
             0.4444444444444444,
             "#bd3786"
            ],
            [
             0.5555555555555556,
             "#d8576b"
            ],
            [
             0.6666666666666666,
             "#ed7953"
            ],
            [
             0.7777777777777778,
             "#fb9f3a"
            ],
            [
             0.8888888888888888,
             "#fdca26"
            ],
            [
             1,
             "#f0f921"
            ]
           ],
           "sequentialminus": [
            [
             0,
             "#0d0887"
            ],
            [
             0.1111111111111111,
             "#46039f"
            ],
            [
             0.2222222222222222,
             "#7201a8"
            ],
            [
             0.3333333333333333,
             "#9c179e"
            ],
            [
             0.4444444444444444,
             "#bd3786"
            ],
            [
             0.5555555555555556,
             "#d8576b"
            ],
            [
             0.6666666666666666,
             "#ed7953"
            ],
            [
             0.7777777777777778,
             "#fb9f3a"
            ],
            [
             0.8888888888888888,
             "#fdca26"
            ],
            [
             1,
             "#f0f921"
            ]
           ]
          },
          "colorway": [
           "#636efa",
           "#EF553B",
           "#00cc96",
           "#ab63fa",
           "#FFA15A",
           "#19d3f3",
           "#FF6692",
           "#B6E880",
           "#FF97FF",
           "#FECB52"
          ],
          "font": {
           "color": "#2a3f5f"
          },
          "geo": {
           "bgcolor": "white",
           "lakecolor": "white",
           "landcolor": "#E5ECF6",
           "showlakes": true,
           "showland": true,
           "subunitcolor": "white"
          },
          "hoverlabel": {
           "align": "left"
          },
          "hovermode": "closest",
          "mapbox": {
           "style": "light"
          },
          "paper_bgcolor": "white",
          "plot_bgcolor": "#E5ECF6",
          "polar": {
           "angularaxis": {
            "gridcolor": "white",
            "linecolor": "white",
            "ticks": ""
           },
           "bgcolor": "#E5ECF6",
           "radialaxis": {
            "gridcolor": "white",
            "linecolor": "white",
            "ticks": ""
           }
          },
          "scene": {
           "xaxis": {
            "backgroundcolor": "#E5ECF6",
            "gridcolor": "white",
            "gridwidth": 2,
            "linecolor": "white",
            "showbackground": true,
            "ticks": "",
            "zerolinecolor": "white"
           },
           "yaxis": {
            "backgroundcolor": "#E5ECF6",
            "gridcolor": "white",
            "gridwidth": 2,
            "linecolor": "white",
            "showbackground": true,
            "ticks": "",
            "zerolinecolor": "white"
           },
           "zaxis": {
            "backgroundcolor": "#E5ECF6",
            "gridcolor": "white",
            "gridwidth": 2,
            "linecolor": "white",
            "showbackground": true,
            "ticks": "",
            "zerolinecolor": "white"
           }
          },
          "shapedefaults": {
           "line": {
            "color": "#2a3f5f"
           }
          },
          "ternary": {
           "aaxis": {
            "gridcolor": "white",
            "linecolor": "white",
            "ticks": ""
           },
           "baxis": {
            "gridcolor": "white",
            "linecolor": "white",
            "ticks": ""
           },
           "bgcolor": "#E5ECF6",
           "caxis": {
            "gridcolor": "white",
            "linecolor": "white",
            "ticks": ""
           }
          },
          "title": {
           "x": 0.05
          },
          "xaxis": {
           "automargin": true,
           "gridcolor": "white",
           "linecolor": "white",
           "ticks": "",
           "title": {
            "standoff": 15
           },
           "zerolinecolor": "white",
           "zerolinewidth": 2
          },
          "yaxis": {
           "automargin": true,
           "gridcolor": "white",
           "linecolor": "white",
           "ticks": "",
           "title": {
            "standoff": 15
           },
           "zerolinecolor": "white",
           "zerolinewidth": 2
          }
         }
        },
        "title": {
         "text": "Cantidad de datos por Provincia - Buenos Aires y CABA - Buenos Aires Interior"
        },
        "xaxis": {
         "anchor": "y",
         "autorange": true,
         "domain": [
          0,
          1
         ],
         "range": [
          -0.5,
          98.5
         ],
         "title": {
          "text": "place_name"
         },
         "type": "category"
        },
        "yaxis": {
         "anchor": "x",
         "autorange": true,
         "domain": [
          0,
          1
         ],
         "range": [
          0,
          283.1578947368421
         ],
         "title": {
          "text": "counter"
         },
         "type": "linear"
        }
       }
      },
      "image/png": "[encoded data removed]",
      "text/html": [
       "<div>\n",
       "        \n",
       "        \n",
       "            <div id=\"304f7489-7932-43d3-b4bb-2d0acea2583c\" class=\"plotly-graph-div\" style=\"height:400px; width:100%;\"></div>\n",
       "            <script type=\"text/javascript\">\n",
       "                require([\"plotly\"], function(Plotly) {\n",
       "                    window.PLOTLYENV=window.PLOTLYENV || {};\n",
       "                    \n",
       "                if (document.getElementById(\"304f7489-7932-43d3-b4bb-2d0acea2583c\")) {\n",
       "                    Plotly.newPlot(\n",
       "                        '304f7489-7932-43d3-b4bb-2d0acea2583c',\n",
       "                        [{\"alignmentgroup\": \"True\", \"hovertemplate\": \"nulos=No hay datos<br>place_name=%{x}<br>counter=%{y}<extra></extra>\", \"legendgroup\": \"No hay datos\", \"marker\": {\"color\": \"#636efa\"}, \"name\": \"No hay datos\", \"offsetgroup\": \"No hay datos\", \"orientation\": \"v\", \"showlegend\": true, \"textposition\": \"auto\", \"type\": \"bar\", \"x\": [\"Adolfo Alsina\", \"Alto Los Cardales\", \"Azul\", \"Bah\\u00eda Blanca\", \"Balcarce\", \"Baradero\", \"Bat\\u00e1n\", \"Berisso\", \"Brandsen\", \"Buenos Aires Interior\", \"Cabildo\", \"Campana\", \"Capilla del Se\\u00f1or\", \"Capit\\u00e1n Sarmiento\", \"Cardales Country Club\", \"Carlos Casares\", \"Carlos Keen\", \"Carmen de Areco\", \"Chascom\\u00fas\", \"Chivilcoy\", \"Coronel Brandsen\", \"Coronel Su\\u00e1rez\", \"El Remanso\", \"Empalme Lobos\", \"Ensenada\", \"Exaltaci\\u00f3n de la Cruz\", \"General Alvarado\", \"General Belgrano\", \"General Las Heras\", \"General Lavalle\", \"General Madariaga\", \"General Pueyrred\\u00f3n\", \"Indio Cu\\u00e1 Country Club\", \"Jeppener\", \"Jun\\u00edn\", \"La Colina Golf & Polo\", \"La Ranita\", \"Laguna de los Padres\", \"Las Chacras\", \"Lima\", \"Lincoln\", \"Lobos\", \"Los Cardales\", \"Los Talas\", \"Luj\\u00e1n\", \"Magdalena\", \"Mercedes\", \"Navarro\", \"Olavarr\\u00eda\", \"Open Door\", \"Pedro Luro\", \"Pergamino\", \"Punta Indio\", \"Punta Lara\", \"Ranchos\", \"Roosevelt\", \"Roque P\\u00e9rez\", \"Salvador Mar\\u00eda\", \"San Andr\\u00e9s de Giles\", \"San Antonio de Areco\", \"San Miguel del Monte\", \"San Nicol\\u00e1s de los Arroyos\", \"San Pedro\", \"Santa Catalina\", \"Sierra de los Padres\", \"Sierras Bayas\", \"Suipacha\", \"Tandil\", \"Torres\", \"Trenque Lauquen\", \"Tres Arroyos\", \"Ver\\u00f3nica\", \"Villa Arg\\u00fcello\", \"Z\\u00e1rate\"], \"xaxis\": \"x\", \"y\": [8, 1, 9, 211, 70, 3, 1, 19, 11, 66, 1, 17, 1, 2, 2, 5, 2, 11, 32, 3, 15, 57, 2, 2, 16, 11, 4, 2, 3, 1, 8, 15, 1, 1, 1, 1, 1, 1, 1, 1, 2, 35, 1, 1, 153, 2, 1, 1, 9, 6, 1, 1, 14, 5, 1, 210, 2, 3, 1, 9, 25, 2, 36, 1, 5, 1, 1, 54, 1, 35, 31, 1, 1, 9], \"yaxis\": \"y\"}, {\"alignmentgroup\": \"True\", \"hovertemplate\": \"nulos=Hay datos<br>place_name=%{x}<br>counter=%{y}<extra></extra>\", \"legendgroup\": \"Hay datos\", \"marker\": {\"color\": \"#EF553B\"}, \"name\": \"Hay datos\", \"offsetgroup\": \"Hay datos\", \"orientation\": \"v\", \"showlegend\": true, \"textposition\": \"auto\", \"type\": \"bar\", \"x\": [\"Alto Los Cardales\", \"Azul\", \"Bah\\u00eda Blanca\", \"Balcarce\", \"Balneario San Cayetano\", \"Baradero\", \"Barrio Parque Girado\", \"Berisso\", \"Brandsen\", \"Buenos Aires Interior\", \"Campana\", \"Campos de Roca\", \"Capilla del Se\\u00f1or\", \"Capit\\u00e1n Sarmiento\", \"Carmen de Patagones\", \"Chascom\\u00fas\", \"Chivilcoy\", \"Comandante Nicanor Otamendi\", \"Coronel Brandsen\", \"Coronel Dorrego\", \"Coronel Su\\u00e1rez\", \"El Remanso\", \"Elvira\", \"Empalme Lobos\", \"Ensenada\", \"Exaltaci\\u00f3n de la Cruz\", \"General Alvear\", \"General Las Heras\", \"General Madariaga\", \"General Pinto\", \"General Pueyrred\\u00f3n\", \"Haras del Sur II\", \"Laprida\", \"Lincoln\", \"Lober\\u00eda\", \"Lobos\", \"Lomas del R\\u00edo Luj\\u00e1n\", \"Los Cardales\", \"Luj\\u00e1n\", \"Mercedes\", \"Naposta\", \"Nueve de Julio\", \"Olivera\", \"Open Door\", \"Pehuaj\\u00f3\", \"Pergamino\", \"Ramallo\", \"Rancagua\", \"Rocha\", \"San Andr\\u00e9s de Giles\", \"San Antonio de Areco\", \"San Miguel del Monte\", \"San Pedro\", \"Santa Trinidad\", \"Sierra de los Padres\", \"Tandil\", \"Tornquist\", \"Torres\", \"Trenque Lauquen\", \"Tres Arroyos\", \"Veinticinco de Mayo\", \"Ver\\u00f3nica\", \"Villa Ventana\", \"Villars\", \"Z\\u00e1rate\"], \"xaxis\": \"x\", \"y\": [2, 8, 269, 30, 1, 3, 1, 6, 1, 40, 2, 3, 2, 4, 1, 29, 1, 5, 3, 2, 25, 1, 1, 3, 2, 2, 1, 5, 8, 1, 66, 1, 1, 1, 2, 37, 2, 2, 213, 23, 4, 1, 1, 9, 5, 6, 1, 1, 1, 9, 6, 11, 8, 1, 39, 24, 2, 1, 11, 49, 2, 1, 1, 1, 6], \"yaxis\": \"y\"}],\n",
       "                        {\"barmode\": \"group\", \"height\": 400, \"legend\": {\"title\": {\"text\": \"nulos\"}, \"tracegroupgap\": 0}, \"template\": {\"data\": {\"bar\": [{\"error_x\": {\"color\": \"#2a3f5f\"}, \"error_y\": {\"color\": \"#2a3f5f\"}, \"marker\": {\"line\": {\"color\": \"#E5ECF6\", \"width\": 0.5}}, \"type\": \"bar\"}], \"barpolar\": [{\"marker\": {\"line\": {\"color\": \"#E5ECF6\", \"width\": 0.5}}, \"type\": \"barpolar\"}], \"carpet\": [{\"aaxis\": {\"endlinecolor\": \"#2a3f5f\", \"gridcolor\": \"white\", \"linecolor\": \"white\", \"minorgridcolor\": \"white\", \"startlinecolor\": \"#2a3f5f\"}, \"baxis\": {\"endlinecolor\": \"#2a3f5f\", \"gridcolor\": \"white\", \"linecolor\": \"white\", \"minorgridcolor\": \"white\", \"startlinecolor\": \"#2a3f5f\"}, \"type\": \"carpet\"}], \"choropleth\": [{\"colorbar\": {\"outlinewidth\": 0, \"ticks\": \"\"}, \"type\": \"choropleth\"}], \"contour\": [{\"colorbar\": {\"outlinewidth\": 0, \"ticks\": \"\"}, \"colorscale\": [[0.0, \"#0d0887\"], [0.1111111111111111, \"#46039f\"], [0.2222222222222222, \"#7201a8\"], [0.3333333333333333, \"#9c179e\"], [0.4444444444444444, \"#bd3786\"], [0.5555555555555556, \"#d8576b\"], [0.6666666666666666, \"#ed7953\"], [0.7777777777777778, \"#fb9f3a\"], [0.8888888888888888, \"#fdca26\"], [1.0, \"#f0f921\"]], \"type\": \"contour\"}], \"contourcarpet\": [{\"colorbar\": {\"outlinewidth\": 0, \"ticks\": \"\"}, \"type\": \"contourcarpet\"}], \"heatmap\": [{\"colorbar\": {\"outlinewidth\": 0, \"ticks\": \"\"}, \"colorscale\": [[0.0, \"#0d0887\"], [0.1111111111111111, \"#46039f\"], [0.2222222222222222, \"#7201a8\"], [0.3333333333333333, \"#9c179e\"], [0.4444444444444444, \"#bd3786\"], [0.5555555555555556, \"#d8576b\"], [0.6666666666666666, \"#ed7953\"], [0.7777777777777778, \"#fb9f3a\"], [0.8888888888888888, \"#fdca26\"], [1.0, \"#f0f921\"]], \"type\": \"heatmap\"}], \"heatmapgl\": [{\"colorbar\": {\"outlinewidth\": 0, \"ticks\": \"\"}, \"colorscale\": [[0.0, \"#0d0887\"], [0.1111111111111111, \"#46039f\"], [0.2222222222222222, \"#7201a8\"], [0.3333333333333333, \"#9c179e\"], [0.4444444444444444, \"#bd3786\"], [0.5555555555555556, \"#d8576b\"], [0.6666666666666666, \"#ed7953\"], [0.7777777777777778, \"#fb9f3a\"], [0.8888888888888888, \"#fdca26\"], [1.0, \"#f0f921\"]], \"type\": \"heatmapgl\"}], \"histogram\": [{\"marker\": {\"colorbar\": {\"outlinewidth\": 0, \"ticks\": \"\"}}, \"type\": \"histogram\"}], \"histogram2d\": [{\"colorbar\": {\"outlinewidth\": 0, \"ticks\": \"\"}, \"colorscale\": [[0.0, \"#0d0887\"], [0.1111111111111111, \"#46039f\"], [0.2222222222222222, \"#7201a8\"], [0.3333333333333333, \"#9c179e\"], [0.4444444444444444, \"#bd3786\"], [0.5555555555555556, \"#d8576b\"], [0.6666666666666666, \"#ed7953\"], [0.7777777777777778, \"#fb9f3a\"], [0.8888888888888888, \"#fdca26\"], [1.0, \"#f0f921\"]], \"type\": \"histogram2d\"}], \"histogram2dcontour\": [{\"colorbar\": {\"outlinewidth\": 0, \"ticks\": \"\"}, \"colorscale\": [[0.0, \"#0d0887\"], [0.1111111111111111, \"#46039f\"], [0.2222222222222222, \"#7201a8\"], [0.3333333333333333, \"#9c179e\"], [0.4444444444444444, \"#bd3786\"], [0.5555555555555556, \"#d8576b\"], [0.6666666666666666, \"#ed7953\"], [0.7777777777777778, \"#fb9f3a\"], [0.8888888888888888, \"#fdca26\"], [1.0, \"#f0f921\"]], \"type\": \"histogram2dcontour\"}], \"mesh3d\": [{\"colorbar\": {\"outlinewidth\": 0, \"ticks\": \"\"}, \"type\": \"mesh3d\"}], \"parcoords\": [{\"line\": {\"colorbar\": {\"outlinewidth\": 0, \"ticks\": \"\"}}, \"type\": \"parcoords\"}], \"pie\": [{\"automargin\": true, \"type\": \"pie\"}], \"scatter\": [{\"marker\": {\"colorbar\": {\"outlinewidth\": 0, \"ticks\": \"\"}}, \"type\": \"scatter\"}], \"scatter3d\": [{\"line\": {\"colorbar\": {\"outlinewidth\": 0, \"ticks\": \"\"}}, \"marker\": {\"colorbar\": {\"outlinewidth\": 0, \"ticks\": \"\"}}, \"type\": \"scatter3d\"}], \"scattercarpet\": [{\"marker\": {\"colorbar\": {\"outlinewidth\": 0, \"ticks\": \"\"}}, \"type\": \"scattercarpet\"}], \"scattergeo\": [{\"marker\": {\"colorbar\": {\"outlinewidth\": 0, \"ticks\": \"\"}}, \"type\": \"scattergeo\"}], \"scattergl\": [{\"marker\": {\"colorbar\": {\"outlinewidth\": 0, \"ticks\": \"\"}}, \"type\": \"scattergl\"}], \"scattermapbox\": [{\"marker\": {\"colorbar\": {\"outlinewidth\": 0, \"ticks\": \"\"}}, \"type\": \"scattermapbox\"}], \"scatterpolar\": [{\"marker\": {\"colorbar\": {\"outlinewidth\": 0, \"ticks\": \"\"}}, \"type\": \"scatterpolar\"}], \"scatterpolargl\": [{\"marker\": {\"colorbar\": {\"outlinewidth\": 0, \"ticks\": \"\"}}, \"type\": \"scatterpolargl\"}], \"scatterternary\": [{\"marker\": {\"colorbar\": {\"outlinewidth\": 0, \"ticks\": \"\"}}, \"type\": \"scatterternary\"}], \"surface\": [{\"colorbar\": {\"outlinewidth\": 0, \"ticks\": \"\"}, \"colorscale\": [[0.0, \"#0d0887\"], [0.1111111111111111, \"#46039f\"], [0.2222222222222222, \"#7201a8\"], [0.3333333333333333, \"#9c179e\"], [0.4444444444444444, \"#bd3786\"], [0.5555555555555556, \"#d8576b\"], [0.6666666666666666, \"#ed7953\"], [0.7777777777777778, \"#fb9f3a\"], [0.8888888888888888, \"#fdca26\"], [1.0, \"#f0f921\"]], \"type\": \"surface\"}], \"table\": [{\"cells\": {\"fill\": {\"color\": \"#EBF0F8\"}, \"line\": {\"color\": \"white\"}}, \"header\": {\"fill\": {\"color\": \"#C8D4E3\"}, \"line\": {\"color\": \"white\"}}, \"type\": \"table\"}]}, \"layout\": {\"annotationdefaults\": {\"arrowcolor\": \"#2a3f5f\", \"arrowhead\": 0, \"arrowwidth\": 1}, \"coloraxis\": {\"colorbar\": {\"outlinewidth\": 0, \"ticks\": \"\"}}, \"colorscale\": {\"diverging\": [[0, \"#8e0152\"], [0.1, \"#c51b7d\"], [0.2, \"#de77ae\"], [0.3, \"#f1b6da\"], [0.4, \"#fde0ef\"], [0.5, \"#f7f7f7\"], [0.6, \"#e6f5d0\"], [0.7, \"#b8e186\"], [0.8, \"#7fbc41\"], [0.9, \"#4d9221\"], [1, \"#276419\"]], \"sequential\": [[0.0, \"#0d0887\"], [0.1111111111111111, \"#46039f\"], [0.2222222222222222, \"#7201a8\"], [0.3333333333333333, \"#9c179e\"], [0.4444444444444444, \"#bd3786\"], [0.5555555555555556, \"#d8576b\"], [0.6666666666666666, \"#ed7953\"], [0.7777777777777778, \"#fb9f3a\"], [0.8888888888888888, \"#fdca26\"], [1.0, \"#f0f921\"]], \"sequentialminus\": [[0.0, \"#0d0887\"], [0.1111111111111111, \"#46039f\"], [0.2222222222222222, \"#7201a8\"], [0.3333333333333333, \"#9c179e\"], [0.4444444444444444, \"#bd3786\"], [0.5555555555555556, \"#d8576b\"], [0.6666666666666666, \"#ed7953\"], [0.7777777777777778, \"#fb9f3a\"], [0.8888888888888888, \"#fdca26\"], [1.0, \"#f0f921\"]]}, \"colorway\": [\"#636efa\", \"#EF553B\", \"#00cc96\", \"#ab63fa\", \"#FFA15A\", \"#19d3f3\", \"#FF6692\", \"#B6E880\", \"#FF97FF\", \"#FECB52\"], \"font\": {\"color\": \"#2a3f5f\"}, \"geo\": {\"bgcolor\": \"white\", \"lakecolor\": \"white\", \"landcolor\": \"#E5ECF6\", \"showlakes\": true, \"showland\": true, \"subunitcolor\": \"white\"}, \"hoverlabel\": {\"align\": \"left\"}, \"hovermode\": \"closest\", \"mapbox\": {\"style\": \"light\"}, \"paper_bgcolor\": \"white\", \"plot_bgcolor\": \"#E5ECF6\", \"polar\": {\"angularaxis\": {\"gridcolor\": \"white\", \"linecolor\": \"white\", \"ticks\": \"\"}, \"bgcolor\": \"#E5ECF6\", \"radialaxis\": {\"gridcolor\": \"white\", \"linecolor\": \"white\", \"ticks\": \"\"}}, \"scene\": {\"xaxis\": {\"backgroundcolor\": \"#E5ECF6\", \"gridcolor\": \"white\", \"gridwidth\": 2, \"linecolor\": \"white\", \"showbackground\": true, \"ticks\": \"\", \"zerolinecolor\": \"white\"}, \"yaxis\": {\"backgroundcolor\": \"#E5ECF6\", \"gridcolor\": \"white\", \"gridwidth\": 2, \"linecolor\": \"white\", \"showbackground\": true, \"ticks\": \"\", \"zerolinecolor\": \"white\"}, \"zaxis\": {\"backgroundcolor\": \"#E5ECF6\", \"gridcolor\": \"white\", \"gridwidth\": 2, \"linecolor\": \"white\", \"showbackground\": true, \"ticks\": \"\", \"zerolinecolor\": \"white\"}}, \"shapedefaults\": {\"line\": {\"color\": \"#2a3f5f\"}}, \"ternary\": {\"aaxis\": {\"gridcolor\": \"white\", \"linecolor\": \"white\", \"ticks\": \"\"}, \"baxis\": {\"gridcolor\": \"white\", \"linecolor\": \"white\", \"ticks\": \"\"}, \"bgcolor\": \"#E5ECF6\", \"caxis\": {\"gridcolor\": \"white\", \"linecolor\": \"white\", \"ticks\": \"\"}}, \"title\": {\"x\": 0.05}, \"xaxis\": {\"automargin\": true, \"gridcolor\": \"white\", \"linecolor\": \"white\", \"ticks\": \"\", \"title\": {\"standoff\": 15}, \"zerolinecolor\": \"white\", \"zerolinewidth\": 2}, \"yaxis\": {\"automargin\": true, \"gridcolor\": \"white\", \"linecolor\": \"white\", \"ticks\": \"\", \"title\": {\"standoff\": 15}, \"zerolinecolor\": \"white\", \"zerolinewidth\": 2}}}, \"title\": {\"text\": \"Cantidad de datos por Provincia - Buenos Aires y CABA - Buenos Aires Interior\"}, \"xaxis\": {\"anchor\": \"y\", \"domain\": [0.0, 1.0], \"title\": {\"text\": \"place_name\"}}, \"yaxis\": {\"anchor\": \"x\", \"domain\": [0.0, 1.0], \"title\": {\"text\": \"counter\"}}},\n",
       "                        {\"responsive\": true}\n",
       "                    ).then(function(){\n",
       "                            \n",
       "var gd = document.getElementById('304f7489-7932-43d3-b4bb-2d0acea2583c');\n",
       "var x = new MutationObserver(function (mutations, observer) {{\n",
       "        var display = window.getComputedStyle(gd).display;\n",
       "        if (!display || display === 'none') {{\n",
       "            console.log([gd, 'removed!']);\n",
       "            Plotly.purge(gd);\n",
       "            observer.disconnect();\n",
       "        }}\n",
       "}});\n",
       "\n",
       "// Listen for the removal of the full notebook cells\n",
       "var notebookContainer = gd.closest('#notebook-container');\n",
       "if (notebookContainer) {{\n",
       "    x.observe(notebookContainer, {childList: true});\n",
       "}}\n",
       "\n",
       "// Listen for the clearing of the current output cell\n",
       "var outputEl = gd.closest('.output');\n",
       "if (outputEl) {{\n",
       "    x.observe(outputEl, {childList: true});\n",
       "}}\n",
       "\n",
       "                        })\n",
       "                };\n",
       "                });\n",
       "            </script>\n",
       "        </div>"
      ]
     },
     "metadata": {},
     "output_type": "display_data"
    }
   ],
   "source": [
    "bsas_interior_barrios_grupo = bsas_interior.groupby(by=['state_name','place_name','nulos'],as_index=False)['counter'].sum()\n",
    "bsas_interior_barrios_grupo['nulos'] = bsas_interior_barrios_grupo['nulos'].astype(str)\n",
    "bsas_interior_barrios_grupo['nulos'] = bsas_interior_barrios_grupo.nulos.str.replace('False','Hay datos')\n",
    "bsas_interior_barrios_grupo['nulos'] = bsas_interior_barrios_grupo.nulos.str.replace('True','No hay datos')\n",
    "fig = px.bar(bsas_interior_barrios_grupo, x=\"place_name\", y=\"counter\",\n",
    "             color='nulos', barmode='group',\n",
    "             height=400, title=\"Cantidad de datos por Provincia - Buenos Aires y CABA - Buenos Aires Interior\")\n",
    "fig.show()"
   ]
  },
  {
   "cell_type": "markdown",
   "metadata": {},
   "source": [
    " # Detección\n",
    "Habiendo definido que la variable mas preponderante para el analisis es la de precio por metro cuadrado en dólares y que la pérdida de datos en dicha columna asciende al 43% intentaremos disminuir el porcentaje de datos perdidos recalculando este dato por medio de la relacion establecida con las columnas price_aprox_usd (%  16.83 datos perdidos), surface_total_in_m2 (datos perdidos % 32.44) y para cuando esta no este disponible, la rellenaremos con surface_covered_in_m2 (datos perdidos % 16.42).\n",
    "\n",
    "\n"
   ]
  },
  {
   "cell_type": "code",
   "execution_count": 188,
   "metadata": {},
   "outputs": [
    {
     "name": "stdout",
     "output_type": "stream",
     "text": [
      "count     23434.000000\n",
      "mean       3116.930444\n",
      "std        3681.030087\n",
      "min          13.797467\n",
      "25%        1966.062830\n",
      "50%        2468.750000\n",
      "75%        3076.923077\n",
      "max      206333.333333\n",
      "Name: price_usd_per_m2, dtype: float64\n",
      "count     6173.000000\n",
      "mean      1525.356899\n",
      "std       1119.507894\n",
      "min         19.314341\n",
      "25%        996.015936\n",
      "50%       1492.063492\n",
      "75%       1939.393939\n",
      "max      23140.764706\n",
      "Name: price_usd_per_m2, dtype: float64\n",
      "count     6350.000000\n",
      "mean      1574.633123\n",
      "std        916.209264\n",
      "min          1.000000\n",
      "25%       1000.000000\n",
      "50%       1617.647059\n",
      "75%       2051.282051\n",
      "max      21897.058824\n",
      "Name: price_usd_per_m2, dtype: float64\n",
      "count    17405.000000\n",
      "mean      1860.779924\n",
      "std       1894.265775\n",
      "min          4.166667\n",
      "25%       1122.778675\n",
      "50%       1666.666667\n",
      "75%       2329.411765\n",
      "max      48296.222222\n",
      "Name: price_usd_per_m2, dtype: float64\n",
      "count     4623.000000\n",
      "mean      1349.904779\n",
      "std       1636.372787\n",
      "min          7.000000\n",
      "25%        733.514493\n",
      "50%       1260.000000\n",
      "75%       1700.000000\n",
      "max      80000.000000\n",
      "Name: price_usd_per_m2, dtype: float64\n",
      "count    1011.000000\n",
      "mean      959.950891\n",
      "std       707.412120\n",
      "min         2.072029\n",
      "25%       320.000000\n",
      "50%       866.666667\n",
      "75%      1500.000000\n",
      "max      4166.666667\n",
      "Name: price_usd_per_m2, dtype: float64\n"
     ]
    }
   ],
   "source": [
    "#Desidir si debemos dropear o estimar con algun indicador estadistico los valores faltantes\n",
    "#Seleccion de variables que consideramos importantes para la regresión\n",
    "#Limpiar esas variables. \n",
    "#Ver si agregamos los boxplot por cada muestra o grupo, grafico comparativo de datos iniciales y datos analizados\n",
    "\n",
    "print(caba['price_usd_per_m2'].describe())\n",
    "print(bsas_sur['price_usd_per_m2'].describe())\n",
    "print(bsas_costa['price_usd_per_m2'].describe())\n",
    "print(bsas_norte['price_usd_per_m2'].describe())\n",
    "print(bsas_oeste['price_usd_per_m2'].describe())\n",
    "print(bsas_interior['price_usd_per_m2'].describe())\n"
   ]
  },
  {
   "cell_type": "code",
   "execution_count": null,
   "metadata": {},
   "outputs": [],
   "source": []
  }
 ],
 "metadata": {
  "kernelspec": {
   "display_name": "Python 3",
   "language": "python",
   "name": "python3"
  },
  "language_info": {
   "codemirror_mode": {
    "name": "ipython",
    "version": 3
   },
   "file_extension": ".py",
   "mimetype": "text/x-python",
   "name": "python",
   "nbconvert_exporter": "python",
   "pygments_lexer": "ipython3",
   "version": "3.7.9"
  }
 },
 "nbformat": 4,
 "nbformat_minor": 4
}
